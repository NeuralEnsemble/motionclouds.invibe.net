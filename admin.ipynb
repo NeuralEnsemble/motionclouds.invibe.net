{
 "metadata": {
  "name": "",
  "signature": "sha256:7528b05dfb94b40727613ba332b416cbef915833db1817c1314d58ba51294a4c"
 },
 "nbformat": 3,
 "nbformat_minor": 0,
 "worksheets": [
  {
   "cells": [
    {
     "cell_type": "markdown",
     "metadata": {},
     "source": [
      "creating a new page\n",
      "-------------------"
     ]
    },
    {
     "cell_type": "code",
     "collapsed": false,
     "input": [
      "from nikola import utils\n",
      "title = u\"Motion Clouds utilities\"\n",
      "tags_list = ['python', 'motionclouds']\n",
      "tags = ', '.join(tags_list)\n",
      "\n",
      "print tags\n",
      "!nikola new_page -f ipynb -t \"{title}\" #--tags=\"{tags}\""
     ],
     "language": "python",
     "metadata": {},
     "outputs": [
      {
       "output_type": "stream",
       "stream": "stdout",
       "text": [
        "python, motionclouds\n"
       ]
      },
      {
       "output_type": "stream",
       "stream": "stdout",
       "text": [
        "Creating New Page\r\n",
        "-----------------\r\n",
        "\r\n",
        "Title: Motion Clouds utilities\r\n",
        "Scanning posts..."
       ]
      },
      {
       "output_type": "stream",
       "stream": "stdout",
       "text": [
        "Traceback (most recent call last):\r\n",
        "  File \"/usr/local/lib/python2.7/site-packages/doit/doit_cmd.py\", line 120, in run\r\n",
        "    return command.parse_execute(args)\r\n",
        "  File \"/usr/local/lib/python2.7/site-packages/doit/cmd_base.py\", line 78, in parse_execute\r\n",
        "    return self.execute(params, args)\r\n",
        "  File \"/usr/local/lib/python2.7/site-packages/nikola/plugin_categories.py\", line 102, in execute\r\n",
        "    self._execute(options, args)\r\n",
        "  File \"/usr/local/lib/python2.7/site-packages/nikola/plugins/command/new_page.py\", line 87, in _execute\r\n",
        "    return p.execute(options, args)\r\n",
        "  File \"/usr/local/lib/python2.7/site-packages/nikola/plugin_categories.py\", line 102, in execute\r\n",
        "    self._execute(options, args)\r\n",
        "  File \"/usr/local/lib/python2.7/site-packages/nikola/plugins/command/new_post.py\", line 291, in _execute\r\n",
        "    self.site.scan_posts()\r\n",
        "  File \"/usr/local/lib/python2.7/site-packages/nikola/nikola.py\", line 1191, in scan_posts\r\n",
        "    self.get_compiler(base_path)\r\n",
        "  File \"/usr/local/lib/python2.7/site-packages/nikola/post.py\", line 167, in __init__\r\n",
        "    source_path))\r\n",
        "OSError: You must set a title (found 'testing_utilities'), a slug (found 'testing_utilities') and a date (found 'None')! [in file posts/testing_utilities.ipynb]\r\n"
       ]
      }
     ],
     "prompt_number": 4
    },
    {
     "cell_type": "code",
     "collapsed": false,
     "input": [],
     "language": "python",
     "metadata": {},
     "outputs": []
    }
   ],
   "metadata": {}
  }
 ]
}