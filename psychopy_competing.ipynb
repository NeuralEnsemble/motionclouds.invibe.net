{
 "metadata": {
  "name": ""
 },
 "nbformat": 3,
 "nbformat_minor": 0,
 "worksheets": [
  {
   "cells": [
    {
     "cell_type": "heading",
     "level": 1,
     "metadata": {},
     "source": [
      "Analysis of a discrimination experiment"
     ]
    },
    {
     "cell_type": "markdown",
     "metadata": {},
     "source": [
      "In the ``psychopy_competition.py`` script, we implemented an experiment to test whether one could discriminate the dominating motionin a sum of two motion cloudsin opposite directions."
     ]
    },
    {
     "cell_type": "markdown",
     "metadata": {},
     "source": [
      "Herein, we analyse the data that was collected over different sessions and try to draw some conclusions."
     ]
    },
    {
     "cell_type": "heading",
     "level": 2,
     "metadata": {},
     "source": [
      "The experiment"
     ]
    },
    {
     "cell_type": "code",
     "collapsed": false,
     "input": [
      "#%pycat psychopy_competing.py"
     ],
     "language": "python",
     "metadata": {},
     "outputs": [],
     "prompt_number": 1
    },
    {
     "cell_type": "heading",
     "level": 2,
     "metadata": {},
     "source": [
      "Analysis, version 1"
     ]
    },
    {
     "cell_type": "markdown",
     "metadata": {},
     "source": [
      "In a first version of the experiment, we only stored the results in a numpy file:"
     ]
    },
    {
     "cell_type": "code",
     "collapsed": false,
     "input": [
      "!ls  data/*npy"
     ],
     "language": "python",
     "metadata": {},
     "outputs": [
      {
       "output_type": "stream",
       "stream": "stdout",
       "text": [
        "data/competing_v1_bruno_Dec_14_1210.npy  data/competing_v1_lup_Dec_14_1201.npy\t   data/discriminating_lup_Jan_23_1401.npy  data/discriminating_lup_Jan_24_0919.npy\r\n",
        "data/competing_v1_lup_Dec_12_1003.npy\t data/competing_v1_meduz_Dec_14_1204.npy   data/discriminating_lup_Jan_23_1735.npy  data/discriminating_lup_Jan_24_0931.npy\r\n",
        "data/competing_v1_lup_Dec_12_1013.npy\t data/discriminating_john_Jan_23_1515.npy  data/discriminating_lup_Jan_24_0914.npy  data/discriminating_lup_Jan_24_0937.npy\r\n"
       ]
      }
     ],
     "prompt_number": 2
    },
    {
     "cell_type": "code",
     "collapsed": false,
     "input": [
      "import glob\n",
      "fig = plt.figure()\n",
      "ax = fig.add_subplot(111)\n",
      "for fn in glob.glob('data/competing_v1_*npy'):\n",
      "    results = np.load(fn)\n",
      "    print fn, results.shape\n",
      "    ax.scatter(results[1, :], results[0, :])\n",
      "ax.axis([0., 1., -1.1, 1.1])\n",
      "ax.set_xlabel('contrast')"
     ],
     "language": "python",
     "metadata": {},
     "outputs": [
      {
       "output_type": "stream",
       "stream": "stdout",
       "text": [
        "data/competing_v1_bruno_Dec_14_1210.npy (2, 50)\n",
        "data/competing_v1_lup_Dec_12_1003.npy (2, 50)\n",
        "data/competing_v1_lup_Dec_12_1013.npy (2, 50)\n",
        "data/competing_v1_lup_Dec_14_1201.npy (2, 10)\n",
        "data/competing_v1_meduz_Dec_14_1204.npy (2, 50)\n"
       ]
      },
      {
       "metadata": {},
       "output_type": "pyout",
       "prompt_number": 3,
       "text": [
        "<matplotlib.text.Text at 0x1122553d0>"
       ]
      },
      {
       "metadata": {},
       "output_type": "display_data",
       "png": "[encoded data removed]",
       "text": [
        "<matplotlib.figure.Figure at 0x11223fe90>"
       ]
      }
     ],
     "prompt_number": 3
    },
    {
     "cell_type": "code",
     "collapsed": false,
     "input": [],
     "language": "python",
     "metadata": {},
     "outputs": [],
     "prompt_number": 3
    },
    {
     "cell_type": "code",
     "collapsed": false,
     "input": [],
     "language": "python",
     "metadata": {},
     "outputs": [],
     "prompt_number": 3
    }
   ],
   "metadata": {}
  }
 ]
}