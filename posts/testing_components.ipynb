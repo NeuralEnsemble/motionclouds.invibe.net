{
 "metadata": {
  "name": "",
  "signature": "sha256:b88e530b6747d98f4f4346dcf9c8c705ad4aeedf0d991482340b4b89eca962c2"
 },
 "nbformat": 3,
 "nbformat_minor": 0,
 "worksheets": [
  {
   "cells": [
    {
     "cell_type": "heading",
     "level": 1,
     "metadata": {},
     "source": [
      "Motion Clouds: testing components of the envelope"
     ]
    },
    {
     "cell_type": "code",
     "collapsed": false,
     "input": [
      "import numpy as np\n",
      "np.set_printoptions(precision=3, suppress=True)\n",
      "import pylab\n",
      "import matplotlib.pyplot as plt\n",
      "%matplotlib inline"
     ],
     "language": "python",
     "metadata": {},
     "outputs": [],
     "prompt_number": 1
    },
    {
     "cell_type": "code",
     "collapsed": false,
     "input": [
      "import os, sys\n",
      "sys.path.append('..')\n",
      "import MotionClouds as mc\n",
      "fx, fy, ft = mc.get_grids(mc.N_X, mc.N_Y, mc.N_frame)\n",
      "#mc.recompute = True\n",
      "mc.notebook = True"
     ],
     "language": "python",
     "metadata": {},
     "outputs": [],
     "prompt_number": 2
    },
    {
     "cell_type": "heading",
     "level": 2,
     "metadata": {},
     "source": [
      "Testing the color"
     ]
    },
    {
     "cell_type": "code",
     "collapsed": false,
     "input": [
      "%bookmark root"
     ],
     "language": "python",
     "metadata": {},
     "outputs": [],
     "prompt_number": 3
    },
    {
     "cell_type": "code",
     "collapsed": false,
     "input": [
      "%cd .."
     ],
     "language": "python",
     "metadata": {},
     "outputs": [
      {
       "output_type": "stream",
       "stream": "stdout",
       "text": [
        "/Users/lolo/Dropbox/science/MotionClouds\n"
       ]
      }
     ],
     "prompt_number": 4
    },
    {
     "cell_type": "code",
     "collapsed": false,
     "input": [
      "%run test_color.py"
     ],
     "language": "python",
     "metadata": {},
     "outputs": [
      {
       "output_type": "stream",
       "stream": "stderr",
       "text": [
        "\r",
        "[  0 %] elapsed[sec]: 0.012"
       ]
      },
      {
       "output_type": "stream",
       "stream": "stderr",
       "text": [
        "\r",
        "[  0 %] elapsed[sec]: 0.012 | ETA[sec]: 1.573 "
       ]
      },
      {
       "output_type": "stream",
       "stream": "stderr",
       "text": [
        "\r",
        "[  1 %] elapsed[sec]: 0.019 | ETA[sec]: 1.216 "
       ]
      },
      {
       "output_type": "stream",
       "stream": "stderr",
       "text": [
        "\r",
        "[  2 %] elapsed[sec]: 0.023 | ETA[sec]: 0.943 "
       ]
      },
      {
       "output_type": "stream",
       "stream": "stderr",
       "text": [
        "\r",
        "[  3 %] elapsed[sec]: 0.026 | ETA[sec]: 0.803 "
       ]
      },
      {
       "output_type": "stream",
       "stream": "stderr",
       "text": [
        "\r",
        "[  3 %] elapsed[sec]: 0.030 | ETA[sec]: 0.745 "
       ]
      },
      {
       "output_type": "stream",
       "stream": "stderr",
       "text": [
        "\r",
        "[  4 %] elapsed[sec]: 0.035 | ETA[sec]: 0.703 "
       ]
      },
      {
       "output_type": "stream",
       "stream": "stderr",
       "text": [
        "\r",
        "[  5 %] elapsed[sec]: 0.039 | ETA[sec]: 0.670 "
       ]
      },
      {
       "output_type": "stream",
       "stream": "stderr",
       "text": [
        "\r",
        "[  6 %] elapsed[sec]: 0.042 | ETA[sec]: 0.634 "
       ]
      },
      {
       "output_type": "stream",
       "stream": "stderr",
       "text": [
        "\r",
        "[  7 %] elapsed[sec]: 0.045 | ETA[sec]: 0.599 "
       ]
      },
      {
       "output_type": "stream",
       "stream": "stderr",
       "text": [
        "\r",
        "[  7 %] elapsed[sec]: 0.049 | ETA[sec]: 0.580 "
       ]
      },
      {
       "output_type": "stream",
       "stream": "stderr",
       "text": [
        "\r",
        "[  8 %] elapsed[sec]: 0.054 | ETA[sec]: 0.570 "
       ]
      },
      {
       "output_type": "stream",
       "stream": "stderr",
       "text": [
        "\r",
        "[  9 %] elapsed[sec]: 0.057 | ETA[sec]: 0.556 "
       ]
      },
      {
       "output_type": "stream",
       "stream": "stderr",
       "text": [
        "\r",
        "[ 10 %] elapsed[sec]: 0.062 | ETA[sec]: 0.549 "
       ]
      },
      {
       "output_type": "stream",
       "stream": "stderr",
       "text": [
        "\r",
        "[ 10 %] elapsed[sec]: 0.066 | ETA[sec]: 0.540 "
       ]
      },
      {
       "output_type": "stream",
       "stream": "stderr",
       "text": [
        "\r",
        "[ 11 %] elapsed[sec]: 0.069 | ETA[sec]: 0.523 "
       ]
      },
      {
       "output_type": "stream",
       "stream": "stderr",
       "text": [
        "\r",
        "[ 12 %] elapsed[sec]: 0.073 | ETA[sec]: 0.508 "
       ]
      },
      {
       "output_type": "stream",
       "stream": "stderr",
       "text": [
        "\r",
        "[ 13 %] elapsed[sec]: 0.076 | ETA[sec]: 0.496 "
       ]
      },
      {
       "output_type": "stream",
       "stream": "stderr",
       "text": [
        "\r",
        "[ 14 %] elapsed[sec]: 0.079 | ETA[sec]: 0.482 "
       ]
      },
      {
       "output_type": "stream",
       "stream": "stderr",
       "text": [
        "\r",
        "[ 14 %] elapsed[sec]: 0.082 | ETA[sec]: 0.471 "
       ]
      },
      {
       "output_type": "stream",
       "stream": "stderr",
       "text": [
        "\r",
        "[ 15 %] elapsed[sec]: 0.086 | ETA[sec]: 0.464 "
       ]
      },
      {
       "output_type": "stream",
       "stream": "stderr",
       "text": [
        "\r",
        "[ 16 %] elapsed[sec]: 0.090 | ETA[sec]: 0.457 "
       ]
      },
      {
       "output_type": "stream",
       "stream": "stderr",
       "text": [
        "\r",
        "[ 17 %] elapsed[sec]: 0.094 | ETA[sec]: 0.452 "
       ]
      },
      {
       "output_type": "stream",
       "stream": "stderr",
       "text": [
        "\r",
        "[ 17 %] elapsed[sec]: 0.098 | ETA[sec]: 0.447 "
       ]
      },
      {
       "output_type": "stream",
       "stream": "stderr",
       "text": [
        "\r",
        "[ 18 %] elapsed[sec]: 0.102 | ETA[sec]: 0.440 "
       ]
      },
      {
       "output_type": "stream",
       "stream": "stderr",
       "text": [
        "\r",
        "[ 19 %] elapsed[sec]: 0.105 | ETA[sec]: 0.432 "
       ]
      },
      {
       "output_type": "stream",
       "stream": "stderr",
       "text": [
        "\r",
        "[ 20 %] elapsed[sec]: 0.113 | ETA[sec]: 0.442 "
       ]
      },
      {
       "output_type": "stream",
       "stream": "stderr",
       "text": [
        "\r",
        "[ 21 %] elapsed[sec]: 0.116 | ETA[sec]: 0.436 "
       ]
      },
      {
       "output_type": "stream",
       "stream": "stderr",
       "text": [
        "\r",
        "[ 21 %] elapsed[sec]: 0.120 | ETA[sec]: 0.429 "
       ]
      },
      {
       "output_type": "stream",
       "stream": "stderr",
       "text": [
        "\r",
        "[ 22 %] elapsed[sec]: 0.124 | ETA[sec]: 0.425 "
       ]
      },
      {
       "output_type": "stream",
       "stream": "stderr",
       "text": [
        "\r",
        "[ 23 %] elapsed[sec]: 0.129 | ETA[sec]: 0.421 "
       ]
      },
      {
       "output_type": "stream",
       "stream": "stderr",
       "text": [
        "\r",
        "[ 24 %] elapsed[sec]: 0.133 | ETA[sec]: 0.417 "
       ]
      },
      {
       "output_type": "stream",
       "stream": "stderr",
       "text": [
        "\r",
        "[ 25 %] elapsed[sec]: 0.138 | ETA[sec]: 0.413 "
       ]
      },
      {
       "output_type": "stream",
       "stream": "stderr",
       "text": [
        "\r",
        "[ 25 %] elapsed[sec]: 0.142 | ETA[sec]: 0.408 "
       ]
      },
      {
       "output_type": "stream",
       "stream": "stderr",
       "text": [
        "\r",
        "[ 26 %] elapsed[sec]: 0.145 | ETA[sec]: 0.400 "
       ]
      },
      {
       "output_type": "stream",
       "stream": "stderr",
       "text": [
        "\r",
        "[ 27 %] elapsed[sec]: 0.148 | ETA[sec]: 0.393 "
       ]
      },
      {
       "output_type": "stream",
       "stream": "stderr",
       "text": [
        "\r",
        "[ 28 %] elapsed[sec]: 0.151 | ETA[sec]: 0.386 "
       ]
      },
      {
       "output_type": "stream",
       "stream": "stderr",
       "text": [
        "\r",
        "[ 28 %] elapsed[sec]: 0.154 | ETA[sec]: 0.379 "
       ]
      },
      {
       "output_type": "stream",
       "stream": "stderr",
       "text": [
        "\r",
        "[ 29 %] elapsed[sec]: 0.158 | ETA[sec]: 0.374 "
       ]
      },
      {
       "output_type": "stream",
       "stream": "stderr",
       "text": [
        "\r",
        "[ 30 %] elapsed[sec]: 0.163 | ETA[sec]: 0.371 "
       ]
      },
      {
       "output_type": "stream",
       "stream": "stderr",
       "text": [
        "\r",
        "[ 31 %] elapsed[sec]: 0.167 | ETA[sec]: 0.368 "
       ]
      },
      {
       "output_type": "stream",
       "stream": "stderr",
       "text": [
        "\r",
        "[ 32 %] elapsed[sec]: 0.171 | ETA[sec]: 0.364 "
       ]
      },
      {
       "output_type": "stream",
       "stream": "stderr",
       "text": [
        "\r",
        "[ 32 %] elapsed[sec]: 0.175 | ETA[sec]: 0.358 "
       ]
      },
      {
       "output_type": "stream",
       "stream": "stderr",
       "text": [
        "\r",
        "[ 33 %] elapsed[sec]: 0.178 | ETA[sec]: 0.353 "
       ]
      },
      {
       "output_type": "stream",
       "stream": "stderr",
       "text": [
        "\r",
        "[ 34 %] elapsed[sec]: 0.182 | ETA[sec]: 0.347 "
       ]
      },
      {
       "output_type": "stream",
       "stream": "stderr",
       "text": [
        "\r",
        "[ 35 %] elapsed[sec]: 0.186 | ETA[sec]: 0.343 "
       ]
      },
      {
       "output_type": "stream",
       "stream": "stderr",
       "text": [
        "\r",
        "[ 35 %] elapsed[sec]: 0.189 | ETA[sec]: 0.337 "
       ]
      },
      {
       "output_type": "stream",
       "stream": "stderr",
       "text": [
        "\r",
        "[ 36 %] elapsed[sec]: 0.193 | ETA[sec]: 0.332 "
       ]
      },
      {
       "output_type": "stream",
       "stream": "stderr",
       "text": [
        "\r",
        "[ 37 %] elapsed[sec]: 0.196 | ETA[sec]: 0.327 "
       ]
      },
      {
       "output_type": "stream",
       "stream": "stderr",
       "text": [
        "\r",
        "[ 38 %] elapsed[sec]: 0.200 | ETA[sec]: 0.322 "
       ]
      },
      {
       "output_type": "stream",
       "stream": "stderr",
       "text": [
        "\r",
        "[ 39 %] elapsed[sec]: 0.203 | ETA[sec]: 0.317 "
       ]
      },
      {
       "output_type": "stream",
       "stream": "stderr",
       "text": [
        "\r",
        "[ 39 %] elapsed[sec]: 0.207 | ETA[sec]: 0.312 "
       ]
      },
      {
       "output_type": "stream",
       "stream": "stderr",
       "text": [
        "\r",
        "[ 40 %] elapsed[sec]: 0.210 | ETA[sec]: 0.308 "
       ]
      },
      {
       "output_type": "stream",
       "stream": "stderr",
       "text": [
        "\r",
        "[ 41 %] elapsed[sec]: 0.214 | ETA[sec]: 0.303 "
       ]
      },
      {
       "output_type": "stream",
       "stream": "stderr",
       "text": [
        "\r",
        "[ 42 %] elapsed[sec]: 0.218 | ETA[sec]: 0.299 "
       ]
      },
      {
       "output_type": "stream",
       "stream": "stderr",
       "text": [
        "\r",
        "[ 42 %] elapsed[sec]: 0.221 | ETA[sec]: 0.294 "
       ]
      },
      {
       "output_type": "stream",
       "stream": "stderr",
       "text": [
        "\r",
        "[ 43 %] elapsed[sec]: 0.224 | ETA[sec]: 0.289 "
       ]
      },
      {
       "output_type": "stream",
       "stream": "stderr",
       "text": [
        "\r",
        "[ 44 %] elapsed[sec]: 0.228 | ETA[sec]: 0.284 "
       ]
      },
      {
       "output_type": "stream",
       "stream": "stderr",
       "text": [
        "\r",
        "[ 45 %] elapsed[sec]: 0.231 | ETA[sec]: 0.279 "
       ]
      },
      {
       "output_type": "stream",
       "stream": "stderr",
       "text": [
        "\r",
        "[ 46 %] elapsed[sec]: 0.235 | ETA[sec]: 0.274 "
       ]
      },
      {
       "output_type": "stream",
       "stream": "stderr",
       "text": [
        "\r",
        "[ 46 %] elapsed[sec]: 0.238 | ETA[sec]: 0.270 "
       ]
      },
      {
       "output_type": "stream",
       "stream": "stderr",
       "text": [
        "\r",
        "[ 47 %] elapsed[sec]: 0.242 | ETA[sec]: 0.266 "
       ]
      },
      {
       "output_type": "stream",
       "stream": "stderr",
       "text": [
        "\r",
        "[ 48 %] elapsed[sec]: 0.245 | ETA[sec]: 0.261 "
       ]
      },
      {
       "output_type": "stream",
       "stream": "stderr",
       "text": [
        "\r",
        "[ 49 %] elapsed[sec]: 0.248 | ETA[sec]: 0.256 "
       ]
      },
      {
       "output_type": "stream",
       "stream": "stderr",
       "text": [
        "\r",
        "[ 50 %] elapsed[sec]: 0.252 | ETA[sec]: 0.252 "
       ]
      },
      {
       "output_type": "stream",
       "stream": "stderr",
       "text": [
        "\r",
        "[ 50 %] elapsed[sec]: 0.255 | ETA[sec]: 0.247 "
       ]
      },
      {
       "output_type": "stream",
       "stream": "stderr",
       "text": [
        "\r",
        "[ 51 %] elapsed[sec]: 0.258 | ETA[sec]: 0.242 "
       ]
      },
      {
       "output_type": "stream",
       "stream": "stderr",
       "text": [
        "\r",
        "[ 52 %] elapsed[sec]: 0.261 | ETA[sec]: 0.238 "
       ]
      },
      {
       "output_type": "stream",
       "stream": "stderr",
       "text": [
        "\r",
        "[ 53 %] elapsed[sec]: 0.264 | ETA[sec]: 0.233 "
       ]
      },
      {
       "output_type": "stream",
       "stream": "stderr",
       "text": [
        "\r",
        "[ 53 %] elapsed[sec]: 0.267 | ETA[sec]: 0.228 "
       ]
      },
      {
       "output_type": "stream",
       "stream": "stderr",
       "text": [
        "\r",
        "[ 54 %] elapsed[sec]: 0.270 | ETA[sec]: 0.224 "
       ]
      },
      {
       "output_type": "stream",
       "stream": "stderr",
       "text": [
        "\r",
        "[ 55 %] elapsed[sec]: 0.273 | ETA[sec]: 0.219 "
       ]
      },
      {
       "output_type": "stream",
       "stream": "stderr",
       "text": [
        "\r",
        "[ 56 %] elapsed[sec]: 0.277 | ETA[sec]: 0.215 "
       ]
      },
      {
       "output_type": "stream",
       "stream": "stderr",
       "text": [
        "\r",
        "[ 57 %] elapsed[sec]: 0.280 | ETA[sec]: 0.211 "
       ]
      },
      {
       "output_type": "stream",
       "stream": "stderr",
       "text": [
        "\r",
        "[ 57 %] elapsed[sec]: 0.283 | ETA[sec]: 0.207 "
       ]
      },
      {
       "output_type": "stream",
       "stream": "stderr",
       "text": [
        "\r",
        "[ 58 %] elapsed[sec]: 0.288 | ETA[sec]: 0.203 "
       ]
      },
      {
       "output_type": "stream",
       "stream": "stderr",
       "text": [
        "\r",
        "[ 59 %] elapsed[sec]: 0.292 | ETA[sec]: 0.200 "
       ]
      },
      {
       "output_type": "stream",
       "stream": "stderr",
       "text": [
        "\r",
        "[ 60 %] elapsed[sec]: 0.296 | ETA[sec]: 0.196 "
       ]
      },
      {
       "output_type": "stream",
       "stream": "stderr",
       "text": [
        "\r",
        "[ 60 %] elapsed[sec]: 0.300 | ETA[sec]: 0.192 "
       ]
      },
      {
       "output_type": "stream",
       "stream": "stderr",
       "text": [
        "\r",
        "[ 61 %] elapsed[sec]: 0.303 | ETA[sec]: 0.188 "
       ]
      },
      {
       "output_type": "stream",
       "stream": "stderr",
       "text": [
        "\r",
        "[ 62 %] elapsed[sec]: 0.306 | ETA[sec]: 0.184 "
       ]
      },
      {
       "output_type": "stream",
       "stream": "stderr",
       "text": [
        "\r",
        "[ 63 %] elapsed[sec]: 0.310 | ETA[sec]: 0.180 "
       ]
      },
      {
       "output_type": "stream",
       "stream": "stderr",
       "text": [
        "\r",
        "[ 64 %] elapsed[sec]: 0.313 | ETA[sec]: 0.176 "
       ]
      },
      {
       "output_type": "stream",
       "stream": "stderr",
       "text": [
        "\r",
        "[ 64 %] elapsed[sec]: 0.317 | ETA[sec]: 0.172 "
       ]
      },
      {
       "output_type": "stream",
       "stream": "stderr",
       "text": [
        "\r",
        "[ 65 %] elapsed[sec]: 0.321 | ETA[sec]: 0.168 "
       ]
      },
      {
       "output_type": "stream",
       "stream": "stderr",
       "text": [
        "\r",
        "[ 66 %] elapsed[sec]: 0.324 | ETA[sec]: 0.164 "
       ]
      },
      {
       "output_type": "stream",
       "stream": "stderr",
       "text": [
        "\r",
        "[ 67 %] elapsed[sec]: 0.327 | ETA[sec]: 0.160 "
       ]
      },
      {
       "output_type": "stream",
       "stream": "stderr",
       "text": [
        "\r",
        "[ 67 %] elapsed[sec]: 0.330 | ETA[sec]: 0.156 "
       ]
      },
      {
       "output_type": "stream",
       "stream": "stderr",
       "text": [
        "\r",
        "[ 68 %] elapsed[sec]: 0.334 | ETA[sec]: 0.152 "
       ]
      },
      {
       "output_type": "stream",
       "stream": "stderr",
       "text": [
        "\r",
        "[ 69 %] elapsed[sec]: 0.339 | ETA[sec]: 0.148 "
       ]
      },
      {
       "output_type": "stream",
       "stream": "stderr",
       "text": [
        "\r",
        "[ 70 %] elapsed[sec]: 0.343 | ETA[sec]: 0.145 "
       ]
      },
      {
       "output_type": "stream",
       "stream": "stderr",
       "text": [
        "\r",
        "[ 71 %] elapsed[sec]: 0.347 | ETA[sec]: 0.141 "
       ]
      },
      {
       "output_type": "stream",
       "stream": "stderr",
       "text": [
        "\r",
        "[ 71 %] elapsed[sec]: 0.351 | ETA[sec]: 0.137 "
       ]
      },
      {
       "output_type": "stream",
       "stream": "stderr",
       "text": [
        "\r",
        "[ 72 %] elapsed[sec]: 0.354 | ETA[sec]: 0.133 "
       ]
      },
      {
       "output_type": "stream",
       "stream": "stderr",
       "text": [
        "\r",
        "[ 73 %] elapsed[sec]: 0.357 | ETA[sec]: 0.129 "
       ]
      },
      {
       "output_type": "stream",
       "stream": "stderr",
       "text": [
        "\r",
        "[ 74 %] elapsed[sec]: 0.361 | ETA[sec]: 0.125 "
       ]
      },
      {
       "output_type": "stream",
       "stream": "stderr",
       "text": [
        "\r",
        "[ 75 %] elapsed[sec]: 0.365 | ETA[sec]: 0.122 "
       ]
      },
      {
       "output_type": "stream",
       "stream": "stderr",
       "text": [
        "\r",
        "[ 75 %] elapsed[sec]: 0.369 | ETA[sec]: 0.118 "
       ]
      },
      {
       "output_type": "stream",
       "stream": "stderr",
       "text": [
        "\r",
        "[ 76 %] elapsed[sec]: 0.373 | ETA[sec]: 0.114 "
       ]
      },
      {
       "output_type": "stream",
       "stream": "stderr",
       "text": [
        "\r",
        "[ 77 %] elapsed[sec]: 0.377 | ETA[sec]: 0.110 "
       ]
      },
      {
       "output_type": "stream",
       "stream": "stderr",
       "text": [
        "\r",
        "[ 78 %] elapsed[sec]: 0.381 | ETA[sec]: 0.107 "
       ]
      },
      {
       "output_type": "stream",
       "stream": "stderr",
       "text": [
        "\r",
        "[ 78 %] elapsed[sec]: 0.385 | ETA[sec]: 0.103 "
       ]
      },
      {
       "output_type": "stream",
       "stream": "stderr",
       "text": [
        "\r",
        "[ 79 %] elapsed[sec]: 0.388 | ETA[sec]: 0.099 "
       ]
      },
      {
       "output_type": "stream",
       "stream": "stderr",
       "text": [
        "\r",
        "[ 80 %] elapsed[sec]: 0.392 | ETA[sec]: 0.095 "
       ]
      },
      {
       "output_type": "stream",
       "stream": "stderr",
       "text": [
        "\r",
        "[ 81 %] elapsed[sec]: 0.396 | ETA[sec]: 0.091 "
       ]
      },
      {
       "output_type": "stream",
       "stream": "stderr",
       "text": [
        "\r",
        "[ 82 %] elapsed[sec]: 0.400 | ETA[sec]: 0.088 "
       ]
      },
      {
       "output_type": "stream",
       "stream": "stderr",
       "text": [
        "\r",
        "[ 82 %] elapsed[sec]: 0.405 | ETA[sec]: 0.084 "
       ]
      },
      {
       "output_type": "stream",
       "stream": "stderr",
       "text": [
        "\r",
        "[ 83 %] elapsed[sec]: 0.409 | ETA[sec]: 0.080 "
       ]
      },
      {
       "output_type": "stream",
       "stream": "stderr",
       "text": [
        "\r",
        "[ 84 %] elapsed[sec]: 0.412 | ETA[sec]: 0.076 "
       ]
      },
      {
       "output_type": "stream",
       "stream": "stderr",
       "text": [
        "\r",
        "[ 85 %] elapsed[sec]: 0.417 | ETA[sec]: 0.073 "
       ]
      },
      {
       "output_type": "stream",
       "stream": "stderr",
       "text": [
        "\r",
        "[ 85 %] elapsed[sec]: 0.420 | ETA[sec]: 0.069 "
       ]
      },
      {
       "output_type": "stream",
       "stream": "stderr",
       "text": [
        "\r",
        "[ 86 %] elapsed[sec]: 0.425 | ETA[sec]: 0.065 "
       ]
      },
      {
       "output_type": "stream",
       "stream": "stderr",
       "text": [
        "\r",
        "[ 87 %] elapsed[sec]: 0.428 | ETA[sec]: 0.061 "
       ]
      },
      {
       "output_type": "stream",
       "stream": "stderr",
       "text": [
        "\r",
        "[ 88 %] elapsed[sec]: 0.431 | ETA[sec]: 0.057 "
       ]
      },
      {
       "output_type": "stream",
       "stream": "stderr",
       "text": [
        "\r",
        "[ 89 %] elapsed[sec]: 0.434 | ETA[sec]: 0.053 "
       ]
      },
      {
       "output_type": "stream",
       "stream": "stderr",
       "text": [
        "\r",
        "[ 89 %] elapsed[sec]: 0.438 | ETA[sec]: 0.049 "
       ]
      },
      {
       "output_type": "stream",
       "stream": "stderr",
       "text": [
        "\r",
        "[ 90 %] elapsed[sec]: 0.441 | ETA[sec]: 0.046 "
       ]
      },
      {
       "output_type": "stream",
       "stream": "stderr",
       "text": [
        "\r",
        "[ 91 %] elapsed[sec]: 0.445 | ETA[sec]: 0.042 "
       ]
      },
      {
       "output_type": "stream",
       "stream": "stderr",
       "text": [
        "\r",
        "[ 92 %] elapsed[sec]: 0.449 | ETA[sec]: 0.038 "
       ]
      },
      {
       "output_type": "stream",
       "stream": "stderr",
       "text": [
        "\r",
        "[ 92 %] elapsed[sec]: 0.453 | ETA[sec]: 0.034 "
       ]
      },
      {
       "output_type": "stream",
       "stream": "stderr",
       "text": [
        "\r",
        "[ 93 %] elapsed[sec]: 0.456 | ETA[sec]: 0.030 "
       ]
      },
      {
       "output_type": "stream",
       "stream": "stderr",
       "text": [
        "\r",
        "[ 94 %] elapsed[sec]: 0.459 | ETA[sec]: 0.027 "
       ]
      },
      {
       "output_type": "stream",
       "stream": "stderr",
       "text": [
        "\r",
        "[ 95 %] elapsed[sec]: 0.462 | ETA[sec]: 0.023 "
       ]
      },
      {
       "output_type": "stream",
       "stream": "stderr",
       "text": [
        "\r",
        "[ 96 %] elapsed[sec]: 0.465 | ETA[sec]: 0.019 "
       ]
      },
      {
       "output_type": "stream",
       "stream": "stderr",
       "text": [
        "\r",
        "[ 96 %] elapsed[sec]: 0.468 | ETA[sec]: 0.015 "
       ]
      },
      {
       "output_type": "stream",
       "stream": "stderr",
       "text": [
        "\r",
        "[ 97 %] elapsed[sec]: 0.471 | ETA[sec]: 0.011 "
       ]
      },
      {
       "output_type": "stream",
       "stream": "stderr",
       "text": [
        "\r",
        "[ 98 %] elapsed[sec]: 0.474 | ETA[sec]: 0.008 "
       ]
      },
      {
       "output_type": "stream",
       "stream": "stderr",
       "text": [
        "\r",
        "[ 99 %] elapsed[sec]: 0.478 | ETA[sec]: 0.004 "
       ]
      },
      {
       "output_type": "stream",
       "stream": "stderr",
       "text": [
        "\r",
        "[100 %] elapsed[sec]: 0.481"
       ]
      },
      {
       "output_type": "stream",
       "stream": "stdout",
       "text": [
        "Saving sequence results/color-contrast-0_1.webm\n",
        "Title: \n",
        "                      Started: 09/24/2014 16:10:02\n",
        "                      Finished: 09/24/2014 16:10:02\n",
        "                      Total time elapsed: 0.481 sec\n",
        "                      CPU %: 101.500000\n",
        "                      Memory %: 3.286600"
       ]
      },
      {
       "output_type": "stream",
       "stream": "stderr",
       "text": [
        "\n",
        "Total time elapsed: 0.481 sec\n",
        "\r",
        "[  0 %]"
       ]
      },
      {
       "output_type": "stream",
       "stream": "stderr",
       "text": [
        " elapsed[sec]: 0.001"
       ]
      },
      {
       "output_type": "stream",
       "stream": "stdout",
       "text": [
        "\n",
        "Saving sequence results/color-contrast-0_25.webm"
       ]
      },
      {
       "output_type": "stream",
       "stream": "stderr",
       "text": [
        "\r",
        "[  0 %] elapsed[sec]: 0.001 | ETA[sec]: 0.172 "
       ]
      },
      {
       "output_type": "stream",
       "stream": "stderr",
       "text": [
        "\r",
        "[  1 %] elapsed[sec]: 0.005 | ETA[sec]: 0.300 "
       ]
      },
      {
       "output_type": "stream",
       "stream": "stderr",
       "text": [
        "\r",
        "[  2 %] elapsed[sec]: 0.008 | ETA[sec]: 0.319 "
       ]
      },
      {
       "output_type": "stream",
       "stream": "stderr",
       "text": [
        "\r",
        "[  3 %] elapsed[sec]: 0.010 | ETA[sec]: 0.326 "
       ]
      },
      {
       "output_type": "stream",
       "stream": "stderr",
       "text": [
        "\r",
        "[  3 %] elapsed[sec]: 0.013 | ETA[sec]: 0.314 "
       ]
      },
      {
       "output_type": "stream",
       "stream": "stderr",
       "text": [
        "\r",
        "[  4 %] elapsed[sec]: 0.015 | ETA[sec]: 0.313 "
       ]
      },
      {
       "output_type": "stream",
       "stream": "stderr",
       "text": [
        "\r",
        "[  5 %] elapsed[sec]: 0.018 | ETA[sec]: 0.305 "
       ]
      },
      {
       "output_type": "stream",
       "stream": "stderr",
       "text": [
        "\r",
        "[  6 %] elapsed[sec]: 0.020 | ETA[sec]: 0.303 "
       ]
      },
      {
       "output_type": "stream",
       "stream": "stderr",
       "text": [
        "\r",
        "[  7 %] elapsed[sec]: 0.023 | ETA[sec]: 0.302 "
       ]
      },
      {
       "output_type": "stream",
       "stream": "stderr",
       "text": [
        "\r",
        "[  7 %] elapsed[sec]: 0.026 | ETA[sec]: 0.302 "
       ]
      },
      {
       "output_type": "stream",
       "stream": "stderr",
       "text": [
        "\r",
        "[  8 %] elapsed[sec]: 0.028 | ETA[sec]: 0.300 "
       ]
      },
      {
       "output_type": "stream",
       "stream": "stderr",
       "text": [
        "\r",
        "[  9 %] elapsed[sec]: 0.030 | ETA[sec]: 0.294 "
       ]
      },
      {
       "output_type": "stream",
       "stream": "stderr",
       "text": [
        "\r",
        "[ 10 %] elapsed[sec]: 0.033 | ETA[sec]: 0.289 "
       ]
      },
      {
       "output_type": "stream",
       "stream": "stderr",
       "text": [
        "\r",
        "[ 10 %] elapsed[sec]: 0.035 | ETA[sec]: 0.287 "
       ]
      },
      {
       "output_type": "stream",
       "stream": "stderr",
       "text": [
        "\r",
        "[ 11 %] elapsed[sec]: 0.038 | ETA[sec]: 0.285 "
       ]
      },
      {
       "output_type": "stream",
       "stream": "stderr",
       "text": [
        "\r",
        "[ 12 %] elapsed[sec]: 0.041 | ETA[sec]: 0.284 "
       ]
      },
      {
       "output_type": "stream",
       "stream": "stderr",
       "text": [
        "\r",
        "[ 13 %] elapsed[sec]: 0.043 | ETA[sec]: 0.278 "
       ]
      },
      {
       "output_type": "stream",
       "stream": "stderr",
       "text": [
        "\r",
        "[ 14 %] elapsed[sec]: 0.045 | ETA[sec]: 0.275 "
       ]
      },
      {
       "output_type": "stream",
       "stream": "stderr",
       "text": [
        "\r",
        "[ 14 %] elapsed[sec]: 0.047 | ETA[sec]: 0.271 "
       ]
      },
      {
       "output_type": "stream",
       "stream": "stderr",
       "text": [
        "\r",
        "[ 15 %] elapsed[sec]: 0.049 | ETA[sec]: 0.266 "
       ]
      },
      {
       "output_type": "stream",
       "stream": "stderr",
       "text": [
        "\r",
        "[ 16 %] elapsed[sec]: 0.051 | ETA[sec]: 0.259 "
       ]
      },
      {
       "output_type": "stream",
       "stream": "stderr",
       "text": [
        "\r",
        "[ 17 %] elapsed[sec]: 0.053 | ETA[sec]: 0.254 "
       ]
      },
      {
       "output_type": "stream",
       "stream": "stderr",
       "text": [
        "\r",
        "[ 17 %] elapsed[sec]: 0.055 | ETA[sec]: 0.250 "
       ]
      },
      {
       "output_type": "stream",
       "stream": "stderr",
       "text": [
        "\r",
        "[ 18 %] elapsed[sec]: 0.056 | ETA[sec]: 0.244 "
       ]
      },
      {
       "output_type": "stream",
       "stream": "stderr",
       "text": [
        "\r",
        "[ 19 %] elapsed[sec]: 0.058 | ETA[sec]: 0.240 "
       ]
      },
      {
       "output_type": "stream",
       "stream": "stderr",
       "text": [
        "\r",
        "[ 20 %] elapsed[sec]: 0.060 | ETA[sec]: 0.236 "
       ]
      },
      {
       "output_type": "stream",
       "stream": "stderr",
       "text": [
        "\r",
        "[ 21 %] elapsed[sec]: 0.062 | ETA[sec]: 0.232 "
       ]
      },
      {
       "output_type": "stream",
       "stream": "stderr",
       "text": [
        "\r",
        "[ 21 %] elapsed[sec]: 0.065 | ETA[sec]: 0.231 "
       ]
      },
      {
       "output_type": "stream",
       "stream": "stderr",
       "text": [
        "\r",
        "[ 22 %] elapsed[sec]: 0.067 | ETA[sec]: 0.230 "
       ]
      },
      {
       "output_type": "stream",
       "stream": "stderr",
       "text": [
        "\r",
        "[ 23 %] elapsed[sec]: 0.070 | ETA[sec]: 0.230 "
       ]
      },
      {
       "output_type": "stream",
       "stream": "stderr",
       "text": [
        "\r",
        "[ 24 %] elapsed[sec]: 0.073 | ETA[sec]: 0.227 "
       ]
      },
      {
       "output_type": "stream",
       "stream": "stderr",
       "text": [
        "\r",
        "[ 25 %] elapsed[sec]: 0.074 | ETA[sec]: 0.223 "
       ]
      },
      {
       "output_type": "stream",
       "stream": "stderr",
       "text": [
        "\r",
        "[ 25 %] elapsed[sec]: 0.076 | ETA[sec]: 0.219 "
       ]
      },
      {
       "output_type": "stream",
       "stream": "stderr",
       "text": [
        "\r",
        "[ 26 %] elapsed[sec]: 0.078 | ETA[sec]: 0.215 "
       ]
      },
      {
       "output_type": "stream",
       "stream": "stderr",
       "text": [
        "\r",
        "[ 27 %] elapsed[sec]: 0.080 | ETA[sec]: 0.213 "
       ]
      },
      {
       "output_type": "stream",
       "stream": "stderr",
       "text": [
        "\r",
        "[ 28 %] elapsed[sec]: 0.083 | ETA[sec]: 0.211 "
       ]
      },
      {
       "output_type": "stream",
       "stream": "stderr",
       "text": [
        "\r",
        "[ 28 %] elapsed[sec]: 0.085 | ETA[sec]: 0.209 "
       ]
      },
      {
       "output_type": "stream",
       "stream": "stderr",
       "text": [
        "\r",
        "[ 29 %] elapsed[sec]: 0.087 | ETA[sec]: 0.206 "
       ]
      },
      {
       "output_type": "stream",
       "stream": "stderr",
       "text": [
        "\r",
        "[ 30 %] elapsed[sec]: 0.089 | ETA[sec]: 0.202 "
       ]
      },
      {
       "output_type": "stream",
       "stream": "stderr",
       "text": [
        "\r",
        "[ 31 %] elapsed[sec]: 0.090 | ETA[sec]: 0.199 "
       ]
      },
      {
       "output_type": "stream",
       "stream": "stderr",
       "text": [
        "\r",
        "[ 32 %] elapsed[sec]: 0.092 | ETA[sec]: 0.196 "
       ]
      },
      {
       "output_type": "stream",
       "stream": "stderr",
       "text": [
        "\r",
        "[ 32 %] elapsed[sec]: 0.095 | ETA[sec]: 0.194 "
       ]
      },
      {
       "output_type": "stream",
       "stream": "stderr",
       "text": [
        "\r",
        "[ 33 %] elapsed[sec]: 0.097 | ETA[sec]: 0.191 "
       ]
      },
      {
       "output_type": "stream",
       "stream": "stderr",
       "text": [
        "\r",
        "[ 34 %] elapsed[sec]: 0.099 | ETA[sec]: 0.189 "
       ]
      },
      {
       "output_type": "stream",
       "stream": "stderr",
       "text": [
        "\r",
        "[ 35 %] elapsed[sec]: 0.100 | ETA[sec]: 0.185 "
       ]
      },
      {
       "output_type": "stream",
       "stream": "stderr",
       "text": [
        "\r",
        "[ 35 %] elapsed[sec]: 0.102 | ETA[sec]: 0.183 "
       ]
      },
      {
       "output_type": "stream",
       "stream": "stderr",
       "text": [
        "\r",
        "[ 36 %] elapsed[sec]: 0.104 | ETA[sec]: 0.180 "
       ]
      },
      {
       "output_type": "stream",
       "stream": "stderr",
       "text": [
        "\r",
        "[ 37 %] elapsed[sec]: 0.106 | ETA[sec]: 0.177 "
       ]
      },
      {
       "output_type": "stream",
       "stream": "stderr",
       "text": [
        "\r",
        "[ 38 %] elapsed[sec]: 0.108 | ETA[sec]: 0.174 "
       ]
      },
      {
       "output_type": "stream",
       "stream": "stderr",
       "text": [
        "\r",
        "[ 39 %] elapsed[sec]: 0.110 | ETA[sec]: 0.172 "
       ]
      },
      {
       "output_type": "stream",
       "stream": "stderr",
       "text": [
        "\r",
        "[ 39 %] elapsed[sec]: 0.112 | ETA[sec]: 0.169 "
       ]
      },
      {
       "output_type": "stream",
       "stream": "stderr",
       "text": [
        "\r",
        "[ 40 %] elapsed[sec]: 0.114 | ETA[sec]: 0.167 "
       ]
      },
      {
       "output_type": "stream",
       "stream": "stderr",
       "text": [
        "\r",
        "[ 41 %] elapsed[sec]: 0.117 | ETA[sec]: 0.165 "
       ]
      },
      {
       "output_type": "stream",
       "stream": "stderr",
       "text": [
        "\r",
        "[ 42 %] elapsed[sec]: 0.120 | ETA[sec]: 0.164 "
       ]
      },
      {
       "output_type": "stream",
       "stream": "stderr",
       "text": [
        "\r",
        "[ 42 %] elapsed[sec]: 0.122 | ETA[sec]: 0.162 "
       ]
      },
      {
       "output_type": "stream",
       "stream": "stderr",
       "text": [
        "\r",
        "[ 43 %] elapsed[sec]: 0.125 | ETA[sec]: 0.161 "
       ]
      },
      {
       "output_type": "stream",
       "stream": "stderr",
       "text": [
        "\r",
        "[ 44 %] elapsed[sec]: 0.128 | ETA[sec]: 0.159 "
       ]
      },
      {
       "output_type": "stream",
       "stream": "stderr",
       "text": [
        "\r",
        "[ 45 %] elapsed[sec]: 0.130 | ETA[sec]: 0.157 "
       ]
      },
      {
       "output_type": "stream",
       "stream": "stderr",
       "text": [
        "\r",
        "[ 46 %] elapsed[sec]: 0.132 | ETA[sec]: 0.155 "
       ]
      },
      {
       "output_type": "stream",
       "stream": "stderr",
       "text": [
        "\r",
        "[ 46 %] elapsed[sec]: 0.134 | ETA[sec]: 0.152 "
       ]
      },
      {
       "output_type": "stream",
       "stream": "stderr",
       "text": [
        "\r",
        "[ 47 %] elapsed[sec]: 0.136 | ETA[sec]: 0.150 "
       ]
      },
      {
       "output_type": "stream",
       "stream": "stderr",
       "text": [
        "\r",
        "[ 48 %] elapsed[sec]: 0.138 | ETA[sec]: 0.147 "
       ]
      },
      {
       "output_type": "stream",
       "stream": "stderr",
       "text": [
        "\r",
        "[ 49 %] elapsed[sec]: 0.140 | ETA[sec]: 0.144 "
       ]
      },
      {
       "output_type": "stream",
       "stream": "stderr",
       "text": [
        "\r",
        "[ 50 %] elapsed[sec]: 0.143 | ETA[sec]: 0.143 "
       ]
      },
      {
       "output_type": "stream",
       "stream": "stderr",
       "text": [
        "\r",
        "[ 50 %] elapsed[sec]: 0.145 | ETA[sec]: 0.140 "
       ]
      },
      {
       "output_type": "stream",
       "stream": "stderr",
       "text": [
        "\r",
        "[ 51 %] elapsed[sec]: 0.147 | ETA[sec]: 0.138 "
       ]
      },
      {
       "output_type": "stream",
       "stream": "stderr",
       "text": [
        "\r",
        "[ 52 %] elapsed[sec]: 0.149 | ETA[sec]: 0.136 "
       ]
      },
      {
       "output_type": "stream",
       "stream": "stderr",
       "text": [
        "\r",
        "[ 53 %] elapsed[sec]: 0.152 | ETA[sec]: 0.134 "
       ]
      },
      {
       "output_type": "stream",
       "stream": "stderr",
       "text": [
        "\r",
        "[ 53 %] elapsed[sec]: 0.154 | ETA[sec]: 0.132 "
       ]
      },
      {
       "output_type": "stream",
       "stream": "stderr",
       "text": [
        "\r",
        "[ 54 %] elapsed[sec]: 0.157 | ETA[sec]: 0.130 "
       ]
      },
      {
       "output_type": "stream",
       "stream": "stderr",
       "text": [
        "\r",
        "[ 55 %] elapsed[sec]: 0.159 | ETA[sec]: 0.127 "
       ]
      },
      {
       "output_type": "stream",
       "stream": "stderr",
       "text": [
        "\r",
        "[ 56 %] elapsed[sec]: 0.161 | ETA[sec]: 0.125 "
       ]
      },
      {
       "output_type": "stream",
       "stream": "stderr",
       "text": [
        "\r",
        "[ 57 %] elapsed[sec]: 0.162 | ETA[sec]: 0.122 "
       ]
      },
      {
       "output_type": "stream",
       "stream": "stderr",
       "text": [
        "\r",
        "[ 57 %] elapsed[sec]: 0.164 | ETA[sec]: 0.120 "
       ]
      },
      {
       "output_type": "stream",
       "stream": "stderr",
       "text": [
        "\r",
        "[ 58 %] elapsed[sec]: 0.166 | ETA[sec]: 0.118 "
       ]
      },
      {
       "output_type": "stream",
       "stream": "stderr",
       "text": [
        "\r",
        "[ 59 %] elapsed[sec]: 0.168 | ETA[sec]: 0.115 "
       ]
      },
      {
       "output_type": "stream",
       "stream": "stderr",
       "text": [
        "\r",
        "[ 60 %] elapsed[sec]: 0.170 | ETA[sec]: 0.113 "
       ]
      },
      {
       "output_type": "stream",
       "stream": "stderr",
       "text": [
        "\r",
        "[ 60 %] elapsed[sec]: 0.172 | ETA[sec]: 0.110 "
       ]
      },
      {
       "output_type": "stream",
       "stream": "stderr",
       "text": [
        "\r",
        "[ 61 %] elapsed[sec]: 0.173 | ETA[sec]: 0.108 "
       ]
      },
      {
       "output_type": "stream",
       "stream": "stderr",
       "text": [
        "\r",
        "[ 62 %] elapsed[sec]: 0.175 | ETA[sec]: 0.105 "
       ]
      },
      {
       "output_type": "stream",
       "stream": "stderr",
       "text": [
        "\r",
        "[ 63 %] elapsed[sec]: 0.177 | ETA[sec]: 0.103 "
       ]
      },
      {
       "output_type": "stream",
       "stream": "stderr",
       "text": [
        "\r",
        "[ 64 %] elapsed[sec]: 0.179 | ETA[sec]: 0.101 "
       ]
      },
      {
       "output_type": "stream",
       "stream": "stderr",
       "text": [
        "\r",
        "[ 64 %] elapsed[sec]: 0.181 | ETA[sec]: 0.098 "
       ]
      },
      {
       "output_type": "stream",
       "stream": "stderr",
       "text": [
        "\r",
        "[ 65 %] elapsed[sec]: 0.183 | ETA[sec]: 0.096 "
       ]
      },
      {
       "output_type": "stream",
       "stream": "stderr",
       "text": [
        "\r",
        "[ 66 %] elapsed[sec]: 0.186 | ETA[sec]: 0.094 "
       ]
      },
      {
       "output_type": "stream",
       "stream": "stderr",
       "text": [
        "\r",
        "[ 67 %] elapsed[sec]: 0.189 | ETA[sec]: 0.092 "
       ]
      },
      {
       "output_type": "stream",
       "stream": "stderr",
       "text": [
        "\r",
        "[ 67 %] elapsed[sec]: 0.191 | ETA[sec]: 0.090 "
       ]
      },
      {
       "output_type": "stream",
       "stream": "stderr",
       "text": [
        "\r",
        "[ 68 %] elapsed[sec]: 0.193 | ETA[sec]: 0.088 "
       ]
      },
      {
       "output_type": "stream",
       "stream": "stderr",
       "text": [
        "\r",
        "[ 69 %] elapsed[sec]: 0.195 | ETA[sec]: 0.085 "
       ]
      },
      {
       "output_type": "stream",
       "stream": "stderr",
       "text": [
        "\r",
        "[ 70 %] elapsed[sec]: 0.196 | ETA[sec]: 0.083 "
       ]
      },
      {
       "output_type": "stream",
       "stream": "stderr",
       "text": [
        "\r",
        "[ 71 %] elapsed[sec]: 0.199 | ETA[sec]: 0.081 "
       ]
      },
      {
       "output_type": "stream",
       "stream": "stderr",
       "text": [
        "\r",
        "[ 71 %] elapsed[sec]: 0.201 | ETA[sec]: 0.079 "
       ]
      },
      {
       "output_type": "stream",
       "stream": "stderr",
       "text": [
        "\r",
        "[ 72 %] elapsed[sec]: 0.204 | ETA[sec]: 0.077 "
       ]
      },
      {
       "output_type": "stream",
       "stream": "stderr",
       "text": [
        "\r",
        "[ 73 %] elapsed[sec]: 0.206 | ETA[sec]: 0.075 "
       ]
      },
      {
       "output_type": "stream",
       "stream": "stderr",
       "text": [
        "\r",
        "[ 74 %] elapsed[sec]: 0.208 | ETA[sec]: 0.072 "
       ]
      },
      {
       "output_type": "stream",
       "stream": "stderr",
       "text": [
        "\r",
        "[ 75 %] elapsed[sec]: 0.211 | ETA[sec]: 0.070 "
       ]
      },
      {
       "output_type": "stream",
       "stream": "stderr",
       "text": [
        "\r",
        "[ 75 %] elapsed[sec]: 0.214 | ETA[sec]: 0.068 "
       ]
      },
      {
       "output_type": "stream",
       "stream": "stderr",
       "text": [
        "\r",
        "[ 76 %] elapsed[sec]: 0.216 | ETA[sec]: 0.066 "
       ]
      },
      {
       "output_type": "stream",
       "stream": "stderr",
       "text": [
        "\r",
        "[ 77 %] elapsed[sec]: 0.218 | ETA[sec]: 0.064 "
       ]
      },
      {
       "output_type": "stream",
       "stream": "stderr",
       "text": [
        "\r",
        "[ 78 %] elapsed[sec]: 0.220 | ETA[sec]: 0.062 "
       ]
      },
      {
       "output_type": "stream",
       "stream": "stderr",
       "text": [
        "\r",
        "[ 78 %] elapsed[sec]: 0.222 | ETA[sec]: 0.059 "
       ]
      },
      {
       "output_type": "stream",
       "stream": "stderr",
       "text": [
        "\r",
        "[ 79 %] elapsed[sec]: 0.225 | ETA[sec]: 0.057 "
       ]
      },
      {
       "output_type": "stream",
       "stream": "stderr",
       "text": [
        "\r",
        "[ 80 %] elapsed[sec]: 0.226 | ETA[sec]: 0.055 "
       ]
      },
      {
       "output_type": "stream",
       "stream": "stderr",
       "text": [
        "\r",
        "[ 81 %] elapsed[sec]: 0.229 | ETA[sec]: 0.053 "
       ]
      },
      {
       "output_type": "stream",
       "stream": "stderr",
       "text": [
        "\r",
        "[ 82 %] elapsed[sec]: 0.232 | ETA[sec]: 0.051 "
       ]
      },
      {
       "output_type": "stream",
       "stream": "stderr",
       "text": [
        "\r",
        "[ 82 %] elapsed[sec]: 0.234 | ETA[sec]: 0.049 "
       ]
      },
      {
       "output_type": "stream",
       "stream": "stderr",
       "text": [
        "\r",
        "[ 83 %] elapsed[sec]: 0.237 | ETA[sec]: 0.046 "
       ]
      },
      {
       "output_type": "stream",
       "stream": "stderr",
       "text": [
        "\r",
        "[ 84 %] elapsed[sec]: 0.240 | ETA[sec]: 0.044 "
       ]
      },
      {
       "output_type": "stream",
       "stream": "stderr",
       "text": [
        "\r",
        "[ 85 %] elapsed[sec]: 0.242 | ETA[sec]: 0.042 "
       ]
      },
      {
       "output_type": "stream",
       "stream": "stderr",
       "text": [
        "\r",
        "[ 85 %] elapsed[sec]: 0.244 | ETA[sec]: 0.040 "
       ]
      },
      {
       "output_type": "stream",
       "stream": "stderr",
       "text": [
        "\r",
        "[ 86 %] elapsed[sec]: 0.247 | ETA[sec]: 0.038 "
       ]
      },
      {
       "output_type": "stream",
       "stream": "stderr",
       "text": [
        "\r",
        "[ 87 %] elapsed[sec]: 0.249 | ETA[sec]: 0.036 "
       ]
      },
      {
       "output_type": "stream",
       "stream": "stderr",
       "text": [
        "\r",
        "[ 88 %] elapsed[sec]: 0.252 | ETA[sec]: 0.033 "
       ]
      },
      {
       "output_type": "stream",
       "stream": "stderr",
       "text": [
        "\r",
        "[ 89 %] elapsed[sec]: 0.254 | ETA[sec]: 0.031 "
       ]
      },
      {
       "output_type": "stream",
       "stream": "stderr",
       "text": [
        "\r",
        "[ 89 %] elapsed[sec]: 0.256 | ETA[sec]: 0.029 "
       ]
      },
      {
       "output_type": "stream",
       "stream": "stderr",
       "text": [
        "\r",
        "[ 90 %] elapsed[sec]: 0.259 | ETA[sec]: 0.027 "
       ]
      },
      {
       "output_type": "stream",
       "stream": "stderr",
       "text": [
        "\r",
        "[ 91 %] elapsed[sec]: 0.261 | ETA[sec]: 0.025 "
       ]
      },
      {
       "output_type": "stream",
       "stream": "stderr",
       "text": [
        "\r",
        "[ 92 %] elapsed[sec]: 0.263 | ETA[sec]: 0.022 "
       ]
      },
      {
       "output_type": "stream",
       "stream": "stderr",
       "text": [
        "\r",
        "[ 92 %] elapsed[sec]: 0.266 | ETA[sec]: 0.020 "
       ]
      },
      {
       "output_type": "stream",
       "stream": "stderr",
       "text": [
        "\r",
        "[ 93 %] elapsed[sec]: 0.269 | ETA[sec]: 0.018 "
       ]
      },
      {
       "output_type": "stream",
       "stream": "stderr",
       "text": [
        "\r",
        "[ 94 %] elapsed[sec]: 0.272 | ETA[sec]: 0.016 "
       ]
      },
      {
       "output_type": "stream",
       "stream": "stderr",
       "text": [
        "\r",
        "[ 95 %] elapsed[sec]: 0.275 | ETA[sec]: 0.014 "
       ]
      },
      {
       "output_type": "stream",
       "stream": "stderr",
       "text": [
        "\r",
        "[ 96 %] elapsed[sec]: 0.276 | ETA[sec]: 0.011 "
       ]
      },
      {
       "output_type": "stream",
       "stream": "stderr",
       "text": [
        "\r",
        "[ 96 %] elapsed[sec]: 0.278 | ETA[sec]: 0.009 "
       ]
      },
      {
       "output_type": "stream",
       "stream": "stderr",
       "text": [
        "\r",
        "[ 97 %] elapsed[sec]: 0.280 | ETA[sec]: 0.007 "
       ]
      },
      {
       "output_type": "stream",
       "stream": "stderr",
       "text": [
        "\r",
        "[ 98 %] elapsed[sec]: 0.282 | ETA[sec]: 0.004 "
       ]
      },
      {
       "output_type": "stream",
       "stream": "stderr",
       "text": [
        "\r",
        "[ 99 %] elapsed[sec]: 0.284 | ETA[sec]: 0.002 "
       ]
      },
      {
       "output_type": "stream",
       "stream": "stderr",
       "text": [
        "\r",
        "[100 %] elapsed[sec]: 0.286"
       ]
      },
      {
       "output_type": "stream",
       "stream": "stdout",
       "text": [
        "\n",
        "Title: \n",
        "                      Started: 09/24/2014 16:10:03\n",
        "                      Finished: 09/24/2014 16:10:03\n",
        "                      Total time elapsed: 0.286 sec\n",
        "                      CPU %: 102.200000\n",
        "                      Memory %: 3.384805"
       ]
      },
      {
       "output_type": "stream",
       "stream": "stderr",
       "text": [
        "\n",
        "Total time elapsed: 0.286 sec\n",
        "\r",
        "[  0 %]"
       ]
      },
      {
       "output_type": "stream",
       "stream": "stderr",
       "text": [
        " elapsed[sec]: 0.000"
       ]
      },
      {
       "output_type": "stream",
       "stream": "stdout",
       "text": [
        "\n",
        "Saving sequence results/color-contrast-0_5.webm"
       ]
      },
      {
       "output_type": "stream",
       "stream": "stderr",
       "text": [
        "\r",
        "[  0 %] elapsed[sec]: 0.001"
       ]
      },
      {
       "output_type": "stream",
       "stream": "stderr",
       "text": [
        "\r",
        "[  1 %] elapsed[sec]: 0.005 | ETA[sec]: 0.289 "
       ]
      },
      {
       "output_type": "stream",
       "stream": "stderr",
       "text": [
        "\r",
        "[  2 %] elapsed[sec]: 0.007 | ETA[sec]: 0.297 "
       ]
      },
      {
       "output_type": "stream",
       "stream": "stderr",
       "text": [
        "\r",
        "[  3 %] elapsed[sec]: 0.010 | ETA[sec]: 0.297 "
       ]
      },
      {
       "output_type": "stream",
       "stream": "stderr",
       "text": [
        "\r",
        "[  3 %] elapsed[sec]: 0.012 | ETA[sec]: 0.297 "
       ]
      },
      {
       "output_type": "stream",
       "stream": "stderr",
       "text": [
        "\r",
        "[  4 %] elapsed[sec]: 0.014 | ETA[sec]: 0.295 "
       ]
      },
      {
       "output_type": "stream",
       "stream": "stderr",
       "text": [
        "\r",
        "[  5 %] elapsed[sec]: 0.017 | ETA[sec]: 0.289 "
       ]
      },
      {
       "output_type": "stream",
       "stream": "stderr",
       "text": [
        "\r",
        "[  6 %] elapsed[sec]: 0.019 | ETA[sec]: 0.284 "
       ]
      },
      {
       "output_type": "stream",
       "stream": "stderr",
       "text": [
        "\r",
        "[  7 %] elapsed[sec]: 0.021 | ETA[sec]: 0.276 "
       ]
      },
      {
       "output_type": "stream",
       "stream": "stderr",
       "text": [
        "\r",
        "[  7 %] elapsed[sec]: 0.022 | ETA[sec]: 0.265 "
       ]
      },
      {
       "output_type": "stream",
       "stream": "stderr",
       "text": [
        "\r",
        "[  8 %] elapsed[sec]: 0.024 | ETA[sec]: 0.256 "
       ]
      },
      {
       "output_type": "stream",
       "stream": "stderr",
       "text": [
        "\r",
        "[  9 %] elapsed[sec]: 0.026 | ETA[sec]: 0.249 "
       ]
      },
      {
       "output_type": "stream",
       "stream": "stderr",
       "text": [
        "\r",
        "[ 10 %] elapsed[sec]: 0.027 | ETA[sec]: 0.242 "
       ]
      },
      {
       "output_type": "stream",
       "stream": "stderr",
       "text": [
        "\r",
        "[ 10 %] elapsed[sec]: 0.029 | ETA[sec]: 0.239 "
       ]
      },
      {
       "output_type": "stream",
       "stream": "stderr",
       "text": [
        "\r",
        "[ 11 %] elapsed[sec]: 0.031 | ETA[sec]: 0.234 "
       ]
      },
      {
       "output_type": "stream",
       "stream": "stderr",
       "text": [
        "\r",
        "[ 12 %] elapsed[sec]: 0.033 | ETA[sec]: 0.229 "
       ]
      },
      {
       "output_type": "stream",
       "stream": "stderr",
       "text": [
        "\r",
        "[ 13 %] elapsed[sec]: 0.034 | ETA[sec]: 0.224 "
       ]
      },
      {
       "output_type": "stream",
       "stream": "stderr",
       "text": [
        "\r",
        "[ 14 %] elapsed[sec]: 0.036 | ETA[sec]: 0.222 "
       ]
      },
      {
       "output_type": "stream",
       "stream": "stderr",
       "text": [
        "\r",
        "[ 14 %] elapsed[sec]: 0.038 | ETA[sec]: 0.220 "
       ]
      },
      {
       "output_type": "stream",
       "stream": "stderr",
       "text": [
        "\r",
        "[ 15 %] elapsed[sec]: 0.040 | ETA[sec]: 0.219 "
       ]
      },
      {
       "output_type": "stream",
       "stream": "stderr",
       "text": [
        "\r",
        "[ 16 %] elapsed[sec]: 0.043 | ETA[sec]: 0.217 "
       ]
      },
      {
       "output_type": "stream",
       "stream": "stderr",
       "text": [
        "\r",
        "[ 17 %] elapsed[sec]: 0.045 | ETA[sec]: 0.216 "
       ]
      },
      {
       "output_type": "stream",
       "stream": "stderr",
       "text": [
        "\r",
        "[ 17 %] elapsed[sec]: 0.047 | ETA[sec]: 0.215 "
       ]
      },
      {
       "output_type": "stream",
       "stream": "stderr",
       "text": [
        "\r",
        "[ 18 %] elapsed[sec]: 0.049 | ETA[sec]: 0.214 "
       ]
      },
      {
       "output_type": "stream",
       "stream": "stderr",
       "text": [
        "\r",
        "[ 19 %] elapsed[sec]: 0.052 | ETA[sec]: 0.213 "
       ]
      },
      {
       "output_type": "stream",
       "stream": "stderr",
       "text": [
        "\r",
        "[ 20 %] elapsed[sec]: 0.054 | ETA[sec]: 0.212 "
       ]
      },
      {
       "output_type": "stream",
       "stream": "stderr",
       "text": [
        "\r",
        "[ 21 %] elapsed[sec]: 0.056 | ETA[sec]: 0.210 "
       ]
      },
      {
       "output_type": "stream",
       "stream": "stderr",
       "text": [
        "\r",
        "[ 21 %] elapsed[sec]: 0.058 | ETA[sec]: 0.209 "
       ]
      },
      {
       "output_type": "stream",
       "stream": "stderr",
       "text": [
        "\r",
        "[ 22 %] elapsed[sec]: 0.061 | ETA[sec]: 0.207 "
       ]
      },
      {
       "output_type": "stream",
       "stream": "stderr",
       "text": [
        "\r",
        "[ 23 %] elapsed[sec]: 0.063 | ETA[sec]: 0.205 "
       ]
      },
      {
       "output_type": "stream",
       "stream": "stderr",
       "text": [
        "\r",
        "[ 24 %] elapsed[sec]: 0.065 | ETA[sec]: 0.204 "
       ]
      },
      {
       "output_type": "stream",
       "stream": "stderr",
       "text": [
        "\r",
        "[ 25 %] elapsed[sec]: 0.067 | ETA[sec]: 0.202 "
       ]
      },
      {
       "output_type": "stream",
       "stream": "stderr",
       "text": [
        "\r",
        "[ 25 %] elapsed[sec]: 0.069 | ETA[sec]: 0.200 "
       ]
      },
      {
       "output_type": "stream",
       "stream": "stderr",
       "text": [
        "\r",
        "[ 26 %] elapsed[sec]: 0.072 | ETA[sec]: 0.198 "
       ]
      },
      {
       "output_type": "stream",
       "stream": "stderr",
       "text": [
        "\r",
        "[ 27 %] elapsed[sec]: 0.074 | ETA[sec]: 0.196 "
       ]
      },
      {
       "output_type": "stream",
       "stream": "stderr",
       "text": [
        "\r",
        "[ 28 %] elapsed[sec]: 0.076 | ETA[sec]: 0.194 "
       ]
      },
      {
       "output_type": "stream",
       "stream": "stderr",
       "text": [
        "\r",
        "[ 28 %] elapsed[sec]: 0.078 | ETA[sec]: 0.192 "
       ]
      },
      {
       "output_type": "stream",
       "stream": "stderr",
       "text": [
        "\r",
        "[ 29 %] elapsed[sec]: 0.080 | ETA[sec]: 0.190 "
       ]
      },
      {
       "output_type": "stream",
       "stream": "stderr",
       "text": [
        "\r",
        "[ 30 %] elapsed[sec]: 0.082 | ETA[sec]: 0.187 "
       ]
      },
      {
       "output_type": "stream",
       "stream": "stderr",
       "text": [
        "\r",
        "[ 31 %] elapsed[sec]: 0.083 | ETA[sec]: 0.183 "
       ]
      },
      {
       "output_type": "stream",
       "stream": "stderr",
       "text": [
        "\r",
        "[ 32 %] elapsed[sec]: 0.085 | ETA[sec]: 0.180 "
       ]
      },
      {
       "output_type": "stream",
       "stream": "stderr",
       "text": [
        "\r",
        "[ 32 %] elapsed[sec]: 0.086 | ETA[sec]: 0.177 "
       ]
      },
      {
       "output_type": "stream",
       "stream": "stderr",
       "text": [
        "\r",
        "[ 33 %] elapsed[sec]: 0.088 | ETA[sec]: 0.174 "
       ]
      },
      {
       "output_type": "stream",
       "stream": "stderr",
       "text": [
        "\r",
        "[ 34 %] elapsed[sec]: 0.089 | ETA[sec]: 0.171 "
       ]
      },
      {
       "output_type": "stream",
       "stream": "stderr",
       "text": [
        "\r",
        "[ 35 %] elapsed[sec]: 0.091 | ETA[sec]: 0.168 "
       ]
      },
      {
       "output_type": "stream",
       "stream": "stderr",
       "text": [
        "\r",
        "[ 35 %] elapsed[sec]: 0.092 | ETA[sec]: 0.165 "
       ]
      },
      {
       "output_type": "stream",
       "stream": "stderr",
       "text": [
        "\r",
        "[ 36 %] elapsed[sec]: 0.094 | ETA[sec]: 0.162 "
       ]
      },
      {
       "output_type": "stream",
       "stream": "stderr",
       "text": [
        "\r",
        "[ 37 %] elapsed[sec]: 0.095 | ETA[sec]: 0.159 "
       ]
      },
      {
       "output_type": "stream",
       "stream": "stderr",
       "text": [
        "\r",
        "[ 38 %] elapsed[sec]: 0.097 | ETA[sec]: 0.157 "
       ]
      },
      {
       "output_type": "stream",
       "stream": "stderr",
       "text": [
        "\r",
        "[ 39 %] elapsed[sec]: 0.099 | ETA[sec]: 0.155 "
       ]
      },
      {
       "output_type": "stream",
       "stream": "stderr",
       "text": [
        "\r",
        "[ 39 %] elapsed[sec]: 0.101 | ETA[sec]: 0.152 "
       ]
      },
      {
       "output_type": "stream",
       "stream": "stderr",
       "text": [
        "\r",
        "[ 40 %] elapsed[sec]: 0.102 | ETA[sec]: 0.149 "
       ]
      },
      {
       "output_type": "stream",
       "stream": "stderr",
       "text": [
        "\r",
        "[ 41 %] elapsed[sec]: 0.104 | ETA[sec]: 0.147 "
       ]
      },
      {
       "output_type": "stream",
       "stream": "stderr",
       "text": [
        "\r",
        "[ 42 %] elapsed[sec]: 0.105 | ETA[sec]: 0.144 "
       ]
      },
      {
       "output_type": "stream",
       "stream": "stderr",
       "text": [
        "\r",
        "[ 42 %] elapsed[sec]: 0.107 | ETA[sec]: 0.142 "
       ]
      },
      {
       "output_type": "stream",
       "stream": "stderr",
       "text": [
        "\r",
        "[ 43 %] elapsed[sec]: 0.108 | ETA[sec]: 0.139 "
       ]
      },
      {
       "output_type": "stream",
       "stream": "stderr",
       "text": [
        "\r",
        "[ 44 %] elapsed[sec]: 0.110 | ETA[sec]: 0.137 "
       ]
      },
      {
       "output_type": "stream",
       "stream": "stderr",
       "text": [
        "\r",
        "[ 45 %] elapsed[sec]: 0.112 | ETA[sec]: 0.136 "
       ]
      },
      {
       "output_type": "stream",
       "stream": "stderr",
       "text": [
        "\r",
        "[ 46 %] elapsed[sec]: 0.114 | ETA[sec]: 0.134 "
       ]
      },
      {
       "output_type": "stream",
       "stream": "stderr",
       "text": [
        "\r",
        "[ 46 %] elapsed[sec]: 0.117 | ETA[sec]: 0.132 "
       ]
      },
      {
       "output_type": "stream",
       "stream": "stderr",
       "text": [
        "\r",
        "[ 47 %] elapsed[sec]: 0.119 | ETA[sec]: 0.131 "
       ]
      },
      {
       "output_type": "stream",
       "stream": "stderr",
       "text": [
        "\r",
        "[ 48 %] elapsed[sec]: 0.121 | ETA[sec]: 0.129 "
       ]
      },
      {
       "output_type": "stream",
       "stream": "stderr",
       "text": [
        "\r",
        "[ 49 %] elapsed[sec]: 0.123 | ETA[sec]: 0.127 "
       ]
      },
      {
       "output_type": "stream",
       "stream": "stderr",
       "text": [
        "\r",
        "[ 50 %] elapsed[sec]: 0.124 | ETA[sec]: 0.124 "
       ]
      },
      {
       "output_type": "stream",
       "stream": "stderr",
       "text": [
        "\r",
        "[ 50 %] elapsed[sec]: 0.126 | ETA[sec]: 0.122 "
       ]
      },
      {
       "output_type": "stream",
       "stream": "stderr",
       "text": [
        "\r",
        "[ 51 %] elapsed[sec]: 0.127 | ETA[sec]: 0.120 "
       ]
      },
      {
       "output_type": "stream",
       "stream": "stderr",
       "text": [
        "\r",
        "[ 52 %] elapsed[sec]: 0.129 | ETA[sec]: 0.118 "
       ]
      },
      {
       "output_type": "stream",
       "stream": "stderr",
       "text": [
        "\r",
        "[ 53 %] elapsed[sec]: 0.132 | ETA[sec]: 0.116 "
       ]
      },
      {
       "output_type": "stream",
       "stream": "stderr",
       "text": [
        "\r",
        "[ 53 %] elapsed[sec]: 0.134 | ETA[sec]: 0.114 "
       ]
      },
      {
       "output_type": "stream",
       "stream": "stderr",
       "text": [
        "\r",
        "[ 54 %] elapsed[sec]: 0.136 | ETA[sec]: 0.113 "
       ]
      },
      {
       "output_type": "stream",
       "stream": "stderr",
       "text": [
        "\r",
        "[ 55 %] elapsed[sec]: 0.138 | ETA[sec]: 0.110 "
       ]
      },
      {
       "output_type": "stream",
       "stream": "stderr",
       "text": [
        "\r",
        "[ 56 %] elapsed[sec]: 0.139 | ETA[sec]: 0.108 "
       ]
      },
      {
       "output_type": "stream",
       "stream": "stderr",
       "text": [
        "\r",
        "[ 57 %] elapsed[sec]: 0.141 | ETA[sec]: 0.106 "
       ]
      },
      {
       "output_type": "stream",
       "stream": "stderr",
       "text": [
        "\r",
        "[ 57 %] elapsed[sec]: 0.142 | ETA[sec]: 0.104 "
       ]
      },
      {
       "output_type": "stream",
       "stream": "stderr",
       "text": [
        "\r",
        "[ 58 %] elapsed[sec]: 0.144 | ETA[sec]: 0.102 "
       ]
      },
      {
       "output_type": "stream",
       "stream": "stderr",
       "text": [
        "\r",
        "[ 59 %] elapsed[sec]: 0.147 | ETA[sec]: 0.100 "
       ]
      },
      {
       "output_type": "stream",
       "stream": "stderr",
       "text": [
        "\r",
        "[ 60 %] elapsed[sec]: 0.149 | ETA[sec]: 0.099 "
       ]
      },
      {
       "output_type": "stream",
       "stream": "stderr",
       "text": [
        "\r",
        "[ 60 %] elapsed[sec]: 0.151 | ETA[sec]: 0.097 "
       ]
      },
      {
       "output_type": "stream",
       "stream": "stderr",
       "text": [
        "\r",
        "[ 61 %] elapsed[sec]: 0.153 | ETA[sec]: 0.095 "
       ]
      },
      {
       "output_type": "stream",
       "stream": "stderr",
       "text": [
        "\r",
        "[ 62 %] elapsed[sec]: 0.155 | ETA[sec]: 0.093 "
       ]
      },
      {
       "output_type": "stream",
       "stream": "stderr",
       "text": [
        "\r",
        "[ 63 %] elapsed[sec]: 0.157 | ETA[sec]: 0.091 "
       ]
      },
      {
       "output_type": "stream",
       "stream": "stderr",
       "text": [
        "\r",
        "[ 64 %] elapsed[sec]: 0.159 | ETA[sec]: 0.089 "
       ]
      },
      {
       "output_type": "stream",
       "stream": "stderr",
       "text": [
        "\r",
        "[ 64 %] elapsed[sec]: 0.162 | ETA[sec]: 0.088 "
       ]
      },
      {
       "output_type": "stream",
       "stream": "stderr",
       "text": [
        "\r",
        "[ 65 %] elapsed[sec]: 0.164 | ETA[sec]: 0.086 "
       ]
      },
      {
       "output_type": "stream",
       "stream": "stderr",
       "text": [
        "\r",
        "[ 66 %] elapsed[sec]: 0.166 | ETA[sec]: 0.084 "
       ]
      },
      {
       "output_type": "stream",
       "stream": "stderr",
       "text": [
        "\r",
        "[ 67 %] elapsed[sec]: 0.167 | ETA[sec]: 0.082 "
       ]
      },
      {
       "output_type": "stream",
       "stream": "stderr",
       "text": [
        "\r",
        "[ 67 %] elapsed[sec]: 0.168 | ETA[sec]: 0.079 "
       ]
      },
      {
       "output_type": "stream",
       "stream": "stderr",
       "text": [
        "\r",
        "[ 68 %] elapsed[sec]: 0.170 | ETA[sec]: 0.077 "
       ]
      },
      {
       "output_type": "stream",
       "stream": "stderr",
       "text": [
        "\r",
        "[ 69 %] elapsed[sec]: 0.171 | ETA[sec]: 0.075 "
       ]
      },
      {
       "output_type": "stream",
       "stream": "stderr",
       "text": [
        "\r",
        "[ 70 %] elapsed[sec]: 0.173 | ETA[sec]: 0.073 "
       ]
      },
      {
       "output_type": "stream",
       "stream": "stderr",
       "text": [
        "\r",
        "[ 71 %] elapsed[sec]: 0.175 | ETA[sec]: 0.071 "
       ]
      },
      {
       "output_type": "stream",
       "stream": "stderr",
       "text": [
        "\r",
        "[ 71 %] elapsed[sec]: 0.177 | ETA[sec]: 0.069 "
       ]
      },
      {
       "output_type": "stream",
       "stream": "stderr",
       "text": [
        "\r",
        "[ 72 %] elapsed[sec]: 0.179 | ETA[sec]: 0.067 "
       ]
      },
      {
       "output_type": "stream",
       "stream": "stderr",
       "text": [
        "\r",
        "[ 73 %] elapsed[sec]: 0.181 | ETA[sec]: 0.065 "
       ]
      },
      {
       "output_type": "stream",
       "stream": "stderr",
       "text": [
        "\r",
        "[ 74 %] elapsed[sec]: 0.183 | ETA[sec]: 0.063 "
       ]
      },
      {
       "output_type": "stream",
       "stream": "stderr",
       "text": [
        "\r",
        "[ 75 %] elapsed[sec]: 0.184 | ETA[sec]: 0.062 "
       ]
      },
      {
       "output_type": "stream",
       "stream": "stderr",
       "text": [
        "\r",
        "[ 75 %] elapsed[sec]: 0.186 | ETA[sec]: 0.060 "
       ]
      },
      {
       "output_type": "stream",
       "stream": "stderr",
       "text": [
        "\r",
        "[ 76 %] elapsed[sec]: 0.188 | ETA[sec]: 0.058 "
       ]
      },
      {
       "output_type": "stream",
       "stream": "stderr",
       "text": [
        "\r",
        "[ 77 %] elapsed[sec]: 0.190 | ETA[sec]: 0.056 "
       ]
      },
      {
       "output_type": "stream",
       "stream": "stderr",
       "text": [
        "\r",
        "[ 78 %] elapsed[sec]: 0.192 | ETA[sec]: 0.054 "
       ]
      },
      {
       "output_type": "stream",
       "stream": "stderr",
       "text": [
        "\r",
        "[ 78 %] elapsed[sec]: 0.194 | ETA[sec]: 0.052 "
       ]
      },
      {
       "output_type": "stream",
       "stream": "stderr",
       "text": [
        "\r",
        "[ 79 %] elapsed[sec]: 0.195 | ETA[sec]: 0.050 "
       ]
      },
      {
       "output_type": "stream",
       "stream": "stderr",
       "text": [
        "\r",
        "[ 80 %] elapsed[sec]: 0.197 | ETA[sec]: 0.048 "
       ]
      },
      {
       "output_type": "stream",
       "stream": "stderr",
       "text": [
        "\r",
        "[ 81 %] elapsed[sec]: 0.199 | ETA[sec]: 0.046 "
       ]
      },
      {
       "output_type": "stream",
       "stream": "stderr",
       "text": [
        "\r",
        "[ 82 %] elapsed[sec]: 0.201 | ETA[sec]: 0.044 "
       ]
      },
      {
       "output_type": "stream",
       "stream": "stderr",
       "text": [
        "\r",
        "[ 82 %] elapsed[sec]: 0.203 | ETA[sec]: 0.042 "
       ]
      },
      {
       "output_type": "stream",
       "stream": "stderr",
       "text": [
        "\r",
        "[ 83 %] elapsed[sec]: 0.206 | ETA[sec]: 0.040 "
       ]
      },
      {
       "output_type": "stream",
       "stream": "stderr",
       "text": [
        "\r",
        "[ 84 %] elapsed[sec]: 0.208 | ETA[sec]: 0.038 "
       ]
      },
      {
       "output_type": "stream",
       "stream": "stderr",
       "text": [
        "\r",
        "[ 85 %] elapsed[sec]: 0.210 | ETA[sec]: 0.037 "
       ]
      },
      {
       "output_type": "stream",
       "stream": "stderr",
       "text": [
        "\r",
        "[ 85 %] elapsed[sec]: 0.212 | ETA[sec]: 0.035 "
       ]
      },
      {
       "output_type": "stream",
       "stream": "stderr",
       "text": [
        "\r",
        "[ 86 %] elapsed[sec]: 0.215 | ETA[sec]: 0.033 "
       ]
      },
      {
       "output_type": "stream",
       "stream": "stderr",
       "text": [
        "\r",
        "[ 87 %] elapsed[sec]: 0.217 | ETA[sec]: 0.031 "
       ]
      },
      {
       "output_type": "stream",
       "stream": "stderr",
       "text": [
        "\r",
        "[ 88 %] elapsed[sec]: 0.218 | ETA[sec]: 0.029 "
       ]
      },
      {
       "output_type": "stream",
       "stream": "stderr",
       "text": [
        "\r",
        "[ 89 %] elapsed[sec]: 0.220 | ETA[sec]: 0.027 "
       ]
      },
      {
       "output_type": "stream",
       "stream": "stderr",
       "text": [
        "\r",
        "[ 89 %] elapsed[sec]: 0.222 | ETA[sec]: 0.025 "
       ]
      },
      {
       "output_type": "stream",
       "stream": "stderr",
       "text": [
        "\r",
        "[ 90 %] elapsed[sec]: 0.225 | ETA[sec]: 0.023 "
       ]
      },
      {
       "output_type": "stream",
       "stream": "stderr",
       "text": [
        "\r",
        "[ 91 %] elapsed[sec]: 0.227 | ETA[sec]: 0.021 "
       ]
      },
      {
       "output_type": "stream",
       "stream": "stderr",
       "text": [
        "\r",
        "[ 92 %] elapsed[sec]: 0.229 | ETA[sec]: 0.019 "
       ]
      },
      {
       "output_type": "stream",
       "stream": "stderr",
       "text": [
        "\r",
        "[ 92 %] elapsed[sec]: 0.231 | ETA[sec]: 0.017 "
       ]
      },
      {
       "output_type": "stream",
       "stream": "stderr",
       "text": [
        "\r",
        "[ 93 %] elapsed[sec]: 0.232 | ETA[sec]: 0.015 "
       ]
      },
      {
       "output_type": "stream",
       "stream": "stderr",
       "text": [
        "\r",
        "[ 94 %] elapsed[sec]: 0.234 | ETA[sec]: 0.014 "
       ]
      },
      {
       "output_type": "stream",
       "stream": "stderr",
       "text": [
        "\r",
        "[ 95 %] elapsed[sec]: 0.236 | ETA[sec]: 0.012 "
       ]
      },
      {
       "output_type": "stream",
       "stream": "stderr",
       "text": [
        "\r",
        "[ 96 %] elapsed[sec]: 0.238 | ETA[sec]: 0.010 "
       ]
      },
      {
       "output_type": "stream",
       "stream": "stderr",
       "text": [
        "\r",
        "[ 96 %] elapsed[sec]: 0.240 | ETA[sec]: 0.008 "
       ]
      },
      {
       "output_type": "stream",
       "stream": "stderr",
       "text": [
        "\r",
        "[ 97 %] elapsed[sec]: 0.242 | ETA[sec]: 0.006 "
       ]
      },
      {
       "output_type": "stream",
       "stream": "stderr",
       "text": [
        "\r",
        "[ 98 %] elapsed[sec]: 0.244 | ETA[sec]: 0.004 "
       ]
      },
      {
       "output_type": "stream",
       "stream": "stderr",
       "text": [
        "\r",
        "[ 99 %] elapsed[sec]: 0.247 | ETA[sec]: 0.002 "
       ]
      },
      {
       "output_type": "stream",
       "stream": "stderr",
       "text": [
        "\r",
        "[100 %] elapsed[sec]: 0.248"
       ]
      },
      {
       "output_type": "stream",
       "stream": "stdout",
       "text": [
        "\n",
        "Title: \n",
        "                      Started: 09/24/2014 16:10:04\n",
        "                      Finished: 09/24/2014 16:10:04\n",
        "                      Total time elapsed: 0.249 sec\n",
        "                      CPU %: 102.500000\n",
        "                      Memory %: 3.384852"
       ]
      },
      {
       "output_type": "stream",
       "stream": "stderr",
       "text": [
        "\n",
        "Total time elapsed: 0.249 sec\n",
        "\r",
        "[  0 %]"
       ]
      },
      {
       "output_type": "stream",
       "stream": "stderr",
       "text": [
        " elapsed[sec]: 0.000"
       ]
      },
      {
       "output_type": "stream",
       "stream": "stdout",
       "text": [
        "\n",
        "Saving sequence results/color-contrast-0_75.webm"
       ]
      },
      {
       "output_type": "stream",
       "stream": "stderr",
       "text": [
        "\r",
        "[  0 %] elapsed[sec]: 0.001"
       ]
      },
      {
       "output_type": "stream",
       "stream": "stderr",
       "text": [
        "\r",
        "[  1 %] elapsed[sec]: 0.003 | ETA[sec]: 0.194 "
       ]
      },
      {
       "output_type": "stream",
       "stream": "stderr",
       "text": [
        "\r",
        "[  2 %] elapsed[sec]: 0.005 | ETA[sec]: 0.226 "
       ]
      },
      {
       "output_type": "stream",
       "stream": "stderr",
       "text": [
        "\r",
        "[  3 %] elapsed[sec]: 0.008 | ETA[sec]: 0.235 "
       ]
      },
      {
       "output_type": "stream",
       "stream": "stderr",
       "text": [
        "\r",
        "[  3 %] elapsed[sec]: 0.010 | ETA[sec]: 0.242 "
       ]
      },
      {
       "output_type": "stream",
       "stream": "stderr",
       "text": [
        "\r",
        "[  4 %] elapsed[sec]: 0.012 | ETA[sec]: 0.242 "
       ]
      },
      {
       "output_type": "stream",
       "stream": "stderr",
       "text": [
        "\r",
        "[  5 %] elapsed[sec]: 0.014 | ETA[sec]: 0.236 "
       ]
      },
      {
       "output_type": "stream",
       "stream": "stderr",
       "text": [
        "\r",
        "[  6 %] elapsed[sec]: 0.015 | ETA[sec]: 0.228 "
       ]
      },
      {
       "output_type": "stream",
       "stream": "stderr",
       "text": [
        "\r",
        "[  7 %] elapsed[sec]: 0.017 | ETA[sec]: 0.220 "
       ]
      },
      {
       "output_type": "stream",
       "stream": "stderr",
       "text": [
        "\r",
        "[  7 %] elapsed[sec]: 0.018 | ETA[sec]: 0.216 "
       ]
      },
      {
       "output_type": "stream",
       "stream": "stderr",
       "text": [
        "\r",
        "[  8 %] elapsed[sec]: 0.020 | ETA[sec]: 0.215 "
       ]
      },
      {
       "output_type": "stream",
       "stream": "stderr",
       "text": [
        "\r",
        "[  9 %] elapsed[sec]: 0.022 | ETA[sec]: 0.210 "
       ]
      },
      {
       "output_type": "stream",
       "stream": "stderr",
       "text": [
        "\r",
        "[ 10 %] elapsed[sec]: 0.023 | ETA[sec]: 0.206 "
       ]
      },
      {
       "output_type": "stream",
       "stream": "stderr",
       "text": [
        "\r",
        "[ 10 %] elapsed[sec]: 0.025 | ETA[sec]: 0.207 "
       ]
      },
      {
       "output_type": "stream",
       "stream": "stderr",
       "text": [
        "\r",
        "[ 11 %] elapsed[sec]: 0.028 | ETA[sec]: 0.208 "
       ]
      },
      {
       "output_type": "stream",
       "stream": "stderr",
       "text": [
        "\r",
        "[ 12 %] elapsed[sec]: 0.030 | ETA[sec]: 0.208 "
       ]
      },
      {
       "output_type": "stream",
       "stream": "stderr",
       "text": [
        "\r",
        "[ 13 %] elapsed[sec]: 0.032 | ETA[sec]: 0.208 "
       ]
      },
      {
       "output_type": "stream",
       "stream": "stderr",
       "text": [
        "\r",
        "[ 14 %] elapsed[sec]: 0.034 | ETA[sec]: 0.207 "
       ]
      },
      {
       "output_type": "stream",
       "stream": "stderr",
       "text": [
        "\r",
        "[ 14 %] elapsed[sec]: 0.036 | ETA[sec]: 0.207 "
       ]
      },
      {
       "output_type": "stream",
       "stream": "stderr",
       "text": [
        "\r",
        "[ 15 %] elapsed[sec]: 0.038 | ETA[sec]: 0.206 "
       ]
      },
      {
       "output_type": "stream",
       "stream": "stderr",
       "text": [
        "\r",
        "[ 16 %] elapsed[sec]: 0.040 | ETA[sec]: 0.205 "
       ]
      },
      {
       "output_type": "stream",
       "stream": "stderr",
       "text": [
        "\r",
        "[ 17 %] elapsed[sec]: 0.042 | ETA[sec]: 0.204 "
       ]
      },
      {
       "output_type": "stream",
       "stream": "stderr",
       "text": [
        "\r",
        "[ 17 %] elapsed[sec]: 0.044 | ETA[sec]: 0.201 "
       ]
      },
      {
       "output_type": "stream",
       "stream": "stderr",
       "text": [
        "\r",
        "[ 18 %] elapsed[sec]: 0.046 | ETA[sec]: 0.200 "
       ]
      },
      {
       "output_type": "stream",
       "stream": "stderr",
       "text": [
        "\r",
        "[ 19 %] elapsed[sec]: 0.048 | ETA[sec]: 0.196 "
       ]
      },
      {
       "output_type": "stream",
       "stream": "stderr",
       "text": [
        "\r",
        "[ 20 %] elapsed[sec]: 0.049 | ETA[sec]: 0.193 "
       ]
      },
      {
       "output_type": "stream",
       "stream": "stderr",
       "text": [
        "\r",
        "[ 21 %] elapsed[sec]: 0.051 | ETA[sec]: 0.191 "
       ]
      },
      {
       "output_type": "stream",
       "stream": "stderr",
       "text": [
        "\r",
        "[ 21 %] elapsed[sec]: 0.053 | ETA[sec]: 0.189 "
       ]
      },
      {
       "output_type": "stream",
       "stream": "stderr",
       "text": [
        "\r",
        "[ 22 %] elapsed[sec]: 0.055 | ETA[sec]: 0.187 "
       ]
      },
      {
       "output_type": "stream",
       "stream": "stderr",
       "text": [
        "\r",
        "[ 23 %] elapsed[sec]: 0.057 | ETA[sec]: 0.185 "
       ]
      },
      {
       "output_type": "stream",
       "stream": "stderr",
       "text": [
        "\r",
        "[ 24 %] elapsed[sec]: 0.059 | ETA[sec]: 0.184 "
       ]
      },
      {
       "output_type": "stream",
       "stream": "stderr",
       "text": [
        "\r",
        "[ 25 %] elapsed[sec]: 0.061 | ETA[sec]: 0.182 "
       ]
      },
      {
       "output_type": "stream",
       "stream": "stderr",
       "text": [
        "\r",
        "[ 25 %] elapsed[sec]: 0.063 | ETA[sec]: 0.181 "
       ]
      },
      {
       "output_type": "stream",
       "stream": "stderr",
       "text": [
        "\r",
        "[ 26 %] elapsed[sec]: 0.065 | ETA[sec]: 0.179 "
       ]
      },
      {
       "output_type": "stream",
       "stream": "stderr",
       "text": [
        "\r",
        "[ 27 %] elapsed[sec]: 0.066 | ETA[sec]: 0.175 "
       ]
      },
      {
       "output_type": "stream",
       "stream": "stderr",
       "text": [
        "\r",
        "[ 28 %] elapsed[sec]: 0.067 | ETA[sec]: 0.172 "
       ]
      },
      {
       "output_type": "stream",
       "stream": "stderr",
       "text": [
        "\r",
        "[ 28 %] elapsed[sec]: 0.069 | ETA[sec]: 0.171 "
       ]
      },
      {
       "output_type": "stream",
       "stream": "stderr",
       "text": [
        "\r",
        "[ 29 %] elapsed[sec]: 0.071 | ETA[sec]: 0.168 "
       ]
      },
      {
       "output_type": "stream",
       "stream": "stderr",
       "text": [
        "\r",
        "[ 30 %] elapsed[sec]: 0.073 | ETA[sec]: 0.167 "
       ]
      },
      {
       "output_type": "stream",
       "stream": "stderr",
       "text": [
        "\r",
        "[ 31 %] elapsed[sec]: 0.075 | ETA[sec]: 0.165 "
       ]
      },
      {
       "output_type": "stream",
       "stream": "stderr",
       "text": [
        "\r",
        "[ 32 %] elapsed[sec]: 0.077 | ETA[sec]: 0.163 "
       ]
      },
      {
       "output_type": "stream",
       "stream": "stderr",
       "text": [
        "\r",
        "[ 32 %] elapsed[sec]: 0.079 | ETA[sec]: 0.161 "
       ]
      },
      {
       "output_type": "stream",
       "stream": "stderr",
       "text": [
        "\r",
        "[ 33 %] elapsed[sec]: 0.081 | ETA[sec]: 0.160 "
       ]
      },
      {
       "output_type": "stream",
       "stream": "stderr",
       "text": [
        "\r",
        "[ 34 %] elapsed[sec]: 0.083 | ETA[sec]: 0.159 "
       ]
      },
      {
       "output_type": "stream",
       "stream": "stderr",
       "text": [
        "\r",
        "[ 35 %] elapsed[sec]: 0.085 | ETA[sec]: 0.157 "
       ]
      },
      {
       "output_type": "stream",
       "stream": "stderr",
       "text": [
        "\r",
        "[ 35 %] elapsed[sec]: 0.087 | ETA[sec]: 0.156 "
       ]
      },
      {
       "output_type": "stream",
       "stream": "stderr",
       "text": [
        "\r",
        "[ 36 %] elapsed[sec]: 0.089 | ETA[sec]: 0.153 "
       ]
      },
      {
       "output_type": "stream",
       "stream": "stderr",
       "text": [
        "\r",
        "[ 37 %] elapsed[sec]: 0.090 | ETA[sec]: 0.151 "
       ]
      },
      {
       "output_type": "stream",
       "stream": "stderr",
       "text": [
        "\r",
        "[ 38 %] elapsed[sec]: 0.092 | ETA[sec]: 0.149 "
       ]
      },
      {
       "output_type": "stream",
       "stream": "stderr",
       "text": [
        "\r",
        "[ 39 %] elapsed[sec]: 0.094 | ETA[sec]: 0.146 "
       ]
      },
      {
       "output_type": "stream",
       "stream": "stderr",
       "text": [
        "\r",
        "[ 39 %] elapsed[sec]: 0.095 | ETA[sec]: 0.144 "
       ]
      },
      {
       "output_type": "stream",
       "stream": "stderr",
       "text": [
        "\r",
        "[ 40 %] elapsed[sec]: 0.097 | ETA[sec]: 0.142 "
       ]
      },
      {
       "output_type": "stream",
       "stream": "stderr",
       "text": [
        "\r",
        "[ 41 %] elapsed[sec]: 0.099 | ETA[sec]: 0.140 "
       ]
      },
      {
       "output_type": "stream",
       "stream": "stderr",
       "text": [
        "\r",
        "[ 42 %] elapsed[sec]: 0.101 | ETA[sec]: 0.138 "
       ]
      },
      {
       "output_type": "stream",
       "stream": "stderr",
       "text": [
        "\r",
        "[ 42 %] elapsed[sec]: 0.102 | ETA[sec]: 0.136 "
       ]
      },
      {
       "output_type": "stream",
       "stream": "stderr",
       "text": [
        "\r",
        "[ 43 %] elapsed[sec]: 0.104 | ETA[sec]: 0.134 "
       ]
      },
      {
       "output_type": "stream",
       "stream": "stderr",
       "text": [
        "\r",
        "[ 44 %] elapsed[sec]: 0.106 | ETA[sec]: 0.133 "
       ]
      },
      {
       "output_type": "stream",
       "stream": "stderr",
       "text": [
        "\r",
        "[ 45 %] elapsed[sec]: 0.108 | ETA[sec]: 0.131 "
       ]
      },
      {
       "output_type": "stream",
       "stream": "stderr",
       "text": [
        "\r",
        "[ 46 %] elapsed[sec]: 0.110 | ETA[sec]: 0.129 "
       ]
      },
      {
       "output_type": "stream",
       "stream": "stderr",
       "text": [
        "\r",
        "[ 46 %] elapsed[sec]: 0.112 | ETA[sec]: 0.127 "
       ]
      },
      {
       "output_type": "stream",
       "stream": "stderr",
       "text": [
        "\r",
        "[ 47 %] elapsed[sec]: 0.114 | ETA[sec]: 0.126 "
       ]
      },
      {
       "output_type": "stream",
       "stream": "stderr",
       "text": [
        "\r",
        "[ 48 %] elapsed[sec]: 0.117 | ETA[sec]: 0.124 "
       ]
      },
      {
       "output_type": "stream",
       "stream": "stderr",
       "text": [
        "\r",
        "[ 49 %] elapsed[sec]: 0.119 | ETA[sec]: 0.123 "
       ]
      },
      {
       "output_type": "stream",
       "stream": "stderr",
       "text": [
        "\r",
        "[ 50 %] elapsed[sec]: 0.121 | ETA[sec]: 0.121 "
       ]
      },
      {
       "output_type": "stream",
       "stream": "stderr",
       "text": [
        "\r",
        "[ 50 %] elapsed[sec]: 0.123 | ETA[sec]: 0.120 "
       ]
      },
      {
       "output_type": "stream",
       "stream": "stderr",
       "text": [
        "\r",
        "[ 51 %] elapsed[sec]: 0.125 | ETA[sec]: 0.118 "
       ]
      },
      {
       "output_type": "stream",
       "stream": "stderr",
       "text": [
        "\r",
        "[ 52 %] elapsed[sec]: 0.127 | ETA[sec]: 0.115 "
       ]
      },
      {
       "output_type": "stream",
       "stream": "stderr",
       "text": [
        "\r",
        "[ 53 %] elapsed[sec]: 0.128 | ETA[sec]: 0.113 "
       ]
      },
      {
       "output_type": "stream",
       "stream": "stderr",
       "text": [
        "\r",
        "[ 53 %] elapsed[sec]: 0.129 | ETA[sec]: 0.111 "
       ]
      },
      {
       "output_type": "stream",
       "stream": "stderr",
       "text": [
        "\r",
        "[ 54 %] elapsed[sec]: 0.131 | ETA[sec]: 0.108 "
       ]
      },
      {
       "output_type": "stream",
       "stream": "stderr",
       "text": [
        "\r",
        "[ 55 %] elapsed[sec]: 0.132 | ETA[sec]: 0.106 "
       ]
      },
      {
       "output_type": "stream",
       "stream": "stderr",
       "text": [
        "\r",
        "[ 56 %] elapsed[sec]: 0.134 | ETA[sec]: 0.104 "
       ]
      },
      {
       "output_type": "stream",
       "stream": "stderr",
       "text": [
        "\r",
        "[ 57 %] elapsed[sec]: 0.136 | ETA[sec]: 0.103 "
       ]
      },
      {
       "output_type": "stream",
       "stream": "stderr",
       "text": [
        "\r",
        "[ 57 %] elapsed[sec]: 0.138 | ETA[sec]: 0.101 "
       ]
      },
      {
       "output_type": "stream",
       "stream": "stderr",
       "text": [
        "\r",
        "[ 58 %] elapsed[sec]: 0.140 | ETA[sec]: 0.099 "
       ]
      },
      {
       "output_type": "stream",
       "stream": "stderr",
       "text": [
        "\r",
        "[ 59 %] elapsed[sec]: 0.141 | ETA[sec]: 0.096 "
       ]
      },
      {
       "output_type": "stream",
       "stream": "stderr",
       "text": [
        "\r",
        "[ 60 %] elapsed[sec]: 0.142 | ETA[sec]: 0.094 "
       ]
      },
      {
       "output_type": "stream",
       "stream": "stderr",
       "text": [
        "\r",
        "[ 60 %] elapsed[sec]: 0.144 | ETA[sec]: 0.092 "
       ]
      },
      {
       "output_type": "stream",
       "stream": "stderr",
       "text": [
        "\r",
        "[ 61 %] elapsed[sec]: 0.146 | ETA[sec]: 0.090 "
       ]
      },
      {
       "output_type": "stream",
       "stream": "stderr",
       "text": [
        "\r",
        "[ 62 %] elapsed[sec]: 0.148 | ETA[sec]: 0.089 "
       ]
      },
      {
       "output_type": "stream",
       "stream": "stderr",
       "text": [
        "\r",
        "[ 63 %] elapsed[sec]: 0.150 | ETA[sec]: 0.087 "
       ]
      },
      {
       "output_type": "stream",
       "stream": "stderr",
       "text": [
        "\r",
        "[ 64 %] elapsed[sec]: 0.152 | ETA[sec]: 0.085 "
       ]
      },
      {
       "output_type": "stream",
       "stream": "stderr",
       "text": [
        "\r",
        "[ 64 %] elapsed[sec]: 0.155 | ETA[sec]: 0.084 "
       ]
      },
      {
       "output_type": "stream",
       "stream": "stderr",
       "text": [
        "\r",
        "[ 65 %] elapsed[sec]: 0.157 | ETA[sec]: 0.082 "
       ]
      },
      {
       "output_type": "stream",
       "stream": "stderr",
       "text": [
        "\r",
        "[ 66 %] elapsed[sec]: 0.158 | ETA[sec]: 0.080 "
       ]
      },
      {
       "output_type": "stream",
       "stream": "stderr",
       "text": [
        "\r",
        "[ 67 %] elapsed[sec]: 0.160 | ETA[sec]: 0.078 "
       ]
      },
      {
       "output_type": "stream",
       "stream": "stderr",
       "text": [
        "\r",
        "[ 67 %] elapsed[sec]: 0.163 | ETA[sec]: 0.077 "
       ]
      },
      {
       "output_type": "stream",
       "stream": "stderr",
       "text": [
        "\r",
        "[ 68 %] elapsed[sec]: 0.164 | ETA[sec]: 0.075 "
       ]
      },
      {
       "output_type": "stream",
       "stream": "stderr",
       "text": [
        "\r",
        "[ 69 %] elapsed[sec]: 0.166 | ETA[sec]: 0.073 "
       ]
      },
      {
       "output_type": "stream",
       "stream": "stderr",
       "text": [
        "\r",
        "[ 70 %] elapsed[sec]: 0.168 | ETA[sec]: 0.071 "
       ]
      },
      {
       "output_type": "stream",
       "stream": "stderr",
       "text": [
        "\r",
        "[ 71 %] elapsed[sec]: 0.170 | ETA[sec]: 0.069 "
       ]
      },
      {
       "output_type": "stream",
       "stream": "stderr",
       "text": [
        "\r",
        "[ 71 %] elapsed[sec]: 0.173 | ETA[sec]: 0.068 "
       ]
      },
      {
       "output_type": "stream",
       "stream": "stderr",
       "text": [
        "\r",
        "[ 72 %] elapsed[sec]: 0.174 | ETA[sec]: 0.066 "
       ]
      },
      {
       "output_type": "stream",
       "stream": "stderr",
       "text": [
        "\r",
        "[ 73 %] elapsed[sec]: 0.176 | ETA[sec]: 0.064 "
       ]
      },
      {
       "output_type": "stream",
       "stream": "stderr",
       "text": [
        "\r",
        "[ 74 %] elapsed[sec]: 0.178 | ETA[sec]: 0.062 "
       ]
      },
      {
       "output_type": "stream",
       "stream": "stderr",
       "text": [
        "\r",
        "[ 75 %] elapsed[sec]: 0.180 | ETA[sec]: 0.060 "
       ]
      },
      {
       "output_type": "stream",
       "stream": "stderr",
       "text": [
        "\r",
        "[ 75 %] elapsed[sec]: 0.183 | ETA[sec]: 0.058 "
       ]
      },
      {
       "output_type": "stream",
       "stream": "stderr",
       "text": [
        "\r",
        "[ 76 %] elapsed[sec]: 0.184 | ETA[sec]: 0.056 "
       ]
      },
      {
       "output_type": "stream",
       "stream": "stderr",
       "text": [
        "\r",
        "[ 77 %] elapsed[sec]: 0.186 | ETA[sec]: 0.055 "
       ]
      },
      {
       "output_type": "stream",
       "stream": "stderr",
       "text": [
        "\r",
        "[ 78 %] elapsed[sec]: 0.188 | ETA[sec]: 0.053 "
       ]
      },
      {
       "output_type": "stream",
       "stream": "stderr",
       "text": [
        "\r",
        "[ 78 %] elapsed[sec]: 0.190 | ETA[sec]: 0.051 "
       ]
      },
      {
       "output_type": "stream",
       "stream": "stderr",
       "text": [
        "\r",
        "[ 79 %] elapsed[sec]: 0.192 | ETA[sec]: 0.049 "
       ]
      },
      {
       "output_type": "stream",
       "stream": "stderr",
       "text": [
        "\r",
        "[ 80 %] elapsed[sec]: 0.194 | ETA[sec]: 0.047 "
       ]
      },
      {
       "output_type": "stream",
       "stream": "stderr",
       "text": [
        "\r",
        "[ 81 %] elapsed[sec]: 0.196 | ETA[sec]: 0.045 "
       ]
      },
      {
       "output_type": "stream",
       "stream": "stderr",
       "text": [
        "\r",
        "[ 82 %] elapsed[sec]: 0.198 | ETA[sec]: 0.043 "
       ]
      },
      {
       "output_type": "stream",
       "stream": "stderr",
       "text": [
        "\r",
        "[ 82 %] elapsed[sec]: 0.199 | ETA[sec]: 0.041 "
       ]
      },
      {
       "output_type": "stream",
       "stream": "stderr",
       "text": [
        "\r",
        "[ 83 %] elapsed[sec]: 0.200 | ETA[sec]: 0.039 "
       ]
      },
      {
       "output_type": "stream",
       "stream": "stderr",
       "text": [
        "\r",
        "[ 84 %] elapsed[sec]: 0.202 | ETA[sec]: 0.037 "
       ]
      },
      {
       "output_type": "stream",
       "stream": "stderr",
       "text": [
        "\r",
        "[ 85 %] elapsed[sec]: 0.204 | ETA[sec]: 0.036 "
       ]
      },
      {
       "output_type": "stream",
       "stream": "stderr",
       "text": [
        "\r",
        "[ 85 %] elapsed[sec]: 0.207 | ETA[sec]: 0.034 "
       ]
      },
      {
       "output_type": "stream",
       "stream": "stderr",
       "text": [
        "\r",
        "[ 86 %] elapsed[sec]: 0.209 | ETA[sec]: 0.032 "
       ]
      },
      {
       "output_type": "stream",
       "stream": "stderr",
       "text": [
        "\r",
        "[ 87 %] elapsed[sec]: 0.211 | ETA[sec]: 0.030 "
       ]
      },
      {
       "output_type": "stream",
       "stream": "stderr",
       "text": [
        "\r",
        "[ 88 %] elapsed[sec]: 0.212 | ETA[sec]: 0.028 "
       ]
      },
      {
       "output_type": "stream",
       "stream": "stderr",
       "text": [
        "\r",
        "[ 89 %] elapsed[sec]: 0.214 | ETA[sec]: 0.026 "
       ]
      },
      {
       "output_type": "stream",
       "stream": "stderr",
       "text": [
        "\r",
        "[ 89 %] elapsed[sec]: 0.216 | ETA[sec]: 0.024 "
       ]
      },
      {
       "output_type": "stream",
       "stream": "stderr",
       "text": [
        "\r",
        "[ 90 %] elapsed[sec]: 0.218 | ETA[sec]: 0.023 "
       ]
      },
      {
       "output_type": "stream",
       "stream": "stderr",
       "text": [
        "\r",
        "[ 91 %] elapsed[sec]: 0.220 | ETA[sec]: 0.021 "
       ]
      },
      {
       "output_type": "stream",
       "stream": "stderr",
       "text": [
        "\r",
        "[ 92 %] elapsed[sec]: 0.222 | ETA[sec]: 0.019 "
       ]
      },
      {
       "output_type": "stream",
       "stream": "stderr",
       "text": [
        "\r",
        "[ 92 %] elapsed[sec]: 0.224 | ETA[sec]: 0.017 "
       ]
      },
      {
       "output_type": "stream",
       "stream": "stderr",
       "text": [
        "\r",
        "[ 93 %] elapsed[sec]: 0.226 | ETA[sec]: 0.015 "
       ]
      },
      {
       "output_type": "stream",
       "stream": "stderr",
       "text": [
        "\r",
        "[ 94 %] elapsed[sec]: 0.228 | ETA[sec]: 0.013 "
       ]
      },
      {
       "output_type": "stream",
       "stream": "stderr",
       "text": [
        "\r",
        "[ 95 %] elapsed[sec]: 0.230 | ETA[sec]: 0.011 "
       ]
      },
      {
       "output_type": "stream",
       "stream": "stderr",
       "text": [
        "\r",
        "[ 96 %] elapsed[sec]: 0.232 | ETA[sec]: 0.009 "
       ]
      },
      {
       "output_type": "stream",
       "stream": "stderr",
       "text": [
        "\r",
        "[ 96 %] elapsed[sec]: 0.235 | ETA[sec]: 0.008 "
       ]
      },
      {
       "output_type": "stream",
       "stream": "stderr",
       "text": [
        "\r",
        "[ 97 %] elapsed[sec]: 0.237 | ETA[sec]: 0.006 "
       ]
      },
      {
       "output_type": "stream",
       "stream": "stderr",
       "text": [
        "\r",
        "[ 98 %] elapsed[sec]: 0.239 | ETA[sec]: 0.004 "
       ]
      },
      {
       "output_type": "stream",
       "stream": "stderr",
       "text": [
        "\r",
        "[ 99 %] elapsed[sec]: 0.241 | ETA[sec]: 0.002 "
       ]
      },
      {
       "output_type": "stream",
       "stream": "stderr",
       "text": [
        "\r",
        "[100 %] elapsed[sec]: 0.243"
       ]
      },
      {
       "output_type": "stream",
       "stream": "stdout",
       "text": [
        "\n",
        "Title: \n",
        "                      Started: 09/24/2014 16:10:05\n",
        "                      Finished: 09/24/2014 16:10:05\n",
        "                      Total time elapsed: 0.244 sec\n",
        "                      CPU %: 102.500000\n",
        "                      Memory %: 3.384757"
       ]
      },
      {
       "output_type": "stream",
       "stream": "stderr",
       "text": [
        "\n",
        "Total time elapsed: 0.244 sec\n",
        "\r",
        "[  0 %]"
       ]
      },
      {
       "output_type": "stream",
       "stream": "stderr",
       "text": [
        " elapsed[sec]: 0.001"
       ]
      },
      {
       "output_type": "stream",
       "stream": "stdout",
       "text": [
        "\n",
        "Saving sequence results/color-contrast-1_0.webm"
       ]
      },
      {
       "output_type": "stream",
       "stream": "stderr",
       "text": [
        "\r",
        "[  0 %] elapsed[sec]: 0.001 | ETA[sec]: 0.178 "
       ]
      },
      {
       "output_type": "stream",
       "stream": "stderr",
       "text": [
        "\r",
        "[  1 %] elapsed[sec]: 0.006 | ETA[sec]: 0.355 "
       ]
      },
      {
       "output_type": "stream",
       "stream": "stderr",
       "text": [
        "\r",
        "[  2 %] elapsed[sec]: 0.007 | ETA[sec]: 0.310 "
       ]
      },
      {
       "output_type": "stream",
       "stream": "stderr",
       "text": [
        "\r",
        "[  3 %] elapsed[sec]: 0.009 | ETA[sec]: 0.275 "
       ]
      },
      {
       "output_type": "stream",
       "stream": "stderr",
       "text": [
        "\r",
        "[  3 %] elapsed[sec]: 0.010 | ETA[sec]: 0.254 "
       ]
      },
      {
       "output_type": "stream",
       "stream": "stderr",
       "text": [
        "\r",
        "[  4 %] elapsed[sec]: 0.012 | ETA[sec]: 0.241 "
       ]
      },
      {
       "output_type": "stream",
       "stream": "stderr",
       "text": [
        "\r",
        "[  5 %] elapsed[sec]: 0.013 | ETA[sec]: 0.231 "
       ]
      },
      {
       "output_type": "stream",
       "stream": "stderr",
       "text": [
        "\r",
        "[  6 %] elapsed[sec]: 0.015 | ETA[sec]: 0.225 "
       ]
      },
      {
       "output_type": "stream",
       "stream": "stderr",
       "text": [
        "\r",
        "[  7 %] elapsed[sec]: 0.016 | ETA[sec]: 0.216 "
       ]
      },
      {
       "output_type": "stream",
       "stream": "stderr",
       "text": [
        "\r",
        "[  7 %] elapsed[sec]: 0.018 | ETA[sec]: 0.209 "
       ]
      },
      {
       "output_type": "stream",
       "stream": "stderr",
       "text": [
        "\r",
        "[  8 %] elapsed[sec]: 0.020 | ETA[sec]: 0.209 "
       ]
      },
      {
       "output_type": "stream",
       "stream": "stderr",
       "text": [
        "\r",
        "[  9 %] elapsed[sec]: 0.022 | ETA[sec]: 0.209 "
       ]
      },
      {
       "output_type": "stream",
       "stream": "stderr",
       "text": [
        "\r",
        "[ 10 %] elapsed[sec]: 0.023 | ETA[sec]: 0.203 "
       ]
      },
      {
       "output_type": "stream",
       "stream": "stderr",
       "text": [
        "\r",
        "[ 10 %] elapsed[sec]: 0.024 | ETA[sec]: 0.198 "
       ]
      },
      {
       "output_type": "stream",
       "stream": "stderr",
       "text": [
        "\r",
        "[ 11 %] elapsed[sec]: 0.026 | ETA[sec]: 0.196 "
       ]
      },
      {
       "output_type": "stream",
       "stream": "stderr",
       "text": [
        "\r",
        "[ 12 %] elapsed[sec]: 0.028 | ETA[sec]: 0.197 "
       ]
      },
      {
       "output_type": "stream",
       "stream": "stderr",
       "text": [
        "\r",
        "[ 13 %] elapsed[sec]: 0.030 | ETA[sec]: 0.197 "
       ]
      },
      {
       "output_type": "stream",
       "stream": "stderr",
       "text": [
        "\r",
        "[ 14 %] elapsed[sec]: 0.032 | ETA[sec]: 0.195 "
       ]
      },
      {
       "output_type": "stream",
       "stream": "stderr",
       "text": [
        "\r",
        "[ 14 %] elapsed[sec]: 0.034 | ETA[sec]: 0.194 "
       ]
      },
      {
       "output_type": "stream",
       "stream": "stderr",
       "text": [
        "\r",
        "[ 15 %] elapsed[sec]: 0.035 | ETA[sec]: 0.191 "
       ]
      },
      {
       "output_type": "stream",
       "stream": "stderr",
       "text": [
        "\r",
        "[ 16 %] elapsed[sec]: 0.037 | ETA[sec]: 0.188 "
       ]
      },
      {
       "output_type": "stream",
       "stream": "stderr",
       "text": [
        "\r",
        "[ 17 %] elapsed[sec]: 0.039 | ETA[sec]: 0.187 "
       ]
      },
      {
       "output_type": "stream",
       "stream": "stderr",
       "text": [
        "\r",
        "[ 17 %] elapsed[sec]: 0.041 | ETA[sec]: 0.185 "
       ]
      },
      {
       "output_type": "stream",
       "stream": "stderr",
       "text": [
        "\r",
        "[ 18 %] elapsed[sec]: 0.043 | ETA[sec]: 0.185 "
       ]
      },
      {
       "output_type": "stream",
       "stream": "stderr",
       "text": [
        "\r",
        "[ 19 %] elapsed[sec]: 0.044 | ETA[sec]: 0.183 "
       ]
      },
      {
       "output_type": "stream",
       "stream": "stderr",
       "text": [
        "\r",
        "[ 20 %] elapsed[sec]: 0.046 | ETA[sec]: 0.180 "
       ]
      },
      {
       "output_type": "stream",
       "stream": "stderr",
       "text": [
        "\r",
        "[ 21 %] elapsed[sec]: 0.047 | ETA[sec]: 0.177 "
       ]
      },
      {
       "output_type": "stream",
       "stream": "stderr",
       "text": [
        "\r",
        "[ 21 %] elapsed[sec]: 0.049 | ETA[sec]: 0.176 "
       ]
      },
      {
       "output_type": "stream",
       "stream": "stderr",
       "text": [
        "\r",
        "[ 22 %] elapsed[sec]: 0.051 | ETA[sec]: 0.174 "
       ]
      },
      {
       "output_type": "stream",
       "stream": "stderr",
       "text": [
        "\r",
        "[ 23 %] elapsed[sec]: 0.053 | ETA[sec]: 0.172 "
       ]
      },
      {
       "output_type": "stream",
       "stream": "stderr",
       "text": [
        "\r",
        "[ 24 %] elapsed[sec]: 0.055 | ETA[sec]: 0.171 "
       ]
      },
      {
       "output_type": "stream",
       "stream": "stderr",
       "text": [
        "\r",
        "[ 25 %] elapsed[sec]: 0.057 | ETA[sec]: 0.170 "
       ]
      },
      {
       "output_type": "stream",
       "stream": "stderr",
       "text": [
        "\r",
        "[ 25 %] elapsed[sec]: 0.059 | ETA[sec]: 0.169 "
       ]
      },
      {
       "output_type": "stream",
       "stream": "stderr",
       "text": [
        "\r",
        "[ 26 %] elapsed[sec]: 0.061 | ETA[sec]: 0.168 "
       ]
      },
      {
       "output_type": "stream",
       "stream": "stderr",
       "text": [
        "\r",
        "[ 27 %] elapsed[sec]: 0.062 | ETA[sec]: 0.166 "
       ]
      },
      {
       "output_type": "stream",
       "stream": "stderr",
       "text": [
        "\r",
        "[ 28 %] elapsed[sec]: 0.064 | ETA[sec]: 0.164 "
       ]
      },
      {
       "output_type": "stream",
       "stream": "stderr",
       "text": [
        "\r",
        "[ 28 %] elapsed[sec]: 0.066 | ETA[sec]: 0.162 "
       ]
      },
      {
       "output_type": "stream",
       "stream": "stderr",
       "text": [
        "\r",
        "[ 29 %] elapsed[sec]: 0.068 | ETA[sec]: 0.161 "
       ]
      },
      {
       "output_type": "stream",
       "stream": "stderr",
       "text": [
        "\r",
        "[ 30 %] elapsed[sec]: 0.070 | ETA[sec]: 0.159 "
       ]
      },
      {
       "output_type": "stream",
       "stream": "stderr",
       "text": [
        "\r",
        "[ 31 %] elapsed[sec]: 0.072 | ETA[sec]: 0.157 "
       ]
      },
      {
       "output_type": "stream",
       "stream": "stderr",
       "text": [
        "\r",
        "[ 32 %] elapsed[sec]: 0.074 | ETA[sec]: 0.157 "
       ]
      },
      {
       "output_type": "stream",
       "stream": "stderr",
       "text": [
        "\r",
        "[ 32 %] elapsed[sec]: 0.076 | ETA[sec]: 0.156 "
       ]
      },
      {
       "output_type": "stream",
       "stream": "stderr",
       "text": [
        "\r",
        "[ 33 %] elapsed[sec]: 0.078 | ETA[sec]: 0.154 "
       ]
      },
      {
       "output_type": "stream",
       "stream": "stderr",
       "text": [
        "\r",
        "[ 34 %] elapsed[sec]: 0.080 | ETA[sec]: 0.152 "
       ]
      },
      {
       "output_type": "stream",
       "stream": "stderr",
       "text": [
        "\r",
        "[ 35 %] elapsed[sec]: 0.082 | ETA[sec]: 0.151 "
       ]
      },
      {
       "output_type": "stream",
       "stream": "stderr",
       "text": [
        "\r",
        "[ 35 %] elapsed[sec]: 0.084 | ETA[sec]: 0.150 "
       ]
      },
      {
       "output_type": "stream",
       "stream": "stderr",
       "text": [
        "\r",
        "[ 36 %] elapsed[sec]: 0.086 | ETA[sec]: 0.149 "
       ]
      },
      {
       "output_type": "stream",
       "stream": "stderr",
       "text": [
        "\r",
        "[ 37 %] elapsed[sec]: 0.088 | ETA[sec]: 0.147 "
       ]
      },
      {
       "output_type": "stream",
       "stream": "stderr",
       "text": [
        "\r",
        "[ 38 %] elapsed[sec]: 0.091 | ETA[sec]: 0.146 "
       ]
      },
      {
       "output_type": "stream",
       "stream": "stderr",
       "text": [
        "\r",
        "[ 39 %] elapsed[sec]: 0.093 | ETA[sec]: 0.144 "
       ]
      },
      {
       "output_type": "stream",
       "stream": "stderr",
       "text": [
        "\r",
        "[ 39 %] elapsed[sec]: 0.095 | ETA[sec]: 0.143 "
       ]
      },
      {
       "output_type": "stream",
       "stream": "stderr",
       "text": [
        "\r",
        "[ 40 %] elapsed[sec]: 0.097 | ETA[sec]: 0.142 "
       ]
      },
      {
       "output_type": "stream",
       "stream": "stderr",
       "text": [
        "\r",
        "[ 41 %] elapsed[sec]: 0.099 | ETA[sec]: 0.140 "
       ]
      },
      {
       "output_type": "stream",
       "stream": "stderr",
       "text": [
        "\r",
        "[ 42 %] elapsed[sec]: 0.101 | ETA[sec]: 0.138 "
       ]
      },
      {
       "output_type": "stream",
       "stream": "stderr",
       "text": [
        "\r",
        "[ 42 %] elapsed[sec]: 0.102 | ETA[sec]: 0.136 "
       ]
      },
      {
       "output_type": "stream",
       "stream": "stderr",
       "text": [
        "\r",
        "[ 43 %] elapsed[sec]: 0.104 | ETA[sec]: 0.133 "
       ]
      },
      {
       "output_type": "stream",
       "stream": "stderr",
       "text": [
        "\r",
        "[ 44 %] elapsed[sec]: 0.105 | ETA[sec]: 0.131 "
       ]
      },
      {
       "output_type": "stream",
       "stream": "stderr",
       "text": [
        "\r",
        "[ 45 %] elapsed[sec]: 0.107 | ETA[sec]: 0.129 "
       ]
      },
      {
       "output_type": "stream",
       "stream": "stderr",
       "text": [
        "\r",
        "[ 46 %] elapsed[sec]: 0.108 | ETA[sec]: 0.127 "
       ]
      },
      {
       "output_type": "stream",
       "stream": "stderr",
       "text": [
        "\r",
        "[ 46 %] elapsed[sec]: 0.110 | ETA[sec]: 0.125 "
       ]
      },
      {
       "output_type": "stream",
       "stream": "stderr",
       "text": [
        "\r",
        "[ 47 %] elapsed[sec]: 0.113 | ETA[sec]: 0.124 "
       ]
      },
      {
       "output_type": "stream",
       "stream": "stderr",
       "text": [
        "\r",
        "[ 48 %] elapsed[sec]: 0.115 | ETA[sec]: 0.123 "
       ]
      },
      {
       "output_type": "stream",
       "stream": "stderr",
       "text": [
        "\r",
        "[ 49 %] elapsed[sec]: 0.117 | ETA[sec]: 0.121 "
       ]
      },
      {
       "output_type": "stream",
       "stream": "stderr",
       "text": [
        "\r",
        "[ 50 %] elapsed[sec]: 0.119 | ETA[sec]: 0.119 "
       ]
      },
      {
       "output_type": "stream",
       "stream": "stderr",
       "text": [
        "\r",
        "[ 50 %] elapsed[sec]: 0.121 | ETA[sec]: 0.117 "
       ]
      },
      {
       "output_type": "stream",
       "stream": "stderr",
       "text": [
        "\r",
        "[ 51 %] elapsed[sec]: 0.122 | ETA[sec]: 0.115 "
       ]
      },
      {
       "output_type": "stream",
       "stream": "stderr",
       "text": [
        "\r",
        "[ 52 %] elapsed[sec]: 0.123 | ETA[sec]: 0.112 "
       ]
      },
      {
       "output_type": "stream",
       "stream": "stderr",
       "text": [
        "\r",
        "[ 53 %] elapsed[sec]: 0.125 | ETA[sec]: 0.110 "
       ]
      },
      {
       "output_type": "stream",
       "stream": "stderr",
       "text": [
        "\r",
        "[ 53 %] elapsed[sec]: 0.126 | ETA[sec]: 0.108 "
       ]
      },
      {
       "output_type": "stream",
       "stream": "stderr",
       "text": [
        "\r",
        "[ 54 %] elapsed[sec]: 0.128 | ETA[sec]: 0.106 "
       ]
      },
      {
       "output_type": "stream",
       "stream": "stderr",
       "text": [
        "\r",
        "[ 55 %] elapsed[sec]: 0.129 | ETA[sec]: 0.104 "
       ]
      },
      {
       "output_type": "stream",
       "stream": "stderr",
       "text": [
        "\r",
        "[ 56 %] elapsed[sec]: 0.131 | ETA[sec]: 0.102 "
       ]
      },
      {
       "output_type": "stream",
       "stream": "stderr",
       "text": [
        "\r",
        "[ 57 %] elapsed[sec]: 0.133 | ETA[sec]: 0.101 "
       ]
      },
      {
       "output_type": "stream",
       "stream": "stderr",
       "text": [
        "\r",
        "[ 57 %] elapsed[sec]: 0.135 | ETA[sec]: 0.099 "
       ]
      },
      {
       "output_type": "stream",
       "stream": "stderr",
       "text": [
        "\r",
        "[ 58 %] elapsed[sec]: 0.137 | ETA[sec]: 0.097 "
       ]
      },
      {
       "output_type": "stream",
       "stream": "stderr",
       "text": [
        "\r",
        "[ 59 %] elapsed[sec]: 0.140 | ETA[sec]: 0.096 "
       ]
      },
      {
       "output_type": "stream",
       "stream": "stderr",
       "text": [
        "\r",
        "[ 60 %] elapsed[sec]: 0.142 | ETA[sec]: 0.094 "
       ]
      },
      {
       "output_type": "stream",
       "stream": "stderr",
       "text": [
        "\r",
        "[ 60 %] elapsed[sec]: 0.144 | ETA[sec]: 0.092 "
       ]
      },
      {
       "output_type": "stream",
       "stream": "stderr",
       "text": [
        "\r",
        "[ 61 %] elapsed[sec]: 0.146 | ETA[sec]: 0.091 "
       ]
      },
      {
       "output_type": "stream",
       "stream": "stderr",
       "text": [
        "\r",
        "[ 62 %] elapsed[sec]: 0.149 | ETA[sec]: 0.089 "
       ]
      },
      {
       "output_type": "stream",
       "stream": "stderr",
       "text": [
        "\r",
        "[ 63 %] elapsed[sec]: 0.151 | ETA[sec]: 0.087 "
       ]
      },
      {
       "output_type": "stream",
       "stream": "stderr",
       "text": [
        "\r",
        "[ 64 %] elapsed[sec]: 0.152 | ETA[sec]: 0.085 "
       ]
      },
      {
       "output_type": "stream",
       "stream": "stderr",
       "text": [
        "\r",
        "[ 64 %] elapsed[sec]: 0.154 | ETA[sec]: 0.084 "
       ]
      },
      {
       "output_type": "stream",
       "stream": "stderr",
       "text": [
        "\r",
        "[ 65 %] elapsed[sec]: 0.156 | ETA[sec]: 0.082 "
       ]
      },
      {
       "output_type": "stream",
       "stream": "stderr",
       "text": [
        "\r",
        "[ 66 %] elapsed[sec]: 0.158 | ETA[sec]: 0.080 "
       ]
      },
      {
       "output_type": "stream",
       "stream": "stderr",
       "text": [
        "\r",
        "[ 67 %] elapsed[sec]: 0.160 | ETA[sec]: 0.078 "
       ]
      },
      {
       "output_type": "stream",
       "stream": "stderr",
       "text": [
        "\r",
        "[ 67 %] elapsed[sec]: 0.162 | ETA[sec]: 0.076 "
       ]
      },
      {
       "output_type": "stream",
       "stream": "stderr",
       "text": [
        "\r",
        "[ 68 %] elapsed[sec]: 0.164 | ETA[sec]: 0.074 "
       ]
      },
      {
       "output_type": "stream",
       "stream": "stderr",
       "text": [
        "\r",
        "[ 69 %] elapsed[sec]: 0.166 | ETA[sec]: 0.073 "
       ]
      },
      {
       "output_type": "stream",
       "stream": "stderr",
       "text": [
        "\r",
        "[ 70 %] elapsed[sec]: 0.168 | ETA[sec]: 0.071 "
       ]
      },
      {
       "output_type": "stream",
       "stream": "stderr",
       "text": [
        "\r",
        "[ 71 %] elapsed[sec]: 0.170 | ETA[sec]: 0.069 "
       ]
      },
      {
       "output_type": "stream",
       "stream": "stderr",
       "text": [
        "\r",
        "[ 71 %] elapsed[sec]: 0.172 | ETA[sec]: 0.067 "
       ]
      },
      {
       "output_type": "stream",
       "stream": "stderr",
       "text": [
        "\r",
        "[ 72 %] elapsed[sec]: 0.174 | ETA[sec]: 0.066 "
       ]
      },
      {
       "output_type": "stream",
       "stream": "stderr",
       "text": [
        "\r",
        "[ 73 %] elapsed[sec]: 0.177 | ETA[sec]: 0.064 "
       ]
      },
      {
       "output_type": "stream",
       "stream": "stderr",
       "text": [
        "\r",
        "[ 74 %] elapsed[sec]: 0.179 | ETA[sec]: 0.062 "
       ]
      },
      {
       "output_type": "stream",
       "stream": "stderr",
       "text": [
        "\r",
        "[ 75 %] elapsed[sec]: 0.181 | ETA[sec]: 0.060 "
       ]
      },
      {
       "output_type": "stream",
       "stream": "stderr",
       "text": [
        "\r",
        "[ 75 %] elapsed[sec]: 0.182 | ETA[sec]: 0.058 "
       ]
      },
      {
       "output_type": "stream",
       "stream": "stderr",
       "text": [
        "\r",
        "[ 76 %] elapsed[sec]: 0.184 | ETA[sec]: 0.056 "
       ]
      },
      {
       "output_type": "stream",
       "stream": "stderr",
       "text": [
        "\r",
        "[ 77 %] elapsed[sec]: 0.186 | ETA[sec]: 0.054 "
       ]
      },
      {
       "output_type": "stream",
       "stream": "stderr",
       "text": [
        "\r",
        "[ 78 %] elapsed[sec]: 0.188 | ETA[sec]: 0.053 "
       ]
      },
      {
       "output_type": "stream",
       "stream": "stderr",
       "text": [
        "\r",
        "[ 78 %] elapsed[sec]: 0.190 | ETA[sec]: 0.051 "
       ]
      },
      {
       "output_type": "stream",
       "stream": "stderr",
       "text": [
        "\r",
        "[ 79 %] elapsed[sec]: 0.192 | ETA[sec]: 0.049 "
       ]
      },
      {
       "output_type": "stream",
       "stream": "stderr",
       "text": [
        "\r",
        "[ 80 %] elapsed[sec]: 0.194 | ETA[sec]: 0.047 "
       ]
      },
      {
       "output_type": "stream",
       "stream": "stderr",
       "text": [
        "\r",
        "[ 81 %] elapsed[sec]: 0.196 | ETA[sec]: 0.045 "
       ]
      },
      {
       "output_type": "stream",
       "stream": "stderr",
       "text": [
        "\r",
        "[ 82 %] elapsed[sec]: 0.198 | ETA[sec]: 0.043 "
       ]
      },
      {
       "output_type": "stream",
       "stream": "stderr",
       "text": [
        "\r",
        "[ 82 %] elapsed[sec]: 0.200 | ETA[sec]: 0.042 "
       ]
      },
      {
       "output_type": "stream",
       "stream": "stderr",
       "text": [
        "\r",
        "[ 83 %] elapsed[sec]: 0.202 | ETA[sec]: 0.040 "
       ]
      },
      {
       "output_type": "stream",
       "stream": "stderr",
       "text": [
        "\r",
        "[ 84 %] elapsed[sec]: 0.204 | ETA[sec]: 0.038 "
       ]
      },
      {
       "output_type": "stream",
       "stream": "stderr",
       "text": [
        "\r",
        "[ 85 %] elapsed[sec]: 0.206 | ETA[sec]: 0.036 "
       ]
      },
      {
       "output_type": "stream",
       "stream": "stderr",
       "text": [
        "\r",
        "[ 85 %] elapsed[sec]: 0.209 | ETA[sec]: 0.034 "
       ]
      },
      {
       "output_type": "stream",
       "stream": "stderr",
       "text": [
        "\r",
        "[ 86 %] elapsed[sec]: 0.211 | ETA[sec]: 0.032 "
       ]
      },
      {
       "output_type": "stream",
       "stream": "stderr",
       "text": [
        "\r",
        "[ 87 %] elapsed[sec]: 0.213 | ETA[sec]: 0.030 "
       ]
      },
      {
       "output_type": "stream",
       "stream": "stderr",
       "text": [
        "\r",
        "[ 88 %] elapsed[sec]: 0.215 | ETA[sec]: 0.029 "
       ]
      },
      {
       "output_type": "stream",
       "stream": "stderr",
       "text": [
        "\r",
        "[ 89 %] elapsed[sec]: 0.217 | ETA[sec]: 0.027 "
       ]
      },
      {
       "output_type": "stream",
       "stream": "stderr",
       "text": [
        "\r",
        "[ 89 %] elapsed[sec]: 0.219 | ETA[sec]: 0.025 "
       ]
      },
      {
       "output_type": "stream",
       "stream": "stderr",
       "text": [
        "\r",
        "[ 90 %] elapsed[sec]: 0.221 | ETA[sec]: 0.023 "
       ]
      },
      {
       "output_type": "stream",
       "stream": "stderr",
       "text": [
        "\r",
        "[ 91 %] elapsed[sec]: 0.224 | ETA[sec]: 0.021 "
       ]
      },
      {
       "output_type": "stream",
       "stream": "stderr",
       "text": [
        "\r",
        "[ 92 %] elapsed[sec]: 0.226 | ETA[sec]: 0.019 "
       ]
      },
      {
       "output_type": "stream",
       "stream": "stderr",
       "text": [
        "\r",
        "[ 92 %] elapsed[sec]: 0.228 | ETA[sec]: 0.017 "
       ]
      },
      {
       "output_type": "stream",
       "stream": "stderr",
       "text": [
        "\r",
        "[ 93 %] elapsed[sec]: 0.230 | ETA[sec]: 0.015 "
       ]
      },
      {
       "output_type": "stream",
       "stream": "stderr",
       "text": [
        "\r",
        "[ 94 %] elapsed[sec]: 0.232 | ETA[sec]: 0.013 "
       ]
      },
      {
       "output_type": "stream",
       "stream": "stderr",
       "text": [
        "\r",
        "[ 95 %] elapsed[sec]: 0.233 | ETA[sec]: 0.011 "
       ]
      },
      {
       "output_type": "stream",
       "stream": "stderr",
       "text": [
        "\r",
        "[ 96 %] elapsed[sec]: 0.235 | ETA[sec]: 0.010 "
       ]
      },
      {
       "output_type": "stream",
       "stream": "stderr",
       "text": [
        "\r",
        "[ 96 %] elapsed[sec]: 0.237 | ETA[sec]: 0.008 "
       ]
      },
      {
       "output_type": "stream",
       "stream": "stderr",
       "text": [
        "\r",
        "[ 97 %] elapsed[sec]: 0.238 | ETA[sec]: 0.006 "
       ]
      },
      {
       "output_type": "stream",
       "stream": "stderr",
       "text": [
        "\r",
        "[ 98 %] elapsed[sec]: 0.240 | ETA[sec]: 0.004 "
       ]
      },
      {
       "output_type": "stream",
       "stream": "stderr",
       "text": [
        "\r",
        "[ 99 %] elapsed[sec]: 0.241 | ETA[sec]: 0.002 "
       ]
      },
      {
       "output_type": "stream",
       "stream": "stderr",
       "text": [
        "\r",
        "[100 %] elapsed[sec]: 0.243"
       ]
      },
      {
       "output_type": "stream",
       "stream": "stdout",
       "text": [
        "\n",
        "Title: \n",
        "                      Started: 09/24/2014 16:10:05\n",
        "                      Finished: 09/24/2014 16:10:06\n",
        "                      Total time elapsed: 0.243 sec\n",
        "                      CPU %: 102.500000\n",
        "                      Memory %: 3.384757"
       ]
      },
      {
       "output_type": "stream",
       "stream": "stderr",
       "text": [
        "\n",
        "Total time elapsed: 0.243 sec\n",
        "\r",
        "[  0 %]"
       ]
      },
      {
       "output_type": "stream",
       "stream": "stderr",
       "text": [
        " elapsed[sec]: 0.000"
       ]
      },
      {
       "output_type": "stream",
       "stream": "stdout",
       "text": [
        "\n",
        "Saving sequence results/color-contrast-2_0.webm"
       ]
      },
      {
       "output_type": "stream",
       "stream": "stderr",
       "text": [
        "\r",
        "[  0 %] elapsed[sec]: 0.001 | ETA[sec]: 0.128 "
       ]
      },
      {
       "output_type": "stream",
       "stream": "stderr",
       "text": [
        "\r",
        "[  1 %] elapsed[sec]: 0.003 | ETA[sec]: 0.181 "
       ]
      },
      {
       "output_type": "stream",
       "stream": "stderr",
       "text": [
        "\r",
        "[  2 %] elapsed[sec]: 0.004 | ETA[sec]: 0.186 "
       ]
      },
      {
       "output_type": "stream",
       "stream": "stderr",
       "text": [
        "\r",
        "[  3 %] elapsed[sec]: 0.006 | ETA[sec]: 0.192 "
       ]
      },
      {
       "output_type": "stream",
       "stream": "stderr",
       "text": [
        "\r",
        "[  3 %] elapsed[sec]: 0.008 | ETA[sec]: 0.190 "
       ]
      },
      {
       "output_type": "stream",
       "stream": "stderr",
       "text": [
        "\r",
        "[  4 %] elapsed[sec]: 0.009 | ETA[sec]: 0.187 "
       ]
      },
      {
       "output_type": "stream",
       "stream": "stderr",
       "text": [
        "\r",
        "[  5 %] elapsed[sec]: 0.011 | ETA[sec]: 0.190 "
       ]
      },
      {
       "output_type": "stream",
       "stream": "stderr",
       "text": [
        "\r",
        "[  6 %] elapsed[sec]: 0.013 | ETA[sec]: 0.188 "
       ]
      },
      {
       "output_type": "stream",
       "stream": "stderr",
       "text": [
        "\r",
        "[  7 %] elapsed[sec]: 0.014 | ETA[sec]: 0.186 "
       ]
      },
      {
       "output_type": "stream",
       "stream": "stderr",
       "text": [
        "\r",
        "[  7 %] elapsed[sec]: 0.016 | ETA[sec]: 0.183 "
       ]
      },
      {
       "output_type": "stream",
       "stream": "stderr",
       "text": [
        "\r",
        "[  8 %] elapsed[sec]: 0.017 | ETA[sec]: 0.183 "
       ]
      },
      {
       "output_type": "stream",
       "stream": "stderr",
       "text": [
        "\r",
        "[  9 %] elapsed[sec]: 0.019 | ETA[sec]: 0.183 "
       ]
      },
      {
       "output_type": "stream",
       "stream": "stderr",
       "text": [
        "\r",
        "[ 10 %] elapsed[sec]: 0.021 | ETA[sec]: 0.185 "
       ]
      },
      {
       "output_type": "stream",
       "stream": "stderr",
       "text": [
        "\r",
        "[ 10 %] elapsed[sec]: 0.023 | ETA[sec]: 0.187 "
       ]
      },
      {
       "output_type": "stream",
       "stream": "stderr",
       "text": [
        "\r",
        "[ 11 %] elapsed[sec]: 0.025 | ETA[sec]: 0.188 "
       ]
      },
      {
       "output_type": "stream",
       "stream": "stderr",
       "text": [
        "\r",
        "[ 12 %] elapsed[sec]: 0.027 | ETA[sec]: 0.189 "
       ]
      },
      {
       "output_type": "stream",
       "stream": "stderr",
       "text": [
        "\r",
        "[ 13 %] elapsed[sec]: 0.029 | ETA[sec]: 0.189 "
       ]
      },
      {
       "output_type": "stream",
       "stream": "stderr",
       "text": [
        "\r",
        "[ 14 %] elapsed[sec]: 0.031 | ETA[sec]: 0.190 "
       ]
      },
      {
       "output_type": "stream",
       "stream": "stderr",
       "text": [
        "\r",
        "[ 14 %] elapsed[sec]: 0.033 | ETA[sec]: 0.191 "
       ]
      },
      {
       "output_type": "stream",
       "stream": "stderr",
       "text": [
        "\r",
        "[ 15 %] elapsed[sec]: 0.035 | ETA[sec]: 0.191 "
       ]
      },
      {
       "output_type": "stream",
       "stream": "stderr",
       "text": [
        "\r",
        "[ 16 %] elapsed[sec]: 0.037 | ETA[sec]: 0.191 "
       ]
      },
      {
       "output_type": "stream",
       "stream": "stderr",
       "text": [
        "\r",
        "[ 17 %] elapsed[sec]: 0.039 | ETA[sec]: 0.187 "
       ]
      },
      {
       "output_type": "stream",
       "stream": "stderr",
       "text": [
        "\r",
        "[ 17 %] elapsed[sec]: 0.040 | ETA[sec]: 0.183 "
       ]
      },
      {
       "output_type": "stream",
       "stream": "stderr",
       "text": [
        "\r",
        "[ 18 %] elapsed[sec]: 0.042 | ETA[sec]: 0.180 "
       ]
      },
      {
       "output_type": "stream",
       "stream": "stderr",
       "text": [
        "\r",
        "[ 19 %] elapsed[sec]: 0.043 | ETA[sec]: 0.177 "
       ]
      },
      {
       "output_type": "stream",
       "stream": "stderr",
       "text": [
        "\r",
        "[ 20 %] elapsed[sec]: 0.045 | ETA[sec]: 0.175 "
       ]
      },
      {
       "output_type": "stream",
       "stream": "stderr",
       "text": [
        "\r",
        "[ 21 %] elapsed[sec]: 0.046 | ETA[sec]: 0.174 "
       ]
      },
      {
       "output_type": "stream",
       "stream": "stderr",
       "text": [
        "\r",
        "[ 21 %] elapsed[sec]: 0.048 | ETA[sec]: 0.172 "
       ]
      },
      {
       "output_type": "stream",
       "stream": "stderr",
       "text": [
        "\r",
        "[ 22 %] elapsed[sec]: 0.050 | ETA[sec]: 0.170 "
       ]
      },
      {
       "output_type": "stream",
       "stream": "stderr",
       "text": [
        "\r",
        "[ 23 %] elapsed[sec]: 0.052 | ETA[sec]: 0.169 "
       ]
      },
      {
       "output_type": "stream",
       "stream": "stderr",
       "text": [
        "\r",
        "[ 24 %] elapsed[sec]: 0.053 | ETA[sec]: 0.166 "
       ]
      },
      {
       "output_type": "stream",
       "stream": "stderr",
       "text": [
        "\r",
        "[ 25 %] elapsed[sec]: 0.055 | ETA[sec]: 0.165 "
       ]
      },
      {
       "output_type": "stream",
       "stream": "stderr",
       "text": [
        "\r",
        "[ 25 %] elapsed[sec]: 0.057 | ETA[sec]: 0.164 "
       ]
      },
      {
       "output_type": "stream",
       "stream": "stderr",
       "text": [
        "\r",
        "[ 26 %] elapsed[sec]: 0.059 | ETA[sec]: 0.163 "
       ]
      },
      {
       "output_type": "stream",
       "stream": "stderr",
       "text": [
        "\r",
        "[ 27 %] elapsed[sec]: 0.061 | ETA[sec]: 0.162 "
       ]
      },
      {
       "output_type": "stream",
       "stream": "stderr",
       "text": [
        "\r",
        "[ 28 %] elapsed[sec]: 0.063 | ETA[sec]: 0.161 "
       ]
      },
      {
       "output_type": "stream",
       "stream": "stderr",
       "text": [
        "\r",
        "[ 28 %] elapsed[sec]: 0.065 | ETA[sec]: 0.160 "
       ]
      },
      {
       "output_type": "stream",
       "stream": "stderr",
       "text": [
        "\r",
        "[ 29 %] elapsed[sec]: 0.067 | ETA[sec]: 0.158 "
       ]
      },
      {
       "output_type": "stream",
       "stream": "stderr",
       "text": [
        "\r",
        "[ 30 %] elapsed[sec]: 0.069 | ETA[sec]: 0.158 "
       ]
      },
      {
       "output_type": "stream",
       "stream": "stderr",
       "text": [
        "\r",
        "[ 31 %] elapsed[sec]: 0.071 | ETA[sec]: 0.157 "
       ]
      },
      {
       "output_type": "stream",
       "stream": "stderr",
       "text": [
        "\r",
        "[ 32 %] elapsed[sec]: 0.073 | ETA[sec]: 0.156 "
       ]
      },
      {
       "output_type": "stream",
       "stream": "stderr",
       "text": [
        "\r",
        "[ 32 %] elapsed[sec]: 0.075 | ETA[sec]: 0.153 "
       ]
      },
      {
       "output_type": "stream",
       "stream": "stderr",
       "text": [
        "\r",
        "[ 33 %] elapsed[sec]: 0.077 | ETA[sec]: 0.151 "
       ]
      },
      {
       "output_type": "stream",
       "stream": "stderr",
       "text": [
        "\r",
        "[ 34 %] elapsed[sec]: 0.078 | ETA[sec]: 0.150 "
       ]
      },
      {
       "output_type": "stream",
       "stream": "stderr",
       "text": [
        "\r",
        "[ 35 %] elapsed[sec]: 0.080 | ETA[sec]: 0.148 "
       ]
      },
      {
       "output_type": "stream",
       "stream": "stderr",
       "text": [
        "\r",
        "[ 35 %] elapsed[sec]: 0.082 | ETA[sec]: 0.146 "
       ]
      },
      {
       "output_type": "stream",
       "stream": "stderr",
       "text": [
        "\r",
        "[ 36 %] elapsed[sec]: 0.084 | ETA[sec]: 0.145 "
       ]
      },
      {
       "output_type": "stream",
       "stream": "stderr",
       "text": [
        "\r",
        "[ 37 %] elapsed[sec]: 0.086 | ETA[sec]: 0.143 "
       ]
      },
      {
       "output_type": "stream",
       "stream": "stderr",
       "text": [
        "\r",
        "[ 38 %] elapsed[sec]: 0.087 | ETA[sec]: 0.141 "
       ]
      },
      {
       "output_type": "stream",
       "stream": "stderr",
       "text": [
        "\r",
        "[ 39 %] elapsed[sec]: 0.089 | ETA[sec]: 0.139 "
       ]
      },
      {
       "output_type": "stream",
       "stream": "stderr",
       "text": [
        "\r",
        "[ 39 %] elapsed[sec]: 0.091 | ETA[sec]: 0.137 "
       ]
      },
      {
       "output_type": "stream",
       "stream": "stderr",
       "text": [
        "\r",
        "[ 40 %] elapsed[sec]: 0.092 | ETA[sec]: 0.135 "
       ]
      },
      {
       "output_type": "stream",
       "stream": "stderr",
       "text": [
        "\r",
        "[ 41 %] elapsed[sec]: 0.094 | ETA[sec]: 0.133 "
       ]
      },
      {
       "output_type": "stream",
       "stream": "stderr",
       "text": [
        "\r",
        "[ 42 %] elapsed[sec]: 0.096 | ETA[sec]: 0.132 "
       ]
      },
      {
       "output_type": "stream",
       "stream": "stderr",
       "text": [
        "\r",
        "[ 42 %] elapsed[sec]: 0.098 | ETA[sec]: 0.129 "
       ]
      },
      {
       "output_type": "stream",
       "stream": "stderr",
       "text": [
        "\r",
        "[ 43 %] elapsed[sec]: 0.099 | ETA[sec]: 0.127 "
       ]
      },
      {
       "output_type": "stream",
       "stream": "stderr",
       "text": [
        "\r",
        "[ 44 %] elapsed[sec]: 0.100 | ETA[sec]: 0.125 "
       ]
      },
      {
       "output_type": "stream",
       "stream": "stderr",
       "text": [
        "\r",
        "[ 45 %] elapsed[sec]: 0.102 | ETA[sec]: 0.123 "
       ]
      },
      {
       "output_type": "stream",
       "stream": "stderr",
       "text": [
        "\r",
        "[ 46 %] elapsed[sec]: 0.104 | ETA[sec]: 0.121 "
       ]
      },
      {
       "output_type": "stream",
       "stream": "stderr",
       "text": [
        "\r",
        "[ 46 %] elapsed[sec]: 0.105 | ETA[sec]: 0.119 "
       ]
      },
      {
       "output_type": "stream",
       "stream": "stderr",
       "text": [
        "\r",
        "[ 47 %] elapsed[sec]: 0.107 | ETA[sec]: 0.117 "
       ]
      },
      {
       "output_type": "stream",
       "stream": "stderr",
       "text": [
        "\r",
        "[ 48 %] elapsed[sec]: 0.108 | ETA[sec]: 0.115 "
       ]
      },
      {
       "output_type": "stream",
       "stream": "stderr",
       "text": [
        "\r",
        "[ 49 %] elapsed[sec]: 0.109 | ETA[sec]: 0.113 "
       ]
      },
      {
       "output_type": "stream",
       "stream": "stderr",
       "text": [
        "\r",
        "[ 50 %] elapsed[sec]: 0.111 | ETA[sec]: 0.111 "
       ]
      },
      {
       "output_type": "stream",
       "stream": "stderr",
       "text": [
        "\r",
        "[ 50 %] elapsed[sec]: 0.112 | ETA[sec]: 0.109 "
       ]
      },
      {
       "output_type": "stream",
       "stream": "stderr",
       "text": [
        "\r",
        "[ 51 %] elapsed[sec]: 0.114 | ETA[sec]: 0.107 "
       ]
      },
      {
       "output_type": "stream",
       "stream": "stderr",
       "text": [
        "\r",
        "[ 52 %] elapsed[sec]: 0.116 | ETA[sec]: 0.106 "
       ]
      },
      {
       "output_type": "stream",
       "stream": "stderr",
       "text": [
        "\r",
        "[ 53 %] elapsed[sec]: 0.118 | ETA[sec]: 0.104 "
       ]
      },
      {
       "output_type": "stream",
       "stream": "stderr",
       "text": [
        "\r",
        "[ 53 %] elapsed[sec]: 0.120 | ETA[sec]: 0.103 "
       ]
      },
      {
       "output_type": "stream",
       "stream": "stderr",
       "text": [
        "\r",
        "[ 54 %] elapsed[sec]: 0.122 | ETA[sec]: 0.101 "
       ]
      },
      {
       "output_type": "stream",
       "stream": "stderr",
       "text": [
        "\r",
        "[ 55 %] elapsed[sec]: 0.124 | ETA[sec]: 0.100 "
       ]
      },
      {
       "output_type": "stream",
       "stream": "stderr",
       "text": [
        "\r",
        "[ 56 %] elapsed[sec]: 0.127 | ETA[sec]: 0.098 "
       ]
      },
      {
       "output_type": "stream",
       "stream": "stderr",
       "text": [
        "\r",
        "[ 57 %] elapsed[sec]: 0.129 | ETA[sec]: 0.097 "
       ]
      },
      {
       "output_type": "stream",
       "stream": "stderr",
       "text": [
        "\r",
        "[ 57 %] elapsed[sec]: 0.131 | ETA[sec]: 0.095 "
       ]
      },
      {
       "output_type": "stream",
       "stream": "stderr",
       "text": [
        "\r",
        "[ 58 %] elapsed[sec]: 0.133 | ETA[sec]: 0.094 "
       ]
      },
      {
       "output_type": "stream",
       "stream": "stderr",
       "text": [
        "\r",
        "[ 59 %] elapsed[sec]: 0.135 | ETA[sec]: 0.092 "
       ]
      },
      {
       "output_type": "stream",
       "stream": "stderr",
       "text": [
        "\r",
        "[ 60 %] elapsed[sec]: 0.137 | ETA[sec]: 0.091 "
       ]
      },
      {
       "output_type": "stream",
       "stream": "stderr",
       "text": [
        "\r",
        "[ 60 %] elapsed[sec]: 0.139 | ETA[sec]: 0.089 "
       ]
      },
      {
       "output_type": "stream",
       "stream": "stderr",
       "text": [
        "\r",
        "[ 61 %] elapsed[sec]: 0.141 | ETA[sec]: 0.087 "
       ]
      },
      {
       "output_type": "stream",
       "stream": "stderr",
       "text": [
        "\r",
        "[ 62 %] elapsed[sec]: 0.143 | ETA[sec]: 0.086 "
       ]
      },
      {
       "output_type": "stream",
       "stream": "stderr",
       "text": [
        "\r",
        "[ 63 %] elapsed[sec]: 0.145 | ETA[sec]: 0.084 "
       ]
      },
      {
       "output_type": "stream",
       "stream": "stderr",
       "text": [
        "\r",
        "[ 64 %] elapsed[sec]: 0.147 | ETA[sec]: 0.083 "
       ]
      },
      {
       "output_type": "stream",
       "stream": "stderr",
       "text": [
        "\r",
        "[ 64 %] elapsed[sec]: 0.149 | ETA[sec]: 0.081 "
       ]
      },
      {
       "output_type": "stream",
       "stream": "stderr",
       "text": [
        "\r",
        "[ 65 %] elapsed[sec]: 0.151 | ETA[sec]: 0.079 "
       ]
      },
      {
       "output_type": "stream",
       "stream": "stderr",
       "text": [
        "\r",
        "[ 66 %] elapsed[sec]: 0.153 | ETA[sec]: 0.077 "
       ]
      },
      {
       "output_type": "stream",
       "stream": "stderr",
       "text": [
        "\r",
        "[ 67 %] elapsed[sec]: 0.155 | ETA[sec]: 0.076 "
       ]
      },
      {
       "output_type": "stream",
       "stream": "stderr",
       "text": [
        "\r",
        "[ 67 %] elapsed[sec]: 0.157 | ETA[sec]: 0.074 "
       ]
      },
      {
       "output_type": "stream",
       "stream": "stderr",
       "text": [
        "\r",
        "[ 68 %] elapsed[sec]: 0.158 | ETA[sec]: 0.072 "
       ]
      },
      {
       "output_type": "stream",
       "stream": "stderr",
       "text": [
        "\r",
        "[ 69 %] elapsed[sec]: 0.160 | ETA[sec]: 0.070 "
       ]
      },
      {
       "output_type": "stream",
       "stream": "stderr",
       "text": [
        "\r",
        "[ 70 %] elapsed[sec]: 0.162 | ETA[sec]: 0.069 "
       ]
      },
      {
       "output_type": "stream",
       "stream": "stderr",
       "text": [
        "\r",
        "[ 71 %] elapsed[sec]: 0.164 | ETA[sec]: 0.067 "
       ]
      },
      {
       "output_type": "stream",
       "stream": "stderr",
       "text": [
        "\r",
        "[ 71 %] elapsed[sec]: 0.166 | ETA[sec]: 0.065 "
       ]
      },
      {
       "output_type": "stream",
       "stream": "stderr",
       "text": [
        "\r",
        "[ 72 %] elapsed[sec]: 0.168 | ETA[sec]: 0.063 "
       ]
      },
      {
       "output_type": "stream",
       "stream": "stderr",
       "text": [
        "\r",
        "[ 73 %] elapsed[sec]: 0.170 | ETA[sec]: 0.062 "
       ]
      },
      {
       "output_type": "stream",
       "stream": "stderr",
       "text": [
        "\r",
        "[ 74 %] elapsed[sec]: 0.173 | ETA[sec]: 0.060 "
       ]
      },
      {
       "output_type": "stream",
       "stream": "stderr",
       "text": [
        "\r",
        "[ 75 %] elapsed[sec]: 0.175 | ETA[sec]: 0.058 "
       ]
      },
      {
       "output_type": "stream",
       "stream": "stderr",
       "text": [
        "\r",
        "[ 75 %] elapsed[sec]: 0.176 | ETA[sec]: 0.056 "
       ]
      },
      {
       "output_type": "stream",
       "stream": "stderr",
       "text": [
        "\r",
        "[ 76 %] elapsed[sec]: 0.178 | ETA[sec]: 0.055 "
       ]
      },
      {
       "output_type": "stream",
       "stream": "stderr",
       "text": [
        "\r",
        "[ 77 %] elapsed[sec]: 0.180 | ETA[sec]: 0.053 "
       ]
      },
      {
       "output_type": "stream",
       "stream": "stderr",
       "text": [
        "\r",
        "[ 78 %] elapsed[sec]: 0.182 | ETA[sec]: 0.051 "
       ]
      },
      {
       "output_type": "stream",
       "stream": "stderr",
       "text": [
        "\r",
        "[ 78 %] elapsed[sec]: 0.184 | ETA[sec]: 0.049 "
       ]
      },
      {
       "output_type": "stream",
       "stream": "stderr",
       "text": [
        "\r",
        "[ 79 %] elapsed[sec]: 0.185 | ETA[sec]: 0.047 "
       ]
      },
      {
       "output_type": "stream",
       "stream": "stderr",
       "text": [
        "\r",
        "[ 80 %] elapsed[sec]: 0.187 | ETA[sec]: 0.045 "
       ]
      },
      {
       "output_type": "stream",
       "stream": "stderr",
       "text": [
        "\r",
        "[ 81 %] elapsed[sec]: 0.189 | ETA[sec]: 0.044 "
       ]
      },
      {
       "output_type": "stream",
       "stream": "stderr",
       "text": [
        "\r",
        "[ 82 %] elapsed[sec]: 0.191 | ETA[sec]: 0.042 "
       ]
      },
      {
       "output_type": "stream",
       "stream": "stderr",
       "text": [
        "\r",
        "[ 82 %] elapsed[sec]: 0.193 | ETA[sec]: 0.040 "
       ]
      },
      {
       "output_type": "stream",
       "stream": "stderr",
       "text": [
        "\r",
        "[ 83 %] elapsed[sec]: 0.194 | ETA[sec]: 0.038 "
       ]
      },
      {
       "output_type": "stream",
       "stream": "stderr",
       "text": [
        "\r",
        "[ 84 %] elapsed[sec]: 0.196 | ETA[sec]: 0.036 "
       ]
      },
      {
       "output_type": "stream",
       "stream": "stderr",
       "text": [
        "\r",
        "[ 85 %] elapsed[sec]: 0.198 | ETA[sec]: 0.035 "
       ]
      },
      {
       "output_type": "stream",
       "stream": "stderr",
       "text": [
        "\r",
        "[ 85 %] elapsed[sec]: 0.200 | ETA[sec]: 0.033 "
       ]
      },
      {
       "output_type": "stream",
       "stream": "stderr",
       "text": [
        "\r",
        "[ 86 %] elapsed[sec]: 0.202 | ETA[sec]: 0.031 "
       ]
      },
      {
       "output_type": "stream",
       "stream": "stderr",
       "text": [
        "\r",
        "[ 87 %] elapsed[sec]: 0.204 | ETA[sec]: 0.029 "
       ]
      },
      {
       "output_type": "stream",
       "stream": "stderr",
       "text": [
        "\r",
        "[ 88 %] elapsed[sec]: 0.206 | ETA[sec]: 0.027 "
       ]
      },
      {
       "output_type": "stream",
       "stream": "stderr",
       "text": [
        "\r",
        "[ 89 %] elapsed[sec]: 0.207 | ETA[sec]: 0.025 "
       ]
      },
      {
       "output_type": "stream",
       "stream": "stderr",
       "text": [
        "\r",
        "[ 89 %] elapsed[sec]: 0.208 | ETA[sec]: 0.024 "
       ]
      },
      {
       "output_type": "stream",
       "stream": "stderr",
       "text": [
        "\r",
        "[ 90 %] elapsed[sec]: 0.210 | ETA[sec]: 0.022 "
       ]
      },
      {
       "output_type": "stream",
       "stream": "stderr",
       "text": [
        "\r",
        "[ 91 %] elapsed[sec]: 0.212 | ETA[sec]: 0.020 "
       ]
      },
      {
       "output_type": "stream",
       "stream": "stderr",
       "text": [
        "\r",
        "[ 92 %] elapsed[sec]: 0.214 | ETA[sec]: 0.018 "
       ]
      },
      {
       "output_type": "stream",
       "stream": "stderr",
       "text": [
        "\r",
        "[ 92 %] elapsed[sec]: 0.216 | ETA[sec]: 0.016 "
       ]
      },
      {
       "output_type": "stream",
       "stream": "stderr",
       "text": [
        "\r",
        "[ 93 %] elapsed[sec]: 0.218 | ETA[sec]: 0.015 "
       ]
      },
      {
       "output_type": "stream",
       "stream": "stderr",
       "text": [
        "\r",
        "[ 94 %] elapsed[sec]: 0.219 | ETA[sec]: 0.013 "
       ]
      },
      {
       "output_type": "stream",
       "stream": "stderr",
       "text": [
        "\r",
        "[ 95 %] elapsed[sec]: 0.221 | ETA[sec]: 0.011 "
       ]
      },
      {
       "output_type": "stream",
       "stream": "stderr",
       "text": [
        "\r",
        "[ 96 %] elapsed[sec]: 0.223 | ETA[sec]: 0.009 "
       ]
      },
      {
       "output_type": "stream",
       "stream": "stderr",
       "text": [
        "\r",
        "[ 96 %] elapsed[sec]: 0.225 | ETA[sec]: 0.007 "
       ]
      },
      {
       "output_type": "stream",
       "stream": "stderr",
       "text": [
        "\r",
        "[ 97 %] elapsed[sec]: 0.227 | ETA[sec]: 0.005 "
       ]
      },
      {
       "output_type": "stream",
       "stream": "stderr",
       "text": [
        "\r",
        "[ 98 %] elapsed[sec]: 0.228 | ETA[sec]: 0.004 "
       ]
      },
      {
       "output_type": "stream",
       "stream": "stderr",
       "text": [
        "\r",
        "[ 99 %] elapsed[sec]: 0.230 | ETA[sec]: 0.002 "
       ]
      },
      {
       "output_type": "stream",
       "stream": "stderr",
       "text": [
        "\r",
        "[100 %] elapsed[sec]: 0.232"
       ]
      },
      {
       "output_type": "stream",
       "stream": "stdout",
       "text": [
        "\n",
        "Title: \n",
        "                      Started: 09/24/2014 16:10:06\n",
        "                      Finished: 09/24/2014 16:10:06\n",
        "                      Total time elapsed: 0.232 sec\n",
        "                      CPU %: 102.800000\n",
        "                      Memory %: 3.384757"
       ]
      },
      {
       "output_type": "stream",
       "stream": "stderr",
       "text": [
        "\n",
        "Total time elapsed: 0.232 sec\n",
        "\r",
        "[  0 %]"
       ]
      },
      {
       "output_type": "stream",
       "stream": "stderr",
       "text": [
        " elapsed[sec]: 0.000"
       ]
      },
      {
       "output_type": "stream",
       "stream": "stdout",
       "text": [
        "\n",
        "Saving sequence results/color-energy_contrast-0_1.webm"
       ]
      },
      {
       "output_type": "stream",
       "stream": "stderr",
       "text": [
        "\r",
        "[  0 %] elapsed[sec]: 0.001"
       ]
      },
      {
       "output_type": "stream",
       "stream": "stderr",
       "text": [
        "\r",
        "[  1 %] elapsed[sec]: 0.003 | ETA[sec]: 0.166 "
       ]
      },
      {
       "output_type": "stream",
       "stream": "stderr",
       "text": [
        "\r",
        "[  2 %] elapsed[sec]: 0.004 | ETA[sec]: 0.177 "
       ]
      },
      {
       "output_type": "stream",
       "stream": "stderr",
       "text": [
        "\r",
        "[  3 %] elapsed[sec]: 0.006 | ETA[sec]: 0.182 "
       ]
      },
      {
       "output_type": "stream",
       "stream": "stderr",
       "text": [
        "\r",
        "[  3 %] elapsed[sec]: 0.008 | ETA[sec]: 0.185 "
       ]
      },
      {
       "output_type": "stream",
       "stream": "stderr",
       "text": [
        "\r",
        "[  4 %] elapsed[sec]: 0.009 | ETA[sec]: 0.193 "
       ]
      },
      {
       "output_type": "stream",
       "stream": "stderr",
       "text": [
        "\r",
        "[  5 %] elapsed[sec]: 0.011 | ETA[sec]: 0.192 "
       ]
      },
      {
       "output_type": "stream",
       "stream": "stderr",
       "text": [
        "\r",
        "[  6 %] elapsed[sec]: 0.013 | ETA[sec]: 0.191 "
       ]
      },
      {
       "output_type": "stream",
       "stream": "stderr",
       "text": [
        "\r",
        "[  7 %] elapsed[sec]: 0.014 | ETA[sec]: 0.188 "
       ]
      },
      {
       "output_type": "stream",
       "stream": "stderr",
       "text": [
        "\r",
        "[  7 %] elapsed[sec]: 0.016 | ETA[sec]: 0.185 "
       ]
      },
      {
       "output_type": "stream",
       "stream": "stderr",
       "text": [
        "\r",
        "[  8 %] elapsed[sec]: 0.017 | ETA[sec]: 0.183 "
       ]
      },
      {
       "output_type": "stream",
       "stream": "stderr",
       "text": [
        "\r",
        "[  9 %] elapsed[sec]: 0.019 | ETA[sec]: 0.181 "
       ]
      },
      {
       "output_type": "stream",
       "stream": "stderr",
       "text": [
        "\r",
        "[ 10 %] elapsed[sec]: 0.021 | ETA[sec]: 0.184 "
       ]
      },
      {
       "output_type": "stream",
       "stream": "stderr",
       "text": [
        "\r",
        "[ 10 %] elapsed[sec]: 0.023 | ETA[sec]: 0.186 "
       ]
      },
      {
       "output_type": "stream",
       "stream": "stderr",
       "text": [
        "\r",
        "[ 11 %] elapsed[sec]: 0.025 | ETA[sec]: 0.186 "
       ]
      },
      {
       "output_type": "stream",
       "stream": "stderr",
       "text": [
        "\r",
        "[ 12 %] elapsed[sec]: 0.027 | ETA[sec]: 0.186 "
       ]
      },
      {
       "output_type": "stream",
       "stream": "stderr",
       "text": [
        "\r",
        "[ 13 %] elapsed[sec]: 0.028 | ETA[sec]: 0.183 "
       ]
      },
      {
       "output_type": "stream",
       "stream": "stderr",
       "text": [
        "\r",
        "[ 14 %] elapsed[sec]: 0.030 | ETA[sec]: 0.183 "
       ]
      },
      {
       "output_type": "stream",
       "stream": "stderr",
       "text": [
        "\r",
        "[ 14 %] elapsed[sec]: 0.032 | ETA[sec]: 0.185 "
       ]
      },
      {
       "output_type": "stream",
       "stream": "stderr",
       "text": [
        "\r",
        "[ 15 %] elapsed[sec]: 0.034 | ETA[sec]: 0.185 "
       ]
      },
      {
       "output_type": "stream",
       "stream": "stderr",
       "text": [
        "\r",
        "[ 16 %] elapsed[sec]: 0.037 | ETA[sec]: 0.186 "
       ]
      },
      {
       "output_type": "stream",
       "stream": "stderr",
       "text": [
        "\r",
        "[ 17 %] elapsed[sec]: 0.039 | ETA[sec]: 0.187 "
       ]
      },
      {
       "output_type": "stream",
       "stream": "stderr",
       "text": [
        "\r",
        "[ 17 %] elapsed[sec]: 0.040 | ETA[sec]: 0.184 "
       ]
      },
      {
       "output_type": "stream",
       "stream": "stderr",
       "text": [
        "\r",
        "[ 18 %] elapsed[sec]: 0.042 | ETA[sec]: 0.182 "
       ]
      },
      {
       "output_type": "stream",
       "stream": "stderr",
       "text": [
        "\r",
        "[ 19 %] elapsed[sec]: 0.044 | ETA[sec]: 0.180 "
       ]
      },
      {
       "output_type": "stream",
       "stream": "stderr",
       "text": [
        "\r",
        "[ 20 %] elapsed[sec]: 0.045 | ETA[sec]: 0.177 "
       ]
      },
      {
       "output_type": "stream",
       "stream": "stderr",
       "text": [
        "\r",
        "[ 21 %] elapsed[sec]: 0.047 | ETA[sec]: 0.177 "
       ]
      },
      {
       "output_type": "stream",
       "stream": "stderr",
       "text": [
        "\r",
        "[ 21 %] elapsed[sec]: 0.049 | ETA[sec]: 0.176 "
       ]
      },
      {
       "output_type": "stream",
       "stream": "stderr",
       "text": [
        "\r",
        "[ 22 %] elapsed[sec]: 0.051 | ETA[sec]: 0.176 "
       ]
      },
      {
       "output_type": "stream",
       "stream": "stderr",
       "text": [
        "\r",
        "[ 23 %] elapsed[sec]: 0.053 | ETA[sec]: 0.175 "
       ]
      },
      {
       "output_type": "stream",
       "stream": "stderr",
       "text": [
        "\r",
        "[ 24 %] elapsed[sec]: 0.055 | ETA[sec]: 0.174 "
       ]
      },
      {
       "output_type": "stream",
       "stream": "stderr",
       "text": [
        "\r",
        "[ 25 %] elapsed[sec]: 0.058 | ETA[sec]: 0.173 "
       ]
      },
      {
       "output_type": "stream",
       "stream": "stderr",
       "text": [
        "\r",
        "[ 25 %] elapsed[sec]: 0.060 | ETA[sec]: 0.172 "
       ]
      },
      {
       "output_type": "stream",
       "stream": "stderr",
       "text": [
        "\r",
        "[ 26 %] elapsed[sec]: 0.062 | ETA[sec]: 0.171 "
       ]
      },
      {
       "output_type": "stream",
       "stream": "stderr",
       "text": [
        "\r",
        "[ 27 %] elapsed[sec]: 0.064 | ETA[sec]: 0.170 "
       ]
      },
      {
       "output_type": "stream",
       "stream": "stderr",
       "text": [
        "\r",
        "[ 28 %] elapsed[sec]: 0.066 | ETA[sec]: 0.169 "
       ]
      },
      {
       "output_type": "stream",
       "stream": "stderr",
       "text": [
        "\r",
        "[ 28 %] elapsed[sec]: 0.068 | ETA[sec]: 0.168 "
       ]
      },
      {
       "output_type": "stream",
       "stream": "stderr",
       "text": [
        "\r",
        "[ 29 %] elapsed[sec]: 0.070 | ETA[sec]: 0.166 "
       ]
      },
      {
       "output_type": "stream",
       "stream": "stderr",
       "text": [
        "\r",
        "[ 30 %] elapsed[sec]: 0.072 | ETA[sec]: 0.164 "
       ]
      },
      {
       "output_type": "stream",
       "stream": "stderr",
       "text": [
        "\r",
        "[ 31 %] elapsed[sec]: 0.074 | ETA[sec]: 0.162 "
       ]
      },
      {
       "output_type": "stream",
       "stream": "stderr",
       "text": [
        "\r",
        "[ 32 %] elapsed[sec]: 0.075 | ETA[sec]: 0.160 "
       ]
      },
      {
       "output_type": "stream",
       "stream": "stderr",
       "text": [
        "\r",
        "[ 32 %] elapsed[sec]: 0.077 | ETA[sec]: 0.158 "
       ]
      },
      {
       "output_type": "stream",
       "stream": "stderr",
       "text": [
        "\r",
        "[ 33 %] elapsed[sec]: 0.080 | ETA[sec]: 0.157 "
       ]
      },
      {
       "output_type": "stream",
       "stream": "stderr",
       "text": [
        "\r",
        "[ 34 %] elapsed[sec]: 0.082 | ETA[sec]: 0.157 "
       ]
      },
      {
       "output_type": "stream",
       "stream": "stderr",
       "text": [
        "\r",
        "[ 35 %] elapsed[sec]: 0.084 | ETA[sec]: 0.156 "
       ]
      },
      {
       "output_type": "stream",
       "stream": "stderr",
       "text": [
        "\r",
        "[ 35 %] elapsed[sec]: 0.087 | ETA[sec]: 0.155 "
       ]
      },
      {
       "output_type": "stream",
       "stream": "stderr",
       "text": [
        "\r",
        "[ 36 %] elapsed[sec]: 0.089 | ETA[sec]: 0.154 "
       ]
      },
      {
       "output_type": "stream",
       "stream": "stderr",
       "text": [
        "\r",
        "[ 37 %] elapsed[sec]: 0.091 | ETA[sec]: 0.152 "
       ]
      },
      {
       "output_type": "stream",
       "stream": "stderr",
       "text": [
        "\r",
        "[ 38 %] elapsed[sec]: 0.093 | ETA[sec]: 0.151 "
       ]
      },
      {
       "output_type": "stream",
       "stream": "stderr",
       "text": [
        "\r",
        "[ 39 %] elapsed[sec]: 0.095 | ETA[sec]: 0.149 "
       ]
      },
      {
       "output_type": "stream",
       "stream": "stderr",
       "text": [
        "\r",
        "[ 39 %] elapsed[sec]: 0.097 | ETA[sec]: 0.147 "
       ]
      },
      {
       "output_type": "stream",
       "stream": "stderr",
       "text": [
        "\r",
        "[ 40 %] elapsed[sec]: 0.099 | ETA[sec]: 0.145 "
       ]
      },
      {
       "output_type": "stream",
       "stream": "stderr",
       "text": [
        "\r",
        "[ 41 %] elapsed[sec]: 0.101 | ETA[sec]: 0.143 "
       ]
      },
      {
       "output_type": "stream",
       "stream": "stderr",
       "text": [
        "\r",
        "[ 42 %] elapsed[sec]: 0.103 | ETA[sec]: 0.142 "
       ]
      },
      {
       "output_type": "stream",
       "stream": "stderr",
       "text": [
        "\r",
        "[ 42 %] elapsed[sec]: 0.105 | ETA[sec]: 0.139 "
       ]
      },
      {
       "output_type": "stream",
       "stream": "stderr",
       "text": [
        "\r",
        "[ 43 %] elapsed[sec]: 0.107 | ETA[sec]: 0.137 "
       ]
      },
      {
       "output_type": "stream",
       "stream": "stderr",
       "text": [
        "\r",
        "[ 44 %] elapsed[sec]: 0.109 | ETA[sec]: 0.135 "
       ]
      },
      {
       "output_type": "stream",
       "stream": "stderr",
       "text": [
        "\r",
        "[ 45 %] elapsed[sec]: 0.111 | ETA[sec]: 0.134 "
       ]
      },
      {
       "output_type": "stream",
       "stream": "stderr",
       "text": [
        "\r",
        "[ 46 %] elapsed[sec]: 0.113 | ETA[sec]: 0.132 "
       ]
      },
      {
       "output_type": "stream",
       "stream": "stderr",
       "text": [
        "\r",
        "[ 46 %] elapsed[sec]: 0.114 | ETA[sec]: 0.130 "
       ]
      },
      {
       "output_type": "stream",
       "stream": "stderr",
       "text": [
        "\r",
        "[ 47 %] elapsed[sec]: 0.116 | ETA[sec]: 0.128 "
       ]
      },
      {
       "output_type": "stream",
       "stream": "stderr",
       "text": [
        "\r",
        "[ 48 %] elapsed[sec]: 0.118 | ETA[sec]: 0.126 "
       ]
      },
      {
       "output_type": "stream",
       "stream": "stderr",
       "text": [
        "\r",
        "[ 49 %] elapsed[sec]: 0.120 | ETA[sec]: 0.124 "
       ]
      },
      {
       "output_type": "stream",
       "stream": "stderr",
       "text": [
        "\r",
        "[ 50 %] elapsed[sec]: 0.122 | ETA[sec]: 0.122 "
       ]
      },
      {
       "output_type": "stream",
       "stream": "stderr",
       "text": [
        "\r",
        "[ 50 %] elapsed[sec]: 0.124 | ETA[sec]: 0.120 "
       ]
      },
      {
       "output_type": "stream",
       "stream": "stderr",
       "text": [
        "\r",
        "[ 51 %] elapsed[sec]: 0.125 | ETA[sec]: 0.118 "
       ]
      },
      {
       "output_type": "stream",
       "stream": "stderr",
       "text": [
        "\r",
        "[ 52 %] elapsed[sec]: 0.127 | ETA[sec]: 0.115 "
       ]
      },
      {
       "output_type": "stream",
       "stream": "stderr",
       "text": [
        "\r",
        "[ 53 %] elapsed[sec]: 0.128 | ETA[sec]: 0.113 "
       ]
      },
      {
       "output_type": "stream",
       "stream": "stderr",
       "text": [
        "\r",
        "[ 53 %] elapsed[sec]: 0.130 | ETA[sec]: 0.111 "
       ]
      },
      {
       "output_type": "stream",
       "stream": "stderr",
       "text": [
        "\r",
        "[ 54 %] elapsed[sec]: 0.132 | ETA[sec]: 0.109 "
       ]
      },
      {
       "output_type": "stream",
       "stream": "stderr",
       "text": [
        "\r",
        "[ 55 %] elapsed[sec]: 0.134 | ETA[sec]: 0.107 "
       ]
      },
      {
       "output_type": "stream",
       "stream": "stderr",
       "text": [
        "\r",
        "[ 56 %] elapsed[sec]: 0.135 | ETA[sec]: 0.105 "
       ]
      },
      {
       "output_type": "stream",
       "stream": "stderr",
       "text": [
        "\r",
        "[ 57 %] elapsed[sec]: 0.137 | ETA[sec]: 0.103 "
       ]
      },
      {
       "output_type": "stream",
       "stream": "stderr",
       "text": [
        "\r",
        "[ 57 %] elapsed[sec]: 0.138 | ETA[sec]: 0.101 "
       ]
      },
      {
       "output_type": "stream",
       "stream": "stderr",
       "text": [
        "\r",
        "[ 58 %] elapsed[sec]: 0.140 | ETA[sec]: 0.099 "
       ]
      },
      {
       "output_type": "stream",
       "stream": "stderr",
       "text": [
        "\r",
        "[ 59 %] elapsed[sec]: 0.141 | ETA[sec]: 0.097 "
       ]
      },
      {
       "output_type": "stream",
       "stream": "stderr",
       "text": [
        "\r",
        "[ 60 %] elapsed[sec]: 0.143 | ETA[sec]: 0.094 "
       ]
      },
      {
       "output_type": "stream",
       "stream": "stderr",
       "text": [
        "\r",
        "[ 60 %] elapsed[sec]: 0.145 | ETA[sec]: 0.093 "
       ]
      },
      {
       "output_type": "stream",
       "stream": "stderr",
       "text": [
        "\r",
        "[ 61 %] elapsed[sec]: 0.147 | ETA[sec]: 0.091 "
       ]
      },
      {
       "output_type": "stream",
       "stream": "stderr",
       "text": [
        "\r",
        "[ 62 %] elapsed[sec]: 0.149 | ETA[sec]: 0.090 "
       ]
      },
      {
       "output_type": "stream",
       "stream": "stderr",
       "text": [
        "\r",
        "[ 63 %] elapsed[sec]: 0.151 | ETA[sec]: 0.088 "
       ]
      },
      {
       "output_type": "stream",
       "stream": "stderr",
       "text": [
        "\r",
        "[ 64 %] elapsed[sec]: 0.153 | ETA[sec]: 0.086 "
       ]
      },
      {
       "output_type": "stream",
       "stream": "stderr",
       "text": [
        "\r",
        "[ 64 %] elapsed[sec]: 0.155 | ETA[sec]: 0.084 "
       ]
      },
      {
       "output_type": "stream",
       "stream": "stderr",
       "text": [
        "\r",
        "[ 65 %] elapsed[sec]: 0.157 | ETA[sec]: 0.082 "
       ]
      },
      {
       "output_type": "stream",
       "stream": "stderr",
       "text": [
        "\r",
        "[ 66 %] elapsed[sec]: 0.159 | ETA[sec]: 0.080 "
       ]
      },
      {
       "output_type": "stream",
       "stream": "stderr",
       "text": [
        "\r",
        "[ 67 %] elapsed[sec]: 0.160 | ETA[sec]: 0.078 "
       ]
      },
      {
       "output_type": "stream",
       "stream": "stderr",
       "text": [
        "\r",
        "[ 67 %] elapsed[sec]: 0.162 | ETA[sec]: 0.077 "
       ]
      },
      {
       "output_type": "stream",
       "stream": "stderr",
       "text": [
        "\r",
        "[ 68 %] elapsed[sec]: 0.164 | ETA[sec]: 0.075 "
       ]
      },
      {
       "output_type": "stream",
       "stream": "stderr",
       "text": [
        "\r",
        "[ 69 %] elapsed[sec]: 0.166 | ETA[sec]: 0.073 "
       ]
      },
      {
       "output_type": "stream",
       "stream": "stderr",
       "text": [
        "\r",
        "[ 70 %] elapsed[sec]: 0.168 | ETA[sec]: 0.071 "
       ]
      },
      {
       "output_type": "stream",
       "stream": "stderr",
       "text": [
        "\r",
        "[ 71 %] elapsed[sec]: 0.170 | ETA[sec]: 0.069 "
       ]
      },
      {
       "output_type": "stream",
       "stream": "stderr",
       "text": [
        "\r",
        "[ 71 %] elapsed[sec]: 0.172 | ETA[sec]: 0.067 "
       ]
      },
      {
       "output_type": "stream",
       "stream": "stderr",
       "text": [
        "\r",
        "[ 72 %] elapsed[sec]: 0.174 | ETA[sec]: 0.065 "
       ]
      },
      {
       "output_type": "stream",
       "stream": "stderr",
       "text": [
        "\r",
        "[ 73 %] elapsed[sec]: 0.176 | ETA[sec]: 0.064 "
       ]
      },
      {
       "output_type": "stream",
       "stream": "stderr",
       "text": [
        "\r",
        "[ 74 %] elapsed[sec]: 0.178 | ETA[sec]: 0.062 "
       ]
      },
      {
       "output_type": "stream",
       "stream": "stderr",
       "text": [
        "\r",
        "[ 75 %] elapsed[sec]: 0.180 | ETA[sec]: 0.060 "
       ]
      },
      {
       "output_type": "stream",
       "stream": "stderr",
       "text": [
        "\r",
        "[ 75 %] elapsed[sec]: 0.182 | ETA[sec]: 0.058 "
       ]
      },
      {
       "output_type": "stream",
       "stream": "stderr",
       "text": [
        "\r",
        "[ 76 %] elapsed[sec]: 0.184 | ETA[sec]: 0.056 "
       ]
      },
      {
       "output_type": "stream",
       "stream": "stderr",
       "text": [
        "\r",
        "[ 77 %] elapsed[sec]: 0.186 | ETA[sec]: 0.055 "
       ]
      },
      {
       "output_type": "stream",
       "stream": "stderr",
       "text": [
        "\r",
        "[ 78 %] elapsed[sec]: 0.189 | ETA[sec]: 0.053 "
       ]
      },
      {
       "output_type": "stream",
       "stream": "stderr",
       "text": [
        "\r",
        "[ 78 %] elapsed[sec]: 0.191 | ETA[sec]: 0.051 "
       ]
      },
      {
       "output_type": "stream",
       "stream": "stderr",
       "text": [
        "\r",
        "[ 79 %] elapsed[sec]: 0.193 | ETA[sec]: 0.049 "
       ]
      },
      {
       "output_type": "stream",
       "stream": "stderr",
       "text": [
        "\r",
        "[ 80 %] elapsed[sec]: 0.195 | ETA[sec]: 0.047 "
       ]
      },
      {
       "output_type": "stream",
       "stream": "stderr",
       "text": [
        "\r",
        "[ 81 %] elapsed[sec]: 0.197 | ETA[sec]: 0.046 "
       ]
      },
      {
       "output_type": "stream",
       "stream": "stderr",
       "text": [
        "\r",
        "[ 82 %] elapsed[sec]: 0.199 | ETA[sec]: 0.044 "
       ]
      },
      {
       "output_type": "stream",
       "stream": "stderr",
       "text": [
        "\r",
        "[ 82 %] elapsed[sec]: 0.201 | ETA[sec]: 0.042 "
       ]
      },
      {
       "output_type": "stream",
       "stream": "stderr",
       "text": [
        "\r",
        "[ 83 %] elapsed[sec]: 0.204 | ETA[sec]: 0.040 "
       ]
      },
      {
       "output_type": "stream",
       "stream": "stderr",
       "text": [
        "\r",
        "[ 84 %] elapsed[sec]: 0.205 | ETA[sec]: 0.038 "
       ]
      },
      {
       "output_type": "stream",
       "stream": "stderr",
       "text": [
        "\r",
        "[ 85 %] elapsed[sec]: 0.207 | ETA[sec]: 0.036 "
       ]
      },
      {
       "output_type": "stream",
       "stream": "stderr",
       "text": [
        "\r",
        "[ 85 %] elapsed[sec]: 0.210 | ETA[sec]: 0.034 "
       ]
      },
      {
       "output_type": "stream",
       "stream": "stderr",
       "text": [
        "\r",
        "[ 86 %] elapsed[sec]: 0.212 | ETA[sec]: 0.032 "
       ]
      },
      {
       "output_type": "stream",
       "stream": "stderr",
       "text": [
        "\r",
        "[ 87 %] elapsed[sec]: 0.214 | ETA[sec]: 0.031 "
       ]
      },
      {
       "output_type": "stream",
       "stream": "stderr",
       "text": [
        "\r",
        "[ 88 %] elapsed[sec]: 0.216 | ETA[sec]: 0.029 "
       ]
      },
      {
       "output_type": "stream",
       "stream": "stderr",
       "text": [
        "\r",
        "[ 89 %] elapsed[sec]: 0.218 | ETA[sec]: 0.027 "
       ]
      },
      {
       "output_type": "stream",
       "stream": "stderr",
       "text": [
        "\r",
        "[ 89 %] elapsed[sec]: 0.219 | ETA[sec]: 0.025 "
       ]
      },
      {
       "output_type": "stream",
       "stream": "stderr",
       "text": [
        "\r",
        "[ 90 %] elapsed[sec]: 0.222 | ETA[sec]: 0.023 "
       ]
      },
      {
       "output_type": "stream",
       "stream": "stderr",
       "text": [
        "\r",
        "[ 91 %] elapsed[sec]: 0.224 | ETA[sec]: 0.021 "
       ]
      },
      {
       "output_type": "stream",
       "stream": "stderr",
       "text": [
        "\r",
        "[ 92 %] elapsed[sec]: 0.226 | ETA[sec]: 0.019 "
       ]
      },
      {
       "output_type": "stream",
       "stream": "stderr",
       "text": [
        "\r",
        "[ 92 %] elapsed[sec]: 0.228 | ETA[sec]: 0.017 "
       ]
      },
      {
       "output_type": "stream",
       "stream": "stderr",
       "text": [
        "\r",
        "[ 93 %] elapsed[sec]: 0.230 | ETA[sec]: 0.015 "
       ]
      },
      {
       "output_type": "stream",
       "stream": "stderr",
       "text": [
        "\r",
        "[ 94 %] elapsed[sec]: 0.232 | ETA[sec]: 0.013 "
       ]
      },
      {
       "output_type": "stream",
       "stream": "stderr",
       "text": [
        "\r",
        "[ 95 %] elapsed[sec]: 0.234 | ETA[sec]: 0.012 "
       ]
      },
      {
       "output_type": "stream",
       "stream": "stderr",
       "text": [
        "\r",
        "[ 96 %] elapsed[sec]: 0.237 | ETA[sec]: 0.010 "
       ]
      },
      {
       "output_type": "stream",
       "stream": "stderr",
       "text": [
        "\r",
        "[ 96 %] elapsed[sec]: 0.239 | ETA[sec]: 0.008 "
       ]
      },
      {
       "output_type": "stream",
       "stream": "stderr",
       "text": [
        "\r",
        "[ 97 %] elapsed[sec]: 0.241 | ETA[sec]: 0.006 "
       ]
      },
      {
       "output_type": "stream",
       "stream": "stderr",
       "text": [
        "\r",
        "[ 98 %] elapsed[sec]: 0.244 | ETA[sec]: 0.004 "
       ]
      },
      {
       "output_type": "stream",
       "stream": "stderr",
       "text": [
        "\r",
        "[ 99 %] elapsed[sec]: 0.246 | ETA[sec]: 0.002 "
       ]
      },
      {
       "output_type": "stream",
       "stream": "stderr",
       "text": [
        "\r",
        "[100 %] elapsed[sec]: 0.248"
       ]
      },
      {
       "output_type": "stream",
       "stream": "stdout",
       "text": [
        "\n",
        "Title: \n",
        "                      Started: 09/24/2014 16:10:07\n",
        "                      Finished: 09/24/2014 16:10:07\n",
        "                      Total time elapsed: 0.249 sec\n",
        "                      CPU %: 102.400000\n",
        "                      Memory %: 3.384972"
       ]
      },
      {
       "output_type": "stream",
       "stream": "stderr",
       "text": [
        "\n",
        "Total time elapsed: 0.249 sec\n",
        "\r",
        "[  0 %]"
       ]
      },
      {
       "output_type": "stream",
       "stream": "stderr",
       "text": [
        " elapsed[sec]: 0.001"
       ]
      },
      {
       "output_type": "stream",
       "stream": "stdout",
       "text": [
        "\n",
        "Saving sequence results/color-energy_contrast-0_25.webm"
       ]
      },
      {
       "output_type": "stream",
       "stream": "stderr",
       "text": [
        "\r",
        "[  0 %] elapsed[sec]: 0.001 | ETA[sec]: 0.154 "
       ]
      },
      {
       "output_type": "stream",
       "stream": "stderr",
       "text": [
        "\r",
        "[  1 %] elapsed[sec]: 0.003 | ETA[sec]: 0.197 "
       ]
      },
      {
       "output_type": "stream",
       "stream": "stderr",
       "text": [
        "\r",
        "[  2 %] elapsed[sec]: 0.005 | ETA[sec]: 0.211 "
       ]
      },
      {
       "output_type": "stream",
       "stream": "stderr",
       "text": [
        "\r",
        "[  3 %] elapsed[sec]: 0.007 | ETA[sec]: 0.218 "
       ]
      },
      {
       "output_type": "stream",
       "stream": "stderr",
       "text": [
        "\r",
        "[  3 %] elapsed[sec]: 0.009 | ETA[sec]: 0.221 "
       ]
      },
      {
       "output_type": "stream",
       "stream": "stderr",
       "text": [
        "\r",
        "[  4 %] elapsed[sec]: 0.011 | ETA[sec]: 0.223 "
       ]
      },
      {
       "output_type": "stream",
       "stream": "stderr",
       "text": [
        "\r",
        "[  5 %] elapsed[sec]: 0.013 | ETA[sec]: 0.223 "
       ]
      },
      {
       "output_type": "stream",
       "stream": "stderr",
       "text": [
        "\r",
        "[  6 %] elapsed[sec]: 0.015 | ETA[sec]: 0.219 "
       ]
      },
      {
       "output_type": "stream",
       "stream": "stderr",
       "text": [
        "\r",
        "[  7 %] elapsed[sec]: 0.016 | ETA[sec]: 0.217 "
       ]
      },
      {
       "output_type": "stream",
       "stream": "stderr",
       "text": [
        "\r",
        "[  7 %] elapsed[sec]: 0.018 | ETA[sec]: 0.214 "
       ]
      },
      {
       "output_type": "stream",
       "stream": "stderr",
       "text": [
        "\r",
        "[  8 %] elapsed[sec]: 0.020 | ETA[sec]: 0.212 "
       ]
      },
      {
       "output_type": "stream",
       "stream": "stderr",
       "text": [
        "\r",
        "[  9 %] elapsed[sec]: 0.022 | ETA[sec]: 0.210 "
       ]
      },
      {
       "output_type": "stream",
       "stream": "stderr",
       "text": [
        "\r",
        "[ 10 %] elapsed[sec]: 0.024 | ETA[sec]: 0.209 "
       ]
      },
      {
       "output_type": "stream",
       "stream": "stderr",
       "text": [
        "\r",
        "[ 10 %] elapsed[sec]: 0.026 | ETA[sec]: 0.208 "
       ]
      },
      {
       "output_type": "stream",
       "stream": "stderr",
       "text": [
        "\r",
        "[ 11 %] elapsed[sec]: 0.027 | ETA[sec]: 0.207 "
       ]
      },
      {
       "output_type": "stream",
       "stream": "stderr",
       "text": [
        "\r",
        "[ 12 %] elapsed[sec]: 0.029 | ETA[sec]: 0.204 "
       ]
      },
      {
       "output_type": "stream",
       "stream": "stderr",
       "text": [
        "\r",
        "[ 13 %] elapsed[sec]: 0.031 | ETA[sec]: 0.201 "
       ]
      },
      {
       "output_type": "stream",
       "stream": "stderr",
       "text": [
        "\r",
        "[ 14 %] elapsed[sec]: 0.032 | ETA[sec]: 0.196 "
       ]
      },
      {
       "output_type": "stream",
       "stream": "stderr",
       "text": [
        "\r",
        "[ 14 %] elapsed[sec]: 0.033 | ETA[sec]: 0.192 "
       ]
      },
      {
       "output_type": "stream",
       "stream": "stderr",
       "text": [
        "\r",
        "[ 15 %] elapsed[sec]: 0.035 | ETA[sec]: 0.187 "
       ]
      },
      {
       "output_type": "stream",
       "stream": "stderr",
       "text": [
        "\r",
        "[ 16 %] elapsed[sec]: 0.036 | ETA[sec]: 0.185 "
       ]
      },
      {
       "output_type": "stream",
       "stream": "stderr",
       "text": [
        "\r",
        "[ 17 %] elapsed[sec]: 0.038 | ETA[sec]: 0.182 "
       ]
      },
      {
       "output_type": "stream",
       "stream": "stderr",
       "text": [
        "\r",
        "[ 17 %] elapsed[sec]: 0.039 | ETA[sec]: 0.178 "
       ]
      },
      {
       "output_type": "stream",
       "stream": "stderr",
       "text": [
        "\r",
        "[ 18 %] elapsed[sec]: 0.040 | ETA[sec]: 0.174 "
       ]
      },
      {
       "output_type": "stream",
       "stream": "stderr",
       "text": [
        "\r",
        "[ 19 %] elapsed[sec]: 0.041 | ETA[sec]: 0.171 "
       ]
      },
      {
       "output_type": "stream",
       "stream": "stderr",
       "text": [
        "\r",
        "[ 20 %] elapsed[sec]: 0.043 | ETA[sec]: 0.168 "
       ]
      },
      {
       "output_type": "stream",
       "stream": "stderr",
       "text": [
        "\r",
        "[ 21 %] elapsed[sec]: 0.044 | ETA[sec]: 0.165 "
       ]
      },
      {
       "output_type": "stream",
       "stream": "stderr",
       "text": [
        "\r",
        "[ 21 %] elapsed[sec]: 0.045 | ETA[sec]: 0.162 "
       ]
      },
      {
       "output_type": "stream",
       "stream": "stderr",
       "text": [
        "\r",
        "[ 22 %] elapsed[sec]: 0.047 | ETA[sec]: 0.161 "
       ]
      },
      {
       "output_type": "stream",
       "stream": "stderr",
       "text": [
        "\r",
        "[ 23 %] elapsed[sec]: 0.049 | ETA[sec]: 0.160 "
       ]
      },
      {
       "output_type": "stream",
       "stream": "stderr",
       "text": [
        "\r",
        "[ 24 %] elapsed[sec]: 0.051 | ETA[sec]: 0.159 "
       ]
      },
      {
       "output_type": "stream",
       "stream": "stderr",
       "text": [
        "\r",
        "[ 25 %] elapsed[sec]: 0.052 | ETA[sec]: 0.157 "
       ]
      },
      {
       "output_type": "stream",
       "stream": "stderr",
       "text": [
        "\r",
        "[ 25 %] elapsed[sec]: 0.054 | ETA[sec]: 0.156 "
       ]
      },
      {
       "output_type": "stream",
       "stream": "stderr",
       "text": [
        "\r",
        "[ 26 %] elapsed[sec]: 0.056 | ETA[sec]: 0.154 "
       ]
      },
      {
       "output_type": "stream",
       "stream": "stderr",
       "text": [
        "\r",
        "[ 27 %] elapsed[sec]: 0.057 | ETA[sec]: 0.153 "
       ]
      },
      {
       "output_type": "stream",
       "stream": "stderr",
       "text": [
        "\r",
        "[ 28 %] elapsed[sec]: 0.059 | ETA[sec]: 0.151 "
       ]
      },
      {
       "output_type": "stream",
       "stream": "stderr",
       "text": [
        "\r",
        "[ 28 %] elapsed[sec]: 0.061 | ETA[sec]: 0.150 "
       ]
      },
      {
       "output_type": "stream",
       "stream": "stderr",
       "text": [
        "\r",
        "[ 29 %] elapsed[sec]: 0.063 | ETA[sec]: 0.148 "
       ]
      },
      {
       "output_type": "stream",
       "stream": "stderr",
       "text": [
        "\r",
        "[ 30 %] elapsed[sec]: 0.064 | ETA[sec]: 0.147 "
       ]
      },
      {
       "output_type": "stream",
       "stream": "stderr",
       "text": [
        "\r",
        "[ 31 %] elapsed[sec]: 0.066 | ETA[sec]: 0.145 "
       ]
      },
      {
       "output_type": "stream",
       "stream": "stderr",
       "text": [
        "\r",
        "[ 32 %] elapsed[sec]: 0.067 | ETA[sec]: 0.143 "
       ]
      },
      {
       "output_type": "stream",
       "stream": "stderr",
       "text": [
        "\r",
        "[ 32 %] elapsed[sec]: 0.069 | ETA[sec]: 0.141 "
       ]
      },
      {
       "output_type": "stream",
       "stream": "stderr",
       "text": [
        "\r",
        "[ 33 %] elapsed[sec]: 0.070 | ETA[sec]: 0.139 "
       ]
      },
      {
       "output_type": "stream",
       "stream": "stderr",
       "text": [
        "\r",
        "[ 34 %] elapsed[sec]: 0.072 | ETA[sec]: 0.137 "
       ]
      },
      {
       "output_type": "stream",
       "stream": "stderr",
       "text": [
        "\r",
        "[ 35 %] elapsed[sec]: 0.073 | ETA[sec]: 0.134 "
       ]
      },
      {
       "output_type": "stream",
       "stream": "stderr",
       "text": [
        "\r",
        "[ 35 %] elapsed[sec]: 0.074 | ETA[sec]: 0.132 "
       ]
      },
      {
       "output_type": "stream",
       "stream": "stderr",
       "text": [
        "\r",
        "[ 36 %] elapsed[sec]: 0.076 | ETA[sec]: 0.130 "
       ]
      },
      {
       "output_type": "stream",
       "stream": "stderr",
       "text": [
        "\r",
        "[ 37 %] elapsed[sec]: 0.077 | ETA[sec]: 0.128 "
       ]
      },
      {
       "output_type": "stream",
       "stream": "stderr",
       "text": [
        "\r",
        "[ 38 %] elapsed[sec]: 0.078 | ETA[sec]: 0.126 "
       ]
      },
      {
       "output_type": "stream",
       "stream": "stderr",
       "text": [
        "\r",
        "[ 39 %] elapsed[sec]: 0.080 | ETA[sec]: 0.124 "
       ]
      },
      {
       "output_type": "stream",
       "stream": "stderr",
       "text": [
        "\r",
        "[ 39 %] elapsed[sec]: 0.082 | ETA[sec]: 0.123 "
       ]
      },
      {
       "output_type": "stream",
       "stream": "stderr",
       "text": [
        "\r",
        "[ 40 %] elapsed[sec]: 0.083 | ETA[sec]: 0.121 "
       ]
      },
      {
       "output_type": "stream",
       "stream": "stderr",
       "text": [
        "\r",
        "[ 41 %] elapsed[sec]: 0.084 | ETA[sec]: 0.119 "
       ]
      },
      {
       "output_type": "stream",
       "stream": "stderr",
       "text": [
        "\r",
        "[ 42 %] elapsed[sec]: 0.086 | ETA[sec]: 0.117 "
       ]
      },
      {
       "output_type": "stream",
       "stream": "stderr",
       "text": [
        "\r",
        "[ 42 %] elapsed[sec]: 0.087 | ETA[sec]: 0.115 "
       ]
      },
      {
       "output_type": "stream",
       "stream": "stderr",
       "text": [
        "\r",
        "[ 43 %] elapsed[sec]: 0.088 | ETA[sec]: 0.113 "
       ]
      },
      {
       "output_type": "stream",
       "stream": "stderr",
       "text": [
        "\r",
        "[ 44 %] elapsed[sec]: 0.089 | ETA[sec]: 0.111 "
       ]
      },
      {
       "output_type": "stream",
       "stream": "stderr",
       "text": [
        "\r",
        "[ 45 %] elapsed[sec]: 0.091 | ETA[sec]: 0.110 "
       ]
      },
      {
       "output_type": "stream",
       "stream": "stderr",
       "text": [
        "\r",
        "[ 46 %] elapsed[sec]: 0.093 | ETA[sec]: 0.109 "
       ]
      },
      {
       "output_type": "stream",
       "stream": "stderr",
       "text": [
        "\r",
        "[ 46 %] elapsed[sec]: 0.095 | ETA[sec]: 0.108 "
       ]
      },
      {
       "output_type": "stream",
       "stream": "stderr",
       "text": [
        "\r",
        "[ 47 %] elapsed[sec]: 0.097 | ETA[sec]: 0.107 "
       ]
      },
      {
       "output_type": "stream",
       "stream": "stderr",
       "text": [
        "\r",
        "[ 48 %] elapsed[sec]: 0.099 | ETA[sec]: 0.106 "
       ]
      },
      {
       "output_type": "stream",
       "stream": "stderr",
       "text": [
        "\r",
        "[ 49 %] elapsed[sec]: 0.101 | ETA[sec]: 0.105 "
       ]
      },
      {
       "output_type": "stream",
       "stream": "stderr",
       "text": [
        "\r",
        "[ 50 %] elapsed[sec]: 0.103 | ETA[sec]: 0.104 "
       ]
      },
      {
       "output_type": "stream",
       "stream": "stderr",
       "text": [
        "\r",
        "[ 50 %] elapsed[sec]: 0.106 | ETA[sec]: 0.102 "
       ]
      },
      {
       "output_type": "stream",
       "stream": "stderr",
       "text": [
        "\r",
        "[ 51 %] elapsed[sec]: 0.108 | ETA[sec]: 0.101 "
       ]
      },
      {
       "output_type": "stream",
       "stream": "stderr",
       "text": [
        "\r",
        "[ 52 %] elapsed[sec]: 0.110 | ETA[sec]: 0.100 "
       ]
      },
      {
       "output_type": "stream",
       "stream": "stderr",
       "text": [
        "\r",
        "[ 53 %] elapsed[sec]: 0.112 | ETA[sec]: 0.099 "
       ]
      },
      {
       "output_type": "stream",
       "stream": "stderr",
       "text": [
        "\r",
        "[ 53 %] elapsed[sec]: 0.114 | ETA[sec]: 0.097 "
       ]
      },
      {
       "output_type": "stream",
       "stream": "stderr",
       "text": [
        "\r",
        "[ 54 %] elapsed[sec]: 0.116 | ETA[sec]: 0.096 "
       ]
      },
      {
       "output_type": "stream",
       "stream": "stderr",
       "text": [
        "\r",
        "[ 55 %] elapsed[sec]: 0.118 | ETA[sec]: 0.095 "
       ]
      },
      {
       "output_type": "stream",
       "stream": "stderr",
       "text": [
        "\r",
        "[ 56 %] elapsed[sec]: 0.120 | ETA[sec]: 0.093 "
       ]
      },
      {
       "output_type": "stream",
       "stream": "stderr",
       "text": [
        "\r",
        "[ 57 %] elapsed[sec]: 0.122 | ETA[sec]: 0.092 "
       ]
      },
      {
       "output_type": "stream",
       "stream": "stderr",
       "text": [
        "\r",
        "[ 57 %] elapsed[sec]: 0.124 | ETA[sec]: 0.091 "
       ]
      },
      {
       "output_type": "stream",
       "stream": "stderr",
       "text": [
        "\r",
        "[ 58 %] elapsed[sec]: 0.126 | ETA[sec]: 0.089 "
       ]
      },
      {
       "output_type": "stream",
       "stream": "stderr",
       "text": [
        "\r",
        "[ 59 %] elapsed[sec]: 0.128 | ETA[sec]: 0.088 "
       ]
      },
      {
       "output_type": "stream",
       "stream": "stderr",
       "text": [
        "\r",
        "[ 60 %] elapsed[sec]: 0.130 | ETA[sec]: 0.086 "
       ]
      },
      {
       "output_type": "stream",
       "stream": "stderr",
       "text": [
        "\r",
        "[ 60 %] elapsed[sec]: 0.132 | ETA[sec]: 0.085 "
       ]
      },
      {
       "output_type": "stream",
       "stream": "stderr",
       "text": [
        "\r",
        "[ 61 %] elapsed[sec]: 0.135 | ETA[sec]: 0.083 "
       ]
      },
      {
       "output_type": "stream",
       "stream": "stderr",
       "text": [
        "\r",
        "[ 62 %] elapsed[sec]: 0.137 | ETA[sec]: 0.082 "
       ]
      },
      {
       "output_type": "stream",
       "stream": "stderr",
       "text": [
        "\r",
        "[ 63 %] elapsed[sec]: 0.139 | ETA[sec]: 0.081 "
       ]
      },
      {
       "output_type": "stream",
       "stream": "stderr",
       "text": [
        "\r",
        "[ 64 %] elapsed[sec]: 0.141 | ETA[sec]: 0.079 "
       ]
      },
      {
       "output_type": "stream",
       "stream": "stderr",
       "text": [
        "\r",
        "[ 64 %] elapsed[sec]: 0.143 | ETA[sec]: 0.077 "
       ]
      },
      {
       "output_type": "stream",
       "stream": "stderr",
       "text": [
        "\r",
        "[ 65 %] elapsed[sec]: 0.145 | ETA[sec]: 0.076 "
       ]
      },
      {
       "output_type": "stream",
       "stream": "stderr",
       "text": [
        "\r",
        "[ 66 %] elapsed[sec]: 0.147 | ETA[sec]: 0.074 "
       ]
      },
      {
       "output_type": "stream",
       "stream": "stderr",
       "text": [
        "\r",
        "[ 67 %] elapsed[sec]: 0.149 | ETA[sec]: 0.073 "
       ]
      },
      {
       "output_type": "stream",
       "stream": "stderr",
       "text": [
        "\r",
        "[ 67 %] elapsed[sec]: 0.151 | ETA[sec]: 0.071 "
       ]
      },
      {
       "output_type": "stream",
       "stream": "stderr",
       "text": [
        "\r",
        "[ 68 %] elapsed[sec]: 0.152 | ETA[sec]: 0.069 "
       ]
      },
      {
       "output_type": "stream",
       "stream": "stderr",
       "text": [
        "\r",
        "[ 69 %] elapsed[sec]: 0.153 | ETA[sec]: 0.067 "
       ]
      },
      {
       "output_type": "stream",
       "stream": "stderr",
       "text": [
        "\r",
        "[ 70 %] elapsed[sec]: 0.154 | ETA[sec]: 0.065 "
       ]
      },
      {
       "output_type": "stream",
       "stream": "stderr",
       "text": [
        "\r",
        "[ 71 %] elapsed[sec]: 0.156 | ETA[sec]: 0.063 "
       ]
      },
      {
       "output_type": "stream",
       "stream": "stderr",
       "text": [
        "\r",
        "[ 71 %] elapsed[sec]: 0.157 | ETA[sec]: 0.061 "
       ]
      },
      {
       "output_type": "stream",
       "stream": "stderr",
       "text": [
        "\r",
        "[ 72 %] elapsed[sec]: 0.159 | ETA[sec]: 0.060 "
       ]
      },
      {
       "output_type": "stream",
       "stream": "stderr",
       "text": [
        "\r",
        "[ 73 %] elapsed[sec]: 0.160 | ETA[sec]: 0.058 "
       ]
      },
      {
       "output_type": "stream",
       "stream": "stderr",
       "text": [
        "\r",
        "[ 74 %] elapsed[sec]: 0.162 | ETA[sec]: 0.056 "
       ]
      },
      {
       "output_type": "stream",
       "stream": "stderr",
       "text": [
        "\r",
        "[ 75 %] elapsed[sec]: 0.163 | ETA[sec]: 0.054 "
       ]
      },
      {
       "output_type": "stream",
       "stream": "stderr",
       "text": [
        "\r",
        "[ 75 %] elapsed[sec]: 0.165 | ETA[sec]: 0.053 "
       ]
      },
      {
       "output_type": "stream",
       "stream": "stderr",
       "text": [
        "\r",
        "[ 76 %] elapsed[sec]: 0.166 | ETA[sec]: 0.051 "
       ]
      },
      {
       "output_type": "stream",
       "stream": "stderr",
       "text": [
        "\r",
        "[ 77 %] elapsed[sec]: 0.168 | ETA[sec]: 0.049 "
       ]
      },
      {
       "output_type": "stream",
       "stream": "stderr",
       "text": [
        "\r",
        "[ 78 %] elapsed[sec]: 0.170 | ETA[sec]: 0.048 "
       ]
      },
      {
       "output_type": "stream",
       "stream": "stderr",
       "text": [
        "\r",
        "[ 78 %] elapsed[sec]: 0.171 | ETA[sec]: 0.046 "
       ]
      },
      {
       "output_type": "stream",
       "stream": "stderr",
       "text": [
        "\r",
        "[ 79 %] elapsed[sec]: 0.173 | ETA[sec]: 0.044 "
       ]
      },
      {
       "output_type": "stream",
       "stream": "stderr",
       "text": [
        "\r",
        "[ 80 %] elapsed[sec]: 0.175 | ETA[sec]: 0.042 "
       ]
      },
      {
       "output_type": "stream",
       "stream": "stderr",
       "text": [
        "\r",
        "[ 81 %] elapsed[sec]: 0.176 | ETA[sec]: 0.041 "
       ]
      },
      {
       "output_type": "stream",
       "stream": "stderr",
       "text": [
        "\r",
        "[ 82 %] elapsed[sec]: 0.177 | ETA[sec]: 0.039 "
       ]
      },
      {
       "output_type": "stream",
       "stream": "stderr",
       "text": [
        "\r",
        "[ 82 %] elapsed[sec]: 0.179 | ETA[sec]: 0.037 "
       ]
      },
      {
       "output_type": "stream",
       "stream": "stderr",
       "text": [
        "\r",
        "[ 83 %] elapsed[sec]: 0.181 | ETA[sec]: 0.036 "
       ]
      },
      {
       "output_type": "stream",
       "stream": "stderr",
       "text": [
        "\r",
        "[ 84 %] elapsed[sec]: 0.183 | ETA[sec]: 0.034 "
       ]
      },
      {
       "output_type": "stream",
       "stream": "stderr",
       "text": [
        "\r",
        "[ 85 %] elapsed[sec]: 0.185 | ETA[sec]: 0.032 "
       ]
      },
      {
       "output_type": "stream",
       "stream": "stderr",
       "text": [
        "\r",
        "[ 85 %] elapsed[sec]: 0.188 | ETA[sec]: 0.031 "
       ]
      },
      {
       "output_type": "stream",
       "stream": "stderr",
       "text": [
        "\r",
        "[ 86 %] elapsed[sec]: 0.189 | ETA[sec]: 0.029 "
       ]
      },
      {
       "output_type": "stream",
       "stream": "stderr",
       "text": [
        "\r",
        "[ 87 %] elapsed[sec]: 0.191 | ETA[sec]: 0.027 "
       ]
      },
      {
       "output_type": "stream",
       "stream": "stderr",
       "text": [
        "\r",
        "[ 88 %] elapsed[sec]: 0.193 | ETA[sec]: 0.026 "
       ]
      },
      {
       "output_type": "stream",
       "stream": "stderr",
       "text": [
        "\r",
        "[ 89 %] elapsed[sec]: 0.196 | ETA[sec]: 0.024 "
       ]
      },
      {
       "output_type": "stream",
       "stream": "stderr",
       "text": [
        "\r",
        "[ 89 %] elapsed[sec]: 0.198 | ETA[sec]: 0.022 "
       ]
      },
      {
       "output_type": "stream",
       "stream": "stderr",
       "text": [
        "\r",
        "[ 90 %] elapsed[sec]: 0.200 | ETA[sec]: 0.021 "
       ]
      },
      {
       "output_type": "stream",
       "stream": "stderr",
       "text": [
        "\r",
        "[ 91 %] elapsed[sec]: 0.202 | ETA[sec]: 0.019 "
       ]
      },
      {
       "output_type": "stream",
       "stream": "stderr",
       "text": [
        "\r",
        "[ 92 %] elapsed[sec]: 0.204 | ETA[sec]: 0.017 "
       ]
      },
      {
       "output_type": "stream",
       "stream": "stderr",
       "text": [
        "\r",
        "[ 92 %] elapsed[sec]: 0.206 | ETA[sec]: 0.016 "
       ]
      },
      {
       "output_type": "stream",
       "stream": "stderr",
       "text": [
        "\r",
        "[ 93 %] elapsed[sec]: 0.208 | ETA[sec]: 0.014 "
       ]
      },
      {
       "output_type": "stream",
       "stream": "stderr",
       "text": [
        "\r",
        "[ 94 %] elapsed[sec]: 0.210 | ETA[sec]: 0.012 "
       ]
      },
      {
       "output_type": "stream",
       "stream": "stderr",
       "text": [
        "\r",
        "[ 95 %] elapsed[sec]: 0.212 | ETA[sec]: 0.010 "
       ]
      },
      {
       "output_type": "stream",
       "stream": "stderr",
       "text": [
        "\r",
        "[ 96 %] elapsed[sec]: 0.215 | ETA[sec]: 0.009 "
       ]
      },
      {
       "output_type": "stream",
       "stream": "stderr",
       "text": [
        "\r",
        "[ 96 %] elapsed[sec]: 0.217 | ETA[sec]: 0.007 "
       ]
      },
      {
       "output_type": "stream",
       "stream": "stderr",
       "text": [
        "\r",
        "[ 97 %] elapsed[sec]: 0.219 | ETA[sec]: 0.005 "
       ]
      },
      {
       "output_type": "stream",
       "stream": "stderr",
       "text": [
        "\r",
        "[ 98 %] elapsed[sec]: 0.221 | ETA[sec]: 0.004 "
       ]
      },
      {
       "output_type": "stream",
       "stream": "stderr",
       "text": [
        "\r",
        "[ 99 %] elapsed[sec]: 0.222 | ETA[sec]: 0.002 "
       ]
      },
      {
       "output_type": "stream",
       "stream": "stderr",
       "text": [
        "\r",
        "[100 %] elapsed[sec]: 0.224"
       ]
      },
      {
       "output_type": "stream",
       "stream": "stdout",
       "text": [
        "\n",
        "Title: \n",
        "                      Started: 09/24/2014 16:10:08\n",
        "                      Finished: 09/24/2014 16:10:08\n",
        "                      Total time elapsed: 0.224 sec\n",
        "                      CPU %: 102.800000\n",
        "                      Memory %: 3.384995"
       ]
      },
      {
       "output_type": "stream",
       "stream": "stderr",
       "text": [
        "\n",
        "Total time elapsed: 0.224 sec\n",
        "\r",
        "[  0 %]"
       ]
      },
      {
       "output_type": "stream",
       "stream": "stderr",
       "text": [
        " elapsed[sec]: 0.000"
       ]
      },
      {
       "output_type": "stream",
       "stream": "stdout",
       "text": [
        "\n",
        "Saving sequence results/color-energy_contrast-0_5.webm"
       ]
      },
      {
       "output_type": "stream",
       "stream": "stderr",
       "text": [
        "\r",
        "[  0 %] elapsed[sec]: 0.001"
       ]
      },
      {
       "output_type": "stream",
       "stream": "stderr",
       "text": [
        "\r",
        "[  1 %] elapsed[sec]: 0.003 | ETA[sec]: 0.193 "
       ]
      },
      {
       "output_type": "stream",
       "stream": "stderr",
       "text": [
        "\r",
        "[  2 %] elapsed[sec]: 0.005 | ETA[sec]: 0.209 "
       ]
      },
      {
       "output_type": "stream",
       "stream": "stderr",
       "text": [
        "\r",
        "[  3 %] elapsed[sec]: 0.007 | ETA[sec]: 0.218 "
       ]
      },
      {
       "output_type": "stream",
       "stream": "stderr",
       "text": [
        "\r",
        "[  3 %] elapsed[sec]: 0.009 | ETA[sec]: 0.221 "
       ]
      },
      {
       "output_type": "stream",
       "stream": "stderr",
       "text": [
        "\r",
        "[  4 %] elapsed[sec]: 0.011 | ETA[sec]: 0.222 "
       ]
      },
      {
       "output_type": "stream",
       "stream": "stderr",
       "text": [
        "\r",
        "[  5 %] elapsed[sec]: 0.013 | ETA[sec]: 0.223 "
       ]
      },
      {
       "output_type": "stream",
       "stream": "stderr",
       "text": [
        "\r",
        "[  6 %] elapsed[sec]: 0.015 | ETA[sec]: 0.225 "
       ]
      },
      {
       "output_type": "stream",
       "stream": "stderr",
       "text": [
        "\r",
        "[  7 %] elapsed[sec]: 0.017 | ETA[sec]: 0.226 "
       ]
      },
      {
       "output_type": "stream",
       "stream": "stderr",
       "text": [
        "\r",
        "[  7 %] elapsed[sec]: 0.019 | ETA[sec]: 0.222 "
       ]
      },
      {
       "output_type": "stream",
       "stream": "stderr",
       "text": [
        "\r",
        "[  8 %] elapsed[sec]: 0.020 | ETA[sec]: 0.215 "
       ]
      },
      {
       "output_type": "stream",
       "stream": "stderr",
       "text": [
        "\r",
        "[  9 %] elapsed[sec]: 0.022 | ETA[sec]: 0.208 "
       ]
      },
      {
       "output_type": "stream",
       "stream": "stderr",
       "text": [
        "\r",
        "[ 10 %] elapsed[sec]: 0.023 | ETA[sec]: 0.203 "
       ]
      },
      {
       "output_type": "stream",
       "stream": "stderr",
       "text": [
        "\r",
        "[ 10 %] elapsed[sec]: 0.024 | ETA[sec]: 0.198 "
       ]
      },
      {
       "output_type": "stream",
       "stream": "stderr",
       "text": [
        "\r",
        "[ 11 %] elapsed[sec]: 0.026 | ETA[sec]: 0.193 "
       ]
      },
      {
       "output_type": "stream",
       "stream": "stderr",
       "text": [
        "\r",
        "[ 12 %] elapsed[sec]: 0.027 | ETA[sec]: 0.189 "
       ]
      },
      {
       "output_type": "stream",
       "stream": "stderr",
       "text": [
        "\r",
        "[ 13 %] elapsed[sec]: 0.029 | ETA[sec]: 0.188 "
       ]
      },
      {
       "output_type": "stream",
       "stream": "stderr",
       "text": [
        "\r",
        "[ 14 %] elapsed[sec]: 0.030 | ETA[sec]: 0.185 "
       ]
      },
      {
       "output_type": "stream",
       "stream": "stderr",
       "text": [
        "\r",
        "[ 14 %] elapsed[sec]: 0.032 | ETA[sec]: 0.181 "
       ]
      },
      {
       "output_type": "stream",
       "stream": "stderr",
       "text": [
        "\r",
        "[ 15 %] elapsed[sec]: 0.033 | ETA[sec]: 0.178 "
       ]
      },
      {
       "output_type": "stream",
       "stream": "stderr",
       "text": [
        "\r",
        "[ 16 %] elapsed[sec]: 0.034 | ETA[sec]: 0.174 "
       ]
      },
      {
       "output_type": "stream",
       "stream": "stderr",
       "text": [
        "\r",
        "[ 17 %] elapsed[sec]: 0.036 | ETA[sec]: 0.171 "
       ]
      },
      {
       "output_type": "stream",
       "stream": "stderr",
       "text": [
        "\r",
        "[ 17 %] elapsed[sec]: 0.037 | ETA[sec]: 0.168 "
       ]
      },
      {
       "output_type": "stream",
       "stream": "stderr",
       "text": [
        "\r",
        "[ 18 %] elapsed[sec]: 0.038 | ETA[sec]: 0.166 "
       ]
      },
      {
       "output_type": "stream",
       "stream": "stderr",
       "text": [
        "\r",
        "[ 19 %] elapsed[sec]: 0.040 | ETA[sec]: 0.164 "
       ]
      },
      {
       "output_type": "stream",
       "stream": "stderr",
       "text": [
        "\r",
        "[ 20 %] elapsed[sec]: 0.041 | ETA[sec]: 0.162 "
       ]
      },
      {
       "output_type": "stream",
       "stream": "stderr",
       "text": [
        "\r",
        "[ 21 %] elapsed[sec]: 0.043 | ETA[sec]: 0.160 "
       ]
      },
      {
       "output_type": "stream",
       "stream": "stderr",
       "text": [
        "\r",
        "[ 21 %] elapsed[sec]: 0.044 | ETA[sec]: 0.157 "
       ]
      },
      {
       "output_type": "stream",
       "stream": "stderr",
       "text": [
        "\r",
        "[ 22 %] elapsed[sec]: 0.045 | ETA[sec]: 0.155 "
       ]
      },
      {
       "output_type": "stream",
       "stream": "stderr",
       "text": [
        "\r",
        "[ 23 %] elapsed[sec]: 0.047 | ETA[sec]: 0.152 "
       ]
      },
      {
       "output_type": "stream",
       "stream": "stderr",
       "text": [
        "\r",
        "[ 24 %] elapsed[sec]: 0.048 | ETA[sec]: 0.150 "
       ]
      },
      {
       "output_type": "stream",
       "stream": "stderr",
       "text": [
        "\r",
        "[ 25 %] elapsed[sec]: 0.049 | ETA[sec]: 0.148 "
       ]
      },
      {
       "output_type": "stream",
       "stream": "stderr",
       "text": [
        "\r",
        "[ 25 %] elapsed[sec]: 0.051 | ETA[sec]: 0.147 "
       ]
      },
      {
       "output_type": "stream",
       "stream": "stderr",
       "text": [
        "\r",
        "[ 26 %] elapsed[sec]: 0.053 | ETA[sec]: 0.146 "
       ]
      },
      {
       "output_type": "stream",
       "stream": "stderr",
       "text": [
        "\r",
        "[ 27 %] elapsed[sec]: 0.054 | ETA[sec]: 0.145 "
       ]
      },
      {
       "output_type": "stream",
       "stream": "stderr",
       "text": [
        "\r",
        "[ 28 %] elapsed[sec]: 0.056 | ETA[sec]: 0.144 "
       ]
      },
      {
       "output_type": "stream",
       "stream": "stderr",
       "text": [
        "\r",
        "[ 28 %] elapsed[sec]: 0.058 | ETA[sec]: 0.143 "
       ]
      },
      {
       "output_type": "stream",
       "stream": "stderr",
       "text": [
        "\r",
        "[ 29 %] elapsed[sec]: 0.060 | ETA[sec]: 0.143 "
       ]
      },
      {
       "output_type": "stream",
       "stream": "stderr",
       "text": [
        "\r",
        "[ 30 %] elapsed[sec]: 0.062 | ETA[sec]: 0.142 "
       ]
      },
      {
       "output_type": "stream",
       "stream": "stderr",
       "text": [
        "\r",
        "[ 31 %] elapsed[sec]: 0.064 | ETA[sec]: 0.142 "
       ]
      },
      {
       "output_type": "stream",
       "stream": "stderr",
       "text": [
        "\r",
        "[ 32 %] elapsed[sec]: 0.067 | ETA[sec]: 0.141 "
       ]
      },
      {
       "output_type": "stream",
       "stream": "stderr",
       "text": [
        "\r",
        "[ 32 %] elapsed[sec]: 0.069 | ETA[sec]: 0.141 "
       ]
      },
      {
       "output_type": "stream",
       "stream": "stderr",
       "text": [
        "\r",
        "[ 33 %] elapsed[sec]: 0.071 | ETA[sec]: 0.141 "
       ]
      },
      {
       "output_type": "stream",
       "stream": "stderr",
       "text": [
        "\r",
        "[ 34 %] elapsed[sec]: 0.074 | ETA[sec]: 0.141 "
       ]
      },
      {
       "output_type": "stream",
       "stream": "stderr",
       "text": [
        "\r",
        "[ 35 %] elapsed[sec]: 0.076 | ETA[sec]: 0.140 "
       ]
      },
      {
       "output_type": "stream",
       "stream": "stderr",
       "text": [
        "\r",
        "[ 35 %] elapsed[sec]: 0.078 | ETA[sec]: 0.140 "
       ]
      },
      {
       "output_type": "stream",
       "stream": "stderr",
       "text": [
        "\r",
        "[ 36 %] elapsed[sec]: 0.080 | ETA[sec]: 0.138 "
       ]
      },
      {
       "output_type": "stream",
       "stream": "stderr",
       "text": [
        "\r",
        "[ 37 %] elapsed[sec]: 0.082 | ETA[sec]: 0.136 "
       ]
      },
      {
       "output_type": "stream",
       "stream": "stderr",
       "text": [
        "\r",
        "[ 38 %] elapsed[sec]: 0.083 | ETA[sec]: 0.134 "
       ]
      },
      {
       "output_type": "stream",
       "stream": "stderr",
       "text": [
        "\r",
        "[ 39 %] elapsed[sec]: 0.085 | ETA[sec]: 0.132 "
       ]
      },
      {
       "output_type": "stream",
       "stream": "stderr",
       "text": [
        "\r",
        "[ 39 %] elapsed[sec]: 0.086 | ETA[sec]: 0.130 "
       ]
      },
      {
       "output_type": "stream",
       "stream": "stderr",
       "text": [
        "\r",
        "[ 40 %] elapsed[sec]: 0.087 | ETA[sec]: 0.128 "
       ]
      },
      {
       "output_type": "stream",
       "stream": "stderr",
       "text": [
        "\r",
        "[ 41 %] elapsed[sec]: 0.089 | ETA[sec]: 0.126 "
       ]
      },
      {
       "output_type": "stream",
       "stream": "stderr",
       "text": [
        "\r",
        "[ 42 %] elapsed[sec]: 0.090 | ETA[sec]: 0.124 "
       ]
      },
      {
       "output_type": "stream",
       "stream": "stderr",
       "text": [
        "\r",
        "[ 42 %] elapsed[sec]: 0.092 | ETA[sec]: 0.121 "
       ]
      },
      {
       "output_type": "stream",
       "stream": "stderr",
       "text": [
        "\r",
        "[ 43 %] elapsed[sec]: 0.093 | ETA[sec]: 0.120 "
       ]
      },
      {
       "output_type": "stream",
       "stream": "stderr",
       "text": [
        "\r",
        "[ 44 %] elapsed[sec]: 0.094 | ETA[sec]: 0.118 "
       ]
      },
      {
       "output_type": "stream",
       "stream": "stderr",
       "text": [
        "\r",
        "[ 45 %] elapsed[sec]: 0.096 | ETA[sec]: 0.116 "
       ]
      },
      {
       "output_type": "stream",
       "stream": "stderr",
       "text": [
        "\r",
        "[ 46 %] elapsed[sec]: 0.097 | ETA[sec]: 0.114 "
       ]
      },
      {
       "output_type": "stream",
       "stream": "stderr",
       "text": [
        "\r",
        "[ 46 %] elapsed[sec]: 0.098 | ETA[sec]: 0.112 "
       ]
      },
      {
       "output_type": "stream",
       "stream": "stderr",
       "text": [
        "\r",
        "[ 47 %] elapsed[sec]: 0.100 | ETA[sec]: 0.110 "
       ]
      },
      {
       "output_type": "stream",
       "stream": "stderr",
       "text": [
        "\r",
        "[ 48 %] elapsed[sec]: 0.101 | ETA[sec]: 0.108 "
       ]
      },
      {
       "output_type": "stream",
       "stream": "stderr",
       "text": [
        "\r",
        "[ 49 %] elapsed[sec]: 0.103 | ETA[sec]: 0.106 "
       ]
      },
      {
       "output_type": "stream",
       "stream": "stderr",
       "text": [
        "\r",
        "[ 50 %] elapsed[sec]: 0.105 | ETA[sec]: 0.105 "
       ]
      },
      {
       "output_type": "stream",
       "stream": "stderr",
       "text": [
        "\r",
        "[ 50 %] elapsed[sec]: 0.107 | ETA[sec]: 0.103 "
       ]
      },
      {
       "output_type": "stream",
       "stream": "stderr",
       "text": [
        "\r",
        "[ 51 %] elapsed[sec]: 0.109 | ETA[sec]: 0.102 "
       ]
      },
      {
       "output_type": "stream",
       "stream": "stderr",
       "text": [
        "\r",
        "[ 52 %] elapsed[sec]: 0.110 | ETA[sec]: 0.100 "
       ]
      },
      {
       "output_type": "stream",
       "stream": "stderr",
       "text": [
        "\r",
        "[ 53 %] elapsed[sec]: 0.112 | ETA[sec]: 0.099 "
       ]
      },
      {
       "output_type": "stream",
       "stream": "stderr",
       "text": [
        "\r",
        "[ 53 %] elapsed[sec]: 0.114 | ETA[sec]: 0.098 "
       ]
      },
      {
       "output_type": "stream",
       "stream": "stderr",
       "text": [
        "\r",
        "[ 54 %] elapsed[sec]: 0.116 | ETA[sec]: 0.097 "
       ]
      },
      {
       "output_type": "stream",
       "stream": "stderr",
       "text": [
        "\r",
        "[ 55 %] elapsed[sec]: 0.119 | ETA[sec]: 0.095 "
       ]
      },
      {
       "output_type": "stream",
       "stream": "stderr",
       "text": [
        "\r",
        "[ 56 %] elapsed[sec]: 0.121 | ETA[sec]: 0.094 "
       ]
      },
      {
       "output_type": "stream",
       "stream": "stderr",
       "text": [
        "\r",
        "[ 57 %] elapsed[sec]: 0.123 | ETA[sec]: 0.093 "
       ]
      },
      {
       "output_type": "stream",
       "stream": "stderr",
       "text": [
        "\r",
        "[ 57 %] elapsed[sec]: 0.125 | ETA[sec]: 0.091 "
       ]
      },
      {
       "output_type": "stream",
       "stream": "stderr",
       "text": [
        "\r",
        "[ 58 %] elapsed[sec]: 0.127 | ETA[sec]: 0.090 "
       ]
      },
      {
       "output_type": "stream",
       "stream": "stderr",
       "text": [
        "\r",
        "[ 59 %] elapsed[sec]: 0.130 | ETA[sec]: 0.089 "
       ]
      },
      {
       "output_type": "stream",
       "stream": "stderr",
       "text": [
        "\r",
        "[ 60 %] elapsed[sec]: 0.132 | ETA[sec]: 0.087 "
       ]
      },
      {
       "output_type": "stream",
       "stream": "stderr",
       "text": [
        "\r",
        "[ 60 %] elapsed[sec]: 0.134 | ETA[sec]: 0.086 "
       ]
      },
      {
       "output_type": "stream",
       "stream": "stderr",
       "text": [
        "\r",
        "[ 61 %] elapsed[sec]: 0.136 | ETA[sec]: 0.084 "
       ]
      },
      {
       "output_type": "stream",
       "stream": "stderr",
       "text": [
        "\r",
        "[ 62 %] elapsed[sec]: 0.138 | ETA[sec]: 0.083 "
       ]
      },
      {
       "output_type": "stream",
       "stream": "stderr",
       "text": [
        "\r",
        "[ 63 %] elapsed[sec]: 0.140 | ETA[sec]: 0.082 "
       ]
      },
      {
       "output_type": "stream",
       "stream": "stderr",
       "text": [
        "\r",
        "[ 64 %] elapsed[sec]: 0.142 | ETA[sec]: 0.080 "
       ]
      },
      {
       "output_type": "stream",
       "stream": "stderr",
       "text": [
        "\r",
        "[ 64 %] elapsed[sec]: 0.144 | ETA[sec]: 0.078 "
       ]
      },
      {
       "output_type": "stream",
       "stream": "stderr",
       "text": [
        "\r",
        "[ 65 %] elapsed[sec]: 0.145 | ETA[sec]: 0.076 "
       ]
      },
      {
       "output_type": "stream",
       "stream": "stderr",
       "text": [
        "\r",
        "[ 66 %] elapsed[sec]: 0.147 | ETA[sec]: 0.074 "
       ]
      },
      {
       "output_type": "stream",
       "stream": "stderr",
       "text": [
        "\r",
        "[ 67 %] elapsed[sec]: 0.148 | ETA[sec]: 0.072 "
       ]
      },
      {
       "output_type": "stream",
       "stream": "stderr",
       "text": [
        "\r",
        "[ 67 %] elapsed[sec]: 0.150 | ETA[sec]: 0.071 "
       ]
      },
      {
       "output_type": "stream",
       "stream": "stderr",
       "text": [
        "\r",
        "[ 68 %] elapsed[sec]: 0.152 | ETA[sec]: 0.069 "
       ]
      },
      {
       "output_type": "stream",
       "stream": "stderr",
       "text": [
        "\r",
        "[ 69 %] elapsed[sec]: 0.153 | ETA[sec]: 0.067 "
       ]
      },
      {
       "output_type": "stream",
       "stream": "stderr",
       "text": [
        "\r",
        "[ 70 %] elapsed[sec]: 0.155 | ETA[sec]: 0.065 "
       ]
      },
      {
       "output_type": "stream",
       "stream": "stderr",
       "text": [
        "\r",
        "[ 71 %] elapsed[sec]: 0.156 | ETA[sec]: 0.064 "
       ]
      },
      {
       "output_type": "stream",
       "stream": "stderr",
       "text": [
        "\r",
        "[ 71 %] elapsed[sec]: 0.158 | ETA[sec]: 0.062 "
       ]
      },
      {
       "output_type": "stream",
       "stream": "stderr",
       "text": [
        "\r",
        "[ 72 %] elapsed[sec]: 0.159 | ETA[sec]: 0.060 "
       ]
      },
      {
       "output_type": "stream",
       "stream": "stderr",
       "text": [
        "\r",
        "[ 73 %] elapsed[sec]: 0.161 | ETA[sec]: 0.058 "
       ]
      },
      {
       "output_type": "stream",
       "stream": "stderr",
       "text": [
        "\r",
        "[ 74 %] elapsed[sec]: 0.163 | ETA[sec]: 0.057 "
       ]
      },
      {
       "output_type": "stream",
       "stream": "stderr",
       "text": [
        "\r",
        "[ 75 %] elapsed[sec]: 0.164 | ETA[sec]: 0.055 "
       ]
      },
      {
       "output_type": "stream",
       "stream": "stderr",
       "text": [
        "\r",
        "[ 75 %] elapsed[sec]: 0.166 | ETA[sec]: 0.053 "
       ]
      },
      {
       "output_type": "stream",
       "stream": "stderr",
       "text": [
        "\r",
        "[ 76 %] elapsed[sec]: 0.167 | ETA[sec]: 0.051 "
       ]
      },
      {
       "output_type": "stream",
       "stream": "stderr",
       "text": [
        "\r",
        "[ 77 %] elapsed[sec]: 0.169 | ETA[sec]: 0.050 "
       ]
      },
      {
       "output_type": "stream",
       "stream": "stderr",
       "text": [
        "\r",
        "[ 78 %] elapsed[sec]: 0.171 | ETA[sec]: 0.048 "
       ]
      },
      {
       "output_type": "stream",
       "stream": "stderr",
       "text": [
        "\r",
        "[ 78 %] elapsed[sec]: 0.173 | ETA[sec]: 0.046 "
       ]
      },
      {
       "output_type": "stream",
       "stream": "stderr",
       "text": [
        "\r",
        "[ 79 %] elapsed[sec]: 0.175 | ETA[sec]: 0.045 "
       ]
      },
      {
       "output_type": "stream",
       "stream": "stderr",
       "text": [
        "\r",
        "[ 80 %] elapsed[sec]: 0.176 | ETA[sec]: 0.043 "
       ]
      },
      {
       "output_type": "stream",
       "stream": "stderr",
       "text": [
        "\r",
        "[ 81 %] elapsed[sec]: 0.178 | ETA[sec]: 0.041 "
       ]
      },
      {
       "output_type": "stream",
       "stream": "stderr",
       "text": [
        "\r",
        "[ 82 %] elapsed[sec]: 0.179 | ETA[sec]: 0.039 "
       ]
      },
      {
       "output_type": "stream",
       "stream": "stderr",
       "text": [
        "\r",
        "[ 82 %] elapsed[sec]: 0.181 | ETA[sec]: 0.037 "
       ]
      },
      {
       "output_type": "stream",
       "stream": "stderr",
       "text": [
        "\r",
        "[ 83 %] elapsed[sec]: 0.182 | ETA[sec]: 0.036 "
       ]
      },
      {
       "output_type": "stream",
       "stream": "stderr",
       "text": [
        "\r",
        "[ 84 %] elapsed[sec]: 0.184 | ETA[sec]: 0.034 "
       ]
      },
      {
       "output_type": "stream",
       "stream": "stderr",
       "text": [
        "\r",
        "[ 85 %] elapsed[sec]: 0.186 | ETA[sec]: 0.032 "
       ]
      },
      {
       "output_type": "stream",
       "stream": "stderr",
       "text": [
        "\r",
        "[ 85 %] elapsed[sec]: 0.187 | ETA[sec]: 0.031 "
       ]
      },
      {
       "output_type": "stream",
       "stream": "stderr",
       "text": [
        "\r",
        "[ 86 %] elapsed[sec]: 0.188 | ETA[sec]: 0.029 "
       ]
      },
      {
       "output_type": "stream",
       "stream": "stderr",
       "text": [
        "\r",
        "[ 87 %] elapsed[sec]: 0.190 | ETA[sec]: 0.027 "
       ]
      },
      {
       "output_type": "stream",
       "stream": "stderr",
       "text": [
        "\r",
        "[ 88 %] elapsed[sec]: 0.191 | ETA[sec]: 0.025 "
       ]
      },
      {
       "output_type": "stream",
       "stream": "stderr",
       "text": [
        "\r",
        "[ 89 %] elapsed[sec]: 0.193 | ETA[sec]: 0.024 "
       ]
      },
      {
       "output_type": "stream",
       "stream": "stderr",
       "text": [
        "\r",
        "[ 89 %] elapsed[sec]: 0.195 | ETA[sec]: 0.022 "
       ]
      },
      {
       "output_type": "stream",
       "stream": "stderr",
       "text": [
        "\r",
        "[ 90 %] elapsed[sec]: 0.196 | ETA[sec]: 0.020 "
       ]
      },
      {
       "output_type": "stream",
       "stream": "stderr",
       "text": [
        "\r",
        "[ 91 %] elapsed[sec]: 0.198 | ETA[sec]: 0.019 "
       ]
      },
      {
       "output_type": "stream",
       "stream": "stderr",
       "text": [
        "\r",
        "[ 92 %] elapsed[sec]: 0.199 | ETA[sec]: 0.017 "
       ]
      },
      {
       "output_type": "stream",
       "stream": "stderr",
       "text": [
        "\r",
        "[ 92 %] elapsed[sec]: 0.201 | ETA[sec]: 0.015 "
       ]
      },
      {
       "output_type": "stream",
       "stream": "stderr",
       "text": [
        "\r",
        "[ 93 %] elapsed[sec]: 0.202 | ETA[sec]: 0.013 "
       ]
      },
      {
       "output_type": "stream",
       "stream": "stderr",
       "text": [
        "\r",
        "[ 94 %] elapsed[sec]: 0.204 | ETA[sec]: 0.012 "
       ]
      },
      {
       "output_type": "stream",
       "stream": "stderr",
       "text": [
        "\r",
        "[ 95 %] elapsed[sec]: 0.205 | ETA[sec]: 0.010 "
       ]
      },
      {
       "output_type": "stream",
       "stream": "stderr",
       "text": [
        "\r",
        "[ 96 %] elapsed[sec]: 0.206 | ETA[sec]: 0.008 "
       ]
      },
      {
       "output_type": "stream",
       "stream": "stderr",
       "text": [
        "\r",
        "[ 96 %] elapsed[sec]: 0.207 | ETA[sec]: 0.007 "
       ]
      },
      {
       "output_type": "stream",
       "stream": "stderr",
       "text": [
        "\r",
        "[ 97 %] elapsed[sec]: 0.209 | ETA[sec]: 0.005 "
       ]
      },
      {
       "output_type": "stream",
       "stream": "stderr",
       "text": [
        "\r",
        "[ 98 %] elapsed[sec]: 0.210 | ETA[sec]: 0.003 "
       ]
      },
      {
       "output_type": "stream",
       "stream": "stderr",
       "text": [
        "\r",
        "[ 99 %] elapsed[sec]: 0.211 | ETA[sec]: 0.002 "
       ]
      },
      {
       "output_type": "stream",
       "stream": "stderr",
       "text": [
        "\r",
        "[100 %] elapsed[sec]: 0.213"
       ]
      },
      {
       "output_type": "stream",
       "stream": "stdout",
       "text": [
        "\n",
        "Title: \n",
        "                      Started: 09/24/2014 16:10:09\n",
        "                      Finished: 09/24/2014 16:10:09\n",
        "                      Total time elapsed: 0.213 sec\n",
        "                      CPU %: 102.900000\n",
        "                      Memory %: 3.384995"
       ]
      },
      {
       "output_type": "stream",
       "stream": "stderr",
       "text": [
        "\n",
        "Total time elapsed: 0.213 sec\n",
        "\r",
        "[  0 %]"
       ]
      },
      {
       "output_type": "stream",
       "stream": "stderr",
       "text": [
        " elapsed[sec]: 0.000"
       ]
      },
      {
       "output_type": "stream",
       "stream": "stdout",
       "text": [
        "\n",
        "Saving sequence results/color-energy_contrast-0_75.webm"
       ]
      },
      {
       "output_type": "stream",
       "stream": "stderr",
       "text": [
        "\r",
        "[  0 %] elapsed[sec]: 0.001"
       ]
      },
      {
       "output_type": "stream",
       "stream": "stderr",
       "text": [
        "\r",
        "[  1 %] elapsed[sec]: 0.003 | ETA[sec]: 0.160 "
       ]
      },
      {
       "output_type": "stream",
       "stream": "stderr",
       "text": [
        "\r",
        "[  2 %] elapsed[sec]: 0.004 | ETA[sec]: 0.168 "
       ]
      },
      {
       "output_type": "stream",
       "stream": "stderr",
       "text": [
        "\r",
        "[  3 %] elapsed[sec]: 0.006 | ETA[sec]: 0.173 "
       ]
      },
      {
       "output_type": "stream",
       "stream": "stderr",
       "text": [
        "\r",
        "[  3 %] elapsed[sec]: 0.007 | ETA[sec]: 0.176 "
       ]
      },
      {
       "output_type": "stream",
       "stream": "stderr",
       "text": [
        "\r",
        "[  4 %] elapsed[sec]: 0.009 | ETA[sec]: 0.178 "
       ]
      },
      {
       "output_type": "stream",
       "stream": "stderr",
       "text": [
        "\r",
        "[  5 %] elapsed[sec]: 0.010 | ETA[sec]: 0.177 "
       ]
      },
      {
       "output_type": "stream",
       "stream": "stderr",
       "text": [
        "\r",
        "[  6 %] elapsed[sec]: 0.012 | ETA[sec]: 0.187 "
       ]
      },
      {
       "output_type": "stream",
       "stream": "stderr",
       "text": [
        "\r",
        "[  7 %] elapsed[sec]: 0.015 | ETA[sec]: 0.198 "
       ]
      },
      {
       "output_type": "stream",
       "stream": "stderr",
       "text": [
        "\r",
        "[  7 %] elapsed[sec]: 0.017 | ETA[sec]: 0.204 "
       ]
      },
      {
       "output_type": "stream",
       "stream": "stderr",
       "text": [
        "\r",
        "[  8 %] elapsed[sec]: 0.020 | ETA[sec]: 0.210 "
       ]
      },
      {
       "output_type": "stream",
       "stream": "stderr",
       "text": [
        "\r",
        "[  9 %] elapsed[sec]: 0.022 | ETA[sec]: 0.213 "
       ]
      },
      {
       "output_type": "stream",
       "stream": "stderr",
       "text": [
        "\r",
        "[ 10 %] elapsed[sec]: 0.024 | ETA[sec]: 0.213 "
       ]
      },
      {
       "output_type": "stream",
       "stream": "stderr",
       "text": [
        "\r",
        "[ 10 %] elapsed[sec]: 0.026 | ETA[sec]: 0.213 "
       ]
      },
      {
       "output_type": "stream",
       "stream": "stderr",
       "text": [
        "\r",
        "[ 11 %] elapsed[sec]: 0.028 | ETA[sec]: 0.212 "
       ]
      },
      {
       "output_type": "stream",
       "stream": "stderr",
       "text": [
        "\r",
        "[ 12 %] elapsed[sec]: 0.030 | ETA[sec]: 0.210 "
       ]
      },
      {
       "output_type": "stream",
       "stream": "stderr",
       "text": [
        "\r",
        "[ 13 %] elapsed[sec]: 0.032 | ETA[sec]: 0.208 "
       ]
      },
      {
       "output_type": "stream",
       "stream": "stderr",
       "text": [
        "\r",
        "[ 14 %] elapsed[sec]: 0.034 | ETA[sec]: 0.207 "
       ]
      },
      {
       "output_type": "stream",
       "stream": "stderr",
       "text": [
        "\r",
        "[ 14 %] elapsed[sec]: 0.036 | ETA[sec]: 0.205 "
       ]
      },
      {
       "output_type": "stream",
       "stream": "stderr",
       "text": [
        "\r",
        "[ 15 %] elapsed[sec]: 0.038 | ETA[sec]: 0.203 "
       ]
      },
      {
       "output_type": "stream",
       "stream": "stderr",
       "text": [
        "\r",
        "[ 16 %] elapsed[sec]: 0.040 | ETA[sec]: 0.202 "
       ]
      },
      {
       "output_type": "stream",
       "stream": "stderr",
       "text": [
        "\r",
        "[ 17 %] elapsed[sec]: 0.042 | ETA[sec]: 0.200 "
       ]
      },
      {
       "output_type": "stream",
       "stream": "stderr",
       "text": [
        "\r",
        "[ 17 %] elapsed[sec]: 0.043 | ETA[sec]: 0.197 "
       ]
      },
      {
       "output_type": "stream",
       "stream": "stderr",
       "text": [
        "\r",
        "[ 18 %] elapsed[sec]: 0.045 | ETA[sec]: 0.193 "
       ]
      },
      {
       "output_type": "stream",
       "stream": "stderr",
       "text": [
        "\r",
        "[ 19 %] elapsed[sec]: 0.046 | ETA[sec]: 0.190 "
       ]
      },
      {
       "output_type": "stream",
       "stream": "stderr",
       "text": [
        "\r",
        "[ 20 %] elapsed[sec]: 0.048 | ETA[sec]: 0.187 "
       ]
      },
      {
       "output_type": "stream",
       "stream": "stderr",
       "text": [
        "\r",
        "[ 21 %] elapsed[sec]: 0.049 | ETA[sec]: 0.184 "
       ]
      },
      {
       "output_type": "stream",
       "stream": "stderr",
       "text": [
        "\r",
        "[ 21 %] elapsed[sec]: 0.051 | ETA[sec]: 0.181 "
       ]
      },
      {
       "output_type": "stream",
       "stream": "stderr",
       "text": [
        "\r",
        "[ 22 %] elapsed[sec]: 0.052 | ETA[sec]: 0.178 "
       ]
      },
      {
       "output_type": "stream",
       "stream": "stderr",
       "text": [
        "\r",
        "[ 23 %] elapsed[sec]: 0.054 | ETA[sec]: 0.175 "
       ]
      },
      {
       "output_type": "stream",
       "stream": "stderr",
       "text": [
        "\r",
        "[ 24 %] elapsed[sec]: 0.055 | ETA[sec]: 0.172 "
       ]
      },
      {
       "output_type": "stream",
       "stream": "stderr",
       "text": [
        "\r",
        "[ 25 %] elapsed[sec]: 0.056 | ETA[sec]: 0.169 "
       ]
      },
      {
       "output_type": "stream",
       "stream": "stderr",
       "text": [
        "\r",
        "[ 25 %] elapsed[sec]: 0.058 | ETA[sec]: 0.167 "
       ]
      },
      {
       "output_type": "stream",
       "stream": "stderr",
       "text": [
        "\r",
        "[ 26 %] elapsed[sec]: 0.059 | ETA[sec]: 0.164 "
       ]
      },
      {
       "output_type": "stream",
       "stream": "stderr",
       "text": [
        "\r",
        "[ 27 %] elapsed[sec]: 0.061 | ETA[sec]: 0.162 "
       ]
      },
      {
       "output_type": "stream",
       "stream": "stderr",
       "text": [
        "\r",
        "[ 28 %] elapsed[sec]: 0.062 | ETA[sec]: 0.159 "
       ]
      },
      {
       "output_type": "stream",
       "stream": "stderr",
       "text": [
        "\r",
        "[ 28 %] elapsed[sec]: 0.064 | ETA[sec]: 0.157 "
       ]
      },
      {
       "output_type": "stream",
       "stream": "stderr",
       "text": [
        "\r",
        "[ 29 %] elapsed[sec]: 0.065 | ETA[sec]: 0.154 "
       ]
      },
      {
       "output_type": "stream",
       "stream": "stderr",
       "text": [
        "\r",
        "[ 30 %] elapsed[sec]: 0.066 | ETA[sec]: 0.152 "
       ]
      },
      {
       "output_type": "stream",
       "stream": "stderr",
       "text": [
        "\r",
        "[ 31 %] elapsed[sec]: 0.068 | ETA[sec]: 0.150 "
       ]
      },
      {
       "output_type": "stream",
       "stream": "stderr",
       "text": [
        "\r",
        "[ 32 %] elapsed[sec]: 0.070 | ETA[sec]: 0.148 "
       ]
      },
      {
       "output_type": "stream",
       "stream": "stderr",
       "text": [
        "\r",
        "[ 32 %] elapsed[sec]: 0.071 | ETA[sec]: 0.146 "
       ]
      },
      {
       "output_type": "stream",
       "stream": "stderr",
       "text": [
        "\r",
        "[ 33 %] elapsed[sec]: 0.073 | ETA[sec]: 0.144 "
       ]
      },
      {
       "output_type": "stream",
       "stream": "stderr",
       "text": [
        "\r",
        "[ 34 %] elapsed[sec]: 0.074 | ETA[sec]: 0.142 "
       ]
      },
      {
       "output_type": "stream",
       "stream": "stderr",
       "text": [
        "\r",
        "[ 35 %] elapsed[sec]: 0.076 | ETA[sec]: 0.139 "
       ]
      },
      {
       "output_type": "stream",
       "stream": "stderr",
       "text": [
        "\r",
        "[ 35 %] elapsed[sec]: 0.077 | ETA[sec]: 0.137 "
       ]
      },
      {
       "output_type": "stream",
       "stream": "stderr",
       "text": [
        "\r",
        "[ 36 %] elapsed[sec]: 0.079 | ETA[sec]: 0.136 "
       ]
      },
      {
       "output_type": "stream",
       "stream": "stderr",
       "text": [
        "\r",
        "[ 37 %] elapsed[sec]: 0.080 | ETA[sec]: 0.134 "
       ]
      },
      {
       "output_type": "stream",
       "stream": "stderr",
       "text": [
        "\r",
        "[ 38 %] elapsed[sec]: 0.082 | ETA[sec]: 0.132 "
       ]
      },
      {
       "output_type": "stream",
       "stream": "stderr",
       "text": [
        "\r",
        "[ 39 %] elapsed[sec]: 0.083 | ETA[sec]: 0.130 "
       ]
      },
      {
       "output_type": "stream",
       "stream": "stderr",
       "text": [
        "\r",
        "[ 39 %] elapsed[sec]: 0.085 | ETA[sec]: 0.129 "
       ]
      },
      {
       "output_type": "stream",
       "stream": "stderr",
       "text": [
        "\r",
        "[ 40 %] elapsed[sec]: 0.087 | ETA[sec]: 0.127 "
       ]
      },
      {
       "output_type": "stream",
       "stream": "stderr",
       "text": [
        "\r",
        "[ 41 %] elapsed[sec]: 0.088 | ETA[sec]: 0.125 "
       ]
      },
      {
       "output_type": "stream",
       "stream": "stderr",
       "text": [
        "\r",
        "[ 42 %] elapsed[sec]: 0.091 | ETA[sec]: 0.124 "
       ]
      },
      {
       "output_type": "stream",
       "stream": "stderr",
       "text": [
        "\r",
        "[ 42 %] elapsed[sec]: 0.092 | ETA[sec]: 0.123 "
       ]
      },
      {
       "output_type": "stream",
       "stream": "stderr",
       "text": [
        "\r",
        "[ 43 %] elapsed[sec]: 0.094 | ETA[sec]: 0.121 "
       ]
      },
      {
       "output_type": "stream",
       "stream": "stderr",
       "text": [
        "\r",
        "[ 44 %] elapsed[sec]: 0.095 | ETA[sec]: 0.119 "
       ]
      },
      {
       "output_type": "stream",
       "stream": "stderr",
       "text": [
        "\r",
        "[ 45 %] elapsed[sec]: 0.097 | ETA[sec]: 0.117 "
       ]
      },
      {
       "output_type": "stream",
       "stream": "stderr",
       "text": [
        "\r",
        "[ 46 %] elapsed[sec]: 0.098 | ETA[sec]: 0.115 "
       ]
      },
      {
       "output_type": "stream",
       "stream": "stderr",
       "text": [
        "\r",
        "[ 46 %] elapsed[sec]: 0.100 | ETA[sec]: 0.113 "
       ]
      },
      {
       "output_type": "stream",
       "stream": "stderr",
       "text": [
        "\r",
        "[ 47 %] elapsed[sec]: 0.101 | ETA[sec]: 0.111 "
       ]
      },
      {
       "output_type": "stream",
       "stream": "stderr",
       "text": [
        "\r",
        "[ 48 %] elapsed[sec]: 0.103 | ETA[sec]: 0.110 "
       ]
      },
      {
       "output_type": "stream",
       "stream": "stderr",
       "text": [
        "\r",
        "[ 49 %] elapsed[sec]: 0.105 | ETA[sec]: 0.109 "
       ]
      },
      {
       "output_type": "stream",
       "stream": "stderr",
       "text": [
        "\r",
        "[ 50 %] elapsed[sec]: 0.107 | ETA[sec]: 0.107 "
       ]
      },
      {
       "output_type": "stream",
       "stream": "stderr",
       "text": [
        "\r",
        "[ 50 %] elapsed[sec]: 0.109 | ETA[sec]: 0.105 "
       ]
      },
      {
       "output_type": "stream",
       "stream": "stderr",
       "text": [
        "\r",
        "[ 51 %] elapsed[sec]: 0.111 | ETA[sec]: 0.104 "
       ]
      },
      {
       "output_type": "stream",
       "stream": "stderr",
       "text": [
        "\r",
        "[ 52 %] elapsed[sec]: 0.113 | ETA[sec]: 0.103 "
       ]
      },
      {
       "output_type": "stream",
       "stream": "stderr",
       "text": [
        "\r",
        "[ 53 %] elapsed[sec]: 0.115 | ETA[sec]: 0.101 "
       ]
      },
      {
       "output_type": "stream",
       "stream": "stderr",
       "text": [
        "\r",
        "[ 53 %] elapsed[sec]: 0.117 | ETA[sec]: 0.100 "
       ]
      },
      {
       "output_type": "stream",
       "stream": "stderr",
       "text": [
        "\r",
        "[ 54 %] elapsed[sec]: 0.119 | ETA[sec]: 0.098 "
       ]
      },
      {
       "output_type": "stream",
       "stream": "stderr",
       "text": [
        "\r",
        "[ 55 %] elapsed[sec]: 0.120 | ETA[sec]: 0.097 "
       ]
      },
      {
       "output_type": "stream",
       "stream": "stderr",
       "text": [
        "\r",
        "[ 56 %] elapsed[sec]: 0.122 | ETA[sec]: 0.095 "
       ]
      },
      {
       "output_type": "stream",
       "stream": "stderr",
       "text": [
        "\r",
        "[ 57 %] elapsed[sec]: 0.124 | ETA[sec]: 0.093 "
       ]
      },
      {
       "output_type": "stream",
       "stream": "stderr",
       "text": [
        "\r",
        "[ 57 %] elapsed[sec]: 0.126 | ETA[sec]: 0.092 "
       ]
      },
      {
       "output_type": "stream",
       "stream": "stderr",
       "text": [
        "\r",
        "[ 58 %] elapsed[sec]: 0.127 | ETA[sec]: 0.090 "
       ]
      },
      {
       "output_type": "stream",
       "stream": "stderr",
       "text": [
        "\r",
        "[ 59 %] elapsed[sec]: 0.129 | ETA[sec]: 0.088 "
       ]
      },
      {
       "output_type": "stream",
       "stream": "stderr",
       "text": [
        "\r",
        "[ 60 %] elapsed[sec]: 0.131 | ETA[sec]: 0.086 "
       ]
      },
      {
       "output_type": "stream",
       "stream": "stderr",
       "text": [
        "\r",
        "[ 60 %] elapsed[sec]: 0.132 | ETA[sec]: 0.085 "
       ]
      },
      {
       "output_type": "stream",
       "stream": "stderr",
       "text": [
        "\r",
        "[ 61 %] elapsed[sec]: 0.134 | ETA[sec]: 0.083 "
       ]
      },
      {
       "output_type": "stream",
       "stream": "stderr",
       "text": [
        "\r",
        "[ 62 %] elapsed[sec]: 0.135 | ETA[sec]: 0.081 "
       ]
      },
      {
       "output_type": "stream",
       "stream": "stderr",
       "text": [
        "\r",
        "[ 63 %] elapsed[sec]: 0.137 | ETA[sec]: 0.080 "
       ]
      },
      {
       "output_type": "stream",
       "stream": "stderr",
       "text": [
        "\r",
        "[ 64 %] elapsed[sec]: 0.139 | ETA[sec]: 0.078 "
       ]
      },
      {
       "output_type": "stream",
       "stream": "stderr",
       "text": [
        "\r",
        "[ 64 %] elapsed[sec]: 0.140 | ETA[sec]: 0.076 "
       ]
      },
      {
       "output_type": "stream",
       "stream": "stderr",
       "text": [
        "\r",
        "[ 65 %] elapsed[sec]: 0.142 | ETA[sec]: 0.074 "
       ]
      },
      {
       "output_type": "stream",
       "stream": "stderr",
       "text": [
        "\r",
        "[ 66 %] elapsed[sec]: 0.144 | ETA[sec]: 0.073 "
       ]
      },
      {
       "output_type": "stream",
       "stream": "stderr",
       "text": [
        "\r",
        "[ 67 %] elapsed[sec]: 0.145 | ETA[sec]: 0.071 "
       ]
      },
      {
       "output_type": "stream",
       "stream": "stderr",
       "text": [
        "\r",
        "[ 67 %] elapsed[sec]: 0.148 | ETA[sec]: 0.070 "
       ]
      },
      {
       "output_type": "stream",
       "stream": "stderr",
       "text": [
        "\r",
        "[ 68 %] elapsed[sec]: 0.149 | ETA[sec]: 0.068 "
       ]
      },
      {
       "output_type": "stream",
       "stream": "stderr",
       "text": [
        "\r",
        "[ 69 %] elapsed[sec]: 0.151 | ETA[sec]: 0.066 "
       ]
      },
      {
       "output_type": "stream",
       "stream": "stderr",
       "text": [
        "\r",
        "[ 70 %] elapsed[sec]: 0.153 | ETA[sec]: 0.064 "
       ]
      },
      {
       "output_type": "stream",
       "stream": "stderr",
       "text": [
        "\r",
        "[ 71 %] elapsed[sec]: 0.154 | ETA[sec]: 0.063 "
       ]
      },
      {
       "output_type": "stream",
       "stream": "stderr",
       "text": [
        "\r",
        "[ 71 %] elapsed[sec]: 0.155 | ETA[sec]: 0.061 "
       ]
      },
      {
       "output_type": "stream",
       "stream": "stderr",
       "text": [
        "\r",
        "[ 72 %] elapsed[sec]: 0.158 | ETA[sec]: 0.059 "
       ]
      },
      {
       "output_type": "stream",
       "stream": "stderr",
       "text": [
        "\r",
        "[ 73 %] elapsed[sec]: 0.160 | ETA[sec]: 0.058 "
       ]
      },
      {
       "output_type": "stream",
       "stream": "stderr",
       "text": [
        "\r",
        "[ 74 %] elapsed[sec]: 0.161 | ETA[sec]: 0.056 "
       ]
      },
      {
       "output_type": "stream",
       "stream": "stderr",
       "text": [
        "\r",
        "[ 75 %] elapsed[sec]: 0.163 | ETA[sec]: 0.054 "
       ]
      },
      {
       "output_type": "stream",
       "stream": "stderr",
       "text": [
        "\r",
        "[ 75 %] elapsed[sec]: 0.164 | ETA[sec]: 0.052 "
       ]
      },
      {
       "output_type": "stream",
       "stream": "stderr",
       "text": [
        "\r",
        "[ 76 %] elapsed[sec]: 0.166 | ETA[sec]: 0.051 "
       ]
      },
      {
       "output_type": "stream",
       "stream": "stderr",
       "text": [
        "\r",
        "[ 77 %] elapsed[sec]: 0.167 | ETA[sec]: 0.049 "
       ]
      },
      {
       "output_type": "stream",
       "stream": "stderr",
       "text": [
        "\r",
        "[ 78 %] elapsed[sec]: 0.169 | ETA[sec]: 0.047 "
       ]
      },
      {
       "output_type": "stream",
       "stream": "stderr",
       "text": [
        "\r",
        "[ 78 %] elapsed[sec]: 0.171 | ETA[sec]: 0.046 "
       ]
      },
      {
       "output_type": "stream",
       "stream": "stderr",
       "text": [
        "\r",
        "[ 79 %] elapsed[sec]: 0.172 | ETA[sec]: 0.044 "
       ]
      },
      {
       "output_type": "stream",
       "stream": "stderr",
       "text": [
        "\r",
        "[ 80 %] elapsed[sec]: 0.175 | ETA[sec]: 0.042 "
       ]
      },
      {
       "output_type": "stream",
       "stream": "stderr",
       "text": [
        "\r",
        "[ 81 %] elapsed[sec]: 0.177 | ETA[sec]: 0.041 "
       ]
      },
      {
       "output_type": "stream",
       "stream": "stderr",
       "text": [
        "\r",
        "[ 82 %] elapsed[sec]: 0.180 | ETA[sec]: 0.039 "
       ]
      },
      {
       "output_type": "stream",
       "stream": "stderr",
       "text": [
        "\r",
        "[ 82 %] elapsed[sec]: 0.181 | ETA[sec]: 0.038 "
       ]
      },
      {
       "output_type": "stream",
       "stream": "stderr",
       "text": [
        "\r",
        "[ 83 %] elapsed[sec]: 0.183 | ETA[sec]: 0.036 "
       ]
      },
      {
       "output_type": "stream",
       "stream": "stderr",
       "text": [
        "\r",
        "[ 84 %] elapsed[sec]: 0.184 | ETA[sec]: 0.034 "
       ]
      },
      {
       "output_type": "stream",
       "stream": "stderr",
       "text": [
        "\r",
        "[ 85 %] elapsed[sec]: 0.186 | ETA[sec]: 0.032 "
       ]
      },
      {
       "output_type": "stream",
       "stream": "stderr",
       "text": [
        "\r",
        "[ 85 %] elapsed[sec]: 0.188 | ETA[sec]: 0.031 "
       ]
      },
      {
       "output_type": "stream",
       "stream": "stderr",
       "text": [
        "\r",
        "[ 86 %] elapsed[sec]: 0.190 | ETA[sec]: 0.029 "
       ]
      },
      {
       "output_type": "stream",
       "stream": "stderr",
       "text": [
        "\r",
        "[ 87 %] elapsed[sec]: 0.192 | ETA[sec]: 0.027 "
       ]
      },
      {
       "output_type": "stream",
       "stream": "stderr",
       "text": [
        "\r",
        "[ 88 %] elapsed[sec]: 0.194 | ETA[sec]: 0.026 "
       ]
      },
      {
       "output_type": "stream",
       "stream": "stderr",
       "text": [
        "\r",
        "[ 89 %] elapsed[sec]: 0.195 | ETA[sec]: 0.024 "
       ]
      },
      {
       "output_type": "stream",
       "stream": "stderr",
       "text": [
        "\r",
        "[ 89 %] elapsed[sec]: 0.197 | ETA[sec]: 0.022 "
       ]
      },
      {
       "output_type": "stream",
       "stream": "stderr",
       "text": [
        "\r",
        "[ 90 %] elapsed[sec]: 0.199 | ETA[sec]: 0.021 "
       ]
      },
      {
       "output_type": "stream",
       "stream": "stderr",
       "text": [
        "\r",
        "[ 91 %] elapsed[sec]: 0.201 | ETA[sec]: 0.019 "
       ]
      },
      {
       "output_type": "stream",
       "stream": "stderr",
       "text": [
        "\r",
        "[ 92 %] elapsed[sec]: 0.202 | ETA[sec]: 0.017 "
       ]
      },
      {
       "output_type": "stream",
       "stream": "stderr",
       "text": [
        "\r",
        "[ 92 %] elapsed[sec]: 0.204 | ETA[sec]: 0.015 "
       ]
      },
      {
       "output_type": "stream",
       "stream": "stderr",
       "text": [
        "\r",
        "[ 93 %] elapsed[sec]: 0.207 | ETA[sec]: 0.014 "
       ]
      },
      {
       "output_type": "stream",
       "stream": "stderr",
       "text": [
        "\r",
        "[ 94 %] elapsed[sec]: 0.209 | ETA[sec]: 0.012 "
       ]
      },
      {
       "output_type": "stream",
       "stream": "stderr",
       "text": [
        "\r",
        "[ 95 %] elapsed[sec]: 0.212 | ETA[sec]: 0.010 "
       ]
      },
      {
       "output_type": "stream",
       "stream": "stderr",
       "text": [
        "\r",
        "[ 96 %] elapsed[sec]: 0.213 | ETA[sec]: 0.009 "
       ]
      },
      {
       "output_type": "stream",
       "stream": "stderr",
       "text": [
        "\r",
        "[ 96 %] elapsed[sec]: 0.215 | ETA[sec]: 0.007 "
       ]
      },
      {
       "output_type": "stream",
       "stream": "stderr",
       "text": [
        "\r",
        "[ 97 %] elapsed[sec]: 0.217 | ETA[sec]: 0.005 "
       ]
      },
      {
       "output_type": "stream",
       "stream": "stderr",
       "text": [
        "\r",
        "[ 98 %] elapsed[sec]: 0.218 | ETA[sec]: 0.003 "
       ]
      },
      {
       "output_type": "stream",
       "stream": "stderr",
       "text": [
        "\r",
        "[ 99 %] elapsed[sec]: 0.220 | ETA[sec]: 0.002 "
       ]
      },
      {
       "output_type": "stream",
       "stream": "stderr",
       "text": [
        "\r",
        "[100 %] elapsed[sec]: 0.221"
       ]
      },
      {
       "output_type": "stream",
       "stream": "stdout",
       "text": [
        "\n",
        "Title: \n",
        "                      Started: 09/24/2014 16:10:09\n",
        "                      Finished: 09/24/2014 16:10:09\n",
        "                      Total time elapsed: 0.222 sec\n",
        "                      CPU %: 102.800000\n",
        "                      Memory %: 3.384995"
       ]
      },
      {
       "output_type": "stream",
       "stream": "stderr",
       "text": [
        "\n",
        "Total time elapsed: 0.222 sec\n",
        "\r",
        "[  0 %]"
       ]
      },
      {
       "output_type": "stream",
       "stream": "stderr",
       "text": [
        " elapsed[sec]: 0.001"
       ]
      },
      {
       "output_type": "stream",
       "stream": "stdout",
       "text": [
        "\n",
        "Saving sequence results/color-energy_contrast-1_0.webm"
       ]
      },
      {
       "output_type": "stream",
       "stream": "stderr",
       "text": [
        "\r",
        "[  0 %] elapsed[sec]: 0.002 | ETA[sec]: 0.200 "
       ]
      },
      {
       "output_type": "stream",
       "stream": "stderr",
       "text": [
        "\r",
        "[  1 %] elapsed[sec]: 0.004 | ETA[sec]: 0.278 "
       ]
      },
      {
       "output_type": "stream",
       "stream": "stderr",
       "text": [
        "\r",
        "[  2 %] elapsed[sec]: 0.007 | ETA[sec]: 0.305 "
       ]
      },
      {
       "output_type": "stream",
       "stream": "stderr",
       "text": [
        "\r",
        "[  3 %] elapsed[sec]: 0.010 | ETA[sec]: 0.319 "
       ]
      },
      {
       "output_type": "stream",
       "stream": "stderr",
       "text": [
        "\r",
        "[  3 %] elapsed[sec]: 0.013 | ETA[sec]: 0.310 "
       ]
      },
      {
       "output_type": "stream",
       "stream": "stderr",
       "text": [
        "\r",
        "[  4 %] elapsed[sec]: 0.015 | ETA[sec]: 0.297 "
       ]
      },
      {
       "output_type": "stream",
       "stream": "stderr",
       "text": [
        "\r",
        "[  5 %] elapsed[sec]: 0.017 | ETA[sec]: 0.301 "
       ]
      },
      {
       "output_type": "stream",
       "stream": "stderr",
       "text": [
        "\r",
        "[  6 %] elapsed[sec]: 0.020 | ETA[sec]: 0.295 "
       ]
      },
      {
       "output_type": "stream",
       "stream": "stderr",
       "text": [
        "\r",
        "[  7 %] elapsed[sec]: 0.022 | ETA[sec]: 0.287 "
       ]
      },
      {
       "output_type": "stream",
       "stream": "stderr",
       "text": [
        "\r",
        "[  7 %] elapsed[sec]: 0.024 | ETA[sec]: 0.282 "
       ]
      },
      {
       "output_type": "stream",
       "stream": "stderr",
       "text": [
        "\r",
        "[  8 %] elapsed[sec]: 0.026 | ETA[sec]: 0.276 "
       ]
      },
      {
       "output_type": "stream",
       "stream": "stderr",
       "text": [
        "\r",
        "[  9 %] elapsed[sec]: 0.028 | ETA[sec]: 0.273 "
       ]
      },
      {
       "output_type": "stream",
       "stream": "stderr",
       "text": [
        "\r",
        "[ 10 %] elapsed[sec]: 0.030 | ETA[sec]: 0.267 "
       ]
      },
      {
       "output_type": "stream",
       "stream": "stderr",
       "text": [
        "\r",
        "[ 10 %] elapsed[sec]: 0.032 | ETA[sec]: 0.261 "
       ]
      },
      {
       "output_type": "stream",
       "stream": "stderr",
       "text": [
        "\r",
        "[ 11 %] elapsed[sec]: 0.034 | ETA[sec]: 0.254 "
       ]
      },
      {
       "output_type": "stream",
       "stream": "stderr",
       "text": [
        "\r",
        "[ 12 %] elapsed[sec]: 0.036 | ETA[sec]: 0.251 "
       ]
      },
      {
       "output_type": "stream",
       "stream": "stderr",
       "text": [
        "\r",
        "[ 13 %] elapsed[sec]: 0.038 | ETA[sec]: 0.245 "
       ]
      },
      {
       "output_type": "stream",
       "stream": "stderr",
       "text": [
        "\r",
        "[ 14 %] elapsed[sec]: 0.039 | ETA[sec]: 0.239 "
       ]
      },
      {
       "output_type": "stream",
       "stream": "stderr",
       "text": [
        "\r",
        "[ 14 %] elapsed[sec]: 0.041 | ETA[sec]: 0.233 "
       ]
      },
      {
       "output_type": "stream",
       "stream": "stderr",
       "text": [
        "\r",
        "[ 15 %] elapsed[sec]: 0.042 | ETA[sec]: 0.228 "
       ]
      },
      {
       "output_type": "stream",
       "stream": "stderr",
       "text": [
        "\r",
        "[ 16 %] elapsed[sec]: 0.044 | ETA[sec]: 0.224 "
       ]
      },
      {
       "output_type": "stream",
       "stream": "stderr",
       "text": [
        "\r",
        "[ 17 %] elapsed[sec]: 0.046 | ETA[sec]: 0.220 "
       ]
      },
      {
       "output_type": "stream",
       "stream": "stderr",
       "text": [
        "\r",
        "[ 17 %] elapsed[sec]: 0.048 | ETA[sec]: 0.218 "
       ]
      },
      {
       "output_type": "stream",
       "stream": "stderr",
       "text": [
        "\r",
        "[ 18 %] elapsed[sec]: 0.050 | ETA[sec]: 0.217 "
       ]
      },
      {
       "output_type": "stream",
       "stream": "stderr",
       "text": [
        "\r",
        "[ 19 %] elapsed[sec]: 0.052 | ETA[sec]: 0.214 "
       ]
      },
      {
       "output_type": "stream",
       "stream": "stderr",
       "text": [
        "\r",
        "[ 20 %] elapsed[sec]: 0.053 | ETA[sec]: 0.210 "
       ]
      },
      {
       "output_type": "stream",
       "stream": "stderr",
       "text": [
        "\r",
        "[ 21 %] elapsed[sec]: 0.055 | ETA[sec]: 0.207 "
       ]
      },
      {
       "output_type": "stream",
       "stream": "stderr",
       "text": [
        "\r",
        "[ 21 %] elapsed[sec]: 0.057 | ETA[sec]: 0.204 "
       ]
      },
      {
       "output_type": "stream",
       "stream": "stderr",
       "text": [
        "\r",
        "[ 22 %] elapsed[sec]: 0.059 | ETA[sec]: 0.202 "
       ]
      },
      {
       "output_type": "stream",
       "stream": "stderr",
       "text": [
        "\r",
        "[ 23 %] elapsed[sec]: 0.061 | ETA[sec]: 0.199 "
       ]
      },
      {
       "output_type": "stream",
       "stream": "stderr",
       "text": [
        "\r",
        "[ 24 %] elapsed[sec]: 0.063 | ETA[sec]: 0.196 "
       ]
      },
      {
       "output_type": "stream",
       "stream": "stderr",
       "text": [
        "\r",
        "[ 25 %] elapsed[sec]: 0.064 | ETA[sec]: 0.193 "
       ]
      },
      {
       "output_type": "stream",
       "stream": "stderr",
       "text": [
        "\r",
        "[ 25 %] elapsed[sec]: 0.067 | ETA[sec]: 0.192 "
       ]
      },
      {
       "output_type": "stream",
       "stream": "stderr",
       "text": [
        "\r",
        "[ 26 %] elapsed[sec]: 0.069 | ETA[sec]: 0.192 "
       ]
      },
      {
       "output_type": "stream",
       "stream": "stderr",
       "text": [
        "\r",
        "[ 27 %] elapsed[sec]: 0.072 | ETA[sec]: 0.191 "
       ]
      },
      {
       "output_type": "stream",
       "stream": "stderr",
       "text": [
        "\r",
        "[ 28 %] elapsed[sec]: 0.075 | ETA[sec]: 0.191 "
       ]
      },
      {
       "output_type": "stream",
       "stream": "stderr",
       "text": [
        "\r",
        "[ 28 %] elapsed[sec]: 0.077 | ETA[sec]: 0.189 "
       ]
      },
      {
       "output_type": "stream",
       "stream": "stderr",
       "text": [
        "\r",
        "[ 29 %] elapsed[sec]: 0.079 | ETA[sec]: 0.186 "
       ]
      },
      {
       "output_type": "stream",
       "stream": "stderr",
       "text": [
        "\r",
        "[ 30 %] elapsed[sec]: 0.080 | ETA[sec]: 0.184 "
       ]
      },
      {
       "output_type": "stream",
       "stream": "stderr",
       "text": [
        "\r",
        "[ 31 %] elapsed[sec]: 0.083 | ETA[sec]: 0.182 "
       ]
      },
      {
       "output_type": "stream",
       "stream": "stderr",
       "text": [
        "\r",
        "[ 32 %] elapsed[sec]: 0.085 | ETA[sec]: 0.180 "
       ]
      },
      {
       "output_type": "stream",
       "stream": "stderr",
       "text": [
        "\r",
        "[ 32 %] elapsed[sec]: 0.087 | ETA[sec]: 0.178 "
       ]
      },
      {
       "output_type": "stream",
       "stream": "stderr",
       "text": [
        "\r",
        "[ 33 %] elapsed[sec]: 0.089 | ETA[sec]: 0.176 "
       ]
      },
      {
       "output_type": "stream",
       "stream": "stderr",
       "text": [
        "\r",
        "[ 34 %] elapsed[sec]: 0.091 | ETA[sec]: 0.174 "
       ]
      },
      {
       "output_type": "stream",
       "stream": "stderr",
       "text": [
        "\r",
        "[ 35 %] elapsed[sec]: 0.094 | ETA[sec]: 0.172 "
       ]
      },
      {
       "output_type": "stream",
       "stream": "stderr",
       "text": [
        "\r",
        "[ 35 %] elapsed[sec]: 0.096 | ETA[sec]: 0.170 "
       ]
      },
      {
       "output_type": "stream",
       "stream": "stderr",
       "text": [
        "\r",
        "[ 36 %] elapsed[sec]: 0.098 | ETA[sec]: 0.169 "
       ]
      },
      {
       "output_type": "stream",
       "stream": "stderr",
       "text": [
        "\r",
        "[ 37 %] elapsed[sec]: 0.100 | ETA[sec]: 0.167 "
       ]
      },
      {
       "output_type": "stream",
       "stream": "stderr",
       "text": [
        "\r",
        "[ 38 %] elapsed[sec]: 0.102 | ETA[sec]: 0.165 "
       ]
      },
      {
       "output_type": "stream",
       "stream": "stderr",
       "text": [
        "\r",
        "[ 39 %] elapsed[sec]: 0.104 | ETA[sec]: 0.163 "
       ]
      },
      {
       "output_type": "stream",
       "stream": "stderr",
       "text": [
        "\r",
        "[ 39 %] elapsed[sec]: 0.106 | ETA[sec]: 0.161 "
       ]
      },
      {
       "output_type": "stream",
       "stream": "stderr",
       "text": [
        "\r",
        "[ 40 %] elapsed[sec]: 0.109 | ETA[sec]: 0.159 "
       ]
      },
      {
       "output_type": "stream",
       "stream": "stderr",
       "text": [
        "\r",
        "[ 41 %] elapsed[sec]: 0.111 | ETA[sec]: 0.157 "
       ]
      },
      {
       "output_type": "stream",
       "stream": "stderr",
       "text": [
        "\r",
        "[ 42 %] elapsed[sec]: 0.113 | ETA[sec]: 0.155 "
       ]
      },
      {
       "output_type": "stream",
       "stream": "stderr",
       "text": [
        "\r",
        "[ 42 %] elapsed[sec]: 0.115 | ETA[sec]: 0.153 "
       ]
      },
      {
       "output_type": "stream",
       "stream": "stderr",
       "text": [
        "\r",
        "[ 43 %] elapsed[sec]: 0.117 | ETA[sec]: 0.151 "
       ]
      },
      {
       "output_type": "stream",
       "stream": "stderr",
       "text": [
        "\r",
        "[ 44 %] elapsed[sec]: 0.119 | ETA[sec]: 0.149 "
       ]
      },
      {
       "output_type": "stream",
       "stream": "stderr",
       "text": [
        "\r",
        "[ 45 %] elapsed[sec]: 0.121 | ETA[sec]: 0.146 "
       ]
      },
      {
       "output_type": "stream",
       "stream": "stderr",
       "text": [
        "\r",
        "[ 46 %] elapsed[sec]: 0.123 | ETA[sec]: 0.144 "
       ]
      },
      {
       "output_type": "stream",
       "stream": "stderr",
       "text": [
        "\r",
        "[ 46 %] elapsed[sec]: 0.125 | ETA[sec]: 0.142 "
       ]
      },
      {
       "output_type": "stream",
       "stream": "stderr",
       "text": [
        "\r",
        "[ 47 %] elapsed[sec]: 0.127 | ETA[sec]: 0.139 "
       ]
      },
      {
       "output_type": "stream",
       "stream": "stderr",
       "text": [
        "\r",
        "[ 48 %] elapsed[sec]: 0.129 | ETA[sec]: 0.137 "
       ]
      },
      {
       "output_type": "stream",
       "stream": "stderr",
       "text": [
        "\r",
        "[ 49 %] elapsed[sec]: 0.130 | ETA[sec]: 0.135 "
       ]
      },
      {
       "output_type": "stream",
       "stream": "stderr",
       "text": [
        "\r",
        "[ 50 %] elapsed[sec]: 0.132 | ETA[sec]: 0.132 "
       ]
      },
      {
       "output_type": "stream",
       "stream": "stderr",
       "text": [
        "\r",
        "[ 50 %] elapsed[sec]: 0.134 | ETA[sec]: 0.130 "
       ]
      },
      {
       "output_type": "stream",
       "stream": "stderr",
       "text": [
        "\r",
        "[ 51 %] elapsed[sec]: 0.136 | ETA[sec]: 0.127 "
       ]
      },
      {
       "output_type": "stream",
       "stream": "stderr",
       "text": [
        "\r",
        "[ 52 %] elapsed[sec]: 0.138 | ETA[sec]: 0.125 "
       ]
      },
      {
       "output_type": "stream",
       "stream": "stderr",
       "text": [
        "\r",
        "[ 53 %] elapsed[sec]: 0.139 | ETA[sec]: 0.123 "
       ]
      },
      {
       "output_type": "stream",
       "stream": "stderr",
       "text": [
        "\r",
        "[ 53 %] elapsed[sec]: 0.141 | ETA[sec]: 0.121 "
       ]
      },
      {
       "output_type": "stream",
       "stream": "stderr",
       "text": [
        "\r",
        "[ 54 %] elapsed[sec]: 0.143 | ETA[sec]: 0.118 "
       ]
      },
      {
       "output_type": "stream",
       "stream": "stderr",
       "text": [
        "\r",
        "[ 55 %] elapsed[sec]: 0.144 | ETA[sec]: 0.116 "
       ]
      },
      {
       "output_type": "stream",
       "stream": "stderr",
       "text": [
        "\r",
        "[ 56 %] elapsed[sec]: 0.146 | ETA[sec]: 0.114 "
       ]
      },
      {
       "output_type": "stream",
       "stream": "stderr",
       "text": [
        "\r",
        "[ 57 %] elapsed[sec]: 0.148 | ETA[sec]: 0.111 "
       ]
      },
      {
       "output_type": "stream",
       "stream": "stderr",
       "text": [
        "\r",
        "[ 57 %] elapsed[sec]: 0.149 | ETA[sec]: 0.109 "
       ]
      },
      {
       "output_type": "stream",
       "stream": "stderr",
       "text": [
        "\r",
        "[ 58 %] elapsed[sec]: 0.151 | ETA[sec]: 0.107 "
       ]
      },
      {
       "output_type": "stream",
       "stream": "stderr",
       "text": [
        "\r",
        "[ 59 %] elapsed[sec]: 0.153 | ETA[sec]: 0.105 "
       ]
      },
      {
       "output_type": "stream",
       "stream": "stderr",
       "text": [
        "\r",
        "[ 60 %] elapsed[sec]: 0.155 | ETA[sec]: 0.103 "
       ]
      },
      {
       "output_type": "stream",
       "stream": "stderr",
       "text": [
        "\r",
        "[ 60 %] elapsed[sec]: 0.158 | ETA[sec]: 0.101 "
       ]
      },
      {
       "output_type": "stream",
       "stream": "stderr",
       "text": [
        "\r",
        "[ 61 %] elapsed[sec]: 0.160 | ETA[sec]: 0.099 "
       ]
      },
      {
       "output_type": "stream",
       "stream": "stderr",
       "text": [
        "\r",
        "[ 62 %] elapsed[sec]: 0.163 | ETA[sec]: 0.098 "
       ]
      },
      {
       "output_type": "stream",
       "stream": "stderr",
       "text": [
        "\r",
        "[ 63 %] elapsed[sec]: 0.165 | ETA[sec]: 0.096 "
       ]
      },
      {
       "output_type": "stream",
       "stream": "stderr",
       "text": [
        "\r",
        "[ 64 %] elapsed[sec]: 0.166 | ETA[sec]: 0.093 "
       ]
      },
      {
       "output_type": "stream",
       "stream": "stderr",
       "text": [
        "\r",
        "[ 64 %] elapsed[sec]: 0.168 | ETA[sec]: 0.091 "
       ]
      },
      {
       "output_type": "stream",
       "stream": "stderr",
       "text": [
        "\r",
        "[ 65 %] elapsed[sec]: 0.171 | ETA[sec]: 0.089 "
       ]
      },
      {
       "output_type": "stream",
       "stream": "stderr",
       "text": [
        "\r",
        "[ 66 %] elapsed[sec]: 0.173 | ETA[sec]: 0.088 "
       ]
      },
      {
       "output_type": "stream",
       "stream": "stderr",
       "text": [
        "\r",
        "[ 67 %] elapsed[sec]: 0.176 | ETA[sec]: 0.086 "
       ]
      },
      {
       "output_type": "stream",
       "stream": "stderr",
       "text": [
        "\r",
        "[ 67 %] elapsed[sec]: 0.178 | ETA[sec]: 0.084 "
       ]
      },
      {
       "output_type": "stream",
       "stream": "stderr",
       "text": [
        "\r",
        "[ 68 %] elapsed[sec]: 0.181 | ETA[sec]: 0.082 "
       ]
      },
      {
       "output_type": "stream",
       "stream": "stderr",
       "text": [
        "\r",
        "[ 69 %] elapsed[sec]: 0.183 | ETA[sec]: 0.080 "
       ]
      },
      {
       "output_type": "stream",
       "stream": "stderr",
       "text": [
        "\r",
        "[ 70 %] elapsed[sec]: 0.186 | ETA[sec]: 0.078 "
       ]
      },
      {
       "output_type": "stream",
       "stream": "stderr",
       "text": [
        "\r",
        "[ 71 %] elapsed[sec]: 0.188 | ETA[sec]: 0.076 "
       ]
      },
      {
       "output_type": "stream",
       "stream": "stderr",
       "text": [
        "\r",
        "[ 71 %] elapsed[sec]: 0.190 | ETA[sec]: 0.074 "
       ]
      },
      {
       "output_type": "stream",
       "stream": "stderr",
       "text": [
        "\r",
        "[ 72 %] elapsed[sec]: 0.191 | ETA[sec]: 0.072 "
       ]
      },
      {
       "output_type": "stream",
       "stream": "stderr",
       "text": [
        "\r",
        "[ 73 %] elapsed[sec]: 0.194 | ETA[sec]: 0.070 "
       ]
      },
      {
       "output_type": "stream",
       "stream": "stderr",
       "text": [
        "\r",
        "[ 74 %] elapsed[sec]: 0.196 | ETA[sec]: 0.068 "
       ]
      },
      {
       "output_type": "stream",
       "stream": "stderr",
       "text": [
        "\r",
        "[ 75 %] elapsed[sec]: 0.199 | ETA[sec]: 0.066 "
       ]
      },
      {
       "output_type": "stream",
       "stream": "stderr",
       "text": [
        "\r",
        "[ 75 %] elapsed[sec]: 0.201 | ETA[sec]: 0.064 "
       ]
      },
      {
       "output_type": "stream",
       "stream": "stderr",
       "text": [
        "\r",
        "[ 76 %] elapsed[sec]: 0.204 | ETA[sec]: 0.062 "
       ]
      },
      {
       "output_type": "stream",
       "stream": "stderr",
       "text": [
        "\r",
        "[ 77 %] elapsed[sec]: 0.207 | ETA[sec]: 0.060 "
       ]
      },
      {
       "output_type": "stream",
       "stream": "stderr",
       "text": [
        "\r",
        "[ 78 %] elapsed[sec]: 0.208 | ETA[sec]: 0.058 "
       ]
      },
      {
       "output_type": "stream",
       "stream": "stderr",
       "text": [
        "\r",
        "[ 78 %] elapsed[sec]: 0.210 | ETA[sec]: 0.056 "
       ]
      },
      {
       "output_type": "stream",
       "stream": "stderr",
       "text": [
        "\r",
        "[ 79 %] elapsed[sec]: 0.212 | ETA[sec]: 0.054 "
       ]
      },
      {
       "output_type": "stream",
       "stream": "stderr",
       "text": [
        "\r",
        "[ 80 %] elapsed[sec]: 0.213 | ETA[sec]: 0.052 "
       ]
      },
      {
       "output_type": "stream",
       "stream": "stderr",
       "text": [
        "\r",
        "[ 81 %] elapsed[sec]: 0.215 | ETA[sec]: 0.050 "
       ]
      },
      {
       "output_type": "stream",
       "stream": "stderr",
       "text": [
        "\r",
        "[ 82 %] elapsed[sec]: 0.217 | ETA[sec]: 0.048 "
       ]
      },
      {
       "output_type": "stream",
       "stream": "stderr",
       "text": [
        "\r",
        "[ 82 %] elapsed[sec]: 0.219 | ETA[sec]: 0.046 "
       ]
      },
      {
       "output_type": "stream",
       "stream": "stderr",
       "text": [
        "\r",
        "[ 83 %] elapsed[sec]: 0.221 | ETA[sec]: 0.043 "
       ]
      },
      {
       "output_type": "stream",
       "stream": "stderr",
       "text": [
        "\r",
        "[ 84 %] elapsed[sec]: 0.223 | ETA[sec]: 0.041 "
       ]
      },
      {
       "output_type": "stream",
       "stream": "stderr",
       "text": [
        "\r",
        "[ 85 %] elapsed[sec]: 0.226 | ETA[sec]: 0.039 "
       ]
      },
      {
       "output_type": "stream",
       "stream": "stderr",
       "text": [
        "\r",
        "[ 85 %] elapsed[sec]: 0.228 | ETA[sec]: 0.037 "
       ]
      },
      {
       "output_type": "stream",
       "stream": "stderr",
       "text": [
        "\r",
        "[ 86 %] elapsed[sec]: 0.230 | ETA[sec]: 0.035 "
       ]
      },
      {
       "output_type": "stream",
       "stream": "stderr",
       "text": [
        "\r",
        "[ 87 %] elapsed[sec]: 0.231 | ETA[sec]: 0.033 "
       ]
      },
      {
       "output_type": "stream",
       "stream": "stderr",
       "text": [
        "\r",
        "[ 88 %] elapsed[sec]: 0.234 | ETA[sec]: 0.031 "
       ]
      },
      {
       "output_type": "stream",
       "stream": "stderr",
       "text": [
        "\r",
        "[ 89 %] elapsed[sec]: 0.236 | ETA[sec]: 0.029 "
       ]
      },
      {
       "output_type": "stream",
       "stream": "stderr",
       "text": [
        "\r",
        "[ 89 %] elapsed[sec]: 0.238 | ETA[sec]: 0.027 "
       ]
      },
      {
       "output_type": "stream",
       "stream": "stderr",
       "text": [
        "\r",
        "[ 90 %] elapsed[sec]: 0.240 | ETA[sec]: 0.025 "
       ]
      },
      {
       "output_type": "stream",
       "stream": "stderr",
       "text": [
        "\r",
        "[ 91 %] elapsed[sec]: 0.242 | ETA[sec]: 0.023 "
       ]
      },
      {
       "output_type": "stream",
       "stream": "stderr",
       "text": [
        "\r",
        "[ 92 %] elapsed[sec]: 0.244 | ETA[sec]: 0.021 "
       ]
      },
      {
       "output_type": "stream",
       "stream": "stderr",
       "text": [
        "\r",
        "[ 92 %] elapsed[sec]: 0.246 | ETA[sec]: 0.019 "
       ]
      },
      {
       "output_type": "stream",
       "stream": "stderr",
       "text": [
        "\r",
        "[ 93 %] elapsed[sec]: 0.249 | ETA[sec]: 0.017 "
       ]
      },
      {
       "output_type": "stream",
       "stream": "stderr",
       "text": [
        "\r",
        "[ 94 %] elapsed[sec]: 0.251 | ETA[sec]: 0.014 "
       ]
      },
      {
       "output_type": "stream",
       "stream": "stderr",
       "text": [
        "\r",
        "[ 95 %] elapsed[sec]: 0.252 | ETA[sec]: 0.012 "
       ]
      },
      {
       "output_type": "stream",
       "stream": "stderr",
       "text": [
        "\r",
        "[ 96 %] elapsed[sec]: 0.254 | ETA[sec]: 0.010 "
       ]
      },
      {
       "output_type": "stream",
       "stream": "stderr",
       "text": [
        "\r",
        "[ 96 %] elapsed[sec]: 0.256 | ETA[sec]: 0.008 "
       ]
      },
      {
       "output_type": "stream",
       "stream": "stderr",
       "text": [
        "\r",
        "[ 97 %] elapsed[sec]: 0.257 | ETA[sec]: 0.006 "
       ]
      },
      {
       "output_type": "stream",
       "stream": "stderr",
       "text": [
        "\r",
        "[ 98 %] elapsed[sec]: 0.259 | ETA[sec]: 0.004 "
       ]
      },
      {
       "output_type": "stream",
       "stream": "stderr",
       "text": [
        "\r",
        "[ 99 %] elapsed[sec]: 0.261 | ETA[sec]: 0.002 "
       ]
      },
      {
       "output_type": "stream",
       "stream": "stderr",
       "text": [
        "\r",
        "[100 %] elapsed[sec]: 0.263"
       ]
      },
      {
       "output_type": "stream",
       "stream": "stdout",
       "text": [
        "\n",
        "Title: \n",
        "                      Started: 09/24/2014 16:10:10\n",
        "                      Finished: 09/24/2014 16:10:10\n",
        "                      Total time elapsed: 0.263 sec\n",
        "                      CPU %: 102.300000\n",
        "                      Memory %: 3.384995"
       ]
      },
      {
       "output_type": "stream",
       "stream": "stderr",
       "text": [
        "\n",
        "Total time elapsed: 0.263 sec\n",
        "\r",
        "[  0 %]"
       ]
      },
      {
       "output_type": "stream",
       "stream": "stderr",
       "text": [
        " elapsed[sec]: 0.000"
       ]
      },
      {
       "output_type": "stream",
       "stream": "stdout",
       "text": [
        "\n",
        "Saving sequence results/color-energy_contrast-2_0.webm"
       ]
      },
      {
       "output_type": "stream",
       "stream": "stderr",
       "text": [
        "\r",
        "[  0 %] elapsed[sec]: 0.001"
       ]
      },
      {
       "output_type": "stream",
       "stream": "stderr",
       "text": [
        "\r",
        "[  1 %] elapsed[sec]: 0.004 | ETA[sec]: 0.263 "
       ]
      },
      {
       "output_type": "stream",
       "stream": "stderr",
       "text": [
        "\r",
        "[  2 %] elapsed[sec]: 0.008 | ETA[sec]: 0.325 "
       ]
      },
      {
       "output_type": "stream",
       "stream": "stderr",
       "text": [
        "\r",
        "[  3 %] elapsed[sec]: 0.011 | ETA[sec]: 0.356 "
       ]
      },
      {
       "output_type": "stream",
       "stream": "stderr",
       "text": [
        "\r",
        "[  3 %] elapsed[sec]: 0.015 | ETA[sec]: 0.364 "
       ]
      },
      {
       "output_type": "stream",
       "stream": "stderr",
       "text": [
        "\r",
        "[  4 %] elapsed[sec]: 0.017 | ETA[sec]: 0.356 "
       ]
      },
      {
       "output_type": "stream",
       "stream": "stderr",
       "text": [
        "\r",
        "[  5 %] elapsed[sec]: 0.020 | ETA[sec]: 0.347 "
       ]
      },
      {
       "output_type": "stream",
       "stream": "stderr",
       "text": [
        "\r",
        "[  6 %] elapsed[sec]: 0.022 | ETA[sec]: 0.337 "
       ]
      },
      {
       "output_type": "stream",
       "stream": "stderr",
       "text": [
        "\r",
        "[  7 %] elapsed[sec]: 0.025 | ETA[sec]: 0.328 "
       ]
      },
      {
       "output_type": "stream",
       "stream": "stderr",
       "text": [
        "\r",
        "[  7 %] elapsed[sec]: 0.027 | ETA[sec]: 0.321 "
       ]
      },
      {
       "output_type": "stream",
       "stream": "stderr",
       "text": [
        "\r",
        "[  8 %] elapsed[sec]: 0.030 | ETA[sec]: 0.315 "
       ]
      },
      {
       "output_type": "stream",
       "stream": "stderr",
       "text": [
        "\r",
        "[  9 %] elapsed[sec]: 0.032 | ETA[sec]: 0.309 "
       ]
      },
      {
       "output_type": "stream",
       "stream": "stderr",
       "text": [
        "\r",
        "[ 10 %] elapsed[sec]: 0.034 | ETA[sec]: 0.304 "
       ]
      },
      {
       "output_type": "stream",
       "stream": "stderr",
       "text": [
        "\r",
        "[ 10 %] elapsed[sec]: 0.037 | ETA[sec]: 0.298 "
       ]
      },
      {
       "output_type": "stream",
       "stream": "stderr",
       "text": [
        "\r",
        "[ 11 %] elapsed[sec]: 0.039 | ETA[sec]: 0.294 "
       ]
      },
      {
       "output_type": "stream",
       "stream": "stderr",
       "text": [
        "\r",
        "[ 12 %] elapsed[sec]: 0.041 | ETA[sec]: 0.290 "
       ]
      },
      {
       "output_type": "stream",
       "stream": "stderr",
       "text": [
        "\r",
        "[ 13 %] elapsed[sec]: 0.044 | ETA[sec]: 0.286 "
       ]
      },
      {
       "output_type": "stream",
       "stream": "stderr",
       "text": [
        "\r",
        "[ 14 %] elapsed[sec]: 0.046 | ETA[sec]: 0.281 "
       ]
      },
      {
       "output_type": "stream",
       "stream": "stderr",
       "text": [
        "\r",
        "[ 14 %] elapsed[sec]: 0.048 | ETA[sec]: 0.278 "
       ]
      },
      {
       "output_type": "stream",
       "stream": "stderr",
       "text": [
        "\r",
        "[ 15 %] elapsed[sec]: 0.051 | ETA[sec]: 0.277 "
       ]
      },
      {
       "output_type": "stream",
       "stream": "stderr",
       "text": [
        "\r",
        "[ 16 %] elapsed[sec]: 0.054 | ETA[sec]: 0.275 "
       ]
      },
      {
       "output_type": "stream",
       "stream": "stderr",
       "text": [
        "\r",
        "[ 17 %] elapsed[sec]: 0.056 | ETA[sec]: 0.271 "
       ]
      },
      {
       "output_type": "stream",
       "stream": "stderr",
       "text": [
        "\r",
        "[ 17 %] elapsed[sec]: 0.059 | ETA[sec]: 0.270 "
       ]
      },
      {
       "output_type": "stream",
       "stream": "stderr",
       "text": [
        "\r",
        "[ 18 %] elapsed[sec]: 0.063 | ETA[sec]: 0.271 "
       ]
      },
      {
       "output_type": "stream",
       "stream": "stderr",
       "text": [
        "\r",
        "[ 19 %] elapsed[sec]: 0.066 | ETA[sec]: 0.272 "
       ]
      },
      {
       "output_type": "stream",
       "stream": "stderr",
       "text": [
        "\r",
        "[ 20 %] elapsed[sec]: 0.069 | ETA[sec]: 0.272 "
       ]
      },
      {
       "output_type": "stream",
       "stream": "stderr",
       "text": [
        "\r",
        "[ 21 %] elapsed[sec]: 0.072 | ETA[sec]: 0.269 "
       ]
      },
      {
       "output_type": "stream",
       "stream": "stderr",
       "text": [
        "\r",
        "[ 21 %] elapsed[sec]: 0.074 | ETA[sec]: 0.266 "
       ]
      },
      {
       "output_type": "stream",
       "stream": "stderr",
       "text": [
        "\r",
        "[ 22 %] elapsed[sec]: 0.077 | ETA[sec]: 0.264 "
       ]
      },
      {
       "output_type": "stream",
       "stream": "stderr",
       "text": [
        "\r",
        "[ 23 %] elapsed[sec]: 0.080 | ETA[sec]: 0.262 "
       ]
      },
      {
       "output_type": "stream",
       "stream": "stderr",
       "text": [
        "\r",
        "[ 24 %] elapsed[sec]: 0.083 | ETA[sec]: 0.260 "
       ]
      },
      {
       "output_type": "stream",
       "stream": "stderr",
       "text": [
        "\r",
        "[ 25 %] elapsed[sec]: 0.086 | ETA[sec]: 0.258 "
       ]
      },
      {
       "output_type": "stream",
       "stream": "stderr",
       "text": [
        "\r",
        "[ 25 %] elapsed[sec]: 0.089 | ETA[sec]: 0.256 "
       ]
      },
      {
       "output_type": "stream",
       "stream": "stderr",
       "text": [
        "\r",
        "[ 26 %] elapsed[sec]: 0.092 | ETA[sec]: 0.253 "
       ]
      },
      {
       "output_type": "stream",
       "stream": "stderr",
       "text": [
        "\r",
        "[ 27 %] elapsed[sec]: 0.094 | ETA[sec]: 0.250 "
       ]
      },
      {
       "output_type": "stream",
       "stream": "stderr",
       "text": [
        "\r",
        "[ 28 %] elapsed[sec]: 0.096 | ETA[sec]: 0.246 "
       ]
      },
      {
       "output_type": "stream",
       "stream": "stderr",
       "text": [
        "\r",
        "[ 28 %] elapsed[sec]: 0.099 | ETA[sec]: 0.245 "
       ]
      },
      {
       "output_type": "stream",
       "stream": "stderr",
       "text": [
        "\r",
        "[ 29 %] elapsed[sec]: 0.102 | ETA[sec]: 0.242 "
       ]
      },
      {
       "output_type": "stream",
       "stream": "stderr",
       "text": [
        "\r",
        "[ 30 %] elapsed[sec]: 0.105 | ETA[sec]: 0.239 "
       ]
      },
      {
       "output_type": "stream",
       "stream": "stderr",
       "text": [
        "\r",
        "[ 31 %] elapsed[sec]: 0.107 | ETA[sec]: 0.235 "
       ]
      },
      {
       "output_type": "stream",
       "stream": "stderr",
       "text": [
        "\r",
        "[ 32 %] elapsed[sec]: 0.109 | ETA[sec]: 0.232 "
       ]
      },
      {
       "output_type": "stream",
       "stream": "stderr",
       "text": [
        "\r",
        "[ 32 %] elapsed[sec]: 0.112 | ETA[sec]: 0.229 "
       ]
      },
      {
       "output_type": "stream",
       "stream": "stderr",
       "text": [
        "\r",
        "[ 33 %] elapsed[sec]: 0.114 | ETA[sec]: 0.226 "
       ]
      },
      {
       "output_type": "stream",
       "stream": "stderr",
       "text": [
        "\r",
        "[ 34 %] elapsed[sec]: 0.116 | ETA[sec]: 0.222 "
       ]
      },
      {
       "output_type": "stream",
       "stream": "stderr",
       "text": [
        "\r",
        "[ 35 %] elapsed[sec]: 0.119 | ETA[sec]: 0.220 "
       ]
      },
      {
       "output_type": "stream",
       "stream": "stderr",
       "text": [
        "\r",
        "[ 35 %] elapsed[sec]: 0.122 | ETA[sec]: 0.218 "
       ]
      },
      {
       "output_type": "stream",
       "stream": "stderr",
       "text": [
        "\r",
        "[ 36 %] elapsed[sec]: 0.125 | ETA[sec]: 0.215 "
       ]
      },
      {
       "output_type": "stream",
       "stream": "stderr",
       "text": [
        "\r",
        "[ 37 %] elapsed[sec]: 0.128 | ETA[sec]: 0.213 "
       ]
      },
      {
       "output_type": "stream",
       "stream": "stderr",
       "text": [
        "\r",
        "[ 38 %] elapsed[sec]: 0.130 | ETA[sec]: 0.210 "
       ]
      },
      {
       "output_type": "stream",
       "stream": "stderr",
       "text": [
        "\r",
        "[ 39 %] elapsed[sec]: 0.133 | ETA[sec]: 0.207 "
       ]
      },
      {
       "output_type": "stream",
       "stream": "stderr",
       "text": [
        "\r",
        "[ 39 %] elapsed[sec]: 0.135 | ETA[sec]: 0.204 "
       ]
      },
      {
       "output_type": "stream",
       "stream": "stderr",
       "text": [
        "\r",
        "[ 40 %] elapsed[sec]: 0.138 | ETA[sec]: 0.202 "
       ]
      },
      {
       "output_type": "stream",
       "stream": "stderr",
       "text": [
        "\r",
        "[ 41 %] elapsed[sec]: 0.141 | ETA[sec]: 0.199 "
       ]
      },
      {
       "output_type": "stream",
       "stream": "stderr",
       "text": [
        "\r",
        "[ 42 %] elapsed[sec]: 0.143 | ETA[sec]: 0.196 "
       ]
      },
      {
       "output_type": "stream",
       "stream": "stderr",
       "text": [
        "\r",
        "[ 42 %] elapsed[sec]: 0.146 | ETA[sec]: 0.194 "
       ]
      },
      {
       "output_type": "stream",
       "stream": "stderr",
       "text": [
        "\r",
        "[ 43 %] elapsed[sec]: 0.148 | ETA[sec]: 0.191 "
       ]
      },
      {
       "output_type": "stream",
       "stream": "stderr",
       "text": [
        "\r",
        "[ 44 %] elapsed[sec]: 0.151 | ETA[sec]: 0.188 "
       ]
      },
      {
       "output_type": "stream",
       "stream": "stderr",
       "text": [
        "\r",
        "[ 45 %] elapsed[sec]: 0.153 | ETA[sec]: 0.185 "
       ]
      },
      {
       "output_type": "stream",
       "stream": "stderr",
       "text": [
        "\r",
        "[ 46 %] elapsed[sec]: 0.156 | ETA[sec]: 0.183 "
       ]
      },
      {
       "output_type": "stream",
       "stream": "stderr",
       "text": [
        "\r",
        "[ 46 %] elapsed[sec]: 0.159 | ETA[sec]: 0.180 "
       ]
      },
      {
       "output_type": "stream",
       "stream": "stderr",
       "text": [
        "\r",
        "[ 47 %] elapsed[sec]: 0.161 | ETA[sec]: 0.177 "
       ]
      },
      {
       "output_type": "stream",
       "stream": "stderr",
       "text": [
        "\r",
        "[ 48 %] elapsed[sec]: 0.163 | ETA[sec]: 0.174 "
       ]
      },
      {
       "output_type": "stream",
       "stream": "stderr",
       "text": [
        "\r",
        "[ 49 %] elapsed[sec]: 0.166 | ETA[sec]: 0.171 "
       ]
      },
      {
       "output_type": "stream",
       "stream": "stderr",
       "text": [
        "\r",
        "[ 50 %] elapsed[sec]: 0.169 | ETA[sec]: 0.169 "
       ]
      },
      {
       "output_type": "stream",
       "stream": "stderr",
       "text": [
        "\r",
        "[ 50 %] elapsed[sec]: 0.171 | ETA[sec]: 0.166 "
       ]
      },
      {
       "output_type": "stream",
       "stream": "stderr",
       "text": [
        "\r",
        "[ 51 %] elapsed[sec]: 0.173 | ETA[sec]: 0.163 "
       ]
      },
      {
       "output_type": "stream",
       "stream": "stderr",
       "text": [
        "\r",
        "[ 52 %] elapsed[sec]: 0.176 | ETA[sec]: 0.160 "
       ]
      },
      {
       "output_type": "stream",
       "stream": "stderr",
       "text": [
        "\r",
        "[ 53 %] elapsed[sec]: 0.179 | ETA[sec]: 0.158 "
       ]
      },
      {
       "output_type": "stream",
       "stream": "stderr",
       "text": [
        "\r",
        "[ 53 %] elapsed[sec]: 0.182 | ETA[sec]: 0.156 "
       ]
      },
      {
       "output_type": "stream",
       "stream": "stderr",
       "text": [
        "\r",
        "[ 54 %] elapsed[sec]: 0.185 | ETA[sec]: 0.153 "
       ]
      },
      {
       "output_type": "stream",
       "stream": "stderr",
       "text": [
        "\r",
        "[ 55 %] elapsed[sec]: 0.188 | ETA[sec]: 0.151 "
       ]
      },
      {
       "output_type": "stream",
       "stream": "stderr",
       "text": [
        "\r",
        "[ 56 %] elapsed[sec]: 0.191 | ETA[sec]: 0.148 "
       ]
      },
      {
       "output_type": "stream",
       "stream": "stderr",
       "text": [
        "\r",
        "[ 57 %] elapsed[sec]: 0.194 | ETA[sec]: 0.146 "
       ]
      },
      {
       "output_type": "stream",
       "stream": "stderr",
       "text": [
        "\r",
        "[ 57 %] elapsed[sec]: 0.197 | ETA[sec]: 0.143 "
       ]
      },
      {
       "output_type": "stream",
       "stream": "stderr",
       "text": [
        "\r",
        "[ 58 %] elapsed[sec]: 0.199 | ETA[sec]: 0.141 "
       ]
      },
      {
       "output_type": "stream",
       "stream": "stderr",
       "text": [
        "\r",
        "[ 59 %] elapsed[sec]: 0.201 | ETA[sec]: 0.138 "
       ]
      },
      {
       "output_type": "stream",
       "stream": "stderr",
       "text": [
        "\r",
        "[ 60 %] elapsed[sec]: 0.204 | ETA[sec]: 0.135 "
       ]
      },
      {
       "output_type": "stream",
       "stream": "stderr",
       "text": [
        "\r",
        "[ 60 %] elapsed[sec]: 0.207 | ETA[sec]: 0.133 "
       ]
      },
      {
       "output_type": "stream",
       "stream": "stderr",
       "text": [
        "\r",
        "[ 61 %] elapsed[sec]: 0.210 | ETA[sec]: 0.130 "
       ]
      },
      {
       "output_type": "stream",
       "stream": "stderr",
       "text": [
        "\r",
        "[ 62 %] elapsed[sec]: 0.213 | ETA[sec]: 0.128 "
       ]
      },
      {
       "output_type": "stream",
       "stream": "stderr",
       "text": [
        "\r",
        "[ 63 %] elapsed[sec]: 0.216 | ETA[sec]: 0.125 "
       ]
      },
      {
       "output_type": "stream",
       "stream": "stderr",
       "text": [
        "\r",
        "[ 64 %] elapsed[sec]: 0.218 | ETA[sec]: 0.122 "
       ]
      },
      {
       "output_type": "stream",
       "stream": "stderr",
       "text": [
        "\r",
        "[ 64 %] elapsed[sec]: 0.221 | ETA[sec]: 0.120 "
       ]
      },
      {
       "output_type": "stream",
       "stream": "stderr",
       "text": [
        "\r",
        "[ 65 %] elapsed[sec]: 0.223 | ETA[sec]: 0.117 "
       ]
      },
      {
       "output_type": "stream",
       "stream": "stderr",
       "text": [
        "\r",
        "[ 66 %] elapsed[sec]: 0.226 | ETA[sec]: 0.114 "
       ]
      },
      {
       "output_type": "stream",
       "stream": "stderr",
       "text": [
        "\r",
        "[ 67 %] elapsed[sec]: 0.228 | ETA[sec]: 0.111 "
       ]
      },
      {
       "output_type": "stream",
       "stream": "stderr",
       "text": [
        "\r",
        "[ 67 %] elapsed[sec]: 0.230 | ETA[sec]: 0.108 "
       ]
      },
      {
       "output_type": "stream",
       "stream": "stderr",
       "text": [
        "\r",
        "[ 68 %] elapsed[sec]: 0.232 | ETA[sec]: 0.106 "
       ]
      },
      {
       "output_type": "stream",
       "stream": "stderr",
       "text": [
        "\r",
        "[ 69 %] elapsed[sec]: 0.235 | ETA[sec]: 0.103 "
       ]
      },
      {
       "output_type": "stream",
       "stream": "stderr",
       "text": [
        "\r",
        "[ 70 %] elapsed[sec]: 0.237 | ETA[sec]: 0.100 "
       ]
      },
      {
       "output_type": "stream",
       "stream": "stderr",
       "text": [
        "\r",
        "[ 71 %] elapsed[sec]: 0.240 | ETA[sec]: 0.097 "
       ]
      },
      {
       "output_type": "stream",
       "stream": "stderr",
       "text": [
        "\r",
        "[ 71 %] elapsed[sec]: 0.242 | ETA[sec]: 0.095 "
       ]
      },
      {
       "output_type": "stream",
       "stream": "stderr",
       "text": [
        "\r",
        "[ 72 %] elapsed[sec]: 0.245 | ETA[sec]: 0.092 "
       ]
      },
      {
       "output_type": "stream",
       "stream": "stderr",
       "text": [
        "\r",
        "[ 73 %] elapsed[sec]: 0.247 | ETA[sec]: 0.090 "
       ]
      },
      {
       "output_type": "stream",
       "stream": "stderr",
       "text": [
        "\r",
        "[ 74 %] elapsed[sec]: 0.251 | ETA[sec]: 0.087 "
       ]
      },
      {
       "output_type": "stream",
       "stream": "stderr",
       "text": [
        "\r",
        "[ 75 %] elapsed[sec]: 0.254 | ETA[sec]: 0.085 "
       ]
      },
      {
       "output_type": "stream",
       "stream": "stderr",
       "text": [
        "\r",
        "[ 75 %] elapsed[sec]: 0.256 | ETA[sec]: 0.082 "
       ]
      },
      {
       "output_type": "stream",
       "stream": "stderr",
       "text": [
        "\r",
        "[ 76 %] elapsed[sec]: 0.259 | ETA[sec]: 0.079 "
       ]
      },
      {
       "output_type": "stream",
       "stream": "stderr",
       "text": [
        "\r",
        "[ 77 %] elapsed[sec]: 0.261 | ETA[sec]: 0.077 "
       ]
      },
      {
       "output_type": "stream",
       "stream": "stderr",
       "text": [
        "\r",
        "[ 78 %] elapsed[sec]: 0.263 | ETA[sec]: 0.074 "
       ]
      },
      {
       "output_type": "stream",
       "stream": "stderr",
       "text": [
        "\r",
        "[ 78 %] elapsed[sec]: 0.266 | ETA[sec]: 0.071 "
       ]
      },
      {
       "output_type": "stream",
       "stream": "stderr",
       "text": [
        "\r",
        "[ 79 %] elapsed[sec]: 0.268 | ETA[sec]: 0.068 "
       ]
      },
      {
       "output_type": "stream",
       "stream": "stderr",
       "text": [
        "\r",
        "[ 80 %] elapsed[sec]: 0.270 | ETA[sec]: 0.066 "
       ]
      },
      {
       "output_type": "stream",
       "stream": "stderr",
       "text": [
        "\r",
        "[ 81 %] elapsed[sec]: 0.273 | ETA[sec]: 0.063 "
       ]
      },
      {
       "output_type": "stream",
       "stream": "stderr",
       "text": [
        "\r",
        "[ 82 %] elapsed[sec]: 0.275 | ETA[sec]: 0.060 "
       ]
      },
      {
       "output_type": "stream",
       "stream": "stderr",
       "text": [
        "\r",
        "[ 82 %] elapsed[sec]: 0.277 | ETA[sec]: 0.058 "
       ]
      },
      {
       "output_type": "stream",
       "stream": "stderr",
       "text": [
        "\r",
        "[ 83 %] elapsed[sec]: 0.279 | ETA[sec]: 0.055 "
       ]
      },
      {
       "output_type": "stream",
       "stream": "stderr",
       "text": [
        "\r",
        "[ 84 %] elapsed[sec]: 0.282 | ETA[sec]: 0.052 "
       ]
      },
      {
       "output_type": "stream",
       "stream": "stderr",
       "text": [
        "\r",
        "[ 85 %] elapsed[sec]: 0.285 | ETA[sec]: 0.050 "
       ]
      },
      {
       "output_type": "stream",
       "stream": "stderr",
       "text": [
        "\r",
        "[ 85 %] elapsed[sec]: 0.287 | ETA[sec]: 0.047 "
       ]
      },
      {
       "output_type": "stream",
       "stream": "stderr",
       "text": [
        "\r",
        "[ 86 %] elapsed[sec]: 0.290 | ETA[sec]: 0.044 "
       ]
      },
      {
       "output_type": "stream",
       "stream": "stderr",
       "text": [
        "\r",
        "[ 87 %] elapsed[sec]: 0.293 | ETA[sec]: 0.042 "
       ]
      },
      {
       "output_type": "stream",
       "stream": "stderr",
       "text": [
        "\r",
        "[ 88 %] elapsed[sec]: 0.297 | ETA[sec]: 0.039 "
       ]
      },
      {
       "output_type": "stream",
       "stream": "stderr",
       "text": [
        "\r",
        "[ 89 %] elapsed[sec]: 0.300 | ETA[sec]: 0.037 "
       ]
      },
      {
       "output_type": "stream",
       "stream": "stderr",
       "text": [
        "\r",
        "[ 89 %] elapsed[sec]: 0.304 | ETA[sec]: 0.034 "
       ]
      },
      {
       "output_type": "stream",
       "stream": "stderr",
       "text": [
        "\r",
        "[ 90 %] elapsed[sec]: 0.307 | ETA[sec]: 0.032 "
       ]
      },
      {
       "output_type": "stream",
       "stream": "stderr",
       "text": [
        "\r",
        "[ 91 %] elapsed[sec]: 0.310 | ETA[sec]: 0.029 "
       ]
      },
      {
       "output_type": "stream",
       "stream": "stderr",
       "text": [
        "\r",
        "[ 92 %] elapsed[sec]: 0.314 | ETA[sec]: 0.027 "
       ]
      },
      {
       "output_type": "stream",
       "stream": "stderr",
       "text": [
        "\r",
        "[ 92 %] elapsed[sec]: 0.317 | ETA[sec]: 0.024 "
       ]
      },
      {
       "output_type": "stream",
       "stream": "stderr",
       "text": [
        "\r",
        "[ 93 %] elapsed[sec]: 0.320 | ETA[sec]: 0.021 "
       ]
      },
      {
       "output_type": "stream",
       "stream": "stderr",
       "text": [
        "\r",
        "[ 94 %] elapsed[sec]: 0.323 | ETA[sec]: 0.019 "
       ]
      },
      {
       "output_type": "stream",
       "stream": "stderr",
       "text": [
        "\r",
        "[ 95 %] elapsed[sec]: 0.327 | ETA[sec]: 0.016 "
       ]
      },
      {
       "output_type": "stream",
       "stream": "stderr",
       "text": [
        "\r",
        "[ 96 %] elapsed[sec]: 0.330 | ETA[sec]: 0.013 "
       ]
      },
      {
       "output_type": "stream",
       "stream": "stderr",
       "text": [
        "\r",
        "[ 96 %] elapsed[sec]: 0.332 | ETA[sec]: 0.011 "
       ]
      },
      {
       "output_type": "stream",
       "stream": "stderr",
       "text": [
        "\r",
        "[ 97 %] elapsed[sec]: 0.335 | ETA[sec]: 0.008 "
       ]
      },
      {
       "output_type": "stream",
       "stream": "stderr",
       "text": [
        "\r",
        "[ 98 %] elapsed[sec]: 0.337 | ETA[sec]: 0.005 "
       ]
      },
      {
       "output_type": "stream",
       "stream": "stderr",
       "text": [
        "\r",
        "[ 99 %] elapsed[sec]: 0.340 | ETA[sec]: 0.003 "
       ]
      },
      {
       "output_type": "stream",
       "stream": "stderr",
       "text": [
        "\r",
        "[100 %] elapsed[sec]: 0.342"
       ]
      },
      {
       "output_type": "stream",
       "stream": "stdout",
       "text": [
        "\n",
        "Title: \n",
        "                      Started: 09/24/2014 16:10:11\n",
        "                      Finished: 09/24/2014 16:10:11\n",
        "                      Total time elapsed: 0.342 sec\n",
        "                      CPU %: 101.900000\n",
        "                      Memory %: 3.384995"
       ]
      },
      {
       "output_type": "stream",
       "stream": "stderr",
       "text": [
        "\n",
        "Total time elapsed: 0.342 sec\n",
        "\r",
        "[  0 %]"
       ]
      },
      {
       "output_type": "stream",
       "stream": "stderr",
       "text": [
        " elapsed[sec]: 0.000"
       ]
      },
      {
       "output_type": "stream",
       "stream": "stdout",
       "text": [
        "\n",
        "Saving sequence results/color-seed-123456.webm"
       ]
      },
      {
       "output_type": "stream",
       "stream": "stderr",
       "text": [
        "\r",
        "[  0 %] elapsed[sec]: 0.001"
       ]
      },
      {
       "output_type": "stream",
       "stream": "stderr",
       "text": [
        "\r",
        "[  1 %] elapsed[sec]: 0.003 | ETA[sec]: 0.206 "
       ]
      },
      {
       "output_type": "stream",
       "stream": "stderr",
       "text": [
        "\r",
        "[  2 %] elapsed[sec]: 0.005 | ETA[sec]: 0.215 "
       ]
      },
      {
       "output_type": "stream",
       "stream": "stderr",
       "text": [
        "\r",
        "[  3 %] elapsed[sec]: 0.007 | ETA[sec]: 0.213 "
       ]
      },
      {
       "output_type": "stream",
       "stream": "stderr",
       "text": [
        "\r",
        "[  3 %] elapsed[sec]: 0.008 | ETA[sec]: 0.209 "
       ]
      },
      {
       "output_type": "stream",
       "stream": "stderr",
       "text": [
        "\r",
        "[  4 %] elapsed[sec]: 0.010 | ETA[sec]: 0.203 "
       ]
      },
      {
       "output_type": "stream",
       "stream": "stderr",
       "text": [
        "\r",
        "[  5 %] elapsed[sec]: 0.012 | ETA[sec]: 0.205 "
       ]
      },
      {
       "output_type": "stream",
       "stream": "stderr",
       "text": [
        "\r",
        "[  6 %] elapsed[sec]: 0.014 | ETA[sec]: 0.204 "
       ]
      },
      {
       "output_type": "stream",
       "stream": "stderr",
       "text": [
        "\r",
        "[  7 %] elapsed[sec]: 0.015 | ETA[sec]: 0.200 "
       ]
      },
      {
       "output_type": "stream",
       "stream": "stderr",
       "text": [
        "\r",
        "[  7 %] elapsed[sec]: 0.017 | ETA[sec]: 0.196 "
       ]
      },
      {
       "output_type": "stream",
       "stream": "stderr",
       "text": [
        "\r",
        "[  8 %] elapsed[sec]: 0.018 | ETA[sec]: 0.192 "
       ]
      },
      {
       "output_type": "stream",
       "stream": "stderr",
       "text": [
        "\r",
        "[  9 %] elapsed[sec]: 0.020 | ETA[sec]: 0.196 "
       ]
      },
      {
       "output_type": "stream",
       "stream": "stderr",
       "text": [
        "\r",
        "[ 10 %] elapsed[sec]: 0.023 | ETA[sec]: 0.200 "
       ]
      },
      {
       "output_type": "stream",
       "stream": "stderr",
       "text": [
        "\r",
        "[ 10 %] elapsed[sec]: 0.025 | ETA[sec]: 0.202 "
       ]
      },
      {
       "output_type": "stream",
       "stream": "stderr",
       "text": [
        "\r",
        "[ 11 %] elapsed[sec]: 0.027 | ETA[sec]: 0.204 "
       ]
      },
      {
       "output_type": "stream",
       "stream": "stderr",
       "text": [
        "\r",
        "[ 12 %] elapsed[sec]: 0.029 | ETA[sec]: 0.205 "
       ]
      },
      {
       "output_type": "stream",
       "stream": "stderr",
       "text": [
        "\r",
        "[ 13 %] elapsed[sec]: 0.031 | ETA[sec]: 0.206 "
       ]
      },
      {
       "output_type": "stream",
       "stream": "stderr",
       "text": [
        "\r",
        "[ 14 %] elapsed[sec]: 0.034 | ETA[sec]: 0.206 "
       ]
      },
      {
       "output_type": "stream",
       "stream": "stderr",
       "text": [
        "\r",
        "[ 14 %] elapsed[sec]: 0.035 | ETA[sec]: 0.201 "
       ]
      },
      {
       "output_type": "stream",
       "stream": "stderr",
       "text": [
        "\r",
        "[ 15 %] elapsed[sec]: 0.037 | ETA[sec]: 0.197 "
       ]
      },
      {
       "output_type": "stream",
       "stream": "stderr",
       "text": [
        "\r",
        "[ 16 %] elapsed[sec]: 0.038 | ETA[sec]: 0.193 "
       ]
      },
      {
       "output_type": "stream",
       "stream": "stderr",
       "text": [
        "\r",
        "[ 17 %] elapsed[sec]: 0.039 | ETA[sec]: 0.189 "
       ]
      },
      {
       "output_type": "stream",
       "stream": "stderr",
       "text": [
        "\r",
        "[ 17 %] elapsed[sec]: 0.041 | ETA[sec]: 0.185 "
       ]
      },
      {
       "output_type": "stream",
       "stream": "stderr",
       "text": [
        "\r",
        "[ 18 %] elapsed[sec]: 0.042 | ETA[sec]: 0.182 "
       ]
      },
      {
       "output_type": "stream",
       "stream": "stderr",
       "text": [
        "\r",
        "[ 19 %] elapsed[sec]: 0.044 | ETA[sec]: 0.182 "
       ]
      },
      {
       "output_type": "stream",
       "stream": "stderr",
       "text": [
        "\r",
        "[ 20 %] elapsed[sec]: 0.046 | ETA[sec]: 0.182 "
       ]
      },
      {
       "output_type": "stream",
       "stream": "stderr",
       "text": [
        "\r",
        "[ 21 %] elapsed[sec]: 0.048 | ETA[sec]: 0.181 "
       ]
      },
      {
       "output_type": "stream",
       "stream": "stderr",
       "text": [
        "\r",
        "[ 21 %] elapsed[sec]: 0.051 | ETA[sec]: 0.181 "
       ]
      },
      {
       "output_type": "stream",
       "stream": "stderr",
       "text": [
        "\r",
        "[ 22 %] elapsed[sec]: 0.053 | ETA[sec]: 0.180 "
       ]
      },
      {
       "output_type": "stream",
       "stream": "stderr",
       "text": [
        "\r",
        "[ 23 %] elapsed[sec]: 0.054 | ETA[sec]: 0.178 "
       ]
      },
      {
       "output_type": "stream",
       "stream": "stderr",
       "text": [
        "\r",
        "[ 24 %] elapsed[sec]: 0.056 | ETA[sec]: 0.175 "
       ]
      },
      {
       "output_type": "stream",
       "stream": "stderr",
       "text": [
        "\r",
        "[ 25 %] elapsed[sec]: 0.057 | ETA[sec]: 0.172 "
       ]
      },
      {
       "output_type": "stream",
       "stream": "stderr",
       "text": [
        "\r",
        "[ 25 %] elapsed[sec]: 0.059 | ETA[sec]: 0.169 "
       ]
      },
      {
       "output_type": "stream",
       "stream": "stderr",
       "text": [
        "\r",
        "[ 26 %] elapsed[sec]: 0.060 | ETA[sec]: 0.166 "
       ]
      },
      {
       "output_type": "stream",
       "stream": "stderr",
       "text": [
        "\r",
        "[ 27 %] elapsed[sec]: 0.061 | ETA[sec]: 0.163 "
       ]
      },
      {
       "output_type": "stream",
       "stream": "stderr",
       "text": [
        "\r",
        "[ 28 %] elapsed[sec]: 0.063 | ETA[sec]: 0.160 "
       ]
      },
      {
       "output_type": "stream",
       "stream": "stderr",
       "text": [
        "\r",
        "[ 28 %] elapsed[sec]: 0.065 | ETA[sec]: 0.160 "
       ]
      },
      {
       "output_type": "stream",
       "stream": "stderr",
       "text": [
        "\r",
        "[ 29 %] elapsed[sec]: 0.067 | ETA[sec]: 0.159 "
       ]
      },
      {
       "output_type": "stream",
       "stream": "stderr",
       "text": [
        "\r",
        "[ 30 %] elapsed[sec]: 0.069 | ETA[sec]: 0.158 "
       ]
      },
      {
       "output_type": "stream",
       "stream": "stderr",
       "text": [
        "\r",
        "[ 31 %] elapsed[sec]: 0.071 | ETA[sec]: 0.157 "
       ]
      },
      {
       "output_type": "stream",
       "stream": "stderr",
       "text": [
        "\r",
        "[ 32 %] elapsed[sec]: 0.073 | ETA[sec]: 0.156 "
       ]
      },
      {
       "output_type": "stream",
       "stream": "stderr",
       "text": [
        "\r",
        "[ 32 %] elapsed[sec]: 0.076 | ETA[sec]: 0.155 "
       ]
      },
      {
       "output_type": "stream",
       "stream": "stderr",
       "text": [
        "\r",
        "[ 33 %] elapsed[sec]: 0.078 | ETA[sec]: 0.154 "
       ]
      },
      {
       "output_type": "stream",
       "stream": "stderr",
       "text": [
        "\r",
        "[ 34 %] elapsed[sec]: 0.080 | ETA[sec]: 0.153 "
       ]
      },
      {
       "output_type": "stream",
       "stream": "stderr",
       "text": [
        "\r",
        "[ 35 %] elapsed[sec]: 0.082 | ETA[sec]: 0.151 "
       ]
      },
      {
       "output_type": "stream",
       "stream": "stderr",
       "text": [
        "\r",
        "[ 35 %] elapsed[sec]: 0.084 | ETA[sec]: 0.150 "
       ]
      },
      {
       "output_type": "stream",
       "stream": "stderr",
       "text": [
        "\r",
        "[ 36 %] elapsed[sec]: 0.086 | ETA[sec]: 0.148 "
       ]
      },
      {
       "output_type": "stream",
       "stream": "stderr",
       "text": [
        "\r",
        "[ 37 %] elapsed[sec]: 0.087 | ETA[sec]: 0.146 "
       ]
      },
      {
       "output_type": "stream",
       "stream": "stderr",
       "text": [
        "\r",
        "[ 38 %] elapsed[sec]: 0.090 | ETA[sec]: 0.145 "
       ]
      },
      {
       "output_type": "stream",
       "stream": "stderr",
       "text": [
        "\r",
        "[ 39 %] elapsed[sec]: 0.092 | ETA[sec]: 0.143 "
       ]
      },
      {
       "output_type": "stream",
       "stream": "stderr",
       "text": [
        "\r",
        "[ 39 %] elapsed[sec]: 0.094 | ETA[sec]: 0.142 "
       ]
      },
      {
       "output_type": "stream",
       "stream": "stderr",
       "text": [
        "\r",
        "[ 40 %] elapsed[sec]: 0.096 | ETA[sec]: 0.140 "
       ]
      },
      {
       "output_type": "stream",
       "stream": "stderr",
       "text": [
        "\r",
        "[ 41 %] elapsed[sec]: 0.097 | ETA[sec]: 0.138 "
       ]
      },
      {
       "output_type": "stream",
       "stream": "stderr",
       "text": [
        "\r",
        "[ 42 %] elapsed[sec]: 0.099 | ETA[sec]: 0.136 "
       ]
      },
      {
       "output_type": "stream",
       "stream": "stderr",
       "text": [
        "\r",
        "[ 42 %] elapsed[sec]: 0.101 | ETA[sec]: 0.134 "
       ]
      },
      {
       "output_type": "stream",
       "stream": "stderr",
       "text": [
        "\r",
        "[ 43 %] elapsed[sec]: 0.103 | ETA[sec]: 0.133 "
       ]
      },
      {
       "output_type": "stream",
       "stream": "stderr",
       "text": [
        "\r",
        "[ 44 %] elapsed[sec]: 0.105 | ETA[sec]: 0.131 "
       ]
      },
      {
       "output_type": "stream",
       "stream": "stderr",
       "text": [
        "\r",
        "[ 45 %] elapsed[sec]: 0.106 | ETA[sec]: 0.128 "
       ]
      },
      {
       "output_type": "stream",
       "stream": "stderr",
       "text": [
        "\r",
        "[ 46 %] elapsed[sec]: 0.108 | ETA[sec]: 0.126 "
       ]
      },
      {
       "output_type": "stream",
       "stream": "stderr",
       "text": [
        "\r",
        "[ 46 %] elapsed[sec]: 0.110 | ETA[sec]: 0.124 "
       ]
      },
      {
       "output_type": "stream",
       "stream": "stderr",
       "text": [
        "\r",
        "[ 47 %] elapsed[sec]: 0.112 | ETA[sec]: 0.123 "
       ]
      },
      {
       "output_type": "stream",
       "stream": "stderr",
       "text": [
        "\r",
        "[ 48 %] elapsed[sec]: 0.113 | ETA[sec]: 0.121 "
       ]
      },
      {
       "output_type": "stream",
       "stream": "stderr",
       "text": [
        "\r",
        "[ 49 %] elapsed[sec]: 0.115 | ETA[sec]: 0.119 "
       ]
      },
      {
       "output_type": "stream",
       "stream": "stderr",
       "text": [
        "\r",
        "[ 50 %] elapsed[sec]: 0.117 | ETA[sec]: 0.117 "
       ]
      },
      {
       "output_type": "stream",
       "stream": "stderr",
       "text": [
        "\r",
        "[ 50 %] elapsed[sec]: 0.118 | ETA[sec]: 0.114 "
       ]
      },
      {
       "output_type": "stream",
       "stream": "stderr",
       "text": [
        "\r",
        "[ 51 %] elapsed[sec]: 0.119 | ETA[sec]: 0.112 "
       ]
      },
      {
       "output_type": "stream",
       "stream": "stderr",
       "text": [
        "\r",
        "[ 52 %] elapsed[sec]: 0.121 | ETA[sec]: 0.110 "
       ]
      },
      {
       "output_type": "stream",
       "stream": "stderr",
       "text": [
        "\r",
        "[ 53 %] elapsed[sec]: 0.122 | ETA[sec]: 0.108 "
       ]
      },
      {
       "output_type": "stream",
       "stream": "stderr",
       "text": [
        "\r",
        "[ 53 %] elapsed[sec]: 0.124 | ETA[sec]: 0.106 "
       ]
      },
      {
       "output_type": "stream",
       "stream": "stderr",
       "text": [
        "\r",
        "[ 54 %] elapsed[sec]: 0.126 | ETA[sec]: 0.104 "
       ]
      },
      {
       "output_type": "stream",
       "stream": "stderr",
       "text": [
        "\r",
        "[ 55 %] elapsed[sec]: 0.127 | ETA[sec]: 0.102 "
       ]
      },
      {
       "output_type": "stream",
       "stream": "stderr",
       "text": [
        "\r",
        "[ 56 %] elapsed[sec]: 0.129 | ETA[sec]: 0.101 "
       ]
      },
      {
       "output_type": "stream",
       "stream": "stderr",
       "text": [
        "\r",
        "[ 57 %] elapsed[sec]: 0.131 | ETA[sec]: 0.099 "
       ]
      },
      {
       "output_type": "stream",
       "stream": "stderr",
       "text": [
        "\r",
        "[ 57 %] elapsed[sec]: 0.133 | ETA[sec]: 0.097 "
       ]
      },
      {
       "output_type": "stream",
       "stream": "stderr",
       "text": [
        "\r",
        "[ 58 %] elapsed[sec]: 0.135 | ETA[sec]: 0.095 "
       ]
      },
      {
       "output_type": "stream",
       "stream": "stderr",
       "text": [
        "\r",
        "[ 59 %] elapsed[sec]: 0.137 | ETA[sec]: 0.094 "
       ]
      },
      {
       "output_type": "stream",
       "stream": "stderr",
       "text": [
        "\r",
        "[ 60 %] elapsed[sec]: 0.139 | ETA[sec]: 0.092 "
       ]
      },
      {
       "output_type": "stream",
       "stream": "stderr",
       "text": [
        "\r",
        "[ 60 %] elapsed[sec]: 0.141 | ETA[sec]: 0.090 "
       ]
      },
      {
       "output_type": "stream",
       "stream": "stderr",
       "text": [
        "\r",
        "[ 61 %] elapsed[sec]: 0.142 | ETA[sec]: 0.088 "
       ]
      },
      {
       "output_type": "stream",
       "stream": "stderr",
       "text": [
        "\r",
        "[ 62 %] elapsed[sec]: 0.144 | ETA[sec]: 0.086 "
       ]
      },
      {
       "output_type": "stream",
       "stream": "stderr",
       "text": [
        "\r",
        "[ 63 %] elapsed[sec]: 0.145 | ETA[sec]: 0.084 "
       ]
      },
      {
       "output_type": "stream",
       "stream": "stderr",
       "text": [
        "\r",
        "[ 64 %] elapsed[sec]: 0.146 | ETA[sec]: 0.082 "
       ]
      },
      {
       "output_type": "stream",
       "stream": "stderr",
       "text": [
        "\r",
        "[ 64 %] elapsed[sec]: 0.148 | ETA[sec]: 0.080 "
       ]
      },
      {
       "output_type": "stream",
       "stream": "stderr",
       "text": [
        "\r",
        "[ 65 %] elapsed[sec]: 0.149 | ETA[sec]: 0.078 "
       ]
      },
      {
       "output_type": "stream",
       "stream": "stderr",
       "text": [
        "\r",
        "[ 66 %] elapsed[sec]: 0.150 | ETA[sec]: 0.076 "
       ]
      },
      {
       "output_type": "stream",
       "stream": "stderr",
       "text": [
        "\r",
        "[ 67 %] elapsed[sec]: 0.152 | ETA[sec]: 0.074 "
       ]
      },
      {
       "output_type": "stream",
       "stream": "stderr",
       "text": [
        "\r",
        "[ 67 %] elapsed[sec]: 0.153 | ETA[sec]: 0.072 "
       ]
      },
      {
       "output_type": "stream",
       "stream": "stderr",
       "text": [
        "\r",
        "[ 68 %] elapsed[sec]: 0.154 | ETA[sec]: 0.070 "
       ]
      },
      {
       "output_type": "stream",
       "stream": "stderr",
       "text": [
        "\r",
        "[ 69 %] elapsed[sec]: 0.156 | ETA[sec]: 0.068 "
       ]
      },
      {
       "output_type": "stream",
       "stream": "stderr",
       "text": [
        "\r",
        "[ 70 %] elapsed[sec]: 0.157 | ETA[sec]: 0.066 "
       ]
      },
      {
       "output_type": "stream",
       "stream": "stderr",
       "text": [
        "\r",
        "[ 71 %] elapsed[sec]: 0.159 | ETA[sec]: 0.064 "
       ]
      },
      {
       "output_type": "stream",
       "stream": "stderr",
       "text": [
        "\r",
        "[ 71 %] elapsed[sec]: 0.160 | ETA[sec]: 0.063 "
       ]
      },
      {
       "output_type": "stream",
       "stream": "stderr",
       "text": [
        "\r",
        "[ 72 %] elapsed[sec]: 0.161 | ETA[sec]: 0.061 "
       ]
      },
      {
       "output_type": "stream",
       "stream": "stderr",
       "text": [
        "\r",
        "[ 73 %] elapsed[sec]: 0.162 | ETA[sec]: 0.059 "
       ]
      },
      {
       "output_type": "stream",
       "stream": "stderr",
       "text": [
        "\r",
        "[ 74 %] elapsed[sec]: 0.164 | ETA[sec]: 0.057 "
       ]
      },
      {
       "output_type": "stream",
       "stream": "stderr",
       "text": [
        "\r",
        "[ 75 %] elapsed[sec]: 0.165 | ETA[sec]: 0.055 "
       ]
      },
      {
       "output_type": "stream",
       "stream": "stderr",
       "text": [
        "\r",
        "[ 75 %] elapsed[sec]: 0.166 | ETA[sec]: 0.053 "
       ]
      },
      {
       "output_type": "stream",
       "stream": "stderr",
       "text": [
        "\r",
        "[ 76 %] elapsed[sec]: 0.168 | ETA[sec]: 0.051 "
       ]
      },
      {
       "output_type": "stream",
       "stream": "stderr",
       "text": [
        "\r",
        "[ 77 %] elapsed[sec]: 0.169 | ETA[sec]: 0.050 "
       ]
      },
      {
       "output_type": "stream",
       "stream": "stderr",
       "text": [
        "\r",
        "[ 78 %] elapsed[sec]: 0.171 | ETA[sec]: 0.048 "
       ]
      },
      {
       "output_type": "stream",
       "stream": "stderr",
       "text": [
        "\r",
        "[ 78 %] elapsed[sec]: 0.172 | ETA[sec]: 0.046 "
       ]
      },
      {
       "output_type": "stream",
       "stream": "stderr",
       "text": [
        "\r",
        "[ 79 %] elapsed[sec]: 0.173 | ETA[sec]: 0.044 "
       ]
      },
      {
       "output_type": "stream",
       "stream": "stderr",
       "text": [
        "\r",
        "[ 80 %] elapsed[sec]: 0.174 | ETA[sec]: 0.042 "
       ]
      },
      {
       "output_type": "stream",
       "stream": "stderr",
       "text": [
        "\r",
        "[ 81 %] elapsed[sec]: 0.176 | ETA[sec]: 0.041 "
       ]
      },
      {
       "output_type": "stream",
       "stream": "stderr",
       "text": [
        "\r",
        "[ 82 %] elapsed[sec]: 0.178 | ETA[sec]: 0.039 "
       ]
      },
      {
       "output_type": "stream",
       "stream": "stderr",
       "text": [
        "\r",
        "[ 82 %] elapsed[sec]: 0.180 | ETA[sec]: 0.037 "
       ]
      },
      {
       "output_type": "stream",
       "stream": "stderr",
       "text": [
        "\r",
        "[ 83 %] elapsed[sec]: 0.181 | ETA[sec]: 0.035 "
       ]
      },
      {
       "output_type": "stream",
       "stream": "stderr",
       "text": [
        "\r",
        "[ 84 %] elapsed[sec]: 0.182 | ETA[sec]: 0.034 "
       ]
      },
      {
       "output_type": "stream",
       "stream": "stderr",
       "text": [
        "\r",
        "[ 85 %] elapsed[sec]: 0.183 | ETA[sec]: 0.032 "
       ]
      },
      {
       "output_type": "stream",
       "stream": "stderr",
       "text": [
        "\r",
        "[ 85 %] elapsed[sec]: 0.185 | ETA[sec]: 0.030 "
       ]
      },
      {
       "output_type": "stream",
       "stream": "stderr",
       "text": [
        "\r",
        "[ 86 %] elapsed[sec]: 0.186 | ETA[sec]: 0.029 "
       ]
      },
      {
       "output_type": "stream",
       "stream": "stderr",
       "text": [
        "\r",
        "[ 87 %] elapsed[sec]: 0.188 | ETA[sec]: 0.027 "
       ]
      },
      {
       "output_type": "stream",
       "stream": "stderr",
       "text": [
        "\r",
        "[ 88 %] elapsed[sec]: 0.190 | ETA[sec]: 0.025 "
       ]
      },
      {
       "output_type": "stream",
       "stream": "stderr",
       "text": [
        "\r",
        "[ 89 %] elapsed[sec]: 0.192 | ETA[sec]: 0.024 "
       ]
      },
      {
       "output_type": "stream",
       "stream": "stderr",
       "text": [
        "\r",
        "[ 89 %] elapsed[sec]: 0.194 | ETA[sec]: 0.022 "
       ]
      },
      {
       "output_type": "stream",
       "stream": "stderr",
       "text": [
        "\r",
        "[ 90 %] elapsed[sec]: 0.195 | ETA[sec]: 0.020 "
       ]
      },
      {
       "output_type": "stream",
       "stream": "stderr",
       "text": [
        "\r",
        "[ 91 %] elapsed[sec]: 0.196 | ETA[sec]: 0.018 "
       ]
      },
      {
       "output_type": "stream",
       "stream": "stderr",
       "text": [
        "\r",
        "[ 92 %] elapsed[sec]: 0.198 | ETA[sec]: 0.017 "
       ]
      },
      {
       "output_type": "stream",
       "stream": "stderr",
       "text": [
        "\r",
        "[ 92 %] elapsed[sec]: 0.200 | ETA[sec]: 0.015 "
       ]
      },
      {
       "output_type": "stream",
       "stream": "stderr",
       "text": [
        "\r",
        "[ 93 %] elapsed[sec]: 0.201 | ETA[sec]: 0.013 "
       ]
      },
      {
       "output_type": "stream",
       "stream": "stderr",
       "text": [
        "\r",
        "[ 94 %] elapsed[sec]: 0.203 | ETA[sec]: 0.012 "
       ]
      },
      {
       "output_type": "stream",
       "stream": "stderr",
       "text": [
        "\r",
        "[ 95 %] elapsed[sec]: 0.205 | ETA[sec]: 0.010 "
       ]
      },
      {
       "output_type": "stream",
       "stream": "stderr",
       "text": [
        "\r",
        "[ 96 %] elapsed[sec]: 0.206 | ETA[sec]: 0.008 "
       ]
      },
      {
       "output_type": "stream",
       "stream": "stderr",
       "text": [
        "\r",
        "[ 96 %] elapsed[sec]: 0.207 | ETA[sec]: 0.007 "
       ]
      },
      {
       "output_type": "stream",
       "stream": "stderr",
       "text": [
        "\r",
        "[ 97 %] elapsed[sec]: 0.209 | ETA[sec]: 0.005 "
       ]
      },
      {
       "output_type": "stream",
       "stream": "stderr",
       "text": [
        "\r",
        "[ 98 %] elapsed[sec]: 0.211 | ETA[sec]: 0.003 "
       ]
      },
      {
       "output_type": "stream",
       "stream": "stderr",
       "text": [
        "\r",
        "[ 99 %] elapsed[sec]: 0.213 | ETA[sec]: 0.002 "
       ]
      },
      {
       "output_type": "stream",
       "stream": "stderr",
       "text": [
        "\r",
        "[100 %] elapsed[sec]: 0.214"
       ]
      },
      {
       "output_type": "stream",
       "stream": "stdout",
       "text": [
        "\n",
        "Title: \n",
        "                      Started: 09/24/2014 16:10:12\n",
        "                      Finished: 09/24/2014 16:10:12\n",
        "                      Total time elapsed: 0.214 sec\n",
        "                      CPU %: 102.800000\n",
        "                      Memory %: 3.384995"
       ]
      },
      {
       "output_type": "stream",
       "stream": "stderr",
       "text": [
        "\n",
        "Total time elapsed: 0.214 sec\n",
        "\r",
        "[  0 %]"
       ]
      },
      {
       "output_type": "stream",
       "stream": "stderr",
       "text": [
        " elapsed[sec]: 0.001"
       ]
      },
      {
       "output_type": "stream",
       "stream": "stdout",
       "text": [
        "\n",
        "Saving sequence results/color-seed-123457.webm"
       ]
      },
      {
       "output_type": "stream",
       "stream": "stderr",
       "text": [
        "\r",
        "[  0 %] elapsed[sec]: 0.001 | ETA[sec]: 0.175 "
       ]
      },
      {
       "output_type": "stream",
       "stream": "stderr",
       "text": [
        "\r",
        "[  1 %] elapsed[sec]: 0.004 | ETA[sec]: 0.236 "
       ]
      },
      {
       "output_type": "stream",
       "stream": "stderr",
       "text": [
        "\r",
        "[  2 %] elapsed[sec]: 0.006 | ETA[sec]: 0.259 "
       ]
      },
      {
       "output_type": "stream",
       "stream": "stderr",
       "text": [
        "\r",
        "[  3 %] elapsed[sec]: 0.009 | ETA[sec]: 0.269 "
       ]
      },
      {
       "output_type": "stream",
       "stream": "stderr",
       "text": [
        "\r",
        "[  3 %] elapsed[sec]: 0.011 | ETA[sec]: 0.273 "
       ]
      },
      {
       "output_type": "stream",
       "stream": "stderr",
       "text": [
        "\r",
        "[  4 %] elapsed[sec]: 0.013 | ETA[sec]: 0.275 "
       ]
      },
      {
       "output_type": "stream",
       "stream": "stderr",
       "text": [
        "\r",
        "[  5 %] elapsed[sec]: 0.016 | ETA[sec]: 0.274 "
       ]
      },
      {
       "output_type": "stream",
       "stream": "stderr",
       "text": [
        "\r",
        "[  6 %] elapsed[sec]: 0.018 | ETA[sec]: 0.272 "
       ]
      },
      {
       "output_type": "stream",
       "stream": "stderr",
       "text": [
        "\r",
        "[  7 %] elapsed[sec]: 0.019 | ETA[sec]: 0.258 "
       ]
      },
      {
       "output_type": "stream",
       "stream": "stderr",
       "text": [
        "\r",
        "[  7 %] elapsed[sec]: 0.021 | ETA[sec]: 0.246 "
       ]
      },
      {
       "output_type": "stream",
       "stream": "stderr",
       "text": [
        "\r",
        "[  8 %] elapsed[sec]: 0.022 | ETA[sec]: 0.237 "
       ]
      },
      {
       "output_type": "stream",
       "stream": "stderr",
       "text": [
        "\r",
        "[  9 %] elapsed[sec]: 0.024 | ETA[sec]: 0.229 "
       ]
      },
      {
       "output_type": "stream",
       "stream": "stderr",
       "text": [
        "\r",
        "[ 10 %] elapsed[sec]: 0.025 | ETA[sec]: 0.222 "
       ]
      },
      {
       "output_type": "stream",
       "stream": "stderr",
       "text": [
        "\r",
        "[ 10 %] elapsed[sec]: 0.026 | ETA[sec]: 0.215 "
       ]
      },
      {
       "output_type": "stream",
       "stream": "stderr",
       "text": [
        "\r",
        "[ 11 %] elapsed[sec]: 0.028 | ETA[sec]: 0.209 "
       ]
      },
      {
       "output_type": "stream",
       "stream": "stderr",
       "text": [
        "\r",
        "[ 12 %] elapsed[sec]: 0.029 | ETA[sec]: 0.203 "
       ]
      },
      {
       "output_type": "stream",
       "stream": "stderr",
       "text": [
        "\r",
        "[ 13 %] elapsed[sec]: 0.030 | ETA[sec]: 0.197 "
       ]
      },
      {
       "output_type": "stream",
       "stream": "stderr",
       "text": [
        "\r",
        "[ 14 %] elapsed[sec]: 0.031 | ETA[sec]: 0.192 "
       ]
      },
      {
       "output_type": "stream",
       "stream": "stderr",
       "text": [
        "\r",
        "[ 14 %] elapsed[sec]: 0.033 | ETA[sec]: 0.187 "
       ]
      },
      {
       "output_type": "stream",
       "stream": "stderr",
       "text": [
        "\r",
        "[ 15 %] elapsed[sec]: 0.034 | ETA[sec]: 0.186 "
       ]
      },
      {
       "output_type": "stream",
       "stream": "stderr",
       "text": [
        "\r",
        "[ 16 %] elapsed[sec]: 0.036 | ETA[sec]: 0.185 "
       ]
      },
      {
       "output_type": "stream",
       "stream": "stderr",
       "text": [
        "\r",
        "[ 17 %] elapsed[sec]: 0.038 | ETA[sec]: 0.183 "
       ]
      },
      {
       "output_type": "stream",
       "stream": "stderr",
       "text": [
        "\r",
        "[ 17 %] elapsed[sec]: 0.039 | ETA[sec]: 0.180 "
       ]
      },
      {
       "output_type": "stream",
       "stream": "stderr",
       "text": [
        "\r",
        "[ 18 %] elapsed[sec]: 0.041 | ETA[sec]: 0.178 "
       ]
      },
      {
       "output_type": "stream",
       "stream": "stderr",
       "text": [
        "\r",
        "[ 19 %] elapsed[sec]: 0.043 | ETA[sec]: 0.176 "
       ]
      },
      {
       "output_type": "stream",
       "stream": "stderr",
       "text": [
        "\r",
        "[ 20 %] elapsed[sec]: 0.044 | ETA[sec]: 0.174 "
       ]
      },
      {
       "output_type": "stream",
       "stream": "stderr",
       "text": [
        "\r",
        "[ 21 %] elapsed[sec]: 0.046 | ETA[sec]: 0.171 "
       ]
      },
      {
       "output_type": "stream",
       "stream": "stderr",
       "text": [
        "\r",
        "[ 21 %] elapsed[sec]: 0.047 | ETA[sec]: 0.168 "
       ]
      },
      {
       "output_type": "stream",
       "stream": "stderr",
       "text": [
        "\r",
        "[ 22 %] elapsed[sec]: 0.048 | ETA[sec]: 0.165 "
       ]
      },
      {
       "output_type": "stream",
       "stream": "stderr",
       "text": [
        "\r",
        "[ 23 %] elapsed[sec]: 0.050 | ETA[sec]: 0.162 "
       ]
      },
      {
       "output_type": "stream",
       "stream": "stderr",
       "text": [
        "\r",
        "[ 24 %] elapsed[sec]: 0.051 | ETA[sec]: 0.159 "
       ]
      },
      {
       "output_type": "stream",
       "stream": "stderr",
       "text": [
        "\r",
        "[ 25 %] elapsed[sec]: 0.052 | ETA[sec]: 0.156 "
       ]
      },
      {
       "output_type": "stream",
       "stream": "stderr",
       "text": [
        "\r",
        "[ 25 %] elapsed[sec]: 0.053 | ETA[sec]: 0.153 "
       ]
      },
      {
       "output_type": "stream",
       "stream": "stderr",
       "text": [
        "\r",
        "[ 26 %] elapsed[sec]: 0.055 | ETA[sec]: 0.152 "
       ]
      },
      {
       "output_type": "stream",
       "stream": "stderr",
       "text": [
        "\r",
        "[ 27 %] elapsed[sec]: 0.057 | ETA[sec]: 0.151 "
       ]
      },
      {
       "output_type": "stream",
       "stream": "stderr",
       "text": [
        "\r",
        "[ 28 %] elapsed[sec]: 0.059 | ETA[sec]: 0.150 "
       ]
      },
      {
       "output_type": "stream",
       "stream": "stderr",
       "text": [
        "\r",
        "[ 28 %] elapsed[sec]: 0.061 | ETA[sec]: 0.149 "
       ]
      },
      {
       "output_type": "stream",
       "stream": "stderr",
       "text": [
        "\r",
        "[ 29 %] elapsed[sec]: 0.063 | ETA[sec]: 0.149 "
       ]
      },
      {
       "output_type": "stream",
       "stream": "stderr",
       "text": [
        "\r",
        "[ 30 %] elapsed[sec]: 0.065 | ETA[sec]: 0.148 "
       ]
      },
      {
       "output_type": "stream",
       "stream": "stderr",
       "text": [
        "\r",
        "[ 31 %] elapsed[sec]: 0.067 | ETA[sec]: 0.147 "
       ]
      },
      {
       "output_type": "stream",
       "stream": "stderr",
       "text": [
        "\r",
        "[ 32 %] elapsed[sec]: 0.069 | ETA[sec]: 0.147 "
       ]
      },
      {
       "output_type": "stream",
       "stream": "stderr",
       "text": [
        "\r",
        "[ 32 %] elapsed[sec]: 0.071 | ETA[sec]: 0.145 "
       ]
      },
      {
       "output_type": "stream",
       "stream": "stderr",
       "text": [
        "\r",
        "[ 33 %] elapsed[sec]: 0.072 | ETA[sec]: 0.142 "
       ]
      },
      {
       "output_type": "stream",
       "stream": "stderr",
       "text": [
        "\r",
        "[ 34 %] elapsed[sec]: 0.073 | ETA[sec]: 0.140 "
       ]
      },
      {
       "output_type": "stream",
       "stream": "stderr",
       "text": [
        "\r",
        "[ 35 %] elapsed[sec]: 0.075 | ETA[sec]: 0.138 "
       ]
      },
      {
       "output_type": "stream",
       "stream": "stderr",
       "text": [
        "\r",
        "[ 35 %] elapsed[sec]: 0.076 | ETA[sec]: 0.135 "
       ]
      },
      {
       "output_type": "stream",
       "stream": "stderr",
       "text": [
        "\r",
        "[ 36 %] elapsed[sec]: 0.078 | ETA[sec]: 0.134 "
       ]
      },
      {
       "output_type": "stream",
       "stream": "stderr",
       "text": [
        "\r",
        "[ 37 %] elapsed[sec]: 0.079 | ETA[sec]: 0.132 "
       ]
      },
      {
       "output_type": "stream",
       "stream": "stderr",
       "text": [
        "\r",
        "[ 38 %] elapsed[sec]: 0.081 | ETA[sec]: 0.131 "
       ]
      },
      {
       "output_type": "stream",
       "stream": "stderr",
       "text": [
        "\r",
        "[ 39 %] elapsed[sec]: 0.083 | ETA[sec]: 0.129 "
       ]
      },
      {
       "output_type": "stream",
       "stream": "stderr",
       "text": [
        "\r",
        "[ 39 %] elapsed[sec]: 0.085 | ETA[sec]: 0.128 "
       ]
      },
      {
       "output_type": "stream",
       "stream": "stderr",
       "text": [
        "\r",
        "[ 40 %] elapsed[sec]: 0.086 | ETA[sec]: 0.126 "
       ]
      },
      {
       "output_type": "stream",
       "stream": "stderr",
       "text": [
        "\r",
        "[ 41 %] elapsed[sec]: 0.087 | ETA[sec]: 0.124 "
       ]
      },
      {
       "output_type": "stream",
       "stream": "stderr",
       "text": [
        "\r",
        "[ 42 %] elapsed[sec]: 0.089 | ETA[sec]: 0.122 "
       ]
      },
      {
       "output_type": "stream",
       "stream": "stderr",
       "text": [
        "\r",
        "[ 42 %] elapsed[sec]: 0.090 | ETA[sec]: 0.120 "
       ]
      },
      {
       "output_type": "stream",
       "stream": "stderr",
       "text": [
        "\r",
        "[ 43 %] elapsed[sec]: 0.092 | ETA[sec]: 0.118 "
       ]
      },
      {
       "output_type": "stream",
       "stream": "stderr",
       "text": [
        "\r",
        "[ 44 %] elapsed[sec]: 0.093 | ETA[sec]: 0.116 "
       ]
      },
      {
       "output_type": "stream",
       "stream": "stderr",
       "text": [
        "\r",
        "[ 45 %] elapsed[sec]: 0.095 | ETA[sec]: 0.114 "
       ]
      },
      {
       "output_type": "stream",
       "stream": "stderr",
       "text": [
        "\r",
        "[ 46 %] elapsed[sec]: 0.097 | ETA[sec]: 0.113 "
       ]
      },
      {
       "output_type": "stream",
       "stream": "stderr",
       "text": [
        "\r",
        "[ 46 %] elapsed[sec]: 0.099 | ETA[sec]: 0.112 "
       ]
      },
      {
       "output_type": "stream",
       "stream": "stderr",
       "text": [
        "\r",
        "[ 47 %] elapsed[sec]: 0.100 | ETA[sec]: 0.110 "
       ]
      },
      {
       "output_type": "stream",
       "stream": "stderr",
       "text": [
        "\r",
        "[ 48 %] elapsed[sec]: 0.102 | ETA[sec]: 0.109 "
       ]
      },
      {
       "output_type": "stream",
       "stream": "stderr",
       "text": [
        "\r",
        "[ 49 %] elapsed[sec]: 0.104 | ETA[sec]: 0.107 "
       ]
      },
      {
       "output_type": "stream",
       "stream": "stderr",
       "text": [
        "\r",
        "[ 50 %] elapsed[sec]: 0.106 | ETA[sec]: 0.106 "
       ]
      },
      {
       "output_type": "stream",
       "stream": "stderr",
       "text": [
        "\r",
        "[ 50 %] elapsed[sec]: 0.107 | ETA[sec]: 0.104 "
       ]
      },
      {
       "output_type": "stream",
       "stream": "stderr",
       "text": [
        "\r",
        "[ 51 %] elapsed[sec]: 0.109 | ETA[sec]: 0.102 "
       ]
      },
      {
       "output_type": "stream",
       "stream": "stderr",
       "text": [
        "\r",
        "[ 52 %] elapsed[sec]: 0.111 | ETA[sec]: 0.101 "
       ]
      },
      {
       "output_type": "stream",
       "stream": "stderr",
       "text": [
        "\r",
        "[ 53 %] elapsed[sec]: 0.113 | ETA[sec]: 0.099 "
       ]
      },
      {
       "output_type": "stream",
       "stream": "stderr",
       "text": [
        "\r",
        "[ 53 %] elapsed[sec]: 0.115 | ETA[sec]: 0.098 "
       ]
      },
      {
       "output_type": "stream",
       "stream": "stderr",
       "text": [
        "\r",
        "[ 54 %] elapsed[sec]: 0.116 | ETA[sec]: 0.096 "
       ]
      },
      {
       "output_type": "stream",
       "stream": "stderr",
       "text": [
        "\r",
        "[ 55 %] elapsed[sec]: 0.117 | ETA[sec]: 0.094 "
       ]
      },
      {
       "output_type": "stream",
       "stream": "stderr",
       "text": [
        "\r",
        "[ 56 %] elapsed[sec]: 0.119 | ETA[sec]: 0.092 "
       ]
      },
      {
       "output_type": "stream",
       "stream": "stderr",
       "text": [
        "\r",
        "[ 57 %] elapsed[sec]: 0.120 | ETA[sec]: 0.090 "
       ]
      },
      {
       "output_type": "stream",
       "stream": "stderr",
       "text": [
        "\r",
        "[ 57 %] elapsed[sec]: 0.121 | ETA[sec]: 0.088 "
       ]
      },
      {
       "output_type": "stream",
       "stream": "stderr",
       "text": [
        "\r",
        "[ 58 %] elapsed[sec]: 0.123 | ETA[sec]: 0.087 "
       ]
      },
      {
       "output_type": "stream",
       "stream": "stderr",
       "text": [
        "\r",
        "[ 59 %] elapsed[sec]: 0.125 | ETA[sec]: 0.085 "
       ]
      },
      {
       "output_type": "stream",
       "stream": "stderr",
       "text": [
        "\r",
        "[ 60 %] elapsed[sec]: 0.126 | ETA[sec]: 0.084 "
       ]
      },
      {
       "output_type": "stream",
       "stream": "stderr",
       "text": [
        "\r",
        "[ 60 %] elapsed[sec]: 0.128 | ETA[sec]: 0.082 "
       ]
      },
      {
       "output_type": "stream",
       "stream": "stderr",
       "text": [
        "\r",
        "[ 61 %] elapsed[sec]: 0.130 | ETA[sec]: 0.081 "
       ]
      },
      {
       "output_type": "stream",
       "stream": "stderr",
       "text": [
        "\r",
        "[ 62 %] elapsed[sec]: 0.132 | ETA[sec]: 0.079 "
       ]
      },
      {
       "output_type": "stream",
       "stream": "stderr",
       "text": [
        "\r",
        "[ 63 %] elapsed[sec]: 0.133 | ETA[sec]: 0.077 "
       ]
      },
      {
       "output_type": "stream",
       "stream": "stderr",
       "text": [
        "\r",
        "[ 64 %] elapsed[sec]: 0.135 | ETA[sec]: 0.076 "
       ]
      },
      {
       "output_type": "stream",
       "stream": "stderr",
       "text": [
        "\r",
        "[ 64 %] elapsed[sec]: 0.137 | ETA[sec]: 0.074 "
       ]
      },
      {
       "output_type": "stream",
       "stream": "stderr",
       "text": [
        "\r",
        "[ 65 %] elapsed[sec]: 0.138 | ETA[sec]: 0.072 "
       ]
      },
      {
       "output_type": "stream",
       "stream": "stderr",
       "text": [
        "\r",
        "[ 66 %] elapsed[sec]: 0.139 | ETA[sec]: 0.071 "
       ]
      },
      {
       "output_type": "stream",
       "stream": "stderr",
       "text": [
        "\r",
        "[ 67 %] elapsed[sec]: 0.141 | ETA[sec]: 0.069 "
       ]
      },
      {
       "output_type": "stream",
       "stream": "stderr",
       "text": [
        "\r",
        "[ 67 %] elapsed[sec]: 0.142 | ETA[sec]: 0.067 "
       ]
      },
      {
       "output_type": "stream",
       "stream": "stderr",
       "text": [
        "\r",
        "[ 68 %] elapsed[sec]: 0.144 | ETA[sec]: 0.066 "
       ]
      },
      {
       "output_type": "stream",
       "stream": "stderr",
       "text": [
        "\r",
        "[ 69 %] elapsed[sec]: 0.146 | ETA[sec]: 0.064 "
       ]
      },
      {
       "output_type": "stream",
       "stream": "stderr",
       "text": [
        "\r",
        "[ 70 %] elapsed[sec]: 0.147 | ETA[sec]: 0.062 "
       ]
      },
      {
       "output_type": "stream",
       "stream": "stderr",
       "text": [
        "\r",
        "[ 71 %] elapsed[sec]: 0.149 | ETA[sec]: 0.060 "
       ]
      },
      {
       "output_type": "stream",
       "stream": "stderr",
       "text": [
        "\r",
        "[ 71 %] elapsed[sec]: 0.150 | ETA[sec]: 0.059 "
       ]
      },
      {
       "output_type": "stream",
       "stream": "stderr",
       "text": [
        "\r",
        "[ 72 %] elapsed[sec]: 0.151 | ETA[sec]: 0.057 "
       ]
      },
      {
       "output_type": "stream",
       "stream": "stderr",
       "text": [
        "\r",
        "[ 73 %] elapsed[sec]: 0.153 | ETA[sec]: 0.055 "
       ]
      },
      {
       "output_type": "stream",
       "stream": "stderr",
       "text": [
        "\r",
        "[ 74 %] elapsed[sec]: 0.154 | ETA[sec]: 0.054 "
       ]
      },
      {
       "output_type": "stream",
       "stream": "stderr",
       "text": [
        "\r",
        "[ 75 %] elapsed[sec]: 0.155 | ETA[sec]: 0.052 "
       ]
      },
      {
       "output_type": "stream",
       "stream": "stderr",
       "text": [
        "\r",
        "[ 75 %] elapsed[sec]: 0.157 | ETA[sec]: 0.050 "
       ]
      },
      {
       "output_type": "stream",
       "stream": "stderr",
       "text": [
        "\r",
        "[ 76 %] elapsed[sec]: 0.158 | ETA[sec]: 0.048 "
       ]
      },
      {
       "output_type": "stream",
       "stream": "stderr",
       "text": [
        "\r",
        "[ 77 %] elapsed[sec]: 0.160 | ETA[sec]: 0.047 "
       ]
      },
      {
       "output_type": "stream",
       "stream": "stderr",
       "text": [
        "\r",
        "[ 78 %] elapsed[sec]: 0.162 | ETA[sec]: 0.045 "
       ]
      },
      {
       "output_type": "stream",
       "stream": "stderr",
       "text": [
        "\r",
        "[ 78 %] elapsed[sec]: 0.165 | ETA[sec]: 0.044 "
       ]
      },
      {
       "output_type": "stream",
       "stream": "stderr",
       "text": [
        "\r",
        "[ 79 %] elapsed[sec]: 0.166 | ETA[sec]: 0.042 "
       ]
      },
      {
       "output_type": "stream",
       "stream": "stderr",
       "text": [
        "\r",
        "[ 80 %] elapsed[sec]: 0.168 | ETA[sec]: 0.041 "
       ]
      },
      {
       "output_type": "stream",
       "stream": "stderr",
       "text": [
        "\r",
        "[ 81 %] elapsed[sec]: 0.169 | ETA[sec]: 0.039 "
       ]
      },
      {
       "output_type": "stream",
       "stream": "stderr",
       "text": [
        "\r",
        "[ 82 %] elapsed[sec]: 0.171 | ETA[sec]: 0.037 "
       ]
      },
      {
       "output_type": "stream",
       "stream": "stderr",
       "text": [
        "\r",
        "[ 82 %] elapsed[sec]: 0.172 | ETA[sec]: 0.036 "
       ]
      },
      {
       "output_type": "stream",
       "stream": "stderr",
       "text": [
        "\r",
        "[ 83 %] elapsed[sec]: 0.173 | ETA[sec]: 0.034 "
       ]
      },
      {
       "output_type": "stream",
       "stream": "stderr",
       "text": [
        "\r",
        "[ 84 %] elapsed[sec]: 0.174 | ETA[sec]: 0.032 "
       ]
      },
      {
       "output_type": "stream",
       "stream": "stderr",
       "text": [
        "\r",
        "[ 85 %] elapsed[sec]: 0.177 | ETA[sec]: 0.031 "
       ]
      },
      {
       "output_type": "stream",
       "stream": "stderr",
       "text": [
        "\r",
        "[ 85 %] elapsed[sec]: 0.179 | ETA[sec]: 0.029 "
       ]
      },
      {
       "output_type": "stream",
       "stream": "stderr",
       "text": [
        "\r",
        "[ 86 %] elapsed[sec]: 0.181 | ETA[sec]: 0.028 "
       ]
      },
      {
       "output_type": "stream",
       "stream": "stderr",
       "text": [
        "\r",
        "[ 87 %] elapsed[sec]: 0.183 | ETA[sec]: 0.026 "
       ]
      },
      {
       "output_type": "stream",
       "stream": "stderr",
       "text": [
        "\r",
        "[ 88 %] elapsed[sec]: 0.185 | ETA[sec]: 0.025 "
       ]
      },
      {
       "output_type": "stream",
       "stream": "stderr",
       "text": [
        "\r",
        "[ 89 %] elapsed[sec]: 0.186 | ETA[sec]: 0.023 "
       ]
      },
      {
       "output_type": "stream",
       "stream": "stderr",
       "text": [
        "\r",
        "[ 89 %] elapsed[sec]: 0.188 | ETA[sec]: 0.021 "
       ]
      },
      {
       "output_type": "stream",
       "stream": "stderr",
       "text": [
        "\r",
        "[ 90 %] elapsed[sec]: 0.190 | ETA[sec]: 0.020 "
       ]
      },
      {
       "output_type": "stream",
       "stream": "stderr",
       "text": [
        "\r",
        "[ 91 %] elapsed[sec]: 0.192 | ETA[sec]: 0.018 "
       ]
      },
      {
       "output_type": "stream",
       "stream": "stderr",
       "text": [
        "\r",
        "[ 92 %] elapsed[sec]: 0.193 | ETA[sec]: 0.016 "
       ]
      },
      {
       "output_type": "stream",
       "stream": "stderr",
       "text": [
        "\r",
        "[ 92 %] elapsed[sec]: 0.195 | ETA[sec]: 0.015 "
       ]
      },
      {
       "output_type": "stream",
       "stream": "stderr",
       "text": [
        "\r",
        "[ 93 %] elapsed[sec]: 0.196 | ETA[sec]: 0.013 "
       ]
      },
      {
       "output_type": "stream",
       "stream": "stderr",
       "text": [
        "\r",
        "[ 94 %] elapsed[sec]: 0.198 | ETA[sec]: 0.011 "
       ]
      },
      {
       "output_type": "stream",
       "stream": "stderr",
       "text": [
        "\r",
        "[ 95 %] elapsed[sec]: 0.200 | ETA[sec]: 0.010 "
       ]
      },
      {
       "output_type": "stream",
       "stream": "stderr",
       "text": [
        "\r",
        "[ 96 %] elapsed[sec]: 0.202 | ETA[sec]: 0.008 "
       ]
      },
      {
       "output_type": "stream",
       "stream": "stderr",
       "text": [
        "\r",
        "[ 96 %] elapsed[sec]: 0.203 | ETA[sec]: 0.007 "
       ]
      },
      {
       "output_type": "stream",
       "stream": "stderr",
       "text": [
        "\r",
        "[ 97 %] elapsed[sec]: 0.205 | ETA[sec]: 0.005 "
       ]
      },
      {
       "output_type": "stream",
       "stream": "stderr",
       "text": [
        "\r",
        "[ 98 %] elapsed[sec]: 0.207 | ETA[sec]: 0.003 "
       ]
      },
      {
       "output_type": "stream",
       "stream": "stderr",
       "text": [
        "\r",
        "[ 99 %] elapsed[sec]: 0.209 | ETA[sec]: 0.002 "
       ]
      },
      {
       "output_type": "stream",
       "stream": "stderr",
       "text": [
        "\r",
        "[100 %] elapsed[sec]: 0.211"
       ]
      },
      {
       "output_type": "stream",
       "stream": "stdout",
       "text": [
        "\n",
        "Title: \n",
        "                      Started: 09/24/2014 16:10:12\n",
        "                      Finished: 09/24/2014 16:10:13\n",
        "                      Total time elapsed: 0.211 sec\n",
        "                      CPU %: 102.700000\n",
        "                      Memory %: 3.384995"
       ]
      },
      {
       "output_type": "stream",
       "stream": "stderr",
       "text": [
        "\n",
        "Total time elapsed: 0.211 sec\n",
        "\r",
        "[  0 %]"
       ]
      },
      {
       "output_type": "stream",
       "stream": "stderr",
       "text": [
        " elapsed[sec]: 0.000"
       ]
      },
      {
       "output_type": "stream",
       "stream": "stdout",
       "text": [
        "\n",
        "Saving sequence results/color-seed-123458.webm"
       ]
      },
      {
       "output_type": "stream",
       "stream": "stderr",
       "text": [
        "\r",
        "[  0 %] elapsed[sec]: 0.001"
       ]
      },
      {
       "output_type": "stream",
       "stream": "stderr",
       "text": [
        "\r",
        "[  1 %] elapsed[sec]: 0.002 | ETA[sec]: 0.154 "
       ]
      },
      {
       "output_type": "stream",
       "stream": "stderr",
       "text": [
        "\r",
        "[  2 %] elapsed[sec]: 0.004 | ETA[sec]: 0.157 "
       ]
      },
      {
       "output_type": "stream",
       "stream": "stderr",
       "text": [
        "\r",
        "[  3 %] elapsed[sec]: 0.005 | ETA[sec]: 0.157 "
       ]
      },
      {
       "output_type": "stream",
       "stream": "stderr",
       "text": [
        "\r",
        "[  3 %] elapsed[sec]: 0.006 | ETA[sec]: 0.158 "
       ]
      },
      {
       "output_type": "stream",
       "stream": "stderr",
       "text": [
        "\r",
        "[  4 %] elapsed[sec]: 0.008 | ETA[sec]: 0.158 "
       ]
      },
      {
       "output_type": "stream",
       "stream": "stderr",
       "text": [
        "\r",
        "[  5 %] elapsed[sec]: 0.009 | ETA[sec]: 0.157 "
       ]
      },
      {
       "output_type": "stream",
       "stream": "stderr",
       "text": [
        "\r",
        "[  6 %] elapsed[sec]: 0.010 | ETA[sec]: 0.156 "
       ]
      },
      {
       "output_type": "stream",
       "stream": "stderr",
       "text": [
        "\r",
        "[  7 %] elapsed[sec]: 0.013 | ETA[sec]: 0.166 "
       ]
      },
      {
       "output_type": "stream",
       "stream": "stderr",
       "text": [
        "\r",
        "[  7 %] elapsed[sec]: 0.015 | ETA[sec]: 0.176 "
       ]
      },
      {
       "output_type": "stream",
       "stream": "stderr",
       "text": [
        "\r",
        "[  8 %] elapsed[sec]: 0.017 | ETA[sec]: 0.184 "
       ]
      },
      {
       "output_type": "stream",
       "stream": "stderr",
       "text": [
        "\r",
        "[  9 %] elapsed[sec]: 0.020 | ETA[sec]: 0.189 "
       ]
      },
      {
       "output_type": "stream",
       "stream": "stderr",
       "text": [
        "\r",
        "[ 10 %] elapsed[sec]: 0.022 | ETA[sec]: 0.193 "
       ]
      },
      {
       "output_type": "stream",
       "stream": "stderr",
       "text": [
        "\r",
        "[ 10 %] elapsed[sec]: 0.023 | ETA[sec]: 0.190 "
       ]
      },
      {
       "output_type": "stream",
       "stream": "stderr",
       "text": [
        "\r",
        "[ 11 %] elapsed[sec]: 0.025 | ETA[sec]: 0.188 "
       ]
      },
      {
       "output_type": "stream",
       "stream": "stderr",
       "text": [
        "\r",
        "[ 12 %] elapsed[sec]: 0.026 | ETA[sec]: 0.184 "
       ]
      },
      {
       "output_type": "stream",
       "stream": "stderr",
       "text": [
        "\r",
        "[ 13 %] elapsed[sec]: 0.028 | ETA[sec]: 0.180 "
       ]
      },
      {
       "output_type": "stream",
       "stream": "stderr",
       "text": [
        "\r",
        "[ 14 %] elapsed[sec]: 0.029 | ETA[sec]: 0.176 "
       ]
      },
      {
       "output_type": "stream",
       "stream": "stderr",
       "text": [
        "\r",
        "[ 14 %] elapsed[sec]: 0.030 | ETA[sec]: 0.173 "
       ]
      },
      {
       "output_type": "stream",
       "stream": "stderr",
       "text": [
        "\r",
        "[ 15 %] elapsed[sec]: 0.032 | ETA[sec]: 0.170 "
       ]
      },
      {
       "output_type": "stream",
       "stream": "stderr",
       "text": [
        "\r",
        "[ 16 %] elapsed[sec]: 0.033 | ETA[sec]: 0.170 "
       ]
      },
      {
       "output_type": "stream",
       "stream": "stderr",
       "text": [
        "\r",
        "[ 17 %] elapsed[sec]: 0.035 | ETA[sec]: 0.170 "
       ]
      },
      {
       "output_type": "stream",
       "stream": "stderr",
       "text": [
        "\r",
        "[ 17 %] elapsed[sec]: 0.037 | ETA[sec]: 0.167 "
       ]
      },
      {
       "output_type": "stream",
       "stream": "stderr",
       "text": [
        "\r",
        "[ 18 %] elapsed[sec]: 0.038 | ETA[sec]: 0.164 "
       ]
      },
      {
       "output_type": "stream",
       "stream": "stderr",
       "text": [
        "\r",
        "[ 19 %] elapsed[sec]: 0.039 | ETA[sec]: 0.161 "
       ]
      },
      {
       "output_type": "stream",
       "stream": "stderr",
       "text": [
        "\r",
        "[ 20 %] elapsed[sec]: 0.040 | ETA[sec]: 0.158 "
       ]
      },
      {
       "output_type": "stream",
       "stream": "stderr",
       "text": [
        "\r",
        "[ 21 %] elapsed[sec]: 0.042 | ETA[sec]: 0.155 "
       ]
      },
      {
       "output_type": "stream",
       "stream": "stderr",
       "text": [
        "\r",
        "[ 21 %] elapsed[sec]: 0.043 | ETA[sec]: 0.153 "
       ]
      },
      {
       "output_type": "stream",
       "stream": "stderr",
       "text": [
        "\r",
        "[ 22 %] elapsed[sec]: 0.044 | ETA[sec]: 0.151 "
       ]
      },
      {
       "output_type": "stream",
       "stream": "stderr",
       "text": [
        "\r",
        "[ 23 %] elapsed[sec]: 0.046 | ETA[sec]: 0.149 "
       ]
      },
      {
       "output_type": "stream",
       "stream": "stderr",
       "text": [
        "\r",
        "[ 24 %] elapsed[sec]: 0.047 | ETA[sec]: 0.146 "
       ]
      },
      {
       "output_type": "stream",
       "stream": "stderr",
       "text": [
        "\r",
        "[ 25 %] elapsed[sec]: 0.048 | ETA[sec]: 0.144 "
       ]
      },
      {
       "output_type": "stream",
       "stream": "stderr",
       "text": [
        "\r",
        "[ 25 %] elapsed[sec]: 0.049 | ETA[sec]: 0.142 "
       ]
      },
      {
       "output_type": "stream",
       "stream": "stderr",
       "text": [
        "\r",
        "[ 26 %] elapsed[sec]: 0.051 | ETA[sec]: 0.140 "
       ]
      },
      {
       "output_type": "stream",
       "stream": "stderr",
       "text": [
        "\r",
        "[ 27 %] elapsed[sec]: 0.052 | ETA[sec]: 0.139 "
       ]
      },
      {
       "output_type": "stream",
       "stream": "stderr",
       "text": [
        "\r",
        "[ 28 %] elapsed[sec]: 0.054 | ETA[sec]: 0.138 "
       ]
      },
      {
       "output_type": "stream",
       "stream": "stderr",
       "text": [
        "\r",
        "[ 28 %] elapsed[sec]: 0.056 | ETA[sec]: 0.138 "
       ]
      },
      {
       "output_type": "stream",
       "stream": "stderr",
       "text": [
        "\r",
        "[ 29 %] elapsed[sec]: 0.057 | ETA[sec]: 0.136 "
       ]
      },
      {
       "output_type": "stream",
       "stream": "stderr",
       "text": [
        "\r",
        "[ 30 %] elapsed[sec]: 0.059 | ETA[sec]: 0.134 "
       ]
      },
      {
       "output_type": "stream",
       "stream": "stderr",
       "text": [
        "\r",
        "[ 31 %] elapsed[sec]: 0.060 | ETA[sec]: 0.132 "
       ]
      },
      {
       "output_type": "stream",
       "stream": "stderr",
       "text": [
        "\r",
        "[ 32 %] elapsed[sec]: 0.061 | ETA[sec]: 0.130 "
       ]
      },
      {
       "output_type": "stream",
       "stream": "stderr",
       "text": [
        "\r",
        "[ 32 %] elapsed[sec]: 0.063 | ETA[sec]: 0.128 "
       ]
      },
      {
       "output_type": "stream",
       "stream": "stderr",
       "text": [
        "\r",
        "[ 33 %] elapsed[sec]: 0.064 | ETA[sec]: 0.127 "
       ]
      },
      {
       "output_type": "stream",
       "stream": "stderr",
       "text": [
        "\r",
        "[ 34 %] elapsed[sec]: 0.065 | ETA[sec]: 0.125 "
       ]
      },
      {
       "output_type": "stream",
       "stream": "stderr",
       "text": [
        "\r",
        "[ 35 %] elapsed[sec]: 0.067 | ETA[sec]: 0.123 "
       ]
      },
      {
       "output_type": "stream",
       "stream": "stderr",
       "text": [
        "\r",
        "[ 35 %] elapsed[sec]: 0.068 | ETA[sec]: 0.122 "
       ]
      },
      {
       "output_type": "stream",
       "stream": "stderr",
       "text": [
        "\r",
        "[ 36 %] elapsed[sec]: 0.070 | ETA[sec]: 0.120 "
       ]
      },
      {
       "output_type": "stream",
       "stream": "stderr",
       "text": [
        "\r",
        "[ 37 %] elapsed[sec]: 0.071 | ETA[sec]: 0.118 "
       ]
      },
      {
       "output_type": "stream",
       "stream": "stderr",
       "text": [
        "\r",
        "[ 38 %] elapsed[sec]: 0.072 | ETA[sec]: 0.117 "
       ]
      },
      {
       "output_type": "stream",
       "stream": "stderr",
       "text": [
        "\r",
        "[ 39 %] elapsed[sec]: 0.074 | ETA[sec]: 0.115 "
       ]
      },
      {
       "output_type": "stream",
       "stream": "stderr",
       "text": [
        "\r",
        "[ 39 %] elapsed[sec]: 0.076 | ETA[sec]: 0.114 "
       ]
      },
      {
       "output_type": "stream",
       "stream": "stderr",
       "text": [
        "\r",
        "[ 40 %] elapsed[sec]: 0.078 | ETA[sec]: 0.113 "
       ]
      },
      {
       "output_type": "stream",
       "stream": "stderr",
       "text": [
        "\r",
        "[ 41 %] elapsed[sec]: 0.079 | ETA[sec]: 0.112 "
       ]
      },
      {
       "output_type": "stream",
       "stream": "stderr",
       "text": [
        "\r",
        "[ 42 %] elapsed[sec]: 0.080 | ETA[sec]: 0.110 "
       ]
      },
      {
       "output_type": "stream",
       "stream": "stderr",
       "text": [
        "\r",
        "[ 42 %] elapsed[sec]: 0.082 | ETA[sec]: 0.108 "
       ]
      },
      {
       "output_type": "stream",
       "stream": "stderr",
       "text": [
        "\r",
        "[ 43 %] elapsed[sec]: 0.083 | ETA[sec]: 0.107 "
       ]
      },
      {
       "output_type": "stream",
       "stream": "stderr",
       "text": [
        "\r",
        "[ 44 %] elapsed[sec]: 0.084 | ETA[sec]: 0.105 "
       ]
      },
      {
       "output_type": "stream",
       "stream": "stderr",
       "text": [
        "\r",
        "[ 45 %] elapsed[sec]: 0.086 | ETA[sec]: 0.104 "
       ]
      },
      {
       "output_type": "stream",
       "stream": "stderr",
       "text": [
        "\r",
        "[ 46 %] elapsed[sec]: 0.088 | ETA[sec]: 0.103 "
       ]
      },
      {
       "output_type": "stream",
       "stream": "stderr",
       "text": [
        "\r",
        "[ 46 %] elapsed[sec]: 0.090 | ETA[sec]: 0.102 "
       ]
      },
      {
       "output_type": "stream",
       "stream": "stderr",
       "text": [
        "\r",
        "[ 47 %] elapsed[sec]: 0.093 | ETA[sec]: 0.102 "
       ]
      },
      {
       "output_type": "stream",
       "stream": "stderr",
       "text": [
        "\r",
        "[ 48 %] elapsed[sec]: 0.095 | ETA[sec]: 0.101 "
       ]
      },
      {
       "output_type": "stream",
       "stream": "stderr",
       "text": [
        "\r",
        "[ 49 %] elapsed[sec]: 0.097 | ETA[sec]: 0.100 "
       ]
      },
      {
       "output_type": "stream",
       "stream": "stderr",
       "text": [
        "\r",
        "[ 50 %] elapsed[sec]: 0.098 | ETA[sec]: 0.098 "
       ]
      },
      {
       "output_type": "stream",
       "stream": "stderr",
       "text": [
        "\r",
        "[ 50 %] elapsed[sec]: 0.100 | ETA[sec]: 0.097 "
       ]
      },
      {
       "output_type": "stream",
       "stream": "stderr",
       "text": [
        "\r",
        "[ 51 %] elapsed[sec]: 0.102 | ETA[sec]: 0.096 "
       ]
      },
      {
       "output_type": "stream",
       "stream": "stderr",
       "text": [
        "\r",
        "[ 52 %] elapsed[sec]: 0.104 | ETA[sec]: 0.095 "
       ]
      },
      {
       "output_type": "stream",
       "stream": "stderr",
       "text": [
        "\r",
        "[ 53 %] elapsed[sec]: 0.106 | ETA[sec]: 0.093 "
       ]
      },
      {
       "output_type": "stream",
       "stream": "stderr",
       "text": [
        "\r",
        "[ 53 %] elapsed[sec]: 0.107 | ETA[sec]: 0.092 "
       ]
      },
      {
       "output_type": "stream",
       "stream": "stderr",
       "text": [
        "\r",
        "[ 54 %] elapsed[sec]: 0.109 | ETA[sec]: 0.091 "
       ]
      },
      {
       "output_type": "stream",
       "stream": "stderr",
       "text": [
        "\r",
        "[ 55 %] elapsed[sec]: 0.111 | ETA[sec]: 0.089 "
       ]
      },
      {
       "output_type": "stream",
       "stream": "stderr",
       "text": [
        "\r",
        "[ 56 %] elapsed[sec]: 0.113 | ETA[sec]: 0.088 "
       ]
      },
      {
       "output_type": "stream",
       "stream": "stderr",
       "text": [
        "\r",
        "[ 57 %] elapsed[sec]: 0.114 | ETA[sec]: 0.086 "
       ]
      },
      {
       "output_type": "stream",
       "stream": "stderr",
       "text": [
        "\r",
        "[ 57 %] elapsed[sec]: 0.116 | ETA[sec]: 0.084 "
       ]
      },
      {
       "output_type": "stream",
       "stream": "stderr",
       "text": [
        "\r",
        "[ 58 %] elapsed[sec]: 0.117 | ETA[sec]: 0.083 "
       ]
      },
      {
       "output_type": "stream",
       "stream": "stderr",
       "text": [
        "\r",
        "[ 59 %] elapsed[sec]: 0.118 | ETA[sec]: 0.081 "
       ]
      },
      {
       "output_type": "stream",
       "stream": "stderr",
       "text": [
        "\r",
        "[ 60 %] elapsed[sec]: 0.120 | ETA[sec]: 0.079 "
       ]
      },
      {
       "output_type": "stream",
       "stream": "stderr",
       "text": [
        "\r",
        "[ 60 %] elapsed[sec]: 0.121 | ETA[sec]: 0.078 "
       ]
      },
      {
       "output_type": "stream",
       "stream": "stderr",
       "text": [
        "\r",
        "[ 61 %] elapsed[sec]: 0.123 | ETA[sec]: 0.076 "
       ]
      },
      {
       "output_type": "stream",
       "stream": "stderr",
       "text": [
        "\r",
        "[ 62 %] elapsed[sec]: 0.124 | ETA[sec]: 0.075 "
       ]
      },
      {
       "output_type": "stream",
       "stream": "stderr",
       "text": [
        "\r",
        "[ 63 %] elapsed[sec]: 0.126 | ETA[sec]: 0.073 "
       ]
      },
      {
       "output_type": "stream",
       "stream": "stderr",
       "text": [
        "\r",
        "[ 64 %] elapsed[sec]: 0.127 | ETA[sec]: 0.071 "
       ]
      },
      {
       "output_type": "stream",
       "stream": "stderr",
       "text": [
        "\r",
        "[ 64 %] elapsed[sec]: 0.128 | ETA[sec]: 0.070 "
       ]
      },
      {
       "output_type": "stream",
       "stream": "stderr",
       "text": [
        "\r",
        "[ 65 %] elapsed[sec]: 0.130 | ETA[sec]: 0.068 "
       ]
      },
      {
       "output_type": "stream",
       "stream": "stderr",
       "text": [
        "\r",
        "[ 66 %] elapsed[sec]: 0.132 | ETA[sec]: 0.067 "
       ]
      },
      {
       "output_type": "stream",
       "stream": "stderr",
       "text": [
        "\r",
        "[ 67 %] elapsed[sec]: 0.133 | ETA[sec]: 0.065 "
       ]
      },
      {
       "output_type": "stream",
       "stream": "stderr",
       "text": [
        "\r",
        "[ 67 %] elapsed[sec]: 0.134 | ETA[sec]: 0.063 "
       ]
      },
      {
       "output_type": "stream",
       "stream": "stderr",
       "text": [
        "\r",
        "[ 68 %] elapsed[sec]: 0.136 | ETA[sec]: 0.062 "
       ]
      },
      {
       "output_type": "stream",
       "stream": "stderr",
       "text": [
        "\r",
        "[ 69 %] elapsed[sec]: 0.137 | ETA[sec]: 0.060 "
       ]
      },
      {
       "output_type": "stream",
       "stream": "stderr",
       "text": [
        "\r",
        "[ 70 %] elapsed[sec]: 0.139 | ETA[sec]: 0.059 "
       ]
      },
      {
       "output_type": "stream",
       "stream": "stderr",
       "text": [
        "\r",
        "[ 71 %] elapsed[sec]: 0.140 | ETA[sec]: 0.057 "
       ]
      },
      {
       "output_type": "stream",
       "stream": "stderr",
       "text": [
        "\r",
        "[ 71 %] elapsed[sec]: 0.142 | ETA[sec]: 0.056 "
       ]
      },
      {
       "output_type": "stream",
       "stream": "stderr",
       "text": [
        "\r",
        "[ 72 %] elapsed[sec]: 0.144 | ETA[sec]: 0.054 "
       ]
      },
      {
       "output_type": "stream",
       "stream": "stderr",
       "text": [
        "\r",
        "[ 73 %] elapsed[sec]: 0.145 | ETA[sec]: 0.053 "
       ]
      },
      {
       "output_type": "stream",
       "stream": "stderr",
       "text": [
        "\r",
        "[ 74 %] elapsed[sec]: 0.147 | ETA[sec]: 0.051 "
       ]
      },
      {
       "output_type": "stream",
       "stream": "stderr",
       "text": [
        "\r",
        "[ 75 %] elapsed[sec]: 0.148 | ETA[sec]: 0.049 "
       ]
      },
      {
       "output_type": "stream",
       "stream": "stderr",
       "text": [
        "\r",
        "[ 75 %] elapsed[sec]: 0.149 | ETA[sec]: 0.048 "
       ]
      },
      {
       "output_type": "stream",
       "stream": "stderr",
       "text": [
        "\r",
        "[ 76 %] elapsed[sec]: 0.151 | ETA[sec]: 0.046 "
       ]
      },
      {
       "output_type": "stream",
       "stream": "stderr",
       "text": [
        "\r",
        "[ 77 %] elapsed[sec]: 0.152 | ETA[sec]: 0.045 "
       ]
      },
      {
       "output_type": "stream",
       "stream": "stderr",
       "text": [
        "\r",
        "[ 78 %] elapsed[sec]: 0.155 | ETA[sec]: 0.043 "
       ]
      },
      {
       "output_type": "stream",
       "stream": "stderr",
       "text": [
        "\r",
        "[ 78 %] elapsed[sec]: 0.157 | ETA[sec]: 0.042 "
       ]
      },
      {
       "output_type": "stream",
       "stream": "stderr",
       "text": [
        "\r",
        "[ 79 %] elapsed[sec]: 0.159 | ETA[sec]: 0.040 "
       ]
      },
      {
       "output_type": "stream",
       "stream": "stderr",
       "text": [
        "\r",
        "[ 80 %] elapsed[sec]: 0.161 | ETA[sec]: 0.039 "
       ]
      },
      {
       "output_type": "stream",
       "stream": "stderr",
       "text": [
        "\r",
        "[ 81 %] elapsed[sec]: 0.163 | ETA[sec]: 0.038 "
       ]
      },
      {
       "output_type": "stream",
       "stream": "stderr",
       "text": [
        "\r",
        "[ 82 %] elapsed[sec]: 0.165 | ETA[sec]: 0.036 "
       ]
      },
      {
       "output_type": "stream",
       "stream": "stderr",
       "text": [
        "\r",
        "[ 82 %] elapsed[sec]: 0.167 | ETA[sec]: 0.035 "
       ]
      },
      {
       "output_type": "stream",
       "stream": "stderr",
       "text": [
        "\r",
        "[ 83 %] elapsed[sec]: 0.169 | ETA[sec]: 0.033 "
       ]
      },
      {
       "output_type": "stream",
       "stream": "stderr",
       "text": [
        "\r",
        "[ 84 %] elapsed[sec]: 0.170 | ETA[sec]: 0.031 "
       ]
      },
      {
       "output_type": "stream",
       "stream": "stderr",
       "text": [
        "\r",
        "[ 85 %] elapsed[sec]: 0.171 | ETA[sec]: 0.030 "
       ]
      },
      {
       "output_type": "stream",
       "stream": "stderr",
       "text": [
        "\r",
        "[ 85 %] elapsed[sec]: 0.173 | ETA[sec]: 0.028 "
       ]
      },
      {
       "output_type": "stream",
       "stream": "stderr",
       "text": [
        "\r",
        "[ 86 %] elapsed[sec]: 0.174 | ETA[sec]: 0.027 "
       ]
      },
      {
       "output_type": "stream",
       "stream": "stderr",
       "text": [
        "\r",
        "[ 87 %] elapsed[sec]: 0.176 | ETA[sec]: 0.025 "
       ]
      },
      {
       "output_type": "stream",
       "stream": "stderr",
       "text": [
        "\r",
        "[ 88 %] elapsed[sec]: 0.178 | ETA[sec]: 0.024 "
       ]
      },
      {
       "output_type": "stream",
       "stream": "stderr",
       "text": [
        "\r",
        "[ 89 %] elapsed[sec]: 0.180 | ETA[sec]: 0.022 "
       ]
      },
      {
       "output_type": "stream",
       "stream": "stderr",
       "text": [
        "\r",
        "[ 89 %] elapsed[sec]: 0.181 | ETA[sec]: 0.021 "
       ]
      },
      {
       "output_type": "stream",
       "stream": "stderr",
       "text": [
        "\r",
        "[ 90 %] elapsed[sec]: 0.183 | ETA[sec]: 0.019 "
       ]
      },
      {
       "output_type": "stream",
       "stream": "stderr",
       "text": [
        "\r",
        "[ 91 %] elapsed[sec]: 0.185 | ETA[sec]: 0.017 "
       ]
      },
      {
       "output_type": "stream",
       "stream": "stderr",
       "text": [
        "\r",
        "[ 92 %] elapsed[sec]: 0.187 | ETA[sec]: 0.016 "
       ]
      },
      {
       "output_type": "stream",
       "stream": "stderr",
       "text": [
        "\r",
        "[ 92 %] elapsed[sec]: 0.188 | ETA[sec]: 0.014 "
       ]
      },
      {
       "output_type": "stream",
       "stream": "stderr",
       "text": [
        "\r",
        "[ 93 %] elapsed[sec]: 0.190 | ETA[sec]: 0.013 "
       ]
      },
      {
       "output_type": "stream",
       "stream": "stderr",
       "text": [
        "\r",
        "[ 94 %] elapsed[sec]: 0.191 | ETA[sec]: 0.011 "
       ]
      },
      {
       "output_type": "stream",
       "stream": "stderr",
       "text": [
        "\r",
        "[ 95 %] elapsed[sec]: 0.192 | ETA[sec]: 0.009 "
       ]
      },
      {
       "output_type": "stream",
       "stream": "stderr",
       "text": [
        "\r",
        "[ 96 %] elapsed[sec]: 0.193 | ETA[sec]: 0.008 "
       ]
      },
      {
       "output_type": "stream",
       "stream": "stderr",
       "text": [
        "\r",
        "[ 96 %] elapsed[sec]: 0.195 | ETA[sec]: 0.006 "
       ]
      },
      {
       "output_type": "stream",
       "stream": "stderr",
       "text": [
        "\r",
        "[ 97 %] elapsed[sec]: 0.197 | ETA[sec]: 0.005 "
       ]
      },
      {
       "output_type": "stream",
       "stream": "stderr",
       "text": [
        "\r",
        "[ 98 %] elapsed[sec]: 0.199 | ETA[sec]: 0.003 "
       ]
      },
      {
       "output_type": "stream",
       "stream": "stderr",
       "text": [
        "\r",
        "[ 99 %] elapsed[sec]: 0.200 | ETA[sec]: 0.002 "
       ]
      },
      {
       "output_type": "stream",
       "stream": "stderr",
       "text": [
        "\r",
        "[100 %] elapsed[sec]: 0.201"
       ]
      },
      {
       "output_type": "stream",
       "stream": "stdout",
       "text": [
        "\n",
        "Title: \n",
        "                      Started: 09/24/2014 16:10:13\n",
        "                      Finished: 09/24/2014 16:10:13\n",
        "                      Total time elapsed: 0.201 sec\n",
        "                      CPU %: 103.000000\n",
        "                      Memory %: 3.385019"
       ]
      },
      {
       "output_type": "stream",
       "stream": "stderr",
       "text": [
        "\n",
        "Total time elapsed: 0.201 sec\n",
        "\r",
        "[  0 %]"
       ]
      },
      {
       "output_type": "stream",
       "stream": "stderr",
       "text": [
        " elapsed[sec]: 0.000"
       ]
      },
      {
       "output_type": "stream",
       "stream": "stdout",
       "text": [
        "\n",
        "Saving sequence results/color-seed-123459.webm"
       ]
      },
      {
       "output_type": "stream",
       "stream": "stderr",
       "text": [
        "\r",
        "[  0 %] elapsed[sec]: 0.001 | ETA[sec]: 0.139 "
       ]
      },
      {
       "output_type": "stream",
       "stream": "stderr",
       "text": [
        "\r",
        "[  1 %] elapsed[sec]: 0.006 | ETA[sec]: 0.381 "
       ]
      },
      {
       "output_type": "stream",
       "stream": "stderr",
       "text": [
        "\r",
        "[  2 %] elapsed[sec]: 0.008 | ETA[sec]: 0.354 "
       ]
      },
      {
       "output_type": "stream",
       "stream": "stderr",
       "text": [
        "\r",
        "[  3 %] elapsed[sec]: 0.011 | ETA[sec]: 0.334 "
       ]
      },
      {
       "output_type": "stream",
       "stream": "stderr",
       "text": [
        "\r",
        "[  3 %] elapsed[sec]: 0.013 | ETA[sec]: 0.317 "
       ]
      },
      {
       "output_type": "stream",
       "stream": "stderr",
       "text": [
        "\r",
        "[  4 %] elapsed[sec]: 0.014 | ETA[sec]: 0.292 "
       ]
      },
      {
       "output_type": "stream",
       "stream": "stderr",
       "text": [
        "\r",
        "[  5 %] elapsed[sec]: 0.016 | ETA[sec]: 0.271 "
       ]
      },
      {
       "output_type": "stream",
       "stream": "stderr",
       "text": [
        "\r",
        "[  6 %] elapsed[sec]: 0.017 | ETA[sec]: 0.259 "
       ]
      },
      {
       "output_type": "stream",
       "stream": "stderr",
       "text": [
        "\r",
        "[  7 %] elapsed[sec]: 0.019 | ETA[sec]: 0.247 "
       ]
      },
      {
       "output_type": "stream",
       "stream": "stderr",
       "text": [
        "\r",
        "[  7 %] elapsed[sec]: 0.020 | ETA[sec]: 0.237 "
       ]
      },
      {
       "output_type": "stream",
       "stream": "stderr",
       "text": [
        "\r",
        "[  8 %] elapsed[sec]: 0.021 | ETA[sec]: 0.227 "
       ]
      },
      {
       "output_type": "stream",
       "stream": "stderr",
       "text": [
        "\r",
        "[  9 %] elapsed[sec]: 0.023 | ETA[sec]: 0.224 "
       ]
      },
      {
       "output_type": "stream",
       "stream": "stderr",
       "text": [
        "\r",
        "[ 10 %] elapsed[sec]: 0.026 | ETA[sec]: 0.227 "
       ]
      },
      {
       "output_type": "stream",
       "stream": "stderr",
       "text": [
        "\r",
        "[ 10 %] elapsed[sec]: 0.028 | ETA[sec]: 0.228 "
       ]
      },
      {
       "output_type": "stream",
       "stream": "stderr",
       "text": [
        "\r",
        "[ 11 %] elapsed[sec]: 0.030 | ETA[sec]: 0.227 "
       ]
      },
      {
       "output_type": "stream",
       "stream": "stderr",
       "text": [
        "\r",
        "[ 12 %] elapsed[sec]: 0.032 | ETA[sec]: 0.221 "
       ]
      },
      {
       "output_type": "stream",
       "stream": "stderr",
       "text": [
        "\r",
        "[ 13 %] elapsed[sec]: 0.033 | ETA[sec]: 0.216 "
       ]
      },
      {
       "output_type": "stream",
       "stream": "stderr",
       "text": [
        "\r",
        "[ 14 %] elapsed[sec]: 0.035 | ETA[sec]: 0.213 "
       ]
      },
      {
       "output_type": "stream",
       "stream": "stderr",
       "text": [
        "\r",
        "[ 14 %] elapsed[sec]: 0.036 | ETA[sec]: 0.208 "
       ]
      },
      {
       "output_type": "stream",
       "stream": "stderr",
       "text": [
        "\r",
        "[ 15 %] elapsed[sec]: 0.038 | ETA[sec]: 0.204 "
       ]
      },
      {
       "output_type": "stream",
       "stream": "stderr",
       "text": [
        "\r",
        "[ 16 %] elapsed[sec]: 0.039 | ETA[sec]: 0.200 "
       ]
      },
      {
       "output_type": "stream",
       "stream": "stderr",
       "text": [
        "\r",
        "[ 17 %] elapsed[sec]: 0.041 | ETA[sec]: 0.197 "
       ]
      },
      {
       "output_type": "stream",
       "stream": "stderr",
       "text": [
        "\r",
        "[ 17 %] elapsed[sec]: 0.042 | ETA[sec]: 0.193 "
       ]
      },
      {
       "output_type": "stream",
       "stream": "stderr",
       "text": [
        "\r",
        "[ 18 %] elapsed[sec]: 0.044 | ETA[sec]: 0.189 "
       ]
      },
      {
       "output_type": "stream",
       "stream": "stderr",
       "text": [
        "\r",
        "[ 19 %] elapsed[sec]: 0.045 | ETA[sec]: 0.186 "
       ]
      },
      {
       "output_type": "stream",
       "stream": "stderr",
       "text": [
        "\r",
        "[ 20 %] elapsed[sec]: 0.046 | ETA[sec]: 0.182 "
       ]
      },
      {
       "output_type": "stream",
       "stream": "stderr",
       "text": [
        "\r",
        "[ 21 %] elapsed[sec]: 0.048 | ETA[sec]: 0.178 "
       ]
      },
      {
       "output_type": "stream",
       "stream": "stderr",
       "text": [
        "\r",
        "[ 21 %] elapsed[sec]: 0.049 | ETA[sec]: 0.175 "
       ]
      },
      {
       "output_type": "stream",
       "stream": "stderr",
       "text": [
        "\r",
        "[ 22 %] elapsed[sec]: 0.050 | ETA[sec]: 0.171 "
       ]
      },
      {
       "output_type": "stream",
       "stream": "stderr",
       "text": [
        "\r",
        "[ 23 %] elapsed[sec]: 0.051 | ETA[sec]: 0.168 "
       ]
      },
      {
       "output_type": "stream",
       "stream": "stderr",
       "text": [
        "\r",
        "[ 24 %] elapsed[sec]: 0.053 | ETA[sec]: 0.165 "
       ]
      },
      {
       "output_type": "stream",
       "stream": "stderr",
       "text": [
        "\r",
        "[ 25 %] elapsed[sec]: 0.054 | ETA[sec]: 0.162 "
       ]
      },
      {
       "output_type": "stream",
       "stream": "stderr",
       "text": [
        "\r",
        "[ 25 %] elapsed[sec]: 0.055 | ETA[sec]: 0.159 "
       ]
      },
      {
       "output_type": "stream",
       "stream": "stderr",
       "text": [
        "\r",
        "[ 26 %] elapsed[sec]: 0.057 | ETA[sec]: 0.157 "
       ]
      },
      {
       "output_type": "stream",
       "stream": "stderr",
       "text": [
        "\r",
        "[ 27 %] elapsed[sec]: 0.058 | ETA[sec]: 0.155 "
       ]
      },
      {
       "output_type": "stream",
       "stream": "stderr",
       "text": [
        "\r",
        "[ 28 %] elapsed[sec]: 0.060 | ETA[sec]: 0.152 "
       ]
      },
      {
       "output_type": "stream",
       "stream": "stderr",
       "text": [
        "\r",
        "[ 28 %] elapsed[sec]: 0.061 | ETA[sec]: 0.150 "
       ]
      },
      {
       "output_type": "stream",
       "stream": "stderr",
       "text": [
        "\r",
        "[ 29 %] elapsed[sec]: 0.062 | ETA[sec]: 0.148 "
       ]
      },
      {
       "output_type": "stream",
       "stream": "stderr",
       "text": [
        "\r",
        "[ 30 %] elapsed[sec]: 0.064 | ETA[sec]: 0.147 "
       ]
      },
      {
       "output_type": "stream",
       "stream": "stderr",
       "text": [
        "\r",
        "[ 31 %] elapsed[sec]: 0.066 | ETA[sec]: 0.145 "
       ]
      },
      {
       "output_type": "stream",
       "stream": "stderr",
       "text": [
        "\r",
        "[ 32 %] elapsed[sec]: 0.068 | ETA[sec]: 0.145 "
       ]
      },
      {
       "output_type": "stream",
       "stream": "stderr",
       "text": [
        "\r",
        "[ 32 %] elapsed[sec]: 0.071 | ETA[sec]: 0.144 "
       ]
      },
      {
       "output_type": "stream",
       "stream": "stderr",
       "text": [
        "\r",
        "[ 33 %] elapsed[sec]: 0.073 | ETA[sec]: 0.144 "
       ]
      },
      {
       "output_type": "stream",
       "stream": "stderr",
       "text": [
        "\r",
        "[ 34 %] elapsed[sec]: 0.075 | ETA[sec]: 0.143 "
       ]
      },
      {
       "output_type": "stream",
       "stream": "stderr",
       "text": [
        "\r",
        "[ 35 %] elapsed[sec]: 0.077 | ETA[sec]: 0.142 "
       ]
      },
      {
       "output_type": "stream",
       "stream": "stderr",
       "text": [
        "\r",
        "[ 35 %] elapsed[sec]: 0.079 | ETA[sec]: 0.140 "
       ]
      },
      {
       "output_type": "stream",
       "stream": "stderr",
       "text": [
        "\r",
        "[ 36 %] elapsed[sec]: 0.080 | ETA[sec]: 0.139 "
       ]
      },
      {
       "output_type": "stream",
       "stream": "stderr",
       "text": [
        "\r",
        "[ 37 %] elapsed[sec]: 0.082 | ETA[sec]: 0.137 "
       ]
      },
      {
       "output_type": "stream",
       "stream": "stderr",
       "text": [
        "\r",
        "[ 38 %] elapsed[sec]: 0.084 | ETA[sec]: 0.135 "
       ]
      },
      {
       "output_type": "stream",
       "stream": "stderr",
       "text": [
        "\r",
        "[ 39 %] elapsed[sec]: 0.086 | ETA[sec]: 0.134 "
       ]
      },
      {
       "output_type": "stream",
       "stream": "stderr",
       "text": [
        "\r",
        "[ 39 %] elapsed[sec]: 0.087 | ETA[sec]: 0.132 "
       ]
      },
      {
       "output_type": "stream",
       "stream": "stderr",
       "text": [
        "\r",
        "[ 40 %] elapsed[sec]: 0.089 | ETA[sec]: 0.131 "
       ]
      },
      {
       "output_type": "stream",
       "stream": "stderr",
       "text": [
        "\r",
        "[ 41 %] elapsed[sec]: 0.091 | ETA[sec]: 0.128 "
       ]
      },
      {
       "output_type": "stream",
       "stream": "stderr",
       "text": [
        "\r",
        "[ 42 %] elapsed[sec]: 0.093 | ETA[sec]: 0.127 "
       ]
      },
      {
       "output_type": "stream",
       "stream": "stderr",
       "text": [
        "\r",
        "[ 42 %] elapsed[sec]: 0.094 | ETA[sec]: 0.125 "
       ]
      },
      {
       "output_type": "stream",
       "stream": "stderr",
       "text": [
        "\r",
        "[ 43 %] elapsed[sec]: 0.096 | ETA[sec]: 0.123 "
       ]
      },
      {
       "output_type": "stream",
       "stream": "stderr",
       "text": [
        "\r",
        "[ 44 %] elapsed[sec]: 0.097 | ETA[sec]: 0.121 "
       ]
      },
      {
       "output_type": "stream",
       "stream": "stderr",
       "text": [
        "\r",
        "[ 45 %] elapsed[sec]: 0.098 | ETA[sec]: 0.119 "
       ]
      },
      {
       "output_type": "stream",
       "stream": "stderr",
       "text": [
        "\r",
        "[ 46 %] elapsed[sec]: 0.100 | ETA[sec]: 0.117 "
       ]
      },
      {
       "output_type": "stream",
       "stream": "stderr",
       "text": [
        "\r",
        "[ 46 %] elapsed[sec]: 0.101 | ETA[sec]: 0.115 "
       ]
      },
      {
       "output_type": "stream",
       "stream": "stderr",
       "text": [
        "\r",
        "[ 47 %] elapsed[sec]: 0.103 | ETA[sec]: 0.113 "
       ]
      },
      {
       "output_type": "stream",
       "stream": "stderr",
       "text": [
        "\r",
        "[ 48 %] elapsed[sec]: 0.105 | ETA[sec]: 0.111 "
       ]
      },
      {
       "output_type": "stream",
       "stream": "stderr",
       "text": [
        "\r",
        "[ 49 %] elapsed[sec]: 0.106 | ETA[sec]: 0.110 "
       ]
      },
      {
       "output_type": "stream",
       "stream": "stderr",
       "text": [
        "\r",
        "[ 50 %] elapsed[sec]: 0.108 | ETA[sec]: 0.108 "
       ]
      },
      {
       "output_type": "stream",
       "stream": "stderr",
       "text": [
        "\r",
        "[ 50 %] elapsed[sec]: 0.109 | ETA[sec]: 0.106 "
       ]
      },
      {
       "output_type": "stream",
       "stream": "stderr",
       "text": [
        "\r",
        "[ 51 %] elapsed[sec]: 0.111 | ETA[sec]: 0.104 "
       ]
      },
      {
       "output_type": "stream",
       "stream": "stderr",
       "text": [
        "\r",
        "[ 52 %] elapsed[sec]: 0.112 | ETA[sec]: 0.102 "
       ]
      },
      {
       "output_type": "stream",
       "stream": "stderr",
       "text": [
        "\r",
        "[ 53 %] elapsed[sec]: 0.114 | ETA[sec]: 0.100 "
       ]
      },
      {
       "output_type": "stream",
       "stream": "stderr",
       "text": [
        "\r",
        "[ 53 %] elapsed[sec]: 0.115 | ETA[sec]: 0.098 "
       ]
      },
      {
       "output_type": "stream",
       "stream": "stderr",
       "text": [
        "\r",
        "[ 54 %] elapsed[sec]: 0.116 | ETA[sec]: 0.096 "
       ]
      },
      {
       "output_type": "stream",
       "stream": "stderr",
       "text": [
        "\r",
        "[ 55 %] elapsed[sec]: 0.118 | ETA[sec]: 0.095 "
       ]
      },
      {
       "output_type": "stream",
       "stream": "stderr",
       "text": [
        "\r",
        "[ 56 %] elapsed[sec]: 0.119 | ETA[sec]: 0.093 "
       ]
      },
      {
       "output_type": "stream",
       "stream": "stderr",
       "text": [
        "\r",
        "[ 57 %] elapsed[sec]: 0.120 | ETA[sec]: 0.091 "
       ]
      },
      {
       "output_type": "stream",
       "stream": "stderr",
       "text": [
        "\r",
        "[ 57 %] elapsed[sec]: 0.122 | ETA[sec]: 0.089 "
       ]
      },
      {
       "output_type": "stream",
       "stream": "stderr",
       "text": [
        "\r",
        "[ 58 %] elapsed[sec]: 0.124 | ETA[sec]: 0.087 "
       ]
      },
      {
       "output_type": "stream",
       "stream": "stderr",
       "text": [
        "\r",
        "[ 59 %] elapsed[sec]: 0.125 | ETA[sec]: 0.086 "
       ]
      },
      {
       "output_type": "stream",
       "stream": "stderr",
       "text": [
        "\r",
        "[ 60 %] elapsed[sec]: 0.127 | ETA[sec]: 0.084 "
       ]
      },
      {
       "output_type": "stream",
       "stream": "stderr",
       "text": [
        "\r",
        "[ 60 %] elapsed[sec]: 0.128 | ETA[sec]: 0.082 "
       ]
      },
      {
       "output_type": "stream",
       "stream": "stderr",
       "text": [
        "\r",
        "[ 61 %] elapsed[sec]: 0.130 | ETA[sec]: 0.080 "
       ]
      },
      {
       "output_type": "stream",
       "stream": "stderr",
       "text": [
        "\r",
        "[ 62 %] elapsed[sec]: 0.131 | ETA[sec]: 0.079 "
       ]
      },
      {
       "output_type": "stream",
       "stream": "stderr",
       "text": [
        "\r",
        "[ 63 %] elapsed[sec]: 0.132 | ETA[sec]: 0.077 "
       ]
      },
      {
       "output_type": "stream",
       "stream": "stderr",
       "text": [
        "\r",
        "[ 64 %] elapsed[sec]: 0.133 | ETA[sec]: 0.075 "
       ]
      },
      {
       "output_type": "stream",
       "stream": "stderr",
       "text": [
        "\r",
        "[ 64 %] elapsed[sec]: 0.136 | ETA[sec]: 0.074 "
       ]
      },
      {
       "output_type": "stream",
       "stream": "stderr",
       "text": [
        "\r",
        "[ 65 %] elapsed[sec]: 0.138 | ETA[sec]: 0.072 "
       ]
      },
      {
       "output_type": "stream",
       "stream": "stderr",
       "text": [
        "\r",
        "[ 66 %] elapsed[sec]: 0.140 | ETA[sec]: 0.071 "
       ]
      },
      {
       "output_type": "stream",
       "stream": "stderr",
       "text": [
        "\r",
        "[ 67 %] elapsed[sec]: 0.142 | ETA[sec]: 0.069 "
       ]
      },
      {
       "output_type": "stream",
       "stream": "stderr",
       "text": [
        "\r",
        "[ 67 %] elapsed[sec]: 0.144 | ETA[sec]: 0.068 "
       ]
      },
      {
       "output_type": "stream",
       "stream": "stderr",
       "text": [
        "\r",
        "[ 68 %] elapsed[sec]: 0.146 | ETA[sec]: 0.066 "
       ]
      },
      {
       "output_type": "stream",
       "stream": "stderr",
       "text": [
        "\r",
        "[ 69 %] elapsed[sec]: 0.148 | ETA[sec]: 0.065 "
       ]
      },
      {
       "output_type": "stream",
       "stream": "stderr",
       "text": [
        "\r",
        "[ 70 %] elapsed[sec]: 0.150 | ETA[sec]: 0.063 "
       ]
      },
      {
       "output_type": "stream",
       "stream": "stderr",
       "text": [
        "\r",
        "[ 71 %] elapsed[sec]: 0.152 | ETA[sec]: 0.062 "
       ]
      },
      {
       "output_type": "stream",
       "stream": "stderr",
       "text": [
        "\r",
        "[ 71 %] elapsed[sec]: 0.153 | ETA[sec]: 0.060 "
       ]
      },
      {
       "output_type": "stream",
       "stream": "stderr",
       "text": [
        "\r",
        "[ 72 %] elapsed[sec]: 0.155 | ETA[sec]: 0.058 "
       ]
      },
      {
       "output_type": "stream",
       "stream": "stderr",
       "text": [
        "\r",
        "[ 73 %] elapsed[sec]: 0.157 | ETA[sec]: 0.057 "
       ]
      },
      {
       "output_type": "stream",
       "stream": "stderr",
       "text": [
        "\r",
        "[ 74 %] elapsed[sec]: 0.158 | ETA[sec]: 0.055 "
       ]
      },
      {
       "output_type": "stream",
       "stream": "stderr",
       "text": [
        "\r",
        "[ 75 %] elapsed[sec]: 0.160 | ETA[sec]: 0.053 "
       ]
      },
      {
       "output_type": "stream",
       "stream": "stderr",
       "text": [
        "\r",
        "[ 75 %] elapsed[sec]: 0.161 | ETA[sec]: 0.051 "
       ]
      },
      {
       "output_type": "stream",
       "stream": "stderr",
       "text": [
        "\r",
        "[ 76 %] elapsed[sec]: 0.162 | ETA[sec]: 0.050 "
       ]
      },
      {
       "output_type": "stream",
       "stream": "stderr",
       "text": [
        "\r",
        "[ 77 %] elapsed[sec]: 0.164 | ETA[sec]: 0.048 "
       ]
      },
      {
       "output_type": "stream",
       "stream": "stderr",
       "text": [
        "\r",
        "[ 78 %] elapsed[sec]: 0.165 | ETA[sec]: 0.046 "
       ]
      },
      {
       "output_type": "stream",
       "stream": "stderr",
       "text": [
        "\r",
        "[ 78 %] elapsed[sec]: 0.166 | ETA[sec]: 0.044 "
       ]
      },
      {
       "output_type": "stream",
       "stream": "stderr",
       "text": [
        "\r",
        "[ 79 %] elapsed[sec]: 0.168 | ETA[sec]: 0.043 "
       ]
      },
      {
       "output_type": "stream",
       "stream": "stderr",
       "text": [
        "\r",
        "[ 80 %] elapsed[sec]: 0.169 | ETA[sec]: 0.041 "
       ]
      },
      {
       "output_type": "stream",
       "stream": "stderr",
       "text": [
        "\r",
        "[ 81 %] elapsed[sec]: 0.171 | ETA[sec]: 0.039 "
       ]
      },
      {
       "output_type": "stream",
       "stream": "stderr",
       "text": [
        "\r",
        "[ 82 %] elapsed[sec]: 0.172 | ETA[sec]: 0.038 "
       ]
      },
      {
       "output_type": "stream",
       "stream": "stderr",
       "text": [
        "\r",
        "[ 82 %] elapsed[sec]: 0.173 | ETA[sec]: 0.036 "
       ]
      },
      {
       "output_type": "stream",
       "stream": "stderr",
       "text": [
        "\r",
        "[ 83 %] elapsed[sec]: 0.175 | ETA[sec]: 0.034 "
       ]
      },
      {
       "output_type": "stream",
       "stream": "stderr",
       "text": [
        "\r",
        "[ 84 %] elapsed[sec]: 0.176 | ETA[sec]: 0.033 "
       ]
      },
      {
       "output_type": "stream",
       "stream": "stderr",
       "text": [
        "\r",
        "[ 85 %] elapsed[sec]: 0.178 | ETA[sec]: 0.031 "
       ]
      },
      {
       "output_type": "stream",
       "stream": "stderr",
       "text": [
        "\r",
        "[ 85 %] elapsed[sec]: 0.179 | ETA[sec]: 0.029 "
       ]
      },
      {
       "output_type": "stream",
       "stream": "stderr",
       "text": [
        "\r",
        "[ 86 %] elapsed[sec]: 0.181 | ETA[sec]: 0.028 "
       ]
      },
      {
       "output_type": "stream",
       "stream": "stderr",
       "text": [
        "\r",
        "[ 87 %] elapsed[sec]: 0.183 | ETA[sec]: 0.026 "
       ]
      },
      {
       "output_type": "stream",
       "stream": "stderr",
       "text": [
        "\r",
        "[ 88 %] elapsed[sec]: 0.186 | ETA[sec]: 0.025 "
       ]
      },
      {
       "output_type": "stream",
       "stream": "stderr",
       "text": [
        "\r",
        "[ 89 %] elapsed[sec]: 0.188 | ETA[sec]: 0.023 "
       ]
      },
      {
       "output_type": "stream",
       "stream": "stderr",
       "text": [
        "\r",
        "[ 89 %] elapsed[sec]: 0.190 | ETA[sec]: 0.021 "
       ]
      },
      {
       "output_type": "stream",
       "stream": "stderr",
       "text": [
        "\r",
        "[ 90 %] elapsed[sec]: 0.192 | ETA[sec]: 0.020 "
       ]
      },
      {
       "output_type": "stream",
       "stream": "stderr",
       "text": [
        "\r",
        "[ 91 %] elapsed[sec]: 0.194 | ETA[sec]: 0.018 "
       ]
      },
      {
       "output_type": "stream",
       "stream": "stderr",
       "text": [
        "\r",
        "[ 92 %] elapsed[sec]: 0.197 | ETA[sec]: 0.017 "
       ]
      },
      {
       "output_type": "stream",
       "stream": "stderr",
       "text": [
        "\r",
        "[ 92 %] elapsed[sec]: 0.198 | ETA[sec]: 0.015 "
       ]
      },
      {
       "output_type": "stream",
       "stream": "stderr",
       "text": [
        "\r",
        "[ 93 %] elapsed[sec]: 0.200 | ETA[sec]: 0.013 "
       ]
      },
      {
       "output_type": "stream",
       "stream": "stderr",
       "text": [
        "\r",
        "[ 94 %] elapsed[sec]: 0.201 | ETA[sec]: 0.012 "
       ]
      },
      {
       "output_type": "stream",
       "stream": "stderr",
       "text": [
        "\r",
        "[ 95 %] elapsed[sec]: 0.203 | ETA[sec]: 0.010 "
       ]
      },
      {
       "output_type": "stream",
       "stream": "stderr",
       "text": [
        "\r",
        "[ 96 %] elapsed[sec]: 0.204 | ETA[sec]: 0.008 "
       ]
      },
      {
       "output_type": "stream",
       "stream": "stderr",
       "text": [
        "\r",
        "[ 96 %] elapsed[sec]: 0.205 | ETA[sec]: 0.007 "
       ]
      },
      {
       "output_type": "stream",
       "stream": "stderr",
       "text": [
        "\r",
        "[ 97 %] elapsed[sec]: 0.206 | ETA[sec]: 0.005 "
       ]
      },
      {
       "output_type": "stream",
       "stream": "stderr",
       "text": [
        "\r",
        "[ 98 %] elapsed[sec]: 0.208 | ETA[sec]: 0.003 "
       ]
      },
      {
       "output_type": "stream",
       "stream": "stderr",
       "text": [
        "\r",
        "[ 99 %] elapsed[sec]: 0.209 | ETA[sec]: 0.002 "
       ]
      },
      {
       "output_type": "stream",
       "stream": "stderr",
       "text": [
        "\r",
        "[100 %] elapsed[sec]: 0.211"
       ]
      },
      {
       "output_type": "stream",
       "stream": "stdout",
       "text": [
        "\n",
        "Title: \n",
        "                      Started: 09/24/2014 16:10:14\n",
        "                      Finished: 09/24/2014 16:10:14\n",
        "                      Total time elapsed: 0.211 sec\n",
        "                      CPU %: 103.000000\n",
        "                      Memory %: 3.385019"
       ]
      },
      {
       "output_type": "stream",
       "stream": "stderr",
       "text": [
        "\n",
        "Total time elapsed: 0.211 sec\n",
        "\r",
        "[  0 %]"
       ]
      },
      {
       "output_type": "stream",
       "stream": "stderr",
       "text": [
        " elapsed[sec]: 0.000"
       ]
      },
      {
       "output_type": "stream",
       "stream": "stdout",
       "text": [
        "\n",
        "Saving sequence results/color-seed-123460.webm"
       ]
      },
      {
       "output_type": "stream",
       "stream": "stderr",
       "text": [
        "\r",
        "[  0 %] elapsed[sec]: 0.001 | ETA[sec]: 0.142 "
       ]
      },
      {
       "output_type": "stream",
       "stream": "stderr",
       "text": [
        "\r",
        "[  1 %] elapsed[sec]: 0.003 | ETA[sec]: 0.172 "
       ]
      },
      {
       "output_type": "stream",
       "stream": "stderr",
       "text": [
        "\r",
        "[  2 %] elapsed[sec]: 0.005 | ETA[sec]: 0.193 "
       ]
      },
      {
       "output_type": "stream",
       "stream": "stderr",
       "text": [
        "\r",
        "[  3 %] elapsed[sec]: 0.006 | ETA[sec]: 0.196 "
       ]
      },
      {
       "output_type": "stream",
       "stream": "stderr",
       "text": [
        "\r",
        "[  3 %] elapsed[sec]: 0.008 | ETA[sec]: 0.192 "
       ]
      },
      {
       "output_type": "stream",
       "stream": "stderr",
       "text": [
        "\r",
        "[  4 %] elapsed[sec]: 0.009 | ETA[sec]: 0.190 "
       ]
      },
      {
       "output_type": "stream",
       "stream": "stderr",
       "text": [
        "\r",
        "[  5 %] elapsed[sec]: 0.011 | ETA[sec]: 0.190 "
       ]
      },
      {
       "output_type": "stream",
       "stream": "stderr",
       "text": [
        "\r",
        "[  6 %] elapsed[sec]: 0.013 | ETA[sec]: 0.189 "
       ]
      },
      {
       "output_type": "stream",
       "stream": "stderr",
       "text": [
        "\r",
        "[  7 %] elapsed[sec]: 0.014 | ETA[sec]: 0.186 "
       ]
      },
      {
       "output_type": "stream",
       "stream": "stderr",
       "text": [
        "\r",
        "[  7 %] elapsed[sec]: 0.015 | ETA[sec]: 0.182 "
       ]
      },
      {
       "output_type": "stream",
       "stream": "stderr",
       "text": [
        "\r",
        "[  8 %] elapsed[sec]: 0.017 | ETA[sec]: 0.179 "
       ]
      },
      {
       "output_type": "stream",
       "stream": "stderr",
       "text": [
        "\r",
        "[  9 %] elapsed[sec]: 0.018 | ETA[sec]: 0.178 "
       ]
      },
      {
       "output_type": "stream",
       "stream": "stderr",
       "text": [
        "\r",
        "[ 10 %] elapsed[sec]: 0.020 | ETA[sec]: 0.176 "
       ]
      },
      {
       "output_type": "stream",
       "stream": "stderr",
       "text": [
        "\r",
        "[ 10 %] elapsed[sec]: 0.021 | ETA[sec]: 0.173 "
       ]
      },
      {
       "output_type": "stream",
       "stream": "stderr",
       "text": [
        "\r",
        "[ 11 %] elapsed[sec]: 0.023 | ETA[sec]: 0.170 "
       ]
      },
      {
       "output_type": "stream",
       "stream": "stderr",
       "text": [
        "\r",
        "[ 12 %] elapsed[sec]: 0.024 | ETA[sec]: 0.167 "
       ]
      },
      {
       "output_type": "stream",
       "stream": "stderr",
       "text": [
        "\r",
        "[ 13 %] elapsed[sec]: 0.025 | ETA[sec]: 0.164 "
       ]
      },
      {
       "output_type": "stream",
       "stream": "stderr",
       "text": [
        "\r",
        "[ 14 %] elapsed[sec]: 0.026 | ETA[sec]: 0.161 "
       ]
      },
      {
       "output_type": "stream",
       "stream": "stderr",
       "text": [
        "\r",
        "[ 14 %] elapsed[sec]: 0.028 | ETA[sec]: 0.159 "
       ]
      },
      {
       "output_type": "stream",
       "stream": "stderr",
       "text": [
        "\r",
        "[ 15 %] elapsed[sec]: 0.029 | ETA[sec]: 0.158 "
       ]
      },
      {
       "output_type": "stream",
       "stream": "stderr",
       "text": [
        "\r",
        "[ 16 %] elapsed[sec]: 0.031 | ETA[sec]: 0.160 "
       ]
      },
      {
       "output_type": "stream",
       "stream": "stderr",
       "text": [
        "\r",
        "[ 17 %] elapsed[sec]: 0.034 | ETA[sec]: 0.162 "
       ]
      },
      {
       "output_type": "stream",
       "stream": "stderr",
       "text": [
        "\r",
        "[ 17 %] elapsed[sec]: 0.036 | ETA[sec]: 0.164 "
       ]
      },
      {
       "output_type": "stream",
       "stream": "stderr",
       "text": [
        "\r",
        "[ 18 %] elapsed[sec]: 0.038 | ETA[sec]: 0.165 "
       ]
      },
      {
       "output_type": "stream",
       "stream": "stderr",
       "text": [
        "\r",
        "[ 19 %] elapsed[sec]: 0.040 | ETA[sec]: 0.166 "
       ]
      },
      {
       "output_type": "stream",
       "stream": "stderr",
       "text": [
        "\r",
        "[ 20 %] elapsed[sec]: 0.042 | ETA[sec]: 0.166 "
       ]
      },
      {
       "output_type": "stream",
       "stream": "stderr",
       "text": [
        "\r",
        "[ 21 %] elapsed[sec]: 0.045 | ETA[sec]: 0.167 "
       ]
      },
      {
       "output_type": "stream",
       "stream": "stderr",
       "text": [
        "\r",
        "[ 21 %] elapsed[sec]: 0.047 | ETA[sec]: 0.167 "
       ]
      },
      {
       "output_type": "stream",
       "stream": "stderr",
       "text": [
        "\r",
        "[ 22 %] elapsed[sec]: 0.049 | ETA[sec]: 0.167 "
       ]
      },
      {
       "output_type": "stream",
       "stream": "stderr",
       "text": [
        "\r",
        "[ 23 %] elapsed[sec]: 0.051 | ETA[sec]: 0.167 "
       ]
      },
      {
       "output_type": "stream",
       "stream": "stderr",
       "text": [
        "\r",
        "[ 24 %] elapsed[sec]: 0.053 | ETA[sec]: 0.166 "
       ]
      },
      {
       "output_type": "stream",
       "stream": "stderr",
       "text": [
        "\r",
        "[ 25 %] elapsed[sec]: 0.055 | ETA[sec]: 0.166 "
       ]
      },
      {
       "output_type": "stream",
       "stream": "stderr",
       "text": [
        "\r",
        "[ 25 %] elapsed[sec]: 0.057 | ETA[sec]: 0.166 "
       ]
      },
      {
       "output_type": "stream",
       "stream": "stderr",
       "text": [
        "\r",
        "[ 26 %] elapsed[sec]: 0.060 | ETA[sec]: 0.165 "
       ]
      },
      {
       "output_type": "stream",
       "stream": "stderr",
       "text": [
        "\r",
        "[ 27 %] elapsed[sec]: 0.062 | ETA[sec]: 0.164 "
       ]
      },
      {
       "output_type": "stream",
       "stream": "stderr",
       "text": [
        "\r",
        "[ 28 %] elapsed[sec]: 0.064 | ETA[sec]: 0.163 "
       ]
      },
      {
       "output_type": "stream",
       "stream": "stderr",
       "text": [
        "\r",
        "[ 28 %] elapsed[sec]: 0.066 | ETA[sec]: 0.162 "
       ]
      },
      {
       "output_type": "stream",
       "stream": "stderr",
       "text": [
        "\r",
        "[ 29 %] elapsed[sec]: 0.068 | ETA[sec]: 0.160 "
       ]
      },
      {
       "output_type": "stream",
       "stream": "stderr",
       "text": [
        "\r",
        "[ 30 %] elapsed[sec]: 0.070 | ETA[sec]: 0.159 "
       ]
      },
      {
       "output_type": "stream",
       "stream": "stderr",
       "text": [
        "\r",
        "[ 31 %] elapsed[sec]: 0.071 | ETA[sec]: 0.157 "
       ]
      },
      {
       "output_type": "stream",
       "stream": "stderr",
       "text": [
        "\r",
        "[ 32 %] elapsed[sec]: 0.073 | ETA[sec]: 0.154 "
       ]
      },
      {
       "output_type": "stream",
       "stream": "stderr",
       "text": [
        "\r",
        "[ 32 %] elapsed[sec]: 0.074 | ETA[sec]: 0.152 "
       ]
      },
      {
       "output_type": "stream",
       "stream": "stderr",
       "text": [
        "\r",
        "[ 33 %] elapsed[sec]: 0.076 | ETA[sec]: 0.149 "
       ]
      },
      {
       "output_type": "stream",
       "stream": "stderr",
       "text": [
        "\r",
        "[ 34 %] elapsed[sec]: 0.077 | ETA[sec]: 0.147 "
       ]
      },
      {
       "output_type": "stream",
       "stream": "stderr",
       "text": [
        "\r",
        "[ 35 %] elapsed[sec]: 0.078 | ETA[sec]: 0.144 "
       ]
      },
      {
       "output_type": "stream",
       "stream": "stderr",
       "text": [
        "\r",
        "[ 35 %] elapsed[sec]: 0.079 | ETA[sec]: 0.141 "
       ]
      },
      {
       "output_type": "stream",
       "stream": "stderr",
       "text": [
        "\r",
        "[ 36 %] elapsed[sec]: 0.081 | ETA[sec]: 0.139 "
       ]
      },
      {
       "output_type": "stream",
       "stream": "stderr",
       "text": [
        "\r",
        "[ 37 %] elapsed[sec]: 0.083 | ETA[sec]: 0.138 "
       ]
      },
      {
       "output_type": "stream",
       "stream": "stderr",
       "text": [
        "\r",
        "[ 38 %] elapsed[sec]: 0.084 | ETA[sec]: 0.136 "
       ]
      },
      {
       "output_type": "stream",
       "stream": "stderr",
       "text": [
        "\r",
        "[ 39 %] elapsed[sec]: 0.086 | ETA[sec]: 0.135 "
       ]
      },
      {
       "output_type": "stream",
       "stream": "stderr",
       "text": [
        "\r",
        "[ 39 %] elapsed[sec]: 0.088 | ETA[sec]: 0.133 "
       ]
      },
      {
       "output_type": "stream",
       "stream": "stderr",
       "text": [
        "\r",
        "[ 40 %] elapsed[sec]: 0.089 | ETA[sec]: 0.131 "
       ]
      },
      {
       "output_type": "stream",
       "stream": "stderr",
       "text": [
        "\r",
        "[ 41 %] elapsed[sec]: 0.091 | ETA[sec]: 0.129 "
       ]
      },
      {
       "output_type": "stream",
       "stream": "stderr",
       "text": [
        "\r",
        "[ 42 %] elapsed[sec]: 0.092 | ETA[sec]: 0.127 "
       ]
      },
      {
       "output_type": "stream",
       "stream": "stderr",
       "text": [
        "\r",
        "[ 42 %] elapsed[sec]: 0.094 | ETA[sec]: 0.125 "
       ]
      },
      {
       "output_type": "stream",
       "stream": "stderr",
       "text": [
        "\r",
        "[ 43 %] elapsed[sec]: 0.095 | ETA[sec]: 0.122 "
       ]
      },
      {
       "output_type": "stream",
       "stream": "stderr",
       "text": [
        "\r",
        "[ 44 %] elapsed[sec]: 0.097 | ETA[sec]: 0.121 "
       ]
      },
      {
       "output_type": "stream",
       "stream": "stderr",
       "text": [
        "\r",
        "[ 45 %] elapsed[sec]: 0.099 | ETA[sec]: 0.119 "
       ]
      },
      {
       "output_type": "stream",
       "stream": "stderr",
       "text": [
        "\r",
        "[ 46 %] elapsed[sec]: 0.100 | ETA[sec]: 0.117 "
       ]
      },
      {
       "output_type": "stream",
       "stream": "stderr",
       "text": [
        "\r",
        "[ 46 %] elapsed[sec]: 0.102 | ETA[sec]: 0.115 "
       ]
      },
      {
       "output_type": "stream",
       "stream": "stderr",
       "text": [
        "\r",
        "[ 47 %] elapsed[sec]: 0.103 | ETA[sec]: 0.113 "
       ]
      },
      {
       "output_type": "stream",
       "stream": "stderr",
       "text": [
        "\r",
        "[ 48 %] elapsed[sec]: 0.104 | ETA[sec]: 0.111 "
       ]
      },
      {
       "output_type": "stream",
       "stream": "stderr",
       "text": [
        "\r",
        "[ 49 %] elapsed[sec]: 0.106 | ETA[sec]: 0.109 "
       ]
      },
      {
       "output_type": "stream",
       "stream": "stderr",
       "text": [
        "\r",
        "[ 50 %] elapsed[sec]: 0.107 | ETA[sec]: 0.107 "
       ]
      },
      {
       "output_type": "stream",
       "stream": "stderr",
       "text": [
        "\r",
        "[ 50 %] elapsed[sec]: 0.109 | ETA[sec]: 0.106 "
       ]
      },
      {
       "output_type": "stream",
       "stream": "stderr",
       "text": [
        "\r",
        "[ 51 %] elapsed[sec]: 0.111 | ETA[sec]: 0.104 "
       ]
      },
      {
       "output_type": "stream",
       "stream": "stderr",
       "text": [
        "\r",
        "[ 52 %] elapsed[sec]: 0.113 | ETA[sec]: 0.103 "
       ]
      },
      {
       "output_type": "stream",
       "stream": "stderr",
       "text": [
        "\r",
        "[ 53 %] elapsed[sec]: 0.115 | ETA[sec]: 0.102 "
       ]
      },
      {
       "output_type": "stream",
       "stream": "stderr",
       "text": [
        "\r",
        "[ 53 %] elapsed[sec]: 0.117 | ETA[sec]: 0.100 "
       ]
      },
      {
       "output_type": "stream",
       "stream": "stderr",
       "text": [
        "\r",
        "[ 54 %] elapsed[sec]: 0.118 | ETA[sec]: 0.098 "
       ]
      },
      {
       "output_type": "stream",
       "stream": "stderr",
       "text": [
        "\r",
        "[ 55 %] elapsed[sec]: 0.120 | ETA[sec]: 0.097 "
       ]
      },
      {
       "output_type": "stream",
       "stream": "stderr",
       "text": [
        "\r",
        "[ 56 %] elapsed[sec]: 0.122 | ETA[sec]: 0.095 "
       ]
      },
      {
       "output_type": "stream",
       "stream": "stderr",
       "text": [
        "\r",
        "[ 57 %] elapsed[sec]: 0.123 | ETA[sec]: 0.093 "
       ]
      },
      {
       "output_type": "stream",
       "stream": "stderr",
       "text": [
        "\r",
        "[ 57 %] elapsed[sec]: 0.125 | ETA[sec]: 0.091 "
       ]
      },
      {
       "output_type": "stream",
       "stream": "stderr",
       "text": [
        "\r",
        "[ 58 %] elapsed[sec]: 0.126 | ETA[sec]: 0.089 "
       ]
      },
      {
       "output_type": "stream",
       "stream": "stderr",
       "text": [
        "\r",
        "[ 59 %] elapsed[sec]: 0.128 | ETA[sec]: 0.088 "
       ]
      },
      {
       "output_type": "stream",
       "stream": "stderr",
       "text": [
        "\r",
        "[ 60 %] elapsed[sec]: 0.129 | ETA[sec]: 0.086 "
       ]
      },
      {
       "output_type": "stream",
       "stream": "stderr",
       "text": [
        "\r",
        "[ 60 %] elapsed[sec]: 0.131 | ETA[sec]: 0.084 "
       ]
      },
      {
       "output_type": "stream",
       "stream": "stderr",
       "text": [
        "\r",
        "[ 61 %] elapsed[sec]: 0.132 | ETA[sec]: 0.082 "
       ]
      },
      {
       "output_type": "stream",
       "stream": "stderr",
       "text": [
        "\r",
        "[ 62 %] elapsed[sec]: 0.134 | ETA[sec]: 0.080 "
       ]
      },
      {
       "output_type": "stream",
       "stream": "stderr",
       "text": [
        "\r",
        "[ 63 %] elapsed[sec]: 0.135 | ETA[sec]: 0.078 "
       ]
      },
      {
       "output_type": "stream",
       "stream": "stderr",
       "text": [
        "\r",
        "[ 64 %] elapsed[sec]: 0.136 | ETA[sec]: 0.076 "
       ]
      },
      {
       "output_type": "stream",
       "stream": "stderr",
       "text": [
        "\r",
        "[ 64 %] elapsed[sec]: 0.137 | ETA[sec]: 0.075 "
       ]
      },
      {
       "output_type": "stream",
       "stream": "stderr",
       "text": [
        "\r",
        "[ 65 %] elapsed[sec]: 0.139 | ETA[sec]: 0.073 "
       ]
      },
      {
       "output_type": "stream",
       "stream": "stderr",
       "text": [
        "\r",
        "[ 66 %] elapsed[sec]: 0.140 | ETA[sec]: 0.071 "
       ]
      },
      {
       "output_type": "stream",
       "stream": "stderr",
       "text": [
        "\r",
        "[ 67 %] elapsed[sec]: 0.142 | ETA[sec]: 0.069 "
       ]
      },
      {
       "output_type": "stream",
       "stream": "stderr",
       "text": [
        "\r",
        "[ 67 %] elapsed[sec]: 0.144 | ETA[sec]: 0.068 "
       ]
      },
      {
       "output_type": "stream",
       "stream": "stderr",
       "text": [
        "\r",
        "[ 68 %] elapsed[sec]: 0.145 | ETA[sec]: 0.066 "
       ]
      },
      {
       "output_type": "stream",
       "stream": "stderr",
       "text": [
        "\r",
        "[ 69 %] elapsed[sec]: 0.147 | ETA[sec]: 0.064 "
       ]
      },
      {
       "output_type": "stream",
       "stream": "stderr",
       "text": [
        "\r",
        "[ 70 %] elapsed[sec]: 0.148 | ETA[sec]: 0.062 "
       ]
      },
      {
       "output_type": "stream",
       "stream": "stderr",
       "text": [
        "\r",
        "[ 71 %] elapsed[sec]: 0.149 | ETA[sec]: 0.061 "
       ]
      },
      {
       "output_type": "stream",
       "stream": "stderr",
       "text": [
        "\r",
        "[ 71 %] elapsed[sec]: 0.150 | ETA[sec]: 0.059 "
       ]
      },
      {
       "output_type": "stream",
       "stream": "stderr",
       "text": [
        "\r",
        "[ 72 %] elapsed[sec]: 0.152 | ETA[sec]: 0.057 "
       ]
      },
      {
       "output_type": "stream",
       "stream": "stderr",
       "text": [
        "\r",
        "[ 73 %] elapsed[sec]: 0.153 | ETA[sec]: 0.055 "
       ]
      },
      {
       "output_type": "stream",
       "stream": "stderr",
       "text": [
        "\r",
        "[ 74 %] elapsed[sec]: 0.155 | ETA[sec]: 0.054 "
       ]
      },
      {
       "output_type": "stream",
       "stream": "stderr",
       "text": [
        "\r",
        "[ 75 %] elapsed[sec]: 0.156 | ETA[sec]: 0.052 "
       ]
      },
      {
       "output_type": "stream",
       "stream": "stderr",
       "text": [
        "\r",
        "[ 75 %] elapsed[sec]: 0.157 | ETA[sec]: 0.050 "
       ]
      },
      {
       "output_type": "stream",
       "stream": "stderr",
       "text": [
        "\r",
        "[ 76 %] elapsed[sec]: 0.158 | ETA[sec]: 0.048 "
       ]
      },
      {
       "output_type": "stream",
       "stream": "stderr",
       "text": [
        "\r",
        "[ 77 %] elapsed[sec]: 0.160 | ETA[sec]: 0.047 "
       ]
      },
      {
       "output_type": "stream",
       "stream": "stderr",
       "text": [
        "\r",
        "[ 78 %] elapsed[sec]: 0.162 | ETA[sec]: 0.045 "
       ]
      },
      {
       "output_type": "stream",
       "stream": "stderr",
       "text": [
        "\r",
        "[ 78 %] elapsed[sec]: 0.164 | ETA[sec]: 0.044 "
       ]
      },
      {
       "output_type": "stream",
       "stream": "stderr",
       "text": [
        "\r",
        "[ 79 %] elapsed[sec]: 0.167 | ETA[sec]: 0.042 "
       ]
      },
      {
       "output_type": "stream",
       "stream": "stderr",
       "text": [
        "\r",
        "[ 80 %] elapsed[sec]: 0.168 | ETA[sec]: 0.041 "
       ]
      },
      {
       "output_type": "stream",
       "stream": "stderr",
       "text": [
        "\r",
        "[ 81 %] elapsed[sec]: 0.171 | ETA[sec]: 0.039 "
       ]
      },
      {
       "output_type": "stream",
       "stream": "stderr",
       "text": [
        "\r",
        "[ 82 %] elapsed[sec]: 0.173 | ETA[sec]: 0.038 "
       ]
      },
      {
       "output_type": "stream",
       "stream": "stderr",
       "text": [
        "\r",
        "[ 82 %] elapsed[sec]: 0.175 | ETA[sec]: 0.036 "
       ]
      },
      {
       "output_type": "stream",
       "stream": "stderr",
       "text": [
        "\r",
        "[ 83 %] elapsed[sec]: 0.177 | ETA[sec]: 0.035 "
       ]
      },
      {
       "output_type": "stream",
       "stream": "stderr",
       "text": [
        "\r",
        "[ 84 %] elapsed[sec]: 0.179 | ETA[sec]: 0.033 "
       ]
      },
      {
       "output_type": "stream",
       "stream": "stderr",
       "text": [
        "\r",
        "[ 85 %] elapsed[sec]: 0.181 | ETA[sec]: 0.032 "
       ]
      },
      {
       "output_type": "stream",
       "stream": "stderr",
       "text": [
        "\r",
        "[ 85 %] elapsed[sec]: 0.183 | ETA[sec]: 0.030 "
       ]
      },
      {
       "output_type": "stream",
       "stream": "stderr",
       "text": [
        "\r",
        "[ 86 %] elapsed[sec]: 0.185 | ETA[sec]: 0.028 "
       ]
      },
      {
       "output_type": "stream",
       "stream": "stderr",
       "text": [
        "\r",
        "[ 87 %] elapsed[sec]: 0.187 | ETA[sec]: 0.027 "
       ]
      },
      {
       "output_type": "stream",
       "stream": "stderr",
       "text": [
        "\r",
        "[ 88 %] elapsed[sec]: 0.189 | ETA[sec]: 0.025 "
       ]
      },
      {
       "output_type": "stream",
       "stream": "stderr",
       "text": [
        "\r",
        "[ 89 %] elapsed[sec]: 0.190 | ETA[sec]: 0.023 "
       ]
      },
      {
       "output_type": "stream",
       "stream": "stderr",
       "text": [
        "\r",
        "[ 89 %] elapsed[sec]: 0.192 | ETA[sec]: 0.022 "
       ]
      },
      {
       "output_type": "stream",
       "stream": "stderr",
       "text": [
        "\r",
        "[ 90 %] elapsed[sec]: 0.194 | ETA[sec]: 0.020 "
       ]
      },
      {
       "output_type": "stream",
       "stream": "stderr",
       "text": [
        "\r",
        "[ 91 %] elapsed[sec]: 0.195 | ETA[sec]: 0.018 "
       ]
      },
      {
       "output_type": "stream",
       "stream": "stderr",
       "text": [
        "\r",
        "[ 92 %] elapsed[sec]: 0.197 | ETA[sec]: 0.017 "
       ]
      },
      {
       "output_type": "stream",
       "stream": "stderr",
       "text": [
        "\r",
        "[ 92 %] elapsed[sec]: 0.198 | ETA[sec]: 0.015 "
       ]
      },
      {
       "output_type": "stream",
       "stream": "stderr",
       "text": [
        "\r",
        "[ 93 %] elapsed[sec]: 0.200 | ETA[sec]: 0.013 "
       ]
      },
      {
       "output_type": "stream",
       "stream": "stderr",
       "text": [
        "\r",
        "[ 94 %] elapsed[sec]: 0.201 | ETA[sec]: 0.012 "
       ]
      },
      {
       "output_type": "stream",
       "stream": "stderr",
       "text": [
        "\r",
        "[ 95 %] elapsed[sec]: 0.203 | ETA[sec]: 0.010 "
       ]
      },
      {
       "output_type": "stream",
       "stream": "stderr",
       "text": [
        "\r",
        "[ 96 %] elapsed[sec]: 0.204 | ETA[sec]: 0.008 "
       ]
      },
      {
       "output_type": "stream",
       "stream": "stderr",
       "text": [
        "\r",
        "[ 96 %] elapsed[sec]: 0.206 | ETA[sec]: 0.007 "
       ]
      },
      {
       "output_type": "stream",
       "stream": "stderr",
       "text": [
        "\r",
        "[ 97 %] elapsed[sec]: 0.207 | ETA[sec]: 0.005 "
       ]
      },
      {
       "output_type": "stream",
       "stream": "stderr",
       "text": [
        "\r",
        "[ 98 %] elapsed[sec]: 0.209 | ETA[sec]: 0.003 "
       ]
      },
      {
       "output_type": "stream",
       "stream": "stderr",
       "text": [
        "\r",
        "[ 99 %] elapsed[sec]: 0.210 | ETA[sec]: 0.002 "
       ]
      },
      {
       "output_type": "stream",
       "stream": "stderr",
       "text": [
        "\r",
        "[100 %] elapsed[sec]: 0.211"
       ]
      },
      {
       "output_type": "stream",
       "stream": "stdout",
       "text": [
        "\n",
        "Title: \n",
        "                      Started: 09/24/2014 16:10:15\n",
        "                      Finished: 09/24/2014 16:10:15\n",
        "                      Total time elapsed: 0.212 sec\n",
        "                      CPU %: 102.800000\n",
        "                      Memory %: 3.385019"
       ]
      },
      {
       "output_type": "stream",
       "stream": "stderr",
       "text": [
        "\n",
        "Total time elapsed: 0.212 sec\n",
        "\r",
        "[  0 %]"
       ]
      },
      {
       "output_type": "stream",
       "stream": "stderr",
       "text": [
        " elapsed[sec]: 0.000"
       ]
      },
      {
       "output_type": "stream",
       "stream": "stdout",
       "text": [
        "\n",
        "Saving sequence results/color-seed-123461.webm"
       ]
      },
      {
       "output_type": "stream",
       "stream": "stderr",
       "text": [
        "\r",
        "[  0 %] elapsed[sec]: 0.001"
       ]
      },
      {
       "output_type": "stream",
       "stream": "stderr",
       "text": [
        "\r",
        "[  1 %] elapsed[sec]: 0.004 | ETA[sec]: 0.247 "
       ]
      },
      {
       "output_type": "stream",
       "stream": "stderr",
       "text": [
        "\r",
        "[  2 %] elapsed[sec]: 0.005 | ETA[sec]: 0.223 "
       ]
      },
      {
       "output_type": "stream",
       "stream": "stderr",
       "text": [
        "\r",
        "[  3 %] elapsed[sec]: 0.007 | ETA[sec]: 0.208 "
       ]
      },
      {
       "output_type": "stream",
       "stream": "stderr",
       "text": [
        "\r",
        "[  3 %] elapsed[sec]: 0.008 | ETA[sec]: 0.198 "
       ]
      },
      {
       "output_type": "stream",
       "stream": "stderr",
       "text": [
        "\r",
        "[  4 %] elapsed[sec]: 0.009 | ETA[sec]: 0.191 "
       ]
      },
      {
       "output_type": "stream",
       "stream": "stderr",
       "text": [
        "\r",
        "[  5 %] elapsed[sec]: 0.011 | ETA[sec]: 0.187 "
       ]
      },
      {
       "output_type": "stream",
       "stream": "stderr",
       "text": [
        "\r",
        "[  6 %] elapsed[sec]: 0.013 | ETA[sec]: 0.196 "
       ]
      },
      {
       "output_type": "stream",
       "stream": "stderr",
       "text": [
        "\r",
        "[  7 %] elapsed[sec]: 0.015 | ETA[sec]: 0.196 "
       ]
      },
      {
       "output_type": "stream",
       "stream": "stderr",
       "text": [
        "\r",
        "[  7 %] elapsed[sec]: 0.017 | ETA[sec]: 0.196 "
       ]
      },
      {
       "output_type": "stream",
       "stream": "stderr",
       "text": [
        "\r",
        "[  8 %] elapsed[sec]: 0.019 | ETA[sec]: 0.201 "
       ]
      },
      {
       "output_type": "stream",
       "stream": "stderr",
       "text": [
        "\r",
        "[  9 %] elapsed[sec]: 0.021 | ETA[sec]: 0.203 "
       ]
      },
      {
       "output_type": "stream",
       "stream": "stderr",
       "text": [
        "\r",
        "[ 10 %] elapsed[sec]: 0.023 | ETA[sec]: 0.205 "
       ]
      },
      {
       "output_type": "stream",
       "stream": "stderr",
       "text": [
        "\r",
        "[ 10 %] elapsed[sec]: 0.025 | ETA[sec]: 0.206 "
       ]
      },
      {
       "output_type": "stream",
       "stream": "stderr",
       "text": [
        "\r",
        "[ 11 %] elapsed[sec]: 0.027 | ETA[sec]: 0.207 "
       ]
      },
      {
       "output_type": "stream",
       "stream": "stderr",
       "text": [
        "\r",
        "[ 12 %] elapsed[sec]: 0.029 | ETA[sec]: 0.207 "
       ]
      },
      {
       "output_type": "stream",
       "stream": "stderr",
       "text": [
        "\r",
        "[ 13 %] elapsed[sec]: 0.032 | ETA[sec]: 0.206 "
       ]
      },
      {
       "output_type": "stream",
       "stream": "stderr",
       "text": [
        "\r",
        "[ 14 %] elapsed[sec]: 0.034 | ETA[sec]: 0.205 "
       ]
      },
      {
       "output_type": "stream",
       "stream": "stderr",
       "text": [
        "\r",
        "[ 14 %] elapsed[sec]: 0.036 | ETA[sec]: 0.205 "
       ]
      },
      {
       "output_type": "stream",
       "stream": "stderr",
       "text": [
        "\r",
        "[ 15 %] elapsed[sec]: 0.038 | ETA[sec]: 0.204 "
       ]
      },
      {
       "output_type": "stream",
       "stream": "stderr",
       "text": [
        "\r",
        "[ 16 %] elapsed[sec]: 0.040 | ETA[sec]: 0.203 "
       ]
      },
      {
       "output_type": "stream",
       "stream": "stderr",
       "text": [
        "\r",
        "[ 17 %] elapsed[sec]: 0.042 | ETA[sec]: 0.202 "
       ]
      },
      {
       "output_type": "stream",
       "stream": "stderr",
       "text": [
        "\r",
        "[ 17 %] elapsed[sec]: 0.044 | ETA[sec]: 0.200 "
       ]
      },
      {
       "output_type": "stream",
       "stream": "stderr",
       "text": [
        "\r",
        "[ 18 %] elapsed[sec]: 0.046 | ETA[sec]: 0.199 "
       ]
      },
      {
       "output_type": "stream",
       "stream": "stderr",
       "text": [
        "\r",
        "[ 19 %] elapsed[sec]: 0.048 | ETA[sec]: 0.198 "
       ]
      },
      {
       "output_type": "stream",
       "stream": "stderr",
       "text": [
        "\r",
        "[ 20 %] elapsed[sec]: 0.050 | ETA[sec]: 0.197 "
       ]
      },
      {
       "output_type": "stream",
       "stream": "stderr",
       "text": [
        "\r",
        "[ 21 %] elapsed[sec]: 0.052 | ETA[sec]: 0.196 "
       ]
      },
      {
       "output_type": "stream",
       "stream": "stderr",
       "text": [
        "\r",
        "[ 21 %] elapsed[sec]: 0.054 | ETA[sec]: 0.194 "
       ]
      },
      {
       "output_type": "stream",
       "stream": "stderr",
       "text": [
        "\r",
        "[ 22 %] elapsed[sec]: 0.056 | ETA[sec]: 0.192 "
       ]
      },
      {
       "output_type": "stream",
       "stream": "stderr",
       "text": [
        "\r",
        "[ 23 %] elapsed[sec]: 0.058 | ETA[sec]: 0.191 "
       ]
      },
      {
       "output_type": "stream",
       "stream": "stderr",
       "text": [
        "\r",
        "[ 24 %] elapsed[sec]: 0.061 | ETA[sec]: 0.190 "
       ]
      },
      {
       "output_type": "stream",
       "stream": "stderr",
       "text": [
        "\r",
        "[ 25 %] elapsed[sec]: 0.062 | ETA[sec]: 0.187 "
       ]
      },
      {
       "output_type": "stream",
       "stream": "stderr",
       "text": [
        "\r",
        "[ 25 %] elapsed[sec]: 0.064 | ETA[sec]: 0.186 "
       ]
      },
      {
       "output_type": "stream",
       "stream": "stderr",
       "text": [
        "\r",
        "[ 26 %] elapsed[sec]: 0.066 | ETA[sec]: 0.183 "
       ]
      },
      {
       "output_type": "stream",
       "stream": "stderr",
       "text": [
        "\r",
        "[ 27 %] elapsed[sec]: 0.068 | ETA[sec]: 0.180 "
       ]
      },
      {
       "output_type": "stream",
       "stream": "stderr",
       "text": [
        "\r",
        "[ 28 %] elapsed[sec]: 0.069 | ETA[sec]: 0.177 "
       ]
      },
      {
       "output_type": "stream",
       "stream": "stderr",
       "text": [
        "\r",
        "[ 28 %] elapsed[sec]: 0.070 | ETA[sec]: 0.173 "
       ]
      },
      {
       "output_type": "stream",
       "stream": "stderr",
       "text": [
        "\r",
        "[ 29 %] elapsed[sec]: 0.072 | ETA[sec]: 0.170 "
       ]
      },
      {
       "output_type": "stream",
       "stream": "stderr",
       "text": [
        "\r",
        "[ 30 %] elapsed[sec]: 0.073 | ETA[sec]: 0.166 "
       ]
      },
      {
       "output_type": "stream",
       "stream": "stderr",
       "text": [
        "\r",
        "[ 31 %] elapsed[sec]: 0.074 | ETA[sec]: 0.163 "
       ]
      },
      {
       "output_type": "stream",
       "stream": "stderr",
       "text": [
        "\r",
        "[ 32 %] elapsed[sec]: 0.075 | ETA[sec]: 0.160 "
       ]
      },
      {
       "output_type": "stream",
       "stream": "stderr",
       "text": [
        "\r",
        "[ 32 %] elapsed[sec]: 0.077 | ETA[sec]: 0.157 "
       ]
      },
      {
       "output_type": "stream",
       "stream": "stderr",
       "text": [
        "\r",
        "[ 33 %] elapsed[sec]: 0.078 | ETA[sec]: 0.154 "
       ]
      },
      {
       "output_type": "stream",
       "stream": "stderr",
       "text": [
        "\r",
        "[ 34 %] elapsed[sec]: 0.080 | ETA[sec]: 0.152 "
       ]
      },
      {
       "output_type": "stream",
       "stream": "stderr",
       "text": [
        "\r",
        "[ 35 %] elapsed[sec]: 0.082 | ETA[sec]: 0.151 "
       ]
      },
      {
       "output_type": "stream",
       "stream": "stderr",
       "text": [
        "\r",
        "[ 35 %] elapsed[sec]: 0.083 | ETA[sec]: 0.148 "
       ]
      },
      {
       "output_type": "stream",
       "stream": "stderr",
       "text": [
        "\r",
        "[ 36 %] elapsed[sec]: 0.085 | ETA[sec]: 0.146 "
       ]
      },
      {
       "output_type": "stream",
       "stream": "stderr",
       "text": [
        "\r",
        "[ 37 %] elapsed[sec]: 0.086 | ETA[sec]: 0.144 "
       ]
      },
      {
       "output_type": "stream",
       "stream": "stderr",
       "text": [
        "\r",
        "[ 38 %] elapsed[sec]: 0.088 | ETA[sec]: 0.142 "
       ]
      },
      {
       "output_type": "stream",
       "stream": "stderr",
       "text": [
        "\r",
        "[ 39 %] elapsed[sec]: 0.090 | ETA[sec]: 0.140 "
       ]
      },
      {
       "output_type": "stream",
       "stream": "stderr",
       "text": [
        "\r",
        "[ 39 %] elapsed[sec]: 0.091 | ETA[sec]: 0.138 "
       ]
      },
      {
       "output_type": "stream",
       "stream": "stderr",
       "text": [
        "\r",
        "[ 40 %] elapsed[sec]: 0.093 | ETA[sec]: 0.135 "
       ]
      },
      {
       "output_type": "stream",
       "stream": "stderr",
       "text": [
        "\r",
        "[ 41 %] elapsed[sec]: 0.094 | ETA[sec]: 0.133 "
       ]
      },
      {
       "output_type": "stream",
       "stream": "stderr",
       "text": [
        "\r",
        "[ 42 %] elapsed[sec]: 0.096 | ETA[sec]: 0.131 "
       ]
      },
      {
       "output_type": "stream",
       "stream": "stderr",
       "text": [
        "\r",
        "[ 42 %] elapsed[sec]: 0.097 | ETA[sec]: 0.129 "
       ]
      },
      {
       "output_type": "stream",
       "stream": "stderr",
       "text": [
        "\r",
        "[ 43 %] elapsed[sec]: 0.099 | ETA[sec]: 0.127 "
       ]
      },
      {
       "output_type": "stream",
       "stream": "stderr",
       "text": [
        "\r",
        "[ 44 %] elapsed[sec]: 0.101 | ETA[sec]: 0.126 "
       ]
      },
      {
       "output_type": "stream",
       "stream": "stderr",
       "text": [
        "\r",
        "[ 45 %] elapsed[sec]: 0.103 | ETA[sec]: 0.124 "
       ]
      },
      {
       "output_type": "stream",
       "stream": "stderr",
       "text": [
        "\r",
        "[ 46 %] elapsed[sec]: 0.104 | ETA[sec]: 0.122 "
       ]
      },
      {
       "output_type": "stream",
       "stream": "stderr",
       "text": [
        "\r",
        "[ 46 %] elapsed[sec]: 0.106 | ETA[sec]: 0.120 "
       ]
      },
      {
       "output_type": "stream",
       "stream": "stderr",
       "text": [
        "\r",
        "[ 47 %] elapsed[sec]: 0.108 | ETA[sec]: 0.119 "
       ]
      },
      {
       "output_type": "stream",
       "stream": "stderr",
       "text": [
        "\r",
        "[ 48 %] elapsed[sec]: 0.110 | ETA[sec]: 0.117 "
       ]
      },
      {
       "output_type": "stream",
       "stream": "stderr",
       "text": [
        "\r",
        "[ 49 %] elapsed[sec]: 0.112 | ETA[sec]: 0.115 "
       ]
      },
      {
       "output_type": "stream",
       "stream": "stderr",
       "text": [
        "\r",
        "[ 50 %] elapsed[sec]: 0.113 | ETA[sec]: 0.114 "
       ]
      },
      {
       "output_type": "stream",
       "stream": "stderr",
       "text": [
        "\r",
        "[ 50 %] elapsed[sec]: 0.115 | ETA[sec]: 0.112 "
       ]
      },
      {
       "output_type": "stream",
       "stream": "stderr",
       "text": [
        "\r",
        "[ 51 %] elapsed[sec]: 0.117 | ETA[sec]: 0.110 "
       ]
      },
      {
       "output_type": "stream",
       "stream": "stderr",
       "text": [
        "\r",
        "[ 52 %] elapsed[sec]: 0.118 | ETA[sec]: 0.108 "
       ]
      },
      {
       "output_type": "stream",
       "stream": "stderr",
       "text": [
        "\r",
        "[ 53 %] elapsed[sec]: 0.120 | ETA[sec]: 0.106 "
       ]
      },
      {
       "output_type": "stream",
       "stream": "stderr",
       "text": [
        "\r",
        "[ 53 %] elapsed[sec]: 0.122 | ETA[sec]: 0.104 "
       ]
      },
      {
       "output_type": "stream",
       "stream": "stderr",
       "text": [
        "\r",
        "[ 54 %] elapsed[sec]: 0.124 | ETA[sec]: 0.103 "
       ]
      },
      {
       "output_type": "stream",
       "stream": "stderr",
       "text": [
        "\r",
        "[ 55 %] elapsed[sec]: 0.126 | ETA[sec]: 0.101 "
       ]
      },
      {
       "output_type": "stream",
       "stream": "stderr",
       "text": [
        "\r",
        "[ 56 %] elapsed[sec]: 0.128 | ETA[sec]: 0.100 "
       ]
      },
      {
       "output_type": "stream",
       "stream": "stderr",
       "text": [
        "\r",
        "[ 57 %] elapsed[sec]: 0.129 | ETA[sec]: 0.098 "
       ]
      },
      {
       "output_type": "stream",
       "stream": "stderr",
       "text": [
        "\r",
        "[ 57 %] elapsed[sec]: 0.131 | ETA[sec]: 0.095 "
       ]
      },
      {
       "output_type": "stream",
       "stream": "stderr",
       "text": [
        "\r",
        "[ 58 %] elapsed[sec]: 0.132 | ETA[sec]: 0.093 "
       ]
      },
      {
       "output_type": "stream",
       "stream": "stderr",
       "text": [
        "\r",
        "[ 59 %] elapsed[sec]: 0.133 | ETA[sec]: 0.091 "
       ]
      },
      {
       "output_type": "stream",
       "stream": "stderr",
       "text": [
        "\r",
        "[ 60 %] elapsed[sec]: 0.135 | ETA[sec]: 0.089 "
       ]
      },
      {
       "output_type": "stream",
       "stream": "stderr",
       "text": [
        "\r",
        "[ 60 %] elapsed[sec]: 0.136 | ETA[sec]: 0.087 "
       ]
      },
      {
       "output_type": "stream",
       "stream": "stderr",
       "text": [
        "\r",
        "[ 61 %] elapsed[sec]: 0.137 | ETA[sec]: 0.085 "
       ]
      },
      {
       "output_type": "stream",
       "stream": "stderr",
       "text": [
        "\r",
        "[ 62 %] elapsed[sec]: 0.139 | ETA[sec]: 0.083 "
       ]
      },
      {
       "output_type": "stream",
       "stream": "stderr",
       "text": [
        "\r",
        "[ 63 %] elapsed[sec]: 0.140 | ETA[sec]: 0.081 "
       ]
      },
      {
       "output_type": "stream",
       "stream": "stderr",
       "text": [
        "\r",
        "[ 64 %] elapsed[sec]: 0.142 | ETA[sec]: 0.080 "
       ]
      },
      {
       "output_type": "stream",
       "stream": "stderr",
       "text": [
        "\r",
        "[ 64 %] elapsed[sec]: 0.144 | ETA[sec]: 0.078 "
       ]
      },
      {
       "output_type": "stream",
       "stream": "stderr",
       "text": [
        "\r",
        "[ 65 %] elapsed[sec]: 0.146 | ETA[sec]: 0.076 "
       ]
      },
      {
       "output_type": "stream",
       "stream": "stderr",
       "text": [
        "\r",
        "[ 66 %] elapsed[sec]: 0.148 | ETA[sec]: 0.075 "
       ]
      },
      {
       "output_type": "stream",
       "stream": "stderr",
       "text": [
        "\r",
        "[ 67 %] elapsed[sec]: 0.150 | ETA[sec]: 0.073 "
       ]
      },
      {
       "output_type": "stream",
       "stream": "stderr",
       "text": [
        "\r",
        "[ 67 %] elapsed[sec]: 0.152 | ETA[sec]: 0.072 "
       ]
      },
      {
       "output_type": "stream",
       "stream": "stderr",
       "text": [
        "\r",
        "[ 68 %] elapsed[sec]: 0.154 | ETA[sec]: 0.070 "
       ]
      },
      {
       "output_type": "stream",
       "stream": "stderr",
       "text": [
        "\r",
        "[ 69 %] elapsed[sec]: 0.155 | ETA[sec]: 0.068 "
       ]
      },
      {
       "output_type": "stream",
       "stream": "stderr",
       "text": [
        "\r",
        "[ 70 %] elapsed[sec]: 0.157 | ETA[sec]: 0.066 "
       ]
      },
      {
       "output_type": "stream",
       "stream": "stderr",
       "text": [
        "\r",
        "[ 71 %] elapsed[sec]: 0.159 | ETA[sec]: 0.065 "
       ]
      },
      {
       "output_type": "stream",
       "stream": "stderr",
       "text": [
        "\r",
        "[ 71 %] elapsed[sec]: 0.161 | ETA[sec]: 0.063 "
       ]
      },
      {
       "output_type": "stream",
       "stream": "stderr",
       "text": [
        "\r",
        "[ 72 %] elapsed[sec]: 0.162 | ETA[sec]: 0.061 "
       ]
      },
      {
       "output_type": "stream",
       "stream": "stderr",
       "text": [
        "\r",
        "[ 73 %] elapsed[sec]: 0.164 | ETA[sec]: 0.059 "
       ]
      },
      {
       "output_type": "stream",
       "stream": "stderr",
       "text": [
        "\r",
        "[ 74 %] elapsed[sec]: 0.166 | ETA[sec]: 0.058 "
       ]
      },
      {
       "output_type": "stream",
       "stream": "stderr",
       "text": [
        "\r",
        "[ 75 %] elapsed[sec]: 0.167 | ETA[sec]: 0.056 "
       ]
      },
      {
       "output_type": "stream",
       "stream": "stderr",
       "text": [
        "\r",
        "[ 75 %] elapsed[sec]: 0.169 | ETA[sec]: 0.054 "
       ]
      },
      {
       "output_type": "stream",
       "stream": "stderr",
       "text": [
        "\r",
        "[ 76 %] elapsed[sec]: 0.171 | ETA[sec]: 0.052 "
       ]
      },
      {
       "output_type": "stream",
       "stream": "stderr",
       "text": [
        "\r",
        "[ 77 %] elapsed[sec]: 0.173 | ETA[sec]: 0.051 "
       ]
      },
      {
       "output_type": "stream",
       "stream": "stderr",
       "text": [
        "\r",
        "[ 78 %] elapsed[sec]: 0.174 | ETA[sec]: 0.049 "
       ]
      },
      {
       "output_type": "stream",
       "stream": "stderr",
       "text": [
        "\r",
        "[ 78 %] elapsed[sec]: 0.176 | ETA[sec]: 0.047 "
       ]
      },
      {
       "output_type": "stream",
       "stream": "stderr",
       "text": [
        "\r",
        "[ 79 %] elapsed[sec]: 0.177 | ETA[sec]: 0.045 "
       ]
      },
      {
       "output_type": "stream",
       "stream": "stderr",
       "text": [
        "\r",
        "[ 80 %] elapsed[sec]: 0.178 | ETA[sec]: 0.043 "
       ]
      },
      {
       "output_type": "stream",
       "stream": "stderr",
       "text": [
        "\r",
        "[ 81 %] elapsed[sec]: 0.181 | ETA[sec]: 0.042 "
       ]
      },
      {
       "output_type": "stream",
       "stream": "stderr",
       "text": [
        "\r",
        "[ 82 %] elapsed[sec]: 0.183 | ETA[sec]: 0.040 "
       ]
      },
      {
       "output_type": "stream",
       "stream": "stderr",
       "text": [
        "\r",
        "[ 82 %] elapsed[sec]: 0.185 | ETA[sec]: 0.038 "
       ]
      },
      {
       "output_type": "stream",
       "stream": "stderr",
       "text": [
        "\r",
        "[ 83 %] elapsed[sec]: 0.186 | ETA[sec]: 0.037 "
       ]
      },
      {
       "output_type": "stream",
       "stream": "stderr",
       "text": [
        "\r",
        "[ 84 %] elapsed[sec]: 0.188 | ETA[sec]: 0.035 "
       ]
      },
      {
       "output_type": "stream",
       "stream": "stderr",
       "text": [
        "\r",
        "[ 85 %] elapsed[sec]: 0.189 | ETA[sec]: 0.033 "
       ]
      },
      {
       "output_type": "stream",
       "stream": "stderr",
       "text": [
        "\r",
        "[ 85 %] elapsed[sec]: 0.190 | ETA[sec]: 0.031 "
       ]
      },
      {
       "output_type": "stream",
       "stream": "stderr",
       "text": [
        "\r",
        "[ 86 %] elapsed[sec]: 0.192 | ETA[sec]: 0.029 "
       ]
      },
      {
       "output_type": "stream",
       "stream": "stderr",
       "text": [
        "\r",
        "[ 87 %] elapsed[sec]: 0.195 | ETA[sec]: 0.028 "
       ]
      },
      {
       "output_type": "stream",
       "stream": "stderr",
       "text": [
        "\r",
        "[ 88 %] elapsed[sec]: 0.196 | ETA[sec]: 0.026 "
       ]
      },
      {
       "output_type": "stream",
       "stream": "stderr",
       "text": [
        "\r",
        "[ 89 %] elapsed[sec]: 0.198 | ETA[sec]: 0.024 "
       ]
      },
      {
       "output_type": "stream",
       "stream": "stderr",
       "text": [
        "\r",
        "[ 89 %] elapsed[sec]: 0.201 | ETA[sec]: 0.023 "
       ]
      },
      {
       "output_type": "stream",
       "stream": "stderr",
       "text": [
        "\r",
        "[ 90 %] elapsed[sec]: 0.203 | ETA[sec]: 0.021 "
       ]
      },
      {
       "output_type": "stream",
       "stream": "stderr",
       "text": [
        "\r",
        "[ 91 %] elapsed[sec]: 0.205 | ETA[sec]: 0.019 "
       ]
      },
      {
       "output_type": "stream",
       "stream": "stderr",
       "text": [
        "\r",
        "[ 92 %] elapsed[sec]: 0.207 | ETA[sec]: 0.018 "
       ]
      },
      {
       "output_type": "stream",
       "stream": "stderr",
       "text": [
        "\r",
        "[ 92 %] elapsed[sec]: 0.209 | ETA[sec]: 0.016 "
       ]
      },
      {
       "output_type": "stream",
       "stream": "stderr",
       "text": [
        "\r",
        "[ 93 %] elapsed[sec]: 0.211 | ETA[sec]: 0.014 "
       ]
      },
      {
       "output_type": "stream",
       "stream": "stderr",
       "text": [
        "\r",
        "[ 94 %] elapsed[sec]: 0.213 | ETA[sec]: 0.012 "
       ]
      },
      {
       "output_type": "stream",
       "stream": "stderr",
       "text": [
        "\r",
        "[ 95 %] elapsed[sec]: 0.215 | ETA[sec]: 0.011 "
       ]
      },
      {
       "output_type": "stream",
       "stream": "stderr",
       "text": [
        "\r",
        "[ 96 %] elapsed[sec]: 0.217 | ETA[sec]: 0.009 "
       ]
      },
      {
       "output_type": "stream",
       "stream": "stderr",
       "text": [
        "\r",
        "[ 96 %] elapsed[sec]: 0.219 | ETA[sec]: 0.007 "
       ]
      },
      {
       "output_type": "stream",
       "stream": "stderr",
       "text": [
        "\r",
        "[ 97 %] elapsed[sec]: 0.221 | ETA[sec]: 0.005 "
       ]
      },
      {
       "output_type": "stream",
       "stream": "stderr",
       "text": [
        "\r",
        "[ 98 %] elapsed[sec]: 0.222 | ETA[sec]: 0.004 "
       ]
      },
      {
       "output_type": "stream",
       "stream": "stderr",
       "text": [
        "\r",
        "[ 99 %] elapsed[sec]: 0.224 | ETA[sec]: 0.002 "
       ]
      },
      {
       "output_type": "stream",
       "stream": "stderr",
       "text": [
        "\r",
        "[100 %] elapsed[sec]: 0.227"
       ]
      },
      {
       "output_type": "stream",
       "stream": "stdout",
       "text": [
        "\n",
        "Title: \n",
        "                      Started: 09/24/2014 16:10:15\n",
        "                      Finished: 09/24/2014 16:10:16\n",
        "                      Total time elapsed: 0.227 sec\n",
        "                      CPU %: 102.600000\n",
        "                      Memory %: 3.385019"
       ]
      },
      {
       "output_type": "stream",
       "stream": "stderr",
       "text": [
        "\n",
        "Total time elapsed: 0.227 sec\n",
        "\r",
        "[  0 %]"
       ]
      },
      {
       "output_type": "stream",
       "stream": "stderr",
       "text": [
        " elapsed[sec]: 0.000"
       ]
      },
      {
       "output_type": "stream",
       "stream": "stdout",
       "text": [
        "\n",
        "Saving sequence results/color-seed-123462.webm"
       ]
      },
      {
       "output_type": "stream",
       "stream": "stderr",
       "text": [
        "\r",
        "[  0 %] elapsed[sec]: 0.001"
       ]
      },
      {
       "output_type": "stream",
       "stream": "stderr",
       "text": [
        "\r",
        "[  1 %] elapsed[sec]: 0.003 | ETA[sec]: 0.168 "
       ]
      },
      {
       "output_type": "stream",
       "stream": "stderr",
       "text": [
        "\r",
        "[  2 %] elapsed[sec]: 0.004 | ETA[sec]: 0.176 "
       ]
      },
      {
       "output_type": "stream",
       "stream": "stderr",
       "text": [
        "\r",
        "[  3 %] elapsed[sec]: 0.006 | ETA[sec]: 0.175 "
       ]
      },
      {
       "output_type": "stream",
       "stream": "stderr",
       "text": [
        "\r",
        "[  3 %] elapsed[sec]: 0.007 | ETA[sec]: 0.174 "
       ]
      },
      {
       "output_type": "stream",
       "stream": "stderr",
       "text": [
        "\r",
        "[  4 %] elapsed[sec]: 0.009 | ETA[sec]: 0.174 "
       ]
      },
      {
       "output_type": "stream",
       "stream": "stderr",
       "text": [
        "\r",
        "[  5 %] elapsed[sec]: 0.010 | ETA[sec]: 0.172 "
       ]
      },
      {
       "output_type": "stream",
       "stream": "stderr",
       "text": [
        "\r",
        "[  6 %] elapsed[sec]: 0.012 | ETA[sec]: 0.173 "
       ]
      },
      {
       "output_type": "stream",
       "stream": "stderr",
       "text": [
        "\r",
        "[  7 %] elapsed[sec]: 0.013 | ETA[sec]: 0.174 "
       ]
      },
      {
       "output_type": "stream",
       "stream": "stderr",
       "text": [
        "\r",
        "[  7 %] elapsed[sec]: 0.015 | ETA[sec]: 0.176 "
       ]
      },
      {
       "output_type": "stream",
       "stream": "stderr",
       "text": [
        "\r",
        "[  8 %] elapsed[sec]: 0.016 | ETA[sec]: 0.175 "
       ]
      },
      {
       "output_type": "stream",
       "stream": "stderr",
       "text": [
        "\r",
        "[  9 %] elapsed[sec]: 0.018 | ETA[sec]: 0.173 "
       ]
      },
      {
       "output_type": "stream",
       "stream": "stderr",
       "text": [
        "\r",
        "[ 10 %] elapsed[sec]: 0.019 | ETA[sec]: 0.171 "
       ]
      },
      {
       "output_type": "stream",
       "stream": "stderr",
       "text": [
        "\r",
        "[ 10 %] elapsed[sec]: 0.021 | ETA[sec]: 0.168 "
       ]
      },
      {
       "output_type": "stream",
       "stream": "stderr",
       "text": [
        "\r",
        "[ 11 %] elapsed[sec]: 0.022 | ETA[sec]: 0.166 "
       ]
      },
      {
       "output_type": "stream",
       "stream": "stderr",
       "text": [
        "\r",
        "[ 12 %] elapsed[sec]: 0.023 | ETA[sec]: 0.164 "
       ]
      },
      {
       "output_type": "stream",
       "stream": "stderr",
       "text": [
        "\r",
        "[ 13 %] elapsed[sec]: 0.025 | ETA[sec]: 0.164 "
       ]
      },
      {
       "output_type": "stream",
       "stream": "stderr",
       "text": [
        "\r",
        "[ 14 %] elapsed[sec]: 0.027 | ETA[sec]: 0.166 "
       ]
      },
      {
       "output_type": "stream",
       "stream": "stderr",
       "text": [
        "\r",
        "[ 14 %] elapsed[sec]: 0.029 | ETA[sec]: 0.168 "
       ]
      },
      {
       "output_type": "stream",
       "stream": "stderr",
       "text": [
        "\r",
        "[ 15 %] elapsed[sec]: 0.031 | ETA[sec]: 0.170 "
       ]
      },
      {
       "output_type": "stream",
       "stream": "stderr",
       "text": [
        "\r",
        "[ 16 %] elapsed[sec]: 0.034 | ETA[sec]: 0.171 "
       ]
      },
      {
       "output_type": "stream",
       "stream": "stderr",
       "text": [
        "\r",
        "[ 17 %] elapsed[sec]: 0.036 | ETA[sec]: 0.171 "
       ]
      },
      {
       "output_type": "stream",
       "stream": "stderr",
       "text": [
        "\r",
        "[ 17 %] elapsed[sec]: 0.038 | ETA[sec]: 0.172 "
       ]
      },
      {
       "output_type": "stream",
       "stream": "stderr",
       "text": [
        "\r",
        "[ 18 %] elapsed[sec]: 0.040 | ETA[sec]: 0.173 "
       ]
      },
      {
       "output_type": "stream",
       "stream": "stderr",
       "text": [
        "\r",
        "[ 19 %] elapsed[sec]: 0.042 | ETA[sec]: 0.172 "
       ]
      },
      {
       "output_type": "stream",
       "stream": "stderr",
       "text": [
        "\r",
        "[ 20 %] elapsed[sec]: 0.043 | ETA[sec]: 0.169 "
       ]
      },
      {
       "output_type": "stream",
       "stream": "stderr",
       "text": [
        "\r",
        "[ 21 %] elapsed[sec]: 0.045 | ETA[sec]: 0.167 "
       ]
      },
      {
       "output_type": "stream",
       "stream": "stderr",
       "text": [
        "\r",
        "[ 21 %] elapsed[sec]: 0.046 | ETA[sec]: 0.164 "
       ]
      },
      {
       "output_type": "stream",
       "stream": "stderr",
       "text": [
        "\r",
        "[ 22 %] elapsed[sec]: 0.047 | ETA[sec]: 0.161 "
       ]
      },
      {
       "output_type": "stream",
       "stream": "stderr",
       "text": [
        "\r",
        "[ 23 %] elapsed[sec]: 0.049 | ETA[sec]: 0.159 "
       ]
      },
      {
       "output_type": "stream",
       "stream": "stderr",
       "text": [
        "\r",
        "[ 24 %] elapsed[sec]: 0.050 | ETA[sec]: 0.156 "
       ]
      },
      {
       "output_type": "stream",
       "stream": "stderr",
       "text": [
        "\r",
        "[ 25 %] elapsed[sec]: 0.052 | ETA[sec]: 0.155 "
       ]
      },
      {
       "output_type": "stream",
       "stream": "stderr",
       "text": [
        "\r",
        "[ 25 %] elapsed[sec]: 0.053 | ETA[sec]: 0.152 "
       ]
      },
      {
       "output_type": "stream",
       "stream": "stderr",
       "text": [
        "\r",
        "[ 26 %] elapsed[sec]: 0.055 | ETA[sec]: 0.151 "
       ]
      },
      {
       "output_type": "stream",
       "stream": "stderr",
       "text": [
        "\r",
        "[ 27 %] elapsed[sec]: 0.057 | ETA[sec]: 0.150 "
       ]
      },
      {
       "output_type": "stream",
       "stream": "stderr",
       "text": [
        "\r",
        "[ 28 %] elapsed[sec]: 0.058 | ETA[sec]: 0.149 "
       ]
      },
      {
       "output_type": "stream",
       "stream": "stderr",
       "text": [
        "\r",
        "[ 28 %] elapsed[sec]: 0.060 | ETA[sec]: 0.147 "
       ]
      },
      {
       "output_type": "stream",
       "stream": "stderr",
       "text": [
        "\r",
        "[ 29 %] elapsed[sec]: 0.061 | ETA[sec]: 0.146 "
       ]
      },
      {
       "output_type": "stream",
       "stream": "stderr",
       "text": [
        "\r",
        "[ 30 %] elapsed[sec]: 0.063 | ETA[sec]: 0.144 "
       ]
      },
      {
       "output_type": "stream",
       "stream": "stderr",
       "text": [
        "\r",
        "[ 31 %] elapsed[sec]: 0.065 | ETA[sec]: 0.143 "
       ]
      },
      {
       "output_type": "stream",
       "stream": "stderr",
       "text": [
        "\r",
        "[ 32 %] elapsed[sec]: 0.067 | ETA[sec]: 0.142 "
       ]
      },
      {
       "output_type": "stream",
       "stream": "stderr",
       "text": [
        "\r",
        "[ 32 %] elapsed[sec]: 0.068 | ETA[sec]: 0.140 "
       ]
      },
      {
       "output_type": "stream",
       "stream": "stderr",
       "text": [
        "\r",
        "[ 33 %] elapsed[sec]: 0.070 | ETA[sec]: 0.138 "
       ]
      },
      {
       "output_type": "stream",
       "stream": "stderr",
       "text": [
        "\r",
        "[ 34 %] elapsed[sec]: 0.072 | ETA[sec]: 0.137 "
       ]
      },
      {
       "output_type": "stream",
       "stream": "stderr",
       "text": [
        "\r",
        "[ 35 %] elapsed[sec]: 0.074 | ETA[sec]: 0.136 "
       ]
      },
      {
       "output_type": "stream",
       "stream": "stderr",
       "text": [
        "\r",
        "[ 35 %] elapsed[sec]: 0.076 | ETA[sec]: 0.135 "
       ]
      },
      {
       "output_type": "stream",
       "stream": "stderr",
       "text": [
        "\r",
        "[ 36 %] elapsed[sec]: 0.078 | ETA[sec]: 0.134 "
       ]
      },
      {
       "output_type": "stream",
       "stream": "stderr",
       "text": [
        "\r",
        "[ 37 %] elapsed[sec]: 0.080 | ETA[sec]: 0.134 "
       ]
      },
      {
       "output_type": "stream",
       "stream": "stderr",
       "text": [
        "\r",
        "[ 38 %] elapsed[sec]: 0.082 | ETA[sec]: 0.133 "
       ]
      },
      {
       "output_type": "stream",
       "stream": "stderr",
       "text": [
        "\r",
        "[ 39 %] elapsed[sec]: 0.084 | ETA[sec]: 0.132 "
       ]
      },
      {
       "output_type": "stream",
       "stream": "stderr",
       "text": [
        "\r",
        "[ 39 %] elapsed[sec]: 0.086 | ETA[sec]: 0.131 "
       ]
      },
      {
       "output_type": "stream",
       "stream": "stderr",
       "text": [
        "\r",
        "[ 40 %] elapsed[sec]: 0.089 | ETA[sec]: 0.130 "
       ]
      },
      {
       "output_type": "stream",
       "stream": "stderr",
       "text": [
        "\r",
        "[ 41 %] elapsed[sec]: 0.091 | ETA[sec]: 0.128 "
       ]
      },
      {
       "output_type": "stream",
       "stream": "stderr",
       "text": [
        "\r",
        "[ 42 %] elapsed[sec]: 0.093 | ETA[sec]: 0.127 "
       ]
      },
      {
       "output_type": "stream",
       "stream": "stderr",
       "text": [
        "\r",
        "[ 42 %] elapsed[sec]: 0.094 | ETA[sec]: 0.125 "
       ]
      },
      {
       "output_type": "stream",
       "stream": "stderr",
       "text": [
        "\r",
        "[ 43 %] elapsed[sec]: 0.096 | ETA[sec]: 0.124 "
       ]
      },
      {
       "output_type": "stream",
       "stream": "stderr",
       "text": [
        "\r",
        "[ 44 %] elapsed[sec]: 0.098 | ETA[sec]: 0.122 "
       ]
      },
      {
       "output_type": "stream",
       "stream": "stderr",
       "text": [
        "\r",
        "[ 45 %] elapsed[sec]: 0.100 | ETA[sec]: 0.120 "
       ]
      },
      {
       "output_type": "stream",
       "stream": "stderr",
       "text": [
        "\r",
        "[ 46 %] elapsed[sec]: 0.101 | ETA[sec]: 0.118 "
       ]
      },
      {
       "output_type": "stream",
       "stream": "stderr",
       "text": [
        "\r",
        "[ 46 %] elapsed[sec]: 0.102 | ETA[sec]: 0.116 "
       ]
      },
      {
       "output_type": "stream",
       "stream": "stderr",
       "text": [
        "\r",
        "[ 47 %] elapsed[sec]: 0.104 | ETA[sec]: 0.114 "
       ]
      },
      {
       "output_type": "stream",
       "stream": "stderr",
       "text": [
        "\r",
        "[ 48 %] elapsed[sec]: 0.105 | ETA[sec]: 0.112 "
       ]
      },
      {
       "output_type": "stream",
       "stream": "stderr",
       "text": [
        "\r",
        "[ 49 %] elapsed[sec]: 0.107 | ETA[sec]: 0.110 "
       ]
      },
      {
       "output_type": "stream",
       "stream": "stderr",
       "text": [
        "\r",
        "[ 50 %] elapsed[sec]: 0.108 | ETA[sec]: 0.108 "
       ]
      },
      {
       "output_type": "stream",
       "stream": "stderr",
       "text": [
        "\r",
        "[ 50 %] elapsed[sec]: 0.109 | ETA[sec]: 0.106 "
       ]
      },
      {
       "output_type": "stream",
       "stream": "stderr",
       "text": [
        "\r",
        "[ 51 %] elapsed[sec]: 0.111 | ETA[sec]: 0.105 "
       ]
      },
      {
       "output_type": "stream",
       "stream": "stderr",
       "text": [
        "\r",
        "[ 52 %] elapsed[sec]: 0.113 | ETA[sec]: 0.103 "
       ]
      },
      {
       "output_type": "stream",
       "stream": "stderr",
       "text": [
        "\r",
        "[ 53 %] elapsed[sec]: 0.116 | ETA[sec]: 0.102 "
       ]
      },
      {
       "output_type": "stream",
       "stream": "stderr",
       "text": [
        "\r",
        "[ 53 %] elapsed[sec]: 0.118 | ETA[sec]: 0.101 "
       ]
      },
      {
       "output_type": "stream",
       "stream": "stderr",
       "text": [
        "\r",
        "[ 54 %] elapsed[sec]: 0.120 | ETA[sec]: 0.099 "
       ]
      },
      {
       "output_type": "stream",
       "stream": "stderr",
       "text": [
        "\r",
        "[ 55 %] elapsed[sec]: 0.122 | ETA[sec]: 0.098 "
       ]
      },
      {
       "output_type": "stream",
       "stream": "stderr",
       "text": [
        "\r",
        "[ 56 %] elapsed[sec]: 0.124 | ETA[sec]: 0.097 "
       ]
      },
      {
       "output_type": "stream",
       "stream": "stderr",
       "text": [
        "\r",
        "[ 57 %] elapsed[sec]: 0.126 | ETA[sec]: 0.095 "
       ]
      },
      {
       "output_type": "stream",
       "stream": "stderr",
       "text": [
        "\r",
        "[ 57 %] elapsed[sec]: 0.128 | ETA[sec]: 0.094 "
       ]
      },
      {
       "output_type": "stream",
       "stream": "stderr",
       "text": [
        "\r",
        "[ 58 %] elapsed[sec]: 0.130 | ETA[sec]: 0.092 "
       ]
      },
      {
       "output_type": "stream",
       "stream": "stderr",
       "text": [
        "\r",
        "[ 59 %] elapsed[sec]: 0.132 | ETA[sec]: 0.090 "
       ]
      },
      {
       "output_type": "stream",
       "stream": "stderr",
       "text": [
        "\r",
        "[ 60 %] elapsed[sec]: 0.133 | ETA[sec]: 0.088 "
       ]
      },
      {
       "output_type": "stream",
       "stream": "stderr",
       "text": [
        "\r",
        "[ 60 %] elapsed[sec]: 0.135 | ETA[sec]: 0.086 "
       ]
      },
      {
       "output_type": "stream",
       "stream": "stderr",
       "text": [
        "\r",
        "[ 61 %] elapsed[sec]: 0.136 | ETA[sec]: 0.084 "
       ]
      },
      {
       "output_type": "stream",
       "stream": "stderr",
       "text": [
        "\r",
        "[ 62 %] elapsed[sec]: 0.137 | ETA[sec]: 0.082 "
       ]
      },
      {
       "output_type": "stream",
       "stream": "stderr",
       "text": [
        "\r",
        "[ 63 %] elapsed[sec]: 0.138 | ETA[sec]: 0.080 "
       ]
      },
      {
       "output_type": "stream",
       "stream": "stderr",
       "text": [
        "\r",
        "[ 64 %] elapsed[sec]: 0.140 | ETA[sec]: 0.078 "
       ]
      },
      {
       "output_type": "stream",
       "stream": "stderr",
       "text": [
        "\r",
        "[ 64 %] elapsed[sec]: 0.141 | ETA[sec]: 0.076 "
       ]
      },
      {
       "output_type": "stream",
       "stream": "stderr",
       "text": [
        "\r",
        "[ 65 %] elapsed[sec]: 0.142 | ETA[sec]: 0.075 "
       ]
      },
      {
       "output_type": "stream",
       "stream": "stderr",
       "text": [
        "\r",
        "[ 66 %] elapsed[sec]: 0.144 | ETA[sec]: 0.073 "
       ]
      },
      {
       "output_type": "stream",
       "stream": "stderr",
       "text": [
        "\r",
        "[ 67 %] elapsed[sec]: 0.146 | ETA[sec]: 0.071 "
       ]
      },
      {
       "output_type": "stream",
       "stream": "stderr",
       "text": [
        "\r",
        "[ 67 %] elapsed[sec]: 0.147 | ETA[sec]: 0.069 "
       ]
      },
      {
       "output_type": "stream",
       "stream": "stderr",
       "text": [
        "\r",
        "[ 68 %] elapsed[sec]: 0.149 | ETA[sec]: 0.068 "
       ]
      },
      {
       "output_type": "stream",
       "stream": "stderr",
       "text": [
        "\r",
        "[ 69 %] elapsed[sec]: 0.151 | ETA[sec]: 0.066 "
       ]
      },
      {
       "output_type": "stream",
       "stream": "stderr",
       "text": [
        "\r",
        "[ 70 %] elapsed[sec]: 0.153 | ETA[sec]: 0.064 "
       ]
      },
      {
       "output_type": "stream",
       "stream": "stderr",
       "text": [
        "\r",
        "[ 71 %] elapsed[sec]: 0.154 | ETA[sec]: 0.063 "
       ]
      },
      {
       "output_type": "stream",
       "stream": "stderr",
       "text": [
        "\r",
        "[ 71 %] elapsed[sec]: 0.156 | ETA[sec]: 0.061 "
       ]
      },
      {
       "output_type": "stream",
       "stream": "stderr",
       "text": [
        "\r",
        "[ 72 %] elapsed[sec]: 0.158 | ETA[sec]: 0.059 "
       ]
      },
      {
       "output_type": "stream",
       "stream": "stderr",
       "text": [
        "\r",
        "[ 73 %] elapsed[sec]: 0.159 | ETA[sec]: 0.058 "
       ]
      },
      {
       "output_type": "stream",
       "stream": "stderr",
       "text": [
        "\r",
        "[ 74 %] elapsed[sec]: 0.161 | ETA[sec]: 0.056 "
       ]
      },
      {
       "output_type": "stream",
       "stream": "stderr",
       "text": [
        "\r",
        "[ 75 %] elapsed[sec]: 0.162 | ETA[sec]: 0.054 "
       ]
      },
      {
       "output_type": "stream",
       "stream": "stderr",
       "text": [
        "\r",
        "[ 75 %] elapsed[sec]: 0.164 | ETA[sec]: 0.052 "
       ]
      },
      {
       "output_type": "stream",
       "stream": "stderr",
       "text": [
        "\r",
        "[ 76 %] elapsed[sec]: 0.166 | ETA[sec]: 0.051 "
       ]
      },
      {
       "output_type": "stream",
       "stream": "stderr",
       "text": [
        "\r",
        "[ 77 %] elapsed[sec]: 0.168 | ETA[sec]: 0.049 "
       ]
      },
      {
       "output_type": "stream",
       "stream": "stderr",
       "text": [
        "\r",
        "[ 78 %] elapsed[sec]: 0.169 | ETA[sec]: 0.047 "
       ]
      },
      {
       "output_type": "stream",
       "stream": "stderr",
       "text": [
        "\r",
        "[ 78 %] elapsed[sec]: 0.171 | ETA[sec]: 0.046 "
       ]
      },
      {
       "output_type": "stream",
       "stream": "stderr",
       "text": [
        "\r",
        "[ 79 %] elapsed[sec]: 0.173 | ETA[sec]: 0.044 "
       ]
      },
      {
       "output_type": "stream",
       "stream": "stderr",
       "text": [
        "\r",
        "[ 80 %] elapsed[sec]: 0.175 | ETA[sec]: 0.042 "
       ]
      },
      {
       "output_type": "stream",
       "stream": "stderr",
       "text": [
        "\r",
        "[ 81 %] elapsed[sec]: 0.177 | ETA[sec]: 0.041 "
       ]
      },
      {
       "output_type": "stream",
       "stream": "stderr",
       "text": [
        "\r",
        "[ 82 %] elapsed[sec]: 0.178 | ETA[sec]: 0.039 "
       ]
      },
      {
       "output_type": "stream",
       "stream": "stderr",
       "text": [
        "\r",
        "[ 82 %] elapsed[sec]: 0.180 | ETA[sec]: 0.037 "
       ]
      },
      {
       "output_type": "stream",
       "stream": "stderr",
       "text": [
        "\r",
        "[ 83 %] elapsed[sec]: 0.182 | ETA[sec]: 0.036 "
       ]
      },
      {
       "output_type": "stream",
       "stream": "stderr",
       "text": [
        "\r",
        "[ 84 %] elapsed[sec]: 0.184 | ETA[sec]: 0.034 "
       ]
      },
      {
       "output_type": "stream",
       "stream": "stderr",
       "text": [
        "\r",
        "[ 85 %] elapsed[sec]: 0.185 | ETA[sec]: 0.032 "
       ]
      },
      {
       "output_type": "stream",
       "stream": "stderr",
       "text": [
        "\r",
        "[ 85 %] elapsed[sec]: 0.186 | ETA[sec]: 0.030 "
       ]
      },
      {
       "output_type": "stream",
       "stream": "stderr",
       "text": [
        "\r",
        "[ 86 %] elapsed[sec]: 0.188 | ETA[sec]: 0.029 "
       ]
      },
      {
       "output_type": "stream",
       "stream": "stderr",
       "text": [
        "\r",
        "[ 87 %] elapsed[sec]: 0.189 | ETA[sec]: 0.027 "
       ]
      },
      {
       "output_type": "stream",
       "stream": "stderr",
       "text": [
        "\r",
        "[ 88 %] elapsed[sec]: 0.191 | ETA[sec]: 0.025 "
       ]
      },
      {
       "output_type": "stream",
       "stream": "stderr",
       "text": [
        "\r",
        "[ 89 %] elapsed[sec]: 0.193 | ETA[sec]: 0.024 "
       ]
      },
      {
       "output_type": "stream",
       "stream": "stderr",
       "text": [
        "\r",
        "[ 89 %] elapsed[sec]: 0.194 | ETA[sec]: 0.022 "
       ]
      },
      {
       "output_type": "stream",
       "stream": "stderr",
       "text": [
        "\r",
        "[ 90 %] elapsed[sec]: 0.196 | ETA[sec]: 0.020 "
       ]
      },
      {
       "output_type": "stream",
       "stream": "stderr",
       "text": [
        "\r",
        "[ 91 %] elapsed[sec]: 0.197 | ETA[sec]: 0.019 "
       ]
      },
      {
       "output_type": "stream",
       "stream": "stderr",
       "text": [
        "\r",
        "[ 92 %] elapsed[sec]: 0.199 | ETA[sec]: 0.017 "
       ]
      },
      {
       "output_type": "stream",
       "stream": "stderr",
       "text": [
        "\r",
        "[ 92 %] elapsed[sec]: 0.200 | ETA[sec]: 0.015 "
       ]
      },
      {
       "output_type": "stream",
       "stream": "stderr",
       "text": [
        "\r",
        "[ 93 %] elapsed[sec]: 0.202 | ETA[sec]: 0.013 "
       ]
      },
      {
       "output_type": "stream",
       "stream": "stderr",
       "text": [
        "\r",
        "[ 94 %] elapsed[sec]: 0.203 | ETA[sec]: 0.012 "
       ]
      },
      {
       "output_type": "stream",
       "stream": "stderr",
       "text": [
        "\r",
        "[ 95 %] elapsed[sec]: 0.205 | ETA[sec]: 0.010 "
       ]
      },
      {
       "output_type": "stream",
       "stream": "stderr",
       "text": [
        "\r",
        "[ 96 %] elapsed[sec]: 0.206 | ETA[sec]: 0.008 "
       ]
      },
      {
       "output_type": "stream",
       "stream": "stderr",
       "text": [
        "\r",
        "[ 96 %] elapsed[sec]: 0.208 | ETA[sec]: 0.007 "
       ]
      },
      {
       "output_type": "stream",
       "stream": "stderr",
       "text": [
        "\r",
        "[ 97 %] elapsed[sec]: 0.210 | ETA[sec]: 0.005 "
       ]
      },
      {
       "output_type": "stream",
       "stream": "stderr",
       "text": [
        "\r",
        "[ 98 %] elapsed[sec]: 0.212 | ETA[sec]: 0.003 "
       ]
      },
      {
       "output_type": "stream",
       "stream": "stderr",
       "text": [
        "\r",
        "[ 99 %] elapsed[sec]: 0.214 | ETA[sec]: 0.002 "
       ]
      },
      {
       "output_type": "stream",
       "stream": "stderr",
       "text": [
        "\r",
        "[100 %] elapsed[sec]: 0.216"
       ]
      },
      {
       "output_type": "stream",
       "stream": "stdout",
       "text": [
        "\n",
        "Title: \n",
        "                      Started: 09/24/2014 16:10:16\n",
        "                      Finished: 09/24/2014 16:10:16\n",
        "                      Total time elapsed: 0.216 sec\n",
        "                      CPU %: 102.600000\n",
        "                      Memory %: 3.385019"
       ]
      },
      {
       "output_type": "stream",
       "stream": "stdout",
       "text": [
        "\n"
       ]
      },
      {
       "output_type": "stream",
       "stream": "stderr",
       "text": [
        "\n",
        "Total time elapsed: 0.216 sec\n"
       ]
      }
     ],
     "prompt_number": 6
    },
    {
     "cell_type": "heading",
     "level": 2,
     "metadata": {},
     "source": [
      "Testing the speed"
     ]
    },
    {
     "cell_type": "code",
     "collapsed": false,
     "input": [
      "%run test_speed.py"
     ],
     "language": "python",
     "metadata": {},
     "outputs": [],
     "prompt_number": 7
    },
    {
     "cell_type": "code",
     "collapsed": false,
     "input": [
      "mc.in_show_video(name='speed')"
     ],
     "language": "python",
     "metadata": {},
     "outputs": [
      {
       "output_type": "stream",
       "stream": "stdout",
       "text": [
        "speed\n"
       ]
      },
      {
       "metadata": {},
       "output_type": "display_data",
       "png": "[encoded data removed]",
       "text": [
        "<IPython.core.display.Image at 0x122533ad0>"
       ]
      },
      {
       "metadata": {},
       "output_type": "display_data",
       "png": "[encoded data removed]",
       "text": [
        "<IPython.core.display.Image at 0x10cc37bd0>"
       ]
      },
      {
       "html": [
        "<video controls  autoplay=\"autoplay\" loop=\"loop\" width=50% src=\"data:video/webm;base64,GkXfowEAAAAAAAAfQoaBAUL3gQFC8oEEQvOBCEKChHdlYm1Ch4ECQoWBAhhTgGcBAAAAAAH/zxFNm3RALU27i1OrhBVJqWZTrIHfTbuMU6uEFlSua1OsggEwTbuNU6uEHFO7a1OsgwH/VewBAAAAAAAAowAAAAAAAAAAAAAAAAAAAAAAAAAAAAAAAAAAAAAAAAAAAAAAAAAAAAAAAAAAAAAAAAAAAAAAAAAAAAAAAAAAAAAAAAAAAAAAAAAAAAAAAAAAAAAAAAAAAAAAAAAAAAAAAAAAAAAAAAAAAAAAAAAAAAAAAAAAAAAAAAAAAAAAAAAAAAAAAAAAAAAAAAAAAAAAAAAAAAAAAAAAAAAAAAAAAAAAAAAVSalmAQAAAAAAAEUq17GDD0JATYCNTGF2ZjU1LjQ4LjEwMFdBjUxhdmY1NS40OC4xMDBzpJAl++tdL+p0yZx8RlxkZx+QRImIQLREAAAAAAAWVK5rAQAAAAAAADuuAQAAAAAAADLXgQFzxYEBnIEAIrWcg3VuZIaFVl9WUDiDgQEj44OEA7msoOABAAAAAAAABrCBgLqBgB9DtnUBAAAAAABaLOeBAKNiNoEAAIBQVgCdASqAAIAAAAcIhYWIhYSIAgIAUYP1J/Y/yA8w/xD43+3/2z9s/7X8H3xR/Mdwnkb/S/3P1B/jn10/Ef2z93v7969/6r+sfjB6B/jv55/pv6x+J3yC/jH8k/yf9n87P0H/W/3T/K94rkv9K/4P979gX1c+a/6n+3f5D9nPaG9T/1voD+PfzH/Yf2z4Af45/Kf9Z/ZvyF99/6T/2/EN+af1X/Pf4f8wvsB/kn87/4X9y/yX7h/RV+o/87++/6L90fYL+S/0b/gf3L/N/td9gP8f/n/+5/t3+Y//f+v/////+2n/uez/9Zf+j+f/0cfrD/5fz/+qR/wUm9k+96wVrKFzji3KMV2zg8M3P/rulqfZwoayPDOmq5H2i13MY4zLvnV5buKChsC+KswyfSx1sSF0WgIU2dibc9CzcgnLhll5pYhoy1+dPLyC6BzYPsSk1PPQed2y8iqRUMUXZ8PbkLL44Ut0nXJGJm9lFlui/tEr2KBLw8nVvgcp6Ja6UQd9/yCwHslj4VgEni6TmcNzvNacX70ExcFCn51dGXZ5flKrdPiVQhpjAqpQxyZWXw1gep5CEJU8esMk2tNLcc8pHpbgFIj9pa2px6tmTagIiNqU3LOV+bt5vPnwbl6e4+DcH8fHFYvqPKEjKwzEXYAjD3Z1GcYOxZ7n6Blz5ZWOecR1C/ylq2Cn31QlBVv24Cj66cBnTAz5WbXxcEu3qeoNvdp3XCAtXQ4dRlYxv3j27QwzU5nz7h+tJ2qRPSH/vAqJ0+LRPrFP6UyeN/UfrkxK9lvVLxZ5Eo7irdXJoTO7d1lVu2WH5npFCYX583Gso4eYvk4lLow9fPl9iGtXg89thJ2y3JfwVK2MCJi+nyn9xUT0A3M78g+6RAzUorlpDq+yCM/r1G++F/gb7oz88cuazt5VTfN2Pyo/NZvAzPhg5lQy99zidZHT5NOVUyePxCquKmxvQh7gdEruntUjtO/0FoFkR4Rnx2RUkDTZ2t9P1JS8Wd1WD5nXzcC2QJX4BylTC9G8xGgksQFUpDC8mT3wHesusxbsFFNBCeXYgdH3TovpOGfHvRsMTMIor48AQCpykg8h6Ti6wgIpXp8DnYO4c6xFgjrPZSXlbC3aVIATW7BGK7+rWwivQGvl6LzR75qLAxROiGhy6QfRWwhAd46wqEVgr47d/2bQptShzwNLxDCD2SjQMTAxeIkgKqFktQLMdpH5hiCjxCV7RNrU79cx51S2qdT/fWyTLlm0mON2Bkoc/lMPJf6LVmjWnaYcQacGkz/8ZSYGtnIl+ySrbI/VQ3fD5dzRWJdKdcT7/RaZFc0i04IV+z4zoaQLVAyXIFmpghrMSQxPUYPt6/DPse2PRXramWRamR8vQ81syE5s/ux5UMGNS7Hl1Gpg7Bc9GtNFKiCm0HIJZGZfq7hbdB4HXliUaD678ioV8OE1RgAdK1T6/F9d5nMaJr2Aj9w/ribZzNoX6gQ61r+PEYdSu39O0+vFalEts5TnNQN+dJ9UvUISau88DG6U2aKQiqJ6gIypo3lc2Vc9pzRbxPxIvoo1SGkGo1OWoFf/tIQ0fNqKPOcICVOmlx67gbmR57t3moNyIF8ZPbI8jpshn/PXm54JNRNn5OIDC6sZM+O+LbVlCuOOxoTlfGmSVxZq9lPCfU6uBTJYlHlrg+u8qI+B6HHXu6dVmFaCLYCgnDyCth4QEKJoFzM4tR1IqIUY1nXza4cPX2MvrNReAsZocqiPTjJEMLWhOVptDijjI5py/TOxwwzxbhFvjmS1S1HkPAGeTSbcBvpCejZL7JG+ZguEj7KaSjZkSzakM5t73+zYUc1OXSfydI+x4tY63c837ZxiR3T3fC/MyUT9ruptyvfn9eGRAQernICDiaOFjeJup+19mKlleqzVJMEddg6TvfVMP2T506wfiYSF8xmAO65ibrnSNBsKF3ESL4YX8FP2r57rbMJACOBDpPd2pMBaImw+eIJ1dQKM2Xh35eqaG+oen0Y/mC820NSY4RJQD2VyUvGeN5L+FAtx4X7GKGsCcFAuxfBpzPoFy5cjN8E6K6bW62gjb45D4QCuqBePGxwb7ZHjgd9fHn/gDkKBtEAPuXfyiRaj9J29msejodwMWhtQMaaV+A4LR/p+Sv8si80N05BF7XxTJlxKaBb51Q0V0MygoVnbv1fyYwvJ+Wjl56V07kFzGdmK7/h3LW16hZ/YTsT047+zh5qLodeq9dP8m2o1bqcnLNhiT1kvlPjbZmlXAH+tH1Ux+zugtqLFzyT1r/Fsiy5wIVOF/3gtkIHmq1grXn/BuqBgjhmzl+ecdul3cAW9MWPKnVmYcMQ32EfWDb2NuSfVDjfFdMAu6qk83qjlQHCxzUT8GnkvS1Yt7XomYw/2eBSyJvR9dMd5FvsUAB2XTkC7ugbjDl7BB0dL6O/UUaZvYO8Ac+69Ccfk4jPAeZ71KcWi7/PVAuMfknxbm/yayl5IdQlIm3T3oxFvyRwHsyP3gOKN0Vb/94YtEqhprD6ZyKY+M1C9Vs1n507cpMySt3y7LxNb5fBxXhqOFxVSWBeWQ0O3sW8gomhH5zgSLUnEujNxXh5291jYBAqYAWJkXwvvhge9zslIpRHG9Wu2ORW3LdbUAOYIMvxX4biPvXXbyP7BK8NDIDova439VcVwk+CZoHKDl1iS+i8MhtnbONXdUcGv8v1K1bHDgSTVnxHIXBB4vfpc4e1mFBBy0KbMMV7z4HDbHE33g4QSLRQHdCOV+/6ObXj+sM8L+XJSWrhCnN9Kmqb+TeT806OHluEk4kxPGENOwIe/m6JSKaSUKCSdviw93VeddS/oNp4QFBF3r0ZpNRAlWeMonEIFNHE9xbyBeWBUY8Gtkmc9wqiSo6cvrWxFgLaYq/nzS+3SR3LSovcmFQ6Knhti6YnHZAYzDlFBsGQIaNLgl1s1dc9170uFiAeriJ6aZhl0OnE8q215IOV+QL97jr+8nU1qEZK/qR4zDF0m/dMRS/9mNd5EQ0yXlISeofLMyltdG2RcqO98bEcWtUaDL2GBYv4iZBOm5O2aHI0y18cWgwKwVTcKhL5NO+VG1xxObzEOTpjx9fDolb/qq1Y2OGajIVqJciiu8ytNEsDUXFTQPO62r7A2qEMhmZ/K8q8INkjQe0LyEr9Qe/ZRBTyQ4A289dFX9JuxMKOMIEfszNSkkJSetDWCwTSNfH6iJpaUzT6BBrHN+6nN9e8F6d1nlmWdAPcvlneew7Qq5GUFNxNbI4Ku4i2fJqhavX1pAz+jxSlSF9hqNL3h1pQl+RsE9gFB251Y67lR8OvNgFoC/s8vmnAqrgtd53ylQVyMVb5LAfooCGWYzPu3GEEa8eXecVKbmsAFYNB6C+27ZtDqaTY39yGX/EHx+pWLG2vkG/zdvW2dC2FT10J1L45plyODRjzcS9tE3iwnSRcY5JGQ4PvRHEbAQzEkpPpdAELQ5mXBMMUMPlqsHhEkzC0jm62QiGqVf5QVMOnGtY4Se6ZhcCeMcax7FWNLWn3BSy71/iyl3UzvRkMdxzLnTvNPgfx1CBbhMjQROE9PS0tG18ZFfgNxsLPuNSIrU/S7huNpw2GhhEsEYSApJkFiX/8B6+3Gn5fYRROUkfJ2MxiimoZG2EDKCc2oblYw75Infc4Ge0dA9/dWWEvts44Y5KTwosnLVAa6FhMXFU/P9Rj6rmMxE64aKy7eD5KOz0itVrXGMPfsYLv2AS4kh1VsdV1YZIphZFXBlAQ91TiR9FejXwr6Ak1zIN4MimhItf+Au94t44Mz9gnn1GNKebIXlxO7lw2k/ysOiRqoNXl8ounzqfnTryU8sLv9BVXzEVxq51rmVqzKsNavZcCYzLm/Ic6594yk+RlfKnVd96SzGvbMKuITmqdnXbVrdVLjCmKirfcot9H5u8mZGxV3fsUdrsJeigV6tYaisCl9nr5N7PaPqLvB7Bk2WpwBLSiuXXndc/1TICuONhsxPoV9JUztwtQAnngZxD0xIKXsAWpjoLmJeZ4r94diOOZ/qAXjdpUpwPwrlxRBRFUrNPh/pAVCocG4Fnm3K9raR19P6NrDpIbdGyh1s6RclMR2QfIeogXemTrX9+77whEZdyt8J+gRpBDHY4Oi/4yS83AgcL55R821AhK+KqtGqFudCw1hEXIVDKGW8QwX5/RJVsuTaiVR4vyejOxPN3tfIjID8ntaPf12NOslGObRKsE9ohLKBzXafoKTSIyhxMRAoaVKBOEsyB8z9zUjoUpUz25Td1Qz0IeslTBBJPaoiQ0DmQdjsV7bUTgvo7pl802Kncqsyl25JMJUp6rUo/ZzUtaOLF5K5SX2qrNlDYdEfFLSTLwFClFm4MPUCWXVMNQ7ZrgIDns1qccve7bUa6kyS6lhD7kfdk/8nEKxpa52msC/W/Jd6TvpDgQMEAsiUO41KmVOTsiuytInvJU92XvP2J0Hur9IV8Phy8JHOr4ygC3PTU9K7cMl5+rLrr/IJQ1x3NK2B5MmUM36IY1a6YRPsbnPsTY1Gaj2z2xpwcgtviNzalTY58zlo6KBs3gkq5qnbueMXJlhergBYBFEWYvOrgmahW31NxMKVaUKS3hVD3Ljt0sL7Qzh+KrR8gFMgvrEFIKcxJY0z5ksgwVboo2L3kXm8NmPPXNef6C9gqH8AlzFbDNK3ZcNNB4x6x1hGSANBUKfLeuk1IsCP+WdJRpG7aIKEpjfCJ0dlOMu+RknzvAxIJP0YrOG+mBuS4g6VMpJI/NsdPu2tH4qtaF8LfPrXcWk5rQ4MHxr2aRqDqUCuByNiLyInj7YqE3U+K1uI0tISdJWXHugyx/ATfqlcJTuR0xtrbLfm87wFp3yE5lgSXhElZ433Ttbb6rX0AzaUBFvLwEn2T+dRLaWamX3WkyxD9iHoLc2nMG0oBd66ns6cGC2HfuCS2IjdpZsbSJmpNpDE2sDN6EmtNwO3xQgZr3WGLiPTdDwo8HN57R7iMqYKQT0tfZkeqYxFDp4HQgAdyr8FCJx2jaVaY9V5fBMf9qhA4EX061yiOsumnyVgMLHcPdluvxDWJBOb9QNIMFS9aRy0dMUcRoXzpNgOHZ4yiq38VWDX53cJE7mEG9iEmN1WMqyDku9tFFtaDttUy7UdgyXzUjOZpU4+Bb1mRlZyOlTpfM1opTvTtt8VBMt63k5+d1UfMsbn1Ko1JOmr5+Ssi4KZHDcfVtyqMJVbFaXR0cGY39Q1EmYxOJxIEDUGZiaiwo3pVKqEjZo1AJFfu5p4SRzN4+Fg9kcUdLX5UEXlTK2nI1Z8fgXif/KSRdJYw+WQIMRuKQLnrg+mnmd0h5IYTwZonZMQf4TTuo/ROj78VacZlRhfPrPCx122WA5DTyzlP4+xXnWeDUSHoSLE1qNKEe2Zl045rSsXC3j9e9qd5sCI6/gsIwrP9LdUcxrmjJjSgVhvVM5kO5a+zycx+Oaux7vUKa5Pu7LTwQihkyDZhRCwtACt6Rkm/wG644MFUCQ4scOv50mTUSdSuu3T+Cb2vOvFVb5ZgydjJk0Vd2q3aqak68PkfvTfUsmW8VcxFS58h74n+L/h2Ce1/Yvktd1wCEBbcR2N1kWMFcohtq1De3Qy0+nharyZeP1p+Ue5qEa3SZ0xS+rhPUcgFG4ltfejv8BQmw/la/kOz5+QzYZTpyGa3bxx6WS8Tlzmx9+JqbnP7F7yFP0M9b/iC7/jGoTl7J9hM+1C2xxN9zT35eEqz5Ga3LB+5fjsFogGhHNtiM+wSBdUDL0ZPcup87PXOdJudZGgWnBbmA4TeOVgMLcwewMgGuhNmLjg0O+J8FV8e6Meu0vRlKIosZEUFQKvHd1MXc5IXeddwTGB/4j3CBCvlRJALZU/OTpOl0TyRafKKCZyan8Go3HSsZGru1iHLKkMMHtOIGAs33jJHMPqn1L3hXMZzkMzcn/qPnfaj1beiMKWvOfICkxh1/eP/KsjQHqKXPPry4y750SPdlC90FpxwBROjvqcDaJPt28ADwCSSpPGcdkeYOH2xnCjf+RXEJPqcyPHHOmqc7ISpsNP9ksBA//TtiElRl6c/hpqCmlnQrT3f1DJDmvI56l5mEQHHgUy31EyenX0JkOzSiK8ot03mE5ujRh19PnSeh5dT4qD6Xukejb+if80D6FgjVGM/vAgw0nV6h8JrSYb00i+oY6dlGyERcKiDHvnV/z1cnApX7n0l30QwWUjQacLZX1/6HG56YtjNxQMqBFwbFbdFypWynxox5Ik+abiYWpY1yRHOzyT9/Ydfw7ZZ6dAOc0pdO0ysTGM7b2JZ5nH4zQvFJrBRI6dCPPKWItZ2uDmCF8jWKohPQMQiZuFFOxh91D9y+qPPHPM7ern4rvCKCkmxMSxHeyomuKxhKQrmJMkXvzeqfl7m4Q9FvNtOXp6fZkN8fRjvvkYDNABwO1J3rGkrmDBiTKQLQD428kJZlxdfyq54DpHZackXs4dwKrzBRuZXVF42pcyDXLf4JnFVNXnQmyQeFiLxioHLLWFxAAVjaESRvcH9okadlDWDTjCvJo1t4bGoD3o8HskvboTJqBVrwhpvA7wiHJs+tcMuyvHsOBGvuEe2XRsLjPrlZTX0FX+XTNnjRKxINM/Q0zONsX8VWd5mCtg/jaQYLv49q38Athkk28kwLLAnDdw06g1ZYAcU5OBX8uYBoA/GK1LTV4qFglumS8lBvdiHvP9EiVcCuU9L52N+2Is/XXhga6ATLBzN7XSgBncrjzFFUGQIp9uPOROtTSvw2eGyDdGcrff4SAR2ZiDodn5lA9iLkvw6PwjnaAnUVnhetQYSgb9MEB4AFBodUd86CybaBAqIV8OUQIZakeZnE8UkTUKzXo160M5FdMHyA4Hd3cyjIGMJNsFhqLaVT99g1rSbRoCqpO8K5lYbr5/zdMQPp9YUcBWsWNCy29XjnQB67tIxMKIUnhL/sQtLojdYRJbjCwRZcG5ub9alJZogX0KsxTo+8NQbBWu1QqTprfHtzWVNak/hIfCmlkpVlqYLZ8+dZ5yg9FwbwUHkUoERAnllJzyHehTYn9MFAnpcghrkKgBqr+l1hEhgd5BSldew5pA9KRJEqbrjyov9IyYfs4lz5ydM88xJ4I32h7oDE+Di8/Ngc87mYstY/OHcJczyQOlNMqmTyipqmCGxmdtUKh+alMi+2J4wkQN1GXbNXnWQtsrvZDeONlxMMc4khXflyziUuQFSTZt99Z7rbtw2RMIfcCvXUTw1nfGydvg/gR6tiHJVSkpMg2kHUK/YhQaaUjeGoEtpFra1Z1/e0SAapUeZO1ssVgvkN45ecQv3SYNgfW+k+dGm/ZkjTf4stYvgClIrcdLwu3t6/Y6TXopiD3XbP3J2iefsEUw2t2jIyeV3u8wVxN3dx4U6SnKNNeDfIvXWIIAdgCA4YzcM91jYsqmIWOKHlKQU1YXvzj9nKOWklNXDCMydQALEsVHsg/P0XBzG270nioT7d8lj0WAU2muvbB62N10icvxZolHHBJOw5iqgF4MHUfqtbuKxLu514VBJvlsXCYoM/jj9OplbG1xxUYdkLeV6Q3L5YQPaaimlYfbGvqdoygqIlmUAuRLe/c3MUcz+Lh7Y7XjSfXhLB+SEMyEsF+d1nw4b9IVlTHfuRsgDAQhY48KdPM9eBgiaiLxrjw/K6xuEb8jHXlWadsUpHAlmMOePG4er8WV/6Ao6Okf6YZpLBcCpjKuuU2JbYNXEEn7bq+Isj9oo4pZDb3d0ZF06zjCEWBtSp7bHRzcWKX7abQohAX6XlAF68/QSWIoS/b3Z5SAT3rR3NAEuUuDClsaUsnc5ZI05wpJl3ssKmyoOmnTafoB2wl16cNZ70qjMyJT9ZlAJcvA+xZc35jqt1OPVjsTduXPYwpqQcO3cDlEL3y2REYl/sqXBTUxVcpHdgw/C3QLdU5E7ytDkiLHJ2HzhguzF6PNF52IrZPbFEiys6qYNm/mxTEOE/cMxFvTVb+hLxqN+6v9cBh3F5IrwnOGs+zBCOFBDqfxL3/7zEOhAx008/OjDm6kXhN3sN5GfSkfeh0Ao3B16/ZWsSQWVVyxjZkzqgJF+OrDwtqe3c4tyo4Hc7GTiyd3GYD8ffE5ekq4S6mNlnwItC+URSkoty9i6r3apFSz+g2FLDbPXlPH2yWWBJsonxQpsPbZ16caOK7MeeBG5dKFhXWCGNooCOe9Sgffzlc9S+onCM/3EOSd6csVVkvrsdLGAprfrheqjDZlEmYOSuW4GlniSp5ZiS4mr8vxLI+c1Eda1d0LiQ9ov8CPUhqA9wEVswGCWGxPQHaVi+7C624zjcRGQn06U7NLBfEKQIWPanWTO/97xnd1AwueM4aKa4BXEc70DvFT8Pl7W8BZvYnNmy4q8OO2FZ6PMGWrr8IutgQ8r9aiqcItMXOY8FgPy5uI8phVoR6P+Y14hAOpwV9CKcUAckYVVFBnmNct/MorAuN4pEKITkDVpO0z50+P/iohUy9VW0yO4Eaqg8kkJrEuBmhNCjJpsJyMKBTwaqJjAk8ucIR3RR9C6JK59DAiErDxFJV5luvftycdsvc4flh2mhC0O2qlXTRMfa3DAzQ/PnuSMNaA1pq2xEA03b+NOdq7n0dlKWJgjQPN+gEITj8roQFYJHjjjxfd+p6lw+USuMpER2hA+p4d0ADeioNIMICDQ4tskcgx18cyGaSNLg61jBiio9FI7hI2kjaMxeCeiYzi1QGCWVi8xniqBbhQ4SnCXovd7B9l5KBlxc1UZGfiGqklrw2a89F07JdD7V5tzcFaTq6wGufpEYOLVdHi+fQ22lW64FA8k7kkvfzugZF8a93Vt2xAREuLXXCnENffbspbws4C5O1L4oKTAtSbxpjX01Ve3ianpR6JZTmkwRx0EBzA/3x0m8jX4svXultx2M9MUILeCFxmNy5tLNA8W6OnNhywX4NzfogPxBBxD8O7/jsHhskEnWrMDH09o9awNHzpWFirsqULIvccPXP1PA7gGHxe1MDeQpyLIVAscdhQvtWfkClZdD5F+DqmiuiwHqSNKEzMhhR0qRqYVDfqyjTyd4wzeQik+F5Y+ZUniK/chQjCrh/QZsORMVAUMCbafix3KAooA9yrVuhlcAcMN5QgBc/k0NilBcxzo6U+9fgLvXEbNOF1a6NXuQJYwtR4L7cyDuBI3tP2RTnS2Qg5qPHVNZmzCSEordIQLWT9hd91t6VS0ovr3FlLG74PX6vTW4zfCSxZGD4R6dt5r5bK2A4qislZAU3kqXQvlPdVggcDdT4vIO/BAsplcKv7O2ZeEnye951UDwQK9xlQpn3i0Ql7ekq7jXzy52fW97VcKnOCH+NYLQ1UwMR9dg6rluNQUo5UlfjcY5h6otWny1KUfBPMSwSG1J+KSdete+94afWQ+39dvcEPlsMU/Y3aNbJH8uResorVzevZQxdXUUdy60TN5X+g8iurdgj3rgzEm4PqvnrdlC5Y9/t/GH+stv9YKDZ1GLjhL7aYUG58c4OkR64d03Hm1AN1N/66/a95Sas+Lu9T4H3pxpJXWmPhxMGTmsmG2WcC/XmfsX8xqan8tXZep9I7BpmtOm3lX/1IXyYyu2xIFdVv6+EVZ+3YtqUaGQQZXA2X9P2aUz80oE4cVrg1JVJ2rmbPw9KGeLdHmLmuy/APpV3Z3lt/8xdZsH3RKIwbks9Tsrn5QgghbVSYsusO6PvyCaP87XV2oZsPZG8ByoxxNGoKEsW6sH9fZ0RllOKStJh3vYNZuFwDEDylH1sQ/iZ9ZXEu9nZ0mT3zfy/q/AGChbBt0OThYqn9tdbMCyDV3RIurJ1EgKaE/D75dQdV4SmpxFYC3anGa7cm/qxO31k/4Hx9+iQy5RbO6aMJDK95hfBmJvzL2NZ8ECdjnojOypV0pumQYH4VNSjX6VpToh5Sq4Ty2jbOXmq5dV42BRYFPn49ysGPp8OG82cSUln0zRL0iFZoOrCeB9GFnDV2dpvPypqvmiyLajcnyNXZPcp/iHW+I0XXGI/CCrUy5lfxcYW2ujEpmRf455Aa3rwArCNSmv+tAyF8xQ799A/aPlIad9h6+z+EPQ/1lQnyW1931ufBsg7U5WN9KIMgLwlBtGg3xKouPGGDeAz0KIfDCasVO3ywPb+fNoa1hdsp97Xs7u3I6RE/EqX7MSW9P86r6L1HbmiqVNaIYXxfQtC2MbgldFDM8P2zlGov4Ljf0pUtsVXmVuLy4ES2oKPEYbm4QBuko7zQosG0ZZLciwXAyntwylkEXs4uUeliIu6v649F0jDuhBmFJUz7KobcSWJ1ju2lR1o0nIhZ3JgX0Maj8eEc/avXzFdJgDOWf9T1f5AHIfgDIoPlpXpBr4PdN0HnZfDXL7NfVo56Hf0knqFOGmcBpYRSNFOkxZlSqgZq/38m/21wGZacvJJICwDDeAGe230PFQ25+AIZPfFQ0sW9YB0Mgp0dcvfw4ca+1P4jDE5+Ad6dYpe6w39tW/o0XO83pWXix9VwkMPe6eRRnxlAWTRsZaPCN+vbqzEKTaf0ZAWDLA2VoI/HxRTpK4lAQ4tCoPamg6JnydWEVPCfrmTUJd31i3zIuJuamIgzUNpP/L6NHgiZGzZsmmrPZa47L1elWYBm4FiS9kyAfwJisOOlzlLb+Yjxgdj5LbZpJGFa0dhWbWMkITbUTp7vaus93XlRl5MtCpio/CmjXM6qwLZ8ROHL78uB9t1F9WwKh/AVIDOrVCL4lwueHl00dfQFw1oQhgafnid2c3S/VgyONzz1iEf/12iQiYoZIOG5hJcTuYGmPLwGUEfLYWhkvYkMloy2zEDXJ4a6g6sqFYAa4hK8IF/EQ1FGWAk866wiG8cSSLScc41w7wxU1/nVEQY07GWpF6ZUCMpJDa65T3LNBR6WinPlQsjhPwdGQhaaPRZpMdIGo2TNGwH9CGh/0Jyu5kg3radmccfRUq9imPoHbrnyVg36Vvj7dV9G/fY4cZG1lmtQi2EtjMWphquVsm4yfMzsrk3k9gmsxMhoobxYCxAWzUaRADl/H6Ue7xojBi2aGtisoqbfQk93BMioDgTtIMIL7dBBzMkec55rzoXKsJj6i4GOK34G+tR3fo9MwM2edI/mqvKZfKw1uRveEakie90JPYPpL01y7GLVhbQGVJbRpDDyG2n4rI6yUjRcFyhsqM8IcG+3jea3bnV5xmrsCoY+QF0J+Z1gWevXTfyNDzHhJiI0hVs8iljqi30m4iCARFUX+Es7Zu5aG3VhsdCp7Wae7/6JoT/GY1yb81v+/8sbsq42CYo5joCnFuXEQ8Ks18RBeCN90Sr8xZ8m6VMXCz65rtuvH6Qv6lTXMcVe71F2fFh8dAtXimsR/R5YSe5xIjLj28HAws3Sruq6wDt5gP5tYE5ux/VQCsBYn5baf3rJWJyPKUMUubaKdiz8SBvUWT0M53KMVnrvv4zRTYVNHmh2avDbQIEH783c/CMgsqv5jsVhFm+8pJSzJY4EAzY4BFQ7VW2ApczpjX5ZyY18J21mpCvUoWqjSE5pOKM5hJNz/KLZ2GXyVHHmNOWhf7VU89zcJexZoQRbI7xBEOrYDOsxl46zYXmJRdZ4vKoVz1pbR43njTpdi/YUiGDWPrWLdoYsM2AgJ0tL2mA3e7lF2QLS7a/Js1fjAoPOK3dEh8SJBd76itcyclpYIj0MJCjQV+BAD8AsQMABBCAAB6RQn8OK4w5/gC4jLnRgSDqVRnqZvCp7gDQi4UoTxXdsHcDJyvYQ4zZuKO8saRUUIFOFB2nQVwqQ2zKXM+HbxYP87HBQ/14OXEe46eR0V6P72ocV6LZ1bR1Q6Rh0s+TVeJsGO/EmSigi06VSaosLwg/qcfXlsrtoyMHux38GD89UD/ng82PsEf30OUU6DDDRKKkD3gSa9cc1NjMnO7xxw6KexmUUBSPvspp3r1BIgTvL2JeD5ap3t/Gl1+AHAzU7EWNgzSposT7NeBpe289HMlYF6XwZHmqMASvRj6jpic3JDHEgc380QUvETSid8tk6UzsMJNSfiVSKxp8bz07hdMKt7U3M8uyGJ+Wh+P0bcdOqKcKmsBa8ZfSI4usEbwkZvQHoUaluuxGUJq/MWm9OnbkRjehC9GjfmFjuW1eLQ6HhllPBNCnlfeRg3FgrUD5SVEAUACjQr6BAH0AkQcABhDMAB4BihWY9ay8pNipL2afubmytHvmANSW0K+YbiT3V34LrxPFpWsLtqMO1TQ1gJ7e4x2gsfcuqOaAx8lfZxenwxvluMvqDDNpER6Z+m83hDj/rH+nIZdMiPvtASzu8GrCcw8Y4aNClHGyUb4xjdI1mCylRP7j27gT4Sz6kXk68nYzk+8ZdXd2CBLSEHQuIzOs1H+My30zNOIbeGZzlJV1abtrdchHa+o4YMP5nKlwX0SLsjbSUCGtOE57LFtrG/Mmv6orXLbGWTBvwkQQm6NcCI2Gua4zZW0pfZPD6gWgz6vv5V7azkFVdXsX7Qj+sL88FV08WitChsnOa0wXc/nm6VY04k2Qfr2+PB5qb9SKc05DxDh4qi4GIreEDvZ9qL9DxS7ruaXPKsu7gEQxfrXQ6o9zujXHDdXyFQNNHKWMf+nTvrKGyL3+JoXgX29TWuECBlrEhn43Locdua/KDdfjKSqC8Cg09+gLFXDrph89IjYM/3zD7xDqB+fb+gHwjC8et+WIp2zd9na89BTCwvkNdTAhUPECGXh4R78f60FdLLdpCwptwhVF+6JoYiI1BnV9NKyCYq5+8oGk5ERWGVEzZXasFkspLXiKWKLJVYZSlDFy+BQFJrm1yjxKBw+wVqoX904TBf8bsrfo5FXTcHYvInE7gIZ6DyaiAL2QA9QK89MareLli6bE0hnTqPoNZlFDuxUlS1mBPQ6eTZcYiTJbTTuXOE505uMWh0HOCCSYTSlTle750VPniqkbPl9RV9BsFtb6TvTjGuHpJ30MFc/oJRtJ5axfp8lH+jw8z4VtL9aXeczI9hlvPannMkdh0QnfH/K0a/wkwHfgbIbVvEsAsXe+3WfbZJCXKYzwp5frA8yPss9e9MojgEArhiaWfqrgFDSWK5FrrtDMoSZa5AdKRApioACjQzaBALwAkQcABhDcABv9qZiqv5CtCkgUFhP7An/4G7OymRfZcAfeV2qIGXWfhTTNSIADhK+mJ5csHQDcf9j6TtD5MQQAmLTnYb/KJGy3PcBFkVQYlyvgtHd2CvZxFndOY11flcZ4gwKSth9ZzsPGRRREGp2Eb8tZ7J1oNBZw5He/DvmPOvAo3+pdNO0dmbK58pbvjiuS8mk3FV8TraVA+X4cetyqncUdmJ08q18H4J+wHyxQ0aRCFFeL9fZLPo20Ba8aYeOuG922bW2EZwelxjYcnbYABxfXIUlO+Zl2qGTSpXdgNzRzTairLeu26JtfjnxkbHy0dek5n8vfPm0COVo74JEB8+RMwIQQCnvzzVSB+CfGG5a7ONuSFEG/STq0dlcTctHGmthtz4lZSKE4APo8MPwIl1Jkjmh9ZPiXXRhWiLozmCwbnkoQbhDgb5Lh3eHkPxhd5Mtml9yCVa7JXmEmT0X7aggrHwVN4mtOM4GCo4SDzNYEan2nr+oq/1flizJOvQsTUR632n0EAN2307yCkSkfFDIiVYMUX66k4Cow1VvDKa1sIPjr5MDndE9IHHNYuTH84kMQuopngg/S2z7povys+WWmJU9LI4Ekt7CkcFxXvFFjShEaENMK6hcTIbVqvnSilNsHJZZuS0qzVbcg4nFHWD7riaW5oq0IDp4uacoBCvKWMztHuT7dyFQd62AfeyC5CEIhBQcqKah/iZeNpBb8SXOzt/9JdYmuL6iK6W2Iw6lXkJF5kXlIhpRxOSkuXBZ7zopUe/YsdXGPklmsXQE0Lm5b76dwKphMMGfiAOIsd+buBcupHPuxn1vPTDcuQfzTqPYep2WtFLXKF5JqNTQuK5jTm8tT1d/b3q3LDRB8OO/ShxFnteW6Yq5rIfvep3cNVN41GtuL7GsQToL+1UPLfafpjS/a2tNQW7RTgdAie2I/MgGd0egbeNgIswYhj/borVKxR7QtnQ9yDdIlo4c92ZCyuoa5mnY4jguEApoHzA2OXZdC1fRWpMg+ISv/ZhzanoTdXq1AoZ008CNTxvDbt7eKzjH4blLn8xJpCfSBlagfy5FQLMAGz4WZE/yiID+vXACjQkKBAPoAkQYABxDsABwYoW0AX8Bf6AGaMsbFyh7GReHgCoJrOAIU8G/qJvbv0uz7A1IijwLAwjnOxb+EAMZ7oYYQ+/CRS2doigUs9KjSLc2DRggmjwiyjQkdfAsZXVRR59vHG9NmDuwD4bxj2jPzSJjCUkiSr44SpWsBicvzfrxxsgL9BNcc0D3wiR2NyAd4yyjNPDNdNbYGMlGWutQNMigbH6FSvi2b53YOevyMYZkPlg9xdYMJGK0N4fI6KX6avh9Uwx0jtbKn/25yjPufN9Xxg8JhClCYT6IIKuIY4dBzUgXwbPR+8UDysx5KEMHhPgXbIC9aOcRFQUUnFmkdmVaKRh7BRiGJYTizVM5zD0hjppDMHDPiWckZcXy2RGSDoJJqAj9hNyehqHzwa64kidXCT0dsztBhAHffYYTrd9ThMrgT52TDRMJCa1LTzHyqvuyg7hE9A/OpYNU5tdfHk/TsX9qUloeD1MlfSa+MOes0EuC/zJvIOEoD+4QXduhVj9ZNnXYkNWPfSQA99a6vyselr4/XUAGuhCdDhFTYZKS/eGLCz+zFCKKNKzbiNlQQHznyfQ1k9kwB33iEez0GYhm6xjgqsuNbzcG+QEi2wkfkGHdW7yIBLN5eBrjfNzNg5o2l5XXojUJwv3tAnQPQodYUTtI0aDMPXUc8VSj557cXBHBsJa58eCxJv4mW6AuOEsu0dohmeB5GhnSCOwODpTTrsoFrbQ/r0PyHmd9UPlYXEA8RuYPmW9YDjNuGMftLmBvoAKNCboEBOQARBgAPEQQAHArUjgAZszm5kr7St8NDaHLqTTkPel/8hREt/fuBkmETWDOiVikEU5KwwAC5u39aLPj5H1voPVopAw2rk8nwBQ9bHDqk7Ro2JH00umCIn9vbnFpn272NbkhVxv82m+QOg1rGRWSSqiSvBDY9T/r1cXckfzeHphDkCrVHqnGPi718iukYT5c6LoTfThz9BvTyZcXGVbbYZoaYxijW46Qdjr/0DyRY0vXQ1xiFx8Tc/jK4/LFJr/SuoC/n2vL0FKxnfBEqT0bA/37buq4Y/nJ7xGsWDWjHHFeTVEDwfvTQm0PfYEpn/WpYTHmzzPMjZ/6ZOR+Ff1Ri1CmkpNSFVdb1tWQnlqhwq34tT5D6PviRJlABJ9MMObfSkkJtnOA8V5NARgyL3Oil8teeXtUUStPBIsSTAdpryk/p8YO+b9A96ReLa+U1WGPqbcbSML4Gq/ZeWnpKpvDXSWg1yf0Br0QtTl//hs7YMZYWaLYXjOyKCGiDDijQw1S5zS+jrQFt11UIL56QhpN2sg6oOt2rFg9QWx0BfXIraSAAA4hpJMDYV0dTb7sc6zR21nNghC8UtgVLfFXS2YNH3ohp+8ajzAseyLkgoNiLVLlAoSj3HoF5g3AK/VYx5yUXJRLFfnwJV7xgxf6tX4TtUuppTSRsuRzbB2vYKva49oNX38qre/Ix4doSsVizhD6r9ilVxZLSHvZLUYuq+rEuxQEu1dJVJPYlofANCOmTS99oMlkRwwgURjcWOyVv7X2g97GxWWj5KklKFxQhpostm7HhW1YnHWwR0xx0PWWov6rFIlNt5dK2UeZ0rwCjQZKBAXcAkQcAHREoAB5zCU4DRuEfLBPEOGzGBfecLi2ZH41I5n0x8hQxnwAxJKTdXWPXaF2Wu/aSnDj5aZPD2asm5mCg9paiP0GhB4Lf1yhDqJOcvhdNIDSnuJSFxzPxcBrdJaUwiZ0q+QxnbNqFKpdWfP5RKxJYfSrHIY0RdbpA0f8I42t6GpZaaaoMYh77cW9khicsg5smCeohH+1QMs8KwGA3emgAQh0ti/TW0Xw4KK46xHEpKwvh1mZnqSSHdWJhB9LKeF6umrmRuAzmED8h0Rt7vawtN+nFe5pY/mpGXwiGLXfC34fnRV4Oj48aHa+cYjxX55gkvSV7LbNRwFvq53FD8kDMd+UmRen4jjBz/fIJVXQJMI+u5yKFsVwdBNAE56Tzddm8osxe5Vx7g3GkWi+mFpylWdj6sPM4B18y+BlBTfNmRutTZGakejklhpm/4igz7I1Oy21gwKQT03JvJEgBs/b1ssY/dFwVibNpSDm6nPJl06XxwMyxdh1y4WjDAbbHFHZ6fOx95DOm/LWcSoCjRDuBAbYAEQ4ACBDwFHbScp/chyt8EGDPQodvxB+4ecn8j/N8sr//0BtO+4//F4fL//rZC4+dZL/6gx6b//9Ln+bkTsfnAawHkPC4p2KmYejVX5g7886/rfI9lYs1fkTtqIzq+fcAyq/FEEiWqYfdyKmOuIucMGSZgOXGgopqr0HGmPRPmG6cTCj4oBJ8ICInvZ8cRRB2INl0EjxquW/0CyLwNMCJtfSAUAKy5+r0yOuioAI7I+wR3MY6fd8GFhL7oImFYQPcrXnP4Kj6n6P8eAET8JsEp6r1ahntMu3HcscQQwUIYHAnxbnaJBlAWgpBoa1nDJGOE4zQ2WY+mv/S/AZfoTJ8mJN5Q/cjuYY7umwJmhF3YLw6lhCOFHdVQCwqXo5Z2tIHNvFMGQSvZetRAgK2IXNfuf8oa+psoHjnBfAGxA4UkN06JieeUXTRf4l+REh5ZipYETEQ8fGsl+MuDJv9Ym9nfAFYgXZKSBBxcy7CIVZ8b0vEK2FHyy/DlT1QPRN2jtTlkMdeqAKcC0STtKXHl3dbj8tVHHMAtkjjyhGW6YSx7N3InS8U6msJ6n80DFntIhe4d0Vip+rDrUhS5dAw4WF62+ESWHvCgyLjnB4OxwIbnykdG1/WtXJ7XZpdENCJ1LlguHsDxi6vBGcpGTcih3VVkt7pzjIxayS0yUkZ1rbqesAhz7nIMFWQ3fO3l5l+VW0Qw8XvsK1Qhv+TiKgYJ/lf6QKfniay7zJ/reVg9y60o/fu7/Vtg9KVM2tp0KYqZfbWFi49CEhsTVJPvce+cIY9wQktFt99j3TquhNGqwrW/m22JlNxuRghKPLlhzhzp/6COUfga9ChNNXbVwfKYD+5UNvyQNAd4PhzAGtMP0+4RWGhkXWJGCyv2iFuRwFAdE2E7fvS+gqRD7hJNDxsLi3XSxCmzQMfd0rT4ICZFJ9p0fIRi6lgyHlgAI3265z7jWf7lEvCcsFxJwuBIMpn5WoBBzwELLJz9Hwi7YIqnLQdYQPZc6Q+vE+Nawo0jeYhmKIrioOKZERx3S7wqzsGAVHzmTKxWVWHV6S6jQZPIUriBc8tdHYLpsdzcldkg5IY03xyJAbZdyp/x5CbGVs+e0MT6h0AvrHf0xNIDqZNE387/USE+Lp93Swq8J5PwEfosqXPq1WZ48C3AT7jCU4uDdQtrZF7YM1AydSBFGOlx2PZ5jUqoDKKdl/t7lJKfiGiOEbG1VEZ/qDlvKLUq3dxf4HnYcdt+ZOASPgWEXGP0ndjlzPych0iMMeOH0VhCdK9wGWvikpw7M5bym9d+mM8seDPF3x/xIxKN9rv745fEcDsQe095LU6ilOxttwrYXRlX5vHmVkBUyxnoftctFYxjTCz79/PMQHnqgduZS5YOcFWthkjRd+a60USmtHO9cabuQ4HgAtxiInTUPByGoLZx11lTeb/av1gkgCjQv+BAfQAMQYABxD4ABwCUiWtsgTNnM7MFJpvc0uZNWa3VarZe/3Q7/iCoVnWCzR+GOpPUrhLfMlvIOTj3z90Sgo3IhpJAC08uXFsqoC1XVrYo8egUnqrbAb5EkuqzUcsab7xZHobJF+k5Frg04GEDS2xHk5mdgimGC1RSdCzu6On85b3zXoJOZrGtj9LYeQlRplDHOALUzjseMggb2KW8ZeicZA4TtLLyNqOoO1ZkutrPCIneUbw+M6NuESeNwf9ifbldItISstFEZ7zVWXD02LIn+DeUP0qotA7OEsXNtlPhcqFXuEkdbLhqf6RPi34yJO7h0At5LCP36gEGSxHwoBpDLOW3sDCgXp2/QsbxehX+0IKOeuBNopPAFAqLpKGsPrSiU6zZyOtgdee24Fy5W3aO56HBELaGIhXvPHdNlN+LpchKf1xeIGAAsuvm4TzI05vT6VSlzcZ97Kmd2VEITYIfA9F8tpyS9t5ltwnfkkxgYWD3i6yfdLDx2y42SKE3wxyDt4yjYcxYBlJSzQir59g7apNw8Tosyy+Rk3/LMYua/+dRkRS7pTuaQZpHh8LhG3ppR+S5odBtHij7BjHq6RSg536A8esxNGH/dEMUJvsfQOHwrdPtRdn4JPKY/h59OcothFSwcwroWeneY3owrwNevUFy7N33NZ3n58OKCbBaHZ/BvCuwlYbvKMCpjR5jMixXxaH+IAB01A6pNmN6eJ5K5eByIzac0/EoAXPbWfDJ5KbMMzerVCYiOBl8UU5WcUcTSMxxKh7z+aLeHK1l+OoHgJ9SdyfuSmnBilRYyb2y80S0PtTP9aiC/Mc9ekzK2/byolAcDXnyInPdW9trvkjqETQBdJgCmAUfBRITdHw7edl7pR3aWp+TJNR3/pqJPTywxlQRgzBY1idgBW/ref12hoNvP0ObxwjJ8Tyx7MmqQsreGeB88/uTNT3w5eJahDTjW/QEs9w4gsGBGdw74FestCF1S1Ks0EhuqlHQUr8MFaujG3dqLPAoMrw582IQKNEfIECMwBRBwAGENwAG+c9JG5eUauDXa/3gAdUX04sIfD3y9rqQ4tH5Hc/NTr6Q8jJ0mdb2f1nlTALi2KM7xuMoRjc1JO9jfQG234qL8QNJ47geVmGeCgISLPgMqqLhKU8CwfI3FoUC2N4/BfUQWa4Pn+VettDQLJtcqDG8ScqWZos+5iSGDcvQ8Bv3ZDdUg8s8hMF9r8NW3CD7V7JSku6r6FUtKr+8/mLI0jWK2b6DlZojYkFp85ohTtu8+Khw0iuGNPVbOc11mARz34Fh0EPZCF5f10Ch0u01VpQMLZ9c3wBT9qDl0cq6lvfueEEN/4xKdWb79yYQq2Yb6z5t3cGZ8N+w6/kP3HvBWVvZNwhQ3UvGCON+cregVF+8ArPSGdkpdZQ9crm0em9OPCNNgyNcwl+jGVJfEeom4UATxrMFmlU9m+o8KLjRPes+HCc76k1JJESSqRZpwsVNwJR2Y1hMR/QNJqGL28DgA7xp9EUPavwxlBP88SUu3+rc+Pc3XrR5a1vbF2RVgZtZ13JzcqsjigAH6x5rPae9QoSkw622azku1BhPRtmciPckcCbiwKaHQtItvuIA8pasgspxaRs2w2BzNFTErIuxn1MXGzl5KTTolIsKCSnnKwDZnpfjUWheDdmq1pEsF/VvOC71MjPUr8jlDMr5n8nOkcrsYtW2ceofppDtVuk0yQ8WGwOz4+jlUxKk6Bqrl0iqxL6QEmkodXtawI8TSd22xdFqQc4gzVLvjAx9qRJp00n7XvcZnlYGAmORwicxKU9y8gR+JGbGLKzoSFqQAwrlXgBUSqtaWQis3jVUSG34Iz1Xzxsj+3/7Jib7nOvA3lUjlAKH3jK7y07BDKOQkNT0zOjqz/sYm6qOt6nh9PKlg+9IKUV7Zhkyb8dekdcyCfw1luKtGacKpdtw/BArRqGxac0qjuNYiRpLTI/mpvdb3rE8K8/IbJhlLEWMfHx8amhrQDjCBxQAkPjqBSfCrLlgG82nLGyCVTg0e5dgw4jX8CO+y4DkS5Tz9N+VSf/t5F2RUeWvkp9/REAdonwdOBRhfxTDmPsZ7xQCFlhMqVq59jHgnFpMU22+u9HQ9vTpTjp8Vhvb9FecoLK2S0X7PnW39tRMyG4xoOQloIpuVj4Blv38iNlJ5td95r9fPsVyFmQkEVxdoZ3uHYzjMadZhMKIncsHWmBUwddUT8+w7jYsZVMTcGevgagzZBly4ftYWegMPROqdi4gnK9Pbnaqw0A14tEktf/Un20pGtJL1qgTx4IsmjlX0e9Z7tuBn+ernDBoRx0RwWp3sTEJLBlgiD8pHWkAcToOU/ajDiJTQ4rtIhFwNVfVwtY7h9MUTZ6tzzjMvskfublwo9fRFI3fgU6LqegBPCvzpN4sNE2R4PNLXc9iFXIWv0djJ1fv8HRVZ43zX6YLEPQYtPOYZjIa6ud4NW/O5X9w9+3MCjzNjHTB07jFS9Za3HQPdafawe7qE7SSGVckxIpLZ/NQcwdqLeMxuGgVD3pjiG4ufHPRMvt/ENGMJwAo0aggQJxAFEIAAYQzAAc9kHTiznyt0+1x2b3JWbaH1J/9J//29aEGqJgKCwn9gCz8J/je2zKsQ90oILazDBzCTGyOUN7mSC0LIrsAP7tecuZUrC2mc5ol7qy8mG5Z51hjMlX299vwW0SUjZgenYNGiHoVsfm5NRhEB7sj1fyAOqXE3Tle3rxZKa+qLmJoKaJ5aRm/QFdyzT5AYkfe02/zpDE0MM4NZ2z+YrT3blZMTSAz6KUygULDJRCjnd2pvQ/gQ5y++pS6F+F3Q8dpjr8ahh1M36g5/1l/fN7lcdIPdyzmogkTQH46FVCjmfRa2CW+fdYezOr5UbGOjfmC88fAAHhPmS4UqJNkzMI4dm9ZeWsMMy7frwvA0cfvlycsnRVUBLqVqOOG8XrpcxsnrU0o5cjaY05QzT475JRkTO3TzkVaimFLMu07pcxsbVxNijldK5T4BNZ35zQ8XfmZlMCs+EioaF+4AyxI595cYKN/u3xh69k86P1q++7Hbt6wfY9V2Q7rETdQGZNj6dXz1i4zhsjzBv/3brIknHrcwqrmqDW8kbYynMrv7Nrh2nIUtbMVaHKbB8NPIDfoHfTg5CC5R/jBmX2g4oxMbk9E09b7wMpLxDrfcTnAOg80jzC3ZR2ld+9OBOXWUl/KQx49qQl5UmfIZakBalNdWsBaFqVvr31Ar9gXAup2IG+/IhTpxfQPesxQUwniJic3q4hgFU3NO6pnVMz3mRkfWgVegTqyswQo8CZgGHyTfdAQcnibNTXmyNbQ5z4TMaztnqDAxprhhFGnQCWlyEJ7Pg/8x8mZaAJxr812hF4kmwhtlAtMijSZ+yUg7Np8exyAIQqBNX8PTCvTceku0MWElUE51cVen3zd2ZleShl7vNQr8co+8LanAopYcux3rYZSnU4aw/e+JiYHB5gyFSTGmciJ4wj81D8t7WAcaweSZSZipxecZKsSt+ZQ8ckEbM5H6i8POE99URJwrCw//Dv+/Ot0d9sCYYOlEB+JtEJUuxTj7IYdv4nmGHBGDKXLMf1IT7+cFxy2GdfvQFyKBydah56KXRRr5Lb+7lGgv9kYtevZdd7ITMpECGK5X5k35oY3AE1+uyaL0UWauk20ZNyKD+Gu9nNLODANy2s5S9ElBs+yaI00Fj+gUURMt9X+dU0GEEky0zgKq5bIEv41IQOz+HX34Meouhck6pgV3a9lBHlt6x2ZT3J+HbARAL8yPHkj80wxAYWv6gK8wa0nX98VrbNwiu2anU9u6zGORkuu0P2C2SlYTJ6Po292abW+3KVh1zVQp4CA4g+LP9wZsvSKJS9mGAmvvrjNclBgDG/VRA/IVtCSv4CASB0kSQN70NcozAZjFMYhAB5UKh3VEAbxPZkiWa7fmzAE503gmmacEZQeAKprG9gDAGxcUVJnk7qF9Od01FQ8q39yhPdplfJvJ1FCUFI5YhRBLPxzG4BpJW3AuhcpiyqkQpNaNaSKkReBHDnU7rdlfHyAURrtV9SKXdOu3afk5/Q4vY6QI6Wvqf/F3I2nmP0EgvWQ66carp8MPqfMgHiFkLQeePOWgRKrRPwuP1vRhCkqCHkV/39SUfJHHi4+z9ZuPjnbETisV23ZrHOBDe9pFXCrHQqepen7/nUtJj3Hs4EifYbca+GlNaquX9NgD6in8w9axfHxHFGF8wxXDqCRE6elKWQRLQdX2I1ZzQ0JaGiGpjeFVlrQq38HUKqSbRHoAiedFH67juzPCYMLQxv6WNDrQTcOt93Jq45y020sRBu+yzBOdEPhaOpN66EkwuAvz7R5FptzgPZpl0L4oEeheL1+zAgXk6qN/TtAHMTUdHY+zbEh5COq45ZoFav2zTXEdLsX5RKNNoMOSlhZrw7WNJbT2Rc8zfBpK1saZqCYsBEsogadre19hL97fbPm1IrWM917241Cgq748nt6ixPgFLTjqUCa3gnNjcMzwHtlZDcsomU8XwqnGujKknmfEZ67UWpYs3L4ocZ1/qJTSmCvwb6JkZm9LdArbxH1t8ca2oLTkg8nsH5NjQ8+CMMUSWTqubW9RBWDKB0CHSejC4WmdhbKkFM6FPuRGbcSbKfrGTgT7T/CGaSyKlQMNmPQGGUe7slCkKJ3N1fYBmRnvS/xsxD4JgvuWwznq2hf+gEF9RRr9kLgffazr8+PljgsSjwGk2D7HacOS8nGMJxGE3WfTks/D99bvrRKflTDWNXwHwGpLm5PtysVnR8ogoesBuj46EsYQ3Xp0aXSYOdS+hLS4QGAKNDp4ECsACxBwAGEMwAHaDyEhimGXpjnsP5WXhL4IAZM3k5sq6B033raUxHyfMhGhHF2dFO8uAD8AJI3KsQk+qkr9aPJBwA+oN9sDq7hP9OKM4bJJMnoG9ajc1+4rGSwitpe4uAtl5nS8G+X7TrUiF1UyEc6MSvYZhB+gLJBF0l83SIn+kEjukdpii9u9EhW+zs3dcmchKuGcfDzf8yFe3GDEzELoFavzJdLEBGaFIy8IsDSunbHbADPGiHWz72hgYi7GtdFlLSxGOPzvUYaUJIJ2YCGzH1Nndb9VLj1YU7QncHhoi58PFwEh/Wun1JGm6GHc9qVCBiPzZMSzALzKppFB39D8qckw8tDxDZtzZpD+tQ0AkX+yV2a0Qvi2YWrzBYElGfgYKht2lFD9a09gA9B0Cw84XobXaVOq/UYtSvJ5CBfix9KK0QdxipItHMBI1HkPNJLTFEvUW9rH/sAiZ2eRXtKs7EVXN3P0zGkYKhH+ulHPsFSs03C6WvAbZpaYD6F6XvrOeUhFhro3WhvgAR5YR8BNLbyR7w/EA+YdSDeqQdleYejMEI3V7RrICB2PWR1n0nwvzWr1VX9Nuz3QyIh/Ur/lCg3sUC1PxHxQR8uTuhRuVs3O0f13qsHELFHwvfmGPiAn2TWiqEoFxayZFo7W0K9AGaD5RFSihK25POp/ePSc+Z+CjaTgAeLoQQmjG3hiuxLUJ+IFzgNumX9P57a2jfWyhL338+hTLntbFfkq0+5nyUVohlvClVQHVyJIBu/rH3HSL7o73zwY8fyyJjUvC7sN1uBPbWhh3vw2/mANVSQ3YYUTdHLo7WkZtScy5PyMTWRheOuAvQemfsGgOupBrxiUf1wCpu9VkVkSOKjBUy+dC++wW5hqqSmD3maWmhSTh8GWtJSkM7YDPMn3J2ZLBDjPAdl9L+srj2C0PO3RrcqH2woDSeG+6VbaypqLzTkxpTh4l23PMKtIPU5zf9BvqlqRXM+3sZCqyA12mdGLDuG9AT1OsPZ6xg7AHkObobMWgIpVJwT0P0ZGdwFTKDSh8QGTFnvlRgObHxWCKib33BqBj4l7WPyosI71C7SAvy3evXU8QYEg08GTsqdXEyHKPYdrtLEMWoqikEzYenAH1IuvE9FaX96eN8GFofEwt1EzvofXx0xW444x6pch0cJRrwgeCnuFVu6qICb4tI/Oezt3yrwb5yUbudUw5hr6GAaCzbi/dak2Qs0cMpivWO2TyR1JbOX/gAo0P9gQLuAPEEAAkQ5AAY7kQAZszm5kHVW9wCAYIewDSKuqIlWI7azC0CdqJ5z2/IAOv+v3DHq1/buRAks8wheQbZZ+PNGFSOHcSvsTzz+DNo7qfHNmWE3Un2+g9TXRsN9qNHxVM3usW08oMmKFV0YPPO+tPVDxME6atTfRcdPejwYw2AroLjF2uqAwVb4PBWd19YDrGIWqpp1EmaBrEeVWlCHIpqABg9gXo+tJ6hpt6MYuiu1xDtNVZa6AGERhQnGrAcVdljYeY1fc9EFpeoy9vLd2/bBHWE7esBNZ276MnDyJA+ZG4cXlPEcnLrF3li7Xry5cB7ELh0w4tplBPixcHyQW7ghQ/ShAykQ7OTWiFohQZEQfOmcd/032udeyGJHBh34Qtqn4URyYpJlsSgdh4XyUD2cXjq8pvC4Ey2cVhiBVcYxtCDHuWN0KZv8rT0clLXdYrPF/nxFRIEkhAu9zK4vILDNK+6wiwsBjITsc5HYwJJVvkYsHPI5YueRqhyxQZjvKHsCVIXT3+cZGoNdtvx6IsAZFdbB2qIWVvm5652qN7S3YD57oV2MW09TpQ4x8YhYetiGbdjHDcghsFo+O+kGBpWXhNS60KwM27tQoz0GHFvG+eYOtnQpaTD5wU8/xZ0QCsuuy7/aow3F2B7XlwwLLv+6/sONYENThG3zoBYvZmrIm/UFX95AgPMbjunrADu5QGqD7DmtGHWQsNvOzqG3kcekgkcFkKHVIF940YMmu4c2wrGPAc51wg9VkKIPDQn6iozy7nYiSfzVvYz5TrKzDbEAZBcmAWTHWGGCHpugnOjRNmBWNkUXcDAAR4FUmq/A7ljJcpJe4hC0rDLb7ejOztUrVXM8BMluhvEvEssZZ7o4XQpO8JXPx/0E26fOgKMde/0GJEvOHeB/mMNOaTJxUmIWOwKyz2TXf0frp61nS9LEnOoRyLbeKyqf2golNd8mOIaPDH2kVK6QSdw82eyD8RTDrRkW0SitPLIjz6itLQnLquNgYyuVNP5vuhtlZtZ2wd2SvQDdHkIOedo4OR1a8pPIdFr3klrD1cPfKL18FDlTeRtWYjJaytaI+DUFLhjxU2z8FaQrJZOW9wtwXdicuabBlAnXEdnu066M8ULRFLxTEjlR3RRtVBU3TVntaOcynSbkHfdly269EDVtqIHrwuoYLd88IMmbxQmKMPWBU85tc64oBGFldBGPqudcmAu+S+xsnudpS+C9fsGUWnmugbi6OuH6jhSqtrlX1q6NgnMbj+ZnGEZVqzaCk2LEduPPmLZ8YdYCAFsEOibUz9M8ECPTCKUO0c1/35VyqfOXYc5ky2jZpWqSTaxyWHocEqGiAgkv/2nN5209TswAKNEp4EDLQAxCAAHENQAG0BSYHVaAGbM5uZBQIRU+QTbh0BKILFKOi3qg1stypWGJNwz5dxscA9cvENNVYfRPro1ApmFrapl4x7uAMWuvNhn6kJFBV5kk6IvIyKqQSzAei+gBmomLCV9cKR8uLZA0j+900SU1AVEfdvvMfcY41gOn0fqhh7+fP/DbCm3BL6n672FBIeSTGNlOTnyy69pcACsKJnZAaos9qL3jOoOjlPpmuUaMqxId3hp9Otz0s9Qn+CawRw3amz8t5UX9YQSfrypsdNT/AmzOnfmJC9srdZSxXR/zzqcyJwWLFNQzuEUms58wG5WLE/H7Jz5TyzyTvuE4Swmq5GKmEtxX1C+ygIEMDOdzBKbrRaCCnaTYzqQqrQZaYtfaZ/ah4nZwM27sfKhmsj61pNxPuhHka2AggovejxLdAZ2FCCdbehUkAqqruM2PUeA1UpSNd52cCYACjB4T1t3BTa6HDL44xjNA2FOT3ACLqfBRR6IuYuwtno54+U3HhnyKbCJC2/K4pcBLt7yQfykNeZ8foqAvDhctlVE58FpL3JFcMugTB2PGXOa35LDJTd/xpyZ9ACpCFaIv57ePD+U1XjPRDmAcTXGsNmarnJ4l+42RDTdxPsWx+DAz6LAiE2JndFt3JCTuHhLzJiXkLQSR5/JDWo1Qvg2sfjj4qC/Mlg+SIfYkCs7ozNq3H766jCuJ9d4j0JLsAdFsmNuxuCXGUH9ggZFEq03PGPDosxUQJFerZdE5NCjJCkub3yzHROD4vh9Rs5kIpa+GKOFes+/jK7nljyfWliJl3eJbusPvHtUE0z6+3AkugezYLzZy7Fw445epoPgRl9FE9P97Xe8hJNgizQD8nJO1qIVG+XXsyXEbRnXyxkrN05ZNiP2dJRcch4COtqFtBOwPJLy/CR7RZw4lA89tPIDD2Gx3b/3Bi8ZsuL5oomNbsxt3ETG2OJZWlj6aaFi6LZA/IFlloVvs5VZq3SotO0Ua9if9awV0oHuV5ZEMqf1h90RiLB75mJW/9q936OtZULz0GHN65MzYyHLlSrBxBE4rUILomqrwtCY2dKZ9nvlvqQXqy9020svEAH2PvywRjZojwhQrkp1I8pASRTJmyvOQCe0yR9Fw5hLX44fE1N550DhG4JhbqcXiIlN2WDyO9MTWuK8oEcPSpYYjUzUShuM55qPA75Eg1U4A4nqBp/5grM4aPWjpC7eC6D6UQ79AtCKTtTlZnrux5mG1f72eOjwaTv23uOvR+1QYT+dwVrwkz1+pjfuPZ/L5FRpnW7vefDy/XPHWKnTj8Y2qdYPzHdmDwervAFgYitlg3YKPzu7bR+VJ+ZLc4aHU17RhwY3ANiazzU80uFhu2dGpKVH0ZUgC6OvQtGAagsMHB3PADh6VjO8EwboNvgSDFNdZfWxhyw8ipOYolTmCHyhKHyoZOQ/Mlt1cimdDxMepsfxcE+Ms/CNAiwu8yeA1fg3/KqInK1ylI4wBqtMJ5Rq3ZbmTUKZtcWSBDIAI8n8k1D6zQXzPMCqMN7r8xaGntHpNsC+r6UFGEFT0VW8OaeEu7B4cBHCo+wpAUu7108NMrSpgKNEBoEDawBRBwAIEOQUYAIWCBv4HfgksOEQQlq2mPU+XpLb8vgy1U+mwFUkLlfIeFv6ocU/ToxjfpJu1gfLtvUKMGcAZ7YCwkAN9eVT4c7n96KINPF/P0n4t46papl6latp/KIDv7kt5YNF/lHy4lWi8ZWRVS5Wp9GHL5j4nzatMocl3BkhESctWErpd7lM/0xWtSnK6/F95QjI/s/1PkVAV0KzWuKFhsz55a/dRFM1tSruW9tMsHZSekiyyzTuEezK3trZNB1gDjmZ/XTJYR+xp0/nfeNpxxjRRhCFcLH9iJgFkMvr/nSpD1fPU4i17CgRzY8rV5+NjHWvsrpvKXBGxRcKU1aFlUjOgG1n0a33zY+FaSe00gV6a9Cr00XvbwC1nBmd3LkvehnYNwQQp49LcJFZN/N15wYnWwyHIxJNSbIb1AeVlWvkuq+VReIns8+E9RvSd0IMS1sfSLeiCkh4tzL2s6JufOeDGlktxCodpwlgwFwWj5zXdNzODyiUDzm8RZ/ov04ampEw/hY5GNo671yRbzD/jMURflLxNRS/27021AOnKIdKiR9wJcbIZqeqAm5Ds/EwxkT6w7rr2odtWKoWHkQsAnVhER0HMj1du7z1EBGBK0ZgZjYGEPJZku0L3NQ0GE/aozq4VyKcXBfAcZuxGhpr1OUGkNUfEEVLRC6MRayv6sdpZOko80YmV0tHBs/ucHT8s4e1npCLad43H43TBwM11OIwvCY6NaDXELUvZGGdXWl9melDI4vLRupykgUbMG2XZZcXoeCqsULFW7jcMowq+gHnzwEJ1Tvfk6/6I7jL3skXJkTQr+CDJHAE9W2gC2fCJIKZNtuK0MqBXne0N/rf0hfvZ0c5Q1/6rjmmKdazPiblP9rozz7fLrbpMAb9ORfx2vDnGUijIOeQCZMYzRvt1XtpThaO3eUPes77B3FQEsXmsidoF8KojBv9FJwG9hs67HB2//ROk7eUeuyjBvSo/YeVt2nGLC+VUL0F++aWGgSLs+khgEUX1C9Q8CJt4/rcyjgt+XJxYqpMLqVJGFe6snJFhkfjHcIWhVbwmSrnqRNytf2zipgweKIRsLs7hu5d8K3DVJoCW+uHO+Pbwo3mVK7TRXRTsiqv9L9tawjhmMJYNKmAMC0sa8FLYtZjsim/7cZ7enkI7EtFV14WmIJMfmvU/GA0/pMdKyoLcf9rR3hY2IVlwAR05yYl/zDeQ0+vyLti/c03FmJQKOISjec79E+aWhUtCNDvpgLsgkk2C3TXwxj7ZAJuZwUZgDnC0ojYDkp+y+Bp/Xp2Kts0tpEPo145Leyv2p5sRStir7vNiKjlxvTWB6ul2ywQoVkx3nsd5gr5oPq9Guafzi2qxs38NgCjR4eBA6oA0QcACBDEABvIymEysb1DTW/io+9IXGVKoDFDL21AyZvJzYKOGPi1/RWhRv5mCQjXqqGBmByE3YjJzgb4F/9OGgDww0wORjjVpiZo5q+b18PFlKYpsiszt1sE2DGmA+P1ovz3PALuYglMXXo0R+Y4dnYhHsAM59XFAxLJYqHpjhO9OXihkarLkAbAcFKD288+ZFOEDaLDM2IURnujb3q7WKIw11zUo4yoLxLXYUh2ZxNhEUGzgLLf3wdfZSYajz4Qy+104pyyKUSqadnT8ZyvUKuf5DylUXULQajJ3s9zKv0w8mffkkaEyu8fNsLfmK9yls3NFOiCzzg5uJlPlOm32eNcs4hEWvxBfzDnnq0CJtkHVpxrhTCID8MYbshaTubsg8nrOXlm9Q50XYD1WNaOXbZXJsBrNWkGqcunx9g4KmT94w73efdpCa/+f4/NcI9YJvcEVATh9sd+u8SGGQdxdqDhSCHu5M1ht8yVW0KbKtt9i42KUk26woXkJLT+MaFX9GKh7sLhsr2oRUttV8IrCm4e+70zLThQMx3x3PeZ/mBKQA97LISqO9BcwR8X9CeJDSW1PRePTqWUvGLDPUbwvSHR6SyRFUsqCcWrmG/Iy/wK6xcg+FSTjPd3KPc35dH/Lcj2IjnWH8926/2f6xVB1rgCed5c71xfI0au3322kY+HrGfYltHEebbUDUwZ7+fw8UuvZNV1cOT3r9uMYMqvfGKRe8SuitTHguzta040QqNpN47XcvmeyWIQHov8l0PQIsIE+Ai1efDVZOZ5XwHyNX8XvQa9qlK6tqyavz0U/guTgF6mfWwhwlDpZSzLwh9NWqm4Dbvv3IBBx90jPeClmKcdFDSMVyifgaeJ1cCNWwv7iEPNCjAxhREtaKmRWyT6Vx0AKi4MnNsn9+lUrTty+X1jPjBOxXuQAdy7yGoGCmXfDiZ2KY9pB3PcW9PSJwz3C04ZQoBSNhMPPK+JosWjEqSSgy5oh8oig2W1KiQFKjvqsobA8wFIqYFsUlqIJmORwxiFpsWa75/F8eQp3MUUK5PTUpgMfJuvZxmR3I7tLemrxmN+VECHlzBruEJHaplW0swQpO6ESR6YODoqj4o26JPEgR0H4J2AZLcC0vVowCR5jyrkJ2qr3VEOJU3tIOxzQqcyDz/h/T/iiQhaWcbQhQ+WU/CteE2xxgeQ4Cczix9Z2iEzs+5h7x4f18ZcA/qXQOtmKkIhTJtx2s1ZUsUYr+Ma/vomnIIItr9NziCg/aCHouXcbxMZQLFvk4STLYuWTtlHD37mtaCZkKXHCoVhFYSiaCeOnfCZcZFL89WdzGar5CXuecfZI+BL+i55yh1WadHrxCFRx/4UZPlqdi1rYjoI4xyOSmHGeOHWj3XwfLLkbaUQ8oAtswoeiqiWYwrAflc2YpdlCBodTtKHh2zX7+mOGHJDMIV9i105NXUHsVHQRYhviHgopjK549eL7iPMF/UkxMeQAmRw5y+lnW4bRHMNawUwo0fos7R34Ll6ANzx2NJbYv2a1lRfEHUUs2dZfQkmyiMXrtsl3AEnWVO5jEnrf+oeBk59meQqNUURWpiKuHwGJFJX1Mr8yrTWaQxqmAmGlCgLKSCzpIQwNtedEl4lORKu5aYn6btev7jRkEj2NgBoDq3RxNNBMh4anNvPG81L9yt5AsEYuu49Egt2DxIn7HqQ+J65lL3bOinu4dzZC3Km1ylOp8FGaPu0WZM51r1JknqVzn7HWaqDs4ma+Ewu/luaDSoKSPOvkMd/45iMJigzne9xu5rfcrc6xjbrFwxrozhPMRENNpWvxj538IqXac6TUCCjhJYIYWSNiXS2H2EvGM4pGeBpbWknwuhXV/HBP+JTcRP9AtKZT3SLsqM2EHW2SZS3AN5V3u/CFXUbAnCX4I96hAYwzr/6ufq5DuY95VAd6DYHJdejCXKZXLK/kpn11AI2BVsUlaKyg0uzPP+qBnAeaMrJ+aWcYBiz/2GRR7pxV4sqIeVGGVQw9gwq7S4KGvS/xvpdZSsyqs+lLxNUod0fmiX9vEiT4kGM+FUIedgUvySIfr38vYFUvBS8KG6M4CsBohsXDXGy8ySDgZHq8kwaXGjyTB4z2BnjDDEldOt7VW62PI9pNDWWEVpBeJK92ZXK5wdC1C3VIb/a3CVj+coiDfWvgqqDM0TqMq6snLxQ7sqKQFnwRZoJye9X1bN88ki2RLym+YMo6kQSJ0IO+VRsysdLZz40ZXAvTFHVjZlIKekjbkYOpvpeNtUC8HcSXBqcRxdAmQSl9smvYecoKJBBcYnPa02sJjH3I6dT/8YqkJKffyckrNMbc1+XGhtNe8nu2RPepnqzLan7YoZlDHhWuvWfrA53LevxLWHMhHXkKVtDyU5CqmTBD6YbRRR1HtUZZNsmxYu1d4nQfOwskRtdeMCZW68EpJy3UTEKXemJCqmk1/u7TRR9VKz/eRmETv4YshU0E6bw9iqSshVKVrL2gx4zXRnmMnqoISjKl8XwTYrDnTsenBK8XiAyaVGjwtscnugTsQgQRmIsGYbvPNM8Ud7hlS2034Sz5JgAH0O2dQEAAAAAAFxx54ID6KNgw4EAAIBQUwCdASqAAIAAAAcIhYWIhYSIAoIAUYP1F/e/AP8S+QfvP9y/b/+8ewV/c9wnyv9q/1n929Qf499ofzH9z/IT2J/0XgH7of6b++fkn8gv4//LP89/cfyL9yv1b/d/4PuFc0/pf/W/vfsC+u/zn/df3f8t/bR88/3/+K9Qfyz+d/6f+7fAD/Hf5d/sf7V6Z/0f/pf2DyDfmf9Q/5f+C/M37Af5V/S/+v/cP8/+4n0Zfqv/O/wH+k/d72F/lH9L/6H98/yf7efYD/Kv6J/yP7f/n/dq/+XtV/WT/xe6B+s//f/bf///V4YTOZHmxezW4NQEs/efYh/+hhSFeBGtwuwrfoe+1kW2StwPqwKaobsC8WTSFuOej5DMSLa/ynhuMzrkRQblo5uigT7P1OihuABi6pEnB3G7Ljmtpqv4HZqLh/zYIQpUdMnCrSmr9j35j6UTur75dLIRBJUhWG129C3/9aZlprnrUzP8khShTqJ3smbGzeLr0UnqT2J440gOh3+3+LsT18cnzmSCkRjD/mBtlWESQnJP04NsGa9CSNWrP0RdLG0ZJPvhs6oXRbHrG1YnZk/UxRN+NHTach4B67FyhucfNbmgnF007ETbb24IMMXFa2blG1gKjNW/chG6sYKxu6VW3ckmBelo/LHsRPrtn6H2YNCdSzO4SkMEDc04eCgLQ0oCESckgEbaexlJWilBBZWbPKdYrZ/kywP8CETRcj8uUOAymviR5t1CYKglGqbDs0BxVYENaLIIMoUgvq2gmvvQ2qf/ymvamFhgvyzK/nDkb74dz9f94sZ6IEEFIWeu6xGss0yB1h9UQSML589xrTX94P6GgnpuMrYpCEAltA2Hgu/aN5GW2dvCJi6vX6V62ws5Y2f0CgSHowkt7nyja4nA/unPQJZbd6y9CtuUQXN6xMaS6GCZmlvHDUt82azwtQ4OZIzq2xVRyKg9JfP7O54+l/16xqOJqTtCBH8B8mM3c2xItQU2wnSil0LkIT7wY2B/0mcJ4jN45aKt06fhATRvW1o+6+eRPY46y3q54ikko0e56Lk1LytMqFhPFHtj/V1cn9HnqTfyBoozuzL8FHrQG1GWYcSfh9AjUtFafA1QNLFPUw2nD5MHNPYGEEWrQpK7O87QFhFwdl6XAPd6LLqkMsIVW8LiW14gi2Y9r8sYOmLtMyAeFfpfoAgZpc+u9k1uMENmMDTq3DsEG1LXIDvwlfcCKHhAfOpeoCgCm8nyBC9gdkVJB+nZ3VssEUD2ih+H8r03Wx8tZyFEfj0SpUoFULVFcGeccrnGFAdw4JBeKgRUGhH6Ot0EYh+UCT7Jc8R/R3s/EARUWMkqG0nGPJ1+OkjhslQdx1AptzU9cptzZhRHsE188n9rte1bRFIECcemFb1tUz75CKSfj5xrUtTkw5yvr3SZmziHviSiwrzgXENhRZfaySJvVXlQZGTOmvZmJD4neMP0n206lOmsYcG2BDvjAOllMY3K/xyua9Wh0F+a81aMXvp0V2AOv7Br81tn1j0XGarx0RJJSc5VNVQG4stAaNHDY1OeOnp+0yz6mqgCJHkZ1xNidmVJToabVsZVNMVgMv+/VgtCzUh8KdAPOz1g0jbLnXU5x/TUY1cFr4oEXiy18BpJQHjEyUZ2npXrtklC0oUr6HG6cYGkhEYUkuYmn3/CA87T18iv+8am0vcFOMub8CY0pdVHlJmzE1YTNwHS+KSzdBp8rx4dKzKP5XuCSmQUth3PP/NBv6y/NQb606+jooBxjvd1DrUIEUeRgHrpRCjC2kRmqGv2j51ydG7dzivFRqOHRxTBufFY2qxzmXknefhn83V53BefRUAC8K5wIRZ+MGfsKn8l5iatGb5CXmmWRt3HqTIilkmPkgdWiuO4O3AjEjznQo3H4ZejLqbqq9zDUPg9UyWH6jAFg9VWV24+h9yWKQA6K1H39QFKOzYcyztKmyhGlDzMOFaBsmMBmpHcADwyaxkUJUfX16gSH7X5XzIThlnEcC5K32aWvqoWpT2trSTAiDC+Vnhv1gNO3ROxnLgQRQjaFmqtwXpbF0I/vNxwuGnQnDI1tnjwHpYUTDusexTBS8sT657nB6oStixlBxe2i3YSjaLIlo+MW/palkRzrVOFTNDNj4eE536GdotXGDANYeyircdXhwjs2Qm3oje+VpZ072aZIqnHZgXVDO0RuBq3/uZGtHZKG+1ZgNeu/sYEWSid9kC7/UPEPJF6hBYTyAGwWND6ZpFzwimH3BEgGG+xfJVujPI7ivBHVvMseyLk5o5BbYLyvXWr/uXbJz2EteVCneVZFoJkHDCuSz6Y/VHtB00nf2PB0q0al3fOkkVRxb0CfBj8TOl3sQmwgjlLj+gYlxRw4jqIFORdFRRxOk438lpMDQZzCjMiXOEB6EnJstSVyK6ERbgbNXz/GoY/8sUmtDqi88sjphUeRnijYnfkGgFx5bv/s+oNFUHuxZKXMHuonExvOTBMWb4AnlYTl5DJJXzE6S538nlUYSZiwjvgCTAUeuD9A05z5VryouZpXammXF9RxlRQEO2+hKDvvWYycDPyDYdMf7htnzQlBQD9bX1dnlMoxfJZ/DwkhIwiQW+/1eYjMkye+l9i6JXbYh9WN28WiJSvfEDKkA95Ficm4Klsm6wQVNGaUYq6o+Gu4Xqn0Rpxp8PNc6IgT8pXTvxaGsaIwc9y27gQ2tVD2T288+0LogHGVnqA7EVeuLtUHnQrQxvUvgoyesp2iDdFxvllgfWTAMm1CjmAOSq7cPXSigYpOSopiOKagV9xBAYhi6lU6pheYfrcrQRQDsoHa4annRwBPhtPZN0YSyNoLZFli5w0DqCMhxf9p08J/kAy9kugSobQatJ7cksg2gC5PLFfRrY9W5gl8XJxVEwf2IxOsyB2d7AVzDrHn8bP4L+Z5pyuPEru+PpEZgN9OsiXe/L0rFvhzxjep6/WW5nAmGyigOsvUg+NAD6qO9vQmG15ancgFeYBUr3zd98r5m+0ODKSuovbLc8KOPFh+PMeCu5YdkNQeVm/DP7dwY3xCIBUGSZDcRhmnPcHxj5c83i8I/MnOdLzZsxgN1mLek97VdJl63ux9UvAQZCuAjT3AT/VEu79GxSCgOe21m61+QdjCA8VQN8nZHZau3mu3WByj4UWQjUqK1QDZTpVMthp/EDfP5qaDT8/aDbOrqeW5OKafkQPenp9j9OReFIZg4uJ6U9LeKn6bU7na4JjNTkHL5bhb7i8EhI3JM/ug4SK6c+ilkc60U/CneXtG2N6re5yK5Fu7j/UOTF0ziH7tn0k1cuNGGI+Opdkb0QLC40yKo+Rc/W35JbyC+b556xl3qj7hhVdc8jX0bs9TJZ1V5lKEZM6eysoJpel264xo3Otb8GsZlnl/gteLz1xNQm1BvN5Te3CptMZOWV1hMZuVkw/LUMjYnUg5svApyXcxXg/Rwa0Idmyob6XCzhyuPm/aTxVe+DPq9qzJEQTep3YTgtBKAeEkB7IR+s8fMnRwtHYMEHbG38f+7G141nA/JwBVO0YNW6YEiebR9zFF8rZHOCV+3idmWCcs8ed9IHWY6XHrDAasREpx3LydwPXTPX3RNvuFbYQwXr+rWN52KDUDSHQH7Owib4FKqZETUGY7AONPsyvmep3zOnhkLN3AFV96rPBF0OEhtySxgAaJxJqAj6xKZZgSoaGuP/+M2Wng7q+78XpUywP7jOsL0n8jXFShZgHajNzfXmIX6Tk5EUFUXwvCRIloTGQTUKgMmhXyMdn5V9RkXHBxwWl03kdIhwgwnvCZvuPWJWKavLEfYc80uau409QO2n+PHAZfGYabFzVGVqGSPC5BI469SOC7JcVxFP7bJXfl9+NM2jyqftzFPLDhx0abVn+ZoMMm729C+leugv6BqfmJrlZPRxllcvygVVvK88HZwMxqDz8RIcZMklGn//+dPiErULph+bHcZYdnEh1BqXhiXkv7qDpNn91OhbggfXafXDoYAOMcbYLnR3YOJfZyffKdUdxaQLzyN73Oh9bqI+wQQIyup3G+JLSdEdBnjTXQXQHKzm1svROu7FWOutGkowq4GsYtT1GmfYDwacDlJy7G4qo7q70ii1DZqGdeflHlJlGfCU/LqF7vujublB1FkLukmSapdP0wlcvpxC+hj6p5l2GawCcMqhm9l1beor8bdTIT+5DTgV0x94XTb6Men+TiVX4o2Sx/6wqa+dLnZYdjq6txP12wvZBwIixD8RxGjjkyuroLHB9pQXhnOiHgk2o+/l00wBLHo4YBqgmuO6l5plOBY6va62QLiP3qHaUl78AM4Gg0lOfMkVdH5HWsmQ71q2p/Hh47Nw7IDf/QU1+4oyO1YkLEDArg560uc/fw/H3cwioqNl5zweirlLwytTjgUSr2mRUmxTreTIezSJGjdldabLb4QS2XHsUbruZvPjlGsWgjuFvz/+yVT1YNFYhT8tMIDLpU4+GwSQQModgPOUvEqcA3N7sP5P7k0wubdjOMzB1HFbensSDHf/Ez2Jvp6Izq92eHdgUSg+/8eHSLeVJK6ulZ26AdDBa0aHx1KieaPDASSp3JhhbTdQKd/ovH8OfRm1KPlw0yvaYEaQCJ5yvMU/IfqRpcMWhhyEJL7cOSaaD+FGFvRxzEdSz3DxW5u2/Csd3oK1LPNwnbFk8sYeM7xPfXK22USQKxI0mr8QXEe0lFKKknQYfOZefSsS2wm7Qc9j6bYBKWMLZ482OaAS6o8LcRI5UqQDUlugNpPckuXfZo/80NrdtPR+r5G3av9Pjwl86Y50I0qQhr1T9X87xsMEx4UY2xXmmz+4sQ1miJuqjoaYv4Dpj13rl1HC+aL0P8ZWDF3GYyh8xuOgXBc7IVUF3errPjWqWpFwl/CTqzIJ5jarRGrOtYv0fEq9iJYET11OX0cNiovmbnStTVgNh9iYlfHXIKI40uyQ/5Pc0VI4ZzAHQOWazMw2P8Wxi5rBdSDBOVmvQqkoLKJwLz7+bC78o3nblzKi6rFmWJ91MNi7Uz9QecP3i4Ne+u1B5aKpBvIZ+OkibK9X0yRFy/BoSNeMKOr0ae9v7jI9viq09lc6elXeNw3wV4K8G4Pe3LfaoS5dRUagjg1sDI0iV+5KgiavSnkBHq8K0QtjQnie9PeDjuM2H4jQN9bCZXe9gDrSrn8bwEaI9c9qjNUnwnWSEpfj3Z19G4uTM7lMsrKv52InKWBn4PU80s9Jnv9ss/+KWK4VhUUgzYygCbl708rPe+AfjXm7IwCfrqXdLIq2fnuNrV6CumVo06ZupkP51l8/T703+4Z3v6ZH9+oxAGC4Tgg6jIxD4VfpjPzTx47En4skK4JH8gdfF9s5qA9A4BKU21SFt4MpeH0581wPkHa3bDqs4wrNbLdH9oeGMzt0Nw3NEfPBxm0v9x3Z4NFJMFD/A0aIP1Jn/ValwK4/uFSmfN1MnJuz+nztBHA4R726bbNdZPxfqorZwfwR79P5WtKqYr7bw8OrWZ6so4HOguFS9PE02g79752REjkpl0F78CoJz1NghBZ2rwlOZ4zgFLDQvo9fGvqKbPzStt8hTsPDFyaL4Z5uuGakKMVm20Fu8gcLwJxFt2dIZ8tqzpDLYb2rhcB7umOKvGFm4HcaAZDI0I3UVyauUNufOX0A0/pVcMw1qOj1B/H/PGVpGv2bHjaKpbnK0CxfFPROZHQIbJOlfh7Xke7m2q1rYkzbVbF2H8LvSZyQA/EcscsY4m+yzvOOZu1JrOOxZU/4RKsCY2dSLKnBwzMHqePDId4+HhzxDGQ7kJEmdQbJqfhDd/LmMchlJZVDQ59bRw9gWVJ//QvpqmexvVhVoghjKSmAkoH/p0JWaQNPRsnTf9EeGCMQLHg6enzvy6+fQpjaAsZ8yOoy3edHbEO1wOwl5/Cvvc5gVfP5Uk//yRJL3VRLO0NE9XESQXEpqsyUNEjBZawu8fs/mZWOCWqw/IZwTXO9glTOQfnWQFgFwWPDIfKOHy0I4Sc4olf/15uYQvqQGYzpEMQbtVgw9sHuJ1r4OxZCDtttCy9yyXoUtMifnpCaJGjOTJy9slWZNs8wEoJraovM1fxTIFHZFBhR0JNSVIv7ddeCwxHn56U0Ao4Webh07qwjgTOB8mEMJiOYJSKH8CG+NSeur7EuckSzE79J6m0evBDbxncOXh6J6Z0LsoKzVzJDvHlMxnMr46DPQ8P7Bo19ubL0fVSTKKROuTpekjJ95NQXN11wWWFssFEJ/QLAfhuPqDslK03A8MYzZWik5n4rHS+QI71M4M0VGrEWTRJLjsr8Xc7RQqh6vy5O3JJt0PhX+svYwovaxmUCqegUCD0NbbLXMZEDVU0kxnaJRXpIRLG+C01qO7x4RD7obsk3ai325jnvI90AX0XnCvPRUDz994EZSuqxzXKNJfQzb52EvVQ/gIKJOPhgZNbsHtTzUZsCB0Tq4ia4czwXP7zS7d2z1Xusxs9J6smF0IFmnOpZQ40dmO31mNv4Wu1hrW7PSBOX0q09B87FCSQAl4yk8issquM9cEetXGjl58HMFlNkpmCV+0fyl0ez862pR+NMQ+hN5lxQfbFV1/s89OaKnJFR5ATQ1Usj4STVt5yDfd4pADfSa3EWv8NAaDkB4UsBQOdT0LMZqAEvX41XVxj9aVM2bGySyuIWOjcyjoBQQ5oUWiNGUepz7LtVQ5cC/a2PvZsApbuS6uxsGhDo8hCyQTJPhadF72nOYlT0usTFKJazzI3UtO6lopGvIFoS+oBQUDS0mDh7TS+FB8y01dl5ajoWXwkrDpim3YTYS7Wtor0Pa5tsc0CIpJZlrZB9GhgcaXxbutx9/OF2kQQ40ueEFdwf1TZJ++Tvl1eKb0fAfwut2J16xgcdBqY6fMe8yckn7v77If9mlYe/ZumWtgFPwCkdDm+vL3UsC+f6jwV/2r01iGWOf/JP+VV49z1OV1+cbPVJffezUju37fXAAVZI7GTX8/J0VI8SOnn4ZqpxHFlPEAbpoLsz13nUA9Fn442oKyywjQFufC3AMUGvC6/vOjIP/xM3ImCQDcb3VofTRpFQrD3wbjnNsh2p2gLClIhZt6CwCfsk0xWVxDqrt58QVQkRt+gsqbUb0gval1cVucQnGXTajgjp+dl25uedypVaDnGpNaSv+U6TRBzsimqx5zsqLJ7kg9cnuaU68bzB9JyBBQvF6dGTUXzcyTmD4yStZ2AlYozwz1J4eDCQiX21nW53nElxfSujf4KhM6Vx1aeizDJ30A/OFjdoILvvUTM9EcpiNRC+hsIZjOJPxf1mW0oqwuoBzVs0ni6fYF0bBcaIYehw5cvoqE5nDIoFCs5+7zQtuJP26+JUU1iSTJOcCKLuprJxr5OAdRtt9sv/BxufYoMtWC/CqYcqOUNk6YHyXUD/YFNtoA0RgyEaw6bi9iawhtv80dDZ01w4Dqc4cy6hW6qxiZlL/cNdC9blYlaRlcav+mEKVOSVw8xw9uYbcXC3ZXnSmweblKvuf+koKk8+Dw/x39EWe1HuSPV37Kk21cAJIiCtLpcDIchX7XbHoYlZ2xk/j6/Gafk5FzaESIYV8/dgjIDpHVbTqKxjnIn9iZLJHau/JVQj8/21ePJEEu4zBdi3DfD855HGPWUFvPPdFrnNpm+eOyUXlVEqStWat4HTp/OH3Zty4o6f/bUzRB2ewEeSwQ2xJyo78xmdvraZVNnM0bk3m0jX5fCQH7eSJVcc9fRRb1qHTXZ+T0T8J7nN0tz29buxUY+p12GiX16bQyeriG9A5QV2tOlIdUFc2jz1kqQPcP1vhRzmRZRlXyBIiyvFt7aplWqhCFKb0l6Euuo1EUjQ693aIUPuSUrlFR1BOQ+QzFtIrMvPoqAsnlyyTTVJjJ2DMDyRYn3ipDCL3mDNfRRyICOsx6+NodHR6j5YixPfGwrwLN1jr/I+ASnBDgoqITuxDO3hJjtYKyqO9DGexEcOXkYLvpbxX+qK0tCqoTP7papsSNXfN9Io435NvyeGKHyYGmPm9lQD1XvC7yp8H3WASn8ywPOVUQIJArkk+Dr00x03gBMhZZI+39edlCzg9YwvBlIAjf+XYdHlRGhUAQX/gM8TEAEERA2rhN9boW8v5RR8WaPDLHNIw+3s7BD3ztExOykYsoK4kqgYPm5PqqHl6MzHpx/My9GUbjhC04sd6U4sgn3PIAkLJZPr9wgGFuWr1cIoaR0cASbs+8jby4Q7jgf7yfkYSGc8ZWTay3dJt2VMJGDMNbwJuD9OQKKZ3N5T//XrhfZ59J1wQAmOG3SVCMpbPeNVxijSJ58apH5x9p64/7VnJ0PCSpWVhl+yRBFSQ0bLRH3AmjIrePpVv0BrpEcHXGqs/5O+22i3kpm6/d6VLOn5HjsFpFlSopEzl8n2Ho9HU71D/VJlS3eCGBLKVZ6D5tTCWSgyXP02EOhsV6ssgnVeL1gu7TKhnoC/y/b1khrm8uUxZ8yuJ/g3wEDwY8I0vElt7uWeIhnQNvY813dzpEQNbs/v4J2pIW3rfliZYzd5TBSsxI+L26xv8zCv6WUiccDdmGVn7eUHg6kWcvNxNefD//uhPKGhqXT5F7ZQStKEUWkot5hCtYtBvOqtFqgTA8TufZVQEp+ragsahm5YRrr4cCgfRN5aqrRCqFzKsptehQ3/YeOTYSeuuhqPRebtBSDxI+GYnvhOi0uzDFEc8si/xm4k3aRjyK674aVyQ0N8/DOiJkcSZXkGisfUjiREEMq6mVMj9hKJD7FyzfiksMn5/iaXc19Gh9EBqqUpQiHdIGpJngKlWl56TS9n4JW7aUDKCc34ErjAUDQvxW4B9oqYvvl8+7a8W2Ig27aT2u2zSQhn47mEcjzcMvaA2XYqjtUo/BVakQZzdlvcBzscaldX0xmF0F2SkiOBrCt/PzmoBsTSO4Wz3QVaoS+ndVe6RrLqnRnIGcQ9x0MOJkATzEAMwDTsUSL0WCmP/OU5l0T8j5Ppg5dC5eaIaTJfsogW0Ez1DNRL1zGuM6swjyy20vyM3V9meuemOTWfKLyxFdFCtS0A+rCklWCVoqlImQtNpd4sJTq+GAP+BWcKjbJU9Kc4QynHkUcHvNrfQKN1aJ+3UQX5iURWUwOfHFH2jyKYrtHVCSRJ/ACznAIwZAqzEUzDrzpiS/zQdLCAPnUfiQssQ/S9ErA2XmW9JuhIeFkcN0Ottbza2RR39EFSDIagBqlmP7wsN1e5fRMOhz5K70ajqxEm/UnvAAmkZZIs3iKqDuYnKnN4ZNvjQI1i+0sk56RBI+QneD4Nf4z3oE4dXMBdq74UNDQjkTA+l85kGfaHlJUdkUYyg4Ny8ynib8eZ3DV5fTyfqeEQ0KijTIdhmJhDqrNONANYlaR0hcpJSsRcUoDLfD6PXUAkGF5X7+1+auGkMX9/gNpIYFHDoC9HpUpMXdjwxEbOFXz2YxjkhQaYOYUx21v6VefUYO/zaHRH4De0OPKGa9OxXzrKPX3DeBCis0x9QPCtKCD6k+BkjrwyQ8NikfnMkfRk4u1/voqPh2HkOFPmYTOpBf3fK0yIzCAaqP/kpqjgGJHkfDpIMR1d8P65SnPdkmgUJZyYcqc+CPgguRjmVIAx4DqjpjBpATpaCBymuf2DnguXtXVeQpYSo7MoI1uJwyaeKrN5syVJE+qXvHRFF+Uk/c1Tkj8Q9NHLIa8DgQQ1VXvTckMvGAbWGMBNSANUN13tW1+PkVfrjnrkrYPspbK7EEO/Uw31Pi/bJoxevzflYdWbMMVHjll+UWo+FP+qCkxOBV6rOoyvA31dPw7oI6n087M2Cy0/KncKU88QqTtxUKHEluRPm/Rq8Lt/+7si0KIelMRjSL9VnkqBqfCoP6uENm8vLteHbN/gOOD15IGCIWfo0QLLqjQRYmLHZLyX1kL/DrHmC/ACKoCtiuzRiP0QkOepEsaRkwsfjpQgqOGFwDphW4bmnEuHwCXjtyXEJ8BXNV09tDj88bP4+mIsnsaTmUYOOnv3W4QZ1rMClNS3mS3C6mm4JSrZIcsvk+6jZ8JR9q+0fTvIbvl/mSIRZto6KeEm2NBpT1RnEBu4sngTKcSKkRb+OAe3ZvbIQ5N7HhJUIz303KfhvbEyfUOovrw3YnXu4g8CAYPZrTSYof4QWlLnhkDiGv6aBLUsCwheiB0wJYYcsx/FdtWYMEOvgySt/+A019F4O9LET7G9DHU7bZtv9VxLALgT8PBJrSi+dTgZg3MsG8rqNdNc9bOLV+sOWhGSd70Y5V2pWmENf1jGk3/x4Os+wHbvqUs6cHSSclVPfieYM8tcsByDdzvLbRmab7jmGuMbZp0JWwyVLTmBRa0lEuBt1VIPzww5vD/UbgMD2nqR5Ieusyk/hnxWDDhfyWHFUfgLijajgs9QAbHO6WrrUYpN/6z95dl15ucqH3DPNXjhZIMW8rQrtXYAtQLeNiWtx/AGF2R2eFz4XD24jX+jKWbjPMR35KxhWnVaKh9Fbu46luoCtAHCheyDU8njakuMvcB2HG5HJ/a4qBFvL4OwqfNoaMg9eo76e+qZNaGRAjFi5jp7yBfgX16giA1Dtak/qyQVKYA/YBN2fkxYZRhLTFCSzWyEexMrUDjQwa+j435qKbiWcsrwN19ML+WRJ5ykNiZ97/cqBvZuRGSqNA/wCgZ5HQcq/dl3OLVirghWzJ/PdJuNMLnjLbx9XJCw1uLxnphXpFhH+GbLSfw8gfcH3ychv7o0TDkFxYTmi/OYtNECbUluRz83JDsmxl2WhGfPBzrnrojux/mbBK6k7UVsY9Mgr770d0GIfchnoPH4uxqTlmg+ofSu21gb4qtmpEz1E5tvyKFj+Bzqp3kRaNUyeia94uISnJ4u72+L2xyarK/8/eRz8+EiL9q9ylZhhOrXi9u0F1CTrKdz/fLRi+OMsb3721JDWEYlIRwX/vIyoVqE194QpToxUdSuons4TAjnFydkWkl05x83JJHRJZgPL/xKjyzduPGfcheHzdL1rKB1c4qAj3r7/2uUCUoS7LrS0ATm0CXI3R8g4Xtr7RyCOneBU+uUR897fQW8S1jlZGc+NZKr1+KW5AVyFUrxG/YMAbe18i4pK5CeQPJsjgc6CADdTZPH17yvhq1JvR7L2aNz/YQ/aPmkBk+pzWnVTME4XiKMbWYW9k5vYtMDSC84XnK0dRhn7ooXwkHcAo0LZgQA/AFEIAAcQ1AAeENq9ofGL2bMdj15rN78sblYy/JrxOCzBsSmvlDX/cAJgR7fcKOnl7jV7meocUrpguoyXxwgMFxcIGWRwwP59RpVS2hV7lvgDUygvNWG10OsDdgxB8gjjuGeffGYNL9UfUTC7fXoQr98gfgzoP+P3/55Jl5Qg/MEI3xaSDddu9FsgcgF95l4omXaAsoR9zJanNit0PTFloPcw/VcSEikDFMRqKgoVWh7205CiiA8vP56NVtxDwe3rifLjOFDCzaYgFZXq00tfNWIoSW7k9Te78kPwJlySnTVC28tYi+Vlef2gz7MCDeeWBkxG9VV9lukzb0fFDbJ1FyF9DyUuAka9DLDSwWPPYVG2mQyrR2YqY1IMazPIx9zxp9CgwCgWiCNeEVKCJ3zMrq5mSeJEj9Pxrx66EmUFPYSqXBUiPQSnLOFnyP3w1YOjSY+N1bLMUbq70cyjGKmlCRkq7BIDa2YmoJWVh3cuyydkmoZj8MQWnQZVzx1N8lKaVBuyurqTM2wEoid1ztyx5CIs95EegMS3XoXDLCONZ+AA1uQbEpZPdNcLTpnZgvraoDHwF3UdvPJeNsOXjudPrtB8+TdmowtWf8+qlJTSKbFL/UAfP0hs0w0Mi+VWZWFTd7OOFxxZI8qjWCng0Gv2fSH0sbydjD8/M8jZUVmd5h9HKB8s0yoHSUZPz0ab5nscb9OZb3mzQ6kanQAFDtq/2AE/GRCRYLoXu3IBbQwuAsSGsU0he2aCYCqq+Nmjk243AaOx7B+w9wqAvLom6JpIPz2hD4wK8zrof+Sq6F5MlOyg+gBs29vWFumLzDzl0WIOnq83ZG7E1A5hZ+t4PzI10Es8v0km6vyVx1ef/cdLTqcORri9Ov3PusE3MsEH+MxdJH9AXP6kXE5mhVAsdZRgz82F/PaT23RXYeMFOqy9r8/Mm3sG6bTjUV7xCwLeSATM3DIWn5LAo0J7gQB9ABEIAAoQ6AAbSJLCj/A5v0EzZzOzIKLZ10BoywtMhFV3bXCzsASTQYpowNjTblDY/ixiodnVCn4ZXC/MnUV9WMnzZiDFXujaR24ZjtQlYMYdJkRssg+TQVNufOP8UAeR7wLBeYa9bR2qt85UqMqPaU94477ZLfBfEyWDfg1I1Wdo7TTPu9dxCMIsrwGqvkLmhHPRUENdr2j/3tibhgXMqmHKI+1NbjTy/FOx7xyEKrJuQgUqnLI5RaYNMoAzzLO+/ws+YswKL5j+aElKmUkOQzPIhbEtWWo9MPNrUWn555rLKfIe20Tl7cEQpuNUxN2LB3StOolFtoez6drxyrFIZRnTwr6dXmsAHNvrTZeIJqpEmlwdag/syU4RZlhV3Fac5KHXKFiE25Wb8P2zJiTGGHpSzigNVEqU9gWHwWF/fRLZ8DT+LqON2uzCrRSoBMxnGMXSnnFy61rk7080WAF1wPnde5mtgAQstqitU1byYkxOk5KiJjWQsKobv9V4WMnx+tb2lid3fR9Yn4CUcTT2wEEd+NSpKHSBGIIx4/+MgMQ2NQ0edy2G77LqajFeBPnWdf5tx3q25/aez8OA6lYBhznHpoB+BBMUsviI/aDXgYGDkjXXHnH3yn+EkuYlLEzA3v6c4ywd5s8aHk7gIvOZfmpw2aC2hgRQgX56HeJ5T0NaDYGjffZa+q+kwHARYTtUPYNsbXJK1WiydLMQbbLbZaUU19yC2jLgV9qMfUKXcO6zNJyHM74jhMSXXwRkjEjNie9aLgrCBOxZtj81DpGrGtI/IEFPsdZCWN1cO3gjraL4Z3DFJIUpZzCnvESkDFYUo1+W8yMAkACjQrSBALwA8QYAChEAABr1pjJeH7P/mjDt7aKBQWE/sAPe+tal1E6vZgtAIGEHaLuKirsdhXPdylvo6BZbcXLJgNTLB/oq7+1x284FnaV0rWcTkwnwGcPop54UPQvMnBQ1SKueCYIOp9/FqOfJXs8ACujpZtXi1FCf95yobQSc9/A2FE9UTxdE0YeCZZNP9TYTF1VJurjyM6bTDunbQr2NnuGsP6ik7j6ExyKhZkydTb8ds5qA5u+RQOREB92PGFYuO9bIMKO8QHxiOUXimZtS5xn5EF5N3NVyBEvOYbU3EXycRfew1nxokIMtnbxJ+uT6CZXEWn74fjFZGQWRkrmel8ghnl/m4NiA6UzZ84W+l67ScYsjWSttemFM+oShINQUVO5yIwtNg+zerolmU42u7GvF4yMOWn7GVaS8XqGB6TYZ+xf1eRjktrosiGmz3WOOZcl8ZxPeErGC7jlQq175NNKaS4Id66U+yEKNjo/fEv3bc1AH8FjS4ppC0Br7CEFMlUPV78Rh7s8HuRygjbRCTCz78cv72BmwadVQdKKkXFUUVrC+CkSrK58g4reSFONTbS2mJW6jQuIPKZ2RQqsa4W78N2jUUlaU0TXKj4KBClx10ujiMNQpgkbb+7woIwxC3bILWQWggFwafI3g4en+23g/lt0Vhkh//JKjeWTTb83iSyAb4HMWyrHxw8akeksntPJQjr/3jBR2MDqJ22HCNfZoLFg+AQ7+rPwgKGimqvnyT5FwCRu/J922hpbIeneT2lLx772klmxSIzGxiG80qZd6brYv4AKds0i7I9KJGi+9jvUoRs7VV0jpibfY6cQ+xhSA654kV+tDbe6Ignj/AAFs2gXbfb4DFSj3gJcejDknnAz9aR9fRpqm7kTuN6V2BbQ54pkO1ygSCQrA4iidL4ZECgSkAKNC1YEA+gDxBgAMEPQAGAAwKC/0AI1MEvACfByompxJqr5JHV13BxDEjTWT8zpzOurCNOSCdw6JMfAXSHfiIdoA0rZKreWC+5wzBn1m4dsYrPUhIHJaO14jWag/Jhg4wD9fjo7ixuHRnVgsikIwn6xS7bk8MgbMpKMEKcGGVoKP4jFeWV7d5XEODoE19/p3y7lKpj+1pitr0bSSvrmCu3OePAkTk0BMhQNYg7gBE7lCYMThgxKfaJziq0YSCP4v9e+1Bs37q8cDWpLzji0ugf6nsDLmHlk2mxK8Omxcm/4/2zz55k1I5FWh95UVEabGNeNlJ2UA63ppX7g6jG5M3/3wtNfTdVODZlZbMvLYQoYG1e3NMB+5KgDkI2Ra72kHK+gsFZyRlcRQOMkzwROoMZ8ykdlY1oZVeyKB/8TiY0UjXqBxZLV8+0IY8u6H8orNJsCM1QiqMOzkBjNIisEBPBpVO+uXCnVwYrpNMY3bUZYWEEG0DXxbawYUeRuS2wxq2N7T8Np/SH/alEY0kyv5sNGuFLf+UrryquPp7RPEMIUOYC4FVjid//QkzJ2KfJSlIC6tWSgWbEvw02fgm9WxNRCm7vUA5nMRNuaaA/hgAzFs86eS1BXqYYX+zLZpQwR0NeNDUfYxQzbNu4Q8n7V8gdj3qx6sLdZXeXIr3l1NbZ4U8O5m6VE77GV41Lq0H7H9dd1EXCLQzaU+oNXCrF0JI7fZ4kg+DOi700UHQDYDJGbByFaSHASYtJejjksoIP98UEBpjaIPDQOa5WGrvLmu3QxdC5dmnS4FKMrQ40JVxI4fg1UXLYq4VNCQoz4bSEkAv67kYBH0lsTpKOmvosTAw5kNjyZEevMSeGa4hfKwqaJFfRAr281mk8rVf9sk3JEGwa2rFwvvYQeK4LBuAVP9rIKMb75A6ItnUZNwVJ/Jz6fjUuBVXvHWIewQwuPpe32Aq86RgXSV4IAAo0F5gQE5AJEGABgRHAAecwk7AXQgDLm5fNApoY9oZH6u/v3Sia0+aQqFUMBHnlug82KlFPgOitwH3hfVEAD60eaBVEl2m7+0pTCtg4OxLW4xevTnjeJzMses6vZKf9/oA+muETA02D1SNtC3CuEL6558fcflGkOtKpKmrxIZuNnnstBsah0bsHr797jWWzUCchCZB3E6UUoZSkjLVUwRJE3boLN+PLuQYxOFjmYxBvi2Zl3+GrechEoCCOnxGETns+BOzKv5uHjKnLpbq1YwUB+hSDasUZgGc+/Egmb1hUrMvhyJblNHxI1N8arcQxfzc2zr/mJmqXdz9CU8oTcHvfK2x2LHx8udpxWbk9exu9jsaG1MuPjW/XQSRK8uaAyJCSHl7FXDiD+MMfLuEvnqbEjHKeS9PmomIzzU8EgCYCxR6M8uZXbes4rdH3U8y7OrjDQlOrOcfawOcda/XUQbXvp9aBP1wKfAcSpRCqaxCmlnvBLWz/Dy7ynOEoCjQ4eBAXcAsQgABxD8AB2yda4CHK3JHQ2IDbf+t/rcHfF3+ICSpAOyXFe2DRrkA5mAUaFFgxrebFUl21QBT0bEAzCQcTrWX+2Qcaou+rwA1R4gcjHGqhEIKv4bKV2P4BAn/mB+GEakHUfSf9V6fNoxZ37YqX4TiNU+nB9BaS+sd1Quq4I5j7C5+WuFSxatbTh3z2xWix2V18s4Dn7g2BWwzV8vBpCoFHhS6TJ8ELDpVwzlN5WWJs4rrNEJg33/uLZQLRyS6WKtNRnuW6TZfFXjyJYf6ZEa58P8KkAeAVjdvUvbap5RQ+WGUtZg8Zm2VQXk6UunhXn4TINMWQt2521WKba5wo+QoNx5IpKts+QgmcEt5gly+YpgFNTtzPljxGlvsf75U9p2aRZBxHu3bYzmeRnE4FNhdKxej8eql/o11WUprk6igXDLrqMOd1vLM6JWLFYQ2qavPRzpO1fvqMaST2490sNt7uD+pGL9QT7euxKtnCDczyM37hVcT6Aiqx3f8Q0PjHGir+SPPJbqThLOSQ138kGSD9sWLvOufzgSd+JFeBDrz4zP+AQEhHxX6jRn0NVRVyg6LPclM8w81dblA6ahQZuo1tY2TDbQ8joreswzwydX7BsgY6Fs2ktFilcJnxOppKyr2GBfawoUOEpRZG4Uu64A6KyxTdWEGXt5ge03UQGwKfYAoZo5+U5gAbpRakr91hybLl77Ru4e/ThtSqEOmS29KVHR0qyTaQWc454EoNksiHBJs2wVvFHT++euWH5niPPeWdQkSzBLZQM2nrEGHvx3sw1EP+PmbVsfGnesBZUBEYeJ4KW0gaCsGOxJEfkAFjbQUYvNSE3PeBvZsafm0sKdBajDBRklfIjBeOfLl0L1gJqFbG0JlmroRm13EhAxuivTuU1MzZRUAzIZ7rZODxG1h/HjKzAscBFCb2TD9JewkG6sb2LN2ySulL4tmPWWDfdcN+Hdpu0OVsvPHpo+SX87Yk182Y+AjVerGMcxLUXxmksVLliUDIq1/TDSqsvQziB09YpzessCsfKtFsNEfINBN73LnjS4MpLcQaElvIi04E7IvPNHspsT8gsa9e2Ncbn1BxoojdkPOuvPM5WIhUDuYrSESGi28r6/uhUSd3csk9A66OEJ+M7WPk38A/IwFy3OuDuUC8OuC/Gmbrg/87uRRdl2zVIcG5EPaLMvOjDwlkY5TACjQ6OBAbYAsQkABxDoFGgaFPBBbrn8nbXcO+Uwpp7/ZpP//04kXkPvASJ+XYG0NDwf3C1N97/MNPYtalGKRvEtw9UasceTW0vTOSug9Ru+Lm9ZkbkLQhDTHUrxL7w6MbwM8Ury6ptKDK4T40pIfzfTmfmWLsmWmEunUhhQ+muxMa7CS+ecmR96VZqVxmpTujfeflCDxmPUn6UrKC5k2adVWsQxWGnjmYTGBKvDO65Y81/coZutWen6SGdXUbFc3lcuc/A+P8E2qY6V39zpNu/+6x8P9We2KGv8YKOtZg4R7puSUojiuZwpMXxNfYsMNT0CWXh8qPjsrLU2TH0Dw6ovORiXRZTFNPAcEJazL8m3ETt/aZIFSFLMf+Y7bqvJBCR1vtvM9jJ5JezoAOBPwZfJ5t5pF0RY6iKWLepo6z9tfnaQT45fzQ7JG9eBSEdaDA3QtOohJsaj/W6ihpNxM6SfV3ggWAFBqt9gnjbbEB8nNccMnn5dILnLiIHfKbGiym+YAAAWpAWW7UUGAg5bHVR2ErAgcbsg6BUhNGqJsmH1EhwOgnV6Z0jLMwwOcPDma1BiA0HPmkH6HujI7QFTZaGcHdvO3C3mUPrb7vOcGfQ9UiGYTKLOGHJ7HChfDd4IsEev0Fkn6RyOwwnSiIi8fM1S/g5byatmHszK6lmIk9fLH+qVjTKRNB+Fji4xMYapbYa/kcfltXBDFBrmcwjMBEP9doXW3yQ1JAN1ihMzpC6Nzek+aourP/dAhYZzCUxnbd4L+9/12py3nP6RsAJQJH7GSm2w/EloJTNzGP8UWrcSxe8Vf5w/fHbgaMTAXh0RvNSdBU0+QkBywNZj61lxZZoxo+A6tlL2/UU2n+Qh5DIp8DOVWBWBYL3hb4j/z2b3fbIdG56jlBslDg1xKbtLTouqrGKwHTOnPwFkty6M2hfhpiyJIGYD3Ox8ZtZrrCIoa1kmxFltl4Ib3I01f7kf1JFaZ1UkJLsxaftUClWFyRQRRg7uf8y2UVafn5N3aG88H/0dP6K8EuD5SrFdwFVPyxk7ZByOMmZpgpVDkc4LRSgJStOXutcsrwpD5cFKoqlFxYoXkX34KgWIJtnPJfrKZPb2EjtrGME0CVYjzx0QyRhC5SP4YdZuN1B32MTTt8cxcfktu22Peghv3xmYM0vxd6gdEYajA6RsJc6jQYJDSA+zQA1tTc2RxuJhVKXF61Yx6Il5dqFegvsgFUoHhaLuSDSdV1XKrDgAo0Q5gQH0APEGAAcQ5AAb7mCoLZWA37UAOqM08WC/hQmfFPzPa+l8IxTXddnN7gMrWs5mMC2sVkkWX0XVufc6yQDi5VDhFdi1bZYfXqDDwwRkTWM18spJqktBO9PML+nVmiZhrI95haqubad+YkRYV6t2d3J5lhJvgv14+QYlJ8G/lB4BxP0shti6y0FiKVzwR24gpB7ta7/qKsytH5DNdYr3aPdipuY5yBPGbRU9CUq9nnjIVd+uz5V/uEQQOvqflH0E+zMdkd43Z7hRiUbnvw7xtXGLOMiN1Cbelfj4mF8vERmY48Hfq31sL9XY+AQ0J28/UOjGScyKghQoaMlOieDN9JZH8Fb8JV2mMrWDvHcN1gtrO/6rGI+CA8G7nhiBz+OH1xavyKISy7X0rHefDgNImpudI2fzzrpvPdMAG0abBoaFQV7wDkYg7Azl7W+ZzW3BujuQJimJvPnLuJJXSlMz/5T50EW/JXUUNnHnJ1v7skbA7hFrfy5OjZnliDKAEehKJdnKYDjdMId+eWw7DA7sKNjibjqL0LIBEgqcUWeuJWfQf+XOcajA+LxlWyS2ljr2O60YVpeYMhGSAZonXFssL519J3zSB9NYlws6IPXsuUIDk5YAW9vvadVZXnL1OoHe9G36UR225GSdUsXe41774SQdhxVYGFQez/Cl1QgYkbpq0W33fU6oVFrJgVHwQOF9G3tDQuSRZZRS26UbAr+7ObJBcF+OOjB2lBcS6/bu3j1n+vhg7r998fL7mN/OEaXgahtrim6s0lAo76DYDVMgFyCjseQxCOUId/5jz7KjbtkKSDlb7eXEUaTNAjgVE9WR5XDW7Xolic7/XoqA7F5YAi/BVp6lRgztI9+sZ8Ril0T1vCD9KOkeBQB3TOjAYZ+bmQ6l1ZpvEBzgs9DtH+yepUL4WjhydUC0VQQzQUesL04fDVTkaDtHTod/+Kjo+sUW+/k0PRpbq0Yu3duFRabUh1LxjjpKOM1V9g3xrdMRaFSVktIgcxaX/ddrA3n3LueIf9Lt7J0uyO98tLUy4cOnmrKCrivycTS/c1OGkF8KtOUMhjnhbj77E86Tk7x+sF/Ov5Vs6MiuHOjsHrptmIUH8dgXYJmb7uYCXE69WINK5eUDMHrd3h1N8nwzjKpvBURHd+dN4D70O+EtdabkqQK+zxkPvMaebqvH/jVG3p36iM4j3V6I4HYGElI4+MHWJGjrmRdVbi/SZ3cUTR7WVHtbWCAMvOnS2W+rB8iy/+Dj7VsPKYjVg1f0i5vxov93i7gCeyHSD23NBNf3x5pYLHDH1TrDwgAEBHDHmpH0GGd+oqowOsHnL5KBLotPaVtvSrpRgYinFMPhePgWO5Sg/5MIITUbTpEEBe3JARXdbIJlreCeXgt6mI/mSW9zLiv/gTui4QlzdqJk3N+yyJCRpRNr+n1xQbpRhDNMAKNEdIECMwAxBgAIENQAGvVkAmbOZ2YHFiTU/3DvVu4GYuMaG4mRKaNnBYND1EuRqsEyvGWQ7MuUHT7M82AxRMvvWNmwRh/LYjnqnXE13EUwBXhIkIX1iwVbvuQQMU0Zuor7xmRmD28gUylKE/FrBW7GPXYjc4446V2JJPSCAXiphJBmnABvVR8j+LMHTi3HuLGXWsKjuERRCiCyGYMhpsiGJTlAusqaIL03qxIUzXM9QJ8aZgUi5YEmwCn+wPmJ498hdlmtzwq4O5LRmh8xHJR4UQ7kT6x8XlFqlIMz1NvoNwZ/pKqc88wVg+BRNX/H1q4L4tEQH4KhsmKyK3j/+rnoIDndjj0fJn5C4aa4mw22WsZayZkRv/cziDRaPojmPn2bzgp/KdYUWK3Zoonu1RYa1zclxah4GUb0vzy/nZ97aZiEltPav6F8CM22NnIhzYY3sx4vJgyM62iMWV9oV8Y2B7IXnwVgaZTpJYoOOzZyna9Pl8VXLu0aJK5NoP8CkUf5UtyvpSO/6ZmNPP9wq3GkVDV0UNts1CiIfykcQgB8G60StelDRwlt0uyGcJJDURuaNRG7yOyxmcFceipmlJ/Cdd2128XW0hYwmd4vHIYcsMfqwLVyOOxnBwTARx8bHH1pHLztDZxCmFOfSVO5o7hlpZ0Qy8ZQtMXuJKEqsjjdrYnoWBUkUEig1eG36NUm+OZ45Rxo50zkMDUhWrRFr/gQkvaSvAzuBOYSphzSl92/pmEKpwKYTqOARf+LIx2o5g3XPprPa2KPED8hklZ2qIuQHj/M7d5H/RfiIBBndN+CvexOfuuMFQng3urrZZ5YzclQCzCnoRyq1HmQvM6gq7WL+UOPC0GZhkjgd5c7IHYTHcnlCem43GpqBjqYajVArh5VkCd6vGuSEozcRLF9KqXaIfw1nCZ2wLljtzZEJpJwfC0G2aygOIDRZYXoTtKvC/2As/FIiRlpNKFiUraY3R7CvJfz7074kpHI6U7djjYXZB1Yx1oGAHf3yLUOw29nAlpivoyGBLLXa/V0KhcrbcRuyv7/PKVuAjxVZhxW5lP/rt3ORNbsOShhn7hsWFPUQ9OlROHbTavEc6Es0pfXi7T+pf+FXnOAopPrWwTSDGU9PjtcNM1Zg2jtVCRYND+EBZ0xJQ3FtIOybiGkgluZU/q6+VjTNNntS1YkfC01O9P0Ypm3tDhOCPAhhM0VfsWzFb5BFd0M+TwDyu40OWBQUHWCJ4ZjPU9WCZYXeCw5Xn/4NtKeiHj/CurkZ+aNRhPed+sZiHKpyG/P+wzZbwMtHExAvKtcX7Tnztne/DxWUik7yGFve/KODU6AWaWKCvVpXtpAwi1hgqq1LqnvjFZwZ0yjmE1mENEV4aKNzNlwXinPZHzuB84PAPusyGiO31XZH93eHEey+XfqacDZoxK417tYs6indDo9WhdzYtayG+DskQhSboU90sgPNFaB/TQaQuzqMkehvN8735/ds+mIDjPAm/wkCdeQYqaMx2Dkyc6/UkkV8fiAAKNG/YECcQBRCAAGEMAAHO1/gX7+H//66RQCVmzvyqO9sXr1IOIwKCwn9gB7wAbNXJ1C3oimI7dsUF60Y4aicMgM/6P4B83Nceq+p8jsRX0J51tsmgYerLUhC6Wj1Y+vpcoYxC7ACVfVTlQpnQcM6S7dCIhWbfLgFx0p80W/YWz/Eg0i0wwPVYTYhFGJK26A4A0IZ98Nk3jPgv2EiEyL1cZoIlf8xKszhhszrtmt6W42EZxZ7Gyd/TazZ1paJwBx+3om7JnJGB0xwsOTPsmclxlep8XSr//mgXePA5say4oGYmAHDY52cCUsR5j9e0Gg4dl4eGxvOk5/UmAgppksoZfpbEZnh1WlG7i0Z+J/DhgLDsV55KbCgrmfC92M/gdKfT23WN5VFBVw1wNc8mJQjojAUQHmDeC8c8IgRWNUSYbP9++OJu8SzuDMa3qpMebfLBpA5Gsg/W7MqrUEus4DOGT9+s4trhteovPlMbYBC/OAXMalgDGVay8/8vyOCQwxbPs8NowDjkdgX2lobJi2+Eqw1dcamZqsSX6Z+BBHefRB3wj4HDwPm8QQ5y+LKicpPq4yqVVXR5ae+fEs3OWyRSE1ysZyXFNkB+gAFgFEhdn3uVhuyTu7TZWPOmjIyPnFnHCnFZd+s7UOviChlBFj0k9kiEy+se76AG+gYWxhN/IBBZ/WV7/yE3/HqOz0XcCZq5Ds2QQ0I4BoptEED1xK+HoWDn+3v+m1b99Mw9+9xKD0bUFVE2+8pkiBtmlY2GPpN3XtdmUCEqoxapURallC6chNQLArKuxaLrQk4nc8D3f5ia9QB5LKFL3z741FVTnTnVeKmazrOvrhaiO3a6wHuYGjz7z5bPbbxB1aO23/iU2LDCnoyqAj0ja5kTN4CLwhipbhaQKTJGwyQAaP4Qp7ztBIg+ihk28tGt5QQHDSfxkMo8OpJzXmwIJ3F4aHMGdAv2d85MXJK37KCYqg3+zHMmFT3olcBccgDuweeOeOVbsFnHevrYvchVI0WmobBA3BJxJE+Z+YVQ4olv59KlciQc6Bm2w5BId0+NUfN8vLez22x55m3qbjmc09+i7jf/hLjq/6CInCb7y4kb5jOe6r1jpUtUOcRozi+VtN1ihr4OvT31IszV0E1M684FnnStltgIP3GhlCNs6ybA1HDm3bC/lHEEg8VaPko6P5uMnGfkljFxJknNF5r/KyFI/KCWJWHsjAfHg5MAkLFuLYZ8Bxuo4UdON1LbeT11VJ0PBebYDx/nrRPkRxIDyyWNP17YRHl+Xr7qIh1HQD4RGenQxJVx3E+vdPSJjOcEFBgXHpKwOir3ccVK3QxpIMmUhDfVLfpwk4e+tu4Ai2/VhDT2T9294/fOxwUjppYZL5Sfp/b/+NJpNQUKLDNJSFn68JfcWuygbC7Vpndg6sd6THmhzM4v2I3gu1usz2LS4Gd3feg/yehXUx3iEyq/yRkLFWfNJhKF7NpboEsu2myk0T1YR/WHCwtOPp5wcrRw1laxxcIppMq1ui+MtBQTAbxTvgoB7fZGR14oCn0ZwTCZRf4AnE6Da1BQYyAyWpJCh7TIk+n2s4OGbKHI9gGqBsDUN5zX1q6Vvarq4I6UmUXqGMKUecj819P8+ZqbwxSgT/1QUrAT7WUHmsyQYFL3IGb+FyS7D4+LceSwkK0A96xR1t3EeykJjTha+ToFF6s3B949FSyRo5J3HCMxWGxaw+W7kzPRAhuUfMXcYzkujmB+gd6KETobQGIMh1kVinrItfMS4HOiB7On9gSizlF5DcMSWvuwQiJL4dqLXG8kx3oqxF2XogAIixHIpd7ZNFkgwYNsavafPdyCQhHN5NsdxYElCwL/jw2tnlnrqGfIttwnhALlNgUwoqZx3nGrBBly8Ttwxmkv0W7jaER2kgCIeUuvhLrPAFYl36bmtDsxdcsHFm6DSyP9h5HAAzqilkuzmThwBvG7K/1JU15RrS3FtLyHN79DaPBcxMFmlZmW6NELxroMMfOFZ1pQ/4lISnzCgI1TNNjm05bDvRwzyCc4QlN6xq8+PRYogIO0F69GYr8D+6BNgRtB9oOjKsewnp9PfGnLvEyxxTgxMW/TQ8NcbNgXRjchX1G3DOhugF/21xJ2Pgn8HH2aVtjeOpbXi+CUwZdSssKGVuiJ1o41afaxNRYKzQR8qXMabs068h3RgVezAuMr2SALeMAcIglrsnjoVA9pCAoyuTNTmY0AHwhdigTpWyMl0+CNWIcMvQUytetwttwbfx2Uq6NNnaJBusSFkmHWuncYm8Bu4dRALRrkrwlnZPTwefrARyNuyJhWwUYFkka3eXRorHVFzzXUVQ9uXVF0il4si+1CPg+zDN8UasYdIg6bKAAifE9QniKCTNmP+pcUjvsgCjQ++BArAA8QYABhDAAB20oUv3YnlT42VfXSBBQWE/sCL/LA/QfGv+qBCQriOPPR1mduKPYXOV6kosrXE/fXnaAM3op+c8Dr+EE4pJNYk/edqUG9qCR6yOE6DVkYWbUTGJ1n91M5BA/ICfDJkT9eBypVmnEr/D87vvBSBjQW/uNM7JHWaBROaEWN7MPcz3J1BHjnyb8bpSMRf7l5xV5idRStttkVJ9pwD1Ogg5z/1PCMbZLPzNGfmPDrV74Jr/Lg/uIfZ6LFoN0eK7YEC1RtQ/cVPLnOTt4zbNwVxRk0STVrO6Jeb0Kb/qx4lpnZKtyK6oS17eQaB5K7uWHYtHWcO2YWGfPPx9OHAsjim6SM4EN892hpnaOT29TU6kwWTcFxB0YJJ83yhNmI83EyxSmuMiUsDDgX/fxDsK25vsglPnG+LAZlQxF78/F+JqExKvg566MpzoHUUsFS+HmdThZlBLsdzWguD1kC16ubw90jGrO7EHWw7jGR1z82DZsXqO9eScR9rp4XlZuWtszcXjDv+Q2GJj3eWk17dfwtyu4RCce+7a0bukovZPY9dGVMx0bVcWL7ADUWHS0CbMYXEADIAYVWKIUmaKdOCCHFr6/6B5FMTTwp346JQ7XQ0FJJ6thKZhDV6hw+HRcYXNFYUli0DtHu3XqazCfJCF4QRJSn81jhpj0thUZHoJqlJ+alEOxrW76tYaMU6nlHCJ4jJNIrcQLgIaw5e/xQls63/6fXY1a2irLbhbJRmJsiziH1XHUBO/OhObVuJATV3JznCvdgn5rEc/UtYRqVb++9seTZEUWgHLn2bJRn+t5mxcm9nYJBwp2zfWyECkul4f5zz/TAPe4P6NigWtJheE5mdgl4n3K0kO7EYfBeHF6SsjfuXU8cC8bTdb+uSosUlmjY45YJ/wB6DTcSLMuiZ0VRPinpJ62vi+9Lw5aZsM/ENoZLC/Ofi2INGiIsHYH9LlegBVuI7wu1i6mCFM0eSob6ZgevjNyOusm/AFflW9XIrbOVh019xMLUbGDxDt5fWIO0QOdWBXnSCA+KH5xmX16BEXHqg/g3cxX4Sh/peuDwHUGsREV6FwocPTrWvkyAAVyKioJKigrkhH1AMZ+rANND6YH+k/m7lyA8Pv4U/Oj/vuDy5R2MFwDMkkd6CDVQPDAWdvy3/Y6aAx/M8yH6JWNxpq85Kk7pJ4YL7/ks6gAngFSLtaGe+yZyG4Pp/1NJv/50z5G6E9nBKg1ApBjHOTc4ab8zdvLD4uxZFA1vWTx3bqqn+CixTDZY6iLIeUbVbrL5DajMvV7J2urgS+7MI0h2l8kZbVaH20rVqYZb0EmvfZPgJIxQcAAKNH7IEC7gARBwAFEKwAG8caT7NxmkLarDEbwKCwn9gRWhB4bjSh/PfR/xq3J6fcvOX89Vi6Zryp/a6M1S8WVCJeAN5hmrDmUUI5UUZGmhgTIf8cbPzfs7PFIMsuFFojBp7ieHhrypKCbqU05BUjfSqHrbyXDmL5nhEBNY7Dr4bF5tLbIdSB8PkE3mVTQoOZrVyBzThzxIAqN5r/l2G/um7hH0J0AM5ekR6bzWjMaOfUXkuxJdGVgOE/j9sHu5yaEkYn+t7hpB521S2f52UjTo6c2RAl8uwDXvItwtO4H7KvXVmmPzwJLmJ3Br+T0beyMvrOGJNprlJ84CDByXyOO/APjy+0BCOP617gdJty46oFMOcaGREA3UgXBdMpq5cv4UWZzA4RW+orjUVG6xW4oE4B7rqFFGaMInw1lVZuKduKGU5eAmFxCzz/RxQMu17n8lZFApd6+dfStfdg+EcbV5evUWZUSNIBwv/UkiUw9D3M9T2Kv4wF2ja438T4cgS1HIuzAw3UxFXR4FiDb7FSNwwmlIpdPiYpFQ1wQu63UbdZCp6qKVqjs42EUz3l4fHILUaftpvt1ZSuMaexCbjf01ylrQafoIhgMbQEvHx5IlgjexEuvNZv1HNqnlTD+FdVwTkDAhNmfbyAqWGiL50FJNL6EpBS0pXhYI7b7UJKBJb2BaiJntx0Tg2JDrKhF8YdYc9ajJU+KPeHcHB2LGRWV0Y8kQc3Xz+3ax14Bp/t6cKhPyR0AVA702fa9zaK8oDFv4ock8Ha+0nJh0tnnbS7X3ueMkIR3u6yvd95BNleGly4ohDYBq0ii9nXZ4ruGUFpnrPTtUIwTecE0KSmYNL0JqDX6gfK8wD8A7vWRKasZvkJsDUiQkvyesL0fv1owjE3uJdvONpczH78/fSBJm+Y2XrYQkoBpqHgfd/1cUz0va4brGyqvsChfEe0CIc8aNUpnJRBLJ1xUVSBZYolcM4AOrj9xHxugLtklWQfx+zE6w68KN+wG/hWdKVUt4a8AJimq+V9M04zgqlIsAYpiudmensCoFZLYChWXR+cIlmJUJ07baJitvnk5/Gn5Jo62o2sWGMnC8f8+yaVQcKZnmWIpeDG3H/R6gMMrv9RMv0DP5Vg4DvZUQFd5fbhJKRHLff6WaUrvCM9j0YSyhI8invf7MdvjPxoYk5nVHsW6PIo82SBMxAT4HppwxDESww0NugEBaRHo3dqAUbwqdgTCxUIp7UYMtEUhmGjYfoj89F3LYpmqB6vatTH+K1qmX+VQhmCyNkRJkZub7zRQGAq2KGQ9AHrA3LSPB/9/AhvHeCf+YXKQoafR5NzJc7FKMuXOBk/CVAfvcus1IoLRQQHiu+rGWlOo8uQPhIOnA7lHaHXjoBn8HpVvvh/PmyPZnEoc6v2tkZXFQBr269uo7XVPYu4Jo4UHjjOnR1Gjsx+AZLN6sw9yXvZMxRdFimY3YGb6Xx2cgsmp1hiS/ocm+23yD4ltZpMZGXdYpBBoUehF87Rr7OwGSCPg+ZITKWHnIRQFWrP3eLSrOQ4f99rdfpJYw/6S9ZDm8+WP7G45b9AvTk/t3qH9O5uutFED+2KAiTfdjElyiFBm/wBaBzWf6yDFuXGPkUiMcVzAZnvN+jpNppD+NmWqWpqQdyt3jnulTSni7OQ9+RsrEY+H6+91aP1WwvjNH2z3GF7G3j/ey+sqztU6++FdmRKIboR0iapn8MLvMzGifMtI7PRpoFVaTj8l3Ip7POz2dADnpGM9rvWdsUPjYqu95D7zxcr1l2vFUIHmCPNnAEpEwVi1z167DtrPSQcOYVRCBQ0LHFwmB5Tah5yTVEu19rE62pr+RZyoCqpzP10cNHjMmvl3k+51ftqKvdTHOmWP+cbIvJxBCwzPxZNPBK3bm6MSoKdY+VtWpaUwySbH98lYYrEtH+TonBK2ZC0HvqLOAtf4JLriUNEHJGLUk9uAV09us/cs58bx4rYR5NKQFstedMctMD8XfL+c0UbH0g+ACAD9SnQgXTc54z8rESaSFftJHKHumj43kMtP5qPyaZTAet6HTgIYnUmr3mXGfyqLRNgVhEvR83eDX0CYd5xwksM3jAz2TUZcRLO11AUCWxaWgnk3Jc427gD5clIyTepy70WTW7ThT/49WvPBicWYhJCXd+Ba1jn5xCq4T0OfR4mQa2EE3FEi+dqAULnx6/HxBmXz1T/ockcc65BfNvSUOIT+DILRNRU+GZfTgb336IXAJqyxEifw5jVmtYOfIh0wAQK3wE9DWe9Dg48Hx6EbVso1axAVvmnaDnDrAUXxrD/3RR9AXMDlL/wZDIG1n+tlLkhgQCFO7/T80Rc0HP7U0Dhx+P/GH8JV97OIgeLF8KLIiygQTb2HMjBRcb07Wf0tPRSM6svEevXoYKODjH18tYYhKjDrC5DXO5PakWbd0+LCxM2Ua6YGkXrp8sci3lTE0uSLaHIR3JhrBzwnJxGzFinCMtNdtcLHF6+KX27scxKUVORVoZZdcfNUnGGZV7iZ7BVkP6ZW0ribN/Ixy0LFRcl3hSIeXY1PL3b2ShBi+e6WjN0JN++r0JE6Zt5J44PENirGKrpfzn5UKNmgFcEZHz0SOGvxYJITw+DYYq9sjjrgErZSCIvBtkppQPpozKjSQVomJ52HbJtPO6W83ELJsjaUvlqBLL3iAVdYXqYYoXvbN5ic8/0evqgifszAKNDvYEDLQDxBgAFELAAG/2rjkSy38b9iS2LG2UHpDeeGNSy8XOUH/G/2cvvu6bGXgnwVQQ5cak1d/bPRXQnzq4A/gmcU+0s4C25gBxGFLtg/7S3PdVe72rjFBgJgzb4KvSOoYD5rqUpF0rTyogsoA5zyPS+zRF8XC2G8cytkKmHGtHwVUFiThtQeGrDJdnb2cwbDFhmLRVIi8DUMye8zPLFx2leC64VHO4opvoo3jfe1vW6/ihlp0N5ffzn0BWaHv188LBZ595nvdH7mLGf7CijsV9aMgHLPUpyTXmwnSg/Ft43bdZCrTXATmPd6jsqY1A+pSnWboq1UMxvG2qeuWKGoL93KFbE/wM7HLkHkGJfxcruQ3wtNO0jznwtl6YVD0uYffKbQ7HjF2gKZgYJ4+xuHlK6LGz/O7W1XDKEAzGcQdo4Q8fq/fF7n/Lx7ltXc1U6dXa9S033ayLBxPAzOPX2RPMLNYB65Iauyu+OgrlTSTXXBYehcnHQkmn/y8qyqXhiM/RAnaIfHFNribZalJzeeJVsxuKEYTRigJhLihrpOx5zzVjx9R5Ly+74Wtk85lkTCPfr4JqVw3HOYw2dNOD4wPQ8xAvL6eCf2B5nVHk3cKGTgQAoKokt8Mw3X3e2iHpwNYQk4KWNrbAY7rd38fcycPM+CGxBKG7cLIivNFf+Rx5Z6zAs34jXujLMhkp/ifX9SEjWBozxK8jxcpGsxrQBzR9rWVneIYSZMA7Mrjhzn9vflTu6/ahBi0/WkDy0E2q98XoBi0ycbQcWXs7HjC/bvlzOVNLp8ENhaJKYiKkc5vyuwabnVfSJi24KaTrgx4GZ0ZEhI7XWbtnIX3x+Cy/fycmPIyRRQ/ACktVp367XkshSrsvZQSviFz8PUGbEGve+KTs/VsPmbd5k0mBe8x1BmR9bu3sacW1yFC5TyRJ463YEKUAbZC2x9ZFQLC/nFC/uj8QD3ej2xYg4sYaaIFUWzc4Bc9/65VBlRBDtn+gGWwBYGG3T/WU1pS91hwpLuzJWb2sPULqrhnOhlMZTIzszPMn1OhNg2UBxDP7zGRRrSzxn6xdUmtR2O10lxy77Dyu8bovb3IhaN7EUTuNDTy72X2n1L8wVRPBPJJE2ORYbnEl1SR6GvvtgCJ254p9KJ4dFwkMeOVaF2dzvWIFIHCo6Y3MwFouR0pzQQIUcyM/jzvHiDD5oCmslKk6J6CDRxOyqvzOebPdGRuQCJ8NEWgOPZnalZy5P4AzoHZOrriNQzq7VkkC3Vdkp9di3z+PIAKNEO4EDawCRCwAHEOQUY3sYJvb/zdv/cy//+Z5//5A/5N1///3vN+HHb//+oHJB5QtrHInMfOFZVfsKkfzsEAJh/kByW1ZJhVQuD/eh1FRkZWOqFoBwc82Oyqj8HzoOVe3oBhFOQNVqQSP9ZJcFs2SJyUFEmxE3JRMp2GdlB9aJTsAfR1j9Ti+Ze1j9z2nKLqL8z2C9Vatti7q70gGb/Ik+EnMRflkzTKHyLp6YsN1XDcuLQXw3F3tPzFP7cRERbxUc/lPbY78D8MjmP8oaZhs7nhFc+zHEFkWDCeGkJ8TpznNysnb/icgB317Na+qgBT9LQeFKUtk8jErKvkhTw93En3CD+V+FGLgrX/HhjLoH8VoPPqswzbmjOsj4JggmCa8a2IZ8YEj96wOUj5M9NRXhkSXpYj88Kn/pb75I1jrwaMkKUQrNlqMgpdxGgS69SOrkSO3+8L5lCn22zINu93ZZRFOBwh4LPVZJ1Hb9uv3vZa4mPypkUiSIK9UuVbeCTH+2FMzR37p+tHeXnzr++p6HZJQkpBulmq+HlWcsQA1aTXQ+vdfAvrRvnpFuSe+zSfKdXcZdWAppnUgfl2jxDdeGRn7yo4U0Qc17RN4d9EGeFW6HUa/OLSOjuH8riFi7K94JRuyZRpUsGxDTV1yPSkiFRGUPqCxzWEMNDyEcvH9U/u+TJqgXvxBqE60wb7SXENVj49qQSr55Rx1uP5dQQynSfUzTd2BtXbyJfXyhVpxS/RGklxk7M7QNHiHUZaIFgsDBFVvmRfqra19XP95IekarQLp6yEHCkCcfW+/+yhbHuR+1WqLFgV7FgI6QddTCaDEm4rguaW1oHLAMH0xeieIfrO70P237YhWIAZ7bcJNwHx9KAxBl8ft8O24R6cCUEJsP2H5pR+NlA4MJBg+9iPN1AwsjdNxMPVeXwDVQEfOY1uAOkTINwbW739dUVCNdLPafdxc2q3dZwIBUVFeamHGkIL/DugOHSKoL5KeFO9FqYVAFGMlnCMdys0IBLzlEqViKMHFfSLnXzecY/SyvXP1OqF9imv4hxRa7flAPyLVTPjCAv99K5JGln3Ri0vl7sEEQzvXwBJfZxvZn+6hzJJx1yU4PmOMeSOyNlngTfvZ8Lu5eUL3LEcJm0IbHEkJxOfr/gA9/QPgXVdtMkMwKlXe8Xu6GQEVPa2Vu28kJBgrjHyvAgLLU4fPN8NXRSrhPyfwsOqpVZHe6MSQDGsiqARzTtRygI+uxWlZQKDYNw31tYTYdrEO1p3JfQKBjOIt2ZV8DBxNOKbDHd46VIsk476eERXpFG/+hQISP76wo/RCK9eVPP0xKD5N+RBGo0q1U7EEwSRlEGnT0DH+42ZRXJUALFbPQb6Nqa+M8hhdUqMA0S5U8fOQ9PO80ysqiZn1HV/SeGeVUhroIWoIjHGblzeMOLunYGEDt/tmr4IbSgKNEfYEDqgDRBwAHEOgAG+YLKYBCf+TN5ObBNQn8znoahu9BGPBWu+NfM3UfLWAkFeNmp8FzlMlDSOUkASkUWhH88DZXO1jQAP4Kh0ltHEkmKq7jpRzzJjMdop5sNUyP8AeHVDUfnsrMUlVsNtOSL9RMoHjmr3r4tbIOB+WIRSYGdujU+jcULxTFpCUqLHYrugyL5PRdvKeR+DLpd6PiIYAOzn1jm7xOfcdp0w1+HRjU54OMniC68z2rX6lQnlRs25NYJfHTW/8ihDLbfc1DC+OF8LbYtPfAmi4lmiDdBPV4bM2MTytM0QQQ8l5HofIjo7voo1l8KpnMjCMRt39PaMABI9LZshPKkYLg6uZQki16RR+/J3IPzwhxul4ktdJR8gGLlXkirKyCC1lNWsUtnqrOB92V86W78GhckaPj8bdsU6x6ZvYDVt91RCl2Um2P9J354JMm1Lr5hOrgE2ESnjeVqNpNyq8OnntbavmWt5gcg5LDVSAJqWqIheEpIdttkz72rHSf/tOfv8qxkIabUC7YpMdHu3ymft4RNmgFMudH/Dco2b7mStulO7giLNaK+SbnaJ8FdOY/mf2XgNyFSe8Gpu+NSmnP9Po4mL0YfckXYE4hdbRUGfMOJpplGXgP44vWjkUJ0+0DqrzSni3bR21Wz1Tc35XCGW6H1oEty35r72NUTxgNOKUt3UPn4h8ZKTsg2Obs6rIvLWM5CCFeZaGlPYgDp9dBAOt2K0Xj31BU+1D4j7aulO/gopCsKffMImc4vDnIIcoVJj8yIsPyIc/EDP/x88rDYmykk0JDoSUcqTebqW4opoi9uFGEOqKbylAyFVMBwZkQL1SQg85d6ufqf/kkqoANrbvkdKfxtohIWMadmRvSLKCdJ4hrvGkwlsSpSq+nOlBxDDBLSHutFBNxCIQoWTXe1NGF97SPKVPSje75/UIHNHEJiqTXzXkpIrRd2fUNqFtXskLLnF918g3XkYu5H3ghrEVYyYzM08oIDHiLYg1P5aa3EhYGgjdnlKAeTto0Kp1RzaaDu7yESH1z48qKD1w1jB1bE7orsCczWyhZaykJ0R1neM8QV9cJmrMWF56ZXuYN4FH7YVM+1/BsnMbdeM3GhBpLr0K8F04+f6a16tRgBa7mZvBgNygEc4dkB+sX2zCcv7k7pCv7RpPsKw2wETw/5xUCsJIFV2JvozLRQ0rT/c4hbUIDy0wyCAWjhcYseAorF1TzgDxI++tU8uG/eGziRvUZcoCyizoeL7gL7/UlBaVXL4tL57sMgHyDijqkHbQbr2YpeKE/R4VOGd2/O69S1qFDWWSfWOXhOmgTz8q1JRuhH3J543b4e8hhqdXHqJb2Als5j+QHXTODUKScnfm6YLcQ0CwIg1vSUUUDt6fUtN1y2KqMwFukc4/36kdN2Zn+00hkHuPQoBzl7kncKKKnt5HtszTZWfUX+uuTGrAdE4cPdHNjiMaQi4KeQSF9DOzlKViP4Gwa+QE6mnsLq70BYJ65SWG3LPw7gzyK5WdZ170YG3A9qr2EQB9DtnUBAAAAAABds+eCB9CjYPKBAACAcFUAnQEqgACAAABHCIWFiIWEiAKCAFGD9I/3nwD/EPjf75/Zv3J/uPw6e4X9x3CfKf0r/d/3f1B/j/2J/N/2L/FfsP7J/7r+1eIfue/ofUF/If5R/oP7N58Hq//G/xn+l7xXJv6l/wf7z7Avrj81/2/928670P/c/2r1B/I/6D/u/7b8AP8h/l3+3/uX75/5P3v/pv/H/wH7/+gb80/rP+1/yPwA/yj+lf83+3/5n95Pov/Wv+r/fP8n+63sI/Kv6d/zv73/o/2++wH+Tf0L/if27/J/t58tf/v9pv6v/+b3Rf11/8H5//+77tEWdNGv4nytpXJjea/OBHhPiCcdDblsDDto4FVLvorunjF6IR2VmDb3yKh/EdIc1gwdvVjdhS8wTYRNF+aMU1WFKf+LudwhVd8TeYSl3fPKljfIzh086NfoxO8Ys6f5T3I52xbSJETVAPByvojMfSCvozRd+WXe073oYsig97Iy5D/KZEP4IDDqiD2M6t8+vPqYLbq4irv5v4ZbUMkAVGU+7zUe0U7BcV/6Fzp0RCVPO9V87ZA5w9Zlwc53VU3LT/CWSeu3n+jx0NQ8jSBOWQOeXmMDB04+xkKiv54k0mkGpwXpqEWIobpCKjz+AuqUeNLlVnnIYi+lusUrdg6E7/eXV7EBRXc3422mJF1dOi8jjLMbmxAq2y26wBhC9Jdo5P7f4HYarIMJzjouczdUzCLSq1hxvArwkN3jefkQxyCiKD203LZxHXOucnIFzvrPx0bIxWrM4uIsYbf7HeUjWaAneSeBcvyQT8dyWvGKKYPxmDT9HVL2nhvVZa9P48uATF2RHYCfSmYN6FoR0NCfukLTbtKB/nFz9sjHnDu41ejd+n9f17ExZb9w/aW+Ryc43Yj1cB2KoQeSxt5U9FeOt+ZTrdrh3OGJPqAA/rHFI1Zui+vKnAz3/FYRli+e2Zc0K34B332DFlqIOjSSpYmH+hOnZGYZKh7TT6HJ7eP3ME3YWGMwsQZXHBcenoKL4mhMEUeVaDRaoG4/dIKR87WzDB2gB3L3jihA9dVGwFt7nQFdH5k9S/Rq5QNTqPDcsIhJfdicqs8Uprnc8xKvPHtBtXtbD+MGwky7Uq4wuImRw/llzSjlvckZAGGB+W2SQQCKmaobs9NWLjacBmEUJZUz7Hhw+M250sZ/bzIsNIzow2NK99Wj7wy2gS771roaq7gNyIwzp/HnI498zvjWYvAtcvnSNRtrieArG/wT6nhNvVVneQUHL5KccWfndKj2pP4GjbG8R4oukkv9ecp8Mc/z7mzBPfs5mfa8UIovEuUtjduW/Q8ftFMixWil9TUpMFTSTSngz+/o42mTZ4rlziCxC5pnlKlg/yu8QLnsExEl8pHYQvjmJH6MqINEE3Lkn0gNAao10C7WUWau27U5FaxZrgJCyZxW0dRj2QBfcyVpXfQdCNWqMsZm5MpOG5Dp/gLJFzswk9JOxP4v/o12iKZv1aYY6gQAc80fOtVCMGEIA9CIvAn4GcB5tgAtU1oHCEjX1Owf6lHhkKzJJw6Cr1eAU9hvRN9q1o5LV1IVkXbaM07j/B8UnjxcShKFDz10SOwS2S+Gfe0jfMxXrblOBSV4VkJfFcpOevTweqtYgORnVBj1pZrc/dmN3fHpH1aGlH7bNkXodBr5Tdm3P/4iUc0p3+3Bb+/ssVh0KsCsl6j1aGIkbW8Mgs8HDnApd+99LxhxxRH+JwLXThVR/wV4jY3sv/1/E0W7iaDu3vfLVhyphY8h4iQ3/aVRoqv0PDZzBCgacware4vr317VWRM9RCFXd+vbfIY873W5TUf19mHDrkB8sL/lTKDZooSqM5NFLcSemrV3OYgia3Tq60nSpOYwVYLrh4rV1FWCDyMzvWzQOFek7rbUwgYBtEYkFg3G9UiIuoUM9MoZ/iibjDevqt3ZyIriWYz9bKRzS0dHoUHpTU5O/0PAr8kY1Fviez6CWx2v3JMWoB9pK0E9iB7lKFsr7s4znO5bV+maNqtNXobZzXiD6KiULay18uij/NPM4Ygd0f5IToVqX8nUYgnUSoMbiNjzUiTZ/3WrVM+uOjFLM3weCySItzq+VZUGY/pyj1EAhvsx9KAmJ+A1DyPetUq2JXKULN+yieGL4QnV/MgpdM+WHMvdFoLtHdJwAMhMsDimlFo0kldzeP9vbY5iiQGLj2rN5PDgf9QpU7j6gLTOxHSVRW0YV5y3c8Ib8PlFkc4C8AMRcRog73Vs2lbWheq8d7VJzTiETDVnjYQo9pxdccobPnQ9FgfEklSZV/Xz6BuXmw8Uu5f8+JROghS9URx43usfrAOo1NoN+0pZ+MJMy1M/WlN44zbJ8CfNqjz8Q/vZ0xSdXZs6QKW0mlQ6I+1LdPXwoc0m7nlMLLHZyOiOicJkkS71vJQJXdjp0z6WRFULHn9CtgEfk12IMDxqUcfa1pW678o2P037xUpdynFe2Wf+dwyTicvWGd0qa9/YHfwvTjEgn0hFefFt4jzzUbEPq6PNXeU/IqokYBZ0VeqUV0nrX1QS7lZ6KpIuu5o33x8i1uCmrYdGBKRvxI4qOMJ/I4IER/VHr9VKECKIRIdBeUq5Fa+7oQdgEdsp5ClAmDQHpz6FDnbukjUrJF5zQkEljXDoQkGtPuz+7qyKS8GBrj0PpatjFpMoldePwjV96TMaX1OMwrn9ESNrhMdqrUC/F+byUsBIzzXyaXxEevsFOJ1hxS0PmagF7M+FQmosX9V8bZgBVO1dcT3Nzv9vMgglincZ6jGk3U9mZIfmdW51H37R82vjK8avqYygBl8jpxDGXdXV6aU/aDkdaEV2bpT6Z2TAyZ6t8NLs7TKN747TFaxEHguUGpum5kKFMyqeTwrybn6Jt6xVyNtO4w9fyLi3k7H6330MhSUXomDwLGIL2DaTJWv5/GlWXJBvPJwC57p+QjDw07oKrlBkV7H2gqoKDDiozTjBcrbxXdu3UJ56A/gbbGmmEnHq+w6r2kTqmLP7m24nmT0s1KmKSLR4jfUgAbazhmCkTfG6tNXf6lSVmsl68ZOTaXIMcJnpRdGgv7y4mf2mpzse0o1tkYYj+F15RDQrCYgPBUuNmh6dJlEbQG+2QPbTTG4TDmJR54Gq/dswQ920agaTCM8KTMia+KTB7BHBm9hTOW8tTgaq9eKTV/7b5AYR1aWK0n/zab3vkOmM9EVn1UNNtdg2+I3PuKPaTpYFQmanyJ7JEfOhVH2CQURLpZQFFCywepgMdy6KqAytPv1AJVsWPmcfQnsBePRXZf+euRKJ6ZBmvAOrxfPke7UW8BMSrcPbjuG8fdIW3/jvi3Y9eJyC7eUsRmc4o7wlXdCtvtHj9DtZZl5nsiIo2cLIKhvxHML1K0JMwm1X8bc8gWW1m65majnNvUbY4wkZJFYb3NUVipuT7AApf1X7qyt7dHZtbu6/DruxkWWxjNPTcZ2/x7a/ni+ifbspSGSf0mLOQMnYyF6MXSVQw+m2A16CNcBo4k8EXYXfhcSQQwO3/DV4UFL1UsVXa/N1jXeVaxH1cxATqpCu1AdACoPF4kxpHzgOtSBbD64aroXEJ4NdrAjlImywfh7aEDJ/0gmcFHqlLbO7V0388s68dwKYVWKx+XRMTYi6a9K6yg96IjE78G1B4PA1z/uu7FBU0v6vkQ51hinOmgSrDKhbR4XwyaKKDO3CQCqtq63c0DLqY5lHtmcw+E+XgqQAtZy4mGpKdHqtsYeANmDlTMsiSTpqDoR1ExnSOS0zXccWqfcOoeL8+1XaWnM/Ia5vfUSx1mLv5jLTBu2/85Iwtg1n7y7K2nfyBVvRvdUeAcSfKBeq6AJ1wN4uOpxu3GM2isvyPE8jSiDJ+LSGyJnt4chKML/h6J1iKvQdk20I12eRttG3ShrnMf+5scqHv1IICGqz3p6sRjM9qXA+tqnjzvEUQ1oL5Lr6ZEDVm78KWdmdMksRyB2TyqpWbVRS5k99OnHP4QZaHDy2hfDXr8nN3WZ5VeqXo1teG3mRwAriDTPrlKjxClG5fwrGDdixadEyUVcu8Bh1wePvzrA02AJCLwhHfMv9QgxTRowRKqqcw1NOVnlf/1xN9R7NyiPDAmwtn0DoBdDek5Td+VTtOptj0MSSnBfRqaUuivpVxFpV2GtRf+aYjIovXRrW4katXloLwp7JMTcoTKiZ9Fa6NtBsnY3gzn2jOsjpiIKVMCXXjNGxtmazqs15eLl1ATb5dKBnNsk6XRVRL10CAhkXfzPqDBd7qRCbnKKyxB76yDejzAK7egVoXN4ph6UwfuV1fo9FSk+wA/8EloqG44Kp8GLEj06fH57lHuGLcsf8xpKzuuGxbg3cisWoieMCkcYPGfHEUfBtLKb8p2A+tykwGXOPBtGUP8ovqkfMLek4hkUaW/EhqI/xvBuB+XYKb7TW7boyBUOu6medBI9aBOg8cNv3bYn9WNYnk2q0qFwmksoDkZvEHQ5PxNElDy9opI1JI59QklE4YiD54yc8x4KBhmE2xpYzcIigJVruE3E7k7Q32vPQLikFl2/rA5FZPMf9uHWe//LTSnlIeIPBDH6TFXUFEIwtX/bZmbbpPpiN6tvUHFIOWShDGBRBcgU10c07WAxXPqZ/WlZAMhhDtJfEQLmD8Xj1JSllVGQLT451N07+DpH2g5yxK5xogoC/KTQidrz0OmDi1i8XWWQHAcNhyPVANJ4kO7prGZ/ZPShDHMuHl2omKjcKoWK459oYVwAljORQ+kVK3j7sXnnJeMHcfXHhrzjG9yNtH0QRWiv2DgSjzSekTPLHq+Q96VlMSjST2KP8eADesCRSfg+EZKkoSBOrCh+uV/bkU2MRvNc46siP8uk4obYXzNa2N+i7QwvzJ9dT2iDuKuZkyKMQLX9PjcBnuP+8hXlIAKA2bF/UNoYFuxfPoHGdJT0NARsfL8u94JdFOxIs3EKhzoXOTXmLGoZyysQJwR7Kb0Ws3Ge5uNleQ4SeqzvCrKiK5IgQ3/0H0Fd0FyqRsJlHzL+lLjWpNm+WEETKU4UqMIW8tEv0KSOuL6NlQaDYGxs1iglpCdMarv2A47kz1hVuetTypv3EnfKhUV2YHoF3obYJWDoGazXHQta9MeTJg20liV+W+HxTZbLJDKgv3ggwJb5BYUJ5r48TOnknqfgYep1a+HY3Hd97PnR6PWhOP7Yz2c6BLpHXUMxF9TEXT3cLKT4zdoCobZ5L0GcL5KJH+hHr5+rq04JozOIfZmn+ZK4qvXeZDp9rbMcw+oHiYWuDRj0H1Brq5mH23FSKwISYG9j5zVuBwvrHyPVAjU9fEWt4NGoz5YDxb3SaA1cSwR2VNZlpAQlCQrK9m5BTm37q3wTxCC/LC5LZLeRpl7VRb2PO1VZyN30z8pxdONlvMXaOSdDiabTd1nEPsoIOsCWqRGypi/C8nxxEtYBtCuOtiHcr6zBBaBzWwuIMm0/nXMhQ1IT0xpd679fZExNTjSmqJPMWvlLmLGJzPNY4UpvJ6/eK/cHxrPiU8qz0uFDH2CwetG1/0Ku6D9AtqXeLQlskNMyRMwMsoI8vRwGc6EnrnXgdNOHFREsJjUHQnRjZBFiw5jZ85aTD7o7xvsfIVy6qyQdAxmBwy9xQID6WFFIwvPail2bbNUcU1vWnTFilWs8UtGB/NhdiYSM4qUI8ZnH8sOrQCU2BfswBPReY9AnDTjBgIZ/oKYG5ozcKCkD10EECJ3w1BB+Xkq7RzaZ8h53UIDVyR+euK7PpQh4lGTYnB87IiLZ1wtkMG/n3xKmg0Z+aZ8WcKjL92Sj99mKuQnR28p1D5FVevR+F4lUvlpeDSNsxFz5kK1xzUkDBRFxfZGwSUJjMAML/BGoVibZUwHwb9vNsPV4cqHEODxNf6HowMN2sBc7UooNXQmRylte3G7uL4PBIeVxegOgGcUFOAqErwD8sye91FE9RfaxaiFMHvklY157bohDlL1q/cVdoZ0F1+2r6eIoagX8bWDbcTC4sdPWubAG2e9xPxk+fTQVX2ObTGj7vJUVFXLOmSOMR7+vjBgdjiKjQDTq9nM1m6RSX/fW+SCWy88YH7xDEtmT9bBOicZ0rkFayqeXCpjclEoR7MpqPZludyPb4AXpaD8F9D9W7J6Zgc++c3LtytvXTc/8s0cnF30o6nh6gIu/tz+gLf3YVl7vjwhTqLPFrsFTGTX9iZ8ozbyG9w3SfwF2xEY+xsB1t7x+7cd1XLzYI0Irx5dHhhf1aoNRrvrR7MOcsa/B+WNhRgfGo6o3oW9INMJ9lm9SFnrxG7F9SUMZ8DLHlUCw+zA8eQH7vwyCdO8zGYPQHGkBjG2HuXmjq+MexB17eHRGn5ObtyKU52mY7kdwO4TJhpEPJ9h1MHvX43z4jMUupU4Fn4V5Ct7oNYGqtwbhNHkJ4cEusLmxCn71aW6k0ovtrtsuRZsn5IpfoMTR0CVlDIuKykzDvwenwF0gi54d4HILMJemKqf2WVg+4cOKNAafdkOmmjtp0bWg8sx4A5xHnrJl0WzQkHk4Sd4Ftjnn+SqM8FkofpRvmv7hSmOPoR8C802ul8p3vElYFLt7I5F6mMuM+hvfMUNkhFdBLPygHjVykjVTR/Plipb0br9+W5apDotxs6eEaVDseNlS51eZH6Amcw9JfFvyY5vu8v9UlxPH3w+vUI8ZKINtLySEivf0JTSRTXe5jF8EDr2f2VNXGWb8rN7Ng2joCRuX5x2dgmCXjfrCeaGzTA/MhqqJYkAomAQAt9sysR2Iw+92PAq3ucZH/RlhoTUWYvb0ep+8ihJmY/CYN213SdVCcgAKZ/JVYR2hNrGoEgrkLSoUfOT611GRF3bEkNU0xvAC9q0UykxYojb5M2t262qPATqmMWNwtlfa3Jp171chotcL6rNIzMyVjKnTIJyTNuqVv71bWx8mVK263d0SpBxiOIzx4gQDLgv+gsClv5yT97iOZ4YEYerQXYkzU/bKRt3zjNfnOtv1Niq18RIB1NkSNa7IIkZ0k7aSVej59p/Ej6soEqsrjV80vZ/H/iH8aLqqPw6QLSBosusww/S6Fu82aPKEkd2+lrkIc/QrCqk6D8hxvBB7H8du+FZA/wkcQXd+CEiBXs1yGTX+iBbfCcHyUx/1V/YeeEj9kRi+Jhc9gt8haj5R6UvBkQHajYuXoYEcb2cA8kHSSo0Y8Axcn8NKQ0ubzhQfrkBrBstCTuSMMutVXo5u7f2EqYI2apD7H3NWaRvdqGjH7XIbi999SbaC2tf7tdl67WeM+Iu770HGPE6sLPuhUSoklUTg9hVS/QTWhaETLTSNEpdnxoKfoG25EKzTf3SfpeFv37HqTSj+disWnVCVkkxjbQ1ZYlRUOTQepNSOo2L5k0hgqMfuFSgqqMEKFSzP7jjV3cZpsUYuhop5cM798DgOj5U+z9LX8dKBiUXl6sQS2jlqGhhbZmiUTJnh40qeZwcviMrk1is/XJxvDLL85xzK22FOuFlCa/MP9bvorzZL4Fv5gn+CW8fu6wQa71v9wuHQ68THxNdbY3lupln+YYifc6Sh+rqawG7IaFWT2j3OugvyrMRQUY6zG4E/EPpoH+HmCrExOAEA1hrmgR8AWxK1Ui4EnOOpQ8GqLqV08dJqHFy14u+/+YDBytd9hCmhq7ioyu1LwqSmTf2ZHAZum+Z4koiLQMNBPq1z7QJi1KNfZOw3KeULnn2o/ymJIkz5nGpVwCDrqhk6AZ0i5z+uq0CpAX1QLp6VVbldvSMn9HUxhs0HSdbrpp+AKHEtcPuve1HFZQapySBiuALnA7z3qa/24M8Ysjyv56eMRXZTL0wgLGmlcK3fFnEMmkfx4xVuKAUGeoIqhf0HqTidzNw8kId0Awjj1IgZ3xlbSHRvFNIIHjnNfiaGUuhjx8+nUbR33wdCY7BU4bubImbRHcyWeRqz8kGXLXK2z0yxwiymqm1/WU1UxXPikcutHSh5QRpXj36lri41gdzAsf+yJFTj0CJjIkacNY4LjGxkfu/iGRtvkh2UtxUhEKKDyP66v/dPmoIp032vqkRSb0NZHn2dybkCxNn2WLcs1rVtlDzMwbZgK6uCnqTG53L1TaDGsNXZbcmgvIB0YOijW1sIgVpKxJG6zuNhI+g7jwqn20o5MXBeTwoyVyruwzE4wFSlmo3WwEGPFTf+yIca1PZenWhJpjNJm4dtyNrNkHXJ+MVlgTOlgtWVgVqt9wmNNKnzXHX5rNyKM+HWfOHfXImE37nJoYhS94MBJo0dXjp8344x9IBS6sIO0yEApWVdHLSpO82ImqJGfzoedpwnvWGG8K1J7CV2B9HAacXgqhZxgTs326OWO1ahlOm5wEwMki/kkgJfW7MKfrxWM5O/gfpYwTL3Btclm2HJA9EzMv+/m724lRAhxD+JbEpeqNQC9yWjFi/MT2dYkpUWVtNOkmyHLZTKY7F4COfrr2a5YH7NHnoVIKu2n9lNHN0NSUOgzPNGG9Ui6dfmeDIHBgbSJE+boCkc+tqHV4pXEY+1Csin8P5ChKgCBWJYJOo9l9/quI1fopm6kAPPKd7LRR15Wxrih8q2GgcL+F0xdvxcJOoCVDFvp+gfTnok1bwL4c6UDylhzEjRoE31qwFOPGcOHAYcLnz1VTMcW13S5hl/3adHnv9TrkHOkrvRSbHS6UkVWVjboSAeTZYOT/cuqeYiuFKsEzULQmhfEFbW5qQKYps+TFrP3H8/kErt/bZjrgH/an4xZGwS1xqtYMbjQKuGZ416OmvHvewFOLiIqLnR99Bh3lMvfqfYTHzKiEg/4YeYTUEyj7eXvifH1QGH2RYkIPLc/kks6sQxCx2KzbbN5cvPwFztpobhR1mwQFwt7UUqWTpywNP/GaSYL6Ekkl001J9WHVROQkyD9YqJ6h3KRtSdRz2RFiDAv0A3qwuWJUO0/l6xXcIUC9G/ZwvfRcJ6duU9nWp8N9uj7T192WxJQfkpzjB2/YLlno2bevMgSYZ+74lY6sSwIqy/S7xhEEON3Lv1MgydqVA2xyU8mQDGjIfwFLmYUd6ZscGt96XWwRL3hDpyHCnjUrH+50YTUMPG4sdFZoWvJK+pPvpnvhhv432QjkhbSGvURd35T8ewNJGI7RJBNfY6x3B33xZllPnowZQk01wGbybcE+u2S2r3YoTQ2O+HfwXM/EEkfsv1v3de242VP/878NycWz+3y3AmnpxfXLyua77uHUnPUqWzkULE6sgQdLzl2rjGSSjU3ysRUvRC79I2fIkHudxWbA76JxybwGC9XzVMXuFsNF8Fm5opqZllt7xJn3/H1/QU7c859eUiDEpfFf1LzskWDxsWALAkGDFbxQ0gDVN4GzvW+Ysdnjl2kZp2yMQOw3BJlRB0E8jZwjwYFL1er/G89tYYFgTdZYcnMmnY/5E1PKn8RyeWyT7xfhGlxh61OSOZYUHW+7NuCLuK40bOxYOlKma5bq1v8oUPosGzEVVc4j2lUlCtA9AMEWxuaPfxCZ+dfr1lJwm2opNR3nJdU3JdqWtv0byJDTWZHDyrVFbJQE1XAihH3yLofVG0kxyTWzDJ1IMp9GIc6AMIKX34Khp8L7h6lMsVjyOTZRfALQjYWz37ibrGLS4BhS6m9Ka5H59tu9K0AOsp1O8hdkXvs1z9fYq+wTuOOkUCAukmIYKEd482bSBPFYaB0qGNbC6UCdD9cwrvQmu3DVnNxaVYSHfsnmmybd5QPLDoPCWfw+fzvy+x46LN3wZ/V+HXHOpWnBQWMHSbvoZYmLOoLgjgbKdOF5BTmzSgoBYRRLJ6Wm2vXACjy8zE0JHvbcjz7OTB5OhDI0Gy7EGHq0Prww76lZC4JR6KBWQRfhazRdVvxjj1aycBRoVwYyZTvHhIoA9TJlqdUGehMHjxVtX/Kax3VDHqnXjJhisB5EFfDdd5+MLe/Vh5vaXpTHzsIPCw+QaEnizxn7CpSMUQTyAZQvNQo0Cx8A+IEnu9IAlQ3x/dcUOViBB5Hzs6gb9fiilujviV6NSW7ILuiNYUfxvCmqltKfWkbQfUZOdxGEDKH5AJABZxdAc0r8WpWHSntvAPLoZAgIfpkVOwfTSvlnDUtbo4Go8teKpf4OwELTLRaNWY3GDjUaKD0DjshvAjhbnGj0k85a53SpUjML0fh2GK03a9+upsWVVwHpuSIk5p+vGD6OI5bMDrRguccP+OjeenHBTRbtmYQ+0Udsyz+rbkZ4c5XaN09TzFXXzvfx/tIv9CYTABkLfp7dUfwdtkvU2x999oEnMp3XX2m8FEDpLciuO5gnjAlMQwWXw/FCGVuU+Sx/NEv3gYyz1oL5FAi0p5duFDQIcg+JCvSZeccYYDYO7hy50s7iTI/fDGmpYogNXKtuxXsfD1+wwoPxaIlHmuP1FNERHbVfkAneozbZIHJM+InQ7PZMUDGRGc3ycL4S4Us32IqMIVP+dSEhiewqw6ZW0UNwNkpc/KdEcvPlRGdfWrFvfRJETLFw6VupgXVdJqHrMMtFb/zlU0ThWZ781I+o/cSUepjBblFwXpsYA1hff2+qYu13YR05P6fhqazVNfX2w3LMXF5rApfd9aH6Q9DP+l1zRoN6Rzf+h1SSna/QKbL1mSV1vdhpGKKDlZxYFdi1Rt/tzF0JqmkB0E5HQV+FhvyPJHrEplHuwpe5qomvDR2k468zrWbsnXZBXl/54N0L5jdQzFr6Ea81hnHk01eWuONf5KJd4cvTinB2e6NEz7LKPbxzPghGo4iYAz82yCE0rD2g3NOVkZ1oo4oP/vv+BI1i2oxO5b3ZQBMJDHrSe3/NBMm2Uuj/vWmHlcvNhfZIWc/RP0luGTDj30IPdmXsh66uoEMcr3esVziX6oJmls0eQCHqMoKyi/U+WhN/q2LPryGeNRvH0+oSDjucpO1xNNq5WV5bfiUGfioQM3o9Q+RKpHRxYdKozBR8TUT8vaMpplsPJSlwmtH4gWzyTeuiZ40EXTzx9M4GtaCMiDHY4ALRlTQ+2SIT8/1kEvJhCBv7485SVQ6wxJl9PoaAc3qzCGuD8mfc7sI21/3CKdDdluSxxHLLC6EAaNPLOlBI+Hd2ClhamT50fdnfcuc21K1KTUDBXTjoV/GGk30KaHnKcl53IdUqPkC9HrnyhdNvBZvnnirdgW/WRCfIUvj+qI66ydDiuvVCNEzXeNRyrTdoXZDYWmh6Ff+OqyH/bd0gWjqWE4xRlO5qryWloNgzGra1WezJqLXCQdmvuREu0vZje01uXYKKm2e+wt8kD1Luklgo0L7gQA/ANEIAAYQ0AAd/wnUx8W1+5zl8/moPWkfqIbb/K27Luo5NdDQ/b/oGROY+cA/08s3wWyKx14Bw/tn1T4wXtLhNyNRVxGsqdiR2ACW29Dm7VITqv6/m3cf+KUjudfAsE7oC4RBgzGEakAg302/dBcjTEkHOSmIsuvwQC0IDOq9nczn/dffw18Sp8HHF/OV9YLOrz71+whF/afyB22RC0FueSS/BGuBkN1E01MXUSlz5TVAIgtU0kDkRNK+djqOv+eq8T08HjxhKuxiETbftFQ/l58N0dCtkAog4nOF6Wqk4hycdyoICRsbJeycwUAEwQgnkHSGHABuVEYvG8FPZq9s5/Ko34QadqIzXp6NE/vYeizPR9z4ewyt7S8OagZFmBAQV+vEcKwPc/LoopAl/yPJnCoo0UDtb0tzpgyBskonapj59QRNWupFRxWZMTIY9XvE8j2cPJ4jezzyy93jasPcwiW2bTycoMOXYVOqILcSBXhDGkCY0ZRYq3mslKz6dJOA6wbU20mHGJiHWR7Y7r/ymGjV0bfuXTdCOoLDYF9F/rGVA4wRn2MR3KPMfpB89/65x9yUvuYoX/D2et92jUI2rc4xo24w5qbs6eq9zvDGBQ4TJwhn/+V0LpJfxSrOnuV2rajVN9gQtFV+gFuzNJmI081gQzaAorFdnWJEIDjqnIL70bCUCMRR5yVMuu6muJzcYBykBSwRX1yjqlAIGRzq51iq6NckUMRkxpCXIKPJtuayD8GQYeuEgh2+zfdtSOCpC/StI57nLa9iW6iUsUY0BEgbtYowtHrEvWzc8S6D+QMyaGyfr3vMcw/Mgbv/5bdk3QrawElFt47flavPwU+CHc2DA8dvHUEMSN5wxIhggaYAPtITn0iXgCWrqpmxP6fNImnlwsWqq9x5+4cJLgldlGaaiIccb23oISouX5BPODXucrfMmMV023pvHnEzgF6BA6IjKAUHpOQbDCkcUIhFrH/fdOSZ2HBFXTGGiToNgSorNC3zII5LgKNDCIEAfQCRBwAIEOAAHLLRZANKWBQWE/sCf+d0HA3yacS5oFmhOwXkxDXlkOBqwQiKDpH/4HO3OBV/KzDAwXIDW43DYUDVV9gCjjHG3BkKvoYA2Gxv+7WbxmaF3x/3NwK/sUAZaUzcqKJI1lvKnZ3SLqOo3qNV2X+qNhRi1VfQgYdvR441hZhnkdPABzVgFcJAPQNsM9wMQQGh0qEMMTAkCdBxc1wF/IP1HYBj38sI8ucVkElinFOJ3r7OS7kR1vuP38SAf2vrXg2u4lhxwBlDumX+N6siHeI0Tju9+mwxXLnsS9GEFles8lQMNnptedKdgLXqR1vB9FX65gsnOxbWN6XUkkouUvfUV7FoJemrORniSuSzhjjjJIiAcJ7Qt4TZP939tc1dnOr1y7nihH+tNOMOF3ihBhJq4u3NdOpE1hUbMMwkYpGVRjoStfyBysSznNtNxZzOromc5C4FJ+XJ832lUrMJ1Ud9zxt9nIOKMPB7hvLjRnkgSRHiDP5tS8acUurFZA1yMJnKlXGweb2CgcjUwdHrinrvHZ55BBohE7jyjQZqmOa0NTjvt3Z5MftNn+qlmiD10kyNKS6tOWjihP2doHc1RsUVeqA8u6NF7ya+qbOGmxAk4A8ZephQvqLzmG4QeoTH0sIdrMK1D3QtJOWvy6pys4ZotZKS5j4PtvBovS1F06V618IEHZjnvcvj1AtVDDo8JpWluQHe6SEx5jxDapgoU52sOVNcxcKnF1kbcA4byYieZjO1KStemY0A1eWg+UEC+36L6pHRQChDzeo0mgwlOQfspAD5shUMOO9Np6L8uUfDi/gwFQR2qDYmW9QdKexfnbTWGwqzJki3UjMZC/3osLaOrUZmLM3bz+eChAzQW8XdxYFw9LKqOMpghj3dnJmM/bHJgXpt/xPRHKNIQOnEMPrQefcA+1eeISJp4CE4aPh0LU3j517SRFoQSgImMXMNnWmHl3uBSWQPDObmqyysVZl9eJI8v8eI/BAlT0cKKf+RIkUWh9IT6JZtqUAXZlRRG3QAo0J8gQC8ADEFAAgRAAAYHZoAmbOZ2YJcj4MwgX9VPTI9uAljDHpatCnTQj/jHn9EVokA4Igf1FIm+FgSN2LibcvtqboafjverTtrfD1ZO36u2kB4TMV9pBfyFxdQqW39jO9i88hIY5twCdiPYJA73jkcEyzHUhWxT/D/bgXdKWwpe5D+GZgeFMMbjy5Hdl3jAVtRHHHSSrwLz2SDUPrqGhLuRXqQs7UUwfNR5A/wr6hVQMc972dwSxK938HZ6UOVFccLg7sQP3DjxXuCelIRPYbKkpo+Azcrwd5FwEFn9c6jm5Aydd1fnuTTOs4y5OQxP5Enb8ywE2Sjm/NaeubPhUT6EocKDvq8OTtn574AmDV0yUJN/21RXRuKqodEy2ABSEezP0AJ0NLrYe4Cz6OIfdq+NZFmCxsjeDlrWgITP8ZhXVS1bv4Fk8ICV53iQDYB3ruAgpUxHvWaZEzg7hA315hJFjnVpa3X/+5e/f2E3YmTg8Ad7vbhgA3IJD6ki50e1PFSCwMMSS3Y3lbeXJVmWKkRxNegsD82rPmQuupAYqMxBX2a2zyLotJt3rs4ZASOjt3o1njObyMNMYBZUer6WdmnB5qejef1ckDNonnJ1w+vtj0JTYHjssx36brZolIRTyunsjGlYTvf0v9sAQAACb7cwlY+TYFkYOK4qVHlUmXvtKphMIVT3EYqru0QQ37DTxUWUWszSKowHjEV7izqJzIZWCUagiV1ErKvRea1eiPeODP+twrqHDeTWBxkKEvkPgGEYvK95HoEMHVuvi3VYGah9FdT/oBvCKr0jmsHVo/HhtUTuqjkqmI9TbH6w5qU7CO9MLCA/vEYC9b1XOwAo0MzgQD6AJEHAAcQ8AAbQt3j/6tyN+faqAPSG88MC6fnPwP5u6UJHgsr3Aidc9X3aGQ8C78GNF95EdEc2iMmJO1XVODwAP5jwpgeYMxLkwQksZj734u8MVDaiXfLEGsguC2M4Ai7tUzNtVMWkJMBSr5xtwl64FC2uPTDu8yYhhJyJqngdMexe/oBFH3+2BArHlcIIk6/nPF4N21rmF+NB6j0Qj4zLL25tfGni8Ope/OWRZPx6XB9UGowU4JHNyx0RmOwcQXLNo01nqgZafQ5K7X6c73gjJXQZCJyEhMJHmrzMLnf9FVgEEbQ11yfPg91jmEiQn1s4lGOiAtq1bjlTV0hVP6FaEtdjXgGaGjuAo57BhtFlv2tjc7GtXHK6Zj1/72lGqSeh7hktE4sMgZdXOsePVH74RUcJ5A2b+SqPqP1fxe3915Y+yEE/8c/TivwXRdfT06JPBgEiDTEvFP7ThbPthjz5AUGcKbYCda+GPGMm35z+7fC+6sPknjuZ/TGhNrFprDNsXFkRHxVGMTQhS06HDc9Bu5/5BlF332yDo8urZbHr7k2nj+uaft9R64fv3+o7nTY5QAW9PpWMZI/6CH6vTVuSzlCeIFDDOuyYMVnI+uL2ucagleS7piM0ztk/tqjJTOOBDu+7AajxdVeuizrS+FziynDoaWSMyhovSQldnuv7vAWJWj7PmtXjgk/qFY99CCttwFK/tUM9ekb1Yo8BYJwphuhZfbJw+TPtBaj/Ylmd2riYzE5EofMRHBL9nFMYNFpv0O6sTck4ZcjZ4x0yYRY26jtLUYCuMa36OO+2Hxt4cyaJddnrN4opV3GHxNIK84v+bW1k9He2oXiMYIK9JK2LgruPNzGRSEr9gntlvqCfLW69Noik6TbAetsyl4GyykgYtFOlx6TqGBRybN61JYoVZoW3InlYkWud7Qw3HlUpB54eaMVdkPwu93H7yhJsePkxsfP1c5XuRRillcoQDaByg5vE/0GEXPW8lhPyAtAqivBjoOLovF/n0Jy2hGU5zM0XsjeuIBF+pmK1sjuhR/FeXib/QnHRGoZlxcq2jFlVXW2E1XMHjDasGw4ID//++wAo0GkgQE5ADEGAAsRGAAeX1bpFVyd6kAobyh14JkjvVOihQB186UYnGrOlRWsxmdTtg6ackaVbGR7gIDIXPrxret9yNXtu4+VyriRpSr5TqVS9hDgsC2Xlkt8Z2flPzFe0oLf0INvzQvUzgsWTkPhubYwKb+hcaRwgC8yYfWDQzSFwQOYdLjC9NZFhONCWfeJCy5KSwN3T5R8smw/wo0eUFCUgdsmUrMwOiFsAApGP18emUVCSP/NOJVMj/E2FY/PcMUygRNysrVkCIA3h+1FcBkLgK8TYx7WwhSa5uhOWX6WWlaqWke4f05/tY/byVbhN58NhUORq21jy3auha4UeBhjNb/1mAr2YhwJGOE+KeWY7Pd9UrgeQtucwTJKMW9v8put0bN0wIEDVuijlwMGFC/gIPOQx17plV1HJiCc22Ep8YM4mN/yfCf+cF3gjVBn0si5eOQHxh6XqHkRGDND2sY4PEdtJNiK8TjAvuh6xUZP1FZsS7JXG6EvTDXj8oTGApv57/epG11HQzA6QWSTRGHeKitOrcufgbSaZghNFQdvtP/q7fWAo0OUgQF3AJEIAAkRAAAduzQV68dJw4s5dyyk2ZKDvkz/EFN+/cbZEuT1RPwWY5dBoJ7Ng4eWnd95/BB0oAzBGh7Qy8TZSp5gFkfrJrgA82t6WzS1XIJ2norphfRaCGpzgaO8TWptLKZ+ZJnsMFSejmVUU7GCjB5v9yf8q7smnw/s/SrZadPGoS2z4+Rick12GA4g9C/EC6TyvX+u46zaI9+oVWFks/psty7AIYdVwl4sA9NFpTS/zJK9cejDEVcQtSfWSaycL4FGiA+UYr95O0XrJNvD6AFz6BlUw1hk/IlFelnFFAQ4t+I9hXvBuvNN12eGkXUKpvAgtVeEWewCot64Md6Ak1Mys2TbR/s5NWY6yMhO/1L0AXGOC/Q8sYdyHl6v7c/Bs42KkVXfbAoWpD0MX9POoBorYMQli2udMDhNlbssxiLSNj/LRS63MtW9akJ6O/Yd1XK7z5dsiAx6+r/fhSjUm433qOPe+DMpo12rbHfLWdPnMELGE3UsA2NOYHniRf8pxOVenU5lAkS4OG50vT8JEJUf/NmrMXgu5+UKJ3Iwc+nNgQ5tlTrqoTjd3JkNmX7ta8fTGS9XsugRcalO9MlLxOoAhFDtZO1j26ZdT6cjZpc+fHbD/vBqZCaXw0ytYG2duhsWVaP1QVjVXT5GxU8PtPkq1Z4XvgJy5bLJAWpyAIx2UIs34Eghcx9NaN2ED3oNyErUwuz2B9xp9CjoAziPluAanwrxvE7fQrox5MUWp814qVdHIOuNUx3cpDcwAz3mVCbm1gI49IILqE7fBJeL0pA3erWIFfYZ5fGZkvcTppk92R5FEJoEj/ez7dUG9YCezcYb4z/AABHUBrC3MGXve/U4pnEdj6aibF7knBo5F2AAGGtpDXbt2nwNGPWZT8tNq/wixDtUqXRXjrBlo6dEX5RKwUfoRL2bIx+YnoFHAMMuE9FxqeVIq5uCZH2quQVfBXoZ9ncU6rJ53Kk34ubbbTjh3sxFfOS3PczRdwLRXf3na2EhLvSnvGKnHIG1Y9M54/jvqKUevnCeRoWCf3Ciqa4jMwVSYxWmoSm1UEFpOB8J58fLYjI2UXBRaYk9qocxnVGPbvzT7VgFJo0Fj4H0YdHgeFz+e2R5+JkfvDI/XmsxRCo+YRIt5Zsr6vf91/bqgpFYKJflfOs0h+7PX25zNFcYV+2iOomUIhZ1SeX+ZYUcCRCfE+IWaQykNxQOrCFngKNDAoEBtgCREAAIEPQUeB80oXKD0bPo24byq/qP//0P/q+xO//9Ff6u6n///K3EvyVPaf//rnyN+XQew///V4ReQ+8A+U0ePDeeRbOfwbLJ+uTFJwGmijK1LuwYLyA/JSRbdOcBSfUcu4joROOo05wvmvqnEH9F3JvxWTcZoD9zlSuMgOTGBm0/zB5m3EDOrFW9jWMdwe0xinVbOLXmXlQnfoeHXke+jknlvHHYr3HUsBScI5xYofkUS847Ou0/uNs3pv0/nJoAERmLaQPwaroezxdZ6ZhQ7ZyaKM27IdssI3PglzuF8IQy+RNOeQBZMOy4xcMJyuuJATQDwl3aCMv9Hnq+yU6a/CJQpwVpFP9Ocm7kqPb0aqX66wnwvoy1TCK3IbRqW9aA5T8u0KW0kUDtgfrkVJ0sS14E8GI0AdqgIUODDUWOT0wXUCwsguISbtzz3uBgX9Hq7T39zQtISr9AdnCGFmMjop5lD+7DH2GNACflRSHPGh6ISivJUr04FVsluaTqRKnT8/na8c9yk+gbdMGet/gUyN89Jy8W5xRjQ9aWR1wUK/LhBisJshzW5/C9rsabuSrLD0RkGB6Dqiw3uF1AOkNCrHeNm5/AAWvHTnJ/WjZGywN6ZBQmu+oeXPHDrp+g14LTa6YWubnNDA13j1pPbR0ba4FVEU1qJXi0hMEiQlIqSFFlsewEqLOjyrk3ygzduHA6g68tSlIIcH6hJe/2FA+5zrPY1IgSplyFwi7Z9iR7m9PyMNQ0UL61m/2U6Tqp5azqFU703lIyK1ef2g5xA44y6K8PICSkZYb0bv3ZmygkfA9qVA8wxUwN6p9AdtDuVJ2NIaodFd1NR89eyEYxlSx8xmnphtgwQU/kIAjd1dV7UjWIGDqbmrevYiAGVZEm4KCIUpYfbv99Q2F7bKA8ioIa80wU0RHknzDwsLaqXA8mBkiFGou8VLbt2e4mpLb9BKj3w+52g4r2b3fVfZLaGZQyWpYy1KwQnFfUmQkrMziuUb8vs6v8+pqb2ek0RAAAo0SygQH0AHEHAAoQ5AAdnrjJy58ZHhI/AVlWr6okfyX5fJ7Cyuy74zV9/Y+/wsrpdwXTzkvWroEdFeWf6QdO3u69rGkA/puymT8x4DihN5SVNvj3e8S5iJ79igJT0+/aaM7aEkaNViLYNxIFKFW5POvAJisbUjaTfIW+qC3cl4TuVJFoS3KxvIq5oWulrxoQgGsAG+cADzHFTrJilR8Sg54sVNJPYgDi9TvJvAdFAPkr8BBqrAvhR+DGkntJH20OMB4dxd8gaVR3KNbu4F4wpFQl8MQjZS0vfPssnDvvUGmsU+KORiBfyxsed5+2SHkVXf1V8AvHAeojRia9FBX1CEZhNIjLGySnYlEXbq4TYbHH3Z6jl1MwK6/81iGj/nYavjIgnLLUYnZyv34Er0AJxq+ckqT11siGGHMv82EegIFzLLXagKq004z+jlfby2zLTw0+c64HcwrHnaa1vvjeP2pKw5TPVC0UzNbQ5AZunuMn+mCU0eNB9FlL/jxlivc+ZmaPkGfwMiFDAab0wfdFy0wvOuuQUOfGPe5coLoge8nLpah77/Yhf6vszSyNADIL6s36zA8iiB4NGpetvlGTlDPzaBTUiAJALUimLSW/E7KQGWVOjCvm5pq8veJjAzrftelQzNzgxOfk2L0rKaSi/4TgRWGCkZl3Gmi7YpN+sMvISH2zFFMzHuQJ8JaBA9zUPs+uuUfFhsCMN9JwOyYe2uzNhRg6kCabkSqZfwtx1Xsd/v148PVvuCK+RPWT0jMTIQ9REVVVVB6XLl9Gr/EgG17N27eC0kCB8UmW3zaPyaKlMteDlyhcI8OF9QipRZ0EWO3wwGmK94DXZe3ZpJxnF7H7OAvEh2PzkMD+/RQYseg4xjtII+dOuZxkrS1V0WlOkgv266RRwCVtjNg98Zrd68Ce5SKu+UMv3HZGtOHOHgeG1SasSyg90b7kltoQq6ieQw1fa7oi0i5Z9hX+vtwogru70cD09EgrKOqtJBpptQLZUAz7qfphRcpkUcARdbzC+R4O05quyR9/goMQmKN1Sv+708U59FBk24sW4sSm5f+Ncja1Ygm7xiIZ+Q2Vany84Q01WrUa7WfcegpjivVASGSASNURAFPGw1Puub94tRhBNjz/ZUyLmusnVl27Vuu9R87fTNa2+wexJ3bp7BK6osos2u5uBVqW9eu0GFCos8Kxy+2XPgBPdF87vteQSiLP0WGKG6yrWWldpy9o83T8YcTFZymIbW5PcrMhdUD9pDxX5yqkrDIJ1SrFF7b3y7LlCKyv/v/WKaQ/Ytd/xJzjpJevS+NkLptRngAthPinjs9Zp+CvbGw4cuNkNKsEyfn7NM6/LHhXqWqwBhxO3/cQx7s/N7JCCuQGVEdvnhfvvK+QakUX66x1T1aR0ylDdCmwo857numrQndgY4uZvIOK957gYbd7o5jwRg+E+PuFqqURDDxHbSii6v8JrpyRIQ2NnAYT7fiaqaZBwYNV5LMOS9L5thBy3+xEmOg2yXhsIlTUQ47KbfYyKB7AHkbM45FCx7+Cu1OuLpBoY9alCt6gp5lR5a82IBpYyQA/QkVbiPwmW52brFv2F2xOvx9cURpWsyNbakCjRHyBAjMAUQYABhDYABoIZQw66cAoq+h14JS6KyG/VJUKars9LFRnPFkqawMr3qCWaHVK4VCsMabHl4DhmT3128IoV0hgq0PiXcdTakeGYn4k9AhXD97xnse7lI3GSfkH44WBmBJ4tWLuaTPz6bruP9tbG9a6P1Ihc0twDyn701EllfExKzVw5Rh+LJqtWaiCZcT6WyGPjnZvi0YffBujjZ7PESDy4qcAOIL7/ZIWR8X/h2I2pSotLisJuW4AoI/sW27j0usUCyz0ibHZMgpXU9APd90d16X9Y3wPjghs7Kiu7rNOVhN48Iqs+DrIC2wYVlUsoO3WfLih9xoGYJRkz04PNtiwTjtBFxuWbAmImrW1HlruN+PzZK3KpOK0eMIwIFUd5hFlKkn4QtRYgyuA6b5A2hmntUT0Qk76+naiZZcw4iPwvhjnDiapci8m4Xif2GL4Z51gCytlfOOBEnmDJajK5rvDaD/KP9pz0Mvw9zPPO+QwhD7Ljo2vXTA3vU6rvOBPZhNzQbNIUlYuxgnBzUhP+lUBky0l52gRO+FZIumaTB965sQNGW4VYJms3d8+r1Uyy8WqgHEF3HEHmKG/FhnO9ydqtunlkPAMNEx9XRSCpfBrRx2r4+xBLvxOuhWaAjtcyl12Z/n0/4WZYLzIzZwz8dstDF7Tv7GgrbexcN9PLevM859YqUISBCOoJPdAETI+WEXSHFe1YBiM8ramVcOssPuGZHSJLtcG8YpAqXAgbDG52Ze32TeICYohSMTSsHu6qQYzzVYIdeJblcmAsklH6d/OJ12x2q4yohq4z93YOltajEreClOmUpSXvwia6BmVVaYJf4zunjUfti3BOFIDztfj/Qgj5noSI8H6x7DarmCUjnWpCEgsk0tbM/pI1YUoLJ4m1SV92I/IGLLxC6qk59q41kpHOR4iFWu7gltJiJxG26lXMreTcSWNQnpHOJeG7ZAdlG7DRLyw1KQQEL4CD/LEE30iBtsve3f61jDdgqCl8XVh/Q0HP20aBpn5PJ59VKvHp8uiCRXBCS3TgRhw+B75NwUWl3Yip4VxxM2Pzb7XH3gHRl2ZC1/uSwx+9EgdStGNz/VhE6U4gz6aKsJelauTh5hUF60OnbaI0dZ9gy3fWU0+HmJriwlHXK/2zKz894sKnRnZp27yzoykBh8jk6EIPxDL3JLRRAUK+LUbPDELC7+CuR93ItMXqpfgUcnv0SA6Sl0rq8Osjb82m41gNCgIp7MpuP/pQtuUtV+pr8PLXPR6SD7FF43GhVBD6oRWSx7KuNVIWtHl0wjY5Si17KbWDSlpMkLkghujhlPG1i7p34uhHRCtp3KJt/c1cL6TOrHS26Dw604jeznKiSudizk2KNZYn3RRFWUSkMgE4t4supQB5sECGUOijyseeGaKk72tR2bOcA/S1VLVZExaWp0S5ZNK5fTwuVp4SMopy5KixKjR0HjL24BaLSwj6aJcE4AK8KPFrUzQi6TQaouUNN/zuBvTJPv+QvGXpU1gtLkvlUMfeGq8k0yUAKNHA4ECcQDRBwAGEMQAG8wqaPwz//XWEHz0jfvBBrA/qW+MwOAUFhP7AExsP2umhJkaKw0oE0VZfo8VQmUaPFBhlqYDemHr+MgDMCdgNj8egeAJZUIQj5YOU0QYDaVLQngSYJ2Yq+CsCM5lvTxclL6EEz9Vt/mD8Bt6ClAOnQ9g8g6sczqCrFgZgyaloB23LrqvMSzxHeRUTFExqEfn3DGWD0/Psdt6cUz4/C7zLzlZdJOxTJLb6NP781/RavRXgeX4bjMfOny1l+ffAT3XaGxkYgQP0yo9FzcN5O9W9XHsP1cEHkW8XLfdxtNligqa/Y/rS5GqyJa0PWq3T/YCQlgyQtgrPkzCflIhDuN5nXzdW8az84cx1dfCfti87QKycZZluUrGNbcCqpqkU776mNoKZ8EaOCwBJ0p7PZF/tB4/0516EFHOGoZsqom3CvQqi8ff6atCX9vEolnqAYIo/mrHbw1DRpfY/ttaCA5b3uj0P3Z0NroCmkpaRQlAlt5MZeUzIlckTQkVXZtpNna4ufZ3g+2xXO/wFYbbzoRKx1DwLPGH8zGrNpoomduAWEKU1g7cMgObaGwkoVhhbRW+MSgkW1duM9HHJ7lr9MiHfJq39HQAXyaWi7imZhRAQHTkt/+QPw4VW9cLARtX0B6bmCD1QjoNbFYQmY5chaxGcq5L9eGwdfeOpPZbi3OuoJGqfRzOehK1JzpLHJwIY3Ru/7JLL4QR2a7r6l+1/y0TkFDjhKwbxKWLfL7ID8fue/RMzOKTr9/6kdQOZ1f3jKvJsmOIVXQsuVQWoDixJVg5+3/cFaSiet6IrptpRVrBjw4aXI5pCb4MuOOioSHTNo2/ZJk+awQC4etcbyE0rxv3vCWXgaQpNBEiR+XwVA97ihnPSqtCz+/PPuBFxF71x4dwuGyTewGTHAYsmYhvlEQmCwA+E4BD16mwjYgc1MA/T3y4XhPHQ/fw8dtyXa6xcnZg25z3BJBCGIG1s2dAI4fI0ablz4V2xo307SBBNvwAw+o3jEu4MxaWtaU4T1dIKUcUAh8rwq0y+EiceO9F7FvTWhkzPKyqweglqLf9mn0rEk76Ubcn2Ho+OuIU749W6x1Hhql90aKZLm8k5GIcoWawltXPKG6DVgfxjJRV1ndXMKOIPAdhoFuXg3DP+13dYVJERZerctTm6vkyxrWTxI2VkOKqtIQkoHv5xCq3WizQInNSmBAnEZhbpimdV1nBfkRDfJlA52soHQgXoCah3tZVf74b3DtXJw5/nGke4ikjtBaS8/cfz7dyrVwLXjNcnPEIuTYHM93i1dT/NlUIO5MHEPQ4vYKGb4Eg0mBPY/mr8x9zxGJg6gpkXPV6K97qPSfXJ2QrvEMhEg7WdOktUZ51s27eMT2gdkoF0oaBASe6/gn8u8C26AcmzLTUXe354HpIE2K7C03vBJLrFkywC4yzoLrY2waOkDAg6Vyw+dSkyuv+6fNqEEW9Hl4EzMk7lnFEdbQ/gjJ4y7Tt8J8P9x5krOhagwzYtYWtq01DlKVqF8rKHGzvFYK/V4TG3yaWcrelKwqiqvv1LgmmyinfvlNMOPgrQuQYeH7akHSbARNXCtUpT5HEHwCiTa61lO7V59iweJ48WHUMYYbySwNcB9nVHXqKSBQZK1lb0zG0dquptCvnx4qMiFZDR9z2UxPIzuU5S4lr5lGkmO/XEaVR+gip4tPUtucb7MXFWhjU5xI7N+yKbnmAZhYuAQEf/ptIBRYmHYgAsDrcul44qhiLpnOQOJ5xFhVmQPrM51vxw5ySAU7yli29UdMMKhzXv5x/NHDblmxZdKZjKSZZmeozj68IP19VIK9VU5YSrip7IWRqTJQXzcF8dYQjEUnF780hqnv891Q86Y0b8iOLVdaKjeBOB37deK7JAJU0SEE/DpnCi8qm/55uN5c7MBpn0S5ED7mObz+rFWEMi+2vdjnEm+tXnmx/ThBSphMPo18NSoFHMCfBRo6T4Vq9pCVlXKJ5+G+Wcq68mkK4cE7FKUa4hj+BF21oGZXy/lymlKLm0d0DaQ+uaZV0JropU+aJ8S68B3EW9h1bHdTR0vzdeMj+g2e2HBKrIo+suZkRjb0aP/0xbxTzw6iZrtnR7P1TegpvrUwC8/2CEyUxQgPZ/GAW0Kzdfy6l6RUgcrBWsoeeZvxKSel39a86wSA3iwq2asndC4iW81r9Mjwm15+unayqGQrVr2GnDOTApGw1IVoYBDxnBF8oFUVHuUAJGhJWocYULM5CVFY0ryvH6XfkUugXrCLaRJPvp03jJRnD0hTXNFy5lZx/CzIvy4GfKTvEm5xbnglIssnWMrDqd1XLTd9HWY/OH/wPfcXYKLHiZcthva3tRBIPprwvy9vWsRv9VJNL2Z1VrtRWBNu0lACjQ/6BArAA8QYABhDEABvya4BDMsPGPYftleRGaAFbU1upBPwo5i17Kd9CJkDq+vIvR/NvK9xu4vkkIkYZpBG4QE0fyh+p1OfW6yYLf1LjvN+3aFii6VRZ/j5BNeJyuIpjIaqC9LheDNgC5VS44VCXFzGmb8SUgPyqmKsS7Q3iIoiHntkrmUzhAkHEQMpktENDhwQV5tLOxHEGEPAhpmlnmE/C6pZuUECwbgjGPhukyEvkVLKhNJfrkWE6td3NHTWbQfNt5gYau5td8E33vEUlnBqi+vf7zaLIrN3ORxLmqVi7IF0opHzc7eS4IGbK4JDt4N3Xk41wXp3x9nXfSns1ORmIm4Laf+4tW+yDw0Aw9oeUxpP8g3+xZa6T8dHEooUpEOoT0gKXlv0aUOchIaMV5V7I2FW2tPXufGUds/gU/XdLv6eEpcRqxVL3CdQibIl5vBoJSrOZ3Iai1yzILL20UoioYRP1ZEU1JCCHbkZ08JF6k+qGCZDVam3eBYxjObq7L03H6Wmj5AH/g2nGynoi6Ipbv4aYBmP+79nU/b+VAtr0Z644nK3J2gzkP/aMgXFrZX7qCsZwXxTJJ70h/n5Hihw9s0YdnI632Y7PnYDTY5xUIFJXd6tmhcsya1m0GdgLAvexgrhnDy0PZBKcn+rDdVTMwGWPO7MM6RlcxMkKH85aPjlCZ8i6TvMWimwpZb5bNSXi5aGQoCD2gmijawQuFmJBmLOjKdZtmRN+wa7hvTTskvMXRaTMaK5JljHDN1cpvbpltidA0xKeE6qbZf07gggs134efo3+EkdA6ex3shPVOSiNTvqPWjhxorlu9AYdr7VtVuAlmhf1mW7ALXEBZKxHB7EBmBQPOBViRHp2gvtz1tn4lAFzAqeC+Kymqp6RWIb6ofMwFNChb3n/t6ZLwiKHh37dbXg818vRsrhSQxBfOxjWii/gqyaLI0X2jpBTJexeVnCTtl4tbiiFSRlh1yPqAYydgbPa2xahqytMqgdAW2EnOzGKKog1iCaN8VXbYRpa6dryhJ75zeP+zywvgXFYNGnI4kEUsaWCt4JhwFOYeEHW8U6RXoKUp6HXJapaQfzodEHf7r3soTBH+R15Vl5Y+R1UmbEOjf9XXF7XcZ0RXrxHQZnqEjTZeh3KdMHQ1Xd6gtYFj/DQ9T7ufh6NdRhOlZCoDoYdn2Sg/51wHu3cMsiTZvTWfdMIDustZDdbzw3peuFlEi+xTM95TMHv8XRPBJicc1rHAEjKuG6vY56UdtKXAQYVBaoMorOPrlwobTlPFTx38jVmVZWICXjDgAbZI4XCp5vUfoFC6al2t9BhDeoZK1DCm9xJQ400IWtzbev1T3eVQjZTXxAERWMAAKND+IEC7gBRBQAHEOQAGJFNCCv4HfgkSOcehtfYBpy0f6mI6EPpghxfLVys98JNknWyYACgrZ5p4P4pZlo92VUin9gnKwFNR/g7K/zlVlp+sU/LZYk6dDIuo7T+pfB3HGtKCqUqIybA/8C97FtgzoPYFjhcJPSLVP2/mZJAGAFk+n+9gOYlnIiszciOo4X5GSwPiF+OejJbWiIZLXk032aR3aXoAH1uf4UcRhe7OZuhPtqMbqGarp2aVvzraY1kgZC+wU/FpC4x0Tzs6/rr1TD2VE9ggodoaSLQLKN429LVpjYwKQISh8ryUz02XDg0m7l2rXzer1VGy5EfKI5UL7Pjq0W7XaYaSD3YeGx8EXr6tHE6XqmEKVzjfjnRxzLPdBSzt3UOexyPvT8SUY3aC7xeYHVEUCIMgLgoPjvpKpJQKBr5pEIK5uzk9gAAcRs6nAsi24C5/rFOI/ESDo+PpgemydM/NUX6N48MTJq9lgUUExiAFUGy4tsBTW0ULTYvgU3yBxGE9Bv7aLtr5a2h0In6+1VY+dsxXebZOzA27WUNLu4LZR8n+9cq5bluaJ5qldPr5BM1QzMesmSo4GUtQvhxKMPOMoi2BLTMltPyyVGsNAFOEKceHCeHEfg5yKP9eCIV2bJWVbuITCV67mmgQM3NQ/cOnOLZM1EATJdI+joViYYWk6Dxrzb2F+NrVQYlvYI0plrCvqDs2GHvjaA9VdLSL7d8cBFq+N2lw5owotFCXqHHXPK3axvgVSAxCTHV+b05LH3c2TsrH2MQAMVsovjKn2au81bEFyJMUawmOQc2FKGJFf/ewedsfLFdq11bWZKE8Rc8axoll+VmZqHDY/o1Jqny+D3DqtzC8YXyqWyCz3E5ikId03nLfSkCpI4kDTHMcvU4k/qgfO8lYkTbLolgBXzUZ6Itu8BDqkUAi3i/vOLvszVDSO00N0fkErPgcwJs7S4SbdVTzP+J9hAyiBcnBKu5bMtUmbdNU0x1afI8gZMxo1t/Bwr4vbTl9uJMUVL1Btsg5aWyup36L5h9p9iKE5j2xjAxtCN7PQgE2oaMopTaNg1CCH/fjVp9aD3eT8x1ehA6gDV2fel6F3VvZBQvd3GaJ+vPGcKCiKPo78zvhXqJAWq0tNFeEoT8pnt8cfOUFpskAKIN/Gd2Jo04cuxkPxnG4TIi07L3hv/EHZu/5LLjk7N11Q1hB4UfGKyJWff5VYaW7JcCKx4wkA4XZqRK8c19M2zp0kxhdPL1utWoT9271FhXKqEFYoOhoiZ95GZyC6teKE8vg+Gl910jJ+KqHJDZukr+V2kpiAq9ZylJFkCAGY6bYJptjhHdqW+A+OV3XC3bRCndX6oAo0TLgQMtABEGAAYQ1AAb4jAHfEd+IBIEU3AdLChPkreytjyVL9UQ9jFGOQ9onsbfLMB4bRURgY/6QEmThKJjXCvS5WAJrwzeJuqckDMUpdoSRALNAD/FqYG3Z5jNYKQ0R0o/egN6PKIs9XOG2g+GPeP9ICESec9kuOsdlhUJyQXJRb2ixGYLJMSeuYw6BlDiGL4CmQGkwZ694gHITxxwpuWs3rXesvtLe9iltPh1CDt8EME8HSPLjPGe/UqD+y1Os8VIZriehogpAizdGHQa6GVmklJPsWP5K84KZ8A/HERTu0iT01+kF3Cq8FKo6FdKI9Yupq9Hs22HdLSkbvBmuB2W8JKIYfvrt39JxPUHuhkRYFqDXhBaAU2P+DnhBweoG0pjiSyub17s6sWCTc0VUiRlBWrkcHZh8OhkOyFCH+Ph1geTJG80vjc4jqLsB+xaQz18LM0sdmLTrOrQm9Ag8SMoIHBkBDIQeW/4FoorRFSz/oRN8A3m53VZuObcPH46dlqYi/yZ2qWrsfg8yIOctKwKVx+s1ukTEXCf5gQRQtovWvgaCthBignH5eQcPdPqV/cJEStSFSBm1Z3msR5Jw1/opCeoOwCnRcDOKRtTOhg0A+cmzIoFl2+IMr1VYXfBUTF5WH3YpuymwhT4ZNvvAsDF8Py6ZXh3x4yGw4/ajb9V1i+1i/GWT7da6Ch4N73Ryz8eoRuDOyaJ87zUnlQscpAl+SLgDoC1h6ACE6TxRNxR/EFkSQDrVi7yg0G31DI44WN/9NvmDe7aPM7cVvhH20Tb9RpU4PSgFAHJN218/mEwUW+2RAA7fCpIIuDkYYFygdGjA8HqdiSKBPZHNYSc508COhve8H82AHgJJJSHB0poArehAS3H4h9b0WR7wDkkVRd7hi7wVg1CtrYtVQ1AvrrJgY31Mgsd6RJhKLnrQ41VSOrYsStjqjFLLEXg6NAgFT6u0m59pdry9iIwcIIwrZnCK7I0IvOsu6ZcOreG+yBI6LTbdTDzxq4ZK2a7tJbdivYuJRkNeTDkjT6A+cTsyfItDc3j7kaAdecY1JtUG0KnIjgfnYfA6GJA3iCkXHKYoi3lmZNuYci09+GVQi8cVo9WSaEO89PV5dkofQXCF3dzn5buConKP73pfV6QlD5ap5SxMAdIMFUBc6o2fp70D0M4kuygETGsSVlENRBRssLh9k+L5sLt75mbO5dWKXoKIdrEOAV5um10gL8xEZo1V6tqYCkJJifUeuNXUSs/kI6LrL2hZI8qxeXg3jmbbZSRFjwHOAswUCMUJAwxaPjrlfxcpyMQVXNk/Wzlz7azYbePJXknova6kC/3276yBnuNvL3kVs/yCxwJvRfgpVnlW+fKK4FDFFbkFXnM6rQEuOjbH5Rt3I2xpTGXmTFgIjUx/dex3gqc1eCLi9obI6m3XPHr3hrCaE3aqcooDjdRDlRviuykWvLSDWAmQWp8e1G40UmQjo4AXqIlnpaeYp6OTEH2MJ2uIQ743qsyKT5tLtZ2ljdfi969DHMbp70KvyZEExCJs4vVdAoLCOwxQI+15lq03rFX7r5/ppB0AdswpCGvkkVn6EOgs401rS74umUsZBn1eSVKz0Aduuv4f9c0HrHc8x/HcqS/crfGsDAAo0PpgQNrAPEHAAcQ6BRv0MDeJrEbLVyJzHzgN1ImyECqDX2G0umtWlKAiwhZoWU7eLNXAeaLC9+XLVLA75HqPI209RWM3imZgNl5jgStVWRLmG95f3CI2NBN1u89dilxnEoFzCGX6auRsBMYO3XHQUsnTZ7itdErGSC+XQjZtga9VuaaS5x3VT3prTIOPYbMGTVUhO32WZY+ZxmGDAsv7BHh7SHVGU8XZDQUGi3DCoJGrAqx+2Mg2kdDd4J+Oa1VRaVGHoj/r9p9suyQmev2hI+kVWxGeDrn2LLOYxqSNFvRf+9AER4Pie9l+AMNg/Ch714USJ+iLW/RMKKdCcojMM6Q+4wjuL1tAlaMI2JfGMcNYSyVcihiEIyB2E60fA8JjE4t6ecB8vzedW7WNR7H+ZJBv8r9cJ/jIeRvvOabcBqFwVEwuaXpg8H7Z9hHWEmqt/91Y5i1SHZ+/bR/1x6k9WJSJHfHY/SgOC5XhZFt150c+NKi1Yz7bjoCKxEAk5Vf3asPNZb12CZ85ur3UOHgAkFaS3oi1WRzn0x+bTbsciWYGs5Wh5+dXidsfp0slZUuxjAuJIKxMVo1vd/2eAagT7zwKsCdo+zgT57d1IuA73G2uSCmU9Xd+GQpx5Jw6NCgFFJ+6y1iqo3bS0q5FXC4+A9hUgYtMZqE7/yqEjnYwAMqMwz8jCbPJWT253PFMaPkic3DZzBn1U2ogl5xZ1estVbSMVhESrI+AUCv2ojdD2TZd9x/7WvmHR3dA8VKtWKGQUosIZ+Nwx9VQTsL0b6PPc0racbEmzQ17ylw4C0gxpFX0WR73/VROU2Jcbz3FVewe/5xJ+H+FcQSSLv+l+95h819X5AdX+T1M0jBi1FCZ2xDHgKU6mmD4/NJfe6pZ2KVnDq8pechxN/qSjAyLDkvxqFmrBaBv1ikHyYCjs3IQ0BR+QK/Olckm7OyLKlOaH995fTunc2xRV+7Z3DrnyIEO2xrtGxeERnWZv4il+B1H50vjaOWgVOIcyCRGBssTdHW/AfnRvFBMLWbAmTA+SxgDUjP4fnqBo2YZmVaad08PnfRrBQujt984q2c6tZ+Ls1ZxIh3q3kgdDL+CWNHbgd4TDK2mh6nS3Dc78B8JcZSyIH24tA00ECKXyhQVjGMTBOhnYVzxUTTduMkZU0crz6XxVws2MBON5luBe+eOfDTSmp+Qroyy0gBs/leQ5dqvqINPP6nlLXoR0D3YCaCOxwdvU+MjQumkJ0dFWoHNPHYs3YdiQfu57JLs88/BxfHWWonflpADu+D19/xdvo+dARQh+i0te4jhLd+DnQ5KC3ULnhkaLzC78IZh54uuACjR8aBA6oA0QcABxDEABzD66NwmPjSYT63nqbLixwywXUCA+4L7wQRxlra/DyYvIT7c1lx2qzBmEq0wBRkMIgXwX8PE6Se+1D37llgXVtx2DgCWKEZu9bXMKzd2P5O0y3+3APusHAZ0aM8wJdpYnSxqvtRirAzr1cTgNtF3mwRP6jQ2z2n+6ywV6zB93MEUwtQHh7YpsOOQWHXxmnVMqurbl2OisCV6T6Gp1X9OAWOX5Smy/HdMCkwYdTt0aA6JVEEjQen+RLVt/KZ9pAgUBVbww3Sz9f/j3Z47MYFeD1i6IN2RemQSQssIpy6nGQxKmvV5NhXm15sNbOCIUJDWozPnxko1qprm5tdS4vc1B03vI/Z/bV5/VxSghrL6mWa/jsucP46q1I7o8RjUEgC0ZxxPvjJfSUTzaOQogfTp0fmkFFwTLA5wwm2+4115aFYBusaq3PzRbQebOy+eYe9Uj7WtztTkRdlIAQZPAyoAsYKISS3+douKxVQX5wG1QanuaMT4lh5Ms5u/Oa09mD8V+T8ZVt9G4+eoQgTZkx4kmVGzwbyRu1aODHsKGQiSzhsOA3blbMGBSjIkIAT2vDVPXHLmGPUbFgz8J39b1fNFVsPXWIOg6+8tEMhbuCpDuuFZlTd41CvPMRzJSymkSXMy8TCrji4gYnv6n4+PwFc2dr8mxeTD7h2knC0TyIpgY0TDoGjQMmdTqFz/qM1geVks+xUS107ldEFUgzewqWSQAU/X3WIwWAOpdUXQTx+6tXg1iOuqR2b+12ZjJRC+JwJLrSqHY/SJs0Brbg3cVhYgO7IG/OqPt0zMa7NhutT1jwBvUl8xbvAPguAo3PBaO0KuHGSmDPeZzZTvVXDiyg5lz9dplxcEBZfoFvDj7RtqhvSCA2pnGkJ+4ZZkDK6E4pZFTBSlYWpRkWF7ulS0bOkggfQ8czuuxT0HiE2JLXn6GqF4adit64XXhn2abcWCYKFWQn3t/Rxm3Axr9rCrg5fI/3qfkAPQMI5col0REo6q+gTUH0xCEHTwFIpyUngipawl8JsKJOP/7ipYoY4rcErE6YxPiafvbKXN1vFN0ZLoEC837QusMoKgv0v7kMcpbRK0P93Mi5c5fGJpQpw3SEAOFoLt9FtvSHGS/ny6HnmLDa8RM0J+nAbdrJI7aFbMIOPV7x/7mz11m0q8hwOy4sj0/BNI+EVDLFA8GWz85Zuo187JjnIrKOrBIYITX9b0tysBu8/ui8Z1w/qbOp6kAQ+Tz/7yj40RjS8R2zB9+NOYwMO2ce9EI9zRIiPsvYmei97Ifjj/0P5tZTNTOVknUYfB25jrYbRgeLNdQm/wCJTgcYzEdBUvTR5irlmvIOuGq3zJdY3YHOk4HMaDQwb+MlkbKAYIpyR4F2ILX5l8w60mLTZ5ZlVXa/Z+c7ZuHVF4RnY7SWulItQPgNxMw1YTZNYu2YH6M99M2cnLWzNhnnGFvrrSRg3/1Vqy7tGY83YwX0NHLTj+6mAfVAeT1ZbaRoGn0JZT/52LTKDA3zVdRCa3BLPIxRcWC0FV5bPKy8/ggaz+qh3zpafD+j/0nWx6QxON7rqPthlRZyE4JvCCpLTy0AGj9Z0UKD8BN2+nqydAqAYiETaxNr6NgnIfLnONsWLbPrgseRfz19sBQbJ9WCMZf2bgx/ZbTNJ9m8BkAGpkG7OponGWwfl3vwt31uWAwhSrBcpx3BEELtlXaTOwFuR72qhc2YPW/2m5z7C/5bPVfJ+qzTpB7V5cOFJovqV3BYc42pjaCih34iNfCEgu/uJqEcqnp6f9P3/qAY9JKb1C0e0v2Dv+nMHrEIQnyPm7HAeB2QITmGaAjUQ5/0J/O/GUN6TGW17lxrV/iyRVqHUuIHMM28uAfvFRD4OIVMs3G4xA2Cd+FbIoTLZEI0K7m3kLw48xVBtx5SIgHGSYAxDE7EHltCKUk7kgeKpMY5hhm5ysuqfjKYg4gNLiS9145ng64SXIiXoI91OPMMGpX22hSlBVausWKrnxhXLVkcjc8JBXsIAEjTeuH+6uliDmTtB17jMGJItGCiHqdwP7lxYavMzaZ0ZG1d8w271HYNC8S46gtDYzuyRfsS8lgn8sRQZ4/DsZPt0B+kZ7zk/qokR6JtDiHIex549jJxVKCrPpDDUXDgXllAv70w0kH/aTgZK2TQxZoTf/p406A+U6CZQb58qbBig7phMC3gvRFvK9o89q9NCdZQmSwjNTlC4VBZuT6wiYZVwzTPuHtXt8B2eM5e9+NaH1eNX6LOaSSO+/L1GVvA9kcfFfjAzBqGSelygEqZnOr7tcJ2AhCMezSwD1srhSBc9S0AXyAD2HTNGwr4ZYAF2/irValK0vnV3teki0RdFZ3Pq3I/WXBNSa6wpHp9cQMazj3cj6cKGpGYeun9YwDDmeHYe8tBgJX/DDIF9guU/LXsQfGraCkS3bC9klB9HAyEnJeSpd1PFVf8OQ2dWUlPo0eP84WDNjpBFS0fc8tS5d3rAiNep8VqZMPkmEUMc+dzgZBectz65HOHghyxr0KvogcFm7l6UNnXcGxqnHeYHakX3inhXaqNvx0vwPjMdNFCf+WvqWAYhSVU1wuJQ1+/0JELRMtjhKiAdBxX3w2Ir/MKHsnF8Hmo3o9dXgupVr6tgYy9IBDAARbUAH0O2dQEAAAAAAGPN54ILuKNg1oEAAIDQVQCdASqAAIAAAAcIhYWIhYSIAoIAUYP1b/ePAP8X+O/u39p/cP++fEN79/3fcJ8o/N/+f6A/xz7N/l/7j+QfsR/oPAP8c/R/9v6gv4//Lv8z/dfQI9i/3v+Q7hXIv6P/2/7x/ZfcF9dPm3/B/vP+W/bP20fQP+H/e/UH8s/nv+5/svwA/yD+X/6z+2em39x/8n9y8g35z/Vf+p/g/gB/kv9G/5390/zf7t/Rr+rf9D+6f6L96/YL+V/0//k/3f/Mft99gX8o/oX/E/uv+U/br5c//F7PP19/93ue/rT/6vz/+roIDVb35mBnueHg/CyiPYvV4wV6PHo+afORNIURwyyd1L4sWJezw4fydaa8wFI3uoUvFN7kqYJsz/7v5SnABbohi11tw4pFuHFJO1FUIJ0DXP3d2fiO6nWg6BGsZ48Krlyfa6pKxdYNg+el1f6Z/vNQKyscKWfVnyxJ05PUnY6rnTtfy4SgZFE7jr/6T6q7lQjeZPRviJh+GNk2UNqXxO7w/Q2XauXrB62NIsxi6xPVDxZ3o/glcT6NclGq9MXQMp58w1H7f9zk1q2nMMU4e0ELgvb+kWB1nML9AnlX0FnPZ1IaVQTx+PEMNb1ioXOR3QGnHGh8s565GjcHqP9tVH6SeiGrYH/gU5SjxCwuzHfD/DlvCuB2YLM5V0nWOccVbr7k97eFth1mf8Z1fmuhsijpjAcunQXuZdiagGYrpO/ZGzUBRV+5beOhF8Z2HtsCTdHpttz5rQFMGtDGkfrHSg2T/txPF0OJ4b9kmTPayQ8lI5gZpI8biywI7H4yguSH0Hy4dSRcfKqmmjnXdp7m6nCYhcB+WyheemIkMrk42z/NDKEFFtY3hN2kTwyZyLZwPA4GAxFv0q+lFZoeEj/xv7KCUFcFiecSykZxGRC4PVXypdf7pQD5WwAZoF91PGGmyQqMVzgHXHaiZ6/qEA9ocmlt9Si1lJ+76gZfTr0ReAB6mwCUYAV7dgFABVx1i6wMMVGeGlDMjrx8UV8kOzRrClZvCVZ3R3a48xxwnVh2KEmFkrEcAluQGOr98wvnUvMrQ/xwhcq9Y9GYMCfhjqSQJKEMiDRDZ/C5hQIVyPDAkZh2NbUclzcq2szOeTOnB8r+auWHF2qIvAG9mrn1bQVPYccDvTKB6Z+rd5Bp5/+/g/6ONN7eoU2WFN+QgQeOkqUPMX7hbhSWXxZVwwW+FarBtP9l0Bwbn/BmOQeLf8IqcYG1EFsI0trX9ZtmP/27JxJNg5g4SVF7HXc0Rm3vSXS+ZCfsJHheET+LDKMankxH3+7MGBT1yXgXk/Z697aMquqhb37VNZAgUOueFXNEXYIazBwmmysZnZwC0zquYOJiGIxwMFwftPVeNLy9GkGAJB8DMeXkhqRmS9t3VINC+0JOOQ2vSQpioSAj/PCDI421EUAnC11ZRACJM+2yAoeISQ4TB4GZPEc7R+GqC337uh+eCouKXeQe4wSLMfsrwUbsRmLmvjMcTBYH8CUiiQViCw3v8Vddns9X2BniuMSTBiGTBSWqZsEaAVSSmlI/cdr1B8EOR3ylzncbDcK0gtGITstGv8eQv+idBOqqGHh/5Z8HkR9j4yXgPkcEW22y7mnaY36CjL1DpE/WnRJ2f6p4BD8QPqVmB21TjSIOyLynuJqXpg4WgeFiBOKzrByuaO6I9cnIAgeSEjDRmfbD5otWK3aMgNOyq0Xv7qpKgpllH7q7+YiPJtQAtSw9wu/GY/KJOdQP8tfLoFjD+I3vNpVR6X+47I5wPTh7VUpmDCkY/f9fKR/ryi0IFq1JcGN4UWSN6ku9guZZQa147qEK4VNQiNyDHumy65LJORUKAgc+Z7/zMv4B3VLeZazRXBHQL1pF7IfpM/895y6nP1MH8zHvtq7VQZ6OLD3iJvk86PzP8Sp6fyQlLtE3WWGnS99yFziH+d4N1T4IlNIMIjkXcd8RKZQbzBSXJOCVVXPFgqwV2EFMEvIqXRXixJxgOuYswG69vWBINvo6DO0Q7Dfd2Ej49Bo9nmCWIfeFZuFxKbWmSJrC1GXOXVbT53Bk9lhJpgnuemreedKmz75S1NDCB+9SWuK7wVJDYzYnB9Zg7ZcbpsvPDnyDohM4uCe7NdTnhgsYyelbKumFcjP2yRe/HYu86Nb4yavzZbQXDGzOcvigfD2t1C39H7q3cuD4xJGXhqCxpPmrOzkSYDarwFTSp9pMNGQP1YHcgwGh94EKHyTXHA86B5UZ1N2o4uOqwQRI21Ml6rCs1CsNV83Mb/luxOKOGL0aUTnt72Oi1fPboXrLqM7eAOZXfnz99EHdbKCHh0Dbt96pcT0dpKzn0ePgD9qEAIiBUkVyRFV0YTwOGHymBS9Dlk1m5K+m7i3d0DiHdOnmJ7CfJuNd/axUqRyCDTzFJocGMKUWAqZHJOtLBWMq3tC1AhaMEZMdAsg0294fVEfBijPwGTyfj5c8bY0TqEBdOwI2Iq8pMbfKwFCnlYClhYtyMz9FfQx5PiKyr6BMJBT+Qh96TB2zFx1mXXa8AHgJOkEUnYRKNLqlwRIRIc6yWMzhtm0bwkkIRslgJvidboDpADNsmXPjJiy10TR4y6AnIwH8f3kbOg3OORVLU/d4VBsYBoTB3Tcdyvrk4wY7hwBPcuJOjUIaw5NUhrtac6zWqRsunLcHNt8nJe1aAn2Si1EH7w4agrMXWk4mD5if38C8nBmw38cfVy5nb7Xlv5WAX3TcTLm8pV3JYj/zoaDI/urUBLggQlRDH2KOr7DpzeE3wjCeyCKC9U8kuJ6tZimlL08mhGA8yQmgtB2MVJ8wwnphXCTuTlT1BIfE9JnTl1KmvxCWp2DOj0m6GOyp3xsRgJB8WFV3iQoChxiF3K/+Ia8d2oCToc3e74ZaKC8Lt8/ml6pydwuuGAObX/3KJG0njphzd3smNl9lIGrwtPGJKBs9WO5HbmUrf3J1xnp87HmyIehv31bcvBwj5mpjprIbmzoUfr/4MhxauGlLcdcQRzons0P+qLFQf93mDhf3WO14evI+9mGXrnXtjc3M4eRgN2f4uOsMiZC11m0mDDGowl2Xc4KrtHdpKj6nWtY+xN41gHjU/zFUNONcJksfLZ8m1OVfqwhlk+pLeY65FLn+XxdXtNPcLFPN2qzMk3saaedmMewz6sWH13SUeaOvc64gOId65wm9TjuH+VZNopUwWIlphUNN6B4YJ5/vxVvJPKAD0SN7pSbYQ4vliubqIgmKlJQXRVtOUsIh2VcUYENCcDcNDTBTikUCj6hKQQCjtiAcuVhtOFNh5EZ+434bEcOPbW4JbQr4wFdh/yPlgGwUZ8YZBri9C2I+DPNe32TpE1pq2p4Us6iJx0CXzH2ZMSS0OTrbM0ZTJ63W394DHYfmOVtG6UBIhvc1L5OKVkr6seW29HMPiAOspRTAj4Ho+oqS8plvX8ttcFTOSLugM1pO9n4iY6IKPsj9s7q6IrCIlEbxVvPDXuyarA9fm6zysszdxVvbG/kQ5SdGaZ1pIBPrMNeYa8sNU0DOe7SV4N8Ox/sTyQh6/Sstn/u2ScnIc2HYgmapF22ML2RJ/l5wFP6uAixXxlZCVa/UDNi+tu0A7R2r+cigsoQcslJ5AC2UVLdgN90m33jQKhzsl7KIOB9EBRdwEawP/P6816g0LH8sqYyqsiVH2mAsBfiexwAQNoqd8Q2D4IeBrGCMBWJmmsUjZvx3Svw6bONeEWebu7lQnU8rviojcdCR9IxJ9hyMp8WPURh7atWoj0saA7f6q48VlOEJSoO/ylrwgCO29AzieNsH3yCq5xB6nq6Y+kSHl6MH53NxsSQRon1q28x8xC09LVRFkszc5UyFHtcXEXZ0nPFW6592ZWXpXFIGRvJqWE9S3EovfczSkSiRzvk3+2a1HWA8VoRalLBfwsVx3s/UuVbDDSdTd9vIl1W+lmOyvP4gUNKnNMAw3JaaSSJ+Sn9LcTGsdPskeLFwqpShemlTMBX3MvQpxiZalZ0998oA8L25lDaYFIRRgM9FWBkQ2pFO8ao06RwP0UEP48Xv5B9fZgQ0uVE1qvAsRBPFauOUK1B8w/olK3rKVqUHdL5gIlwhdSZ/BOUzwEvvAb7RtdKG76RBcfZrgIsU4sWu4MbOvOGMe4r8CGf65uNJy9IAfSj32Gv0K4MjDpKn6Eg8Yf3vNOgtyCCZ3z/9wxNXRxS5rXDxF0PS/aLvg/K71Yvh2lrkRnGlETRyzpZmL8yxvvaWOhxrJV0Zrt4YJ1XvodTZcUljgFDPojYoJGPt+FxpNOOFu3cB0GhE3SicOsT5iJoqimB6UpFGD3rXLT6KQaj7SsWfOm2YWhkAkLG09Iw4Sxb8G0gpLNXTYZd/r/Fnl+z/D9bhNmrDvDcIyiDFdoEJzsPgKyw1P8WIXuHVpYxHtX+ENE87jXpmcWIpG+34j0g+Fs9dojCVXebdr3hWYLqyC0MORD3QRB2akBvs5Dzdz/j1agiI91QDFVsDw9l1DMxb4yBGIarmWtaELLj0YCRlSBo3Q8OSlHnEz1ow+NTiho4R76BGD3vZLv2R1ZEOtq6rXjQU/elo17fQa52bPK3gCuf8ndjJ4U3Yq0DiawuxC47RThIO1ZLDpY9cUwG8fY3yana4CijOIsjIj3ZaVWbnBdbSU72H9p/bxSwDI6DNcRvJy/Acsm+cHXo5K592T4e3efcRxMPjTp8wCZEQgyjlgIlrBZ88rVbkURPzgxHl/C7ZRjmoU3ZRCcM/lDlNqO0l4z1T9FdYnWqVoBEkspE/FCqR8q43pde1cCUE0C8t6Ng5kAsOkoYL1MsuDcspG3rKPxFkHxxYwmk/nsLzCuv+Rsds/WdKPI36fSCjPknz0WCawnu78KUN2tU7asV+4ugs6//8F0QNa5NR/6kOoGNsavzS3CYyfoR5cZ6TG8emLOgT+fcz3UfDngU27W3YSktgtyO/gnPAGSKodMnaHvinHh2rPKBIpxUHaEIt6/27IF0273fehfguAhqGtYqnzLm5lfgMPU3DwDWK4cadvOQVuu1Xio1Nj9RIjt2+baDZxMdo0vbRlklI294Z/pjkxmJMDrK4mpjd9sBmNvji5Zh4t4EI0qtbin0sydRrr3hH65kAD17nXqwT4KNLz2EYoAAwHOdT9e/4A/lJlHaxOEHmJEQJuu5amStTucs8zToST8VhRKvnOj2gjKZx+mI1Ft3r3QfpA2qHxrNu670DRwar9F2xLYBCvNNUV3iBB5DoRsfyV+0oW/w/xymkXVOaDLqr5XaixE2OvTQYLNlHplUHaG3M9Ym2hVb1rUOKl96Vrb7nIUiblV808A9xXD+29bDx0eKPDKXAyaeqU23GN57Mr+uiJhawD/t7uxO4j+i4dKVkZLaVuroSVzk5AboFYrP8TH0v5LF22dbAQeXGjqirbe00cHNFkmwn3yha+xE8jLYbAZHQ9w6s9Gtdlv6C4OBql5t4pQ0x2LifxbjzZk2HAvxH0frP01VEdWlSS6SQJjpi9YvllG0lg3QcDAUObyx3pVLqOn6FTyAzN/OUKC7hOLJzSJwkOs3UKcF3qh8ii6lPhT1Ob/sJLIlWaoP3SZpAJRTyP2xZFKZKIYqhDyxAHnVjN2zR6TC04mDadapV6wLBlAme2pCLJKmX6LrBaT/IkpGJuYRrpEDZ/k1duc8zZ7/tYpAHGys2XNkD+zVF98iHr8BlQD3OTmbl/HXNiscVqOnXqnyp8Gm8SvQ2yKuJ7g6a9Z8nIe9xaCONMq9RmZf/SOvutLx3weeP+tDDZeuCiKCGmJuO6XgGz5JxdsBjRWFv/UKZyKeMGoesPipsZ/mLw5JNHwU8bM2duZTTrxHntEyf6it1Tknc+Mp4zZNixaislcLjuOua4WQhtcYgrJMGn9Ds5JCF1e00jp5EdXWJ8KzAYV+a7MJQUbkmZ7RK/ehqpFRVvUZ91udtKEzkbA3jty6dLMf6hzjlRbVyUuSCvfB52WX/uumEaEqFOwlrKoFXjYTL8nKbNXyc7hRzOtCvSqFEIkpSXMeM1iY/0P0k0LYiKSiw/jbC3/IHTpVHWmHrEJfyMhO4LjVQffBnehPTYDUmpF7cCBD7Sa3Do0h/EMqwIWNme2xGyU0zGbmLZGBDwYNL9nJ8fI+KBFjipsZjawWFhx2T7CeFqvFXRRnaHAmVvwFqTXxVylUcq0s18aDbXZzM05ulKsYIUSdi1bsXRgxz0U1syuH+zkZGutaqGozO/fSWRZNjvCc618xMJuuHx0Q4hqBt+eE91YTYeL6IS+BI3RUCR8yHThA37IzTUCRhv+u9bgkElHIcbpc/CQjmtO4xztiPXgiNzl9H36QCfCzuGGPuUsfyQUWu+zM6XIQ9GsjU3oTgGK8xDi2vRiOCTt4AGW+m9i9/6y4pXYhQlobk2GlDERVdT1VMTEuxrsd7WkrqDEV3PPGwQyxitinMq4Tvzp70U8I21W861LlcPYP5BaZHnhjDcNp8QldFVPSp445ZuNLnv5VuIkK6sYiLpO7fakKQYf8FWLFp7N/C5WnbX0IPKrN6FwZ7NB700yF8GFLkj/zG9cmzAkhVMbB3aIIC7Jc3+7ycajI9jrOmafAa5VZC7iJr/QhTO5yQoeB8FcghFAVG3b8PsjuTwrAqkoMtpDFjCdmMsSq7UJLgB1nfyXRxiEjL3w76c1ACkXvSa0AcrDecd+PkFpOjvEpWIsj+lGnCIUXae3Q222uVy98lSV3kfIhRl9mcGXdwz0VMcVGS0u4Q4Ht5jXjhFcb351zLm5DiM7l83VY6ZgrmMPMNCu5mgS4+8Cd3b+4FHqpto77HYApV2ko1+xudN6pMEImtnQda77wVV65N/nw69fJbU3Ti+W/C1dpwUdBHhL4GlzYCDK53IkKJK6o+xICu7dfnTSyvpVJNT2gp3QiCh5UbYABf9fkxblxGN5DK+h8gLwWgFQwoe2qwtS+pV8qKRCs7AwBevkKJnHbQzXBw8k7mp3F5B+ney/bitSxiGXEvcRZD2k74hOT1i58tI1iNzJ8KTvNtGZVOfYbC0AS/JWL+ROSCSlnLirtEReyguU05XHTJpLOz1RX5pyINg8ZpVxYR0T2XHpGblETGHvo13Y18MpUx3RyPkXrxtXCbALIU1/OM2ifEiuUhETb9mMjuEtuiH2ReEIKFGBtA09QHoZ09zXTYb+ngTVF+qT/GdM7OyQWxZY+sU6XEynF9QrGZ3mHi9Mi6DRY5cuuyQ+v1GteA7cGgZMrbzojZHoRuiIW8rAjv0KuNomAo2i9Y+59VJdGDVUBJ0T2Gc60XktcHOVofgfmMVSIGVQj9GIh5RPZJD/anL0y/3FQLtd/BcXZadZBfbT6cI6eC5NC/t/oEUMTwhfi58HEZUjLj9KqVTzFpZySw/ZMoMwnTP4pJR9weONlim+8YuHgKFmscbGyuqd6VH6q65FocOrfzdYy7zL1t40SM7bN8D7xADVnngIXkhT3LwGeDCEHQN6XV+V3fnFN+VHyLqQC9lTsv3ljC8NXJX/hWaw+IGTSwdWqmuzp7R7Sh/2DIQrMsA4QlR+ANttuefOEAlTTwzYvG1+6TqHv3akOeFd4y1hrn8fAG3EykrVJhvDjcw6K/gF4z2HM+mpwdasBKYN5iQwcvIt9y2BvH9Yl1eTrNOUDQrUAQlceaYub/9rGEAz+N5s2noSU2aCenBAkz2DKF2IHwiNgwTP4t3idzkq9J1sUv7nu3XU7oc8LS3144ChuMTjBAivP0m9oMDGvM6f2y4GYa5OkaaNd1zpHadLT0ZvJyOKuXt2Yn/B+AzqdfPHMmHRzU9gpiaGkQPUcNNjDk910wAdhFEcCkiyxpB0dtAo3OX1tIxpPoIzb7D3QhXb5tCgAzrg4Rc7MQVhCeH1nBeQW+V+hosBsaIznMN1oX4gGtEbWKAG40Peiq3PWZOk8jOsSh577eH4IZvy6QQPYhB7c941LxYJag06Bfs0+7EWNPhZoALb3LNpk2oBqZDMFZO9gZ3AQfDtzcwKKGSgpXBLwu3fLoWxQ0yeiI0d+LTWO4fqjqN/Hq0H6AKJJTdGL+2iEHUognT6MztQSzZxC5Q5AS6GXRze4s1xw5KmQEvgTRbiIOZpVPB6cH7AEQExf8xtbgLfQjaGkXNVWcLRIuXru1nmy6AfnJDe5X6QqnKtpyk92S5/oyEwAWiASfw/LGlptkl/vupptal4xEguQvd79eW0CLSWUXHF2uQE5LI6Wqc8UsCwXGr2jxZ8E8xRdrZnG1FuoaLHcw1RmQ3RMBsP9rWhSNwI7wUYHHGk4LOoKFBAy5qhE0aNcfSntY/+Cdeyo43YQd6Nn0y6c+Ft8TjukEx/TB//2DNDrr9Ja4KHU/GojMmf/fk7mlktprSGDuuA9iG9uCyLk9ncktCzoRsNpYbMWCVIeVB/V4DTppfM1bRCiMfMQyu9Sk13/jX585bSN6Z6f+Jmp2jyU3s4+DXy3xAj1LqVr8f+1RdJvxzeMznMUvGZS58aAOTy/P4DCPL3MX/vUnJbgzKkxQ0HnXlK9VeYKO5b9/96wF81ePu/bmSSyZFaQlOshp3AWBa9H7tmvX8TDsXTT4H2DCKdtzSIvml62KZLq3gp7Tg1ObEJ9NZ8TIQAg6Oc+zCwIahb75n35HSgcUo1XN2fAprysGvX1uIeqYNt/zo2WwyL4AZoTSCd/iK2i63xH52Mcgu8SlFtMxYiRU3kVOO+r3rfG1hOHRmbHmnzv792b50Vbei04gpUK0dOUk9LMM+Tcob13tOso0aWbM1nS/UFr8NSGO0gB3RcL0AVnb2mgFySNNXQq+DgDPubb0PiiF13rLLXW0xbW1iLcq2GVO9U8pnhP+fVba0UqHuj6og+HGG5EQzrVNSo0m51FfGa/CWxM3saCUntM2Bx1tR5pJmWd1W54fXyDdMVxg2Fd3djrUa1VTxqfOPcq1vKFAuVAYG+4DKRx//qMm+z5TgBHKSk4kOHPWbJ9+/AviImVgWBAoFFYN/fVU5p9njPsejWakMpSRK24B6Jg4HagAdIkrRJDlgHJeLds6BEk9uPYYljh8peLldrJFk8RnOwJNBUR9GOvXXAQK5VMOUat+HJ/dax9qlr9ZvL2j9aoHTddZDV249DutwaT0+NyEfD3IYDzMpFXrb0aCAEzDqkGEnn/9yr2Az88F6eLqPptHHLLtZEMyHATIISzye2mXauMKyXk/xMKoMPgeHUy0uFNCusqXs/GtEiuqbivwzMS2vQ1PCPdW8RGbLXyCHRnLjHcJfYwGWA8KA29c8Q/I6AKCe4/QVrzrnrTniVAxiTFm1hzhurFJvLrHBo4Z4bXLaGASGYv4KbAtj/Wij/j7hOhAwo1paI8/x8BolnyI+A6NmaT3btbCKWDKVqqNcdxWwUMphbGfDJqsvssXhzw4zrZrAOcK9IvGp/OQ6huNBZ1h5Otgot0g8Wqkm2sy1rvjT4rjl3haXX49Gjfc4DpNkR/3fGNM2GRVKsJ8hXCf45QDCEXpihC0OYz42ehVVawXyAhBGxy8KYhEBXG9SrdCcEvYzZ1pOXw4Z746SjExVmNdPJeVZnDxn6MNLkMJqeV3R/Y5nNW1CD8/IpOze0kmUbhsCDiRaOj+TQvQ/8IWf1mBnPMJOGthx/o3zGdBnMM4e1q6hDLme7NTIXOSq79JGLeSShf8daYbp4EGq0d6L+5d2JYEb0gW4njax74Uyuf3UYXEhVVYYOCFL9jus5SJnAfNmnOAFXNbzY6LVozz7PNq6YGlIjXRYSg4OK40EvI0I6ua7ROi1XNtRm1ey2GBH//+UQk83bfoXrVGR+uYXFtl8KFZvbTzlbP9QXftPMz92/ebsP5xqzHNetnt+ncTLYKlCwSpX2ZZp5dCyDg9YC3kUa893yGdoSiqvX10gPphlGFXDs1eSoubACdpjM4aMvy5AeTCxZuS/jDVWTTnQDCn3mPIrLH3zkUUo2uld65wBG8ixTutiLBgrWX4P301DKRv5/KXVwSEvqfN0ucQ2X149WR4SeGAUxKUHMl6Z/g7il/PJId6lYvBKWxTjXH0gc+LNcS7qZ81u1kaOGpurMdP2Ces+YDGG2/w1ZdPqLbbAWrkXLfr2e3nLBkT1dx5qH/oNh6K5KFH7jq4nC/7TBHqjg0rl/5UR/Wlpvn8p6sNKyTakfTf7e93d/Vz6wzZ/MDh+/L4Ls71S8M5R/VMDtwvkhzR2w9LeS65MTBosbVMN6IS4Qr9fKlceM6aNWkJ0nlZOKNE11paPyx7X/qVjtpiE3BqK/JFqKlg6s2rSEMyDiUb2grC4If7vIjcOARWqo2g5dCQaYvnEtsktKvFKIfkVH0M5izMD6i/U+YjuWHmE/ln9SXCsqekjtUn5WLIdwaO47nA8Mh6E78HdO75ri8M/1Co2Kcnjl09IXdvuJXhkmb26f/87/Q0fqPHt3UBj10im1KLR8Q0p4su3IJF3Vr/Fcue4R2IG2Fh+QzAaXK7MlwL945epPiIWxUhBEH4Q8psjAGN+hA+COvryGWFn0nSkkO9ovfmoBjns0y2FSbmcQFYJ+59O7ElOT6Xzs4gbPDvkeQzucrLKvmNQGXtNDwGzB/hy500V3797Vtjrb3Cn8wCftQY7sJ27giW3nJxgnbMyKu/hDuZHJObVLAx2xGeL6wwpGPhzqB5iAyz+lwDrDsN1omIsTiG3u8O5tj9DR+mHuApbFF+ra85lYtEtz8HWYVBkOfFVGKfSSeMYznpPVLPevRCb44i1ILRdItXD1FjIIH0+ncGP92VM3HAchQr30Jg8X6GAfQ+FhFojEDvjEDvJhbs82c4Tg+mVh0HEtudAQtDO1/KfGvoP+4V3lc1Yf+e45pSztc4T/rM/CCMBTIgNJZnjccZ9wNJh8VPCn3OltLMkFzXYyvqwfNyceMfs6ZtxE//Qa5jlYaRqQxiI2hNqnTnPQu9+GcgLtcYCBJtChSHv44UiilfEamJv0AzgKroY4RDA0TzbD3yaoGxhCqrXN8CrOJ2g6OgSKHR+xye4fv4p7tQlFA5Zt+UHh4XMZqDMXU/4MKJdNrDSm6aPQB1aPWWFaw2HcqayeRtWsYLC2etyrLPIIQsORZ9IXBDf4X8aEQE5GaNXFecaFKrKdrfa/ZnVnFesnav+cYH+h54TptCOvzG+0e/usgmC93qHKGl8vwCA4XAWGTqn11NoZnWlVICDBp4HY55pu6uqwjLHvvkAKNCn4EAPwCRBwAGENgAHg6qvYnyfNRkMAv83e+Nc1l//XuAGpLaeWBFqf6KgivVaaLGubk4QHR39gIfU9ioHS5KCphYagDt+bg0RcgcNlx20yyq6lNmNbbN94z0L68v9wM7Sb4Oj108BGnbF9rX8WO8lsCHRnU3C3IQwsiUHlIJQGHj1MC2x1euDPHoP+fD1FBIWMx7KJmDDK20UzFrXnQxVE9pd49IWncjZE+7ffySmIN9i8j6+pk8XNvraqSDTa/LjWuorRR6SLqLLOzPqvfalCW151incOPFjvoMZV6ReXdK2+GfEgfERRGhMWp5dazV86qDt6cCjy536PL5cIgw1u3jWjN74I2W3DM+AISHNXwKOfRuhb0dTNvXOFWHqMP0yNc/Ms416/Mg7csbPiR+o3Un7JTHIY6W9CkERB8GS+dZ93LgGj2tWv3+QAjPuagKtVLfxSfbtR/q0ps9E1lvNQbEFkLZWN7ErU+EDJFfxdskMi7CNFpVTILylyKp4RXU0ORZfNvrQv40cVuysnm60/1JwTUngcLnD7UtVOfIyyBHPbJE59IhEYAxAkCp00NCoHh835lKvdFN2ht+uMxK7rK4bo2vlgn/0AALGnaRtdf1BWBK8ZKBCrdWWeY8pOGk32eQY5sjIvn2popFdEZlJKxWBOvw5kr80ohrfbnOqt2uqnb66IP2GkwP+5AnnKyMo5S5PkKa7X+QN1cN4lNrSQyZUbWhh8YYcEhay+ndcC5fPGcaHO+1CYwlE2HPV+glrsiEnZAEKt3zD6TsGvOHP01A6pIRobW+gtwd/4rdZPIg7zk/3wlq1Im+JxYvXFMpM4tqIizo2l58pW5jgAPMUv9/5jN/yGjNCh3bQ8niOkGjBREnkCi0ip9oTmMGmYLgo0LYgQB9AHEHAAcQ5AAaj8A/8HaLpCIBQWE/sCf+d1IGuUjGJaZoAgGMJAQQut8+tvLNO9OQiWfofEmbd6QoacDK/ZQArOL0CXxuPkFGt8LhwFYnAvInzwfCrSIZ4YGtLPOajzJPxj2nIAmgR12Lv/v/33pnrJBcYGqzCp0eudqu8h89BM9paj3QaVWRwqkra+w6bQBIoet/f0kcCGRzhaXGErebA2KyGw8+T6qm0syPPfrSGmLA9WX5byD7j9YT9BWaqUOVt+wrWKHGX5wihBgevH12VvBHUMHgWBR5qKd8suS4foc6uif5JpP7+TkWet2zCC7VFmckYAGBFX73hw5j5n+sShSU81pPLovogllJyQM2sjL5jpYwjK/VpJ0ycp0ca7g7qt2ngD12IKz6bOaOQpPGocMP+W+tHMrjMD+upwkdTaSAv+KiUyKpw31cb9tadLeVgjRZ6dgGtZk0Wptgob8mPm+oQQw6KH3yLbtAFW13Hht+fyH6wVcjdnk9Wy0nnQfKA4p1U4jLr9LaS6/sjgk6bvRv8OvtDJstzcZ/onRtJFPmsAQpAgfv6bIzKm5W1Awl6PlgHuTEpc8akp0PJuLIDhLGYOiZIYXDzpLJapWKz/OJuGWB5fVLHYq0E4UuD9FDK4dPnlku2SsCwzguhG9Me6ron+LYOBEIbGyK6B2TLeScIBhWpUVpZsnVsQ0bFd0hrdbnslXK9Qj9HKwwVWhoJvWnSyEZz/wzVFI0OZ89BpeCWBkt9r1jnsCRhZnePTPhkanoSFhcIq9v7V6+k7IK2X8wmyecFeLn1nwyfgruo94v7KeuuI92tuoqhRt4Q/NKIGrCG6pPdPBs1mHL6HzX+80qJGEdP11PsUOp/ieT/G+eErde1CmLCGvWEGPkKTbESa3nzhcY2JIWra8t8Xfae7WMo12EDKHCd3ZIVMJh76ht8jY2pGveiC3+dcAJFv9TCx4iIcCjQpyBALwAsQUACBEAABs1Q7ATRigUFhP7AFnwoDuoK6dortjrRn+gQosCFaDmWCYOElRCSDkA/ugB6/1dRKsVrWwagNI3Xf/E6fyKMPTW5uunLgfdnpPVtroD4mwyvk5Gz0xHMDeicv6P/7AEPlUSavy5BGLz5HBx38h8AYmGpXYjXsT3Y5Oz98CsdV1hR9WPu4cc++qJ/VYM81SYH/qsSgjHOFII1K2mf/6/G7REN6fbJxfsWA3rwhVeykmhJa+n7mmNSPyPQ0u2RB6fXvX8jIyNWAQ23MbnynKKLPhOxfwsRw33Q8tyTbJdDVlUed1sEaOsGmdC4Zo/fVvEFaBhI9l4lKD7A8A2fVTo7wfUn9tJQL6WO57Prw53bCoKQZ9qxobEkZc/9ZOIduknhQfa4vT7P25zadaDRzZLXNy5Sx9hnwXD7Pzc8M9EsDpV4KQVktHedPfYLH85WHX9DXz8/diUnBeo2cg/9bdjTznUGTm6jPrs8OPDkyOQoohcy5S+AGdAHEAn0o8ToW4w8KeaVX7tklXwxoemyRkHr+hvu6KaU++Maf3NgpqpvlicJ5CW2D4uAu7FhxmglNYspwuFOBIGNrz92wbNERjgU1c+xX0YIi6e/d+vhkuWvYz7SfknGM/60FtPVF/VLYk8LBC30bvvd/GH+UNoORztTzs/Cg+oYAPthcKQy1o0Gtd2LK4XWcmSTsU86NJp85AVC3pP2HjeKlhQp3ymau8Q655Q1Vl7E+3lIp9y5E6DN+hopWuQw3zArjjxbUoAZxIGxTMkUWidFuBmcZ31oJYYrTyCAzzxb+rZDZIdhtbGGVmL8x97ShpxulX5kaj2eOXFnoaIXLlcz440Bqrag/QxHCV5a/Aba29MUdqj2NJJoLTAAKNDaIEA+gDRBgAHEOwAHdC+Fu+/AcMWGbM5uZBjoYtQ8wzmQdgDrWR5Xv4ku1uB7JbxZ0EIlN8TdAYtIk6XKrgKqi9DLMUEpq+mqeF91pJy8O3+QbPVJNChlkL+FAlU4aPjv1pv15Hf4IxbqDHLwd9AYqLESI2arliNrcphwGQ5O2bFVxyjHhZUA/MY6PK/w4VFXp7XHWOFTCDuly2HcH8BcV4dNf1yWIrzvhZlvwcTLNs8gFs8xwCsayEi5T3o1d+NculRYZL5rpS/1ACOOf4TbzqrMF/4ndxyswEubpMyyIROqjL8t79+OXOMvn9gcSwHpCvEpFMy9yMMUqRxaOfWxGoavVlMzKKj+yRFciH9jL1haHYxqwjUv6Ws4/YtTM+vIBrPNbOLSOOa844Ym8Muc9YEykQTAHBWZagOH8nme9o1IzNB28wIxu79jlgIfReQNj8353+D3qcSjoFMG7Ldyf22478dzYblG/pM64CW4xHsyLmnP8THEPdYkAKNTr2qek0WcG3wTBwPahKKUe0f2MJqxgHgmtIytzWFwquk6ibO9JJ4dYfHtwrjMUoW2kzNKny0ZVZ41uPJQHXvoc4hLow59E6dius2ZkWnc7uhjRx/BpXWzkNRw6S79l7Yg/iv3KX+iYPG6iNgckSHUtCvc9uOegnqmvMn4Kubi9a3lYMXscZMWlz3GJ01IAGp/ATbQo5KL9V3q8eOmwvLxQi730ZtlYqdLs0LNIth2fiUMt2W/V5c+OVSbLo9XiN6srPxzf/k8SY/SZBTxIzMhrgxiX76anUPD0H7FPGt1ndwFwgcq1rXDhDKZywD3QfafjPjkm7d36lbM8KOTcgCYtTGk56DKKG3YmnKMwrdwX8CvLawoPJkzuExgaQQzi8lJvU6BCqPMUTnOTu2C1D3b+OSnRB1hSeqfS5yewuzHWb9oXKNCiKtfsSAa5bfsCywhBn7b6fsr7/4xBUlWS1XkPWTyg/Vc1tg8xUnlo7dhaY9Wg6jQM2xTpwEPI11kmvnpBB3sC6BufFa0uPCflS0yUHgnzQJ31oJvnz2rJRReRf+Nt3+TNJZEtdOv9fPPqD7U9lleBtdYaIGJhbBJRj7d3/r17wqnMb6hRvmsqqlKCrHQSFjHWYrWjtRLBkUvnX0mEdYBxlpeKSF+eYAo0XTgQE5AJEHAAsQ3AAb03rDOHImRN13EqXwF/2CYHnJe72DviO/EBF1784C5FUJloVA2s51RBD4PsROTeUh8dz+d3ioAP4VPwx4IfnSpNkPFuCiFsDOxP/kfG/1GFETO/nkkK+eR8YNkMXaayB+lx5YfIl4CvqtpwBtZQnI9fqHFV69S/gEbmwbnYLxEFTIBh1DhdM67HFk5FZGgMoTgydmRcLNQmLoTjxzV1deuGCcfmngmhraqQSjLpO6Lbx8WnAi9ONp6rEyykeTwgN96uFoduWSUGrF/RnK+svQmSeYQWKh9+53WOugHky05HEYN6UFaCJ/5DN5BmavPqjQ+Mcyvs+3h+lI7np8JvhfBSg3eRHi8cfn+5ID+FIMr748YI+lBCjssG8+erMO/oKNKCLmjfX9Jy3wNi9yCJCIWXs6lo61gxnZQUqvQhoBa8crLlxzwOIlaXJAs+RPFPYO16XAOR+OrXrNgEMWthXtUfPU391nJWMh6n6Em0oCpTVvGiyk0DaKR3RPlAVzg2tSeJaJY38tux/CGsFzFnrX1ElRb4OZuamXQylMNpVmmpSxbdQAgdGaO2xss0BZ9LSZdcclJRAQINPb1EHmp7L0vY/T/7UgPdeGIgA+pjX/DIT8uD9znDFvW6EPSHtdbR1st6QhI0cpFTcEltbBX9QiROHwV3/sQhpFeuybwxFHMviXGJq+z32gRtIyVJEKTOu/ARJPDkWL8qs6JErl60m8VrM6q5RSwuZdugJEXWdPKi6L99XZqVjWUpBO01UfyjYXBMVQjMLhAhmKanl4Y/g8rz99zc6TnrxNkt7nOqZkT/vQ/Zknzwko5mz/brUv8Gjzu8SrxvwaTdCgoMBcvlGgX6JB8kyIMmQAGG79jDhMGE0nKwdIAkgJjseSamyxcDXL14taZNysoYjk3irJ/2BWHk0drXnlM30jXUK1/ksqLhC5n3+bP5CJc/b9BdyTgktrPT3vyFleH6qPsDranCpYFyZyDPrni0wGni1uWA9LRVvSxyX6Jxnntuii2MJ/91xuFh6HAk7dqW6TEUKtq97FDRvLR0cZTri4hlhWKGS3fzj5UJMQEN+su3K7BtCDsAUd2WAJIOnnX8qYzuGTvM3+kk/Sk1CUZhBSoXpE0cghRwLf163eEoroSzc22kmNwzJxcbRneMJKI2VOz/z3EMoA5vZbAv2lDMJLqD0XDSVAqjf+FnmPbq6afOA4KJbWjJsMFbrsiTB1ebu499Ntk0iVpzmW64YqgkxsDUfoR0zX1Da0kcOcjTuUu6H/XzKYeJBEfvWP+F4oYvcct5v3qK5vMzwTALr0RfEqPePCGOItlu1FwY3UXhw9l+3WBqFX+ya21kt3bGBLse5VzU34ZcM6nvhZgF/2gZUFN+FC0yzLoKTxmBeeAbruHp2oA6BFM3p9R1mZIVThRu22xuD3aancj6vt3NHrhB7EOVNV0SlboX5SAbVsdCVZd4k34a0YNde3G5fsWdGX7j4jR2BkcuEG4maJQqug5JZl5paKN7+7c0mogcAU55WoM8ljTN+7Yr9kr1tijeSNyZKB3asyexTJRNh5g0nxt/F2MPc/TEqF+WxIqYAh0lcjCx7EyBxfceiMz2P0oPLyLJuYSzUx/DsXpG0mUcB1fD1hnZ5KWcQb2xBHMnQhY7u2OaBpLVnURx0b4WEZht1aivR9vTFCLemxl1w/WHUCqq5/SuxkfeJ6vi1K5q74ruqp10uXT4m9JqjbqWfIYaxafJF5MfoFTVhp2sC+UyS/9BO7sZY/gA1luXDsytOMw8rYTltnzuGWItjLbffVwKn01mg5Ml3Yyx+ATdgwScUa+NrpTQ1aLe3re8JcN17HaAoWKjZ1cprWdqzxJYi8pvDpWkVltey0c+d+BYuGyJeIGcxIwtrWTDVQZeq85WoFGRLukIAUyig7QqDj5d/KdJo9YyEYTejcWYqmtIC7szz2AAv+Kq7a3z+Hei9zq3W/JMpgo0WsgQF3APEGAAcQ2AAdS0H+ozdlRWqoSdtJ7YEow5sMWlGDQOc88YVtULZeD0dHHBzsoJ85GiU/rPEuLii/sACAEA6RuT4U2b5U0f0a4q3yMyjj/V07/kSn/FlWsbKpH/mk5kdhc24GCgTvOTs+NrWghpLvooKFlnWIQTNKCc9OQFduv3kKvb8GacUHV2JzwNGJfwz115ki7paZXnLNnNXLX6yQq7NZFXUbE8voc1X3ocPbYN2SdzQgEyoNsmxMr9bhle1sOW3VIm1tGBL9aJrjpuolMdwqrhlqYieBTPzg+QPCZ+POu/t7dPpcPMbGpcNQzuJf0mvwJeYxZOkHZf5wPrQjGqkwvV6SAfJbaGLxFA9NAAngt2ZG5Yyb8bUteoo+2sqga/Z3LzQKJdN0rf3TvT1SpieiCtAu+vJVFwAV4ojd4ysl8BM7eeKjOdjKMfyJf0O5aevzovNleMMCLdTKC5sn/zE8+dXA8798DarEqfmfsh6XaGWdqij+gQc4BcGhPAP9L3LgvA53ZrojZDuNw2PfAbkdg3EiJ9CFSLWoJp87ttG+nAGXIQxIWsRLLZtMpEwA1ilnyh/jPtIpaVuqkvMUsEJUF1XKL162kP5Go168xoLFDGkg9LVkco6h3nkOZsIGmDyaO79a407VfNnDfycMLuKUePLCgg0HgFlQ19NmBmGj/OSJTvVqNcJv8a+TmRdXJ31T5sMimIANw3K/GiYjq3Pri3Z9OjLGWhTpbIRd4A/W1DnK6gjPuaeuFLRYw0rWF1nBV8fpYxeuFSp+lK5WSEYIHZaoIHeuAp+pptJJQYHNVnxYkc7zBM8P3cSabblgk69JicNDy61Fntb9RA4WZUfty89b5irghCFQg+q6IwLzRvkiNuKoiHqzQeNIhWpp5On0AEW03rt1yXeDLiaTT0xdg0crPjCjLA2wj+0c1U5kUXw0rZkgM6PyZue5J5YbTFEq9NECjGg2sf2VuGVASONPk1NinDs3J7PMnUDMW0Xa982WpGPcnOPyFGCQucs4ddKi0zcpv6ThReLTrNpKzoQ4aYMJVpE0U3rLKEZjK7S5mcQSAwsGmaAJJziRii35+klngn1NRu0N4g7bSIRSYfYPFeiTeFuuhvPqdhUvOO94VMDhlHS1p09F1B58Umdv40Jxu0a75G7OIJbdWcGWxsLP7Yp+kIeHyqbWUd2PRRkEtosVN0nMWJAjIstCVuvutdhJ0s65AXgNdIXtnXORn5shOIJ+1B9fr5tsEeyvBA94PZTaY3VR75SnN7Mb3hxJLEIalmfQoE5qIw3TckWDZ0HQ/wgwVCRRm89aQCsfc3hF5Cr0lNJSeJjNJ9oKsYo4OapAKQv8CUeA4+kosdmAxSTWWTv7wsyMYdoCgTiQMRmBhxfr9f71nF3uQv0mvj5+mnHXojOxRz7GP0Undj4Ij8PIoRky+Gyv4GwevVT37LN+vPLfF7ao1IpOrDoM6t2mLaQcKXLB63pTmdgio55RbvY6u99fjK0HhI31g7P27sXxbheEwXeTAAYC1I685LjgIsMx+g0As59NaRq6RTILlyqWuUXjpqLslNwKS9nOeFnkPM4g+SPdaDx2xmxJUScCbaFA74BkZYpprsbbTFVi9IX8Aq7O6/ECH1Z+R88bbnDwRUqruxn5ynJkpHP6CvYpYqKLu6rJPaSSrEs2KV9wFjPy/DZPM23Oob2nCzCc6myFc18sm+7LwlBNNHNSmWp1MKQB1kugm9cb0rsuSoI5Hk/2bNda6Pr/7065JQHtfRy5+ucPVYAqEeNTR1OxirjeoQPRR14DQkJ9c+rv/TdKi/qMSArZ/6a3tGepSRNm2kdFXnB7t6JmwhekI4swYvfZHd8n5PRJqjwphYjabTha6+pCvmVD91p6VZoV2kGoOzzT/iblQaOfZPE2rObsYMRB6VBNeGOr9BmAo0T9gQG2ANEHAAYQwBRvnTkJINiVu6P8J/LyyiM58YDiBpaZR//FBCOavw4Fv2IFR9mT4Q4Lu61NPIAKcD2UhQvfJao4WdKAnf2lTxWUCdBjOgU113eysDHeqeK5P5/ARsz3jvmW84R8DXLqvNAKnyAHpK01dStVbJXrOLaS7Bk8DshfWxaxcw7XDKnu67djXlsyZpCZY5MzqldD6be14UtNgPH69EmNj7g9g8klcQzrn1bdcws+ZVyKKpb0kd1dUgOuqhnIi/zT3PVGvct+C/d7izVZvzji8eq2xLEI736j6ZRCMsnRuzCcuotw9HPqkmg20tmGzUAWBQvwFAVpZW+JzE1UdwDhj/LTOVXrNnlRxJdHB6oU8AiNeflLJQj8YRGK/zQx6GzNtM6tePijR3srDDf/sD2D96kRWgLABAJrYI8APiABSIbBx3nO6gHHg9rwBACp1nIxlp26MWigp+6NUdzibrVoZ2hqefz875N3y4YqcYUQ+RuJoDQEKVfWHTjYg1VMzLo6MhjHjMAh0h1GvI9uL6hXUqDLphOpg9u1WZJbKja24cueXTYm8WQTY0p7EfcOFmoHHo7sCeTuovs2OwdBjORvJ+kEj4N2qXCyBfv20zyP4Ze0DFYBCZYy4PTQNGChDNswSwbaSQGs9eE1aBJOIclddCHKycwH7TAAae0Ekv0iqHFMHgp7DXDWPpWzhhAl+6TX3B1I/d6YoW+Iqq4zUmFinnUXhAx2Ga4nugIEwMuxef3KedtOMIzf4kO21CbQuDw1SoNXhkDmEKXTbk4Gt6Ez/aWR4JiVdxbnfFdBxoTknRjoH9ucQDKHXRTOrMXcJF0Ge7au8AYQ3qIBZaTmBymJ2GQNuS6ftiKRHEbBEE5JjtB3+/SZoWFJFhd/K2m0tbtjSZyjkSrD3/9aCKkU0yivUn5o7NO1JeQ2aZ7F1ZEvaETgV+DX0KXTlTTkhFHlD+mxz7m8YG/uL/8P/VSVbBEt7St2JxrmGMZ94NrVVcC0+RpDLnTfX5ChAKweA8lfssHisKGwdTK7apjwA0zvyaUbxwWHwOCtvhHKwXybXAhEU8JqrPo2ukRuRc8sa+/QJNKHTtPthB9I86cGK+eUu3rfp29XdHBhCgyrvGIvGxE2lnlsi/2Yp6u6aPo+J4aPxqBl12cM7JJjUDQrmygMNuQduFw0jMSLnvZb4Z2iurJ2AHlmcIbU7zZraj+mUeBEJsJjkyrs6RVTaM+nUjK1NqRLYlOJEYvlacdxEsaN5l3nbeCAwguth9Ph9cNl+UXZ4IxMZ/0+f+1ggRLj/Hwmli52q+XV1iLKk+QPDSTs+pf9DCxKpLw7g/SIZ+Q+fj+jmUOy6573dAYHGtrNkK4+MpP9iIGqpk01YOe7bqq0VcNB+OgFMMDD28FuI9KF/les8mFBLsugcPbParyNN+8KHQTEJepCMT6M6Qt3E4FkWWkc5eRCTFxac4MKLioPv3zIXhUSgQSdQjj8U9ovFJcFcxarD2ZSMXbEVibeFQMRv9jxPHnaqfIOaDec2P1+X3bt0W2lXH1GmhgAMOLfOrPt0/eodU1IMnL2oHaC1ODvKIVCgb1cmMe8EkO9KJ8NNzJkvlfMOLAwfkgpMhXMOgAQLJ/Bu/YFhJg5q9SJh/pzJglJ0jcOmv3kMRtgWaFrlTmSF0+ectBvTSus2owvIydNVDmwLm79RJiBIACjRkCBAfQAsQYABhDMABvUtuhVQGDJm8nNg5eHBAfHqX8rgautvYcOURW/L8SJl9gglQ9gQKzZq1y6+u+9xIDqy2LaYO5mpvoqo6CQ/vRyWNdskN+TxKmLCa6X6k+sQwK4iPEN167YKZ18fBhbHHDKZRlAEd8YlWfTTr7BLLy7F1JRYXs0x/TB32IBLNFL/M4VMYA2JLZWfkGlKk2c9tGOCibgRool8Hkrq9EmuaYwPdi7usF39N8AdL7PrQ5QK/BrJIroYrxjbxSXrhy4Llb/cZ24sOFnf6eySrOwrvQfrozI22BsTAFoNtKM1IRDKNwbAzEjMYqRE09ua6VyxxmD+KOf1zmHwn0lr+JkT3TcXLF3IxXn39i/6WvpMdE7ftSdsLQW/11t5MHM8VuWR6CSkh05oUlm8WnVaZxBmgc+4woAHG47xkMyNUe52jMOxWOi3C3P60dZKiOwIuD+AAyx0yjyrBfK+do67Ctx901zkK7ItYJYFNE6mA8tCyKIhxJqFDjHICmM3esq32n1gLPufHmAyW3BXn5o0brem8pH4YD1kxt1MizQlnKbmYH/SJMOon1a2XIqbF4dedMlaAWNBefsnrTPVt1XSNWphHEyApiloQUzO0Hih6ya3jdJgfnITn+Ht/rhkJJUE+4DRDrGyAymnoITdk2zPilA+qCTwevObxW/iY98P1Ouk6rv/3jkMaq8MWQMdDhbwp/Dwy+5GiWY6xG2ie18EB+1r894U2IGPPj4ke1JtPfmOD/FVcqa1oKAdJNbiplgRJWuBPcY+Py0yDnzqujV5B2GJE8Ivvtmk4JeMgRI3onjMgA9dO4XoisEmBK9hvGZBS2/V6J8nrXL8n0IBR5z1sslMUH49O+2/GjMDzj1am0x0WDUZg6NmapNB8CDUhzq5RwxKrWEPczz3k34WnsFiTrpyfz05D2a+M0ADwqNec5MF0bOUk66T6rGLpONzrhbH9xSXp0Y2LZru/tTpyU9D2GZJ+3Da/A2Y6e9Okgi1WFThYf5ipl49QBvmD1oTT2gy5C/59SDsf4963IqYZWvxAOMGssvhFC2VpdIwpT99i6tND6ObTb4TubWROvE5M+yxmZqS8cUJxJMMoJDedx47pRio8o9mhfpdixp09QxVyld6B2YE5CLGnyQiDDEci5mfjfVQNTG4Z6+QV6VWawYnu8aRjMD/NljjdiTOpQ/1Q/JAl3aVeH6Tee3Vy1SXjWPuBfPCIuH0bRLzmnoXRoHhrbe9cRugVmCUssyZpUkfBeXvuR0SHYsOmMaIch8wS+GM7wOBOvruCSvbcdxNbsIKxRawtjsWwWfGZrxZII8BIvSh1PClmlCG+27VdCYjosbRInPgM5oOVJefvULPLmuQ23uXlu3DBGSsOI6YdcdqwOA+LbD0Co1LXmk2i60qyLgL3eQykgQ9OXcxJlIueGGBLyKzcrh9gR4QeGGQeUogY1JpquytlFlZzoplNSsBy78/TVQgXekBpK1HMDz6pLDoypSJs5J8VonsjyXTKs5GENT5sKMXwuyR9xYfy1AwljUzgl0b18yGCt5EQs1bUMPoDRCAJRDL9x5G0qu795r4rqK2z6pgZjTnffa73H3OWCvuYaCw9KXd87I4JHWfsTFrCu+SXIhVKyRdyBOT7FUr0h6WvOpYabXbqNEvr9Bl6UWBMdmlgbuhzp4Ny8U3K9VtcKh8xzV6YzOD1WuKP+m9iAbdS5Jj8LwwP9zew0yNB3CokOCAklJDggyJAh3lI6LUX4KP9k5OieQ/X4hR51yIPuPvCQxWhZRNeTuHMRf/c+mV7OoPvyUX6g6Vuz/cTpkZ3kD6OxFEAO8k6byXkjqtpNktcb17i9IoAHly6gIOHbtFiDeXinOR7miMMlolvL98UlcoIWZeab6TelNDn6wjz59Fsh+YgXcoGiZPKHP38gVZWK4+JzR+PbKZAugs8vNZ+kxEQnzcApzAX7zjyLSHPtVe1VuRIZ/qyctwpdt3FuAYEQTSe8hhQ9ZANA3mg0uib2noclqrUwwRF5nY3jY+Mybq3RVAcjv6/2oSorUcASiMkiUFhH2lGau2zxOpyyy2lbL0KulxptEIK1b07LAjIAnNrYNj0vva2/TEBuqfNCSXETRj/chulAAo0QNgQIzAHEHAAYQyAAdoyCF/mKZZCtQAV9RX6gGGHD4kIXO20D1C3ZFkGide3hdP+GCZmehPwTstjWADsHZzeCnQUkA0/rjnjyvxxx1oTxxqEC5KGsDOsWXvxLo+wymGzQ0F18d3D/EroVFVgVY3E1RVjaV/kG3PBviMl96PWj/JJZGVYL6oZCW/PG6tu2tqD2Aaivw05zzOf1L+mfB9EufeT0M8uVWFH8jaPSYK3A4D/X6Gy7EPENSrfTf5BmvLG0SiE9On8T3t40/ubu6E2RZxqvT8+4js4j4AqDnQZuVQC6+tRB4NxW27pRZ94l1jiH5R0LLMQ3D4/qWPVdW8oideVVEepbeFxN1AcLWxpsAZjEgpwRoaeIsEHU3++SSigI0nx0/x6aAduUFYZn5CkWi50x6vuSKhIIRzlPybG5aLFBEL9q92mdaD5JOIkm7GfKHCFU2CtLTjLbjLnsV5C4WMU9+75p5mClYdISGwi8oiObOEuvNqfLC3SctbWMCRUleku2Q9y4KqS/A4ntlgj3jlrlLkJLApjgNQWYHKxu7faXPmiQNHbUp5euoEuUKzimUL4E/9+sx+terWCkFWkw5wusDQCj3GQLFezMaQF0pj0lq2t7aiXxDmAUiwrDnjQ9CLTpwDZPNeUxJABN/vlrpq78I27C/++kJHPxORfxC3CZEuVd+Ltq8Nxtz+/T+aBVOS0uGjkdQUeFZz59LBPt/fOCcd/U221Ow8SeevJztZucGBttCFLEujaR2JlrS5Hu2EwFu9tnSJrNVVULSzM5E5cMgzJGjIZ9I5ruyUtolWXLodxrqGlU0UFfPlowsEgdsZQQHRzvKyxhfjFBqhxlEFfS45Nptf36PIR1U6TfQC4TOMBqBQEF0g79t7/PqM0SXyrB6nt9wrnO+CgOwJ/qfQ7F/h95Dae2XCEg/dnF5KeIK9wlwzhQxmSlYOwtIQXmjFcttOj1O+NH5ZUuJoLDp4JYCluz5XfqVsb8Pmz6Zrd12/BX4YnUIlJhSDrTtrntWw7YjTv+rm7eq+TG6gO2FJDIeLzMoiQTCgiRbm58QIOZwz4KQ2ZdXVjKzEaDae2MWVrdBBhjGDAbBUHoyTT5J/TB7rPkxtzsf7u9ibq+yuuPsybvkOwF/JhiWXddbSB/itF4oAA6LyrkdXpceI0pJphfW2KQjdQr7CQ5qiK2BK+bhyaPCy0XPWw8sZajYHMynsfBcE40pSQX254+KXy4aGXGhmNhX9KVWc5v8S2fQtousze+5g9EZtEOe9xGOUIYTlabpSVAhyfxkV1Gvw+Z7/DXa0J+46+DXXuJVmw68nl83TGRlIPXrVWUq9sl3wxrZSwNyUQrHwwCJB+Bkey/fSHQtwCTVoTh66rRV8ACjRDCBAnEAsQUABxDkABjetAFFX0OvBOMLDAj9jOR/acUeAamPFNLJ+bVpPNgktEVHHxL5z/AAtXgZgY0A2POYrHQKfd4XU3IvbFJ0hsijxyjugO0666gLgLTFahH2Zi8xGPN3N193DnlIDjPS5jeEjhzFRj2EWuxrjwiqQd8SHkb70pG6zUr62uE7RBvkgb/ZDZv/PrG2F+F2fphiJkI+O6kNNLiG6Et4nNg6+c1dMz9sePEDQrRH6kJHmJf0hq+6zz7BAMqzJul+MaK/w48Z01JwE4+n6EamrbsMYP8++A7I0oGt9fNEvBnA+N/ljOxw0Wc36AyuQN91729cQqY+IabQOdYgb0UdYEy5N73vzfhz1bK4YkWG0c6oS+POGTkXEjRQl+jXuht6XSxPdItoaG/ith+X6i8QVmPlFoqX87cBlyJKDGHNqj1XO/M9SwQhYGMyrIN5RfXZqJJL3F9025yhKaXp3YtQ0BlFJA4Ew1OQslk/8Ei8LeQap6LHO+cowkGdDp40dhKayE1XhiJe3Wp6+AlH3kgjklSMZKzKDyDeVIBGRmyibgflmfWTqMwjSXXtVtfhMvJ0yl0OofU5PzBrmasfpR0K2iI8L2KY3paG7p5Fn5kDi5VvsTo/ki8lznpMO4XqJijEL5x5g5lvXcm7NzGiGC7YIx6UFz1RKfUF4U22/a/nyIpogWysMvzxKJICLC7zeoisZksnmotzfAWfjRTDrW3hCUkYqdYGtbvkeRdVrMuA91KFAHHvkOCROSMIUIk9dbrHbA9bmbz/c4+wgr0+/IqFZTLaXjo3DLaCKa+qXJIuetb5iIo1E3WSMAUD/jesALWckCVXVBq1qlIdTxBikAXsxTIW5lHumZfQkuhi8qNEb1TerWwjQ8EDP563Qak6anzd4EgTrdLxVeiDMAECiBRp4Os0F8IdBdRywf5fmaYLiA6ifUwvIXottEpE4SdvMhD81l39nDfY+6ItVvBPB2bQEvBhkBG8kyvTUJxwNoQvM8USwNUqga5/liD6svBu+hskf7O/3wgO8xNFSh/g9Nk5SR3e9DpfF74BIqUP+zMUVbWQ2W+pnnUNHr/xTgl70/YUbILIJehXzMBYQYmPOVZ4Qmq3yMDdvND9S2JapDfxRHD7W6S0NkxgPv64B1dpjBiVxSKnBBBW781mGDHxk9iGPxjvoQ184yAIrn+wh58SqDNeLJbUYiHyK/vJNtdzPhoiBBeu1G04Ew74lbaxy+xI10w2SyfnGwYHXvC6QUx+XF1AqAG9GnFOFVfeoTU16wUP9yku2+/YFvrgkQDm3pSHgwkXeqFy+RZuB52OnB+MChKEUo9ZTZv2qajIBqI5hg8Ht/AEXdK1cLqqwmDXydtFruQUtU5x7iNBgCwDepBDmh2YCkZOI5ERjhLxIHm8fDdMhDbKUVLPoCgAo0SvgQKwANEGAAcQ2AAb5QAHfEd+ICJ3tWyBVHFW2cqHr09ISguWdhNSkw0j0HWjWR87OIyfQR/FHVsdj93e4EJzm5pDyzmVuf/k6q+ue1Tza9GO0/BKNhvQeLuFxCpSing4VKTs4zPGnzCA5Wf7xsyaKrxpP/ramDudlG/P0G8jtcHFLWSf5WN2HNw2Mgwsur+CZ/CGcQQp0ljKIDgcj+n3TB/MvopEoZx/HgS9+ME2gRbyQohgsigK9Zm36dxeAAwfmR1HwQeoSbDmKJu346jetYzcTM3lIGq3iBuoifb7kVAbA6mjL+wbsAIJ/8uEwPnDixddZIkA3QyhkP1hcGMTkH78ZZriWpRxOL2OpOfWiU5vD6m0TETT+WExBgirveYuyNtMCiqA1KGFmCoXw6SuVS8FppjDD8wZlINVZgvNdo/fLmHecOsL8oGGIJDlEvDYqSkIjFBelEf+qIdMqQ7z4g1kX2bVUAsNbki7I6i4i9FhUPFGyf5Uq1O4m7iyCgZAJJ55AkM7uz9EgZEQxmeHA/VTxcwaAe1/w0y/+jAbsXKYRlF6rwH4B8O+PFpKixfW/M7eptsGLI0eX33m3PrcwzU0/MexCWGUq+mt0HOuJQsZWrVNadbROiZQwTIV7TuO4l1evBssfEbtVRAk3FcD/yPHi1DM/O2nIjTtjIRUVRFZAVnMC838njdQYvChA2PjzHqmMx5wX6xF4rhWJo6Gi0NCOmks3x9EW2NkjjmhFvYQBey7SeQnSs0yInYcX0igUhiGyfOQr6nJ0DfPIyOmUFPGeWlN2L8JuE4YKKauEGtZL8E5OPIPABdhO2EoQzDOUvP/c2+tms6ypu6GTNR/6dRjql9Ywfzto6muNduzxFgNSxrS+A2eO3JAs0nm6Vkwq9VwB6p0IgY2LgplOHGfhyjsDryupGlih9N823CCmd63h6qUxzPVLxkETm3Zkya2QZxk05URPmR8LpRoD/VfALoDwBVkHcat4mQEqcUvqo0wKSp7yrO9/zMcwWOxdqztSV0S5EKkqm0B7Q9zbyIXH3O0liHnrSkyM8SP9IhArHOKxNE8LkJIMDQYHemkl9fguU832hbDVPahbPsy1rPRZZ5z0rKBIDAMyukDyOEkU3WNyZ3bjFJqgkPwtt7yklXUBlm2GMlSAao03X+YlojJXFs0FbvLsjASN6xaDL/Z6ITvmlFsa5doWYbXqgblk71DfTGJi0/2dKM31OoghRBGoPnTnaMArcyUPOBSaX8EUQk6XZZVdk9ox8InxS3aJBwhh6OkzKa1DHVnmj4/UY+P29j4+MGo+RwnxE/e6+8wXUKSMhRIOa01EyOXUuQCysF7xTNILfA7K5jONKLXnpnsqk7RHYTj7JrBzo7qvdCXi0X3wLr59ez0KmgTuLDsByPMSPJrmEJ2OY71o6iC2xIco5I9Y40ERt6Lz/PGB1OW1WZW080RRdvkJNlNdxGOY31UXuBFwYlsg7uxJAjxZBcMF3Em5LlFFVnDdrXeMmGzF1cwwZucM5yJXmEKfINqsrHQDZcOmVEQza0x4mDVoeVrj/RDlH5vMj0qmvf7xWas9FKTnNqlkjArvn/dLdc3vwCjRoKBAu4A0QYABhDIABzx4hWOvgyhZQH6hARGl7B3xHfiAeCFhW1OzByN3sDj/pQAs+kRJ+ZYHW40tGv260AA/pPvLbTadfjwCXY6ds73JgcjLAf1fHzXSdr4HVV4alIEBXtV3wQ3lDHr3EmZBqdRFJ7dYyhAat6CfhSRhnE70e+Cn6M+NjN6BrzjljqbwxjwR7iwslJUvdcadplFXOzQINCZX+TeLAlzzeQUxVjwh1gg1aXB8exUlN78FiRgbKTbgB7cE1L3h4nRJ9S+6Z15akpRDVo0LUQUpJ0kTO9bpyw/hTZa5GAzc+LhmnvjU7QX9Jbouey5oFULncJCLsr8vH+MQKy7Ayhp+T7nRyX8eSHRkZKwDe1TkXBcc+JIkr7uGbxjLrmG+i9QZQJDmDAG3n8qGxPgwAuErGogIDguL3qxKWabC85gOesDJWmitXqO2qVlBTP4SdsXSua0Nnr2lh6L/sSW2GeB3rzqI8T+cOPmUBB1tpvFeNurbElbItvEe3i94AU4saob1Ou0VqPxd5X2U0yFVGdy/Jf5XWAYkGrgSdMaQGTjLqWcZXZklsByIYpcy7lhlgJh2FxsDaEEPlQx76fAZEke6JRXDf0/bZczaBi4qhT8O1IY1pb+cceNdqXIVDMb7lKe85SyeyUdaAYA9YyJ0eHscgHRIelBBuNzybS4BPLM8nyLk1IzZU77Uq9YNdomZ/+py0t9rVrbebiTefgPX9/4ZbSqnlALQntlU0JllDWPilFQDJVnIWlh3lsIOKSGzrUb6dGfjr5KBl6uCZvMIR/JVKDghpuw40GnxO3rgV5/wF4+EvvL5gAI3J3DXyPnZKa39sg79wIb9gsb+4PCrt39hw5ht0onJo1NJYj5FTk7uAET+PjTprG5CiGCIThF3If4Rvb/DDY8uQE/QwntkEz9gWT+pI3bo0x9ByRAdX/i04MOS3VsSSpCkupZG8rZmjcCQoEIDm3Lqcw++7wN0a7U0huYSMIVd1y8FljoZ+NRsxEmBVU5KM29S3VDiBzGfGZ4YTMCGZubsaM2BDTrevDHksALuUAPvE2tpPww0s4CHTvPAnSEZAq0jNHfyQcrrV0qZcoQF/MpcUuUbAOpoE9+XMTzl1ETKlSmWQxouGR8tWHm1ni4vI2uQg5+N1o6QZU7Bg8+knfuYtTpwVW+zYKGzjXeCkYWLxH5Ld+8b3iaTUaRvRVAKTxPkx+LyU/GIOzZLMpwvWbb2Vn17DW8v49YrVD8X9cXD7va0rqs3WCT0C1DFgLj3Yyd051HCBvITIEdamXcaHxJjzAlFMLLBcxt3UpynLRllj2liYdtV8+QfErasIypG0Mthx6295SqkYMplqwVPpIj7JZRflXfGIa1w3BQ6WsU0dHG5EAYJhXqszVhDgV+Ay4RKhvuVfbhBIqMFS1lG4x0/pqlBI1m6i7i77/L7mkPV2AuItOaN9oDPdXk/nIVMPBezZZKbotiGYfT3Tr9B1DXs6r0LTJYcXgURMGp8KVAHHlTBsX+/qtEorP/BVQpsg7QvCSr7P6drfWk23HGJbNpJz39INNQgIG4bpAHKnMCM8IdDdDoj0oRiYxNAZPESU97FrUdEG5Qi70Pif/sfj+wI2iMPr3n471fg3EmQPsnJlWZRoM2VgKzGt0tGLyHpcK5OYoLcZFFgSzruINiUlpQWZvOwyVkNH4jPI3BmczVgu9F3vMZnv6qYPw7lU7m5KliywxZPJbIyNXMF5Ll7Uo3ZeBBatj9/WO067FtAhWb78RFZUZ0ZZTrBql0S6Z+dJEyqHIrSj+ldXYQ42bkCCniujYtH1loajz54K/KnZuN/I2fvcagbFeMBDdk/cSdKlM6wrhIlFn57wHdLtsWjIDKSRexxsMjzf0eNxeu/JT3z+841TDuxRmd5zTmgIfWyyoUPVkO6SFvVAkl/Zj/nQik11Wm8akudoez/yLUThe9iTZCq+RizKvUVkwZvU0DTevjVyrw8q7Y0fhq82X58+zzl4dd1Tdb6xZW2lMPPlOWHJczXDGZ7Hp5Lqz79RtqMtmGDdefA0O/guGLKj2EANozdKMJLxu0F8b1a63m8eiCVrlTTfVMfziBHJea3IMDbKr0nkJv3109OqJqgCuoUp36uwluTuSiAday6UbQadyxJ2uE0gCZaSUKbZSAkzJZdLu21WzRgiKzHjOsu167ujBtCNcKBRu1jC8jXXiq6vixHLsZ3fQAo0PsgQMtALEHAAcQyAAdnsGN92E5RZcuu5IYg5gGXNZeaKxQp5Rx1NxKAIgQ60FhLXtYlp0VMzMcbyR69FLLgPRne/R3aAAjXxacrvSRs5w+veem37ujpOxB1umtHv2xkpwznvoxRJ4fonAMSCtxLoACdmaOajlVKAoeC+YJkhVbqrRER00WQ3+JSCulbnFnMTUugk8ZmD9Y6Who1vAVJp3HqRCza02pb14gLVeTrHgyGvgFwupszXCuCIJpHJphQeesv1dMOInehyppvyEW+HDeNeurJSzV00O9c6OFvHCtyYdcVJXDIOIbQ45f4S5aDJDDzxcBerKaNkVhC7Vt3hKwhYWUM99cP6hgqaQUdNrYd6NNMBYDLPFgCE6he5iXfJs1RRjthNhvjzOu4wl4e7k8Mv3B0FKUETAW+XtpD3TrOVSfCt47pj8aH3HOURGqk3rszybn7O67JvPQYgYL9+zse7JvNjBD+1Zy2WSPqH3lNcqz0De6eztCozFeZ9ymmQl+AlGuK89Xqg8za59UunKJcdvZxNUqCQoozAKQP0qekcgsBNHH1vCoJI2B273JFVrpQmNRjs0FTMVYOmPtjqucxEKYrHwohTkpqZClU5Gxeo4FsrELdAMgf5Zkh6wk/T/EpYUfeUhX4ACpW4YxxgpNUN69O6W0QSQMnWfIgMkc2BS3K1qjP4fsPYSAmLhPC9ha4mIEGYhGIAYpmrg+lKEXlMQt+ZEeyRs6SwE+Uoal5sSIhRlIyGd/4czJYW2OkNi89L4Uv6QzU25SrQ3v06KZc9Hk6tX82m19Z/cppLmhi7Hx8g6IilSDXQM1Ndwsqu9caJmGY3u2Z6ADac7ns9GktCMp1Vdiq0jZntvkCQsNTQ1G4UUaNTZFZQK3ZmZb1sCZbX/qUH99zJk3ELV8ZgOndIf1L5F5PKn42Nn6af2qMXr5WvzvvmMZndxTZk4/BG0kmruNmK6wnU9vqC7wEK4/DcrN7GgaGu77BZXgUst/Iolx3KNLKS8wHZyXlyoHuUsIQ11F5EXttJ8zj/1oN9xYS/MOAPyNY/5YnPUXHgOyzGim7Mk1KYNWB55JX8WF/Wof7uU3OTi1Po+cspVYUoKkdCEn9S1vf5eIluksIwF+PNbJvbL+aJGkl11tJCL38zliHPjqPGYwH0eFFSlZAqzwz+QVP3fcBlPrcFS9HE7pqdWVghooSUygbOedrJof+CqQLsWHGZSJu7Df6zMogAQSIzZLPYYuviN5VTEEU/z2HPoNyX5OmP+a0AKV0lHvp6qPJfToIenk660hVr67VuDC66n54fXZuZvwKCsEFsp7ZUSDUaZA39YLWFZf8oCjRRWBA2sA8QwABxDgFG9/wMxt/yeDv+t//8uv//yhtUO53/A4te7e//9Hv+vn+8Tb/T0Uf//6F/6T//5M3k5sHJlIFw/Tz2zNuiK0Yr+rsaFHZwvSy436peFXhQufjRxgn+CODGqMCghgkVVS1zLmAJh2YiLVW+6oDykfBBlsXtUFqpqVZpbO3je/YE7BcOW1ZAMmpvAlVNAUe9LNqdnGOG24rbJO5do5gOdjS/dV4VcooUPk187pOQJtl5ysGmGA25FnfpksKfX0bXkAhsdOJlufLyigTVyl4qjqRw7dvWNoN1KFjYas32cLLTI6KbmN452h0BeZMXtX+4rE6Xu32UpYVP1g0dJlRteHeTFVV0MaukY6GBKNAsIhH84KYoaIpRRYxliiIxDtpW28KQAKo4ACS0PCw1zh8sgJk4r8+yCQ81DGXHJAJP3KCDJAt62N8zqKCe77iYMIiBwH/5Fceqr7cB3RYtxoIau+B0EkIxqNu3KnbGaJL1vMZVIGXRBvx2SGvk7qLOArLtLqoTu4lt2LOcRIfx3WMeutvT9e/wfaMH+KWrYx7or1wGBtjGhV09QLi1yDuYqX/nfQfyvwIiMgUvIFPcCyvk0mPMKaj6MkLlocE6mAdsbI26MvycKpqDZTW41ZVx8YkpDp68mJ98LyMMWB0bP/sB6YqJuHKo6Pkl+/E8JpEeP+tmq4wSFqSzlFnuSrtfWnu4nuP505uOBvuQ1+b9ALwmAjk9gCZoa0GqgGFCnw7SN/DVjIUfdKBjIeVO4+FnxGM7O1dKVaH0OvRoQXVPLZ1qK/mMfwBf8QVNDG2mEG5WgV/j4EoidWTjx1usoYoOJaHgfhk2AT4tmVkLxnosyLU/PdretAtYWnPVmrQ7W1Vx2pBGcJrnnjjBpSAQ+t+FKdp6DWF4MZeLxZw+OndOXSzjlKozUVl7rIaRLdoZiq5TieSqSZgCpsydLS04F2MXyiQr5CknQayCz2Flea0LgWZ7aBIsSWhvwu92lv7z0V/AYFW3hZkM6FcdkxrZ4BFt8ObCtPdvHYZXZddh5yYuPWZq9wIIElSHSX3ktWozhxSPekw4njNAOyhc5I1vMmKYVzfRume1AAHTz7gjnMll0RZbYwstTZs3uQRR8bJKI+vNzUM1mYAk1LoS2MRMzrJFbi3DhyqvCOMiVY9+ndVgNEr/zoUe42vrmXGlQbf0BtDDCYNQ0HQ+aHhunekr6Wt9if9yPyJjpiNRxH4JEiqH36l5GEKQVioFHAmmV8FQcdvjKbL26vKa0iqhb03IDmUClyQIugNGgWyLvAG3sn/limoEhrdnixQ1PNwcHRUXcxxTy65v6D77d2DSxasYjubv9Texyw+ogurfrNm7pOa4LqZ/2MTehCDg4X6NtoFpKci+VLxqlY1TH0RFlG1qLQG9Br7ba9NQ5R4lPsTPnRvmX7BA2qGd3ckz13udzuKdg5mCLqozMcceEJXhLzurbTmWeA7MxFbawXTiYrhOa0DX2sdXwPli53xVBrisjwVdg4NpkWWVd5LaoccL/clRXV6HPq5wBedoFGm83EvAPeDqFEP8lYbYaO+bNjnhvrBZpIJuP9QKgLgt/oz463WHf0ZO1HYAqmio9ceV/WhX/c1GeFcJu5M/TDhcgywg9n0ucOkOjonHpB/WNlL0g06DEWN8L+aNQM43dIZMVa5ZCHOpmf9Jm1w6gk1CzO3DE9F3C5MfrXum8Hnx8qU/7WAvgAAKNEHYEDqgAxBgAMEOgAG+6QB3xHfiAWUOcmqqk/c48I0v3NPKW3BOCSd9FznQgze5Z1aQQHLkYnxjlo/ul8rKcAxosmrOurK52dZxUssLOt6kphEF/8BXzFAZT1ICG6D4tv84SY+GDK6n5NSMVrFwu/5Pss7N5TQDYincdl/sC5bmVyRUBXgLoYPcP/sA8HiYxgVECG7IWsy339jVYqLYlEyubO4vFjxxPFVuO7RVZ9yUhHk5j1Nu1P9AUZkswoEBVppk9dMSKvNYfn/y1pjdb46LDnildKFomEGzJQ+kUAt8QrJfpWYoS+iF1AL5WC0uZ8Kjq2wM4gwbiLFY2P7K3O4sC0Vf3zGrVnVdizn4ojCPVkC25LN9AA/NjzVhKEbfoSCjGSUTEvZZH1V9lu/0XIMv+sCazY8H6uHK2E7PapesIrHz1S53PogbkFtIKCK7P38zTKcXCY3l6ECnlspTvGBAKWuYv+hkfuf9RszNVbFYl2Gg65Igt5espEU6bmD7Fde1NgGNzfHFSkcMprTGQKpuaBT0wMgWN4Iihchb/BmwCfHIy+fqUfbbqHv6SacFu4C1I50yF/ww4PmpDx3g81jPpv9/+EqSFMi0u6M5/4xaR22RFcz6xuWLXqtQZ91fTFn8/MRJSj/4DxiV3FDICaHnl2ecNis0ko6GsX3EfIc3ekpAjdCj2uNQB4SAaf78DQqW8cMwVDGKk7aMQHXxGvZTE8T033Te43h6YNcDIZHa2lIKWtEX1XqwMa0YpNYk+cQ2eHcSD2tmmHmNQWmVdVr1V6/MGlB/6iaOhg0VWz4CgVOevXXdO0YDHTTqmGPmX1IQ5XDqAfG/SGdYbm1Q5TYLjdxLf2M0d0wU2zEtJb4n/JB+RT5hJHft4HmsuIBz8FZrf41qsPmWH3xEHwOwJex3vsXlGAfjaBMRdJuTKeE4AytAv4W2UTvEhAyTdUnv0swk8LzItAWAUt6N/Zrew9vZy8yA9jpEHU/MNvoDt5usVXNTWWQliu2i8kCBYQwNk0HOyRWKmM3SqolO3vFJYl/Wu+joQTaWeESkhCGqMIjRDWFY4YfrQmOOOSQ/zFppwCDUj0N4pdJkLVaVyQgna3LjRAIouvI7PpJd3/LWbfuc56pWra2ijUlcuAiNrT/40FCUBhYwCrCqIhu6/bxNtDYGOzZ/ZXYeB5hzp921ae/mhyFdpDU4NyCa7na+HRkBn4Kc0rh/RZXxU4F8QhdNwsklBxbtwATmcnOfeUpIWt7tQU7A2RUG4W9l+m6zqfAtdjI/nr8+tyWkKckqxc6+i0vfXPE3PL5A/Y+b6/dzH39HxtgJ5Zc6l0UYwmUOMoVzcMFTtN+/z9UWNbKTHuXmUAVBkSMfxVU4jMTu9vuhv6xJ6VK4g6PeCThCN9t7ZkAB9DtnUBAAAAAABfYOeCD6CjYOaBAACA0FMAnQEqgACAAAAHCIWFiIWEiAKCAFGD9S/2fwD/E/j/77/Yv3E/u/wxe8H9P3CfLf1T/l/4D1B/jn2P/J/3D/E/rt6//8LwD/Ivzz/U+oL+Pfyf/O/2/0A/T/9//Zv9F3iuWf0v/Zf3j2BfV/5x/vv71/mv2u9q7zn/h/4D1B/HP5d/sf8J8AP8j/lv+k/t35Ie/f96/3P9p8g35z/T/+H/dvgB/k39I/5n94/0f7lfRr+q/9L/Bf5/93vYL+V/0//l/3r/K/tz9gP8n/of/F/u/+X92H/ve0T9bf+57nn65/+f8//q9+XNoQDs+kNTtmwgMRynQcQIhHzWi3j+sTLefemQLwzyu9v1VeRkomkR8x+vXv2bMKuLD9DduEO29OS767exty9KUp03CCtXmngpUwudH9mJpbdE5iUAWO0tgTIkQi2uFXf7bwarWIIrF9xU5ptZDsdjI5D2tiHilw6W0XBnz0yUtZeHLVcrCBjER9R1aKBo/ECqvBn8x044Jz39NObh/rdB7d/Pl94g1QadO1esxNs9e0PtoTLAPQdi9EdNyZNNO+JsOXT5ea2xUaB9r6KepTsu1SO1SaiazLblINCFKjMGpSO0FlCuTWHGW3dHFTUa8JF6xcxzC38Z92yJWHxWGDHXVpFhWvxtHPmwH1OwdL/KjT0vJ1LmLQ9C16z1Q3VHBIiOE9VDZv5H/vd3YfU5JZjzpMlpz66bYiNqDdvllugHvLkpFZopAOwK5fibGXxT5lYmX341/f9k9vsncHNOoUxHUq47ft5Riif+k2TMsepDJvArj2xv7bwAeuZsXIyE+Wo5fxYCr3ZbVm370ilasr/1x8JNZTiKjSvRglZiyavLzdDNyom4lMcSzKMM2xvu7CkRovQogOaUxIdhPdpEQgD+htp9bncEAkdEu7WaU6MR0ng1BJnj21MT3svrSRfGEWs+bLjRYBawBtmm3ID7JwUKH8bw/dhM4LiFPcj1Yk+rIcNVPbYsMiyvZD9g+OL5XazNokqisNdTZoLuOcAhX8h7ztnJ6dd5hkMni3Vhv0mAmoMp8RMZSmovGkAOTO43sWcFHijkD1xMV10wxz3dU0UkdBvgM7PjlMSpC8zHs6xahQzVrIIOOIs/s16rYtNEKVyZ/f+YxIfw48fuOaSUNpPyAGrsJcwahyiex8vT/+VsQLModaIfyCJ3QdLT6xEX+djaGcwlvPcBSsqFYLvmny6nbhizrGibR2Fzv/ii+s2rNhCuzlEHhUEUhk5orFIe0wlLJSM0uOkoxMP9Dgxsud2eii5jvlZ4qao21P9Hmy/OY4ww1FWO66gIdUMlF1kzcTZVBGtE8FpAs3HL8MNRUH9IEr7D83qMklhHDtaRIDlyIneUWl5o+UcKWX1O0zibOJLdvZBF35d3NwmSui0c6tTpU5rAbhvxjMVgK6XJ8MFAm2ovO/RftJR4wGDFR0HedFvw9uFDmVcYO157qXy92HNn8uGkuxyVAkitvEm5jWv2brplwSTvqldWfRIe543/ZmA/KoSdeBxeC8HaS5XseLz/zUYpV0PkJ1LpuuvwSnqGMYP6OuQySOw4tVlaR86r/k3c6LYnDuoVB/sa3nPiRPwqxg6UcRAmS86N6c4ZFaXIbxOKnWd/AGgFhPSM9UajECUM2x6PksIN3+CokGtz763RDXbxZqt4zDFjEhsdicMk2TyrQsA5O7ThFCVw6Bo3NyD2UBvETIrh0DbWQo265R4S7rqvoeyivmHeZQlAok3zO5VV65TW0nZ7i8deKNvhiwl0ie8QaDUpLRyehrQ9bOQ0XCVDa3SpDUO6Mx7WscGHoPwrboTywMXFcUtqxCRF2xGSN+By21tpT93Sp5/pL15jxc7D4FBtYiV9f4RYC3d058QUbqHScA5R2bDt2NMW1YmLLquaThOZBxn3XG3dek3Ny1VajHpq0OA1hCyLuiHg3R6oFOQJBFKkSvo+2hhYFf4+ub7PT/kg22DHoA6yBN8OURorflO0Oq2LAznOG8B9kpPdw00/sWheti4Nc7Yw7gGChRlFf7mBR4GHNouAUmsoCtA2dUppqqrf1erpUuznBo32OoOmNxoMjWPzDfnB+g/VIHDmrBRma9vsum0HG2PwnTyaah8AaM/UW3ZvPz386OZUSvuUDaory7Jgwc4EyxUTOe3bK+Kw+2tj26QkQZCkfxQQeMQZQR+bM4wUYTTd2Vo7N3RgZp1+AcgCxsCdAn+n5OAd6A9zGrbGfoNAxtfSk3QcmdweB+aNshJ91tEdG8MWTKky9z59M+sZ5Dq4RAFziBtF5JbtneypfhJCgWucLez7b7HbWEBqLbJ7QBLDBbZg/gZp3xAFfkJxyZRJ+CW5ErV2Y0XKBHemUGWNEAl6oA8OdGpQWfGL/kSEcGz8X9TwEOM0VigUMGmciXmsnuVo2mCn/kBFAc0+RAjBasYrBbbz46YntVPzbnOnY7KPWgUzfi9dSRNTvASIhKnvmYca+FYMO3HafHwKKq3t3oZRiLMO5pqV5rNhGVJT0xEDkgMGOqvSO8R6otV9s+PK8A+EnlU2EagIeuvwj8sqZ58BKl/EcgcslmahuH02OUwdIztjKR81f84s4oheYeebKDBhLLuNvQ6UmucdTGoEFeMI1/mMAtKbjoRU40M0sut+H9lcmXwn28SdaWjfvPJye9NVozOV90fSeNo3/UybEuToUXt0GKRTKghxHcjn28IYqcQSedRp5EjyWi+Xf6XsEp5wDZJAG60fa7evQLZqLOtIs8hc+jNyKxvByTbGw6j+1gF312IhQ/DBH43vlKz9flFJj+oNodww95FZxsKPEPGV2xo22lQEtAn7gVweCI+aCW4ps1VJo0biR3eNd/GK3aU+huWEj5JTV5G0yMdEMokzSYscROsfhFS7X16CnQIGqaX9r6BF1Fdk5j/wfY1u+3jyxh1bz82pE0NEcgpCaTvtYskqpodw/kzh45nX5FJJmT6bHM6YOgBnNG/bMoxyu6mcYqpKqjSzP7xp3UKdD3nZz7/TQzbqKS5Bmrnp+KUFUFWX65LZq/Y8yvXmd6CfTcy5DA2B7TqG6AbUkIt6Pb4VIVN8Lf0rgtTM4StXs+/C+Ftj6J8vHuA55GBFY1gSnfZb3ntfnHxlEl/R/h9Z/PAxt2ZMYz2DfpgvuYrN1IfReeM9gyZiueeGhZdvhVFu63GUGn6HeSUfgel4/xZQ5SjG+Cbq1HKAPU80CEBV7RG4j6zHQRHKPP5w+edLxpUoIkIoxLqii9Jq4YZT9PAHFgBqjr/wr1BoZmDgRpmy9Ta8G89G/PgFH9uERRbpC/WEgTyiLsHOKsVhpnsFTxSKE9/HMScuoCQk76H//wYlVbWaovaCi1uA/HtullXPsYhZKxHI67AHMx6A0T/n9W16JzwENdK7CbSE6eScAxf4ztcDjTfoMTDuJdNI3td5LixBX+jmYWhu1sAEVCsbCuR9BIl5TFvPgijPNlm/Du0coTDof5PhD6u3bI9XKlOMUy5fZ7S3u0JVmzA3zF+NEJTKq4n/Sh4yvGnjZHYwGodqQ9yODmvi3+Dv3A1Cz4z5Oi69EhVpjIXTfx9L0ey82MZJ24LJCPECpqq2FDkZJiwxFUu7Djl+39tG9rbEVplXrGTp4tXSdfQc/L6fbHVkzLucLUYTnDOePzi42f6BL7eHkM70GrgRyriG4rttQ9qOzykqfd3CZx9E17MpcS2OI0rl7sDx2P3uIaGNZ1xizAOEXFp3ap3XXmthKea8Onz+LIKaVfl1auXsihtmf5/LkQHlf/iBbIoaR4HXSZCVHa/GzWC8pVU48L5xsu1grLfKecFvx3/Spovt8kYk4QZnX5dw+o4obyeZ8ydIhK2z7+SfMbbxDjREqbrYfsTi8AgErWIFVM1YdeEt77VxCNBuT5qlNtLg2LBjL8j7WPuDMNGkyuV73jBwsF2AcmHFeJIN51aqBDyFvVghPePQT1OnLp1ewj68zOq91sJbOHj9NJhccQdPF5yafAtbpX6LGeO3ES+xJTPrcZgBPnJDO8DLBcG0sWDvokNJ4rWEFb5Ms23vZX4m7do6O3sB9DaS9WAJDbmLcid2VHvLFQJOGknGMswX41Sc2drq77eFqOQLEtz6PDUee1E+zim7SjrDhjKeqATYPFOgXfTzbIoLkWMvv9Saow6IBjhDu6M87IoUq7XXEF9xds+uxeqjwKE2zArLt2Wzte6h9HBCEWI29V4REny2vlk83Q/hbkoBBeAdkBW1X1muyi3K1Q5R/4Q8sPByeAJtdjWpjOUSZzhxCXtCuBubZ83D6nGVMx8vSfzY7JTVN8nYZRtQJoL5/7H4ZEEplnyDUEq7zMlAij5GTW1M3H4C+UR/zXn3JaRSNdb8SKBvOaKLxAvPM1NGpYcjdXo5RyvNjYWlld00o5xEiWQFbzxkkj7Gh2mgQieUrxMib9YUi+TNMRzcQy6KpuXmxjv3GLq9dVSlBi48SO57IuRiwXtB0qh/dAON6KPcjh0jDNqBGUdb+Uag0XLFfROF4Rd0kwqjkuqmzOOzKijERL6036bsPEbeMgyxXf9YWs0kEW8NiHsFPtKkFhIBObGcB1lDdnEQoQAVArGH7KKWQKoWQ7rqtgSyfi6vBHAHjr2g3lmIePW2xQps4527iqq8s4H99fX1ODtGai/q8dj+ET8t3LLhlQPUHkqYTD0Qgxf02qDH9dqEzKJSUKyEoRPFK84h703Vao+yDC+g0Kogm4l1lk8m89NU3M2tv64UQj0j2y+yds2uuCoF7EVGa9+/HBzd/hnFxGMjgv5iedDMcxLD0bUvw2jrwElHEwmAwVD2iNuQI80Pt4QyevArA/6wpLJlwHWAvywhorPilWpL7h95+ETJ911PP7kCmFQYo1EZ5qIFRDOr6FdcpqIe48afrHW4TfN2SyyFePUYBIA6OzZqlVPVE0cKlfvyikWbaVbBdh629LQx1XhB5CxBlm2HUCHknOptmVM+daEwqjWpd0OXbLSVzcOjhyRZkXP0UAAi9HA6TfeYyVQhLKmNthoc4FhOin1RSBH9GDOSkuV0bFs4TJ84+Rilx1jVU235Z+N3aPcR8NiyptUZGvVQcxrkSlWsjd7foz5+vQx1C0OPMe/vWhvWCIyc0oWWagA0yjQzb/RgBB7BTykK5+sSz7UwlEe1YORIEsYirI1oRywrFgbmjHpclXpXSGUeVVzk28jj/2Bs+tQpaLmfKldgbSK9zylt+uVvLG1O38z/eouhvbTRhCyc0EINbR7wivCxONBVmdommwrplrxVddvXU5ppCoKDjhjovacpwCNkkZMEcSXtKt1wfb2/l2E/gIXQ6fDd94BcrGZNXOTrCjAmdWk/bQqKdwIyWa+vQu1goFxlz5ehSRI7JSrzx0TPL8TW/cH45hK6tkAQefhl37kjeBE2ydHSmiAZJCOTlsJhlVq1a8n/iaInFpABo3sVlpkE4vXSs1/kAARcpDVSDaeBQgnKFR+rYnUqcwX0VsKmfnpnFKE6jYUOUpzAJwrj7DJLogR5YM9t/cMvMU6LSNTRGG3wO38Jhyf2RD7fucwIwxUO8E+8SoWYsuIC/7N3FPNNOO3uzRnihUNpNORepAvJzSh4GrXuvBYPnMBIVtNUAzkir5Lxw2TB3XiHWzlKHdz0f11lpJ7JeCm8kQxcmeJgL4aD9fqG8TeYtkLBaRBD/NUNeQLLxAjUzt9ucndxJWZqN3bAvjplyO1hNf9lqPWmBkNQ/cnenHC5Cbbmq2uFf+C6EMZv7zAzZ8sFgGb6QPlj4I8wrJfN4j/OL5GqVKI8My5R/5HyIWvNob9nJQLKaO2Kkg7Jp6xWL0D5h+xTpfTFCBO2vOPYIOt8PiSvkkJm4Vc19HSsAmkClYQVywY+tOhAIyHpwezSPeqt/iRtFQJbAuHNqGBIJanBVdZQ0PQHA4WBPn0MRs3mvc9WsHB9HeESH6Jyv247eLJW1kLIOYBFfrx6ZcuePctFf5EbgGrVhTeBZ3e9RTqvQ+BHU0avILVLOry3FF5e56fgx7d3vFyNjiogxl5D0/9Gr9EUGKoFl02s5cf2Keq2Swy5NJuj4ReJyEdog8nw665K2wdNR3oLa9sInGWs3HquHOzqzejw+XQ4ifAsqPYrGB/KFs+LxnrQ+eEe/6beIffxpQBiGNQo6zdbGyKgjSIv/EAf3obb9x4yot19aF9Vwgul/KVQHcR9sp/yROOW6FlmVV8NXm1jwUs1M/SwdYBjrD6Iyhyyre3DL+eCoMoJVkuAlp8dsfeStLqFrr1vCd4yP6bXSySvt9OKwuev36WkDWM51PO+LGFbT7Y6z44eD2Vw61ij5ZMebPjHEg5Od7iBrRzjT+F3o9zQpeNXOv5EVkoVgJ8ny/TXDFi9tnCIdllomG3Wppo9xL60kHe5bj4h12V3B8iDsPDnwWT2Q11nTuLsTYBA6/VHhvcbZg8464y/DwP9mV+r6TnWi3cgNVOQfgu9zbsfYSIHlphTovo34H/2w8FBjHYr2DeH07YD0pzMMEemCL3cKfqWCJTs15n7KVmyGq2Ji6EA26xcVsqCqypHh0PEPSTrb6Tia/vQXjaoiRjkdLhkTdvg24O57ozfJPO5Ci9x1hGkD/r35wj/CmofapvBCZL5JF/4IMRlFd8knG5aL5B3YUEeo/DqlS9VeRUsag2wvFtO1Xo8y5AGtg5mqvgGimiB0gFXk1aQ3zb4UjaalD+xlLdM8HoccIz05SfzVLPPnnvra9ANuuvynHWjuuPq0vpgBvDRHnbv1TGX3waYw7eFJ4g29d/BrZavRdRfiBOtWKFeo7ay50THIOQP763bJKRfYc+fEWF1wxBGE2PRRLZe2BtQ4PmRIr47dLQ3KmbY0H6HH3CA2khFouZ93Sgd38rQDR5KDU64N4SFxVklgoYmxBO4fztdFRu4aF/qOkim1a1u5+NMlaDDDM+Ig9I35xwG3tCs1N7+qVjTkzVMO1g2ERC6Y4bO6DZDVmh0CNpzXO55NsW9iw5saMTIMUgcJL24SzPKeQHOp7VAv0FC29F2zgqG66pJvZkvgAmHlMwL/FgY4k0aa8FCf1jmxcExN0w61khjtMC9Zuhs/2svPhFsof0FBmi0H4oRNw2adtAamxiurq4r0EuL4/i2teopPSocfyEMojIgHBus2byiyciANq+qWamF/C4ql7xw4DqyBSbYDq/Zkho3ckYIrJxOkn8X/ztbugM+34Ok1QEyTSHT4rZyQ7o4Z74bpH43cWySZr0Pkq5wS8rOaxGLl63PqopGW0LJolz7nQeb6wx6QQvgyHC2vdTcxh0JlFuq7Qxjijzs8vovHfex/lMSB2VNdQSMiZXARdcXSadM27iMF0i8u1YuTftTQIYohrWyNMsY+nKHBb3Cs8iSScennBw1z9IGTe1Fd5JZMymx5oRGTpvdMcCLDSDbKf3J7BH/UV9IRV1axEGPnjoUWN/jnwmlxk322WnkH8WQagFZSouvVUqjJ3PZS+uMuOtWRnXgCbUq67RhUs4na4PRYjHc/lWIMgm3NroG6nWKtEM7/o3UiBdm2CLesYEhhIc6x4C9fB7ztMqc5d+NLOrn8lyxtAYz6T7yoyyalvm5dPOsqrFOIINRPQ68fOLiq1RtFaQhC0HvO6rDquX/EikQVxomon7Qwpa2T7ciighpRfh/+G8ao8amRHDxWTHvWynXd0nrRjsrNAxqv37+EnYT7XFp++a9ZyvuQFODe52aL5BslQgpXTGJbOKk7Vqqc0YVugj/7XczWYMA0kVoljNa8znqO+ve5oOnpZWH+Mg27C5yPGtoTxI2vc6aiWNnz3AQ+oYknzSYKUdxsvuSz7YSZupJGO9Abzn9cUf5Hr5w1056iCRGl+MZ/wcYSjdcn8f2HDJH7XgD7Y2kAsmuzs9SichwVxjEny06D0ITQf3Si+uSQlJh76PU9npVkAKNFYmiQG+9WLbySaZ1TMw5l65tlbcoLGToAHNbkTEkd8vpIoKa/5uN/BZA4TAtgFbwB7IAApPbNGrkyDRUkewUMUsDeuGJH0iVhApx/a7/iW+1ofaio7JWueSLOOl0MPK1bDhOiBeDA3Hcqx7vhWSY4GavaJM3X8O5gFSzmYGEJYltzCvo8O9vy9K2RN0mL4YhrBru1oH01DtnlNvxC9AxEPOT4YVlfn1G1uSr6gLMZVyfUxzRd1fyktIXKg/u6ITuOG9WgHYECwqetyPf74KP5EOqkOkSw1fZ/Gc72wQ5wax9pGM8kLBosRrvnrthLyniYY+7YjbwA99Ij65gIWZxY8htT1P0Du+ZONP99UMqaTQjSvoMakw+jJDDT6oSQFVGyXyyVIk98l/uAZY2GSp8zV+TRC4h4A/Ao+en1jO7MTkM27Jj+Dab0sacoHKcgublJChSYJVjV2A9S2ytTcDQmiKzpXNwKMamRcANd4PrHqPU8/Yo8zz/BTKQVI+oH+FcmubYf+nSRSfEYuJCK7qpPrDqg7idH63hZFr8t4/xm/Th/Z6Xb2phhQ10U7HUe/D7ZW6Y92dR4GkUI2Ca8a5Z1K1Z9QN7TBRUSNlntAQrgwE+IJiFb5OZ3twXxv7yzh0+WYLAOGAjrCDitO28dIrlJr+1MG1o8biltvEVE5GInQU+c29KqXfMJxjbcZzFabO0rhV2tghQsDUAJ5AxlUpnQKsyUqp/Cc1WL0RuRoU9rkuQDMgEYcKAI0AgACOw+Mquj8yf61YWFmv8n3nkd/zXIW7e/mDPk0cQKWez9fxxmpC/HRxs6r2CHjX/9s8WGV/FmL0pMw7ZfSRKaShRhrVJy2du0S8+tTdkvap31OEbh8hyZI/HUTR7mi8SDfMr24CYgWs3ULzclpygRmF/Ig9k/gYjb9U2RSDxJ5oDGikjPHWDriUQLtLgZ+GnyRwPKRLa6t+hrfiNJGqKq8YPlgyY1L65UhJIeomZxCgBOG+eSaVpSWZ6gzpLmOz9M++PYIp4ZwRAP58Sv1CNIOnbM9KLSUIUYyBhWJOYY/nl1iZgmbnsU/tgqHFCWHxXkxKWuEUuiUppM5O5kt6vW3YBUspBFryvOCq9NnCrmtIMxc04objV0Z/yaLISj0Mb61ksX6wtGfW6gc4riV7pHG9IbBCYGkMueNdyq+P6djYRMAUmcrBzfdwp6pmJCFK5wzttF/yte5fw+X2QJrs5zrM2xh+vdAUv44aqRRoiK6K0g8UorifuNIu4L+Yknl50HpBWOfe/VzYiINEThAKV9aeCwjv3gETpX1hB2tAv55WJS6icSwhklOCaypjDI/rrXi1qlThCVRrF5GpSvpgXBqdUEiS0erRZsKerokDYvjT7aPCkI8+etJ4Tqbx8S6CL7t1fJuujvR04nux3FwhWBIM6p4z4IGYXlOKtPPYdPMPZjURsvbCzCbrUhd0y1VPSBDSedvIEvxk+2Pg6VtmaBUeSRL6i9tLqACLuosTt7sJjy1T3yESNyMluVuur1ijwr9aUN0xrIZJOQZmrJPN1QVjTTw2GgYbkuCRbRGyGtj6cMOUswsyG4Hqa2pBlI4LiwD0m9UWsdbFQXGnT7keAYkgkVlpbGc5RUsRgMsjjQz14EalJoS5UG3XzuJmTXyg1rxRICLwwJCuKxYGrSwC0pBAkW8yV5co39Mks/S6VQ9nWrlDLq3U10cOrDf+ofPPgnj8kKO0nUxVX4qVZZXjCyW94+tGn2CjWHby0s76eunxEVsQSKNNcWT08T2hS9A6tqJiEV8ADIubZ11TJsKmQnP4Bd51gU5ip3TkZnzVMtPrwEGSy7NI899aB8dPX/qW+d/o0w4NHws18/wayUbNgtWKAc5Ka+zHc2p1N1Dvkkw5SW2S9taXWJgLuHazRZvuwJsLiOKVSHR4w4HoaW8z4xAfIriBjpKlp87pFB6H1gmOg8U2t4W2k9OOlYdGMBR1oBJq2MibPlL+KJNACIXZ77h6tC8iwX3/RbY9weCEbNSXW8LTvTCOgi8QWbiI31RAfvjMPc21NII9iDIL4ySW2y+uwYjueCkGBqyAQpKMvwqeMeAHL4RiSL3X6/H/XlJYSlj6ZfhtUd6fQ/8urQtqesAbyZLrmbYXtNG80U7pF4HRsrTrP7lNdmJ0DbN3gD4nqn00ywlQ4U4WNoSnS6MxJAakmkuGeQpOtRhdJK7iulaw4DAHmw6klJzPuVulF+tyVxOwneieR4gYJH7NHrfhxRJ7Zbl04YsJHyRDQPy/MYkV45RMWoWS9inoiLRzh2GAWS3FqAM0+WKXEMqIXyClw09fcTYgVTs5bWEH8oHloYSSIa8aBzoGhDq+sRcrj2FtGYyI7qOQa5OkF/ichW1wzMK/1MRX7xuz+QATnfIqCS/n8qgkLzuAghf7Agsny+ViepAXgaJbg+zb7oB1+GVSB/NmSqtszcfEF+6px7UjrMdg8SAxGO0Re1o0jXYD+k25eBrqYC7ZskRmD/Lcl+sy6Ddegst+JXQPkb6hUmWi4sSJrdp0vwS5FTm/elYOhLlaA+RlgbL8z5rTN08bxUFoq5QRksoyYmQLGhfcA1yAUZ9rXMddJzLvO4N1UWr2cyzImqA5I+hT107ihpuaFOSnXF5f5OrbySS1SZVaK5K1EaiYnEW9922XUnKKpuLHPHNAuKoeHbEqsHI1YNZFoE8haykxr/wvim4+8LGyw80BaV2Xg4p1JTPqt/j+Id7DtOxwg7w/2EF0ABiAmJKNvtIu+bYn1v25NP5IdsJ0xkBvW/XsMl002GuAcWO9hRoALp2/xRC4qe2Rg7YhUxNy2E/2zHMZ7sjYyKFzWKE8hPWHO1N9AB+icw52prK/6D8ZhTqHuObPQXEtD4+2ShU4Vh1eVvQ4smLXAnGoiZLoLCl2wtfAKcN8xFrqQwl2ptTc8+kks8pbjKW/XYYXzITMfYDkQYnQSUUBru4vVd7qIPUHTmZuS9GYQMioW+1dzISY9UY0ae3fJsSvhMj3hCQiCo8dJIw4nBcAjWbQCBnIPLCfBQTCaJcx2ue8wgq6POkaoBRY0zs85gxVuB1h/dFed8H5uzcIrYgh/KdK//0HGcsFFVqEn2THx3vhEm7duvwAZifhcK8eq+Nlauff0HZ+6Rnkw5+RfQhhCKkqEfLgSNkQPojBKFtniTboF+wNa3Ke/bXRFWWKisuh5WxgGWOeDNPZq8cO9qJ7AoR+UFWJ9PY5nlHiYuA6ddFKgwgDNG2ZMl5tSxH/zevpGV2G353dbzj86cLngo0J3gQA/AHEIAAYQ3AAeKs0vC8d19A+fnDXq8uhxq91XB8g2JTXyhr/y4NpALzNmJ3Wpan1bBt6BdYw7ENGMF1O9gMPgKIAAmbHrP4DIzNYfU6G0CYTNdq5ROQauWLAcF4aPagD+xhjJKMUI6KIg+RmD3SzvhpZqC5Ay93/CkHOik+HG6zP+MfTDr9fQmBtnxihfyB0RPEVxO0SvF/DyJ0PZQ3ndrWEdKfcajN/QZbSuZ5kGjBhzTTzPULRMES+s78AJRLlK8DPTorVl7EhG9816RDRbY+xbRSK757wxruxUCUrAJrj1IEBGLkImNsYboMEzFGq3/foUH9bsZaGvqmFkMIpfDmHDSXEAlnF/KXVC2IpX/hmzKWqIQEEJYHXuy1op6EYhLBLtrOVqljkt/TJHEXKbLAiT95daIrlWLsh5jDYXx7HVa+5Ysw+6f8JQ46Fld5V/XjzDJvKWfm6GtE1z4pkzD2HYHYqwEaL11eQrifQ67RmGWNeX9sWsi/OaOG1e87/w6zSfp3gCLxr/8HoDBONLnMgEMnrpghbZk4C4usVygD9Y5VMH0seoO0RRNHnInxlX2KlD1+6DugPURZTxyqB0EHcLq7b8WPxQQ6MiOgenLoVFrrBRkIJBuNlp8B/vk0sndcAIS05pHxO34ImWpn5HIIdxtgXO5ThSmCeWNN7pcPcUrbm0Nfonj50EvbEECWoQjjnPkJWI831zKgy+lZo/W1kcDyj6tpT/ztXxnHc9b5sgdk1s4y5+q++tjLC+aZKa/B3+fYRp/23JVgYqXJ02i1VftNqa6jKsJ2inoZDF15DuN9+qDri3Jsf9TIyL/3pfGMHgAKNCaYEAfQBxBwAHEOwAHfRoowyddsngqvwCNuY3cj1/vbLMOICQQLbEDPCGm3QlWzW7SoqB3x9s774MMvWNxld49TcvIP2UZzgGzfPDfjNi+xIWO3yOBZZO+h9XSRm9Ra4dtvtz8GiLt7B4XGAhoaO8Ro9gIXnd0T8LR5LcbWcU3NRj+G6UWpSZP5WhJD5/hdBy9euwWnni64qaOR1IlV5Zda8EH2iek4luQhUL6dHlvkXhHnKMrdQ0ecxnmLAdzQzeF6eyn9fza/a8v+heMrjTzpN8XxGE8EQj91tNhLwnLgX2gVkBYvQnFchalcMotMHrqn5fpOO4Uq/HkbjcR09C/EaXL2dMLOdlEzhfqTtR1DURm7zvJwYG9ASQ5dPAjZclGd46Mntd9QbmtCYC62vMsS3Bv2GGMt661ENY79x1z13FFhDimbzkAUjV/x4bwwNKeUCJzjdd55dz/4t2eTyZyd3L9zOjozdGRdSsMro6RAeFxnDtD1unvcbiHqFDGaQEFHKAvchwrWjao/KhiKcKeh8jVz9PYW0qFb0GXC2tSn0+Pfkpc0/F5uMskM4fE+rDzEavJM1MZZvdHMt206N5OWgvq4/faR6nw3hKS525kTr+0jxsIaA1algsxuW9FkC+VzUJHGCTg+OflYRdoIFa2qFl4UskV0xfShpJJUAKuj0NhUp9SL+TE1faCzvXbkCt7oLHw6aAAZugDHkUfgAAXWXrO2yAsI/StHAlRJe2lX42mkBZS2QMKsLlq8xLpuEcpyPMGWa+8ZKm8RzWH3VH7X5yqwI/WkCB7cfvLK9Ew2EdOroLEH8541aAo0IvgQC8ADEHAAoRDAAeNzSWdaq9JuARt0N7kFvVkgui21PCpkau2iHm5vntNaHJzh+23Pjcb6gJ4r73zxUnQm826PoN7ZNQMLQVM+eMYN+/OzV+Dt0ph5eSPP/yyGrwxpei0o/dRH4OlHkBIwbYcYqevHfLBOus2PMwAYSv8L6nrKuOuMkJGr0wZmwiuRupHKGIqPEdZCvmasF6ItuX5BXZHHIkJobFH6A5YnNmjIhY77f6o0xHyHkhJtpxWNx3BxWA1Gokra1sX7XOlEj6nrdyk369635t8YK3tJfwrUewPyVD0r11B+nOD23o6J15aI4Gjd4jAWZyzHbucL7kjmLtXHI9+HvpQJRFvPndh09u+g0KpU8aHbTc6MvGI2l0D2j54PnFuMFVrmRmAWRftet0CCed+lhRDXZIzvBwebOwccJ+xfc11jV6iiNlgPUcecA8zgKwMs2sl5ClFNJK9JxZe8Q615SVdgmaMBrNVNHEpMocI5Yxk6FhzzmgFOpKXr9TqOeZQMSNk5Hp/5u+Wxs28brgvXXJOFO5h3/WslGsQOVGQNLaKIgNZSLNA/By+QdeD7eWon3jru7Tu8Q89B6RtzDI7RZ33IUKmzDFX+BQGf/079U6J0SJGc5Q7pugn5U/wW0QKPS9EW2TNnIbQ0zJxzHclfx2HOQVCirRqvkKHcTBIbNxcJwkVSoGfK7f4FppQA5yvhRC8ABIsEWPIA+UYZR0hMbGhoV+XDBiAHTrQKNCX4EA+gDRBQAKEQAAGDAWAZE5j5wGorgwlQzcYoaUbGMa3XTWEBiBlQXTHniOxyRU0t8t8XII7i/4iSrzXZSUrcicN0lAHVSooNUCjXly3VeW/KDV0Jvs4nthNxWqbRgHReh82oEw1Mpg/uTp2Mmpd5lJBrf+6PXDk1/j5zHSWemoxRFw8hYc5cHRZc+MoKiMe/UILQGOBpEt9HxyEaylja+nVI/lq8DPBnKl4JnzFaeUYZOcz0rZbGTF3oCj5jEQcxWa/5kLfUKzBl39tO0KYXnTHaiW0RcQ5PImQR9nPbn+3uB+VbmedA7ExNXNc4PSNkSo8zh3rPV5CMNFv99rTeohbOlbKuCAtXUoyS6rbGT916r+qRwnU6bQouflzbWVrgemg4CXlQh2ufQHo21lzA+eyR5foC274FOxNApAfPMbk3RNlxMpSxkv1wUjjeMw47PpI11c+DvoA3qT5FYTz92fTdN3fYtptLKZgceD7Z+aq5+XhoZ7NjAaazX5HTUKkUCp2FBsyo7wHd86a9mFT/4SzzdtQZMStDVnAmuQuH9gVMEWbh3oA5dVnLGptyts7FhXAIZkEc8tR5gH7E0LSrIv7V/5+5IA3a8TXvE5Le7dp+dm4jUoJxpyY5exUAIZxJ68PDca6/BIjR1/g7AyanioLDZj5vprDyIpVVyaaIW9PoOZEwlPlxOhsuJHxuLu3uA6elfqQ73ub6NXq3MYCo3pq/jnhq3M4jkwSW2630fWtTVsNSY0pzwdRofYlcOpIEIq41we5/NKCw7O0poIGXIPAOkNh7JnCIeUz7Pp1gCjRNyBATkAEQoABxDoAB1wyQvUvk+NZf/7/Jc/gVjFsTlT+Fb+0ix7+pA4W4FZWV+qByo9l7v/h7Bwo6rUwVZ/SQ3v9d/WeEcu6Mr6cVg+m/aU64JwTcPeTABFWPoC65GNjpX02UW/sKd0tmvraOhcuBbdSwYO3gg3d+uwXeZUtZ2e5+tmRNrufv56u13Ah3t7DKmmnLZNYSMSPEkuT8OQ69joIJwl5W1QD0luJhlwjEYpZj2AlxlHgLOozm9KSa1Nci/NpXHd0b8IbrSRyIhGNH5H9wXttrhvM0gd/WhlscTjJyTJUa3hTSImwTxySeGDlOvKnf3EgvHNmma1JowigI2StXxLPloq7xe43ZX5nxaO48QmEwRZf1YH2DH4vZuMYEqeRDQXiePQ65YjOOFY4HtYd4cmduFOthLiKSs0SdUL653KVqbm45d9FSqicR86vnor+CLNiFEqnitCTMsRCStFReyoN3lsZoHNlh+0KLKSJJuldGtl+smqRNM9fgw3RtqLvQGkc3qV0HWZtucVSMB9fkAQV9C8oIS4Exf0Mb7MRglmNZ/H/zM832fWd8WyBnAD9eAMibwZUmPZzAjdta/9Qmkw/yQ96ZZNwbMmecsbvJscT8ebFuCe7LVekxdNetb7HlV3mhKrfZUcRiupuYPtixiziGlR+ell5YV2M5K+RY5yRBT0MNkhviZvLfzL/5BnVS2Y2gcPPdxn3HFOPRrlq51qO/aW8g+Emkua0Nen4ELBqCqHjiXSdCjqVSU1OvlQ6VJLRNQZVneqr8bOdpbIYiCpf1U77k5CjlQNcXawVlAd08102cqCoEF64ju+LrPTPaQq+JeDagtpX+xhThBv3TOol3QuDHG20QmhWb/++IBIpZF1sIs/A3JMvyYUUUUL7sytrv2jUBLzNmUnNSzmSOhgckULTbXNJNIAGqxKRa2I3IRi++qLAn1K5/Fu60jHpc13KptzV/bMRA3CqIDzhG3ckiFhxGP6s8ZRmMLSm9LNK5Jj6N4RVqmKtTjNUMNF1X09RW/3xv31kOm+URqpLjvrymeJB0xOpLlvFoHBVv/PXPFn307ifWECUUIEBzrKcuZRWWKV43wQXQpOghIJpTw/CFRqbEcvUqAHzzS7jqRA45qxmEnDe9k1i6fG+7EgfYFlbT1HsBBw3xFNJmpHgC+8QG6/F5cQeMtdLc60W7rnlTVZSXLSMSSOIwZEuVX+WppuO/O5FsYwpNn2F3u6YUrCWqJvePewK2yq6q/N9XP+V7zNNbW1YHaX7dDhiEvayF4PD9IIJBTx4t/gjYhxz3VA1scyAHoIZ1zIsk5gR3oVUgd8eUEouF3H2Qi7hdYmZvkGrgtB1Hbc/oH6/3ZYMH+05bvUXcjnvCIQH57hpvIYD7QLd2mPdKNaGaYDkTzNE4LDGWkNwo+dmvRPTftS/3FmUxnlaCjCD/c1WG2HxmFysL2NP41hTGdoDYEZNZKszF3tmLZSNRjY997j9oT0791aJtkSWSeLvwPVxjpqNDw0uNdQaklXqE+pzyLFIVIMi5szsc+Ta6zfNcJwX4/ZOhU0gW2EmRfcZKf1EBBs61DLf9hMC0cMakJqiA6FFveE5OC6g/UkGUSYTTRUKSiRH/VpcoOGNMJpbGco5qhM2SJJMbyOfl5n4MPNAKNEc4EBdwCxBQAIEOQAGBQQAKCwn9gDKjmYwQLQ0w/zIcbALTemy+eJ/j9fJeSveMSIzf//6AD3oHOQSwhusfYiPGG+qnZ/G5l9u/EkXyUt1MO4o4ZDnAQ6lKie8J07CIOrDzthQsmp5CmphGlG2jXFnI6Z+qqSe8BDhH82X8UKuQFsoXZBowVSUNHyguCqS+HwA05dcvLFKX7d1+zn9BEO53HXiz29TMX2qYQr4IA9ylHrnjGQzA/PbHHvG4JgmZIZtrr9nYQ0PAbQqhGno1k3lx7cVQCN2qJ2mT7Ddxw291+i7zsIlmJtH6JqjpNF9hVqT8ugLAvKOwKv21t8UDmPsBaVMas/3Nf+T2z+DzYSMolDWDrl6hqW4i1Kw4Ya6uO0Yb5Bc93ezNHfvaYgPssb9QfaGEkPLNe7NyFv1aPRiPEMhHvPnjyjFmqYxRWf0DIdTGVicHuFMQh2MYqQoD+t6XTL0sw8lrdVHTAXSGVNLFp0ue9YQ+EijgOhiXtJeOfPFsFUBAxZaROu5QlhGoehSWgZ9+BDiCBRyJzq1prhpl3O+C8snTDqddKbn/dxHagVwEt3/fkcqFs7lHLdLl/iKPFfL2I8swY/ZyPwn75BxRq29XCC7cC8LH8XYYsUJuFamYhibpaTXk0K0rDzHyvlfXc2WmshlV1D+d06u8Auuzm+YoWQsRZ1nEVEuVyRugKNGpgMD0mqBRBY374FNRG9k3ifjtkNm/ExViogPL582QA4eAILFYtHssWOcXRXVopUZwviCaUdo3KmHltR+EFIErGL1gyKBW8urXW6YCM60Ro2IFnuf6ZVdLc17/aFcYb4+hCuDDWNcTJh1Q8NucJBFmBovFKIUdw0FaerNxe1l3d+t3uA/zEbcmYIbLo1IO8wMUwiZGsrg1a6vW56DRcKGClEBoOJT90kmALwRoPVY/Y8Fr51vDgrGcBJjNw+oRZtRRSTeAHIcteE5pcCHCqz5uVU8A1m2vTun89AiYVuALc7IcCNKjpIsEhqCeCSAClQ02kKAJtPPDyENWdePej4HiRc43kvdibOFeFij5S2u/wY6HDaxLZA5e5iHzzxmFavJZ2Mom2RIBQrK4xWDew9Ze8qKHOeRU7Z9l0LMFtT/XtbPxYYaaGLddUqWJ3NNVELzA2BNVpB9InXbJyQwsmLT/b5ghQkHj41mB0BZwKEqxs5EMggIQeTFeUgyiJm619hg5vA1asfc33Hxk/YiAOgV2hWU2qWAkjFgTZHaZjT6rSbNtRt2TRYjOqcPj/ARSaR8mC83AAULilpNyeKvVtow5wUc8iIImOUM5Fl8SYBi4iVxVYnowCMZdnHtsoxhsPj4n+a+osuxX6eWIERoidFMkvEht52Vyh9BaTUeAqnBwW1qh25N6aXpr+e+Boi+2H/5yvND+qTaW/22uaeQhvtyj+hjdNMNYU7pSsA5cgAEpBh7yspzUOWnm2DtJlgniEwdRZ73+F6zorJJWCroLL9BbkbBGuF9gN0r0ugn70y+Qo3USAAo0PNgQG2ABEOAAcQ4BR3Mskdz66lhsJq68rf5j/s8tf+nsM///KG08///VPDzyMfL//+wb5GR7f//9UJF5D7wdDrwDbcaPLYwgPIRmJ/rLAcj+FqVoqYH5KOY4po7hZmjj233lhzhWGBbFPeHsiHwpaZK54Cs3u36gDgCTony/CgBttXEIc1ds5zfQvDYhf9GHdI/J8/Yrfq46nr6/YODKRXr70t3YmY55ZWET1yzo71Wl5vJmUEFpItzk3Coz218rrM8qeZXam5AiGXxjt1KtQRfbmtdzk5ISJzNMutF6uTcHvtOqhZr3f0mXHc9DKv5wUkza9FTjq34k6fcGFnPIWeg7MJsCOp9Yg9ONwpBUm4ILCLoFF/rAZyFjV7D4MFsVzuCjXoN90YSPNKzxZlnb95CJNfF9K1HwYKtggjE2KG9YLP6wX9ck+eEDSo9v+qgAi/D7Akv1RYxE99sEYtvkjIFh1trRoAkbms87JOz8ezB1lat3UHyMuDgkfq/EbdxozwzKvLttRUXiip6zL9af2gQYOjCqij2KG7ZwS4K4R2bAir7VBOP+wfNjyeiKlwnl/q19EwCmPmoF8MHz3AqQo1RxOF/+QBnJXO6HeBKEEnjDuMq+UExAEa7bG8LdGqFlOsnJnpqXefTPD+E+JvREGkRQ9iGl1l424WL3e6ouvR+n5uKKVANeOVw0TPXS00zzolY3DrZ+MifXH/jgOPgsE4AdqAA1gV2qLXltOAljJaezqy2q5kPOECDl4nHOEJfqDQVpeJIAHAI3GAG0apMm6CVRi//Iikk/H8l8fP+K7FyDx4N9Su6ueDyoCOc7tRNhv9D7aK0mBmfASeLpzyZO0G+5Y/4yuRVS60yTiBcOFcAnmhwi1XngkHfvI2vMEnzinxaiYwvmiS8TYKyPfAmw740uSuca4xciVPluIXd4W5frxw0omjkYuyhd7q8ZS62oHbXsB2+vtzerJHd3AlcWRp5TXsFqpmr5Xxy/02ncJnQsZyjzXH7z+jP3f+ozXrpvEEKNQLVTjOitUdLvf7HSg7vv6jfY/Xi9m7Xm395wvr3OXQljG92MpZMAgBsH6z5xElFaHAuRxBSAy/U8s/giftVA0uOXol7UrLnisfpfUwcShSnYOac4kBzzq0ks/1rsWxSkEQ9XEGalyMGgwdG7EMOAFVDGnJbzFbzKtWSLP0UHBMKug0Hb8Vt+oVzeUpWNjOxDHdUhXQ0F3RDBi3J0u+ASBpQjrtQGKKHnSfvwcX7L5CP094hR6wmf/5tpYkqlt+0Taac2UR4dJLsLwfAKNHNIEB9ABxBwAGEMAAHQNcsn+4IauNQht/tdkM1cl0sHpDeeGCgraETWHbHHk+RSFj/EhTtvqzJtdsEejStdlPbZwTgMd8XSLMsZCYsYdr6nMesZypwnf1MjHNJO709z2Dt48rui2TNxTJJSJYfANzF0s19tzhBDc4AxYaZz4pz6H/jMXOgzvOWw/rUBbxFKDSNIM//LJ1s3674tmfEnStttHeThjcd3R4rAhyIyZ47Z4zWeFbEfcNXRUwh2AZRgxPPJsu+dYRUWxM1V/ZtvgchIgInEWLLZxYUUoRPU5zmNIcsrv8q11iw9uUq0tSv/mtsqozn1MHb3zvUAxy4FE+i3xvSEl34xWy7hkjQ0plnHMOSDx3XeiOM1E9gcSML+Vq5NfkPJ9ZuVQA+/lxDc0DY7y5rRsXRMAibQeyjU5OksbAwP+fpJk41ZLhTkpMyrLfxNrMKh+SuNtYFcW9niZSQd4VMaD2hvVPos1RyYicChIgRJP5s5nFb/74POtEZeuJQWGKk15PTD8ZsADxCDEEQ2PdGi99Zfxv1UKHfLIJw16JnEyhWz8ELwD0yDERzM25hw2BeeZAKNvmOd7yf2ftYdEUloPxholv26HPYQpH1gjnVTRe3SGR3Jzyp8o7NwTTrBeEOlE248RaUfgDKnp6kwmBz2eM1h4cR4HTh1/pk2kXVc1PVOMK0/Lip1imrTLv0CQ3DdM2Rg0kFyUcJOpdnoM6ouVyKVna0Zk8hIZqyhdzbcJnzLTKMjkbByVDt+yFXsi+NeBbcFCGN9oYKj/6sICgYtiZ7S5tE9LOHyGTI0JpjWwCBcs7mV0LQvI00fJa4QgVxVYj1qU6C7NneDPiqH/k35h9XP4ZUvoi9CB73Ef2HJwKdNR8sFZ/Cu+RbMN2bCvoVb9DWF6+kTGZRMWyfmTbHdCpgDdoQBPQsvXRW8/eBJWFPpo1nb5DQL8I+4i//sCXfLE7IV0dVFlKYZqmC1WuiQJmOmN7Oqbi0C9ny+dC08JxszqLsGLjTGhqfNJvCv8z+E9xgSsFda4dd8kLriaBNcC2bfks7/0YCMQgSSqX9WcKeoy6kLb2ffTyeY10tpshxeh/uB09jcXFeuDgyDdtia3npgpv64i9GoWUX4OFNyD8rXOoBrys89ayzIZ0k5kYGRZs5OwZYtFTusB0XdOc8xBz+geUim32S77ncOQzmTor9ltvpSmNuZEMI/TOPgdjIX/2/DCG1e8QepcztLahKvjXIVGgkFUoHGB0l8ymtpYA25Bhm38lOZs3ruWUMYCeo3UgiJ/Fw/NZYHVu7ma8ESy/o+KTzHaHPZCoaCKaalmRRScBI8SRSeiOIoOdCvJ0EhDjs170z3BdVOfIT9guEKg1mDWRPxYNTi3siqd5mikDIJKy+a4XjfDKHXpvuX/IPVVQ0deTgAF1DXkMiYFI7LUeG1EgdGVuLBGWvSOMF9PAmM6NxUcwmod8cKkD6fJudCJPQDfBJEZG1aqJQc8HQW1pqybxmShW9HP69OvfUHIiJmS5p669AD5XXN3XkMyCScsRiBz0N40NupbUIh7aA6XLCpUpaXcyPw/O9QnHGebb+iurV7UIvpinBb7xFx/bl+KKTRI48VFVBAvEagbYjihjrZKcjI8X4fMH0VdEVbCUowss/VnZkwhni1M4tukW/xbvGkhOzckvuMhkiwo8TLZmXQlxIDTIWLnq/WJDt/WMOSOrud8s7zq5Gt/9BcTCrEmULfhjcBqhzzRoFQh0AYoaJPHzvSXsQiifxesZzv92UwfoiwIIp+994twomI62VHns/YrHy6wvHto0yE5ypjY1xmip/Pm13m+g7gAz79zGLXUJbeJYcOPsaCWvcuOo9DMUrHgFWHOl4NP0hVMNH/8Jr+7l7LacBwlXUrdE28clCvenvNP/Cbg3BpvkyrNNLZAaSuLzYb3cu3HW60pfEglCPyZDvV5txY/YCXqQREOu/i2m92uNNGNnoXQ2DpuS5y/fGKRDKQJluBRtkVO6DcnBxEZtw5IdubpaYN+nKIEwaiLqYMGEN2Kt7hmB2/9i1YwSO3vyjJlh74NHOUCUR92KkjGNk2umlQCqPBN6zpij8ekGiNvG63Cmc6ZEy1HKp2HmX+gjMTRUS9sLAm1PCfBJx7UPjUMsJZzlQTdOimaWaCDCy5WQD0LG7n2qc4ywFHc/XLK+Tv271YJNwV0LffIAxP5ekRBdhyWwa4/V3XxgqC8m7BsHxrhibIThlYLhq+LFxatJKObE41roVMCueTDlgo2fC8/9bxujM8UgVViMrrDSleyhAvMfn/rZJFUGxP9fhA8oO9vGcHSwFkGHhZ9PVB65KQX5TSp36l6aWJI+595jcRLZaHvXhHgHMYCF6sWIqqMHQasZETXVg9TWnuLbgba82FwpY7vD2/EEhO86FONURpP+y7FSzwRgOIjliEZL4ez2kDVcdW77lkAGz6uAo0PVgQIzANEHAAYQxAAdrhERC8ACXZY6Nmw/bNzXaIb+ZU9jpxjfYhACGjWTfsp315mabOA7m/lscmFmuyGdMg9zwSvyKJmAI0eq98O0dZM7MoUZAgqmT4yPgrdxshW3/YcC7x2S7U8pIuPM3ywYHs6JIHmnUHUdNnlik41Iks2NQqDdRocqNAh7BgFAROIrRGHp7cAPq5WHUE9Hz9D5oj9tNQiueUIFXtI/zXdNnl73g5q/DTCT+BpVDiZXOXzeUXWBiExxDsHDzMkZX96lnQrYMYEXBBn+OYJexH9ZS4UCwneg86LleWVi6NGCtifWBzSqauXLPUtIrLKgv3BC2zb0Ki0qrS2JImlXSWo0bOYt/CFQc1Iueqak/c6ARDh+AcLoqxZ2YWLf81tw20oo44HdV9k2dGma0qPQwJtOTEKI6e608cfOUi9rc0OK7fBDv438Npe84gfeZ3mJbErghCyMHNDdKJK73EH9+g6TwKFmGyqgz1LzXoixPL5WV4oClZ5bAMJnAKfGD7n2eyOxelZXcPdoUFJ6czxHZkIprUpwteIPiv0jzpMoAesjlo/oK8lo0nwPgsZCk1wntRh4gp9+s9j+pK7WSY6lTQH9XegHSjjnV/u2LjmnB1tSwr91sHeuM+GVAkRMwB/fevLAJNog2OIX48RG++zMKlZdJ2b8PWSpxnstAy4Af1uHszKn6WlkZ7coCjQKdacXY929Dl6X5BGApWWpwBCmhQonP8lzTCAvaOTUyevN3Lfh5IKFjj4YEwDGebvNY0wv+A88o8Tg/Fb12/ACUMFj5T5z5n5W3vqebh1b+HAnNciWTXJBQRgbYTxo1nQZjP7hBT2opd1uGud3mYn0Vi1V9bVjF1ptN44yXhnmbYfB9joY3kElGwrX8pIt0Dp1VQyaBFKI24YPiLm3xDd24JBX3U4gA2cbgVleZLB8unWe3sNEGy3s6A/ThJS24tseaTclH5k7vJ0KBGNbFvTu6f3bkVzDHsRX4RVJwixaUF0BqoK1a8OuWtehvapeTKNLWccyTLBQu5s/hxzLKz27QIpUATKSwbU3siGPOz4gsLzM5mANqjpTiX+qSBNOLzS2sKdhdlc0Hw5+xfn4pQatKpknj6ul3KbRKB/d5vhD1sqZe0s/CYTZQNyHM/edGexxYnYg52ZjR6J+ERixfsf2UQT1U9XLKqIZwhm62289fi7rF1PLYbRgxKkhZBak/VpO89RsPk4DwrD4EDoOP2m3lqvhmdqngyjmc+zL17BE+p8C9jMDXrUoaIoWPzVUtDzdIeERzhPSKxVnVaq40FRgo0S4gQJxADEGAAkQ4AAagL/WQAwKC/0A1KUmtFuixnrLUq6QSUnSFVjcRYHUlH/pwOl6dneSWlZ9xADX9UvcDIbqIN1sBwa8s/yw3GLXjB8EXNlVNLTjLQBeTwDenTgpZKYqGmOTQLsjxCWV+s0lUfQedDgAwoyyYvuvKZ9cWei0ztk4dgbnmsS3FoLJJAj3XxUPttrObERl/5Tjk1ZNEN3jY+o6h9804PlQf7PFe4dNaOT90qpi8IZnncl73aDzcEj+Hk2qxkaH8q0Fb2iqfjkJo2D0J7s7MwtVdkZTrXVGJwGxQw5+0G2UEnmcPrff229SpoUa2ULs6RSVcuYKsHjVnJOTohtvdRz4T4FMhG9O+NAyZ9IrkRzG9SAeXapBUEWn4j98CEk9OYBgM9LP1nmjod4kXwsbktFUARvasnriRYENK3WxEjjUZIMOZ18X4eZNqoRl4gyTdMvX9XU+M3RvvwDIN5roT1dYx79wHVcpmvAXR8DPGPTBZeHyj+6JsbxGmRovViHy0MBSalvnFzI7yG5/aWV+F1o/WMRoE0E7v6mkIAG4h3IeG+45XoCdn9RDssQ8p6iQOGmt0mAQRuJS/TtXEqKEntbt7rRyZP1D4o97NXQIfvlz92KJM0zr2CUMDTLmSAU+9+ma/mceESpykWbZsF4yh5zq90jmvB+saezV8LAZFsUK2dWs5xqKCQLG0SEA3I6qgAAzrU9GXwj2DGapvOdgCOa23A75cXewBbIYqFCqgWTvgxaM74FNrUOj2uGZHPKN1HQOynV7KGJnGQFQN/A5FvVkgAILirhblLdOvK1plumzYi9xma9oDuMq+rcYO7VbWMpYPyK4ttK00pXMDPFZc2yPAl8nykeqMOiaMQm5KJSec7buCrqWqZKZdYn7n2q14ysuZX4z/j3UUtAKCUh+6UcJ3hXY0qd1jJqo6wvDC6ggTDF4xoNZZG/0iqSu6Rm2DKvQGBB7yGxpui3aHzWd4ld+euHpFDLQKp9x0kUfCZrFF0h7oKxQ3FEDwjPcXFDNdRo6ckzEf9ELrp6fsfOvrGO6A2lC+3EUcWv2qC8GAxZgkzdBhvlhtDA7fSZhJa9thVTHtvz+tJJp10nk76ILLikI05y7OvXIAAWhkWy0SIPKtIswvk1SRGgZyOYwQVS609y7Cd6pu8QyUj4wF1pGbJQFe+2odS6S/ytZFZ5t48jQUEwSZfTsEzDBwZIkPE3NKEkSWM7a/vPG53CLj4nH+3H9S3HSWFrxu49jmKZTSI1g8hl/qfDl2L6D5vj2qUcUcQHwqkM/sWDQhQFNuJd9cfFY07Zd0ADqLziKRZSaImfItBtEsVDswPqtUntRcz9secxt6+yoAoTIMVJ1SDA0fPA2mj29SuksKoC3qZ04/NlkpNYr+Vk8J8iFISPnR+sO2SElqvjPCXrwY4iJhw+HGTJUkpgMddxET/tQu4RZuVyX5OSsHi8mb3EYNee0gc9YUU6TiHz/WpuD2ieg8WtMT9n//smO09Mgm9BbvrJEtWFJ3UQqZlTY8F8sEJNoh6c3MAw8pTfuTbExCW5FJmigkrA6RmRVWsP6gUIXxeUaLOLqmxErXX0FUdhWKFBdvS7TBgCjRHWBArAAMQYABhDQABr19AJmzmdmA9c83L4cD93HQFfmLLOfodHLeak0gjIYr/XN5mi2wxDWwJA4APZDiU0I8r84hr9nMzyO9fRrtShUj8mVsw/I5w/elSsx5Jve72RaUFVwLgSyWh809Rm+Hl2TYHZaTFAF4Ron9yJl4CIeEwQUtNdahssOXDlHGHZk7vH/qB2yKVdiomummFJAlgZf6AYQVCU7lLVyBLtmxK5tG/rmVHYgAUItfppK5kevYS4mPt4OfUsr24zmHRCg5EBHDIvo4v/S22mXp+0m0BXB0p8Pe1NKAmW1Tc+86y2RJW4KVq//ezZZhH/WKKxogaOC9FvCi+xK/L/NGSCCM3QjVK0OvwGFi3bHIL0Pt6QzVlwfRuBdtwUWyQLd53vnKMP+CPfO80DHVTCVZ63pi5Wmed5dQvmZMgiGRfsO2Zu5esrHcm7w85DsaFS1rjvgugIyzvK45bebBk2cgdziyZJx6iVC7r/ht8+3VQMgHlbO6vGx7j8x1zyGYoYjEVETQ74Uxh4LTY4XTf9FGJk/6zg3qau37cUl2yOyRq7EN4aF6blXdap312upJ1Sn/MXDBNwEz0h/4zuMjLoml+QLhpFgQ1GW9lS54aFm3+8zibxvJMq1KLAficP1kQUGLTKTfutZYKqGmubKT8YEMyfMpHDhM0Hj60wHFoa6GIhzzP8UIWJ6s8ApxdLlZRFMTSzQqh49RJZt4POrcS2C9ApKVRqjJoEZ8mWHQuF8ME73Ps+b9BVWD6diNEQIXG4UlctTplHxiJakvdOeEuto4hB+pO6KZWmkR300zOySaHQoTEOpRrSGFNVkuG3xGKnY4i/DvPaxOmecAjap+RBovpFf/VhHtq3d9CNKhmEqkLWhjNPfTHlNwo8zvSsux1Wh95qihoURHi2deCrdkbtGVVwkjqywo5QmzqhLAmBgjelKjFNHfuTOFRvhaIM0pBG0nvZp6o1gSAcbw31qRycK9MkhAP89LohMk0ZG7QEaTqs8NLEj7xt2Tpro51hCppiRsua3Rj+Y7OyFoFItHchVgPdljAsZBBxzD9y/I75Mu0n2A8C//5r/iRD7aCpvKPgYcR/SjTeA68sRQI4RrkhAQpHMw1/Sy7OI1KqKQyg0SIDSG8tlttkX+criRSQfqcbJuhtj8WgS/Mq8l7g3HWZfeYBhAw4HJwj+F65CcRlzI51jX8400c/I7j4fefqG0EPeQXuTuZA6dHy6mZAzsgxI+01/J2gIlOSO01g6Xo1yAH3/qMaXdlsvkNiI10njRuwZYfYMt0ExNbsn4N8N5ZEQvr7d2Kazp/sY4XLQz+sZDKBjOacerBVwSuxYFyRJf5PAjcedRJqKWrIoBs5x9ymJ/E4x1IcIEJEFvnIza/Pe+W9/2S1eExwEun6BwAkk4pfgGwD2vyF1885jQhOF28N3/UVMNQ2qfTsSQqMGO4zt8/H6WbTHCIajZB2g7WQ5xnrblAPPu5o04fkbJntah50wu5FiLVteKAS36Q3cKZgAo0cigQLuAJEHAAUQvAAbzdqE8/9JqmZEZGcF+uI6sC4eD0hvPDBQVsvofevSzxJ5A1k067NPbA9XGgbVgnhBTPPqybXlgILN0kvEnHFKTy9Dx7gdKeSBthIZNxYH8P3nLINZpQNYoCuiJrfIl4wvzaL3MNL4/OXViMaB/r909webRxdas8qyBYXEav5jXJikYlcKFyUYKqnZPdLJtY19DPNs6Ke7HsvA1KSgiss0j+ZD89cxOSf44AZT6Q2I3x/K0TKPMm2swsAjIVOPyDshuXYsLEc2LK7qAXo0WLvH2U1hN710KSwWOjIDf5gqwhhmrqIwUkLNv0ighhVAlFc86CNEIctml1jPWBSLV4Q2pQXc6A/rzdL4NwmWPs6p3pHpddWbhS+M+S+T/pQT0AWAzK4Qt9w55sgCYybU35qzPwfg0E8vHQXn8k3LmcLQii8iADaPYpzzPfzio8/TEot8xpkizgf2GXreMiLe1yZpTP75oO0lyX85hUTTiAcryFqcNZYCPrm6b4G2c/4WmE3zR+Y7rhzUupEZL8JaFsHD0lNeTzNJ5VX0Dko4KDRtep0l25TxT6cdVFA9NAnntPrnnNv/9CecDNKA8GMR5euD3kqHRZX3g4P/B58M3JUKH7H0KOle1B9zN22eUHwjTg7Wi1FYg5Hl20rDOrVJoTG47OgTpgXuuwKWpHBsyjoaemQ4xdsv33IhQK8Dxrwm1/5cMOgu6kXAnf7QCeeY+xpIl6qrXREw+j4F5+RGT6N+VtzlnduaK2T7FtHBw3cG4fkUQPrN7hSIbclTIHev/4sb4sZlYGF6j4Xe5vAnhAlitht2UvoGc0SLjTB2OYfHCQx0/OnjhMyOlUhbc2Kbp7qXfMyKuYNi7Jxomp/1977NdrxFa9pZiPNai1cGOJWEqQ7/V4GAc9G49Qgwnf9Dbi2J2hA/sIdvFzBidflMMjk0WbtNkJn6yR4uoAqmAgNjWe235NYBm3UY/X3WeigV50jqJNccqx510AtcJD08NE/ygLew4dpYQwQQjtAgafTbDJEbVveF7NuY3gWRDkp/QSq6ZqrwS40/gmlFO101K2gGA9LMYwjWZ5fB/jJyO8voydEcdzDw2z9U39PBPwpgm6p1fYQ12Pdvz7s29Ei4Tnt9j/dZEqnYxbBngwMuVquksoTINLvjzSEEWM+sy0Bh0r89nYp5Hb+OlWRAeFCaES+Xkwxucv6qfB2RKzYYlmkc5hQBRX0V14l+vIg731mml+8zxTMhzmUuJ0feocF2JeQge3z7HyN/Emv18fid6AJGZfIEF/tNRo/fMfHXLEUouuNiNKoBYOLU6xziHjcdoUrHhXCt0G4fjSH+kb3Y2NIhTIb+gr33hTf7wS5mhBCL9FEmJAOBhaxGdzeKftABp0AvNloWjUi1A3CvAV0D+uTkqk7biI7VAn1dbq9+zGfqstOSKVgf4t/gOYZxadfOHAuo+Ecy+iTw4zNAa61hgBQdyYvsYjyOxwIOSsEByNNSuMDf1NuHoIrl3ZwlWle3O/fYs/2Rn0mBIUJ/iHspwCddP1kv/VAAWO2NXADKzG4W7dQdVXcNPOCuhmNWTg/Mmox2vHb5yBGXsEhrg71cNVFfgvxx0M2TkcO0wEgJcvkLCrv9Ys19iElMvjQxIMN1MITZh70U7x/6/gvf/ZVLdN1+VDB9y2MukWrVoy68b2DXCtZfV5RwntSI7Ltr/gl56Y3sv8REMjzpeIA4ljrvD+MBM8zIe0c3+KceqDrjeNzC8CUogBH/5hNbHcNZsGpN5Daks6j0gUQlyfy4OfuSEe7EHdJJhn5JyP12kOZrtXJFPntqCEMm8IOpY8CBux9lWku8yZgUwNdnMgtvqJQE+2hxMKisOcRGw8ySmAj9Vi4pU8HqoWdqM7UUh6qJ5RUOuwgaLs1sHc8Zn88gPLojELyI52D+o7yfFx1Ch8vwlU0DfaX64acj1zZT1zU+dYFOfUs9/TqPiJo1jKxwLMJSmQNdc4VT91IGq+QN+/EaTnQ1MP1zQk+jdROQkRptZw3RmZEYTeB7HHPTek/t5gkGm+DWLWYbl2DhgBXH/qOlMK8Kkxy7qgFR61O+Swfso8yOpyiHW1NDvJK4Oct6QVBJGZxqxlOm4f0mZ5QJE5U3rppUHxp42YTLP+rAxWhqvOY9ypQnlyA07UgQaKF0iprxtIj8vFiT0Ak/QqdFQe809wOMBSADP8eiwIlHA5Y5vZa6HthzYNiEHN3B0xrjVYL3kqesFFvkROVGSKhaReAsSeWiLzLRdiFD+jq6JGR5x4NEhjfPAsXPpGes+U+jl3KXhTTB9jQc7fKHetLFWUwJT4FfmXW7KSI/Qukk84dEXOBmoLb0Nh1GxOhDffvjpEe6cDip/5xItpl1QmqNLG2yTbPxoubFpv+Yh5X/RpmT6vD7aoZg8aWGaq8jngCjQ8yBAy0AcQcABhDAABv1y45EOSpBwCScre0A59A9IbzwwF8UM76JXu96g0AJlNus24sXhDZjYlEcnIGm9OKy7p4rDwACYxzYPrwNIrIrzTs+xpBmGjahpwXrI0JCQOyofUX9qJr2XdFfma8t0lvrN58gSYEJuYPRtbrMEgvceGN0s0oj2n+db8IX0l/njuI02WBP11GhlGHZN6Vu3x3Q/iqtnaoSXYNAipAhEbYHigpR3tGIAloeYLHN/yvMs9nvQEUwKtqhqCTFvZoFFn1l32i7P0A3ECsf287c+UyB2V0z0HGVdwWu0FfVzqHDunvXj5fOkhNDR+XNL8sVkQwudUGlSETCEPHkfWajmUePeYtpNCggylpySawk4mhncic6wUaCCdNyrxPsw4DEz61fOw9HfJp3AzaFfXE1BmOOEwbqcIC/dS082jfTo7V68LMKSbnsJYflGqrarAf6g3h0ChX6YkoJC7rNKP8eF/TAJ5IIoNT2s6Gq+1LQtZK65faAmCVWjJso+T6sGjikbk6bXwvaWHMi1XIeE9qQHASJaDr+NCgFinB9lh8SW1GrDW3ZrtUwxMgSGGRQn4oi5/RwzkAwDSmADyzZTzd+bmwlwUYv041gcHkuKh6Q1pKUFthwIs/0zjxZW5PVbQhzsNWXjVikamMB7xM4vs/3rdU5szBkAcEZUEifi/5a5XWyH3Hi6PSqwF5mY833Qt/ZHNyIIF1CoCI6tELHJZNw73CBlvkkhziYpIQXQFhVmNYJ5B0bUfKLZ/+1V9bNGCPJysErGTxRyRp+V/z9/ohVh90SOm7iiTRFWgHTK2fTLN3mTkRziBuPtZLgfYadDPC68FNsQARg1uaXfVow+047PGbSGjws95rdrEOji1ZiP4Rj1oQlJToiw2cH/xMknt0pazlV2z9BP0AaYFC/nHsYWrNpa5NPxSPIVcwWs2NAdeeRA30LyOtK+1vk+RS+2Gz3dDYg9+dzBxD+WALtd4iBJ3qFoBGaWEsCg9wPmpw86/OTxO6upJUHprovJ/9KQCUPEkyKQZKGyajyZO9XkPSbKAJjQTWUSHcDS1vSGQgVY2RBa9pOR0mGkDEjvq3SC4kAffcCmljGgQ5k4qO2wbyVms0M1eolezb4+sTo+WaCQy0XekeS0v+copvpe5e2pZXSllOuVYuId2LUFC9746N06e1ERS3+Lch3AKBilJ32uYqAN8+/rCjJU236c05HDAr7j95bdMH56jzgLzWWalm9HpZnG8JFMy5yXrRASnFYWziY80qVRzuzuLhKZ7b80+40EqCjRA+BA2sAMQ4ABxDoFGAFnYcI//9wMRDPot7/dZf3nsrv//kzeTmwgJ2JmoFEaepgt13bDzhWL0Zz1HongvvwqU2/Gocv1ATzvSMuc1gRja2HYW14E9dm4fi3ed0U06nlbFW0vOuQV/xk+9PKiB+msbiKTQEfUFhTYgBzvKtbd68sNP7gsLkPT/2CPwUZM+jVrVmDRIlcDbd8nlhIoz96IQQGSLQAM1SzRwFYeTTC1V2epZVy8Lh60FUGWDlqR4XnrLXO3Qiv5qyS45YqSLPo5kl2aKY7hE/SPZdVEaf1Jpugg5rG51xCf2dv3mdX1hV7RNGCkw+90KtktIhW97tejNijP/5d+TqzcLEL5KsksAkuoNaATrAGUEQb4RrqAdLGCztARa+hH8XJybYvhn1PYStbV7VdwDr0Dx6xiwWWq2DKA3W/+igDvuXu1cPlJtrnLG7mP/IidjyCmViGjfslZ/J8twji1m+92NnMbIiaa60CU4ID3SmHSv7uxzLZVjBY4jRBUaWaqIhRoPz7A3Bc6qm3n0BeZiKqDk/G5CX2S0HU3B+irN5wM9y6jdXTJLa8cuIZIrwRAiKERigGV69sY9DPrT8zTmmY+VbyC25gTm+NeUj5WZ29AF99eYxv/5G17sifJA5YsFDrqeTyzQN0R6YPOJd7BTXiYRHTBhA8Y1MUMDK+WQEXBNRY4VHq1rWbE+Lh1MpALAsfGnhA4aWUHWm2QPu5SKYmOFrjXhc/qQVQjE9vp5sv7wDGcQfqtJ1ao2Fiz1AgTgQjyXiMbDojERUpMAd0ZBSi2u2LgyEy+od/eCsIPBkXntWlnpK/ZDgaXpRZ1v9ujmhCGHvA4Xk+aBDTkYJJ/7E3dcGOeu9k039rUAWzysLSDfcZDteaWANw0Jxjo68FyezIz2AYcUARR5x4P663mFS0in/W5G2W6KVTGxFaP1Mipb3S7C+wSe/pSRrqi6ypWicI2lCFWKtuS/Yu4jXrV+tuwaoNYJ7/9qOujyI0imnw1rtR11LBYzpeg22XrmntzA69faLHDBltH7utKvq4n6goQ1CVfILNQLDcREwzcf7W6Y0TOJZxeUlXbXS/IDac10GnYdeoEKJkubhWGmTscz7WPuYKEPUFW1i5AZVuginFcaJIWD5BJAsbkCLF76zvp+yiwQRNols/bhE2VGoQeFQO27FJGRb/cYwpAMj/TTELNObdfK7ItP5VmZ8mduYDbhultuagIuZtQv6kzM4K5ufC3ujMSPXvdG6TADltDs0gzNTDE/JOUmizd9xeCssVAQShvlIhXSWoOb/gRii1oz2RWZcwKU5vuCLWQ6Od3C3g+C6ese6vSDjMa6yNFS8jRL17s6LXWrwomCb/V73v9cuOOcoSEzNRdLgAo0SJgQOqAHEHAAcQ6AAb6NF4AGBQX+gBP0aF1llYhIyXXLBI8qkmXKuojZAdxTABkxgTdG2g2EjJ3bwHOkpaQUe8TobgUu3/MAS1iflnmRJBnAzOhwABdtQ1689duxy5Ey7X/1JhC2ylEBN9MKufLZeb3NKN9xvU96DGfvzOO7xxopRjM14JktUkXBnv8mZ9AG93Q+dFrcNYLNNxzRNbQkVoOvn8Mg3QUIeKGwMBRbE7jdsxFmG6wmtMPIcai9xsUlARg3aYOy/u5MZFMiQMSapXMKQC4Oj9D89W4S0Fj+wmcmm1m0joR7tI4cC8gzQ60VnQIZ2xFUGeCSAH/rZVOXMDEmrl/OuI3reFuVTNxusxqB5IgFEGA0LclsWQ57doeD/II2TBwK2cvXQCX0NcfoceOVPO1VONfFbFOvg55BCdncpFk49oQ6mqWsxJ3NBdqWipUG8jY6dSuZU4rx39ir9wfCTobhKX/6Yv+cX1tAzr4mU0HsK2PFiBm9cWdzboZvZmOJMFKqdIvEBji2t5Ul5eNfJB46IkJiPkc+qzGoOGgO9jv+ZkYwAIREZ0z0lLXtG9zx3Xgt5rRWpS38bSDAoo0qXKowFkNYipXymeerdUExNdBdKo4sxZq8lVwbqOd5iSpv9zlckS9lvVgmj8Dv42lXTst7cn8MWWoz7VMcwCdMgFB5g1vlDF5JorydKMjLFkc6eY1ASJnLFDXqhxMLpXtQMBsYxhZAdi+Ny1I9dk98Qnv7M6dWqdqSpWnsJxmek/yQqWmJ3TIxjh8ZUg70ZSB6NR6jgn5XjcnNEXe/mlEBo5Qw3mqZs7aaukokCTVZcPxoG2rHlE7G9m41xjZI0p9823UbGa2ITiUu/RrSSxrWUny364AnUxDRklyojjn4pALdlz/2zNw4m2yHS4jLuRuJGFSH96QOuiw1Tb91hoGFvw+tl5JXwp/XIpRFGJEY9EzNCuhHFdAERj8pbgaOBRMP97E/XbgVDST6xqhf2cq4vfKcoHI5Xb6gRwUMR5bmSuIEgi/NDneng6UFzVyCEp+ZnTIHFoKYIJozmo+vkwuvsNmYcGXsCrjpgS4Pw904cPZFxjUZkAAl+JVgV4j7RniB/27o84lyXFD11Qt/Gf9nsfGlxYioZ5GoBcutBEgeGgTopc9GCF9m+/Vahwgdbd11adFMdQt3WligHGSsvOPTpqcq3HDaWd07zbrTI7V3vuYgIj5xEbhCHEsl90/NqxMo5CrNGteX81ugCvFOuzr1o41+HSt5NA1bzLf6l6AlpvJ8fCh6lQpuWrnc8e9e7K74K0ePTq2QZlcxZYk569K83OwkCIQKrj5L14On2U5O8pGsoChKI8ixthdynRXi7cfKqOOyfAHPz56J7zAR46oTMoqErBtKh+Kx9IsivJq9ZxALpKsWqionz5xg6CiFQx3Gs/FgJ867MQPPdEpFxDGCfAxkO2h2mi6247CH/M8qN/aMHxI/fIZuD0G7CerDTwjRXhkdtXolS48G09Cf4+vYYogOav1rofbMnPQbA83UfNYrUyIzl8Dq0AH0O2dQEAAAAAACYZ54ITiKNgtIEAAIDQUwCdASqAAIAAAAcIhYWIhYSIAoIAUYP1F/evAP8U+OfwH9p/w3/N/unw0e0P9j3CfIv0r/kf3b1B/jf2S/L/3n/BfsF67f8nwD/Ivzj/d/232Bfxv+Vf6j+0+c16d/xP7L/pu8Vyb+l/8b/BewL64/QP9z/dv816Svo//G/tfqD+Qfzn/Xf2n8ofsB/kX80/2H9q9Pf63/1P7D5Bvyz+qf7f/PfAD/Kv6R/z/7l/k/3X+jD9S/6f92/0f7vewj8q/p//O/vP+V/bX7Af5P/RP+N/df81+3fy7/+32ffrz/4Pc4/Wz/y/n/9Vls7KWBVnTMv+s8+eidLI7Hab2fPS6vEsYsKp1NQ7WuSxxpN1Zg6rcm5QtwrIuPNYD5E/UknubdzJBPTNX32L//CZROsQD1YP2aUmyFYpBcv8Vg09dC3inujJkRJRmGC4nyiawaIUBiu4IY2C7YqFCtEQorpwiCpB/O+CvNbiiO/pdAVGgDR7YpVqddVgJIwqR/IHlywaStYIerpJbBWZdgSOqojJW22rsMnyQvVm7tWBwtO3UBiFgDGBdnEpatgI7kixy3g3yCP283DcZI4CVchNw93PB3EmjvyYys5wkj5sC5CJX+vVPH4Sk9MA0limA6JzTY1XDi6ZD+kDHPWByvCwjfqYyJfyqenROfHQTjJ5g8wwMkuHEhEbGBo/KU3oUoHfXUsQndLy2QxKMmshixQPBwKllGZOLJRKppnFGtv5nsW1+k7uRrPAwTYqQ5xOUKWMhrKN30U0cDG0H1GlbMbiZYvTk1eFyEHqXBHm0iC7UuAUqAnPhTo156RgmjZUdEZt2hq4aaadeXIT3pjFITSuTX9B3XrsaTL/worN9/JDhaGng2dMC/VK5y5OmYd6ZnG0TlzcowggkxF3AP0qPJYUvfHcZdCXvRMhsPQCFMqu+tnhKFtqo4FE9lC20y2aUh8ZEPnYIT+3awXpIUZpaJw5O5oH7V/xR3IuNkvPiCLUqplENuUP/ukPv1SMnYDG71vtsGh5pqHS9+HsWFiWpp5LyoFA85liMbyAaPfNPk5O4NA9FrqzDeRIgjkzgadmOCju/rAjkDv4vyynG7tcydy3XVfuc3v3Eg0Ng6gdmhE4EdYUss0e2LvAr/Ap201kt+OjiofZt3W5p84mVRlwe3m1kJKZcUrLRwN109KhPULjPg8aD71AsLil/13EVP3qMENJpxGbdkvhexj8angTMPbAcAGwQstWGiYLv03U805SADRUIGV4dUGpo8BVbPxPM0MjY7WCQSFVsNOAUdoWam1dowGBpH20Sy4FOT8GzZEwOivyR81DUZQdyRRz8c4G05UnwnOON46kz8sQn25ddeh5nUcdjN1f8gyedrQwZ3nQBMhorksdDBfCn3lFe9kK5yr21E2ylCTXjzzN4tz6WaGYjsmDaVtSlQOON4y35lpX6xNBcDTLKGRGqA/7qzr0jb8VrB0eWqrYxPMzMmeY7bF3xh69kWlVwU3Ue/VVUCTQSVSN3mhbhIhSHZay5ZzwcaUHAXvqi8qLQew2WFxL3EOcNpyNnlZtH2rJaE68wNor5z8Vhuzi/3zkVVjWfoGoUXGMjfBOe7/86CzEvl0SHIXSRztL5aB3K7NoxLgKUvYGk/cfTyZ/0yMV7xwSl8MvLqUNYYZK0Y0FGUfel1cgcl1GNUjulQDQ6n0dQcFQqbPIgo/9Wd1KvnYrFerbtJVIbLi0o+h8fGO4W+CiVVX8UhkW+PUEC5k3VF3C9oXVGmI9jTiY0OthJVm9o0wx9K8IxRQsiFdCDPKE5ZWy2+PlQ2Zlvm+E5J8aiyZZtdRLoCyEj/RHVRTt5xye6J8U7x5xgrnw7Vnlwm03Wf53wrzlap2hH1jUmUHbYqocZV//CYNZV7b4JjJHpYx2Nah/MujxePi4cqdl9YE2urSeWImQgUdWZbL5zAZgZHNQd4uSOQiJ27y1bl3ANeEZ8ufbqgYwQ1bBfz/LMAujz4FOF6bx29sQTVhntlfZScPN6mB1PASS5rn9Rq8IJ7lBv0Vx/vp/JepQ9za5IWo/hJ9oIh1aJ+oNt5OcqftJL0/1gjWQ0vD3W7wR7nwPb2r7/cDLrWJ3Hd1m8PO1D7SXCsvuUODZfCXaRv6adMcKdUfdN3BQoJUpBQvu3ZsZYtqM4bPRZ6dTK3AJxc6UayxrFCU9zgNzn4xqW/+XmcbzZomJoAiVC4qGZCPE6/Zog9SaowmZgtQsWHbBhyefUqBOygvNLi6Pxrbk2tu6eX9/SfBVIyx+J5TURrp0Zc2VUl8OzGUa0MQo+v3m4tK4YZYQ0GW6UMoh3vc/pc6mYvtR8tKeYoU3uvdu9s0wBOEhA9PE0BnzEm+8udRE61UoJJPGlJ0kGkDYYYmoe6bJeHRPtWm9T1eRSd9y9TEehfo+BH9tL1qVMDaktPe9HWRyt8Zjo7YzlnO53xjmUkjhuGTa/8n07ZU6GildAKRlvenruqoEUivnteeVeh8KqwhGC5JHR7WgzpIbBCkBHfC8UtSToFwABDSSSvRaw3ngmoFk09ZHM8cwyMOlLYd4432rYpsg8J6u6k4+RLpe1qmbXekcTTCDRqR45fS/I514WnwQKz184Fl/gthWnRk1xp6mRERJClPYrdR2ROdsOOC3bx6ynK1ol4o2gqhlKJLCZSR6kAchUT0idLpYajQ5zTmDMIHQBvsetPD5PNr+nP2wx81bDxquYmJtO9faM5sylA8DMayR7jT/93k/yI3Cj5HWYldT+vfjrBzsyLKYWdhq9WBfI9zbJRHY36RWMWNQMK0vQSLGmT6AbpaYDaNeLTUmajTd8CTEHgRHdJM+iHxpGh0TEtoRIE0AtXwmDy/dfF0Nig3V7dAFVsy0/tKyctnvFfhYy6kZiUFeCzvAOE25aTJvrReXjXEygArXKYjXz23Jr3SAfGXRjWjFG2umm208n+Knu4exk32mjOD8Os7b7I3iqyVk5isej/t/i5XrDu6c5J9UH0lDUN3pCQIcnuCiWEYkCBxkf0h6R4o2ZSbQ6dpcg1S4sZn5pO4kjQ9JshHSRfbbpz/xBdXCVpY29XELoq30pWW/8ll79mMjLAP+zMGnfOTYd3x8pSx0rvwRYpCeO9cLEmZSpqFfxeFQBZZiMNLR2L8ynMhFVxnbmsTF4xYWdFCDPfnj1Lw/POsNlq+fnBLbMR64NWL5bMDxbOO7yLTifpMuX5EkK3QHFoJ2yrUuSLjk2lP/JOv6iUghMpLoNMOBmpfUhnsC0u32S56n/rCdPcgYjURmLx7udijLYwa61TjxQS/p8ZNf6fgS4Hy+JjNyIaavl+cg8Nicysi93S5XOs+IN1fnv+j38qpMv+7VMfjfBCS2CkHXLMG4byY7GNeZyXQsA5F+oUwkrdxvlX7cj2OUyQ4R23OOoOMPmvTsVq+Sh853/58zZLKoQFNWeBoXFhdyQX/J/r+pLONjZoYUyjRxk7Hr7vVxXkJO3OXNsYo6VnWG2vM8FzmhZmu7f3eNyCIeZaUB1VKHclF1nPbXt6YPCxBAwGYkj+/RNePTv9IZ3O6HFPGGMSjkV+DeLMnoWd1dHxzR9/+10hXVtjs7X7pCvdzjhAJKESqRZBzsFlCWjb93zMNGfzoBEQrUidDW11rdRv1Uk4u/DFFcL9KdPSdsFSkz8Td1lcoqIBkLq0lqlMA70eEZ9zqsdMYNoTvoCLMbY9Ww/Pm4ocw2NRT8xxgmnf9+6l2imVJbzIuqByZ19A879ZU5lHdq4jvp1aoyYiNBjTd5UVSLutyqxdr74jr40NXCR8ssn7Wk48QmYy3OHOh1eOi6Ab0VN766QVOPObKFidm+HagyuA7SDND4LvGo89TtJnK/PNgqnqcDWbXv3Mv/hOGP+OJUeID98ZusHA6eypD86GT7SLK6ItAiLrzIzccrwbVfW+oZ+5vVA4g3q80LtcQDXX6I45rmXdjX4MTgpe2Kd7FWK9e4sEAGlrgILiJirxdCxR2fHFGqe6gJhNVdjgSppWYdvRN+GHuB+8XHgmG0EdU9sBVqlznodbec8OsRxxjzdlMF49OMSp4FTzIo34iyagzerCN6vpFhKLZIR9QSQ/ySdy8ak8h9rPcWsmOsCUArctpXY2Yo2MYHTFIx9mg70bC1XEEcOGSkWj0JgZ6rssVZK+IdKD8wGg5KLVSsDP+T9+8+rSUomdCcb8AtYcTEgUWe/dLZs+xA7rHh1Fwty+8oHg4XUPhiGGmhdHf3ELmlzO4/yhAAWEdnasVdqH3z37tVoFPIhw6Rd1aBuybtYqpJRyeD0dmUb7ewx+vmqA5LWEMVXU801KEuu00lWjG25eUO6zTr1mSmO+v9MtkeSEeROYmH0ShKeco5DjiA/jWka/Oiy0sicHHVEAmAYFs5qx++AyHX8sWGIR593YzOVvbpTWNSwq3J7sfz3mNZ2tN1wu4rb75shvrWZGzlAl6CwiX2LPa01VmvNmSc0MptCWN/MYqm8kuz6IjM0i5ySjJ+yNC3t+IbQvnDG08QFfYhw25Nm72TI7YHY0Nk0fDYuP+OUj9WQjVTfAeqE3SS/ayPZZy4hBPZBWiywFgvVZuNJpqtJWUyacgJMV3kPQ3qFxTZlzuxxMl3O1s/R7XpkrvHXAWo6E/6oNwNNtjQBgIK9RhRT6SCPHelCls7MnOHjXz6xUhKe3hN0vY37xWlpGpWZ6ODNgM1ZWBg/nFctaOoOpix1xlbTESvI676okYZ61Lo8ukiBbpy8jxAONUl7ECfPWYfFpfH6I919QviaW/pY5maoWf32+TXt5zXb76Mh0sqB8lqadgOQvmNiCvOFw33uX0VcS2Ls180K1+VImAA5Iq4jyq8w2BK6rdqcIgzrvx8PIU+ZoKg2mN52nKZmWv6qaYFX7iTcEK0sYkpiwwbQ0F1MHFDytPpvJnKbDyPDQLsteKPbCy6x6vNv8JVucbwwH6jK5x+TMzjAAA6X414JjexQ8WLk2IaJ9tZExKdELxlMGLlMbNZtyCfehPF+TIpHdPEm6vIdbQFRM9+ioY9dO6lNGU63dcpvR9SgQUMISO49MklBh2CLJkYX1UYAsevaZbL25ZWO7v2Ak9zqXKDvy+qrlpqSz3e3oaZ6IWv+sJEEpd4W7Paryu925gbMDUAIs7UYsfHAy8Asng7dZDO2z8DhK1JH9hYR6fVxiWdqh249q4kMsyJCl/zkvaGCUs40wiUwIyAh00G/dzIrMp2ySc2tW/a0ePDe5h0QzsdYZpL6l5Ddr8mWccew2V7xZ8yCvZ3pFivZ9QZ80bu6awuFH2C73tUbyS9NtT0apYuYJklN4ZGol/VcaEnkCEbZ3Euu3d7Xbymf+fJen0UK8dJ5emiZXiRX7TCbCxvwYN7dNeL95MqlmlvNjic7MgGYkXcO47cvB4ijjYv3bCTSnZZU4DlPEZyRyT/rI8Sr1RjwwYTzaFYaUZKAJFzDja7GMTkzri77yQzprCzoNGS3+LYoh2H66Q7bFXh4/Rty83MZjBbhrbHX0N6ChJTsAOfCqKJu4zPxec888Xse5gsAbYZHzVaRqsNIpqHOU30tSfF/DgXWoIhggJ8mlSGBjP19rO3lVpyPITGP9jraTsMdxd0HeSk20IosthBB64J/RZOovG1HOnSsvCWmEgPzqIrInWoMVDADiiltS45+q1Ad7g7vMA3TJTTjgUXyBtL/5OWA09ieCd92lMkx1k6V/isq+wyBoMvyOnUJ3f6LrsyShAJbmsvMzWs70pgblOGJ6hdEGpTa8M8IL1DmpIza+VIB18jRCWjBds6Hb6R5VBC53UdoKNWiq94EaPhagYPCpFSNcLCOWM9L/LFk9cY6IraZcTT6n9IaTmJAaDfcTdsXs+sxVr79pX1d+5/cz/Cj3/2Koh4qUFwl46kGAXiCLui9PCrT46liixonAzIJO32DmreUoAxq/sn1h7KqYKqW90mTrnw5xgpw0Ob355N+3fUr/vSsOkVgKNMZKvhyaj1T5PhRoj/3FRbLXW6564Y1QR3OIxXJl5/yg/esQqUpFL11Imty32l2dT5VMSjcwtBHFOifKZe3R7GM8bIZobQ/fbZnUjwXxYHzoW4Hb33A8fTB9fYi+8ZF4qiVo6U5FXV7/pBKckSEtuKtGPWZpTQv6nlVEJ5Bdu4SZNiHHflnNvTmEbDIuy8lkL+FnXql//9BiYOX54j7qaxXcF5mxETrhYGkBJ06KStBY9ncHW5ECaLXXtt+uyQvuW6itPoGAibP5MGpttOeo/nKG7K3IXncutwlSZKGokg+rgi1FcchRBTuoe1BCRxQ9keVyqiKtdRFPfZGP6XfScBM37RJECsHLLoW2qa/4vbKjNg1CPFN15PvkmMvrOerO5PaP3wcXfcYMl3QJMyfo1NZToW9x8p52/eqmbXylGeQVRPRHtL9sDzd/DIsQR6SSTWRoQ3OlQD51Q64K3rGqL6FXkrv4mCHEOX+b/LRjnVdsdijQkJHY0ohZbBlV5FwJLbmH90rs/anxZvv/QGsJZ3zpZYAAPWM1S4Vm9feHlCcQgfvUVeqeuPC9frcdphl0RZrRCrgJAHKrWWV0B2f/KdYSTHgGN8/xkCgRlBDWe1cBOwvy8YJaoMXxrPa2Gd43ZhHTH2fAWijQf+E3KO6rD3ljCXJ4pDwT3avafEZ5Rz7Dcloy0nXdFhwZwbi1s2npO7mwEdJHwwOvbY93wa5xOEl+dBfDUCjRblC6JY5ICc5tVrMZuwLWIXlarHdIH0fi/lPTbOrqbNRFOz1g2XA1/CdsOilhhAKq4t2OAF1fqm3n/+K8ipNxqMi4IVSD5YBQLSUVHpn45XZZ9+Ai4TpSONCwirCm1V/xCqGY0TAD7TyhCRdDFvAJZfbs7jmrxWy4kauR+milo0mCPM0mWSA8qdkAo5/8l1qngujDIsTYYz9tDvJPRBsKbOkOJpq9gLuHyk3AjLMUfmZD4jmP21ah0RxZUNbsd1rDtRK8jXq+PHKkn6Z8a0h3tNuF6x3SlsmFAkk4r3bPjL+rfjgIdhYb0UT1+X3x9vs00H0ysD83FnkaD6XGbztBTFnshN2Mhln5ljksSBamVoyUWQAE+ERGmD33TIpoQQM6o4oCW9bz5WnvqX2hMR/zTPN3opomXytzBDaY+/z1flXk9iQ7bcMFl9+fTkxc4m4dptpds7r32Clq7Ikdv4+IMaM+Chlto1XGeWW8UrPb7k258kdZHZIxsfO7+JAG7l2n9cJgV33qYM9AGXnCaDvRuzvGstYaSxQFrcO2w5thEfX5gLikb9NaINDvCriaylEu2Sr//fM7582YH4nGumw2cXQ6Kzq9ToizauhyIRKeQU83RDnRebjiswAApUQ4+aS18TrftpZ9wCtr4jJMXFFuWgxvYdCzaDx23FBF3rQj7OL42rZUMBX2nuq5kKE6yDd+Erd692TkhTJ9pkqIrOYaii/RFGIERGId07fGdxLYxRKOySGr8Sxp+WhWVLVyPZ+l0yjB48jGvSWblE+xH1PYRhnNnCOxGhXeA/CccT0dvHV2m8xjl7OoWkviSb9gRAzjNU2wXndpqePENeTt8xGv4krOvuUSQbNy1w+NFhX2R+AAdfFsWHqLAJFtxJNe21kFVrLaU8MOD/SV+8A9Lc03S1YXMZ0/9BNGsimOt7tG1bzBTGVQpx4H+mTejKF1JBi0xzuj6gV00JkfnWNKMyDZWv5vuuHl24H9cv2bDTdGkVT55R0FXxI2SANvl0IKD3zK5ecw59tboe6wiqhdGd3eA8iujJKMbdwuoPySvntNRyGCTGb+YH9PrFQtnrecsg8YSe3LA4IsqufxFD86MC21KjxD4M0lZbwwSSlTkayOj0dapRVfHBm51NkVn0YtLHxsDRg+v7NyxDbwhOf5qAti/4CtRTuj1N+ep2WEZcaNZ7f7uBIayWZQne4dhWTU0+mSZWzAe8CvwMx3yIXKHKKyBAmMtvroudeqRn5ubB8CU4Oc1aJPxeIZJM4Nso5xY8w2vQM3JRwi/tFbUFxr2DrOXANgC7K712HzqmNB59BQ+v/1O86hokzHRQXAtjkR0n6n0ji8Acu9bDDHGdIJLHgwK5WmPPbOqOrwLh99SbLg5Js/rpHapHu1m2TdNaO9WY7TkyNc0OV1sX/phwl40hXQ7inE/WZYKrvF9OXQXpX0qTOF4Gu5WC+aviwvinWtocnpjXRnxQM1GeQ82QpXVyjAIj4hO7lbZxGrtZ8+J+aVHCWL3E1IVWnDCyxTrv5/iyRC7j8d4Q04l+V2dp1e/B7rye/IeSi+ELRZnnPqooGBPp0y2x9vEHD5Soe5qFoBaLQiSkBwG0vanQup3s4LUa8xd3DvO/wVU8r2xhw/2TK/SxjeW2vnI6ncca/qTESX2qMR3kDy1cEJdoQZXeWDMHm+kVO0V8tsWepao06inTm7dqa74OeZZ7AR4BFTJ+Z0+H8obB4utylSs28p+zy5wufdx9yR+ukW8XCBYhc9qxKVWfGO8jHLcpm+DSQ3aHmSVOMe2Jpp2181JgoYCrN3SDoRhpihdN6Ng37/KjUyu/JOI5jx902/vjmikPWL5pomIuu+YA1vumW80X3Y+1ecmk18xM7KktXvQKpOsQxvQBmQ8KBtbrEhc8YUPpLZpCAIzn70w9R/yr72gxa2jlTBM5uRF8ZgaBEAJb3hWPT34argm9iAupiwc/Ps0+r9gOv685SZIwuk1ei9jhyJzJRPXsp2+ubk2b9ZGPOj/DHufBcN3il1L5nLtXeYGMG2GNIQHoJRnSM4Qls0UO0Trx/WEt6wp69c/HA0SaZVYgyD7FgxHsHrgkSo5BUU0MjL+Daaog4yocQHO0XnCwjMALwrKPXHFnDRYrZyFdPQ8B87GEcVazbFHmIZk+xmoKaNpULTH94hJAG9T54upg9VIqgs28hU3rmVuiyF9t25n3/JUCNPy9DZh5N9l2j0jqFC4lzvsbqp21choXQu3kGmq+PWqVbEVRf6e7w3yazQ+SZSX5AdvO/vFnQ5ixAJ8c2Whmn752BEmKY1NV4ZsEyNcr2yO8FdMbE7UASE3p0jvXgD2cDO5PiaRt0PqLe+6HOFjBmb4Kqhp/b4o/+op/aFtgfL9kJwMWgtQPHIe7qjAck1a5MWHdRtm+uXaQg0pU/GWJTueiVN4RKVbKJS4M4XVY6Vvm0uOGl5g8O+KVdRUYHaCn/ORzJ9f3tfBB9wnClBHyIIAlxZYRXESQ5BcjdOOkVDiSYLPo3X86AiuKXtcoelQ4+RyTa1YWRuWrKZ/RYxk65Bcq/pP36fZiyF2nD0arYl0cA/Uwk6GJ4bhP0fq4fuetDkEJkJQ8HtehQ2aXtRle+Bo44cHYwDsiWZMtK8hE1XmqjlIop+qC8RuYjhnnsh9CURp2iRkf5FHX0qM3xitw50CM0QcP9PJRtmiAyckTOudeabxodVZFoCLOHqWtmcjZDB+xY5VAmFsHDZUCf0BBRwJFHtlQY7vwME6VsV8JbCNVjG0FN6Ecys0XhP6s1kYw+L65NzAXmgs2TP2KaFIGLbTMJw8iOdKZEYQ2+7DOu7GeWXD1mqQFc7KSEyTVqXVII4z50iaSehU+52SY6AvLd+LW4BlKPjBKqTRfPSSr6K1qW2Fjj++NdqOL/BRf5/Q+abuDmeLbn+8aL9gXkWVXmDetIpieuzwyR9MyGs04oSBMSVz+CQjHO/hzdP7LDpI9o0JMkAmPf+a3t3VdZJ26R95YvDt8MmQedmp95PybTeF5q7TvT+aCyuU5RFvZsr2ga4zuft3Sa/bQHzjLAjU6RvChjoaToFm/Gezj1wr20WAouPm8EfPCTtXQijOR7oyS8nJgKwL4CuDrtlwk18seUm2QyuyTIhBVdY+eycl8mu6UQAkNO8wWRrpZmYY7/3yTmFN6t9vdUMFQkJD9zbyBKqClMvU0z2NpOi5iZDM/HfFgAMf+joTit8kMhV199pTa0ljnR0Cqb3XafJm7MrbUnHbP1gwnIhwlVfJM9ae6KUz6yXrEZijJ1px/MRexqHcXaS3nNYQ+Q8xMe6Uzp6hHu2xCUBhCSfavwF1Jttyfho+bviDfIyJsbR4nSH+T9mnB6irFDLw4jD2zdPqASHkIis+g1eYqfAUSo+ch9SpRvrB3N1IBFbdPiLbY94hhD82joSi7NqvJwNAQbmKIbrc6ZlBsI1jd1Ayn17AbgouQsPMY5YSh5j0z3R5ZObPp2mldzoxt5Ph7yMA0wI/k1FFl9PjuPJvq83FXniJOs4az1ZC1L5rRrHKF/ZJEmLNZqi4MWemMzqgvPFH/IHUv8WQaYPCe/81egRF02K0r7Jz7SfD+EtUx1tbVjOi+TOUa181o5t8U6zIX/U27ZaCY3SLh8TQIhuCzLnbSj6myLgN1X0bgXPct3kmD8nR1QPQkBSr8S3niihIzlr9dY291AbIhJrSqo1AoFoXFCcT5Kq+DOPEw/4dY7tRya7oVuCNqXJhIj/Ci2EXHI1qPAeKuTi3Q+/FBRxOADjXukGsfy6jvH1pTSaYuOJLu/69OPLl45caPK74BtCML+tJASnwIXoGY6LgGKc+PeWD1C1pkksFWM0nM2IZOSFdT/UWGCKmDlxXeZ0XAVGeDhZniX+Za5LF6OBYjyh4ndFa+WehLi8sT6JyQZ4nZ1KcAZ7OT4BAX0d/lgmA2pODtSGZr+DdfCte1W5KMUvrGuYTOt36C3wIhrJeLRtZ6SII0bVp2Cp448I+k9qzbucYWb3LjF/BQ6CtXeUPLNPhKpEWzU+uQhsZPFKc+t+S11eDY3AYrqu3Eb73tQL4xKB+WEF2Xs5VXdPZms9aXxoSU5pRtd461O/DYWHCsSEbJDzROqaDmYu/KqwW0HEvY8Wp0/Vm6thXpX2AYRs/kN0hhJsJUpKxxNTU8r65Q1H1kdpjgz4TnKdG6DwwuBDafeXuMhh+JkL4nexV8I6hHBEQyObfFaV0DZyHdBdGju/PwVS9XnBIy2r5/MSejw05tM1gEz1ZwSv9YbZG4Ep1+QAeZ0GbqintA5ZZd+eBltAsDLN4ryhNOmrUPrSpoZW4xlcbsp1LvdUo5qGX9YamSVwADmZMLbYCwvfDwOFupCNVKKd8u7mzebS59jZokFLS4w9u/KmHpH6QLkuYJhKddZrNYdDnZF/nRMzz46ZaCLlk+NBAFGRkAo0LBgQA/ADEIAAYQ1AAeB8qa18c+AI9/myPFESznHZiVH/rogDUltPLGnxfn99S5oUrGPPumsS7rQJ0ub2kS7okcb/J+5qQzbxtAzEomP8hESI82PZjRPcqLLQ+B4omoXoQt8CjnE/h7FH/xMwbnaKlEUa13XSUeejOwcqKl/nK7RJo6w0xg2VboLkdSNpV7rb2wEBnEaflSaXUzgemKQqVg7iucK7yoVgsgsyj7/mbxcbaY1MhBrd0VJnxEn0o5sqmaRk+sQBTz+G0k+62/N1ZhcGz1ijjqOGdF2PdCQ4zET9Ve9YtvHf9go0iuMW7P3HHrT4NvJOkLIB4D7Cfm5dtoYoaq8zvXzJRCgC0HyPcSllZ5FwS3yAwwke2m6pCyFW509nUgP41dXUfgVw4MT6tGTk/3+GqwKatBgu461/C6kYlobmNbza3IEXbOTip+ytDNGlBzJwS4lPwcDtdAkuxPXT3dflZ7uyErj4nQpPqsRBMh9EEL+LpVlB3OIhUix1dl/n/LNKusKmsHN1df4H/i2J7fL07kBXlpl4wwEVMiY7fNDJCe0F1LOM8bTzv1eP7Iki/ZDor98mafvr0i2Xu6GEo7d7saaBUJ3YcvSbRYIR/+Jy8OnR0A5NE9I3MVwgmha1pJ3LZoT2hCVSg4lanzamruq1jRZhGkHM1kXTlC+MhuunL1vpz3GqUpJGLstphQQc4DhBZVAeLS5i4Wd86ZmRuQq6ScaFW3AQrA6YkiXEyjH12xQb+vDbLV/tJ906VOh1sriQd61fMzXegKT7gWBhu6IKF6qNgL3fUmTcSIdvHj3Cv/qxSl2UzUSlngin4e83MxyEgwkBwbB7UoQRCbnQZ94Byw7tNHp/y01H+RSlsnxjfxHRbf0wVwPK7rLC7sgaWtIR5rFPcMOFLZT4GLkOgygSWtszl+wEya7xLbCtAAo0KXgQB9AJEHAAcQ5AAcstFiLpdVPSH6FOAoLCf2A4dvhWYS3i2k6QJ19dt7CDR71lT1ZLG3FsztbYDDNKHTs1DWMng1wPY7PjpWmUAZRfVqpskyBukDdD4BHfWIzrp2QDP6JZUs2GimkwMnF1K+tgKWcA54L8VS2t4kuW+jaKuXDppqHvVSBKE9FU5ikJb5uRbEqUi2YQ91iZeotNnvSWaRhDXSYhE+G0UoK0nVRcrypFirG5pUWlacQw9H0aWWnDeapa8IRxMy6ct8h9IAIrmwbCxSTz6nzgpoPazg85AQXDsK7J/peTID1hystQaEic/aq+WyaZnKYIy6dy4ehbxLl/D9lYHr6qTn7Eb9EDigWjOrddw+U+fdYwDLTIX4qRf9lTBcOUbE8Q4lZLqnzaJ/J+ec7di634PXzoqJS6MgCrcGnvng+QQ0x9KxMRXuF4fL5aj+ZOUfCitieizV0pAdFZ19zmb3jktHohXheFLmKoFckwfiFdfRpgITQ8gnWM4GemyH4B2gZ/CO5ph3XeZiG4tDEq2J5o4sEthgNvWNcSX4yPMBf6NUtb75JKvYGbhnnCbUurnnymMfXBHSsyTg5huVsQJ2uCNk2LC4AU940WLTWffGsQnOeZQL2zYHa6W9VUSkfV5yKkwGRV7MVoVDKYbe1cE7pMxVIzrrS/8/15gN/+oHtC32ir2VDO8UaezAd8y+mpdLbeVhFHObllEnGQEd9FM6XxSCwVdLU6r567NGGV4y7ZWnOBsle2qGQuWFWoRUY35ah6poRDkcaxWQhd3a2s+JQGRe6LllDeksYQYqNt1vYgAy3TyKZIFzQds3w33uUYaGfAOJoq6XhySoQKq/sE5ETj6u8D880HNORhOl2jLCs2gAHFO7awEAAAAAAABuu4+zgQC3iveBAfGCAXfwgQO7kLOCA+i3iveBAfGCW6/wgQS7kLOCB9C3iveBAfGCuCzwgQS7kbOCC7i3i/eBAfGDARXr8IEEu5Gzgg+gt4v3gQHxgwF5xPCBBLuRs4ITiLeL94EB8YMB2TDwgQQ=\">"
       ],
       "metadata": {},
       "output_type": "display_data",
       "text": [
        "<IPython.core.display.HTML at 0x122533b10>"
       ]
      }
     ],
     "prompt_number": 8
    },
    {
     "cell_type": "heading",
     "level": 2,
     "metadata": {},
     "source": [
      "Exploring the orientation component of the envelope around a grating.\n"
     ]
    },
    {
     "cell_type": "code",
     "collapsed": false,
     "input": [
      "%run test_grating.py"
     ],
     "language": "python",
     "metadata": {},
     "outputs": [],
     "prompt_number": 9
    },
    {
     "cell_type": "code",
     "collapsed": false,
     "input": [
      "mc.frequency_radius(fx, fy, ft, ft_0=1).shape"
     ],
     "language": "python",
     "metadata": {},
     "outputs": [
      {
       "metadata": {},
       "output_type": "pyout",
       "prompt_number": 10,
       "text": [
        "(128, 128, 128)"
       ]
      }
     ],
     "prompt_number": 10
    },
    {
     "cell_type": "code",
     "collapsed": false,
     "input": [
      "%run test_radial.py"
     ],
     "language": "python",
     "metadata": {},
     "outputs": [],
     "prompt_number": 11
    },
    {
     "cell_type": "code",
     "collapsed": false,
     "input": [
      "%cd -b root"
     ],
     "language": "python",
     "metadata": {},
     "outputs": [
      {
       "output_type": "stream",
       "stream": "stdout",
       "text": [
        "(bookmark:root) -> /Users/lolo/Dropbox/science/MotionClouds/posts\n",
        "/Users/lolo/Dropbox/science/MotionClouds/posts\n"
       ]
      }
     ],
     "prompt_number": 12
    },
    {
     "cell_type": "code",
     "collapsed": false,
     "input": [],
     "language": "python",
     "metadata": {},
     "outputs": [],
     "prompt_number": 12
    }
   ],
   "metadata": {}
  }
 ]
}