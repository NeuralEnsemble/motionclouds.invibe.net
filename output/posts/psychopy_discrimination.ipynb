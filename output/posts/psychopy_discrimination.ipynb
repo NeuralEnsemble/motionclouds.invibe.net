{
 "metadata": {
  "name": "",
  "signature": "sha256:0cb9b8ecf91515cdc67c527712112368d3f9ac1562697304f05c0f55e1244a37"
 },
 "nbformat": 3,
 "nbformat_minor": 0,
 "worksheets": [
  {
   "cells": [
    {
     "cell_type": "heading",
     "level": 1,
     "metadata": {},
     "source": [
      "Analysis of a discrimination experiment"
     ]
    },
    {
     "cell_type": "markdown",
     "metadata": {},
     "source": [
      "In the ``psychopy_discrimination.py`` script, we implemented an experiment to test whether the overall shape of motion clouds could influence discrimination of speed."
     ]
    },
    {
     "cell_type": "markdown",
     "metadata": {},
     "source": [
      "Herein, we analyse the data that was collected over different sessions and try to draw some conclusions."
     ]
    },
    {
     "cell_type": "code",
     "collapsed": false,
     "input": [
      "import numpy as np\n",
      "np.set_printoptions(precision=3, suppress=True)\n",
      "import pylab\n",
      "import matplotlib.pyplot as plt\n",
      "%matplotlib inline"
     ],
     "language": "python",
     "metadata": {},
     "outputs": []
    },
    {
     "cell_type": "heading",
     "level": 2,
     "metadata": {},
     "source": [
      "The experiment"
     ]
    },
    {
     "cell_type": "code",
     "collapsed": false,
     "input": [
      "#%pycat psychopy_discrimination.py"
     ],
     "language": "python",
     "metadata": {},
     "outputs": [],
     "prompt_number": 6
    },
    {
     "cell_type": "heading",
     "level": 2,
     "metadata": {},
     "source": [
      "Analysis - version 1"
     ]
    },
    {
     "cell_type": "markdown",
     "metadata": {},
     "source": [
      "In a first version of the experiment, we only stored the results in a numpy file."
     ]
    },
    {
     "cell_type": "code",
     "collapsed": false,
     "input": [
      "!ls  data/discriminating_*"
     ],
     "language": "python",
     "metadata": {},
     "outputs": [
      {
       "output_type": "stream",
       "stream": "stdout",
       "text": [
        "data/discriminating_john_Jan_23_1515.npy  data/discriminating_lup_Jan_23_1401.npy  data/discriminating_lup_Jan_24_0914.npy  data/discriminating_lup_Jan_24_0931.npy  data/discriminating_v2_lup_Feb_07_1409.pickle\r\n",
        "data/discriminating_lup.pickle\t\t  data/discriminating_lup_Jan_23_1735.npy  data/discriminating_lup_Jan_24_0919.npy  data/discriminating_lup_Jan_24_0937.npy  data/discriminating_v2_lup_Feb_07_1434.pickle\r\n"
       ]
      }
     ],
     "prompt_number": 7
    },
    {
     "cell_type": "code",
     "collapsed": false,
     "input": [
      "import glob\n",
      "for fn in glob.glob('data/discriminating_*npy'):\n",
      "    results = np.load(fn)\n",
      "    print fn, results.shape\n",
      "    print('analyzing results')\n",
      "    print '# of trials :', numpy.abs(results).sum(axis=1)\n",
      "    print 'average results: ', (results.sum(axis=1)/numpy.abs(results).sum(axis=1)*.5+.5)"
     ],
     "language": "python",
     "metadata": {},
     "outputs": [
      {
       "output_type": "stream",
       "stream": "stdout",
       "text": [
        "data/discriminating_john_Jan_23_1515.npy (2, 50)\n",
        "analyzing results\n",
        "# of trials : [ 50.          24.50835188]\n",
        "average results:  [ 0.48  1.  ]\n",
        "data/discriminating_lup_Jan_23_1401.npy (2, 50)\n",
        "analyzing results\n",
        "# of trials : [ 50.          28.12570981]\n",
        "average results:  [ 0.66  1.  ]\n",
        "data/discriminating_lup_Jan_23_1735.npy (3, 50)\n",
        "analyzing results\n",
        "# of trials : [  9.  14.  13.]\n",
        "average results:  [ 1.  1.  1.]\n",
        "data/discriminating_lup_Jan_24_0914.npy (3, 50)\n",
        "analyzing results\n",
        "# of trials : [ 17.  21.  12.]\n",
        "average results:  [ 0.64705882  0.85714286  1.        ]\n",
        "data/discriminating_lup_Jan_24_0919.npy (3, 50)\n",
        "analyzing results\n",
        "# of trials : [ 10.  25.  15.]\n",
        "average results:  [ 0.7         0.32        0.53333333]\n",
        "data/discriminating_lup_Jan_24_0931.npy (7, 50)\n",
        "analyzing results\n",
        "# of trials : [  3.   4.   8.   8.   7.  12.   8.]\n",
        "average results:  [ 0.66666667  1.          0.625       0.375       1.          0.16666667\n",
        "  0.125     ]\n",
        "data/discriminating_lup_Jan_24_0937.npy (7, 50)\n",
        "analyzing results\n",
        "# of trials : [  7.   5.   6.  12.  10.   2.   8.]\n",
        "average results:  [ 0.85714286  0.8         0.83333333  0.41666667  0.2         1.          0.375     ]\n"
       ]
      }
     ],
     "prompt_number": 8
    },
    {
     "cell_type": "code",
     "collapsed": false,
     "input": [
      "%whos"
     ],
     "language": "python",
     "metadata": {},
     "outputs": [
      {
       "output_type": "stream",
       "stream": "stdout",
       "text": [
        "Variable   Type       Data/Info\n",
        "-------------------------------\n",
        "fn         str        data/discriminating_lup_Jan_24_0937.npy\n",
        "glob       module     <module 'glob' from '/usr<...>/lib/python2.7/glob.pyc'>\n",
        "results    ndarray    7x50: 350 elems, type `float64`, 2800 bytes\n"
       ]
      }
     ],
     "prompt_number": 9
    },
    {
     "cell_type": "markdown",
     "metadata": {},
     "source": [
      "Another solution is to use:"
     ]
    },
    {
     "cell_type": "code",
     "collapsed": false,
     "input": [
      "data= 1\n",
      "np.savez('toto', data=data, results=results)\n",
      "print np.load('toto.npz')['data']"
     ],
     "language": "python",
     "metadata": {},
     "outputs": [
      {
       "output_type": "stream",
       "stream": "stdout",
       "text": [
        "1\n"
       ]
      }
     ],
     "prompt_number": 10
    },
    {
     "cell_type": "markdown",
     "metadata": {},
     "source": [
      "or directly ``psychopy.misc``:"
     ]
    },
    {
     "cell_type": "code",
     "collapsed": false,
     "input": [
      "from psychopy import misc"
     ],
     "language": "python",
     "metadata": {},
     "outputs": [],
     "prompt_number": 11
    },
    {
     "cell_type": "code",
     "collapsed": false,
     "input": [
      "info = misc.fromFile('data/discriminating.pickle')"
     ],
     "language": "python",
     "metadata": {},
     "outputs": [],
     "prompt_number": 12
    },
    {
     "cell_type": "code",
     "collapsed": false,
     "input": [
      "alphas = [-1., -.5, 0., 0.5, 1., 1.5, 2.]\n",
      "fileName = 'data/discriminating_' + info['observer'] + '.pickle'\n",
      "info['alphas'] = alphas\n",
      "info['results'] = results\n",
      "#numpy.savez(fileName, results=results, alphas=alphas)\n",
      "misc.toFile(fileName, info)"
     ],
     "language": "python",
     "metadata": {},
     "outputs": [],
     "prompt_number": 13
    },
    {
     "cell_type": "heading",
     "level": 2,
     "metadata": {},
     "source": [
      "Analysis - version 2"
     ]
    },
    {
     "cell_type": "markdown",
     "metadata": {},
     "source": [
      "In the second version, we stored more data:"
     ]
    },
    {
     "cell_type": "code",
     "collapsed": false,
     "input": [
      "import glob\n",
      "from psychopy import misc\n",
      "fig = plt.figure()\n",
      "ax = fig.add_subplot(111)\n",
      "for fn in glob.glob('data/discriminating_v2_*pickle'):\n",
      "    data = misc.fromFile(fn)\n",
      "    print fn, results.shape\n",
      "    print('analyzing results')\n",
      "    alphas = np.array(data['alphas'])\n",
      "    print ' alphas = ', alphas\n",
      "    print '# of trials :', numpy.abs(data['results']).sum(axis=1)\n",
      "    print 'average results: ', (data['results'].sum(axis=1)/numpy.abs(data['results']).sum(axis=1)*.5+.5)\n",
      "    width = (alphas.max()-alphas.min())/len(alphas)\n",
      "    ax.bar(data['alphas'] - width/2, (data['results'].sum(axis=1)/numpy.abs(data['results']).sum(axis=1)*.5+.5), width=width, alpha=.3 )\n",
      "#    for i_trial in xrange(data['results'].shape[1]):\n",
      "#        ax.scatter(data['alphas'][data['results']\n",
      "ax.set_xlabel('alpha')\n",
      "ax.set_ylabel('% correct')\n"
     ],
     "language": "python",
     "metadata": {},
     "outputs": [
      {
       "output_type": "stream",
       "stream": "stdout",
       "text": [
        "data/discriminating_v2_lup_Feb_07_1409.pickle (7, 50)\n",
        "analyzing results\n",
        " alphas =  [-1.  -0.5  0.   0.5  1.   1.5  2. ]\n",
        "# of trials : [ 10.   4.   5.  11.   6.  11.   3.]\n",
        "average results:  [ 0.7         1.          0.4         0.54545455  0.83333333  0.27272727\n",
        "  1.        ]\n",
        "data/discriminating_v2_lup_Feb_07_1434.pickle (7, 50)\n",
        "analyzing results\n",
        " alphas =  [-1.  -0.5  0.   0.5  1.   1.5  2. ]\n",
        "# of trials : [  4.   3.  10.  12.   8.   8.   5.]\n",
        "average results:  [ 0.75        0.66666667  0.8         0.5         0.125       0.25        0.4       ]\n"
       ]
      },
      {
       "metadata": {},
       "output_type": "pyout",
       "prompt_number": 14,
       "text": [
        "<matplotlib.text.Text at 0x10f75e850>"
       ]
      },
      {
       "metadata": {},
       "output_type": "display_data",
       "png": "[encoded data removed]",
       "text": [
        "<matplotlib.figure.Figure at 0x10f755390>"
       ]
      }
     ],
     "prompt_number": 14
    },
    {
     "cell_type": "code",
     "collapsed": false,
     "input": [
      "# TODO : correct for the number of trials / make global reading / make a new draw of alphas\n",
      "# TODO : test f_0"
     ],
     "language": "python",
     "metadata": {},
     "outputs": [],
     "prompt_number": 16
    },
    {
     "cell_type": "code",
     "collapsed": false,
     "input": [
      "\n"
     ],
     "language": "python",
     "metadata": {},
     "outputs": [],
     "prompt_number": 15
    }
   ],
   "metadata": {}
  }
 ]
}